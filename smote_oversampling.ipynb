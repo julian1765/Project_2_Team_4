{
 "cells": [
  {
   "cell_type": "code",
   "execution_count": 48,
   "metadata": {},
   "outputs": [
    {
     "name": "stderr",
     "output_type": "stream",
     "text": [
      "[nltk_data] Downloading package stopwords to\n",
      "[nltk_data]     C:\\Users\\julia\\AppData\\Roaming\\nltk_data...\n",
      "[nltk_data]   Package stopwords is already up-to-date!\n"
     ]
    }
   ],
   "source": [
    "from sklearn.preprocessing import LabelEncoder\n",
    "import pandas as pd\n",
    "import numpy as np\n",
    "from pathlib import Path\n",
    "import regex as re\n",
    "import nltk\n",
    "from datetime import date\n",
    "import twint\n",
    "import nest_asyncio\n",
    "import tensorflow as tf\n",
    "nest_asyncio.apply()\n",
    "nltk.download('stopwords')\n",
    "\n",
    "%matplotlib inline"
   ]
  },
  {
   "cell_type": "code",
   "execution_count": 49,
   "metadata": {},
   "outputs": [],
   "source": [
    "# Set the random seed for reproducibility\n",
    "from numpy.random import seed\n",
    "seed(1)\n",
    "\n",
    "from tensorflow import random\n",
    "random.set_seed(2)"
   ]
  },
  {
   "cell_type": "code",
   "execution_count": 50,
   "metadata": {},
   "outputs": [],
   "source": [
    "# Data crawling using Twint\n",
    "import twint\n",
    "import nest_asyncio\n",
    "nest_asyncio.apply()\n",
    "\n",
    "import datetime\n",
    "\n",
    "# Fetch data in a example data frame: 2020-04-14 00:00:00 to 2020-04-14 00:30:00\n",
    "\n",
    "start_time='2020-01-01 00:00:00'\n",
    "\n",
    "c = twint.Config()\n",
    "c.Search = \"microsoft\"\n",
    "c.Lang=\"en\"\n",
    "c.Since= start_time\n",
    "c.Limit = 5000\n",
    "c.Pandas = True\n",
    "c.Store_csv = True\n",
    "c.Retries_count = 20\n",
    "c.Hide_output = True\n",
    "c.Custom[\"tweet\"] = [\"id\", \"date\", \"time\", \"tweet\", \"retweets_count\", \"likes_count\"]\n",
    "c.Resume = \"./test.session\"\n",
    "c.Output = \"./test.csv\"\n",
    "twint.run.Search(c)"
   ]
  },
  {
   "cell_type": "code",
   "execution_count": 51,
   "metadata": {},
   "outputs": [
    {
     "data": {
      "text/html": [
       "<div>\n",
       "<style scoped>\n",
       "    .dataframe tbody tr th:only-of-type {\n",
       "        vertical-align: middle;\n",
       "    }\n",
       "\n",
       "    .dataframe tbody tr th {\n",
       "        vertical-align: top;\n",
       "    }\n",
       "\n",
       "    .dataframe thead th {\n",
       "        text-align: right;\n",
       "    }\n",
       "</style>\n",
       "<table border=\"1\" class=\"dataframe\">\n",
       "  <thead>\n",
       "    <tr style=\"text-align: right;\">\n",
       "      <th></th>\n",
       "      <th>date_time</th>\n",
       "      <th>id</th>\n",
       "      <th>tweet</th>\n",
       "      <th>retweets_count</th>\n",
       "      <th>likes_count</th>\n",
       "    </tr>\n",
       "  </thead>\n",
       "  <tbody>\n",
       "    <tr>\n",
       "      <th>0</th>\n",
       "      <td>2021-01-19 20:55:16</td>\n",
       "      <td>1351709850380587008</td>\n",
       "      <td>Microsoft partners with GM subsidiary Cruise o...</td>\n",
       "      <td>0</td>\n",
       "      <td>0</td>\n",
       "    </tr>\n",
       "    <tr>\n",
       "      <th>1</th>\n",
       "      <td>2021-01-19 20:55:03</td>\n",
       "      <td>1351709796534255617</td>\n",
       "      <td>Xbox support is so fucking useless thanks for ...</td>\n",
       "      <td>0</td>\n",
       "      <td>0</td>\n",
       "    </tr>\n",
       "    <tr>\n",
       "      <th>2</th>\n",
       "      <td>2021-01-19 20:54:55</td>\n",
       "      <td>1351709762405216258</td>\n",
       "      <td>Thank God I remembered Xbox has Microsoft Edge...</td>\n",
       "      <td>0</td>\n",
       "      <td>1</td>\n",
       "    </tr>\n",
       "    <tr>\n",
       "      <th>3</th>\n",
       "      <td>2021-01-19 20:54:55</td>\n",
       "      <td>1351709760047878144</td>\n",
       "      <td>Mana nak dapat Microsoft Access woii😫😫</td>\n",
       "      <td>0</td>\n",
       "      <td>0</td>\n",
       "    </tr>\n",
       "    <tr>\n",
       "      <th>4</th>\n",
       "      <td>2021-01-19 20:54:52</td>\n",
       "      <td>1351709749641965571</td>\n",
       "      <td>Anybody else wonder why noone has started a ma...</td>\n",
       "      <td>0</td>\n",
       "      <td>0</td>\n",
       "    </tr>\n",
       "  </tbody>\n",
       "</table>\n",
       "</div>"
      ],
      "text/plain": [
       "            date_time                   id  \\\n",
       "0 2021-01-19 20:55:16  1351709850380587008   \n",
       "1 2021-01-19 20:55:03  1351709796534255617   \n",
       "2 2021-01-19 20:54:55  1351709762405216258   \n",
       "3 2021-01-19 20:54:55  1351709760047878144   \n",
       "4 2021-01-19 20:54:52  1351709749641965571   \n",
       "\n",
       "                                               tweet  retweets_count  \\\n",
       "0  Microsoft partners with GM subsidiary Cruise o...               0   \n",
       "1  Xbox support is so fucking useless thanks for ...               0   \n",
       "2  Thank God I remembered Xbox has Microsoft Edge...               0   \n",
       "3             Mana nak dapat Microsoft Access woii😫😫               0   \n",
       "4  Anybody else wonder why noone has started a ma...               0   \n",
       "\n",
       "   likes_count  \n",
       "0            0  \n",
       "1            0  \n",
       "2            1  \n",
       "3            0  \n",
       "4            0  "
      ]
     },
     "execution_count": 51,
     "metadata": {},
     "output_type": "execute_result"
    }
   ],
   "source": [
    "file_path = 'test.csv'\n",
    "df = pd.read_csv(file_path, parse_dates=[['date','time']], infer_datetime_format=True)\n",
    "df.head()"
   ]
  },
  {
   "cell_type": "code",
   "execution_count": 52,
   "metadata": {},
   "outputs": [
    {
     "name": "stderr",
     "output_type": "stream",
     "text": [
      "[nltk_data] Downloading package vader_lexicon to\n",
      "[nltk_data]     C:\\Users\\julia\\AppData\\Roaming\\nltk_data...\n",
      "[nltk_data]   Package vader_lexicon is already up-to-date!\n"
     ]
    },
    {
     "data": {
      "text/html": [
       "<div>\n",
       "<style scoped>\n",
       "    .dataframe tbody tr th:only-of-type {\n",
       "        vertical-align: middle;\n",
       "    }\n",
       "\n",
       "    .dataframe tbody tr th {\n",
       "        vertical-align: top;\n",
       "    }\n",
       "\n",
       "    .dataframe thead th {\n",
       "        text-align: right;\n",
       "    }\n",
       "</style>\n",
       "<table border=\"1\" class=\"dataframe\">\n",
       "  <thead>\n",
       "    <tr style=\"text-align: right;\">\n",
       "      <th></th>\n",
       "      <th>Compound</th>\n",
       "      <th>Negative</th>\n",
       "      <th>Neutral</th>\n",
       "      <th>Positive</th>\n",
       "      <th>date_time</th>\n",
       "      <th>id</th>\n",
       "      <th>tweet</th>\n",
       "      <th>retweets_count</th>\n",
       "      <th>likes_count</th>\n",
       "    </tr>\n",
       "  </thead>\n",
       "  <tbody>\n",
       "    <tr>\n",
       "      <th>0</th>\n",
       "      <td>0.0000</td>\n",
       "      <td>0.000</td>\n",
       "      <td>1.000</td>\n",
       "      <td>0.000</td>\n",
       "      <td>2021-01-19 20:55:16</td>\n",
       "      <td>1351709850380587008</td>\n",
       "      <td>Microsoft partners with GM subsidiary Cruise o...</td>\n",
       "      <td>0</td>\n",
       "      <td>0</td>\n",
       "    </tr>\n",
       "    <tr>\n",
       "      <th>1</th>\n",
       "      <td>0.8612</td>\n",
       "      <td>0.108</td>\n",
       "      <td>0.574</td>\n",
       "      <td>0.319</td>\n",
       "      <td>2021-01-19 20:55:03</td>\n",
       "      <td>1351709796534255617</td>\n",
       "      <td>Xbox support is so fucking useless thanks for ...</td>\n",
       "      <td>0</td>\n",
       "      <td>0</td>\n",
       "    </tr>\n",
       "    <tr>\n",
       "      <th>2</th>\n",
       "      <td>0.7269</td>\n",
       "      <td>0.000</td>\n",
       "      <td>0.738</td>\n",
       "      <td>0.262</td>\n",
       "      <td>2021-01-19 20:54:55</td>\n",
       "      <td>1351709762405216258</td>\n",
       "      <td>Thank God I remembered Xbox has Microsoft Edge...</td>\n",
       "      <td>0</td>\n",
       "      <td>1</td>\n",
       "    </tr>\n",
       "    <tr>\n",
       "      <th>3</th>\n",
       "      <td>0.0000</td>\n",
       "      <td>0.000</td>\n",
       "      <td>1.000</td>\n",
       "      <td>0.000</td>\n",
       "      <td>2021-01-19 20:54:55</td>\n",
       "      <td>1351709760047878144</td>\n",
       "      <td>Mana nak dapat Microsoft Access woii😫😫</td>\n",
       "      <td>0</td>\n",
       "      <td>0</td>\n",
       "    </tr>\n",
       "    <tr>\n",
       "      <th>4</th>\n",
       "      <td>-0.4753</td>\n",
       "      <td>0.072</td>\n",
       "      <td>0.928</td>\n",
       "      <td>0.000</td>\n",
       "      <td>2021-01-19 20:54:52</td>\n",
       "      <td>1351709749641965571</td>\n",
       "      <td>Anybody else wonder why noone has started a ma...</td>\n",
       "      <td>0</td>\n",
       "      <td>0</td>\n",
       "    </tr>\n",
       "  </tbody>\n",
       "</table>\n",
       "</div>"
      ],
      "text/plain": [
       "   Compound  Negative  Neutral  Positive           date_time  \\\n",
       "0    0.0000     0.000    1.000     0.000 2021-01-19 20:55:16   \n",
       "1    0.8612     0.108    0.574     0.319 2021-01-19 20:55:03   \n",
       "2    0.7269     0.000    0.738     0.262 2021-01-19 20:54:55   \n",
       "3    0.0000     0.000    1.000     0.000 2021-01-19 20:54:55   \n",
       "4   -0.4753     0.072    0.928     0.000 2021-01-19 20:54:52   \n",
       "\n",
       "                    id                                              tweet  \\\n",
       "0  1351709850380587008  Microsoft partners with GM subsidiary Cruise o...   \n",
       "1  1351709796534255617  Xbox support is so fucking useless thanks for ...   \n",
       "2  1351709762405216258  Thank God I remembered Xbox has Microsoft Edge...   \n",
       "3  1351709760047878144             Mana nak dapat Microsoft Access woii😫😫   \n",
       "4  1351709749641965571  Anybody else wonder why noone has started a ma...   \n",
       "\n",
       "   retweets_count  likes_count  \n",
       "0               0            0  \n",
       "1               0            0  \n",
       "2               0            1  \n",
       "3               0            0  \n",
       "4               0            0  "
      ]
     },
     "execution_count": 52,
     "metadata": {},
     "output_type": "execute_result"
    }
   ],
   "source": [
    "import nltk\n",
    "nltk.download('vader_lexicon')\n",
    "from nltk.sentiment.vader import SentimentIntensityAnalyzer\n",
    "from nltk.stem import WordNetLemmatizer \n",
    "\n",
    "analyzer = SentimentIntensityAnalyzer()\n",
    "text_sent = {'Compound':[],\n",
    "                 'Negative':[],\n",
    "                 'Neutral':[],\n",
    "                 'Positive':[]}\n",
    "# Get sentiment from articles\n",
    "for index, row in df.iterrows():\n",
    "    try:\n",
    "        text_sentiment = analyzer.polarity_scores(row[\"tweet\"])\n",
    "        text_sent[\"Compound\"].append(text_sentiment[\"compound\"])\n",
    "        text_sent[\"Negative\"].append(text_sentiment[\"neg\"])\n",
    "        text_sent[\"Neutral\"].append(text_sentiment[\"neu\"])\n",
    "        text_sent[\"Positive\"].append(text_sentiment[\"pos\"])\n",
    "        #text_sent[\"text_sent\"].append(get_sentiment(text_sentiment[\"compound\"]))\n",
    "    except AttributeError:\n",
    "        pass\n",
    "# Add the newly created scores to the previously created bitcoin dataframe\n",
    "text_sent_df = pd.DataFrame(text_sent)\n",
    "test_sentiment = text_sent_df.join(df)\n",
    "test_sentiment.head()"
   ]
  },
  {
   "cell_type": "code",
   "execution_count": 54,
   "metadata": {},
   "outputs": [
    {
     "data": {
      "text/html": [
       "<div>\n",
       "<style scoped>\n",
       "    .dataframe tbody tr th:only-of-type {\n",
       "        vertical-align: middle;\n",
       "    }\n",
       "\n",
       "    .dataframe tbody tr th {\n",
       "        vertical-align: top;\n",
       "    }\n",
       "\n",
       "    .dataframe thead th {\n",
       "        text-align: right;\n",
       "    }\n",
       "</style>\n",
       "<table border=\"1\" class=\"dataframe\">\n",
       "  <thead>\n",
       "    <tr style=\"text-align: right;\">\n",
       "      <th></th>\n",
       "      <th>Compound</th>\n",
       "      <th>Negative</th>\n",
       "      <th>Neutral</th>\n",
       "      <th>Positive</th>\n",
       "      <th>date_time</th>\n",
       "      <th>id</th>\n",
       "      <th>tweet</th>\n",
       "      <th>retweets_count</th>\n",
       "      <th>likes_count</th>\n",
       "      <th>Sentiment_Score</th>\n",
       "    </tr>\n",
       "  </thead>\n",
       "  <tbody>\n",
       "    <tr>\n",
       "      <th>0</th>\n",
       "      <td>0.0000</td>\n",
       "      <td>0.000</td>\n",
       "      <td>1.000</td>\n",
       "      <td>0.000</td>\n",
       "      <td>2021-01-19 20:55:16</td>\n",
       "      <td>1351709850380587008</td>\n",
       "      <td>Microsoft partners with GM subsidiary Cruise o...</td>\n",
       "      <td>0</td>\n",
       "      <td>0</td>\n",
       "      <td>0.0</td>\n",
       "    </tr>\n",
       "    <tr>\n",
       "      <th>1</th>\n",
       "      <td>0.8612</td>\n",
       "      <td>0.108</td>\n",
       "      <td>0.574</td>\n",
       "      <td>0.319</td>\n",
       "      <td>2021-01-19 20:55:03</td>\n",
       "      <td>1351709796534255617</td>\n",
       "      <td>Xbox support is so fucking useless thanks for ...</td>\n",
       "      <td>0</td>\n",
       "      <td>0</td>\n",
       "      <td>1.0</td>\n",
       "    </tr>\n",
       "    <tr>\n",
       "      <th>2</th>\n",
       "      <td>0.7269</td>\n",
       "      <td>0.000</td>\n",
       "      <td>0.738</td>\n",
       "      <td>0.262</td>\n",
       "      <td>2021-01-19 20:54:55</td>\n",
       "      <td>1351709762405216258</td>\n",
       "      <td>Thank God I remembered Xbox has Microsoft Edge...</td>\n",
       "      <td>0</td>\n",
       "      <td>1</td>\n",
       "      <td>1.0</td>\n",
       "    </tr>\n",
       "    <tr>\n",
       "      <th>3</th>\n",
       "      <td>0.0000</td>\n",
       "      <td>0.000</td>\n",
       "      <td>1.000</td>\n",
       "      <td>0.000</td>\n",
       "      <td>2021-01-19 20:54:55</td>\n",
       "      <td>1351709760047878144</td>\n",
       "      <td>Mana nak dapat Microsoft Access woii😫😫</td>\n",
       "      <td>0</td>\n",
       "      <td>0</td>\n",
       "      <td>0.0</td>\n",
       "    </tr>\n",
       "    <tr>\n",
       "      <th>4</th>\n",
       "      <td>-0.4753</td>\n",
       "      <td>0.072</td>\n",
       "      <td>0.928</td>\n",
       "      <td>0.000</td>\n",
       "      <td>2021-01-19 20:54:52</td>\n",
       "      <td>1351709749641965571</td>\n",
       "      <td>Anybody else wonder why noone has started a ma...</td>\n",
       "      <td>0</td>\n",
       "      <td>0</td>\n",
       "      <td>-1.0</td>\n",
       "    </tr>\n",
       "  </tbody>\n",
       "</table>\n",
       "</div>"
      ],
      "text/plain": [
       "   Compound  Negative  Neutral  Positive           date_time  \\\n",
       "0    0.0000     0.000    1.000     0.000 2021-01-19 20:55:16   \n",
       "1    0.8612     0.108    0.574     0.319 2021-01-19 20:55:03   \n",
       "2    0.7269     0.000    0.738     0.262 2021-01-19 20:54:55   \n",
       "3    0.0000     0.000    1.000     0.000 2021-01-19 20:54:55   \n",
       "4   -0.4753     0.072    0.928     0.000 2021-01-19 20:54:52   \n",
       "\n",
       "                    id                                              tweet  \\\n",
       "0  1351709850380587008  Microsoft partners with GM subsidiary Cruise o...   \n",
       "1  1351709796534255617  Xbox support is so fucking useless thanks for ...   \n",
       "2  1351709762405216258  Thank God I remembered Xbox has Microsoft Edge...   \n",
       "3  1351709760047878144             Mana nak dapat Microsoft Access woii😫😫   \n",
       "4  1351709749641965571  Anybody else wonder why noone has started a ma...   \n",
       "\n",
       "   retweets_count  likes_count  Sentiment_Score  \n",
       "0               0            0              0.0  \n",
       "1               0            0              1.0  \n",
       "2               0            1              1.0  \n",
       "3               0            0              0.0  \n",
       "4               0            0             -1.0  "
      ]
     },
     "execution_count": 54,
     "metadata": {},
     "output_type": "execute_result"
    }
   ],
   "source": [
    "test_sentiment['Sentiment_Score'] = np.nan\n",
    "test_sentiment.loc[test_sentiment['Compound'] >= 0.05, 'Sentiment_Score'] = 1\n",
    "test_sentiment.loc[test_sentiment['Compound'] <= - 0.05, 'Sentiment_Score'] = -1\n",
    "test_sentiment.loc[(test_sentiment['Compound'] < 0.05) & (test_sentiment['Compound'] > -0.05), 'Sentiment_Score']= 0\n",
    "test_sentiment.head()"
   ]
  },
  {
   "cell_type": "code",
   "execution_count": 55,
   "metadata": {},
   "outputs": [
    {
     "data": {
      "text/html": [
       "<div>\n",
       "<style scoped>\n",
       "    .dataframe tbody tr th:only-of-type {\n",
       "        vertical-align: middle;\n",
       "    }\n",
       "\n",
       "    .dataframe tbody tr th {\n",
       "        vertical-align: top;\n",
       "    }\n",
       "\n",
       "    .dataframe thead th {\n",
       "        text-align: right;\n",
       "    }\n",
       "</style>\n",
       "<table border=\"1\" class=\"dataframe\">\n",
       "  <thead>\n",
       "    <tr style=\"text-align: right;\">\n",
       "      <th></th>\n",
       "      <th>Compound</th>\n",
       "      <th>Negative</th>\n",
       "      <th>Neutral</th>\n",
       "      <th>Positive</th>\n",
       "      <th>date_time</th>\n",
       "      <th>id</th>\n",
       "      <th>tweet</th>\n",
       "      <th>retweets_count</th>\n",
       "      <th>likes_count</th>\n",
       "      <th>Sentiment_Score</th>\n",
       "    </tr>\n",
       "  </thead>\n",
       "  <tbody>\n",
       "    <tr>\n",
       "      <th>65755</th>\n",
       "      <td>0.0</td>\n",
       "      <td>0.0</td>\n",
       "      <td>1.0</td>\n",
       "      <td>0.0</td>\n",
       "      <td>2021-01-15 02:53:57</td>\n",
       "      <td>1349988176828395520</td>\n",
       "      <td>MicrosoftやOracleが「ワクチン接種パスポート」アプリの開発を計画中だと発表 -...</td>\n",
       "      <td>0</td>\n",
       "      <td>0</td>\n",
       "      <td>Neutral</td>\n",
       "    </tr>\n",
       "    <tr>\n",
       "      <th>65756</th>\n",
       "      <td>0.0</td>\n",
       "      <td>0.0</td>\n",
       "      <td>1.0</td>\n",
       "      <td>0.0</td>\n",
       "      <td>2021-01-15 02:53:57</td>\n",
       "      <td>1349988175947546626</td>\n",
       "      <td>「Microsoft 365」に保存可能なファイルサイズが250GBに ～現行の100GBか...</td>\n",
       "      <td>0</td>\n",
       "      <td>0</td>\n",
       "      <td>Neutral</td>\n",
       "    </tr>\n",
       "    <tr>\n",
       "      <th>65757</th>\n",
       "      <td>0.0</td>\n",
       "      <td>0.0</td>\n",
       "      <td>1.0</td>\n",
       "      <td>0.0</td>\n",
       "      <td>2021-01-15 02:53:55</td>\n",
       "      <td>1349988169136017410</td>\n",
       "      <td>いいぞもっとやれ 株主より  新型コロナ: 世界共通「ワクチン接種証明書」　Microsof...</td>\n",
       "      <td>0</td>\n",
       "      <td>6</td>\n",
       "      <td>Neutral</td>\n",
       "    </tr>\n",
       "    <tr>\n",
       "      <th>65758</th>\n",
       "      <td>0.0</td>\n",
       "      <td>0.0</td>\n",
       "      <td>1.0</td>\n",
       "      <td>0.0</td>\n",
       "      <td>2021-01-15 02:53:52</td>\n",
       "      <td>1349988154418327552</td>\n",
       "      <td>@Kapel_ao @Faraon_Bioshock @el_tijuana23 @Xbox...</td>\n",
       "      <td>0</td>\n",
       "      <td>0</td>\n",
       "      <td>Neutral</td>\n",
       "    </tr>\n",
       "    <tr>\n",
       "      <th>65759</th>\n",
       "      <td>0.0</td>\n",
       "      <td>0.0</td>\n",
       "      <td>1.0</td>\n",
       "      <td>0.0</td>\n",
       "      <td>2021-01-15 02:53:35</td>\n",
       "      <td>1349988083937144832</td>\n",
       "      <td>Microsoftの新OS「Windows 10X」のほぼ最終版がリーク、Chrome OS...</td>\n",
       "      <td>0</td>\n",
       "      <td>0</td>\n",
       "      <td>Neutral</td>\n",
       "    </tr>\n",
       "  </tbody>\n",
       "</table>\n",
       "</div>"
      ],
      "text/plain": [
       "       Compound  Negative  Neutral  Positive           date_time  \\\n",
       "65755       0.0       0.0      1.0       0.0 2021-01-15 02:53:57   \n",
       "65756       0.0       0.0      1.0       0.0 2021-01-15 02:53:57   \n",
       "65757       0.0       0.0      1.0       0.0 2021-01-15 02:53:55   \n",
       "65758       0.0       0.0      1.0       0.0 2021-01-15 02:53:52   \n",
       "65759       0.0       0.0      1.0       0.0 2021-01-15 02:53:35   \n",
       "\n",
       "                        id                                              tweet  \\\n",
       "65755  1349988176828395520  MicrosoftやOracleが「ワクチン接種パスポート」アプリの開発を計画中だと発表 -...   \n",
       "65756  1349988175947546626  「Microsoft 365」に保存可能なファイルサイズが250GBに ～現行の100GBか...   \n",
       "65757  1349988169136017410  いいぞもっとやれ 株主より  新型コロナ: 世界共通「ワクチン接種証明書」　Microsof...   \n",
       "65758  1349988154418327552  @Kapel_ao @Faraon_Bioshock @el_tijuana23 @Xbox...   \n",
       "65759  1349988083937144832  Microsoftの新OS「Windows 10X」のほぼ最終版がリーク、Chrome OS...   \n",
       "\n",
       "       retweets_count  likes_count Sentiment_Score  \n",
       "65755               0            0         Neutral  \n",
       "65756               0            0         Neutral  \n",
       "65757               0            6         Neutral  \n",
       "65758               0            0         Neutral  \n",
       "65759               0            0         Neutral  "
      ]
     },
     "execution_count": 55,
     "metadata": {},
     "output_type": "execute_result"
    }
   ],
   "source": [
    "# Convert [-1, 0, 1] to [negative, neutral, and positive]\n",
    "\n",
    "# Negative\n",
    "test_sentiment.loc[test_sentiment['Sentiment_Score'] == -1, 'Sentiment_Score'] = 'Negative'\n",
    "\n",
    "# Neutral\n",
    "\n",
    "test_sentiment.loc[test_sentiment['Sentiment_Score'] == 0, 'Sentiment_Score'] = 'Neutral'\n",
    "\n",
    "# Postive\n",
    "test_sentiment.loc[test_sentiment['Sentiment_Score'] == 1, 'Sentiment_Score'] = 'Positive'\n",
    "\n",
    "# View Into DataFrame\n",
    "test_sentiment.tail()"
   ]
  },
  {
   "cell_type": "code",
   "execution_count": 56,
   "metadata": {},
   "outputs": [],
   "source": [
    "# Clean the Text Function\n",
    "REPLACE_BY_SPACE_RE = re.compile('[/(){}\\[\\]\\|@,;]')\n",
    "BAD_SYMBOLS_RE = re.compile('[^0-9a-z #+_]')\n",
    "\n",
    "\n",
    "def clean_text(text):\n",
    "  text = text.lower() # lowercase text\n",
    "  text = REPLACE_BY_SPACE_RE.sub(' ', text) # replace REPLACE_BY_SPACE_RE symbols by space in text. substitute the matched string in REPLACE_BY_SPACE_RE with space.\n",
    "  text = BAD_SYMBOLS_RE.sub('', text) # remove symbols which are in BAD_SYMBOLS_RE from text. substitute the matched string in BAD_SYMBOLS_RE with nothing. \n",
    "  text = text.replace('x', '')\n",
    " # text = ' '.join(word for word in text.split() if word not in STOPWORDS) # remove stopwors from text\n",
    "  return text"
   ]
  },
  {
   "cell_type": "code",
   "execution_count": 57,
   "metadata": {},
   "outputs": [
    {
     "data": {
      "text/html": [
       "<div>\n",
       "<style scoped>\n",
       "    .dataframe tbody tr th:only-of-type {\n",
       "        vertical-align: middle;\n",
       "    }\n",
       "\n",
       "    .dataframe tbody tr th {\n",
       "        vertical-align: top;\n",
       "    }\n",
       "\n",
       "    .dataframe thead th {\n",
       "        text-align: right;\n",
       "    }\n",
       "</style>\n",
       "<table border=\"1\" class=\"dataframe\">\n",
       "  <thead>\n",
       "    <tr style=\"text-align: right;\">\n",
       "      <th></th>\n",
       "      <th>Compound</th>\n",
       "      <th>Negative</th>\n",
       "      <th>Neutral</th>\n",
       "      <th>Positive</th>\n",
       "      <th>date_time</th>\n",
       "      <th>id</th>\n",
       "      <th>tweet</th>\n",
       "      <th>retweets_count</th>\n",
       "      <th>likes_count</th>\n",
       "      <th>Sentiment_Score</th>\n",
       "    </tr>\n",
       "  </thead>\n",
       "  <tbody>\n",
       "    <tr>\n",
       "      <th>0</th>\n",
       "      <td>0.0000</td>\n",
       "      <td>0.000</td>\n",
       "      <td>1.000</td>\n",
       "      <td>0.000</td>\n",
       "      <td>2021-01-19 20:55:16</td>\n",
       "      <td>1351709850380587008</td>\n",
       "      <td>microsoft partners with gm subsidiary cruise o...</td>\n",
       "      <td>0</td>\n",
       "      <td>0</td>\n",
       "      <td>Neutral</td>\n",
       "    </tr>\n",
       "    <tr>\n",
       "      <th>1</th>\n",
       "      <td>0.8612</td>\n",
       "      <td>0.108</td>\n",
       "      <td>0.574</td>\n",
       "      <td>0.319</td>\n",
       "      <td>2021-01-19 20:55:03</td>\n",
       "      <td>1351709796534255617</td>\n",
       "      <td>bo support is so fucking useless thanks for th...</td>\n",
       "      <td>0</td>\n",
       "      <td>0</td>\n",
       "      <td>Positive</td>\n",
       "    </tr>\n",
       "    <tr>\n",
       "      <th>2</th>\n",
       "      <td>0.7269</td>\n",
       "      <td>0.000</td>\n",
       "      <td>0.738</td>\n",
       "      <td>0.262</td>\n",
       "      <td>2021-01-19 20:54:55</td>\n",
       "      <td>1351709762405216258</td>\n",
       "      <td>thank god i remembered bo has microsoft edge a...</td>\n",
       "      <td>0</td>\n",
       "      <td>1</td>\n",
       "      <td>Positive</td>\n",
       "    </tr>\n",
       "    <tr>\n",
       "      <th>3</th>\n",
       "      <td>0.0000</td>\n",
       "      <td>0.000</td>\n",
       "      <td>1.000</td>\n",
       "      <td>0.000</td>\n",
       "      <td>2021-01-19 20:54:55</td>\n",
       "      <td>1351709760047878144</td>\n",
       "      <td>mana nak dapat microsoft access woii</td>\n",
       "      <td>0</td>\n",
       "      <td>0</td>\n",
       "      <td>Neutral</td>\n",
       "    </tr>\n",
       "    <tr>\n",
       "      <th>4</th>\n",
       "      <td>-0.4753</td>\n",
       "      <td>0.072</td>\n",
       "      <td>0.928</td>\n",
       "      <td>0.000</td>\n",
       "      <td>2021-01-19 20:54:52</td>\n",
       "      <td>1351709749641965571</td>\n",
       "      <td>anybody else wonder why noone has started a ma...</td>\n",
       "      <td>0</td>\n",
       "      <td>0</td>\n",
       "      <td>Negative</td>\n",
       "    </tr>\n",
       "  </tbody>\n",
       "</table>\n",
       "</div>"
      ],
      "text/plain": [
       "   Compound  Negative  Neutral  Positive           date_time  \\\n",
       "0    0.0000     0.000    1.000     0.000 2021-01-19 20:55:16   \n",
       "1    0.8612     0.108    0.574     0.319 2021-01-19 20:55:03   \n",
       "2    0.7269     0.000    0.738     0.262 2021-01-19 20:54:55   \n",
       "3    0.0000     0.000    1.000     0.000 2021-01-19 20:54:55   \n",
       "4   -0.4753     0.072    0.928     0.000 2021-01-19 20:54:52   \n",
       "\n",
       "                    id                                              tweet  \\\n",
       "0  1351709850380587008  microsoft partners with gm subsidiary cruise o...   \n",
       "1  1351709796534255617  bo support is so fucking useless thanks for th...   \n",
       "2  1351709762405216258  thank god i remembered bo has microsoft edge a...   \n",
       "3  1351709760047878144               mana nak dapat microsoft access woii   \n",
       "4  1351709749641965571  anybody else wonder why noone has started a ma...   \n",
       "\n",
       "   retweets_count  likes_count Sentiment_Score  \n",
       "0               0            0         Neutral  \n",
       "1               0            0        Positive  \n",
       "2               0            1        Positive  \n",
       "3               0            0         Neutral  \n",
       "4               0            0        Negative  "
      ]
     },
     "execution_count": 57,
     "metadata": {},
     "output_type": "execute_result"
    }
   ],
   "source": [
    "# Apply the clean text function above\n",
    "test_sentiment['tweet'] = test_sentiment['tweet'].astype(str)\n",
    "test_sentiment['tweet'] = test_sentiment['tweet'].apply(clean_text)\n",
    "test_sentiment['tweet'] = test_sentiment['tweet'].str.replace('\\d+', '')\n",
    "test_sentiment.head()"
   ]
  },
  {
   "cell_type": "code",
   "execution_count": 58,
   "metadata": {},
   "outputs": [
    {
     "data": {
      "text/html": [
       "<div>\n",
       "<style scoped>\n",
       "    .dataframe tbody tr th:only-of-type {\n",
       "        vertical-align: middle;\n",
       "    }\n",
       "\n",
       "    .dataframe tbody tr th {\n",
       "        vertical-align: top;\n",
       "    }\n",
       "\n",
       "    .dataframe thead th {\n",
       "        text-align: right;\n",
       "    }\n",
       "</style>\n",
       "<table border=\"1\" class=\"dataframe\">\n",
       "  <thead>\n",
       "    <tr style=\"text-align: right;\">\n",
       "      <th></th>\n",
       "      <th>Compound</th>\n",
       "      <th>Negative</th>\n",
       "      <th>Neutral</th>\n",
       "      <th>Positive</th>\n",
       "      <th>id</th>\n",
       "      <th>retweets_count</th>\n",
       "      <th>likes_count</th>\n",
       "    </tr>\n",
       "  </thead>\n",
       "  <tbody>\n",
       "    <tr>\n",
       "      <th>count</th>\n",
       "      <td>65760.000000</td>\n",
       "      <td>65760.000000</td>\n",
       "      <td>65760.000000</td>\n",
       "      <td>65760.000000</td>\n",
       "      <td>6.576000e+04</td>\n",
       "      <td>65760.000000</td>\n",
       "      <td>65760.000000</td>\n",
       "    </tr>\n",
       "    <tr>\n",
       "      <th>mean</th>\n",
       "      <td>0.114241</td>\n",
       "      <td>0.033300</td>\n",
       "      <td>0.890748</td>\n",
       "      <td>0.075950</td>\n",
       "      <td>1.350837e+18</td>\n",
       "      <td>1.052479</td>\n",
       "      <td>4.834428</td>\n",
       "    </tr>\n",
       "    <tr>\n",
       "      <th>std</th>\n",
       "      <td>0.370427</td>\n",
       "      <td>0.077305</td>\n",
       "      <td>0.137825</td>\n",
       "      <td>0.117592</td>\n",
       "      <td>5.586549e+14</td>\n",
       "      <td>18.361381</td>\n",
       "      <td>95.778700</td>\n",
       "    </tr>\n",
       "    <tr>\n",
       "      <th>min</th>\n",
       "      <td>-0.982500</td>\n",
       "      <td>0.000000</td>\n",
       "      <td>0.087000</td>\n",
       "      <td>0.000000</td>\n",
       "      <td>1.349988e+18</td>\n",
       "      <td>0.000000</td>\n",
       "      <td>0.000000</td>\n",
       "    </tr>\n",
       "    <tr>\n",
       "      <th>25%</th>\n",
       "      <td>0.000000</td>\n",
       "      <td>0.000000</td>\n",
       "      <td>0.812000</td>\n",
       "      <td>0.000000</td>\n",
       "      <td>1.350263e+18</td>\n",
       "      <td>0.000000</td>\n",
       "      <td>0.000000</td>\n",
       "    </tr>\n",
       "    <tr>\n",
       "      <th>50%</th>\n",
       "      <td>0.000000</td>\n",
       "      <td>0.000000</td>\n",
       "      <td>0.940000</td>\n",
       "      <td>0.000000</td>\n",
       "      <td>1.350855e+18</td>\n",
       "      <td>0.000000</td>\n",
       "      <td>0.000000</td>\n",
       "    </tr>\n",
       "    <tr>\n",
       "      <th>75%</th>\n",
       "      <td>0.380200</td>\n",
       "      <td>0.000000</td>\n",
       "      <td>1.000000</td>\n",
       "      <td>0.130000</td>\n",
       "      <td>1.351357e+18</td>\n",
       "      <td>0.000000</td>\n",
       "      <td>1.000000</td>\n",
       "    </tr>\n",
       "    <tr>\n",
       "      <th>max</th>\n",
       "      <td>0.991300</td>\n",
       "      <td>0.813000</td>\n",
       "      <td>1.000000</td>\n",
       "      <td>0.913000</td>\n",
       "      <td>1.351710e+18</td>\n",
       "      <td>3298.000000</td>\n",
       "      <td>13095.000000</td>\n",
       "    </tr>\n",
       "  </tbody>\n",
       "</table>\n",
       "</div>"
      ],
      "text/plain": [
       "           Compound      Negative       Neutral      Positive            id  \\\n",
       "count  65760.000000  65760.000000  65760.000000  65760.000000  6.576000e+04   \n",
       "mean       0.114241      0.033300      0.890748      0.075950  1.350837e+18   \n",
       "std        0.370427      0.077305      0.137825      0.117592  5.586549e+14   \n",
       "min       -0.982500      0.000000      0.087000      0.000000  1.349988e+18   \n",
       "25%        0.000000      0.000000      0.812000      0.000000  1.350263e+18   \n",
       "50%        0.000000      0.000000      0.940000      0.000000  1.350855e+18   \n",
       "75%        0.380200      0.000000      1.000000      0.130000  1.351357e+18   \n",
       "max        0.991300      0.813000      1.000000      0.913000  1.351710e+18   \n",
       "\n",
       "       retweets_count   likes_count  \n",
       "count    65760.000000  65760.000000  \n",
       "mean         1.052479      4.834428  \n",
       "std         18.361381     95.778700  \n",
       "min          0.000000      0.000000  \n",
       "25%          0.000000      0.000000  \n",
       "50%          0.000000      0.000000  \n",
       "75%          0.000000      1.000000  \n",
       "max       3298.000000  13095.000000  "
      ]
     },
     "execution_count": 58,
     "metadata": {},
     "output_type": "execute_result"
    }
   ],
   "source": [
    "test_sentiment.describe()"
   ]
  },
  {
   "cell_type": "code",
   "execution_count": 59,
   "metadata": {},
   "outputs": [
    {
     "data": {
      "text/html": [
       "<div>\n",
       "<style scoped>\n",
       "    .dataframe tbody tr th:only-of-type {\n",
       "        vertical-align: middle;\n",
       "    }\n",
       "\n",
       "    .dataframe tbody tr th {\n",
       "        vertical-align: top;\n",
       "    }\n",
       "\n",
       "    .dataframe thead th {\n",
       "        text-align: right;\n",
       "    }\n",
       "</style>\n",
       "<table border=\"1\" class=\"dataframe\">\n",
       "  <thead>\n",
       "    <tr style=\"text-align: right;\">\n",
       "      <th></th>\n",
       "      <th>Compound</th>\n",
       "      <th>Negative</th>\n",
       "      <th>Neutral</th>\n",
       "      <th>Positive</th>\n",
       "      <th>date_time</th>\n",
       "      <th>id</th>\n",
       "      <th>tweet</th>\n",
       "      <th>retweets_count</th>\n",
       "      <th>likes_count</th>\n",
       "      <th>Sentiment_Score</th>\n",
       "    </tr>\n",
       "  </thead>\n",
       "  <tbody>\n",
       "    <tr>\n",
       "      <th>65755</th>\n",
       "      <td>0.0</td>\n",
       "      <td>0.0</td>\n",
       "      <td>1.0</td>\n",
       "      <td>0.0</td>\n",
       "      <td>2021-01-15 02:53:57</td>\n",
       "      <td>1349988176828395520</td>\n",
       "      <td>microsoftoracle  gigazine  https  tco pfoivmf</td>\n",
       "      <td>0</td>\n",
       "      <td>0</td>\n",
       "      <td>Neutral</td>\n",
       "    </tr>\n",
       "    <tr>\n",
       "      <th>65756</th>\n",
       "      <td>0.0</td>\n",
       "      <td>0.0</td>\n",
       "      <td>1.0</td>\n",
       "      <td>0.0</td>\n",
       "      <td>2021-01-15 02:53:57</td>\n",
       "      <td>1349988175947546626</td>\n",
       "      <td>microsoft gb gb    https  tco dpkzzkmqv</td>\n",
       "      <td>0</td>\n",
       "      <td>0</td>\n",
       "      <td>Neutral</td>\n",
       "    </tr>\n",
       "    <tr>\n",
       "      <th>65757</th>\n",
       "      <td>0.0</td>\n",
       "      <td>0.0</td>\n",
       "      <td>1.0</td>\n",
       "      <td>0.0</td>\n",
       "      <td>2021-01-15 02:53:55</td>\n",
       "      <td>1349988169136017410</td>\n",
       "      <td>microsoft   https  tco zzwhlbeh</td>\n",
       "      <td>0</td>\n",
       "      <td>6</td>\n",
       "      <td>Neutral</td>\n",
       "    </tr>\n",
       "    <tr>\n",
       "      <th>65758</th>\n",
       "      <td>0.0</td>\n",
       "      <td>0.0</td>\n",
       "      <td>1.0</td>\n",
       "      <td>0.0</td>\n",
       "      <td>2021-01-15 02:53:52</td>\n",
       "      <td>1349988154418327552</td>\n",
       "      <td>kapel_ao  faraon_bioshock  el_tijuana  bostud...</td>\n",
       "      <td>0</td>\n",
       "      <td>0</td>\n",
       "      <td>Neutral</td>\n",
       "    </tr>\n",
       "    <tr>\n",
       "      <th>65759</th>\n",
       "      <td>0.0</td>\n",
       "      <td>0.0</td>\n",
       "      <td>1.0</td>\n",
       "      <td>0.0</td>\n",
       "      <td>2021-01-15 02:53:35</td>\n",
       "      <td>1349988083937144832</td>\n",
       "      <td>microsoftoswindows chrome oswindows  gigazine ...</td>\n",
       "      <td>0</td>\n",
       "      <td>0</td>\n",
       "      <td>Neutral</td>\n",
       "    </tr>\n",
       "  </tbody>\n",
       "</table>\n",
       "</div>"
      ],
      "text/plain": [
       "       Compound  Negative  Neutral  Positive           date_time  \\\n",
       "65755       0.0       0.0      1.0       0.0 2021-01-15 02:53:57   \n",
       "65756       0.0       0.0      1.0       0.0 2021-01-15 02:53:57   \n",
       "65757       0.0       0.0      1.0       0.0 2021-01-15 02:53:55   \n",
       "65758       0.0       0.0      1.0       0.0 2021-01-15 02:53:52   \n",
       "65759       0.0       0.0      1.0       0.0 2021-01-15 02:53:35   \n",
       "\n",
       "                        id                                              tweet  \\\n",
       "65755  1349988176828395520      microsoftoracle  gigazine  https  tco pfoivmf   \n",
       "65756  1349988175947546626            microsoft gb gb    https  tco dpkzzkmqv   \n",
       "65757  1349988169136017410                    microsoft   https  tco zzwhlbeh   \n",
       "65758  1349988154418327552   kapel_ao  faraon_bioshock  el_tijuana  bostud...   \n",
       "65759  1349988083937144832  microsoftoswindows chrome oswindows  gigazine ...   \n",
       "\n",
       "       retweets_count  likes_count Sentiment_Score  \n",
       "65755               0            0         Neutral  \n",
       "65756               0            0         Neutral  \n",
       "65757               0            6         Neutral  \n",
       "65758               0            0         Neutral  \n",
       "65759               0            0         Neutral  "
      ]
     },
     "execution_count": 59,
     "metadata": {},
     "output_type": "execute_result"
    }
   ],
   "source": [
    "# Convert [-1, 0, 1] to [negative, neutral, and positive]\n",
    "\n",
    "# Negative\n",
    "test_sentiment.loc[test_sentiment['Sentiment_Score'] == -1, 'Sentiment_Score'] = 'Negative'\n",
    "\n",
    "# Neutral\n",
    "\n",
    "test_sentiment.loc[test_sentiment['Sentiment_Score'] == 0, 'Sentiment_Score'] = 'Neutral'\n",
    "\n",
    "# Postive\n",
    "test_sentiment.loc[test_sentiment['Sentiment_Score'] == 1, 'Sentiment_Score'] = 'Positive'\n",
    "\n",
    "# View Into DataFrame\n",
    "test_sentiment.tail()"
   ]
  },
  {
   "cell_type": "code",
   "execution_count": 60,
   "metadata": {},
   "outputs": [],
   "source": [
    "# Clean the Text Function\n",
    "REPLACE_BY_SPACE_RE = re.compile('[/(){}\\[\\]\\|@,;]')\n",
    "BAD_SYMBOLS_RE = re.compile('[^0-9a-z #+_]')\n",
    "\n",
    "\n",
    "def clean_text(text):\n",
    "  text = text.lower() # lowercase text\n",
    "  text = REPLACE_BY_SPACE_RE.sub(' ', text) # replace REPLACE_BY_SPACE_RE symbols by space in text. substitute the matched string in REPLACE_BY_SPACE_RE with space.\n",
    "  text = BAD_SYMBOLS_RE.sub('', text) # remove symbols which are in BAD_SYMBOLS_RE from text. substitute the matched string in BAD_SYMBOLS_RE with nothing. \n",
    "  text = text.replace('x', '')\n",
    " # text = ' '.join(word for word in text.split() if word not in STOPWORDS) # remove stopwors from text\n",
    "  return text"
   ]
  },
  {
   "cell_type": "code",
   "execution_count": 61,
   "metadata": {},
   "outputs": [
    {
     "data": {
      "text/html": [
       "<div>\n",
       "<style scoped>\n",
       "    .dataframe tbody tr th:only-of-type {\n",
       "        vertical-align: middle;\n",
       "    }\n",
       "\n",
       "    .dataframe tbody tr th {\n",
       "        vertical-align: top;\n",
       "    }\n",
       "\n",
       "    .dataframe thead th {\n",
       "        text-align: right;\n",
       "    }\n",
       "</style>\n",
       "<table border=\"1\" class=\"dataframe\">\n",
       "  <thead>\n",
       "    <tr style=\"text-align: right;\">\n",
       "      <th></th>\n",
       "      <th>Compound</th>\n",
       "      <th>Negative</th>\n",
       "      <th>Neutral</th>\n",
       "      <th>Positive</th>\n",
       "      <th>date_time</th>\n",
       "      <th>id</th>\n",
       "      <th>tweet</th>\n",
       "      <th>retweets_count</th>\n",
       "      <th>likes_count</th>\n",
       "      <th>Sentiment_Score</th>\n",
       "      <th>class</th>\n",
       "    </tr>\n",
       "  </thead>\n",
       "  <tbody>\n",
       "    <tr>\n",
       "      <th>0</th>\n",
       "      <td>0.0000</td>\n",
       "      <td>0.000</td>\n",
       "      <td>1.000</td>\n",
       "      <td>0.000</td>\n",
       "      <td>2021-01-19 20:55:16</td>\n",
       "      <td>1351709850380587008</td>\n",
       "      <td>microsoft partners with gm subsidiary cruise o...</td>\n",
       "      <td>0</td>\n",
       "      <td>0</td>\n",
       "      <td>Neutral</td>\n",
       "      <td>1</td>\n",
       "    </tr>\n",
       "    <tr>\n",
       "      <th>1</th>\n",
       "      <td>0.8612</td>\n",
       "      <td>0.108</td>\n",
       "      <td>0.574</td>\n",
       "      <td>0.319</td>\n",
       "      <td>2021-01-19 20:55:03</td>\n",
       "      <td>1351709796534255617</td>\n",
       "      <td>bo support is so fucking useless thanks for th...</td>\n",
       "      <td>0</td>\n",
       "      <td>0</td>\n",
       "      <td>Positive</td>\n",
       "      <td>1</td>\n",
       "    </tr>\n",
       "    <tr>\n",
       "      <th>2</th>\n",
       "      <td>0.7269</td>\n",
       "      <td>0.000</td>\n",
       "      <td>0.738</td>\n",
       "      <td>0.262</td>\n",
       "      <td>2021-01-19 20:54:55</td>\n",
       "      <td>1351709762405216258</td>\n",
       "      <td>thank god i remembered bo has microsoft edge a...</td>\n",
       "      <td>0</td>\n",
       "      <td>1</td>\n",
       "      <td>Positive</td>\n",
       "      <td>1</td>\n",
       "    </tr>\n",
       "    <tr>\n",
       "      <th>3</th>\n",
       "      <td>0.0000</td>\n",
       "      <td>0.000</td>\n",
       "      <td>1.000</td>\n",
       "      <td>0.000</td>\n",
       "      <td>2021-01-19 20:54:55</td>\n",
       "      <td>1351709760047878144</td>\n",
       "      <td>mana nak dapat microsoft access woii</td>\n",
       "      <td>0</td>\n",
       "      <td>0</td>\n",
       "      <td>Neutral</td>\n",
       "      <td>1</td>\n",
       "    </tr>\n",
       "    <tr>\n",
       "      <th>4</th>\n",
       "      <td>-0.4753</td>\n",
       "      <td>0.072</td>\n",
       "      <td>0.928</td>\n",
       "      <td>0.000</td>\n",
       "      <td>2021-01-19 20:54:52</td>\n",
       "      <td>1351709749641965571</td>\n",
       "      <td>anybody else wonder why noone has started a ma...</td>\n",
       "      <td>0</td>\n",
       "      <td>0</td>\n",
       "      <td>Negative</td>\n",
       "      <td>0</td>\n",
       "    </tr>\n",
       "  </tbody>\n",
       "</table>\n",
       "</div>"
      ],
      "text/plain": [
       "   Compound  Negative  Neutral  Positive           date_time  \\\n",
       "0    0.0000     0.000    1.000     0.000 2021-01-19 20:55:16   \n",
       "1    0.8612     0.108    0.574     0.319 2021-01-19 20:55:03   \n",
       "2    0.7269     0.000    0.738     0.262 2021-01-19 20:54:55   \n",
       "3    0.0000     0.000    1.000     0.000 2021-01-19 20:54:55   \n",
       "4   -0.4753     0.072    0.928     0.000 2021-01-19 20:54:52   \n",
       "\n",
       "                    id                                              tweet  \\\n",
       "0  1351709850380587008  microsoft partners with gm subsidiary cruise o...   \n",
       "1  1351709796534255617  bo support is so fucking useless thanks for th...   \n",
       "2  1351709762405216258  thank god i remembered bo has microsoft edge a...   \n",
       "3  1351709760047878144               mana nak dapat microsoft access woii   \n",
       "4  1351709749641965571  anybody else wonder why noone has started a ma...   \n",
       "\n",
       "   retweets_count  likes_count Sentiment_Score  class  \n",
       "0               0            0         Neutral      1  \n",
       "1               0            0        Positive      1  \n",
       "2               0            1        Positive      1  \n",
       "3               0            0         Neutral      1  \n",
       "4               0            0        Negative      0  "
      ]
     },
     "execution_count": 61,
     "metadata": {},
     "output_type": "execute_result"
    }
   ],
   "source": [
    "# Apply the clean text function above\n",
    "test_sentiment['tweet'] = test_sentiment['tweet'].astype(str)\n",
    "test_sentiment['tweet'] = test_sentiment['tweet'].apply(clean_text)\n",
    "test_sentiment['tweet'] = test_sentiment['tweet'].str.replace('\\d+', '')\n",
    "test_sentiment[\"class\"] = test_sentiment[\"Compound\"].apply(lambda x: 1 if x >= 0 else 0)\n",
    "test_sentiment.head()"
   ]
  },
  {
   "cell_type": "code",
   "execution_count": 69,
   "metadata": {},
   "outputs": [],
   "source": [
    "# Balanced Random Forest Classifier"
   ]
  },
  {
   "cell_type": "code",
   "execution_count": 14,
   "metadata": {},
   "outputs": [],
   "source": [
    "#x_cols = [i for i in test_sentiment.columns if i not in ('Compound')] \n",
    "#X = test_sentiment[x_cols]\n",
    "X = test_sentiment[['Compound','Neutral','Positive','retweets_count','likes_count']]\n",
    "y = test_sentiment[\"class\"]"
   ]
  },
  {
   "cell_type": "code",
   "execution_count": 64,
   "metadata": {},
   "outputs": [],
   "source": [
    "# Create the StandardScaler instance\n",
    "from sklearn.preprocessing import StandardScaler\n",
    "scaler = StandardScaler()"
   ]
  },
  {
   "cell_type": "code",
   "execution_count": 65,
   "metadata": {},
   "outputs": [],
   "source": [
    "# Fit the Standard Scaler with the training data\n",
    "# When fitting scaling functions, only train on the training dataset\n",
    "X_scaler = scaler.fit(X_train)"
   ]
  },
  {
   "cell_type": "code",
   "execution_count": 66,
   "metadata": {},
   "outputs": [],
   "source": [
    "# Scale the training and testing data\n",
    "X_train_scaled = X_scaler.transform(X_train)\n",
    "X_test_scaled = X_scaler.transform(X_test)"
   ]
  },
  {
   "cell_type": "code",
   "execution_count": 66,
   "metadata": {},
   "outputs": [],
   "source": [
    "# Easy Ensemble Classifier"
   ]
  },
  {
   "cell_type": "code",
   "execution_count": 67,
   "metadata": {},
   "outputs": [
    {
     "data": {
      "text/plain": [
       "BalancedRandomForestClassifier(random_state=1)"
      ]
     },
     "execution_count": 67,
     "metadata": {},
     "output_type": "execute_result"
    }
   ],
   "source": [
    "from imblearn.ensemble import BalancedRandomForestClassifier\n",
    "brf = BalancedRandomForestClassifier(n_estimators=100, random_state=1)\n",
    "brf.fit(X_train_scaled, y_train)"
   ]
  },
  {
   "cell_type": "code",
   "execution_count": 68,
   "metadata": {},
   "outputs": [],
   "source": [
    "y_pred = brf.predict(X_test_scaled)\n",
    "balanced_accuracy_score(y_test, y_pred)"
   ]
  },
  {
   "cell_type": "code",
   "execution_count": 70,
   "metadata": {},
   "outputs": [],
   "source": [
    "from imblearn.ensemble import EasyEnsembleClassifier\n",
    "eec = EasyEnsembleClassifier(n_estimators=100, random_state=1)\n",
    "eec.fit(X_train_scaled, y_train)"
   ]
  },
  {
   "cell_type": "code",
   "execution_count": 71,
   "metadata": {},
   "outputs": [],
   "source": [
    "# Calculated the balanced accuracy score\n",
    "y_pred = eec.predict(X_test_scaled)\n",
    "balanced_accuracy_score(y_test, y_pred)"
   ]
  },
  {
   "cell_type": "code",
   "execution_count": 72,
   "metadata": {},
   "outputs": [
    {
     "data": {
      "text/plain": [
       "array([[ 2383,     0],\n",
       "       [    0, 12804]], dtype=int64)"
      ]
     },
     "execution_count": 72,
     "metadata": {},
     "output_type": "execute_result"
    }
   ],
   "source": [
    "# Display the confusion matrix\n",
    "confusion_matrix(y_test, y_pred)"
   ]
  },
  {
   "cell_type": "code",
   "execution_count": 73,
   "metadata": {},
   "outputs": [
    {
     "name": "stdout",
     "output_type": "stream",
     "text": [
      "                   pre       rec       spe        f1       geo       iba       sup\n",
      "\n",
      "          0       1.00      1.00      1.00      1.00      1.00      1.00      2383\n",
      "          1       1.00      1.00      1.00      1.00      1.00      1.00     12804\n",
      "\n",
      "avg / total       1.00      1.00      1.00      1.00      1.00      1.00     15187\n",
      "\n"
     ]
    }
   ],
   "source": [
    "print(classification_report_imbalanced(y_test, y_pred))"
   ]
  },
  {
   "cell_type": "code",
   "execution_count": 15,
   "metadata": {},
   "outputs": [],
   "source": [
    "# train-test split\n",
    "from sklearn.model_selection import train_test_split\n",
    "\n",
    "X_train, X_test, y_train, y_test = train_test_split(X, y, random_state=1)"
   ]
  },
  {
   "cell_type": "code",
   "execution_count": 17,
   "metadata": {},
   "outputs": [
    {
     "data": {
      "text/plain": [
       "Counter({1: 38306, 0: 38306})"
      ]
     },
     "execution_count": 17,
     "metadata": {},
     "output_type": "execute_result"
    }
   ],
   "source": [
    "from imblearn.over_sampling import RandomOverSampler\n",
    "from collections import Counter\n",
    "ros = RandomOverSampler(random_state=1)\n",
    "X_resampled, y_resampled = ros.fit_resample(X_train, y_train)\n",
    "Counter(y_resampled)"
   ]
  },
  {
   "cell_type": "code",
   "execution_count": 18,
   "metadata": {},
   "outputs": [
    {
     "data": {
      "text/plain": [
       "LogisticRegression(random_state=1)"
      ]
     },
     "execution_count": 18,
     "metadata": {},
     "output_type": "execute_result"
    }
   ],
   "source": [
    "from sklearn.linear_model import LogisticRegression\n",
    "\n",
    "model = LogisticRegression(solver='lbfgs', random_state=1)\n",
    "model.fit(X_resampled, y_resampled)"
   ]
  },
  {
   "cell_type": "code",
   "execution_count": 19,
   "metadata": {},
   "outputs": [
    {
     "data": {
      "text/plain": [
       "array([[ 2361,    22],\n",
       "       [   28, 12776]], dtype=int64)"
      ]
     },
     "execution_count": 19,
     "metadata": {},
     "output_type": "execute_result"
    }
   ],
   "source": [
    "from sklearn.metrics import confusion_matrix\n",
    "\n",
    "y_pred = model.predict(X_test)\n",
    "confusion_matrix(y_test, y_pred)"
   ]
  },
  {
   "cell_type": "code",
   "execution_count": 20,
   "metadata": {},
   "outputs": [
    {
     "data": {
      "text/plain": [
       "0.9942905614760809"
      ]
     },
     "execution_count": 20,
     "metadata": {},
     "output_type": "execute_result"
    }
   ],
   "source": [
    "from sklearn.metrics import balanced_accuracy_score\n",
    "\n",
    "balanced_accuracy_score(y_test, y_pred)"
   ]
  },
  {
   "cell_type": "code",
   "execution_count": 21,
   "metadata": {},
   "outputs": [],
   "source": [
    "from imblearn.metrics import classification_report_imbalanced\n",
    "\n",
    "print(classification_report_imbalanced(y_test, y_pred))"
   ]
  },
  {
   "cell_type": "code",
   "execution_count": 46,
   "metadata": {},
   "outputs": [],
   "source": [
    "from seaborn import countplot\n"
   ]
  },
  {
   "cell_type": "code",
   "execution_count": 42,
   "metadata": {},
   "outputs": [],
   "source": [
    "# "
   ]
  },
  {
   "cell_type": "code",
   "execution_count": 43,
   "metadata": {},
   "outputs": [
    {
     "data": {
      "text/plain": [
       "Counter({1: 38306, 0: 38306})"
      ]
     },
     "execution_count": 43,
     "metadata": {},
     "output_type": "execute_result"
    }
   ],
   "source": [
    "# Fit the SMOTE model to the data and check the count of each class\n",
    "from imblearn.over_sampling import SMOTE\n",
    "\n",
    "X_resampled, y_resampled = SMOTE(random_state=1, sampling_strategy=1.0).fit_resample(\n",
    "    X_train, y_train\n",
    ")\n",
    "from collections import Counter\n",
    "\n",
    "Counter(y_resampled)"
   ]
  },
  {
   "cell_type": "code",
   "execution_count": 44,
   "metadata": {},
   "outputs": [
    {
     "data": {
      "text/plain": [
       "LogisticRegression(random_state=1)"
      ]
     },
     "execution_count": 44,
     "metadata": {},
     "output_type": "execute_result"
    }
   ],
   "source": [
    "# Fit a logistic regression model using the SMOTE resampled data\n",
    "model = LogisticRegression(solver='lbfgs', random_state=1)\n",
    "model.fit(X_resampled, y_resampled)"
   ]
  },
  {
   "cell_type": "code",
   "execution_count": 45,
   "metadata": {},
   "outputs": [
    {
     "data": {
      "text/plain": [
       "array([[ 2360,    23],\n",
       "       [   27, 12777]], dtype=int64)"
      ]
     },
     "execution_count": 45,
     "metadata": {},
     "output_type": "execute_result"
    }
   ],
   "source": [
    "# Display the confusion matrix\n",
    "confusion_matrix(y_test, y_pred)"
   ]
  },
  {
   "cell_type": "code",
   "execution_count": 25,
   "metadata": {},
   "outputs": [
    {
     "data": {
      "text/plain": [
       "0.9942369431080273"
      ]
     },
     "execution_count": 25,
     "metadata": {},
     "output_type": "execute_result"
    }
   ],
   "source": [
    "# Calculate the balanced accuracy score\n",
    "y_pred = model.predict(X_test)\n",
    "balanced_accuracy_score(y_test, y_pred)"
   ]
  },
  {
   "cell_type": "code",
   "execution_count": 28,
   "metadata": {},
   "outputs": [
    {
     "name": "stdout",
     "output_type": "stream",
     "text": [
      "                   pre       rec       spe        f1       geo       iba       sup\n",
      "\n",
      "          0       0.99      0.99      1.00      0.99      0.99      0.99      2383\n",
      "          1       1.00      1.00      0.99      1.00      0.99      0.99     12804\n",
      "\n",
      "avg / total       1.00      1.00      0.99      1.00      0.99      0.99     15187\n",
      "\n"
     ]
    }
   ],
   "source": [
    "# Print the imbalanced classification report\n",
    "print(classification_report_imbalanced(y_test, y_pred))"
   ]
  },
  {
   "cell_type": "code",
   "execution_count": 33,
   "metadata": {},
   "outputs": [
    {
     "data": {
      "text/plain": [
       "Counter({0: 37819, 1: 37590})"
      ]
     },
     "execution_count": 33,
     "metadata": {},
     "output_type": "execute_result"
    }
   ],
   "source": [
    "from imblearn.combine import SMOTEENN\n",
    "\n",
    "smote_enn = SMOTEENN(random_state=0)\n",
    "X_resampled, y_resampled = smote_enn.fit_resample(X_train, y_train)\n",
    "Counter(y_resampled)"
   ]
  },
  {
   "cell_type": "code",
   "execution_count": 34,
   "metadata": {},
   "outputs": [
    {
     "data": {
      "text/plain": [
       "LogisticRegression(max_iter=2000, random_state=1)"
      ]
     },
     "execution_count": 34,
     "metadata": {},
     "output_type": "execute_result"
    }
   ],
   "source": [
    "# Fit a logistic regression model to the combination sampled data\n",
    "model = LogisticRegression(solver='lbfgs', random_state=1, max_iter=2000)\n",
    "model.fit(X_resampled, y_resampled)"
   ]
  },
  {
   "cell_type": "code",
   "execution_count": 35,
   "metadata": {},
   "outputs": [
    {
     "name": "stdout",
     "output_type": "stream",
     "text": [
      "                   pre       rec       spe        f1       geo       iba       sup\n",
      "\n",
      "          0       0.99      0.99      1.00      0.99      0.99      0.99      2383\n",
      "          1       1.00      1.00      0.99      1.00      0.99      0.99     12804\n",
      "\n",
      "avg / total       1.00      1.00      0.99      1.00      0.99      0.99     15187\n",
      "\n"
     ]
    }
   ],
   "source": [
    "# Print the imbalanced classification report\n",
    "from imblearn.metrics import classification_report_imbalanced\n",
    "\n",
    "y_pred = model.predict(X_test)\n",
    "print(classification_report_imbalanced(y_test, y_pred))"
   ]
  },
  {
   "cell_type": "code",
   "execution_count": 36,
   "metadata": {},
   "outputs": [],
   "source": [
    "# Fit a Random Forest Classifier\n",
    "from imblearn.ensemble import BalancedRandomForestClassifier\n",
    "brf = BalancedRandomForestClassifier(n_estimators=1000, random_state=1)\n",
    "brf.fit(X_train, y_train)"
   ]
  },
  {
   "cell_type": "code",
   "execution_count": 47,
   "metadata": {},
   "outputs": [
    {
     "ename": "NameError",
     "evalue": "name 'X_test_scaled' is not defined",
     "output_type": "error",
     "traceback": [
      "\u001b[1;31m---------------------------------------------------------------------------\u001b[0m",
      "\u001b[1;31mNameError\u001b[0m                                 Traceback (most recent call last)",
      "\u001b[1;32m<ipython-input-47-0ba556aa0ad1>\u001b[0m in \u001b[0;36m<module>\u001b[1;34m\u001b[0m\n\u001b[0;32m      1\u001b[0m \u001b[1;31m# Calculated the balanced accuracy score\u001b[0m\u001b[1;33m\u001b[0m\u001b[1;33m\u001b[0m\u001b[1;33m\u001b[0m\u001b[0m\n\u001b[1;32m----> 2\u001b[1;33m \u001b[0my_pred\u001b[0m \u001b[1;33m=\u001b[0m \u001b[0mbrf\u001b[0m\u001b[1;33m.\u001b[0m\u001b[0mpredict\u001b[0m\u001b[1;33m(\u001b[0m\u001b[0mX_test_scaled\u001b[0m\u001b[1;33m)\u001b[0m\u001b[1;33m\u001b[0m\u001b[1;33m\u001b[0m\u001b[0m\n\u001b[0m\u001b[0;32m      3\u001b[0m \u001b[0mbalanced_accuracy_score\u001b[0m\u001b[1;33m(\u001b[0m\u001b[0my_test\u001b[0m\u001b[1;33m,\u001b[0m \u001b[0my_pred\u001b[0m\u001b[1;33m)\u001b[0m\u001b[1;33m\u001b[0m\u001b[1;33m\u001b[0m\u001b[0m\n",
      "\u001b[1;31mNameError\u001b[0m: name 'X_test_scaled' is not defined"
     ]
    }
   ],
   "source": [
    "# Calculated the balanced accuracy score\n",
    "y_pred = brf.predict(X_test_scaled)\n",
    "balanced_accuracy_score(y_test, y_pred)"
   ]
  },
  {
   "cell_type": "code",
   "execution_count": 37,
   "metadata": {},
   "outputs": [
    {
     "name": "stdout",
     "output_type": "stream",
     "text": [
      "                   pre       rec       spe        f1       geo       iba       sup\n",
      "\n",
      "          0       1.00      1.00      1.00      1.00      1.00      1.00      2383\n",
      "          1       1.00      1.00      1.00      1.00      1.00      1.00     12804\n",
      "\n",
      "avg / total       1.00      1.00      1.00      1.00      1.00      1.00     15187\n",
      "\n"
     ]
    }
   ],
   "source": [
    "# Print the imbalanced classification report\n",
    "y_pred_rf = brf.predict(X_test)\n",
    "print(classification_report_imbalanced(y_test, y_pred_rf))"
   ]
  },
  {
   "cell_type": "code",
   "execution_count": 38,
   "metadata": {},
   "outputs": [],
   "source": [
    "# Plot the Precision Recall Curvey for both the SMOTEENN + Logistic Regression model\n",
    "# and the Balanced Random Forest model\n",
    "from sklearn.metrics import precision_recall_curve\n",
    "\n",
    "probs_lr = model.predict_proba(X_test)[:, 1]\n",
    "probs_rf = brf.predict_proba(X_test)[:, 1]\n",
    "precision_lr, recall_lr, _ = precision_recall_curve(y_test, probs_lr, pos_label=1)\n",
    "precision_rf, recall_rf, _ = precision_recall_curve(y_test, probs_rf, pos_label=1)"
   ]
  },
  {
   "cell_type": "code",
   "execution_count": 39,
   "metadata": {},
   "outputs": [
    {
     "data": {
      "text/plain": [
       "[<matplotlib.lines.Line2D at 0x20df038c388>]"
      ]
     },
     "execution_count": 39,
     "metadata": {},
     "output_type": "execute_result"
    },
    {
     "data": {
      "image/png": "[encoded data removed]",
      "text/plain": [
       "<Figure size 432x288 with 1 Axes>"
      ]
     },
     "metadata": {
      "needs_background": "light"
     },
     "output_type": "display_data"
    }
   ],
   "source": [
    "import matplotlib.pyplot as plt\n",
    "%matplotlib inline\n",
    "\n",
    "plt.plot(recall_lr, precision_lr, marker='.')\n",
    "plt.plot(recall_rf, precision_rf, marker='x')"
   ]
  },
  {
   "cell_type": "code",
   "execution_count": null,
   "metadata": {},
   "outputs": [],
   "source": []
  }
 ],
 "metadata": {
  "kernelspec": {
   "display_name": "nlp",
   "language": "python",
   "name": "nlp"
  },
  "language_info": {
   "codemirror_mode": {
    "name": "ipython",
    "version": 3
   },
   "file_extension": ".py",
   "mimetype": "text/x-python",
   "name": "python",
   "nbconvert_exporter": "python",
   "pygments_lexer": "ipython3",
   "version": "3.7.9"
  }
 },
 "nbformat": 4,
 "nbformat_minor": 4
}
