{
 "cells": [
  {
   "cell_type": "markdown",
   "metadata": {},
   "source": [
    "# Sentiment Analysis"
   ]
  },
  {
   "cell_type": "markdown",
   "metadata": {},
   "source": [
    "## Get the closing prices of Tesla"
   ]
  },
  {
   "cell_type": "code",
   "execution_count": 1,
   "metadata": {},
   "outputs": [
    {
     "data": {
      "text/html": [
       "<div>\n",
       "<style scoped>\n",
       "    .dataframe tbody tr th:only-of-type {\n",
       "        vertical-align: middle;\n",
       "    }\n",
       "\n",
       "    .dataframe tbody tr th {\n",
       "        vertical-align: top;\n",
       "    }\n",
       "\n",
       "    .dataframe thead th {\n",
       "        text-align: right;\n",
       "    }\n",
       "</style>\n",
       "<table border=\"1\" class=\"dataframe\">\n",
       "  <thead>\n",
       "    <tr style=\"text-align: right;\">\n",
       "      <th></th>\n",
       "      <th>close</th>\n",
       "    </tr>\n",
       "  </thead>\n",
       "  <tbody>\n",
       "    <tr>\n",
       "      <th>2020-12-16</th>\n",
       "      <td>622.670</td>\n",
       "    </tr>\n",
       "    <tr>\n",
       "      <th>2020-12-17</th>\n",
       "      <td>655.725</td>\n",
       "    </tr>\n",
       "    <tr>\n",
       "      <th>2020-12-18</th>\n",
       "      <td>664.990</td>\n",
       "    </tr>\n",
       "    <tr>\n",
       "      <th>2020-12-21</th>\n",
       "      <td>649.780</td>\n",
       "    </tr>\n",
       "    <tr>\n",
       "      <th>2020-12-22</th>\n",
       "      <td>640.090</td>\n",
       "    </tr>\n",
       "  </tbody>\n",
       "</table>\n",
       "</div>"
      ],
      "text/plain": [
       "              close\n",
       "2020-12-16  622.670\n",
       "2020-12-17  655.725\n",
       "2020-12-18  664.990\n",
       "2020-12-21  649.780\n",
       "2020-12-22  640.090"
      ]
     },
     "execution_count": 1,
     "metadata": {},
     "output_type": "execute_result"
    }
   ],
   "source": [
    "import os\n",
    "import requests\n",
    "import pandas as pd\n",
    "from dotenv import load_dotenv\n",
    "import alpaca_trade_api as tradeapi\n",
    "%matplotlib inline\n",
    "\n",
    "# Load .env environment variables\n",
    "load_dotenv()\n",
    "\n",
    "# Set Alpaca API key and secret\n",
    "alpaca_api_key = os.getenv(\"ALPACA_API_KEY\")\n",
    "alpaca_secret_key = os.getenv(\"ALPACA_SECRET_KEY\")\n",
    "\n",
    "# Create the Alpaca API object\n",
    "alpaca = tradeapi.REST(\n",
    "    alpaca_api_key,\n",
    "    alpaca_secret_key,\n",
    "    api_version=\"v2\")\n",
    "\n",
    "# Format current date as ISO format\n",
    "start_date = pd.Timestamp(\"2020-12-16\", tz=\"America/New_York\").isoformat()\n",
    "end_date = pd.Timestamp(\"2021-01-15\", tz=\"America/New_York\").isoformat()\n",
    "\n",
    "# Set the tickers\n",
    "ticker = \"TSLA\"\n",
    "\n",
    "# Set timeframe to one day ('1D') for the Alpaca API\n",
    "timeframe = \"1D\"\n",
    "\n",
    "# Get current closing prices\n",
    "df_closing_prices = alpaca.get_barset(\n",
    "    ticker,\n",
    "    timeframe,\n",
    "    start = start_date,\n",
    "    end = end_date\n",
    ").df\n",
    "\n",
    "# Dissolve multiindex and fetch the closing prices \n",
    "df_closing_prices = df_closing_prices.droplevel(0, axis=1)[['close']]\n",
    "\n",
    "# Drop the time component of the date\n",
    "df_closing_prices.index = df_closing_prices.index.date\n",
    "\n",
    "# Display sample data\n",
    "df_closing_prices.head()"
   ]
  },
  {
   "cell_type": "code",
   "execution_count": 2,
   "metadata": {},
   "outputs": [
    {
     "data": {
      "text/html": [
       "<div>\n",
       "<style scoped>\n",
       "    .dataframe tbody tr th:only-of-type {\n",
       "        vertical-align: middle;\n",
       "    }\n",
       "\n",
       "    .dataframe tbody tr th {\n",
       "        vertical-align: top;\n",
       "    }\n",
       "\n",
       "    .dataframe thead th {\n",
       "        text-align: right;\n",
       "    }\n",
       "</style>\n",
       "<table border=\"1\" class=\"dataframe\">\n",
       "  <thead>\n",
       "    <tr style=\"text-align: right;\">\n",
       "      <th></th>\n",
       "      <th>close</th>\n",
       "      <th>return</th>\n",
       "    </tr>\n",
       "  </thead>\n",
       "  <tbody>\n",
       "    <tr>\n",
       "      <th>2020-12-17</th>\n",
       "      <td>655.725</td>\n",
       "      <td>0.053086</td>\n",
       "    </tr>\n",
       "    <tr>\n",
       "      <th>2020-12-18</th>\n",
       "      <td>664.990</td>\n",
       "      <td>0.014129</td>\n",
       "    </tr>\n",
       "    <tr>\n",
       "      <th>2020-12-21</th>\n",
       "      <td>649.780</td>\n",
       "      <td>-0.022873</td>\n",
       "    </tr>\n",
       "    <tr>\n",
       "      <th>2020-12-22</th>\n",
       "      <td>640.090</td>\n",
       "      <td>-0.014913</td>\n",
       "    </tr>\n",
       "    <tr>\n",
       "      <th>2020-12-23</th>\n",
       "      <td>645.980</td>\n",
       "      <td>0.009202</td>\n",
       "    </tr>\n",
       "  </tbody>\n",
       "</table>\n",
       "</div>"
      ],
      "text/plain": [
       "              close    return\n",
       "2020-12-17  655.725  0.053086\n",
       "2020-12-18  664.990  0.014129\n",
       "2020-12-21  649.780 -0.022873\n",
       "2020-12-22  640.090 -0.014913\n",
       "2020-12-23  645.980  0.009202"
      ]
     },
     "execution_count": 2,
     "metadata": {},
     "output_type": "execute_result"
    }
   ],
   "source": [
    "df_closing_prices['return'] = df_closing_prices['close'].pct_change()\n",
    "df_closing_prices.dropna(inplace=True)\n",
    "df_closing_prices.head()"
   ]
  },
  {
   "cell_type": "markdown",
   "metadata": {},
   "source": [
    "## Load the data of google research results"
   ]
  },
  {
   "cell_type": "code",
   "execution_count": 3,
   "metadata": {},
   "outputs": [
    {
     "name": "stdout",
     "output_type": "stream",
     "text": [
      "100\n"
     ]
    },
    {
     "data": {
      "text/html": [
       "<div>\n",
       "<style scoped>\n",
       "    .dataframe tbody tr th:only-of-type {\n",
       "        vertical-align: middle;\n",
       "    }\n",
       "\n",
       "    .dataframe tbody tr th {\n",
       "        vertical-align: top;\n",
       "    }\n",
       "\n",
       "    .dataframe thead th {\n",
       "        text-align: right;\n",
       "    }\n",
       "</style>\n",
       "<table border=\"1\" class=\"dataframe\">\n",
       "  <thead>\n",
       "    <tr style=\"text-align: right;\">\n",
       "      <th></th>\n",
       "      <th>title</th>\n",
       "    </tr>\n",
       "  </thead>\n",
       "  <tbody>\n",
       "    <tr>\n",
       "      <th>2020-12-17 08:00:00</th>\n",
       "      <td>Tesla’s 1,000% Stock Price Explosion Isn’t Abo...</td>\n",
       "    </tr>\n",
       "    <tr>\n",
       "      <th>2020-12-18 08:00:00</th>\n",
       "      <td>The Quest to Replicate Tesla’s Success Keeps E...</td>\n",
       "    </tr>\n",
       "    <tr>\n",
       "      <th>2020-12-19 08:00:00</th>\n",
       "      <td>Tesla, Profitable at Last, Bulls Its Way Into ...</td>\n",
       "    </tr>\n",
       "    <tr>\n",
       "      <th>2020-12-20 08:00:00</th>\n",
       "      <td>Tesla's rise made 2020 the year the U.S. auto ...</td>\n",
       "    </tr>\n",
       "    <tr>\n",
       "      <th>2020-12-21 08:00:00</th>\n",
       "      <td>China provides 'heart and lungs' for Tesla's S...</td>\n",
       "    </tr>\n",
       "  </tbody>\n",
       "</table>\n",
       "</div>"
      ],
      "text/plain": [
       "                                                                 title\n",
       "2020-12-17 08:00:00  Tesla’s 1,000% Stock Price Explosion Isn’t Abo...\n",
       "2020-12-18 08:00:00  The Quest to Replicate Tesla’s Success Keeps E...\n",
       "2020-12-19 08:00:00  Tesla, Profitable at Last, Bulls Its Way Into ...\n",
       "2020-12-20 08:00:00  Tesla's rise made 2020 the year the U.S. auto ...\n",
       "2020-12-21 08:00:00  China provides 'heart and lungs' for Tesla's S..."
      ]
     },
     "metadata": {},
     "output_type": "display_data"
    }
   ],
   "source": [
    "import pandas as pd\n",
    "from pathlib import Path\n",
    "import calendar\n",
    "from sklearn.preprocessing import LabelEncoder\n",
    "\n",
    "file_path = Path(\"tsla_news.csv\")\n",
    "news_df = pd.read_csv(file_path, index_col='sortkey', parse_dates=True, infer_datetime_format=True, usecols=['sortkey',\"title\"])\n",
    "\n",
    "# Delete the index label and sort in ascending order\n",
    "news_df.index.name = None\n",
    "news_df.sort_index(axis=0, inplace=True)\n",
    "\n",
    "# Display sample data\n",
    "print(len(news_df))\n",
    "display(news_df.head())"
   ]
  },
  {
   "cell_type": "code",
   "execution_count": 4,
   "metadata": {},
   "outputs": [
    {
     "name": "stdout",
     "output_type": "stream",
     "text": [
      "57\n"
     ]
    },
    {
     "data": {
      "text/html": [
       "<div>\n",
       "<style scoped>\n",
       "    .dataframe tbody tr th:only-of-type {\n",
       "        vertical-align: middle;\n",
       "    }\n",
       "\n",
       "    .dataframe tbody tr th {\n",
       "        vertical-align: top;\n",
       "    }\n",
       "\n",
       "    .dataframe thead th {\n",
       "        text-align: right;\n",
       "    }\n",
       "</style>\n",
       "<table border=\"1\" class=\"dataframe\">\n",
       "  <thead>\n",
       "    <tr style=\"text-align: right;\">\n",
       "      <th></th>\n",
       "      <th>title</th>\n",
       "    </tr>\n",
       "  </thead>\n",
       "  <tbody>\n",
       "    <tr>\n",
       "      <th>2020-12-17</th>\n",
       "      <td>Tesla’s 1,000% Stock Price Explosion Isn’t Abo...</td>\n",
       "    </tr>\n",
       "    <tr>\n",
       "      <th>2020-12-18</th>\n",
       "      <td>The Quest to Replicate Tesla’s Success Keeps E...</td>\n",
       "    </tr>\n",
       "    <tr>\n",
       "      <th>2020-12-19</th>\n",
       "      <td>Tesla, Profitable at Last, Bulls Its Way Into ...</td>\n",
       "    </tr>\n",
       "    <tr>\n",
       "      <th>2020-12-20</th>\n",
       "      <td>Tesla's rise made 2020 the year the U.S. auto ...</td>\n",
       "    </tr>\n",
       "    <tr>\n",
       "      <th>2020-12-21</th>\n",
       "      <td>China provides 'heart and lungs' for Tesla's S...</td>\n",
       "    </tr>\n",
       "  </tbody>\n",
       "</table>\n",
       "</div>"
      ],
      "text/plain": [
       "                                                        title\n",
       "2020-12-17  Tesla’s 1,000% Stock Price Explosion Isn’t Abo...\n",
       "2020-12-18  The Quest to Replicate Tesla’s Success Keeps E...\n",
       "2020-12-19  Tesla, Profitable at Last, Bulls Its Way Into ...\n",
       "2020-12-20  Tesla's rise made 2020 the year the U.S. auto ...\n",
       "2020-12-21  China provides 'heart and lungs' for Tesla's S..."
      ]
     },
     "metadata": {},
     "output_type": "display_data"
    }
   ],
   "source": [
    "# Drop news published after 4pm since it does not affect the closing price of that day\n",
    "news_df = news_df.between_time('00:00:00','15:59:59', include_end=False)\n",
    "\n",
    "# Drop time in the index labels\n",
    "news_df.index = news_df.index.date\n",
    "\n",
    "# Display sample data\n",
    "print(len(news_df))\n",
    "display(news_df.head())"
   ]
  },
  {
   "cell_type": "markdown",
   "metadata": {},
   "source": [
    "## Sentiment Analysis"
   ]
  },
  {
   "cell_type": "code",
   "execution_count": 5,
   "metadata": {},
   "outputs": [
    {
     "name": "stderr",
     "output_type": "stream",
     "text": [
      "[nltk_data] Downloading package vader_lexicon to\n",
      "[nltk_data]     C:\\Users\\kn_na\\AppData\\Roaming\\nltk_data...\n",
      "[nltk_data]   Package vader_lexicon is already up-to-date!\n"
     ]
    }
   ],
   "source": [
    "import nltk\n",
    "from nltk.sentiment.vader import SentimentIntensityAnalyzer\n",
    "\n",
    "# Download/Update the VADER Lexicon\n",
    "nltk.download('vader_lexicon')\n",
    "\n",
    "# Initialize the VADER sentiment analyzer\n",
    "analyzer = SentimentIntensityAnalyzer()"
   ]
  },
  {
   "cell_type": "code",
   "execution_count": 6,
   "metadata": {},
   "outputs": [
    {
     "data": {
      "text/html": [
       "<div>\n",
       "<style scoped>\n",
       "    .dataframe tbody tr th:only-of-type {\n",
       "        vertical-align: middle;\n",
       "    }\n",
       "\n",
       "    .dataframe tbody tr th {\n",
       "        vertical-align: top;\n",
       "    }\n",
       "\n",
       "    .dataframe thead th {\n",
       "        text-align: right;\n",
       "    }\n",
       "</style>\n",
       "<table border=\"1\" class=\"dataframe\">\n",
       "  <thead>\n",
       "    <tr style=\"text-align: right;\">\n",
       "      <th></th>\n",
       "      <th>title</th>\n",
       "      <th>compound</th>\n",
       "      <th>positive</th>\n",
       "      <th>negative</th>\n",
       "      <th>neutral</th>\n",
       "    </tr>\n",
       "  </thead>\n",
       "  <tbody>\n",
       "    <tr>\n",
       "      <th>2020-12-17</th>\n",
       "      <td>Tesla’s 1,000% Stock Price Explosion Isn’t Abo...</td>\n",
       "      <td>0.0000</td>\n",
       "      <td>0.000</td>\n",
       "      <td>0.0</td>\n",
       "      <td>1.000</td>\n",
       "    </tr>\n",
       "    <tr>\n",
       "      <th>2020-12-18</th>\n",
       "      <td>The Quest to Replicate Tesla’s Success Keeps E...</td>\n",
       "      <td>0.7430</td>\n",
       "      <td>0.412</td>\n",
       "      <td>0.0</td>\n",
       "      <td>0.588</td>\n",
       "    </tr>\n",
       "    <tr>\n",
       "      <th>2020-12-19</th>\n",
       "      <td>Tesla, Profitable at Last, Bulls Its Way Into ...</td>\n",
       "      <td>0.4404</td>\n",
       "      <td>0.172</td>\n",
       "      <td>0.0</td>\n",
       "      <td>0.828</td>\n",
       "    </tr>\n",
       "    <tr>\n",
       "      <th>2020-12-20</th>\n",
       "      <td>Tesla's rise made 2020 the year the U.S. auto ...</td>\n",
       "      <td>0.0000</td>\n",
       "      <td>0.000</td>\n",
       "      <td>0.0</td>\n",
       "      <td>1.000</td>\n",
       "    </tr>\n",
       "    <tr>\n",
       "      <th>2020-12-21</th>\n",
       "      <td>China provides 'heart and lungs' for Tesla's S...</td>\n",
       "      <td>0.0000</td>\n",
       "      <td>0.000</td>\n",
       "      <td>0.0</td>\n",
       "      <td>1.000</td>\n",
       "    </tr>\n",
       "  </tbody>\n",
       "</table>\n",
       "</div>"
      ],
      "text/plain": [
       "                                                        title  compound  \\\n",
       "2020-12-17  Tesla’s 1,000% Stock Price Explosion Isn’t Abo...    0.0000   \n",
       "2020-12-18  The Quest to Replicate Tesla’s Success Keeps E...    0.7430   \n",
       "2020-12-19  Tesla, Profitable at Last, Bulls Its Way Into ...    0.4404   \n",
       "2020-12-20  Tesla's rise made 2020 the year the U.S. auto ...    0.0000   \n",
       "2020-12-21  China provides 'heart and lungs' for Tesla's S...    0.0000   \n",
       "\n",
       "            positive  negative  neutral  \n",
       "2020-12-17     0.000       0.0    1.000  \n",
       "2020-12-18     0.412       0.0    0.588  \n",
       "2020-12-19     0.172       0.0    0.828  \n",
       "2020-12-20     0.000       0.0    1.000  \n",
       "2020-12-21     0.000       0.0    1.000  "
      ]
     },
     "execution_count": 6,
     "metadata": {},
     "output_type": "execute_result"
    }
   ],
   "source": [
    "# Create the Facebook Libra sentiment scores DataFrame\n",
    "tesla_sentiments = []\n",
    "\n",
    "for title in news_df[\"title\"]:\n",
    "    try:\n",
    "        sentiment = analyzer.polarity_scores(title) # get sentiment score\n",
    "        compound = sentiment[\"compound\"]\n",
    "        pos = sentiment[\"pos\"]\n",
    "        neu = sentiment[\"neu\"]\n",
    "        neg = sentiment[\"neg\"]\n",
    "        \n",
    "        tesla_sentiments.append({\"compound\": compound,\n",
    "                                 \"positive\": pos,\n",
    "                                 \"negative\": neg,\n",
    "                                 \"neutral\": neu\n",
    "                                })\n",
    "        \n",
    "    except AttributeError:\n",
    "        pass\n",
    "    \n",
    "# Create DataFrame\n",
    "sentiments_df = pd.DataFrame(tesla_sentiments, index=news_df.index)\n",
    "\n",
    "# Reorder DataFrame columns\n",
    "news_df = news_df.join(sentiments_df)\n",
    "\n",
    "news_df.head()"
   ]
  },
  {
   "cell_type": "code",
   "execution_count": 7,
   "metadata": {},
   "outputs": [
    {
     "data": {
      "text/html": [
       "<div>\n",
       "<style scoped>\n",
       "    .dataframe tbody tr th:only-of-type {\n",
       "        vertical-align: middle;\n",
       "    }\n",
       "\n",
       "    .dataframe tbody tr th {\n",
       "        vertical-align: top;\n",
       "    }\n",
       "\n",
       "    .dataframe thead th {\n",
       "        text-align: right;\n",
       "    }\n",
       "</style>\n",
       "<table border=\"1\" class=\"dataframe\">\n",
       "  <thead>\n",
       "    <tr style=\"text-align: right;\">\n",
       "      <th></th>\n",
       "      <th>compound</th>\n",
       "    </tr>\n",
       "  </thead>\n",
       "  <tbody>\n",
       "    <tr>\n",
       "      <th>2020-12-17</th>\n",
       "      <td>0.0000</td>\n",
       "    </tr>\n",
       "    <tr>\n",
       "      <th>2020-12-18</th>\n",
       "      <td>0.7430</td>\n",
       "    </tr>\n",
       "    <tr>\n",
       "      <th>2020-12-19</th>\n",
       "      <td>0.4404</td>\n",
       "    </tr>\n",
       "    <tr>\n",
       "      <th>2020-12-20</th>\n",
       "      <td>0.0000</td>\n",
       "    </tr>\n",
       "    <tr>\n",
       "      <th>2020-12-21</th>\n",
       "      <td>0.0000</td>\n",
       "    </tr>\n",
       "  </tbody>\n",
       "</table>\n",
       "</div>"
      ],
      "text/plain": [
       "            compound\n",
       "2020-12-17    0.0000\n",
       "2020-12-18    0.7430\n",
       "2020-12-19    0.4404\n",
       "2020-12-20    0.0000\n",
       "2020-12-21    0.0000"
      ]
     },
     "execution_count": 7,
     "metadata": {},
     "output_type": "execute_result"
    }
   ],
   "source": [
    "# calculate the average of compound scores for a day with more than 1 article\n",
    "sentiment_score_df = news_df.groupby(level=0)[['compound']].mean()\n",
    "\n",
    "sentiment_score_df.head()"
   ]
  },
  {
   "cell_type": "markdown",
   "metadata": {},
   "source": [
    "## Concatenate the DFs of closing prices and sentiments"
   ]
  },
  {
   "cell_type": "code",
   "execution_count": 8,
   "metadata": {},
   "outputs": [
    {
     "data": {
      "text/html": [
       "<div>\n",
       "<style scoped>\n",
       "    .dataframe tbody tr th:only-of-type {\n",
       "        vertical-align: middle;\n",
       "    }\n",
       "\n",
       "    .dataframe tbody tr th {\n",
       "        vertical-align: top;\n",
       "    }\n",
       "\n",
       "    .dataframe thead th {\n",
       "        text-align: right;\n",
       "    }\n",
       "</style>\n",
       "<table border=\"1\" class=\"dataframe\">\n",
       "  <thead>\n",
       "    <tr style=\"text-align: right;\">\n",
       "      <th></th>\n",
       "      <th>close</th>\n",
       "      <th>return</th>\n",
       "      <th>compound</th>\n",
       "    </tr>\n",
       "  </thead>\n",
       "  <tbody>\n",
       "    <tr>\n",
       "      <th>2020-12-17</th>\n",
       "      <td>655.725</td>\n",
       "      <td>0.053086</td>\n",
       "      <td>0.0000</td>\n",
       "    </tr>\n",
       "    <tr>\n",
       "      <th>2020-12-18</th>\n",
       "      <td>664.990</td>\n",
       "      <td>0.014129</td>\n",
       "      <td>0.7430</td>\n",
       "    </tr>\n",
       "    <tr>\n",
       "      <th>2020-12-21</th>\n",
       "      <td>649.780</td>\n",
       "      <td>-0.022873</td>\n",
       "      <td>0.0000</td>\n",
       "    </tr>\n",
       "    <tr>\n",
       "      <th>2020-12-22</th>\n",
       "      <td>640.090</td>\n",
       "      <td>-0.014913</td>\n",
       "      <td>0.1806</td>\n",
       "    </tr>\n",
       "    <tr>\n",
       "      <th>2020-12-24</th>\n",
       "      <td>661.660</td>\n",
       "      <td>0.024273</td>\n",
       "      <td>0.0000</td>\n",
       "    </tr>\n",
       "  </tbody>\n",
       "</table>\n",
       "</div>"
      ],
      "text/plain": [
       "              close    return  compound\n",
       "2020-12-17  655.725  0.053086    0.0000\n",
       "2020-12-18  664.990  0.014129    0.7430\n",
       "2020-12-21  649.780 -0.022873    0.0000\n",
       "2020-12-22  640.090 -0.014913    0.1806\n",
       "2020-12-24  661.660  0.024273    0.0000"
      ]
     },
     "execution_count": 8,
     "metadata": {},
     "output_type": "execute_result"
    }
   ],
   "source": [
    "# concatenate\n",
    "tesla_df = pd.concat([df_closing_prices, sentiment_score_df], axis=1, join='inner')\n",
    "\n",
    "tesla_df.head()"
   ]
  },
  {
   "cell_type": "markdown",
   "metadata": {},
   "source": [
    "## Prepare Training and Testing data"
   ]
  },
  {
   "cell_type": "code",
   "execution_count": 9,
   "metadata": {},
   "outputs": [
    {
     "data": {
      "text/html": [
       "<div>\n",
       "<style scoped>\n",
       "    .dataframe tbody tr th:only-of-type {\n",
       "        vertical-align: middle;\n",
       "    }\n",
       "\n",
       "    .dataframe tbody tr th {\n",
       "        vertical-align: top;\n",
       "    }\n",
       "\n",
       "    .dataframe thead th {\n",
       "        text-align: right;\n",
       "    }\n",
       "</style>\n",
       "<table border=\"1\" class=\"dataframe\">\n",
       "  <thead>\n",
       "    <tr style=\"text-align: right;\">\n",
       "      <th></th>\n",
       "      <th>close</th>\n",
       "      <th>return</th>\n",
       "      <th>compound</th>\n",
       "      <th>class</th>\n",
       "    </tr>\n",
       "  </thead>\n",
       "  <tbody>\n",
       "    <tr>\n",
       "      <th>2020-12-17</th>\n",
       "      <td>655.725</td>\n",
       "      <td>0.053086</td>\n",
       "      <td>0.000000</td>\n",
       "      <td>1</td>\n",
       "    </tr>\n",
       "    <tr>\n",
       "      <th>2020-12-18</th>\n",
       "      <td>664.990</td>\n",
       "      <td>0.014129</td>\n",
       "      <td>0.743000</td>\n",
       "      <td>1</td>\n",
       "    </tr>\n",
       "    <tr>\n",
       "      <th>2020-12-21</th>\n",
       "      <td>649.780</td>\n",
       "      <td>-0.022873</td>\n",
       "      <td>0.000000</td>\n",
       "      <td>-1</td>\n",
       "    </tr>\n",
       "    <tr>\n",
       "      <th>2020-12-22</th>\n",
       "      <td>640.090</td>\n",
       "      <td>-0.014913</td>\n",
       "      <td>0.180600</td>\n",
       "      <td>-1</td>\n",
       "    </tr>\n",
       "    <tr>\n",
       "      <th>2020-12-24</th>\n",
       "      <td>661.660</td>\n",
       "      <td>0.024273</td>\n",
       "      <td>0.000000</td>\n",
       "      <td>1</td>\n",
       "    </tr>\n",
       "    <tr>\n",
       "      <th>2020-12-28</th>\n",
       "      <td>663.770</td>\n",
       "      <td>0.003189</td>\n",
       "      <td>-0.018650</td>\n",
       "      <td>0</td>\n",
       "    </tr>\n",
       "    <tr>\n",
       "      <th>2020-12-29</th>\n",
       "      <td>665.980</td>\n",
       "      <td>0.003329</td>\n",
       "      <td>0.571900</td>\n",
       "      <td>0</td>\n",
       "    </tr>\n",
       "    <tr>\n",
       "      <th>2020-12-31</th>\n",
       "      <td>705.210</td>\n",
       "      <td>0.015114</td>\n",
       "      <td>0.231250</td>\n",
       "      <td>1</td>\n",
       "    </tr>\n",
       "    <tr>\n",
       "      <th>2021-01-04</th>\n",
       "      <td>729.750</td>\n",
       "      <td>0.034798</td>\n",
       "      <td>0.000000</td>\n",
       "      <td>1</td>\n",
       "    </tr>\n",
       "    <tr>\n",
       "      <th>2021-01-05</th>\n",
       "      <td>735.055</td>\n",
       "      <td>0.007270</td>\n",
       "      <td>0.190900</td>\n",
       "      <td>0</td>\n",
       "    </tr>\n",
       "    <tr>\n",
       "      <th>2021-01-06</th>\n",
       "      <td>756.460</td>\n",
       "      <td>0.029120</td>\n",
       "      <td>-0.159100</td>\n",
       "      <td>1</td>\n",
       "    </tr>\n",
       "    <tr>\n",
       "      <th>2021-01-08</th>\n",
       "      <td>880.030</td>\n",
       "      <td>0.078151</td>\n",
       "      <td>0.525600</td>\n",
       "      <td>1</td>\n",
       "    </tr>\n",
       "    <tr>\n",
       "      <th>2021-01-12</th>\n",
       "      <td>849.220</td>\n",
       "      <td>0.046895</td>\n",
       "      <td>0.000000</td>\n",
       "      <td>1</td>\n",
       "    </tr>\n",
       "    <tr>\n",
       "      <th>2021-01-13</th>\n",
       "      <td>854.420</td>\n",
       "      <td>0.006123</td>\n",
       "      <td>-0.073280</td>\n",
       "      <td>0</td>\n",
       "    </tr>\n",
       "    <tr>\n",
       "      <th>2021-01-14</th>\n",
       "      <td>844.210</td>\n",
       "      <td>-0.011950</td>\n",
       "      <td>0.055104</td>\n",
       "      <td>-1</td>\n",
       "    </tr>\n",
       "  </tbody>\n",
       "</table>\n",
       "</div>"
      ],
      "text/plain": [
       "              close    return  compound  class\n",
       "2020-12-17  655.725  0.053086  0.000000      1\n",
       "2020-12-18  664.990  0.014129  0.743000      1\n",
       "2020-12-21  649.780 -0.022873  0.000000     -1\n",
       "2020-12-22  640.090 -0.014913  0.180600     -1\n",
       "2020-12-24  661.660  0.024273  0.000000      1\n",
       "2020-12-28  663.770  0.003189 -0.018650      0\n",
       "2020-12-29  665.980  0.003329  0.571900      0\n",
       "2020-12-31  705.210  0.015114  0.231250      1\n",
       "2021-01-04  729.750  0.034798  0.000000      1\n",
       "2021-01-05  735.055  0.007270  0.190900      0\n",
       "2021-01-06  756.460  0.029120 -0.159100      1\n",
       "2021-01-08  880.030  0.078151  0.525600      1\n",
       "2021-01-12  849.220  0.046895  0.000000      1\n",
       "2021-01-13  854.420  0.006123 -0.073280      0\n",
       "2021-01-14  844.210 -0.011950  0.055104     -1"
      ]
     },
     "execution_count": 9,
     "metadata": {},
     "output_type": "execute_result"
    }
   ],
   "source": [
    "tesla_df[\"class\"] = tesla_df[\"return\"].apply(lambda x: 1 if x >= 0.01 else (0 if -0.01<x<0.01 else -1))\n",
    "\n",
    "tesla_df.head(15)"
   ]
  },
  {
   "cell_type": "code",
   "execution_count": 10,
   "metadata": {},
   "outputs": [],
   "source": [
    "from sklearn.model_selection import train_test_split\n",
    "X_train, X_test, y_train, y_test = \\\n",
    "            train_test_split(tesla_df['compound'], tesla_df['class'], \n",
    "                             test_size=0.2,\n",
    "                             random_state=1,\n",
    "                             stratify=tesla_df['class']\n",
    "                            )\n",
    "\n",
    "X_train = X_train.values.reshape(-1,1)\n",
    "X_test = X_test.values.reshape(-1,1)"
   ]
  },
  {
   "cell_type": "markdown",
   "metadata": {},
   "source": [
    "## Choosing and fitting models"
   ]
  },
  {
   "cell_type": "code",
   "execution_count": 11,
   "metadata": {},
   "outputs": [],
   "source": [
    "# Compare the five models and choose the best one\n",
    "# Logistic regression\n",
    "from sklearn.linear_model import LogisticRegression\n",
    "algorithm1 = LogisticRegression(random_state=1)\n",
    "\n",
    "# Support vector machine\n",
    "from sklearn.svm import SVC\n",
    "algorithm2 = SVC(kernel='rbf', random_state=1)\n",
    "\n",
    "# Decision Tree Classifier\n",
    "from sklearn.tree import DecisionTreeClassifier\n",
    "algorithm3 = DecisionTreeClassifier(random_state=1)\n",
    "\n",
    "# Random Forest\n",
    "from sklearn.ensemble import RandomForestClassifier\n",
    "algorithm4 = RandomForestClassifier(random_state=1)\n",
    "\n",
    "# XGBoost\n",
    "from xgboost import XGBClassifier\n",
    "algorithm5 = XGBClassifier(random_state=1)\n",
    "\n",
    "# Create a list of the five model instances\n",
    "algorithms = [algorithm1, algorithm2, algorithm3, algorithm4, algorithm5]"
   ]
  },
  {
   "cell_type": "code",
   "execution_count": 12,
   "metadata": {},
   "outputs": [
    {
     "name": "stdout",
     "output_type": "stream",
     "text": [
      "LogisticRegression score: 0.5000\n",
      "SVC score: 0.5000\n",
      "DecisionTreeClassifier score: 0.5000\n",
      "RandomForestClassifier score: 0.5000\n",
      "[10:46:22] WARNING: C:/Users/Administrator/workspace/xgboost-win64_release_1.3.0/src/learner.cc:1061: Starting in XGBoost 1.3.0, the default evaluation metric used with the objective 'multi:softprob' was changed from 'merror' to 'mlogloss'. Explicitly set eval_metric if you'd like to restore the old behavior.\n",
      "XGBClassifier score: 0.5000\n"
     ]
    },
    {
     "name": "stderr",
     "output_type": "stream",
     "text": [
      "C:\\Users\\kn_na\\anaconda3\\lib\\site-packages\\xgboost\\sklearn.py:888: UserWarning: The use of label encoder in XGBClassifier is deprecated and will be removed in a future release. To remove this warning, do the following: 1) Pass option use_label_encoder=False when constructing XGBClassifier object; and 2) Encode your labels (y) as integers starting with 0, i.e. 0, 1, 2, ..., [num_class - 1].\n",
      "  warnings.warn(label_encoder_deprecation_msg, UserWarning)\n"
     ]
    }
   ],
   "source": [
    "# Compare the performance of the five models\n",
    "for algorithm in algorithms:\n",
    "    algorithm.fit(X_train, y_train)\n",
    "    score = algorithm.score(X_test, y_test)\n",
    "    name = algorithm.__class__.__name__\n",
    "    \n",
    "    print(f'{name} score: {score:.4f}')"
   ]
  },
  {
   "cell_type": "markdown",
   "metadata": {},
   "source": [
    "## Cross Validation"
   ]
  },
  {
   "cell_type": "code",
   "execution_count": 13,
   "metadata": {},
   "outputs": [],
   "source": [
    "# Create a list of the five model instances\n",
    "from sklearn.linear_model import LogisticRegression\n",
    "algorithm1 = LogisticRegression(random_state=1)\n",
    "\n",
    "from sklearn.svm import SVC\n",
    "algorithm2 = SVC(kernel='rbf', gamma=\"scale\", C=1, random_state=1)\n",
    "\n",
    "from sklearn.tree import DecisionTreeClassifier\n",
    "algorithm3 = DecisionTreeClassifier(random_state=1)\n",
    "\n",
    "from sklearn.ensemble import RandomForestClassifier\n",
    "algorithm4 = RandomForestClassifier(random_state=1)\n",
    "\n",
    "from xgboost import XGBClassifier\n",
    "algorithm5 = XGBClassifier(random_state=1)\n",
    "\n",
    "algorithms = [algorithm1, algorithm2, algorithm3, algorithm4, algorithm5]"
   ]
  },
  {
   "cell_type": "code",
   "execution_count": 14,
   "metadata": {},
   "outputs": [
    {
     "name": "stdout",
     "output_type": "stream",
     "text": [
      "LogisticRegression average score: 0.5000 / each score: [0.5 0.5 0.5]\n",
      "SVC average score: 0.5000 / each score: [0.5 0.5 0.5]\n",
      "DecisionTreeClassifier average score: 0.4167 / each score: [0.25 0.5  0.5 ]\n",
      "RandomForestClassifier average score: 0.4167 / each score: [0.25 0.5  0.5 ]\n",
      "[10:46:23] WARNING: C:/Users/Administrator/workspace/xgboost-win64_release_1.3.0/src/learner.cc:1061: Starting in XGBoost 1.3.0, the default evaluation metric used with the objective 'multi:softprob' was changed from 'merror' to 'mlogloss'. Explicitly set eval_metric if you'd like to restore the old behavior.\n",
      "[10:46:23] WARNING: C:/Users/Administrator/workspace/xgboost-win64_release_1.3.0/src/learner.cc:1061: Starting in XGBoost 1.3.0, the default evaluation metric used with the objective 'multi:softprob' was changed from 'merror' to 'mlogloss'. Explicitly set eval_metric if you'd like to restore the old behavior.\n"
     ]
    },
    {
     "name": "stderr",
     "output_type": "stream",
     "text": [
      "C:\\Users\\kn_na\\anaconda3\\lib\\site-packages\\xgboost\\sklearn.py:888: UserWarning: The use of label encoder in XGBClassifier is deprecated and will be removed in a future release. To remove this warning, do the following: 1) Pass option use_label_encoder=False when constructing XGBClassifier object; and 2) Encode your labels (y) as integers starting with 0, i.e. 0, 1, 2, ..., [num_class - 1].\n",
      "  warnings.warn(label_encoder_deprecation_msg, UserWarning)\n"
     ]
    },
    {
     "name": "stdout",
     "output_type": "stream",
     "text": [
      "[10:46:23] WARNING: C:/Users/Administrator/workspace/xgboost-win64_release_1.3.0/src/learner.cc:1061: Starting in XGBoost 1.3.0, the default evaluation metric used with the objective 'multi:softprob' was changed from 'merror' to 'mlogloss'. Explicitly set eval_metric if you'd like to restore the old behavior.\n",
      "XGBClassifier average score: 0.4167 / each score: [0.25 0.5  0.5 ]\n"
     ]
    }
   ],
   "source": [
    "# Compare the performance of the five models\n",
    "\n",
    "# Create a balanced set of samples, create a StratifiedKFold instance\n",
    "from sklearn.model_selection import StratifiedKFold\n",
    "stratifiedkfold = StratifiedKFold(n_splits=3)\n",
    "\n",
    "from sklearn.model_selection import cross_val_score\n",
    "\n",
    "for algorithm in algorithms:\n",
    "    # Conduct cross validation for each one of the five models\n",
    "    scores = cross_val_score(algorithm, X_train, y_train, cv=stratifiedkfold)\n",
    "    score = scores.mean()\n",
    "    name = algorithm.__class__.__name__\n",
    "    print(f'{name} average score: {score:.4f} / each score: {scores}')"
   ]
  },
  {
   "cell_type": "markdown",
   "metadata": {},
   "source": [
    "## Grid Search"
   ]
  },
  {
   "cell_type": "code",
   "execution_count": 15,
   "metadata": {},
   "outputs": [
    {
     "name": "stdout",
     "output_type": "stream",
     "text": [
      "SVC(C=1, gamma=1, random_state=1)\n"
     ]
    }
   ],
   "source": [
    "# Optimize the parameters\n",
    "params = {'C':[1, 10, 100, 1000, 10000], 'gamma':[1, 0.1, 0.01, 0.001, 0.0001, 0.00001]}\n",
    "algorithm = SVC(random_state=1)\n",
    "\n",
    "from sklearn.model_selection import StratifiedKFold\n",
    "stratifiedkfold = StratifiedKFold(n_splits=3)\n",
    "\n",
    "from sklearn.model_selection import GridSearchCV\n",
    "gs = GridSearchCV(algorithm, params, cv=stratifiedkfold)\n",
    "gs.fit(X_train, y_train)\n",
    "\n",
    "# Based on the best parameters, predict y values from test data\n",
    "best = gs.best_estimator_\n",
    "best_pred = best.predict(X_test)\n",
    "print(best)"
   ]
  },
  {
   "cell_type": "code",
   "execution_count": 16,
   "metadata": {},
   "outputs": [
    {
     "name": "stdout",
     "output_type": "stream",
     "text": [
      "score: 0.5000\n",
      "confusion matrix\n",
      "[[0 0 1]\n",
      " [0 0 1]\n",
      " [0 0 2]]\n"
     ]
    }
   ],
   "source": [
    "# Accuracy\n",
    "score = best.score(X_test, y_test)\n",
    "print(f'score: {score:.4f}')\n",
    "\n",
    "# Confusion matrix\n",
    "from sklearn.metrics import confusion_matrix\n",
    "print('confusion matrix')\n",
    "print(confusion_matrix(y_test, best_pred))"
   ]
  },
  {
   "cell_type": "code",
   "execution_count": null,
   "metadata": {},
   "outputs": [],
   "source": []
  },
  {
   "cell_type": "code",
   "execution_count": null,
   "metadata": {},
   "outputs": [],
   "source": []
  },
  {
   "cell_type": "code",
   "execution_count": null,
   "metadata": {},
   "outputs": [],
   "source": []
  },
  {
   "cell_type": "code",
   "execution_count": null,
   "metadata": {},
   "outputs": [],
   "source": []
  },
  {
   "cell_type": "code",
   "execution_count": null,
   "metadata": {},
   "outputs": [],
   "source": []
  },
  {
   "cell_type": "code",
   "execution_count": null,
   "metadata": {},
   "outputs": [],
   "source": []
  },
  {
   "cell_type": "code",
   "execution_count": null,
   "metadata": {},
   "outputs": [],
   "source": []
  },
  {
   "cell_type": "code",
   "execution_count": null,
   "metadata": {},
   "outputs": [],
   "source": []
  },
  {
   "cell_type": "code",
   "execution_count": null,
   "metadata": {},
   "outputs": [],
   "source": []
  },
  {
   "cell_type": "code",
   "execution_count": null,
   "metadata": {},
   "outputs": [],
   "source": []
  },
  {
   "cell_type": "code",
   "execution_count": null,
   "metadata": {},
   "outputs": [],
   "source": []
  },
  {
   "cell_type": "code",
   "execution_count": null,
   "metadata": {},
   "outputs": [],
   "source": []
  },
  {
   "cell_type": "code",
   "execution_count": null,
   "metadata": {},
   "outputs": [],
   "source": []
  },
  {
   "cell_type": "code",
   "execution_count": null,
   "metadata": {},
   "outputs": [],
   "source": []
  },
  {
   "cell_type": "code",
   "execution_count": null,
   "metadata": {},
   "outputs": [],
   "source": []
  },
  {
   "cell_type": "code",
   "execution_count": null,
   "metadata": {},
   "outputs": [],
   "source": []
  },
  {
   "cell_type": "code",
   "execution_count": null,
   "metadata": {},
   "outputs": [],
   "source": []
  },
  {
   "cell_type": "code",
   "execution_count": null,
   "metadata": {},
   "outputs": [],
   "source": []
  },
  {
   "cell_type": "code",
   "execution_count": null,
   "metadata": {},
   "outputs": [],
   "source": []
  },
  {
   "cell_type": "code",
   "execution_count": null,
   "metadata": {},
   "outputs": [],
   "source": []
  },
  {
   "cell_type": "code",
   "execution_count": null,
   "metadata": {},
   "outputs": [],
   "source": []
  },
  {
   "cell_type": "code",
   "execution_count": null,
   "metadata": {},
   "outputs": [],
   "source": []
  },
  {
   "cell_type": "code",
   "execution_count": null,
   "metadata": {},
   "outputs": [],
   "source": []
  },
  {
   "cell_type": "code",
   "execution_count": null,
   "metadata": {},
   "outputs": [],
   "source": []
  },
  {
   "cell_type": "code",
   "execution_count": null,
   "metadata": {},
   "outputs": [],
   "source": []
  },
  {
   "cell_type": "code",
   "execution_count": null,
   "metadata": {},
   "outputs": [],
   "source": []
  },
  {
   "cell_type": "code",
   "execution_count": null,
   "metadata": {},
   "outputs": [],
   "source": []
  },
  {
   "cell_type": "code",
   "execution_count": null,
   "metadata": {},
   "outputs": [],
   "source": []
  },
  {
   "cell_type": "code",
   "execution_count": null,
   "metadata": {},
   "outputs": [],
   "source": []
  },
  {
   "cell_type": "code",
   "execution_count": null,
   "metadata": {},
   "outputs": [],
   "source": []
  },
  {
   "cell_type": "code",
   "execution_count": null,
   "metadata": {},
   "outputs": [],
   "source": []
  },
  {
   "cell_type": "code",
   "execution_count": null,
   "metadata": {},
   "outputs": [],
   "source": []
  },
  {
   "cell_type": "code",
   "execution_count": null,
   "metadata": {},
   "outputs": [],
   "source": []
  },
  {
   "cell_type": "code",
   "execution_count": null,
   "metadata": {},
   "outputs": [],
   "source": []
  },
  {
   "cell_type": "code",
   "execution_count": null,
   "metadata": {},
   "outputs": [],
   "source": []
  },
  {
   "cell_type": "code",
   "execution_count": null,
   "metadata": {},
   "outputs": [],
   "source": []
  },
  {
   "cell_type": "code",
   "execution_count": null,
   "metadata": {},
   "outputs": [],
   "source": []
  },
  {
   "cell_type": "code",
   "execution_count": null,
   "metadata": {},
   "outputs": [],
   "source": []
  },
  {
   "cell_type": "code",
   "execution_count": null,
   "metadata": {},
   "outputs": [],
   "source": []
  },
  {
   "cell_type": "code",
   "execution_count": null,
   "metadata": {},
   "outputs": [],
   "source": []
  },
  {
   "cell_type": "code",
   "execution_count": null,
   "metadata": {},
   "outputs": [],
   "source": []
  },
  {
   "cell_type": "code",
   "execution_count": null,
   "metadata": {},
   "outputs": [],
   "source": []
  },
  {
   "cell_type": "code",
   "execution_count": null,
   "metadata": {},
   "outputs": [],
   "source": []
  },
  {
   "cell_type": "code",
   "execution_count": null,
   "metadata": {},
   "outputs": [],
   "source": []
  },
  {
   "cell_type": "code",
   "execution_count": null,
   "metadata": {},
   "outputs": [],
   "source": []
  },
  {
   "cell_type": "code",
   "execution_count": null,
   "metadata": {},
   "outputs": [],
   "source": []
  },
  {
   "cell_type": "code",
   "execution_count": null,
   "metadata": {},
   "outputs": [],
   "source": []
  },
  {
   "cell_type": "code",
   "execution_count": null,
   "metadata": {},
   "outputs": [],
   "source": []
  },
  {
   "cell_type": "code",
   "execution_count": null,
   "metadata": {},
   "outputs": [],
   "source": []
  },
  {
   "cell_type": "code",
   "execution_count": null,
   "metadata": {},
   "outputs": [],
   "source": []
  }
 ],
 "metadata": {
  "kernelspec": {
   "display_name": "x",
   "language": "python",
   "name": "x"
  },
  "language_info": {
   "codemirror_mode": {
    "name": "ipython",
    "version": 3
   },
   "file_extension": ".py",
   "mimetype": "text/x-python",
   "name": "python",
   "nbconvert_exporter": "python",
   "pygments_lexer": "ipython3",
   "version": "3.8.5"
  }
 },
 "nbformat": 4,
 "nbformat_minor": 4
}
