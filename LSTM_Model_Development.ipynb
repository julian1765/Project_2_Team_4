{
 "cells": [
  {
   "cell_type": "markdown",
   "metadata": {
    "colab_type": "text",
    "id": "view-in-github"
   },
   "source": [
    "<a href=\"https://colab.research.google.com/github/julian1765/Project_2_Team_4/blob/main/LSTM_Model_Development.ipynb\" target=\"_parent\"><img src=\"https://colab.research.google.com/assets/colab-badge.svg\" alt=\"Open In Colab\"/></a>"
   ]
  },
  {
   "cell_type": "code",
   "execution_count": 1,
   "metadata": {
    "colab": {
     "base_uri": "https://localhost:8080/"
    },
    "id": "E3lEZymBB3QF",
    "outputId": "1fd6fb36-63d8-435a-cf91-3ebf19dbe363"
   },
   "outputs": [
    {
     "name": "stdout",
     "output_type": "stream",
     "text": [
      "[nltk_data] Downloading package stopwords to /root/nltk_data...\n",
      "[nltk_data]   Package stopwords is already up-to-date!\n",
      "Uninstalling twint-2.1.21:\n",
      "  Would remove:\n",
      "    /root/.local/bin/twint\n",
      "    /root/.local/lib/python3.6/site-packages/twint-2.1.21.dist-info/*\n",
      "    /root/.local/lib/python3.6/site-packages/twint/*\n",
      "Proceed (y/n)? y\n",
      "  Successfully uninstalled twint-2.1.21\n",
      "Collecting twint\n",
      "  Cloning https://github.com/twintproject/twint.git (to revision origin/master) to /tmp/pip-install-4xf9ag9b/twint\n",
      "  Running command git clone -q https://github.com/twintproject/twint.git /tmp/pip-install-4xf9ag9b/twint\n",
      "\u001b[33m  WARNING: Did not find branch or tag 'origin/master', assuming revision or ref.\u001b[0m\n",
      "  Running command git checkout -q origin/master\n",
      "Requirement already satisfied, skipping upgrade: aiohttp in /root/.local/lib/python3.6/site-packages (from twint) (3.7.3)\n",
      "Requirement already satisfied, skipping upgrade: aiodns in /root/.local/lib/python3.6/site-packages (from twint) (2.0.0)\n",
      "Requirement already satisfied, skipping upgrade: beautifulsoup4 in /usr/local/lib/python3.6/dist-packages (from twint) (4.6.3)\n",
      "Requirement already satisfied, skipping upgrade: cchardet in /root/.local/lib/python3.6/site-packages (from twint) (2.1.7)\n",
      "Requirement already satisfied, skipping upgrade: dataclasses in /usr/local/lib/python3.6/dist-packages (from twint) (0.8)\n",
      "Requirement already satisfied, skipping upgrade: elasticsearch in /root/.local/lib/python3.6/site-packages (from twint) (7.10.1)\n",
      "Requirement already satisfied, skipping upgrade: pysocks in /usr/local/lib/python3.6/dist-packages (from twint) (1.7.1)\n",
      "Requirement already satisfied, skipping upgrade: pandas in /usr/local/lib/python3.6/dist-packages (from twint) (1.1.5)\n",
      "Requirement already satisfied, skipping upgrade: aiohttp_socks in /root/.local/lib/python3.6/site-packages (from twint) (0.5.5)\n",
      "Requirement already satisfied, skipping upgrade: schedule in /root/.local/lib/python3.6/site-packages (from twint) (0.6.0)\n",
      "Requirement already satisfied, skipping upgrade: geopy in /usr/local/lib/python3.6/dist-packages (from twint) (1.17.0)\n",
      "Requirement already satisfied, skipping upgrade: fake-useragent in /root/.local/lib/python3.6/site-packages (from twint) (0.1.11)\n",
      "Requirement already satisfied, skipping upgrade: googletransx in /root/.local/lib/python3.6/site-packages (from twint) (2.4.2)\n",
      "Requirement already satisfied, skipping upgrade: yarl<2.0,>=1.0 in /root/.local/lib/python3.6/site-packages (from aiohttp->twint) (1.6.3)\n",
      "Requirement already satisfied, skipping upgrade: async-timeout<4.0,>=3.0 in /root/.local/lib/python3.6/site-packages (from aiohttp->twint) (3.0.1)\n",
      "Requirement already satisfied, skipping upgrade: multidict<7.0,>=4.5 in /root/.local/lib/python3.6/site-packages (from aiohttp->twint) (5.1.0)\n",
      "Requirement already satisfied, skipping upgrade: chardet<4.0,>=2.0 in /usr/local/lib/python3.6/dist-packages (from aiohttp->twint) (3.0.4)\n",
      "Requirement already satisfied, skipping upgrade: attrs>=17.3.0 in /usr/local/lib/python3.6/dist-packages (from aiohttp->twint) (20.3.0)\n",
      "Requirement already satisfied, skipping upgrade: idna-ssl>=1.0; python_version < \"3.7\" in /root/.local/lib/python3.6/site-packages (from aiohttp->twint) (1.1.0)\n",
      "Requirement already satisfied, skipping upgrade: typing-extensions>=3.6.5 in /usr/local/lib/python3.6/dist-packages (from aiohttp->twint) (3.7.4.3)\n",
      "Requirement already satisfied, skipping upgrade: pycares>=3.0.0 in /root/.local/lib/python3.6/site-packages (from aiodns->twint) (3.1.1)\n",
      "Requirement already satisfied, skipping upgrade: typing; python_version < \"3.7\" in /root/.local/lib/python3.6/site-packages (from aiodns->twint) (3.7.4.3)\n",
      "Requirement already satisfied, skipping upgrade: urllib3<2,>=1.21.1 in /usr/local/lib/python3.6/dist-packages (from elasticsearch->twint) (1.24.3)\n",
      "Requirement already satisfied, skipping upgrade: certifi in /usr/local/lib/python3.6/dist-packages (from elasticsearch->twint) (2020.12.5)\n",
      "Requirement already satisfied, skipping upgrade: numpy>=1.15.4 in /usr/local/lib/python3.6/dist-packages (from pandas->twint) (1.19.5)\n",
      "Requirement already satisfied, skipping upgrade: pytz>=2017.2 in /usr/local/lib/python3.6/dist-packages (from pandas->twint) (2018.9)\n",
      "Requirement already satisfied, skipping upgrade: python-dateutil>=2.7.3 in /usr/local/lib/python3.6/dist-packages (from pandas->twint) (2.8.1)\n",
      "Requirement already satisfied, skipping upgrade: python-socks[asyncio]>=1.0.1 in /root/.local/lib/python3.6/site-packages (from aiohttp_socks->twint) (1.2.0)\n",
      "Requirement already satisfied, skipping upgrade: geographiclib<2,>=1.49 in /usr/local/lib/python3.6/dist-packages (from geopy->twint) (1.50)\n",
      "Requirement already satisfied, skipping upgrade: requests in /usr/local/lib/python3.6/dist-packages (from googletransx->twint) (2.23.0)\n",
      "Requirement already satisfied, skipping upgrade: idna>=2.0 in /usr/local/lib/python3.6/dist-packages (from yarl<2.0,>=1.0->aiohttp->twint) (2.10)\n",
      "Requirement already satisfied, skipping upgrade: cffi>=1.5.0 in /usr/local/lib/python3.6/dist-packages (from pycares>=3.0.0->aiodns->twint) (1.14.4)\n",
      "Requirement already satisfied, skipping upgrade: six>=1.5 in /usr/local/lib/python3.6/dist-packages (from python-dateutil>=2.7.3->pandas->twint) (1.15.0)\n",
      "Requirement already satisfied, skipping upgrade: pycparser in /usr/local/lib/python3.6/dist-packages (from cffi>=1.5.0->pycares>=3.0.0->aiodns->twint) (2.20)\n",
      "Building wheels for collected packages: twint\n",
      "  Building wheel for twint (setup.py) ... \u001b[?25l\u001b[?25hdone\n",
      "  Created wheel for twint: filename=twint-2.1.21-cp36-none-any.whl size=38761 sha256=9b10eec7e90e6083d6ec646af9f8356d1ffac3e99ffdad14f0fbb26d143cf29e\n",
      "  Stored in directory: /tmp/pip-ephem-wheel-cache-ntftgd5p/wheels/4f/3b/75/62d04b3b446658ba85401e8868d3cd1d4bc22f17ad755460a6\n",
      "Successfully built twint\n",
      "Installing collected packages: twint\n",
      "\u001b[33m  WARNING: The script twint is installed in '/root/.local/bin' which is not on PATH.\n",
      "  Consider adding this directory to PATH or, if you prefer to suppress this warning, use --no-warn-script-location.\u001b[0m\n",
      "Successfully installed twint-2.1.21\n",
      "Requirement already satisfied: nest_asyncio in /usr/local/lib/python3.6/dist-packages (1.4.3)\n"
     ]
    }
   ],
   "source": [
    "# Initial Imports\n",
    "from sklearn.preprocessing import LabelEncoder\n",
    "import pandas as pd\n",
    "import numpy as np\n",
    "from pathlib import Path\n",
    "import tensorflow as tf\n",
    "import regex as re\n",
    "import nltk\n",
    "nltk.download('stopwords')\n",
    "%matplotlib inline\n",
    "\n",
    "# Install twin and asyncio\n",
    "!pip3 uninstall twint\n",
    "!pip3 install --user --upgrade git+https://github.com/twintproject/twint.git@origin/master#egg=twint\n",
    "!pip install -qq whatthelang\n",
    "!pip install nest_asyncio"
   ]
  },
  {
   "cell_type": "code",
   "execution_count": 2,
   "metadata": {
    "id": "xLICDRRuCC0a"
   },
   "outputs": [],
   "source": [
    "# Set the random seed for reproducibility\n",
    "from numpy.random import seed\n",
    "seed(1)\n",
    "\n",
    "from tensorflow import random\n",
    "random.set_seed(2)"
   ]
  },
  {
   "cell_type": "code",
   "execution_count": 3,
   "metadata": {
    "id": "IMRXB3TcChiX"
   },
   "outputs": [],
   "source": [
    "# Data crawling using Twint\n",
    "import twint\n",
    "import nest_asyncio\n",
    "nest_asyncio.apply()\n",
    "\n",
    "import datetime\n",
    "\n",
    "# Fetch data in a example data frame: 2020-04-14 00:00:00 to 2020-04-14 00:30:00\n",
    "\n",
    "start_time='2020-01-01 00:00:00'\n",
    "\n",
    "c = twint.Config()\n",
    "c.Search = \"tesla\"\n",
    "c.Lang=\"en\"\n",
    "c.Since= start_time\n",
    "c.Limit = 5000\n",
    "c.Pandas = True\n",
    "c.Store_csv = True\n",
    "c.Retries_count = 20\n",
    "c.Hide_output = True\n",
    "c.Custom[\"tweet\"] = [\"id\", \"date\", \"time\", \"tweet\", \"retweets_count\", \"likes_count\"]\n",
    "c.Resume = \"./test.session\"\n",
    "c.Output = \"./test.csv\"\n",
    "twint.run.Search(c)"
   ]
  },
  {
   "cell_type": "code",
   "execution_count": 4,
   "metadata": {
    "colab": {
     "base_uri": "https://localhost:8080/",
     "height": 204
    },
    "id": "DSKHbxW8C7Eu",
    "outputId": "d6728a7b-5adb-4996-ac0e-3084f54c0885"
   },
   "outputs": [
    {
     "data": {
      "text/html": [
       "<div>\n",
       "<style scoped>\n",
       "    .dataframe tbody tr th:only-of-type {\n",
       "        vertical-align: middle;\n",
       "    }\n",
       "\n",
       "    .dataframe tbody tr th {\n",
       "        vertical-align: top;\n",
       "    }\n",
       "\n",
       "    .dataframe thead th {\n",
       "        text-align: right;\n",
       "    }\n",
       "</style>\n",
       "<table border=\"1\" class=\"dataframe\">\n",
       "  <thead>\n",
       "    <tr style=\"text-align: right;\">\n",
       "      <th></th>\n",
       "      <th>id</th>\n",
       "      <th>date</th>\n",
       "      <th>time</th>\n",
       "      <th>tweet</th>\n",
       "      <th>retweets_count</th>\n",
       "      <th>likes_count</th>\n",
       "    </tr>\n",
       "  </thead>\n",
       "  <tbody>\n",
       "    <tr>\n",
       "      <th>0</th>\n",
       "      <td>1350946555059195911</td>\n",
       "      <td>2021-01-17</td>\n",
       "      <td>23:22:12</td>\n",
       "      <td>@Marston4ca42 @Elmanogonsalves Competitor? I a...</td>\n",
       "      <td>0</td>\n",
       "      <td>0</td>\n",
       "    </tr>\n",
       "    <tr>\n",
       "      <th>1</th>\n",
       "      <td>1350946533122977792</td>\n",
       "      <td>2021-01-17</td>\n",
       "      <td>23:22:07</td>\n",
       "      <td>Yo! Is it too late to buy the @Tesla truck,......</td>\n",
       "      <td>0</td>\n",
       "      <td>0</td>\n",
       "    </tr>\n",
       "    <tr>\n",
       "      <th>2</th>\n",
       "      <td>1350946522624647175</td>\n",
       "      <td>2021-01-17</td>\n",
       "      <td>23:22:05</td>\n",
       "      <td>$TSLA - Why doesn’t Tesla show 7 adults seated...</td>\n",
       "      <td>0</td>\n",
       "      <td>0</td>\n",
       "    </tr>\n",
       "    <tr>\n",
       "      <th>3</th>\n",
       "      <td>1350946510796705796</td>\n",
       "      <td>2021-01-17</td>\n",
       "      <td>23:22:02</td>\n",
       "      <td>Tesla Takes Legal Action Against Chinese News ...</td>\n",
       "      <td>0</td>\n",
       "      <td>0</td>\n",
       "    </tr>\n",
       "    <tr>\n",
       "      <th>4</th>\n",
       "      <td>1350946495751725065</td>\n",
       "      <td>2021-01-17</td>\n",
       "      <td>23:21:58</td>\n",
       "      <td>@TimJDillon Tim shitting on people who own Tes...</td>\n",
       "      <td>0</td>\n",
       "      <td>0</td>\n",
       "    </tr>\n",
       "  </tbody>\n",
       "</table>\n",
       "</div>"
      ],
      "text/plain": [
       "                    id        date  ... retweets_count likes_count\n",
       "0  1350946555059195911  2021-01-17  ...              0           0\n",
       "1  1350946533122977792  2021-01-17  ...              0           0\n",
       "2  1350946522624647175  2021-01-17  ...              0           0\n",
       "3  1350946510796705796  2021-01-17  ...              0           0\n",
       "4  1350946495751725065  2021-01-17  ...              0           0\n",
       "\n",
       "[5 rows x 6 columns]"
      ]
     },
     "execution_count": 4,
     "metadata": {
      "tags": []
     },
     "output_type": "execute_result"
    }
   ],
   "source": [
    "# Load data\n",
    "file_path = 'test.csv'\n",
    "df = pd.read_csv(file_path)\n",
    "df.head()"
   ]
  },
  {
   "cell_type": "code",
   "execution_count": 5,
   "metadata": {
    "colab": {
     "base_uri": "https://localhost:8080/",
     "height": 445
    },
    "id": "6RtLG4dkLLJJ",
    "outputId": "9c31cd14-5a91-4fbb-9076-6249ae1136ba"
   },
   "outputs": [
    {
     "name": "stdout",
     "output_type": "stream",
     "text": [
      "[nltk_data] Downloading package vader_lexicon to /root/nltk_data...\n"
     ]
    },
    {
     "name": "stderr",
     "output_type": "stream",
     "text": [
      "/usr/local/lib/python3.6/dist-packages/nltk/twitter/__init__.py:20: UserWarning: The twython library has not been installed. Some functionality from the twitter package will not be available.\n",
      "  warnings.warn(\"The twython library has not been installed. \"\n"
     ]
    },
    {
     "data": {
      "text/html": [
       "<div>\n",
       "<style scoped>\n",
       "    .dataframe tbody tr th:only-of-type {\n",
       "        vertical-align: middle;\n",
       "    }\n",
       "\n",
       "    .dataframe tbody tr th {\n",
       "        vertical-align: top;\n",
       "    }\n",
       "\n",
       "    .dataframe thead th {\n",
       "        text-align: right;\n",
       "    }\n",
       "</style>\n",
       "<table border=\"1\" class=\"dataframe\">\n",
       "  <thead>\n",
       "    <tr style=\"text-align: right;\">\n",
       "      <th></th>\n",
       "      <th>Compound</th>\n",
       "      <th>Negative</th>\n",
       "      <th>Neutral</th>\n",
       "      <th>Positive</th>\n",
       "      <th>id</th>\n",
       "      <th>date</th>\n",
       "      <th>time</th>\n",
       "      <th>tweet</th>\n",
       "      <th>retweets_count</th>\n",
       "      <th>likes_count</th>\n",
       "    </tr>\n",
       "  </thead>\n",
       "  <tbody>\n",
       "    <tr>\n",
       "      <th>0</th>\n",
       "      <td>-0.5757</td>\n",
       "      <td>0.224</td>\n",
       "      <td>0.619</td>\n",
       "      <td>0.157</td>\n",
       "      <td>1350946555059195911</td>\n",
       "      <td>2021-01-17</td>\n",
       "      <td>23:22:12</td>\n",
       "      <td>@Marston4ca42 @Elmanogonsalves Competitor? I a...</td>\n",
       "      <td>0</td>\n",
       "      <td>0</td>\n",
       "    </tr>\n",
       "    <tr>\n",
       "      <th>1</th>\n",
       "      <td>0.0000</td>\n",
       "      <td>0.000</td>\n",
       "      <td>1.000</td>\n",
       "      <td>0.000</td>\n",
       "      <td>1350946533122977792</td>\n",
       "      <td>2021-01-17</td>\n",
       "      <td>23:22:07</td>\n",
       "      <td>Yo! Is it too late to buy the @Tesla truck,......</td>\n",
       "      <td>0</td>\n",
       "      <td>0</td>\n",
       "    </tr>\n",
       "    <tr>\n",
       "      <th>2</th>\n",
       "      <td>-0.6739</td>\n",
       "      <td>0.171</td>\n",
       "      <td>0.829</td>\n",
       "      <td>0.000</td>\n",
       "      <td>1350946522624647175</td>\n",
       "      <td>2021-01-17</td>\n",
       "      <td>23:22:05</td>\n",
       "      <td>$TSLA - Why doesn’t Tesla show 7 adults seated...</td>\n",
       "      <td>0</td>\n",
       "      <td>0</td>\n",
       "    </tr>\n",
       "    <tr>\n",
       "      <th>3</th>\n",
       "      <td>0.1280</td>\n",
       "      <td>0.000</td>\n",
       "      <td>0.923</td>\n",
       "      <td>0.077</td>\n",
       "      <td>1350946510796705796</td>\n",
       "      <td>2021-01-17</td>\n",
       "      <td>23:22:02</td>\n",
       "      <td>Tesla Takes Legal Action Against Chinese News ...</td>\n",
       "      <td>0</td>\n",
       "      <td>0</td>\n",
       "    </tr>\n",
       "    <tr>\n",
       "      <th>4</th>\n",
       "      <td>-0.2349</td>\n",
       "      <td>0.157</td>\n",
       "      <td>0.748</td>\n",
       "      <td>0.094</td>\n",
       "      <td>1350946495751725065</td>\n",
       "      <td>2021-01-17</td>\n",
       "      <td>23:21:58</td>\n",
       "      <td>@TimJDillon Tim shitting on people who own Tes...</td>\n",
       "      <td>0</td>\n",
       "      <td>0</td>\n",
       "    </tr>\n",
       "  </tbody>\n",
       "</table>\n",
       "</div>"
      ],
      "text/plain": [
       "   Compound  Negative  ...  retweets_count  likes_count\n",
       "0   -0.5757     0.224  ...               0            0\n",
       "1    0.0000     0.000  ...               0            0\n",
       "2   -0.6739     0.171  ...               0            0\n",
       "3    0.1280     0.000  ...               0            0\n",
       "4   -0.2349     0.157  ...               0            0\n",
       "\n",
       "[5 rows x 10 columns]"
      ]
     },
     "execution_count": 5,
     "metadata": {
      "tags": []
     },
     "output_type": "execute_result"
    }
   ],
   "source": [
    "# Initialize dictionary to hold the compound, negative, neutral and positive scores for the tweets\n",
    "import nltk\n",
    "nltk.download('vader_lexicon')\n",
    "from nltk.sentiment.vader import SentimentIntensityAnalyzer\n",
    "from nltk.stem import WordNetLemmatizer \n",
    "\n",
    "analyzer = SentimentIntensityAnalyzer()\n",
    "text_sent = {'Compound':[],\n",
    "                 'Negative':[],\n",
    "                 'Neutral':[],\n",
    "                 'Positive':[]}\n",
    "# Get sentiment from articles\n",
    "for index, row in df.iterrows():\n",
    "    try:\n",
    "        text_sentiment = analyzer.polarity_scores(row[\"tweet\"])\n",
    "        text_sent[\"Compound\"].append(text_sentiment[\"compound\"])\n",
    "        text_sent[\"Negative\"].append(text_sentiment[\"neg\"])\n",
    "        text_sent[\"Neutral\"].append(text_sentiment[\"neu\"])\n",
    "        text_sent[\"Positive\"].append(text_sentiment[\"pos\"])\n",
    "        #text_sent[\"text_sent\"].append(get_sentiment(text_sentiment[\"compound\"]))\n",
    "    except AttributeError:\n",
    "        pass\n",
    "# Add the newly created scores to the previously created bitcoin dataframe\n",
    "text_sent_df = pd.DataFrame(text_sent)\n",
    "test_sentiment = text_sent_df.join(df)\n",
    "test_sentiment.head()"
   ]
  },
  {
   "cell_type": "code",
   "execution_count": 6,
   "metadata": {
    "colab": {
     "base_uri": "https://localhost:8080/",
     "height": 394
    },
    "id": "Db9byRa2OyEi",
    "outputId": "4e78390c-8491-4da9-d996-34ed65ce4a61"
   },
   "outputs": [
    {
     "data": {
      "text/html": [
       "<div>\n",
       "<style scoped>\n",
       "    .dataframe tbody tr th:only-of-type {\n",
       "        vertical-align: middle;\n",
       "    }\n",
       "\n",
       "    .dataframe tbody tr th {\n",
       "        vertical-align: top;\n",
       "    }\n",
       "\n",
       "    .dataframe thead th {\n",
       "        text-align: right;\n",
       "    }\n",
       "</style>\n",
       "<table border=\"1\" class=\"dataframe\">\n",
       "  <thead>\n",
       "    <tr style=\"text-align: right;\">\n",
       "      <th></th>\n",
       "      <th>Compound</th>\n",
       "      <th>Negative</th>\n",
       "      <th>Neutral</th>\n",
       "      <th>Positive</th>\n",
       "      <th>id</th>\n",
       "      <th>date</th>\n",
       "      <th>time</th>\n",
       "      <th>tweet</th>\n",
       "      <th>retweets_count</th>\n",
       "      <th>likes_count</th>\n",
       "      <th>Sentiment_Score</th>\n",
       "    </tr>\n",
       "  </thead>\n",
       "  <tbody>\n",
       "    <tr>\n",
       "      <th>0</th>\n",
       "      <td>-0.5757</td>\n",
       "      <td>0.224</td>\n",
       "      <td>0.619</td>\n",
       "      <td>0.157</td>\n",
       "      <td>1350946555059195911</td>\n",
       "      <td>2021-01-17</td>\n",
       "      <td>23:22:12</td>\n",
       "      <td>@Marston4ca42 @Elmanogonsalves Competitor? I a...</td>\n",
       "      <td>0</td>\n",
       "      <td>0</td>\n",
       "      <td>-1.0</td>\n",
       "    </tr>\n",
       "    <tr>\n",
       "      <th>1</th>\n",
       "      <td>0.0000</td>\n",
       "      <td>0.000</td>\n",
       "      <td>1.000</td>\n",
       "      <td>0.000</td>\n",
       "      <td>1350946533122977792</td>\n",
       "      <td>2021-01-17</td>\n",
       "      <td>23:22:07</td>\n",
       "      <td>Yo! Is it too late to buy the @Tesla truck,......</td>\n",
       "      <td>0</td>\n",
       "      <td>0</td>\n",
       "      <td>0.0</td>\n",
       "    </tr>\n",
       "    <tr>\n",
       "      <th>2</th>\n",
       "      <td>-0.6739</td>\n",
       "      <td>0.171</td>\n",
       "      <td>0.829</td>\n",
       "      <td>0.000</td>\n",
       "      <td>1350946522624647175</td>\n",
       "      <td>2021-01-17</td>\n",
       "      <td>23:22:05</td>\n",
       "      <td>$TSLA - Why doesn’t Tesla show 7 adults seated...</td>\n",
       "      <td>0</td>\n",
       "      <td>0</td>\n",
       "      <td>-1.0</td>\n",
       "    </tr>\n",
       "    <tr>\n",
       "      <th>3</th>\n",
       "      <td>0.1280</td>\n",
       "      <td>0.000</td>\n",
       "      <td>0.923</td>\n",
       "      <td>0.077</td>\n",
       "      <td>1350946510796705796</td>\n",
       "      <td>2021-01-17</td>\n",
       "      <td>23:22:02</td>\n",
       "      <td>Tesla Takes Legal Action Against Chinese News ...</td>\n",
       "      <td>0</td>\n",
       "      <td>0</td>\n",
       "      <td>1.0</td>\n",
       "    </tr>\n",
       "    <tr>\n",
       "      <th>4</th>\n",
       "      <td>-0.2349</td>\n",
       "      <td>0.157</td>\n",
       "      <td>0.748</td>\n",
       "      <td>0.094</td>\n",
       "      <td>1350946495751725065</td>\n",
       "      <td>2021-01-17</td>\n",
       "      <td>23:21:58</td>\n",
       "      <td>@TimJDillon Tim shitting on people who own Tes...</td>\n",
       "      <td>0</td>\n",
       "      <td>0</td>\n",
       "      <td>-1.0</td>\n",
       "    </tr>\n",
       "  </tbody>\n",
       "</table>\n",
       "</div>"
      ],
      "text/plain": [
       "   Compound  Negative  Neutral  ...  retweets_count  likes_count Sentiment_Score\n",
       "0   -0.5757     0.224    0.619  ...               0            0            -1.0\n",
       "1    0.0000     0.000    1.000  ...               0            0             0.0\n",
       "2   -0.6739     0.171    0.829  ...               0            0            -1.0\n",
       "3    0.1280     0.000    0.923  ...               0            0             1.0\n",
       "4   -0.2349     0.157    0.748  ...               0            0            -1.0\n",
       "\n",
       "[5 rows x 11 columns]"
      ]
     },
     "execution_count": 6,
     "metadata": {
      "tags": []
     },
     "output_type": "execute_result"
    }
   ],
   "source": [
    "# Adding a Setiment Score to the Test DataFrame\n",
    "test_sentiment['Sentiment_Score'] = np.nan\n",
    "test_sentiment.loc[test_sentiment['Compound'] >= 0.05, 'Sentiment_Score'] = 1\n",
    "test_sentiment.loc[test_sentiment['Compound'] <= - 0.05, 'Sentiment_Score'] = -1\n",
    "test_sentiment.loc[(test_sentiment['Compound'] < 0.05) & (test_sentiment['Compound'] > -0.05), 'Sentiment_Score']= 0\n",
    "test_sentiment.head()"
   ]
  },
  {
   "cell_type": "code",
   "execution_count": 7,
   "metadata": {
    "colab": {
     "base_uri": "https://localhost:8080/",
     "height": 394
    },
    "id": "nbHFQEYAPOAf",
    "outputId": "f76c5bb0-15b3-4c89-ce73-00ff1fdc9aad"
   },
   "outputs": [
    {
     "data": {
      "text/html": [
       "<div>\n",
       "<style scoped>\n",
       "    .dataframe tbody tr th:only-of-type {\n",
       "        vertical-align: middle;\n",
       "    }\n",
       "\n",
       "    .dataframe tbody tr th {\n",
       "        vertical-align: top;\n",
       "    }\n",
       "\n",
       "    .dataframe thead th {\n",
       "        text-align: right;\n",
       "    }\n",
       "</style>\n",
       "<table border=\"1\" class=\"dataframe\">\n",
       "  <thead>\n",
       "    <tr style=\"text-align: right;\">\n",
       "      <th></th>\n",
       "      <th>Compound</th>\n",
       "      <th>Negative</th>\n",
       "      <th>Neutral</th>\n",
       "      <th>Positive</th>\n",
       "      <th>id</th>\n",
       "      <th>date</th>\n",
       "      <th>time</th>\n",
       "      <th>tweet</th>\n",
       "      <th>retweets_count</th>\n",
       "      <th>likes_count</th>\n",
       "      <th>Sentiment_Score</th>\n",
       "    </tr>\n",
       "  </thead>\n",
       "  <tbody>\n",
       "    <tr>\n",
       "      <th>4995</th>\n",
       "      <td>0.0000</td>\n",
       "      <td>0.0</td>\n",
       "      <td>1.000</td>\n",
       "      <td>0.000</td>\n",
       "      <td>1350860835376295939</td>\n",
       "      <td>2021-01-17</td>\n",
       "      <td>17:41:35</td>\n",
       "      <td>@Proxima06_Aiai @Tesla is about to go through ...</td>\n",
       "      <td>1</td>\n",
       "      <td>6</td>\n",
       "      <td>Neutral</td>\n",
       "    </tr>\n",
       "    <tr>\n",
       "      <th>4996</th>\n",
       "      <td>0.0000</td>\n",
       "      <td>0.0</td>\n",
       "      <td>1.000</td>\n",
       "      <td>0.000</td>\n",
       "      <td>1350860815184891908</td>\n",
       "      <td>2021-01-17</td>\n",
       "      <td>17:41:30</td>\n",
       "      <td>Tesla exterior preference.  #tesla #tesla2021</td>\n",
       "      <td>1</td>\n",
       "      <td>4</td>\n",
       "      <td>Neutral</td>\n",
       "    </tr>\n",
       "    <tr>\n",
       "      <th>4997</th>\n",
       "      <td>0.8201</td>\n",
       "      <td>0.0</td>\n",
       "      <td>0.711</td>\n",
       "      <td>0.289</td>\n",
       "      <td>1350860796759212034</td>\n",
       "      <td>2021-01-17</td>\n",
       "      <td>17:41:26</td>\n",
       "      <td>@elonmusk hi sir I am happy that Tesla is in I...</td>\n",
       "      <td>0</td>\n",
       "      <td>0</td>\n",
       "      <td>Positive</td>\n",
       "    </tr>\n",
       "    <tr>\n",
       "      <th>4998</th>\n",
       "      <td>0.0000</td>\n",
       "      <td>0.0</td>\n",
       "      <td>1.000</td>\n",
       "      <td>0.000</td>\n",
       "      <td>1350860765519986688</td>\n",
       "      <td>2021-01-17</td>\n",
       "      <td>17:41:18</td>\n",
       "      <td>@moneycontrolcom @Tesla Thik thik laga lo bhai...</td>\n",
       "      <td>0</td>\n",
       "      <td>0</td>\n",
       "      <td>Neutral</td>\n",
       "    </tr>\n",
       "    <tr>\n",
       "      <th>4999</th>\n",
       "      <td>0.0000</td>\n",
       "      <td>0.0</td>\n",
       "      <td>1.000</td>\n",
       "      <td>0.000</td>\n",
       "      <td>1350860737162457089</td>\n",
       "      <td>2021-01-17</td>\n",
       "      <td>17:41:12</td>\n",
       "      <td>@SaraJAwesome @Tesla Is that a Nissan Sentra? ...</td>\n",
       "      <td>0</td>\n",
       "      <td>1</td>\n",
       "      <td>Neutral</td>\n",
       "    </tr>\n",
       "  </tbody>\n",
       "</table>\n",
       "</div>"
      ],
      "text/plain": [
       "      Compound  Negative  Neutral  ...  retweets_count  likes_count Sentiment_Score\n",
       "4995    0.0000       0.0    1.000  ...               1            6         Neutral\n",
       "4996    0.0000       0.0    1.000  ...               1            4         Neutral\n",
       "4997    0.8201       0.0    0.711  ...               0            0        Positive\n",
       "4998    0.0000       0.0    1.000  ...               0            0         Neutral\n",
       "4999    0.0000       0.0    1.000  ...               0            1         Neutral\n",
       "\n",
       "[5 rows x 11 columns]"
      ]
     },
     "execution_count": 7,
     "metadata": {
      "tags": []
     },
     "output_type": "execute_result"
    }
   ],
   "source": [
    "# Convert [-1, 0, 1] to [negative, neutral, and positive]\n",
    "\n",
    "# Negative\n",
    "test_sentiment.loc[test_sentiment['Sentiment_Score'] == -1, 'Sentiment_Score'] = 'Negative'\n",
    "\n",
    "# Neutral\n",
    "\n",
    "test_sentiment.loc[test_sentiment['Sentiment_Score'] == 0, 'Sentiment_Score'] = 'Neutral'\n",
    "\n",
    "# Postive\n",
    "test_sentiment.loc[test_sentiment['Sentiment_Score'] == 1, 'Sentiment_Score'] = 'Positive'\n",
    "\n",
    "# View Into DataFrame\n",
    "test_sentiment.tail()"
   ]
  },
  {
   "cell_type": "code",
   "execution_count": 8,
   "metadata": {
    "id": "FhJU28shPcJc"
   },
   "outputs": [],
   "source": [
    "# Clean the Text Function\n",
    "REPLACE_BY_SPACE_RE = re.compile('[/(){}\\[\\]\\|@,;]')\n",
    "BAD_SYMBOLS_RE = re.compile('[^0-9a-z #+_]')\n",
    "\n",
    "\n",
    "def clean_text(text):\n",
    "  text = text.lower() # lowercase text\n",
    "  text = REPLACE_BY_SPACE_RE.sub(' ', text) # replace REPLACE_BY_SPACE_RE symbols by space in text. substitute the matched string in REPLACE_BY_SPACE_RE with space.\n",
    "  text = BAD_SYMBOLS_RE.sub('', text) # remove symbols which are in BAD_SYMBOLS_RE from text. substitute the matched string in BAD_SYMBOLS_RE with nothing. \n",
    "  text = text.replace('x', '')\n",
    " # text = ' '.join(word for word in text.split() if word not in STOPWORDS) # remove stopwors from text\n",
    "  return text"
   ]
  },
  {
   "cell_type": "code",
   "execution_count": 9,
   "metadata": {
    "colab": {
     "base_uri": "https://localhost:8080/",
     "height": 428
    },
    "id": "U8BE1usDPwiA",
    "outputId": "14289ea7-5ac0-4e13-98e7-f55caaedfcf2"
   },
   "outputs": [
    {
     "data": {
      "text/html": [
       "<div>\n",
       "<style scoped>\n",
       "    .dataframe tbody tr th:only-of-type {\n",
       "        vertical-align: middle;\n",
       "    }\n",
       "\n",
       "    .dataframe tbody tr th {\n",
       "        vertical-align: top;\n",
       "    }\n",
       "\n",
       "    .dataframe thead th {\n",
       "        text-align: right;\n",
       "    }\n",
       "</style>\n",
       "<table border=\"1\" class=\"dataframe\">\n",
       "  <thead>\n",
       "    <tr style=\"text-align: right;\">\n",
       "      <th></th>\n",
       "      <th>Compound</th>\n",
       "      <th>Negative</th>\n",
       "      <th>Neutral</th>\n",
       "      <th>Positive</th>\n",
       "      <th>id</th>\n",
       "      <th>date</th>\n",
       "      <th>time</th>\n",
       "      <th>tweet</th>\n",
       "      <th>retweets_count</th>\n",
       "      <th>likes_count</th>\n",
       "      <th>Sentiment_Score</th>\n",
       "    </tr>\n",
       "  </thead>\n",
       "  <tbody>\n",
       "    <tr>\n",
       "      <th>0</th>\n",
       "      <td>-0.5757</td>\n",
       "      <td>0.224</td>\n",
       "      <td>0.619</td>\n",
       "      <td>0.157</td>\n",
       "      <td>1350946555059195911</td>\n",
       "      <td>2021-01-17</td>\n",
       "      <td>23:22:12</td>\n",
       "      <td>marstonca  elmanogonsalves competitor i am al...</td>\n",
       "      <td>0</td>\n",
       "      <td>0</td>\n",
       "      <td>Negative</td>\n",
       "    </tr>\n",
       "    <tr>\n",
       "      <th>1</th>\n",
       "      <td>0.0000</td>\n",
       "      <td>0.000</td>\n",
       "      <td>1.000</td>\n",
       "      <td>0.000</td>\n",
       "      <td>1350946533122977792</td>\n",
       "      <td>2021-01-17</td>\n",
       "      <td>23:22:07</td>\n",
       "      <td>yo is it too late to buy the  tesla truck  i n...</td>\n",
       "      <td>0</td>\n",
       "      <td>0</td>\n",
       "      <td>Neutral</td>\n",
       "    </tr>\n",
       "    <tr>\n",
       "      <th>2</th>\n",
       "      <td>-0.6739</td>\n",
       "      <td>0.171</td>\n",
       "      <td>0.829</td>\n",
       "      <td>0.000</td>\n",
       "      <td>1350946522624647175</td>\n",
       "      <td>2021-01-17</td>\n",
       "      <td>23:22:05</td>\n",
       "      <td>tsla  why doesnt tesla show  adults seated in ...</td>\n",
       "      <td>0</td>\n",
       "      <td>0</td>\n",
       "      <td>Negative</td>\n",
       "    </tr>\n",
       "    <tr>\n",
       "      <th>3</th>\n",
       "      <td>0.1280</td>\n",
       "      <td>0.000</td>\n",
       "      <td>0.923</td>\n",
       "      <td>0.077</td>\n",
       "      <td>1350946510796705796</td>\n",
       "      <td>2021-01-17</td>\n",
       "      <td>23:22:02</td>\n",
       "      <td>tesla takes legal action against chinese news ...</td>\n",
       "      <td>0</td>\n",
       "      <td>0</td>\n",
       "      <td>Positive</td>\n",
       "    </tr>\n",
       "    <tr>\n",
       "      <th>4</th>\n",
       "      <td>-0.2349</td>\n",
       "      <td>0.157</td>\n",
       "      <td>0.748</td>\n",
       "      <td>0.094</td>\n",
       "      <td>1350946495751725065</td>\n",
       "      <td>2021-01-17</td>\n",
       "      <td>23:21:58</td>\n",
       "      <td>timjdillon tim shitting on people who own tes...</td>\n",
       "      <td>0</td>\n",
       "      <td>0</td>\n",
       "      <td>Negative</td>\n",
       "    </tr>\n",
       "  </tbody>\n",
       "</table>\n",
       "</div>"
      ],
      "text/plain": [
       "   Compound  Negative  Neutral  ...  retweets_count  likes_count Sentiment_Score\n",
       "0   -0.5757     0.224    0.619  ...               0            0        Negative\n",
       "1    0.0000     0.000    1.000  ...               0            0         Neutral\n",
       "2   -0.6739     0.171    0.829  ...               0            0        Negative\n",
       "3    0.1280     0.000    0.923  ...               0            0        Positive\n",
       "4   -0.2349     0.157    0.748  ...               0            0        Negative\n",
       "\n",
       "[5 rows x 11 columns]"
      ]
     },
     "execution_count": 9,
     "metadata": {
      "tags": []
     },
     "output_type": "execute_result"
    }
   ],
   "source": [
    "# Apply the clean text function above\n",
    "test_sentiment['tweet'] = test_sentiment['tweet'].astype(str)\n",
    "test_sentiment['tweet'] = test_sentiment['tweet'].apply(clean_text)\n",
    "test_sentiment['tweet'] = test_sentiment['tweet'].str.replace('\\d+', '')\n",
    "test_sentiment.head()"
   ]
  },
  {
   "cell_type": "code",
   "execution_count": 10,
   "metadata": {
    "id": "PxmPILfSPy_k"
   },
   "outputs": [],
   "source": [
    "# Create the features set (X)\n",
    "X = test_sentiment[\"tweet\"].values"
   ]
  },
  {
   "cell_type": "code",
   "execution_count": 11,
   "metadata": {
    "id": "s0sItZWoQJhm"
   },
   "outputs": [],
   "source": [
    "# Encode the Sentiment_Score\n",
    "encoder = LabelEncoder()\n",
    "encoder.fit(test_sentiment['Sentiment_Score'])\n",
    "encoded_y = encoder.transform(test_sentiment['Sentiment_Score'])\n",
    "dummy_y = tf.keras.utils.to_categorical(encoded_y)"
   ]
  },
  {
   "cell_type": "markdown",
   "metadata": {
    "id": "zLPKHB6SQUGG"
   },
   "source": [
    "Creating a LSTM Model to Perform Sentiment Analysis"
   ]
  },
  {
   "cell_type": "code",
   "execution_count": 12,
   "metadata": {
    "id": "fAmlyFGmQYuC"
   },
   "outputs": [],
   "source": [
    "# Import the Tokenizer method from Keras\n",
    "from tensorflow.keras.preprocessing.text import Tokenizer\n",
    "\n",
    "# Create an instance of the tokenizer\n",
    "tokenizer = Tokenizer(lower=True)"
   ]
  },
  {
   "cell_type": "code",
   "execution_count": 13,
   "metadata": {
    "id": "fDGoz56-QagY"
   },
   "outputs": [],
   "source": [
    "# Fit to the X dataSet\n",
    "tokenizer.fit_on_texts(X)"
   ]
  },
  {
   "cell_type": "code",
   "execution_count": 14,
   "metadata": {
    "colab": {
     "base_uri": "https://localhost:8080/"
    },
    "id": "PAX3I_UKQdFE",
    "outputId": "c12c69c3-70c6-45c6-c6cd-716cd50499bd"
   },
   "outputs": [
    {
     "name": "stdout",
     "output_type": "stream",
     "text": [
      "word: 'tesla', token: 1\n",
      "word: 'the', token: 2\n",
      "word: 'a', token: 3\n",
      "word: 'to', token: 4\n",
      "word: 'and', token: 5\n",
      "word: 'i', token: 6\n",
      "word: 'https', token: 7\n",
      "word: 'tco', token: 8\n",
      "word: 'is', token: 9\n",
      "word: 'in', token: 10\n",
      "word: 'of', token: 11\n",
      "word: 'for', token: 12\n",
      "word: 'elonmusk', token: 13\n",
      "word: 'you', token: 14\n",
      "word: 'it', token: 15\n",
      "word: 'that', token: 16\n",
      "word: 'this', token: 17\n",
      "word: 'on', token: 18\n",
      "word: 'with', token: 19\n",
      "word: 'be', token: 20\n",
      "word: 'are', token: 21\n",
      "word: 'my', token: 22\n",
      "word: 'but', token: 23\n",
      "word: 'have', token: 24\n",
      "word: 'not', token: 25\n",
      "word: 'de', token: 26\n",
      "word: 'they', token: 27\n",
      "word: 'its', token: 28\n",
      "word: 'will', token: 29\n",
      "word: 'me', token: 30\n",
      "word: 'at', token: 31\n",
      "word: 'so', token: 32\n",
      "word: 'if', token: 33\n",
      "word: 'model', token: 34\n",
      "word: 'like', token: 35\n",
      "word: 'can', token: 36\n",
      "word: 'just', token: 37\n",
      "word: 'as', token: 38\n",
      "word: 'car', token: 39\n",
      "word: 'was', token: 40\n",
      "word: 'no', token: 41\n",
      "word: 'do', token: 42\n",
      "word: 'or', token: 43\n",
      "word: 'more', token: 44\n",
      "word: 'your', token: 45\n",
      "word: 'from', token: 46\n",
      "word: 'would', token: 47\n",
      "word: 'all', token: 48\n",
      "word: 'an', token: 49\n",
      "word: 'we', token: 50\n"
     ]
    }
   ],
   "source": [
    "# Print the first five elements of the encoded vocabulary\n",
    "for token in list(tokenizer.word_index)[:50]:\n",
    "    print(f\"word: '{token}', token: {tokenizer.word_index[token]}\")"
   ]
  },
  {
   "cell_type": "code",
   "execution_count": 15,
   "metadata": {
    "id": "B5dM__w5Qfhf"
   },
   "outputs": [],
   "source": [
    "# Transform the text data to numerical sequences\n",
    "X_seq = tokenizer.texts_to_sequences(X)"
   ]
  },
  {
   "cell_type": "code",
   "execution_count": 16,
   "metadata": {
    "id": "yhPmrBxMQiAX"
   },
   "outputs": [],
   "source": [
    "# Import the pad_sequences method from Keras\n",
    "from tensorflow.keras.preprocessing.sequence import pad_sequences"
   ]
  },
  {
   "cell_type": "code",
   "execution_count": 17,
   "metadata": {
    "id": "QWy1JX1cQjzO"
   },
   "outputs": [],
   "source": [
    "# Set the pad size\n",
    "max_words = 200\n",
    "\n",
    "# Pad the sequences using the pad_sequences() method\n",
    "X_pad = pad_sequences(X_seq, maxlen=max_words, padding=\"post\")"
   ]
  },
  {
   "cell_type": "code",
   "execution_count": 18,
   "metadata": {
    "id": "NV2oVHy6Ql2u"
   },
   "outputs": [],
   "source": [
    "# Creating training, validation, and testing sets using the encoded data\n",
    "from sklearn.model_selection import train_test_split\n",
    "X_train_rnn, X_test_rnn, y_train_rnn, y_test_rnn = train_test_split(X_pad, dummy_y)\n",
    "\n",
    "X_train_rnn, X_val_rnn, y_train_rnn, y_val_rnn = train_test_split(X_train_rnn, y_train_rnn)"
   ]
  },
  {
   "cell_type": "code",
   "execution_count": 19,
   "metadata": {
    "id": "Ss4nzX-bQoDI"
   },
   "outputs": [],
   "source": [
    "# Import Keras modules for model creation\n",
    "from tensorflow.keras.models import Sequential\n",
    "from tensorflow.keras.layers import Embedding, LSTM, Dense"
   ]
  },
  {
   "cell_type": "code",
   "execution_count": 20,
   "metadata": {
    "id": "mkZFGtfPRNS0"
   },
   "outputs": [],
   "source": [
    "# Model set-up\n",
    "vocabulary_size = len(tokenizer.word_counts.keys()) + 1\n",
    "embedding_size = 64"
   ]
  },
  {
   "cell_type": "code",
   "execution_count": 21,
   "metadata": {
    "id": "u6ryXZp-T6Ca"
   },
   "outputs": [],
   "source": [
    "# Define Model\n",
    "model = Sequential()\n",
    "\n",
    "# Layer 1\n",
    "model.add(Embedding(vocabulary_size, embedding_size, input_length=max_words))\n",
    "\n",
    "# Layer 2 \n",
    "model.add(LSTM(units=280))\n",
    "\n",
    "# Output Layer\n",
    "model.add(Dense(units=3, activation='sigmoid'))\n"
   ]
  },
  {
   "cell_type": "code",
   "execution_count": 22,
   "metadata": {
    "id": "9mcB5fFuRPeY"
   },
   "outputs": [],
   "source": [
    "#model = tf.keras.Sequential([\n",
    "    # Add an Embedding layer expecting input vocab of size, and output embedding dimension of size 64 we set at the top\n",
    " #   tf.keras.layers.Embedding(vocabulary_size, embedding_size),\n",
    "   # tf.keras.layers.Bidirectional(tf.keras.layers.LSTM(embedding_size)),\n",
    "#    tf.keras.layers.Bidirectional(tf.keras.layers.LSTM(32)),\n",
    "    # use ReLU in place of tanh function since they are very good alternatives of each other.\n",
    "  #  tf.keras.layers.Dense(embedding_size, activation='relu'),\n",
    "    # Add a Dense layer with 6 units and softmax activation.\n",
    "    # When we have multiple outputs, softmax convert outputs layers into a probability distribution.\n",
    "   # tf.keras.layers.Dense(3, activation='softmax')\n",
    "#])#"
   ]
  },
  {
   "cell_type": "code",
   "execution_count": 23,
   "metadata": {
    "id": "Q7gBOJ5URT6W"
   },
   "outputs": [],
   "source": [
    "# Compile the model\n",
    "model.compile(\n",
    "    loss=\"categorical_crossentropy\",\n",
    "    optimizer=\"adam\",\n",
    "    metrics=[\n",
    "        \"accuracy\",\n",
    "        tf.keras.metrics.TruePositives(name=\"tp\"),\n",
    "        tf.keras.metrics.TrueNegatives(name=\"tn\"),\n",
    "        tf.keras.metrics.FalsePositives(name=\"fp\"),\n",
    "        tf.keras.metrics.FalseNegatives(name=\"fn\"),\n",
    "        tf.keras.metrics.Precision(name=\"precision\"),\n",
    "        tf.keras.metrics.Recall(name=\"recall\"),\n",
    "        tf.keras.metrics.AUC(name=\"auc\"),\n",
    "    ],\n",
    ")"
   ]
  },
  {
   "cell_type": "code",
   "execution_count": 24,
   "metadata": {
    "colab": {
     "base_uri": "https://localhost:8080/"
    },
    "id": "9oS0Z3VIRYJq",
    "outputId": "e0f5375d-624d-463b-b08a-304fc388ff99"
   },
   "outputs": [
    {
     "name": "stdout",
     "output_type": "stream",
     "text": [
      "Model: \"sequential\"\n",
      "_________________________________________________________________\n",
      "Layer (type)                 Output Shape              Param #   \n",
      "=================================================================\n",
      "embedding (Embedding)        (None, 200, 64)           1141056   \n",
      "_________________________________________________________________\n",
      "lstm (LSTM)                  (None, 280)               386400    \n",
      "_________________________________________________________________\n",
      "dense (Dense)                (None, 3)                 843       \n",
      "=================================================================\n",
      "Total params: 1,528,299\n",
      "Trainable params: 1,528,299\n",
      "Non-trainable params: 0\n",
      "_________________________________________________________________\n"
     ]
    }
   ],
   "source": [
    "model.summary()"
   ]
  },
  {
   "cell_type": "code",
   "execution_count": 25,
   "metadata": {
    "colab": {
     "base_uri": "https://localhost:8080/"
    },
    "id": "UswwBRvvRZ_7",
    "outputId": "fb5d1f5e-3363-426e-d441-c9b5f84e1e7a"
   },
   "outputs": [
    {
     "name": "stdout",
     "output_type": "stream",
     "text": [
      "Epoch 1/10\n",
      "3/3 [==============================] - 40s 12s/step - loss: 1.0867 - accuracy: 0.4036 - tp: 1938.2500 - tn: 938.2500 - fp: 3373.7500 - fn: 217.7500 - precision: 0.3604 - recall: 0.9157 - auc: 0.6111 - val_loss: 1.0450 - val_accuracy: 0.4478 - val_tp: 764.0000 - val_tn: 764.0000 - val_fp: 1112.0000 - val_fn: 174.0000 - val_precision: 0.4072 - val_recall: 0.8145 - val_auc: 0.6311\n",
      "Epoch 2/10\n",
      "3/3 [==============================] - 33s 11s/step - loss: 1.0501 - accuracy: 0.4344 - tp: 1747.5000 - tn: 1747.5000 - fp: 2564.5000 - fn: 408.5000 - precision: 0.4046 - recall: 0.8093 - auc: 0.6204 - val_loss: 1.0413 - val_accuracy: 0.4478 - val_tp: 764.0000 - val_tn: 764.0000 - val_fp: 1112.0000 - val_fn: 174.0000 - val_precision: 0.4072 - val_recall: 0.8145 - val_auc: 0.6311\n",
      "Epoch 3/10\n",
      "3/3 [==============================] - 38s 14s/step - loss: 1.0428 - accuracy: 0.4478 - tp: 1751.0000 - tn: 1751.0000 - fp: 2561.0000 - fn: 405.0000 - precision: 0.4067 - recall: 0.8134 - auc: 0.6316 - val_loss: 1.0441 - val_accuracy: 0.4478 - val_tp: 764.0000 - val_tn: 764.0000 - val_fp: 1112.0000 - val_fn: 174.0000 - val_precision: 0.4072 - val_recall: 0.8145 - val_auc: 0.6311\n",
      "Epoch 4/10\n",
      "3/3 [==============================] - 34s 11s/step - loss: 1.0462 - accuracy: 0.4352 - tp: 1751.0000 - tn: 1751.0000 - fp: 2561.0000 - fn: 405.0000 - precision: 0.4066 - recall: 0.8131 - auc: 0.6231 - val_loss: 1.0418 - val_accuracy: 0.4478 - val_tp: 764.0000 - val_tn: 764.0000 - val_fp: 1112.0000 - val_fn: 174.0000 - val_precision: 0.4072 - val_recall: 0.8145 - val_auc: 0.6311\n",
      "Epoch 5/10\n",
      "3/3 [==============================] - 34s 12s/step - loss: 1.0466 - accuracy: 0.4309 - tp: 1746.2500 - tn: 1746.2500 - fp: 2565.7500 - fn: 409.7500 - precision: 0.4047 - recall: 0.8094 - auc: 0.6209 - val_loss: 1.0412 - val_accuracy: 0.4478 - val_tp: 764.0000 - val_tn: 764.0000 - val_fp: 1112.0000 - val_fn: 174.0000 - val_precision: 0.4072 - val_recall: 0.8145 - val_auc: 0.6311\n",
      "Epoch 6/10\n",
      "3/3 [==============================] - 34s 12s/step - loss: 1.0446 - accuracy: 0.4359 - tp: 1750.0000 - tn: 1750.0000 - fp: 2562.0000 - fn: 406.0000 - precision: 0.4063 - recall: 0.8125 - auc: 0.6229 - val_loss: 1.0406 - val_accuracy: 0.4478 - val_tp: 764.0000 - val_tn: 764.0000 - val_fp: 1112.0000 - val_fn: 174.0000 - val_precision: 0.4072 - val_recall: 0.8145 - val_auc: 0.6311\n",
      "Epoch 7/10\n",
      "3/3 [==============================] - 34s 11s/step - loss: 1.0427 - accuracy: 0.4422 - tp: 1750.7500 - tn: 1750.7500 - fp: 2561.2500 - fn: 405.2500 - precision: 0.4065 - recall: 0.8130 - auc: 0.6279 - val_loss: 1.0403 - val_accuracy: 0.4478 - val_tp: 764.0000 - val_tn: 764.0000 - val_fp: 1112.0000 - val_fn: 174.0000 - val_precision: 0.4072 - val_recall: 0.8145 - val_auc: 0.6311\n",
      "Epoch 8/10\n",
      "3/3 [==============================] - 34s 11s/step - loss: 1.0452 - accuracy: 0.4383 - tp: 1746.7500 - tn: 1746.7500 - fp: 2565.2500 - fn: 409.2500 - precision: 0.4048 - recall: 0.8096 - auc: 0.6242 - val_loss: 1.0416 - val_accuracy: 0.4478 - val_tp: 764.0000 - val_tn: 764.0000 - val_fp: 1112.0000 - val_fn: 174.0000 - val_precision: 0.4072 - val_recall: 0.8145 - val_auc: 0.6311\n",
      "Epoch 9/10\n",
      "3/3 [==============================] - 34s 12s/step - loss: 1.0453 - accuracy: 0.4313 - tp: 1750.5000 - tn: 1750.5000 - fp: 2561.5000 - fn: 405.5000 - precision: 0.4061 - recall: 0.8121 - auc: 0.6202 - val_loss: 1.0422 - val_accuracy: 0.4478 - val_tp: 764.0000 - val_tn: 764.0000 - val_fp: 1112.0000 - val_fn: 174.0000 - val_precision: 0.4072 - val_recall: 0.8145 - val_auc: 0.6311\n",
      "Epoch 10/10\n",
      "3/3 [==============================] - 34s 11s/step - loss: 1.0442 - accuracy: 0.4309 - tp: 1751.2500 - tn: 1751.2500 - fp: 2560.7500 - fn: 404.7500 - precision: 0.4067 - recall: 0.8134 - auc: 0.6215 - val_loss: 1.0411 - val_accuracy: 0.4478 - val_tp: 764.0000 - val_tn: 764.0000 - val_fp: 1112.0000 - val_fn: 174.0000 - val_precision: 0.4072 - val_recall: 0.8145 - val_auc: 0.6311\n"
     ]
    }
   ],
   "source": [
    "# Fit the model\n",
    "output = model.fit(X_train_rnn,y_train_rnn,epochs=10,batch_size=1000, validation_data=(X_val_rnn, y_val_rnn))"
   ]
  },
  {
   "cell_type": "code",
   "execution_count": null,
   "metadata": {
    "id": "YX6zafKMRitA"
   },
   "outputs": [],
   "source": [
    "y_rnn_pred = np.argmax(model.predict(X_test_rnn),axis=-1)"
   ]
  },
  {
   "cell_type": "code",
   "execution_count": 26,
   "metadata": {
    "colab": {
     "base_uri": "https://localhost:8080/",
     "height": 282
    },
    "id": "HaHsA0I1SAA2",
    "outputId": "4a243f5b-8f45-4382-cb42-8e03a4d7ec05"
   },
   "outputs": [
    {
     "data": {
      "text/plain": [
       "[<matplotlib.lines.Line2D at 0x7f3c259b6f28>]"
      ]
     },
     "execution_count": 26,
     "metadata": {
      "tags": []
     },
     "output_type": "execute_result"
    },
    {
     "data": {
      "image/png": "[encoded data removed]",
      "text/plain": [
       "<Figure size 432x288 with 1 Axes>"
      ]
     },
     "metadata": {
      "needs_background": "light",
      "tags": []
     },
     "output_type": "display_data"
    }
   ],
   "source": [
    "import matplotlib.pyplot as plt\n",
    "plt.plot(output.history['loss'])"
   ]
  },
  {
   "cell_type": "code",
   "execution_count": 27,
   "metadata": {
    "colab": {
     "base_uri": "https://localhost:8080/",
     "height": 282
    },
    "id": "E9bqHjAnSGyJ",
    "outputId": "4951985a-be76-4e7f-a178-27642dc91e73"
   },
   "outputs": [
    {
     "data": {
      "text/plain": [
       "[<matplotlib.lines.Line2D at 0x7f3c254f8f98>]"
      ]
     },
     "execution_count": 27,
     "metadata": {
      "tags": []
     },
     "output_type": "execute_result"
    },
    {
     "data": {
      "image/png": "[encoded data removed]",
      "text/plain": [
       "<Figure size 432x288 with 1 Axes>"
      ]
     },
     "metadata": {
      "needs_background": "light",
      "tags": []
     },
     "output_type": "display_data"
    }
   ],
   "source": [
    "plt.plot(output.history['accuracy'])"
   ]
  },
  {
   "cell_type": "code",
   "execution_count": 28,
   "metadata": {
    "id": "2A0H5pHcS5XG"
   },
   "outputs": [],
   "source": [
    "# Save Model as JSON\n",
    "nlp_json = model.to_json()\n",
    "\n",
    "file_path = Path(\"model.json\")\n",
    "with open(file_path, \"w\") as json_file:\n",
    "    json_file.write(nlp_json)\n",
    "\n",
    "# Save weights\n",
    "file_path = \"model.h5\"\n",
    "model.save_weights(\"model.h5\")"
   ]
  },
  {
   "cell_type": "code",
   "execution_count": 89,
   "metadata": {
    "id": "qwKAtwjYTMGQ"
   },
   "outputs": [],
   "source": []
  }
 ],
 "metadata": {
  "colab": {
   "authorship_tag": "ABX9TyPTfBk8s0hcuFEMLUuJbcap",
   "include_colab_link": true,
   "name": "LSTM_Model_Development.ipynb",
   "provenance": []
  },
  "kernelspec": {
   "display_name": "Python 3",
   "language": "python",
   "name": "python3"
  },
  "language_info": {
   "codemirror_mode": {
    "name": "ipython",
    "version": 3
   },
   "file_extension": ".py",
   "mimetype": "text/x-python",
   "name": "python",
   "nbconvert_exporter": "python",
   "pygments_lexer": "ipython3",
   "version": "3.8.3"
  }
 },
 "nbformat": 4,
 "nbformat_minor": 4
}
