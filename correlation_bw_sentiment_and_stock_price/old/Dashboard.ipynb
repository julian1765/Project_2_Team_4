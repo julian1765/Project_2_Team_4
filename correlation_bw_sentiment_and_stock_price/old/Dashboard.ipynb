{
 "cells": [
  {
   "cell_type": "markdown",
   "metadata": {},
   "source": [
    "# The Effect of Tweets on Stock Price Movements\n",
    "The goal of our project is to find whether tweets by a company's official account affect its stock price. In a separate file, we used the tweet sentiment as the only feature (X) and classified daily stock price movements into class 1 (up) or class 0 (down). However, it ended up with low accuracy scores around 50%. <br>\n",
    "In this file, starting from the assumption that the most important feature is the previous stock price, we examine whether the tweet sentiment improves the performance of models based on stock prices in the past. In specific, we compare the peformance of a model based on only a moving average of stock prices with that of another model using both the moving average and the tweet sentiment as feature values."
   ]
  },
  {
   "cell_type": "code",
   "execution_count": null,
   "metadata": {},
   "outputs": [],
   "source": [
    "import pandas as pd\n",
    "from pathlib import Path\n",
    "import numpy as np\n",
    "from numpy.random import seed\n",
    "seed(1)\n",
    "import calendar\n",
    "import os\n",
    "from dotenv import load_dotenv\n",
    "import alpaca_trade_api as tradeapi\n",
    "import hvplot.pandas\n",
    "import matplotlib.pyplot as plt\n",
    "from collections import Counter\n",
    "from panel.interact import interact\n",
    "import panel as pn\n",
    "pn.extension('plotly')\n",
    "import warnings\n",
    "warnings.filterwarnings('ignore')\n",
    "\n",
    "from sklearn.preprocessing import MinMaxScaler\n",
    "from sklearn.linear_model import LogisticRegression\n",
    "from sklearn.svm import SVC\n",
    "from sklearn.tree import DecisionTreeClassifier\n",
    "from sklearn.ensemble import RandomForestClassifier\n",
    "from xgboost import XGBClassifier\n",
    "from sklearn.model_selection import StratifiedKFold\n",
    "from sklearn.model_selection import cross_val_score\n",
    "from sklearn.model_selection import GridSearchCV\n",
    "\n",
    "import tensorflow as tf\n",
    "from tensorflow import random\n",
    "random.set_seed(2)\n",
    "from tensorflow.keras.models import Sequential\n",
    "from tensorflow.keras.layers import Embedding, LSTM, Dense, Dropout\n",
    "\n",
    "import nltk\n",
    "from nltk.sentiment.vader import SentimentIntensityAnalyzer\n",
    "nltk.download('vader_lexicon')\n",
    "# Initialize the VADER sentiment analyzer\n",
    "analyzer = SentimentIntensityAnalyzer()\n",
    "\n",
    "from keras.callbacks import EarlyStopping\n",
    "earlystopping = EarlyStopping(monitor='loss', patience=3)"
   ]
  },
  {
   "cell_type": "markdown",
   "metadata": {},
   "source": [
    "# Sentiment Analysis for Tweets"
   ]
  },
  {
   "cell_type": "markdown",
   "metadata": {},
   "source": [
    "Using Twint, fetch all Tweets by the official accounts of Microsoft, Sony, Pfizer, Regeneron, and Moderna. Then, conduct the sentiment analysis for each Tweet, and calculate the average compound score for each day."
   ]
  },
  {
   "cell_type": "code",
   "execution_count": 2,
   "metadata": {},
   "outputs": [],
   "source": [
    "def read_file(ticker):\n",
    "    # read and cclean up data\n",
    "    file_path = Path('companies_tweet_data_10y/' + ticker + '.csv')\n",
    "    tweet_df = pd.read_csv(file_path, \n",
    "                           parse_dates=[['date','time']], \n",
    "                           infer_datetime_format=True, \n",
    "                           usecols=['date',\"tweet\",'time','retweets_count','likes_count']\n",
    "                          )\n",
    "    tweet_df.set_index('date_time', inplace=True)\n",
    "    tweet_df.index.name = None\n",
    "    tweet_df.sort_index(axis=0, inplace=True)\n",
    "    tweet_df.index = tweet_df.index.date\n",
    "    \n",
    "    # extract tweets before closing time (4 pm)\n",
    "    tweet_df = tweet_df.between_time('00:00:00','15:59:00', include_end=False)\n",
    "\n",
    "    # assume the more a tweet is retweeted or liked, the more it would has an impact on stock prices\n",
    "    # to find some correlation b/w tweets and stock prices more clearly, exclude unimportant tweets\n",
    "    tweet_df=tweet_df[(tweet_df['retweets_count']>=tweet_df['retweets_count'].mean())\\\n",
    "                      | (tweet_df['likes_count']>=tweet_df['likes_count'].mean())]\n",
    "    \n",
    "    return tweet_df"
   ]
  },
  {
   "cell_type": "code",
   "execution_count": 3,
   "metadata": {},
   "outputs": [],
   "source": [
    "def sentiment_analysis(df):\n",
    "    tweet_sentiments = []\n",
    "\n",
    "    for tweet in df[\"tweet\"]:\n",
    "        try:\n",
    "            sentiment = analyzer.polarity_scores(tweet)\n",
    "            compound = sentiment[\"compound\"]\n",
    "            pos = sentiment[\"pos\"]\n",
    "            neu = sentiment[\"neu\"]\n",
    "            neg = sentiment[\"neg\"]\n",
    "        \n",
    "            tweet_sentiments.append({\"compound\": compound,\n",
    "                                     \"positive\": pos,\n",
    "                                     \"negative\": neg,\n",
    "                                     \"neutral\": neu\n",
    "                                    })\n",
    "        \n",
    "        except AttributeError:\n",
    "            pass\n",
    "    \n",
    "    # Create DataFrame\n",
    "    sentiments_df = pd.DataFrame(tweet_sentiments, index=df.index)\n",
    "    # Put sentiment scores next to corresponding tweets\n",
    "    df = df.join(sentiments_df)\n",
    "    \n",
    "    # in case of more than one tweet in one day, calculate average compound scores for each day\n",
    "    sentiment_score_df = df.groupby(level=0)[['compound']].count()\n",
    "    sentiment_score_df[\"avg_sentiments\"] = df.groupby(level=0)[['compound']].mean()\n",
    "    sentiment_score_df.drop(columns='compound', inplace=True)\n",
    "    \n",
    "    return sentiment_score_df"
   ]
  },
  {
   "cell_type": "markdown",
   "metadata": {},
   "source": [
    "# Calculate Moving Average"
   ]
  },
  {
   "cell_type": "code",
   "execution_count": 4,
   "metadata": {},
   "outputs": [],
   "source": [
    "def stock_prices():\n",
    "    load_dotenv()\n",
    "    \n",
    "    alpaca_api_key = os.getenv(\"ALPACA_API_KEY\")\n",
    "    alpaca_secret_key = os.getenv(\"ALPACA_SECRET_KEY\")\n",
    "\n",
    "    # Create the Alpaca API object\n",
    "    api = tradeapi.REST(\n",
    "        alpaca_api_key,\n",
    "        alpaca_secret_key,\n",
    "        api_version = \"v2\"\n",
    "    )\n",
    "    \n",
    "    #start_date = pd.Timestamp(\"2009-07-15\", tz=\"America/New_York\").isoformat()\n",
    "    start_date = pd.Timestamp(\"2015-01-15\", tz=\"America/New_York\").isoformat()\n",
    "    end_date = pd.Timestamp(\"2021-01-15\", tz=\"America/New_York\").isoformat()\n",
    "    tickers = [\"PFE\", \"MRNA\", \"REGN\", \"MSFT\", \"SNE\"]\n",
    "\n",
    "    # Create the shares DataFrame\n",
    "    timeframe = \"1D\"\n",
    "\n",
    "    stock_tickers = api.get_barset(\n",
    "        tickers,\n",
    "        timeframe,\n",
    "        start = start_date,\n",
    "        end = end_date\n",
    "    ).df\n",
    "\n",
    "    stock_tickerspx = pd.DataFrame()\n",
    "    stock_tickerspx[\"PFE\"] = stock_tickers[\"PFE\"][\"close\"]\n",
    "    stock_tickerspx[\"MRNA\"] = stock_tickers[\"MRNA\"][\"close\"]\n",
    "    stock_tickerspx[\"REGN\"] = stock_tickers[\"REGN\"][\"close\"]\n",
    "    stock_tickerspx[\"MSFT\"] = stock_tickers[\"MSFT\"][\"close\"]\n",
    "    stock_tickerspx[\"SNE\"] = stock_tickers[\"SNE\"][\"close\"]\n",
    "\n",
    "    # Drop the time component of the date\n",
    "    stock_tickerspx.index = stock_tickers.index.date\n",
    "    index = stock_tickerspx.index\n",
    "    index.name = \"Date\"\n",
    "    stock_tickerspx.reset_index(level=0, inplace=True)\n",
    "    stock_tickerspx.set_index(pd.to_datetime(stock_tickerspx['Date'], infer_datetime_format=True), \n",
    "                              inplace=True, \n",
    "                              drop=True\n",
    "                             )\n",
    "    stock_tickerspx.drop(columns=['Date'], inplace=True)\n",
    "\n",
    "    return stock_tickerspx"
   ]
  },
  {
   "cell_type": "code",
   "execution_count": 5,
   "metadata": {},
   "outputs": [],
   "source": [
    "def manipulate_df(df, ticker):\n",
    "    signals_df1 = df[[ticker]].copy()\n",
    "    short_window = 20\n",
    "    long_window = 100\n",
    "    signals_df1[\"SMA20\"] = signals_df1[ticker].rolling(window=short_window).mean()\n",
    "    signals_df1[\"SMA100\"] = signals_df1[ticker].rolling(window=long_window).mean()\n",
    "    signals_df1[\"Signal\"] = 0.0        \n",
    "    signals_df1[\"Signal\"][short_window:] = np.where(\n",
    "        signals_df1[\"SMA20\"][short_window:] > signals_df1[\"SMA100\"][short_window:], 1.0, 0.0\n",
    "        )   \n",
    "    signals_df1[\"Entry/Exit\"] = signals_df1[\"Signal\"].diff()\n",
    "    signals_df1['daily_return']=signals_df1[ticker].pct_change()\n",
    "    signals_df1['actual_signal'] = np.where(signals_df1['daily_return'] > 0, 1.0, 0.0)\n",
    "    signals_df1[\"SMA_shift\"]=signals_df1['SMA20'].shift()\n",
    "    signals_df1.dropna(inplace=True, subset=['daily_return'])\n",
    "    \n",
    "    return signals_df1"
   ]
  },
  {
   "cell_type": "code",
   "execution_count": 6,
   "metadata": {},
   "outputs": [],
   "source": [
    "def final_df(df1, df2, ticker):\n",
    "    df3=df1.join([df2])\n",
    "    df3=df3[[ticker,\"SMA20\",\"daily_return\",\"actual_signal\",\"avg_sentiments\",'SMA_shift']]\n",
    "    \n",
    "    return df3"
   ]
  },
  {
   "cell_type": "markdown",
   "metadata": {},
   "source": [
    "# Train/Test Data Creation"
   ]
  },
  {
   "cell_type": "markdown",
   "metadata": {},
   "source": [
    "## 1. Regression based on 1 Feature"
   ]
  },
  {
   "cell_type": "code",
   "execution_count": 7,
   "metadata": {},
   "outputs": [],
   "source": [
    "def dataset_regression_1f(df, ticker):\n",
    "    df = df[['SMA_shift',ticker,'avg_sentiments']]\n",
    "    df.dropna(inplace=True, subset=['avg_sentiments','SMA_shift',ticker])\n",
    "    \n",
    "    X=df[['SMA_shift']].values.reshape(-1,1)\n",
    "    y=df[[ticker]].values.reshape(-1,1)\n",
    "\n",
    "    split = int(0.8 * len(X))\n",
    "\n",
    "    X_train = X[: split]\n",
    "    X_test = X[split:]\n",
    "\n",
    "    y_train = y[: split]\n",
    "    y_test = y[split:]\n",
    "    \n",
    "    return X, X_train, X_test, y, y_train, y_test"
   ]
  },
  {
   "cell_type": "code",
   "execution_count": 8,
   "metadata": {},
   "outputs": [],
   "source": [
    "def scaler_regression_1f(X, X_train, X_test, y, y_train, y_test):\n",
    "    # Create a MinMaxScaler object\n",
    "    scaler = MinMaxScaler()\n",
    "\n",
    "    # Fit the MinMaxScaler object with the features data X\n",
    "    scaler.fit(X)\n",
    "\n",
    "    # Scale the features training and testing sets\n",
    "    X_train = scaler.transform(X_train)\n",
    "    X_test = scaler.transform(X_test)\n",
    "\n",
    "    # Fit the MinMaxScaler object with the target data Y\n",
    "    scaler.fit(y)\n",
    "\n",
    "    # Scale the target training and testing sets\n",
    "    y_train = scaler.transform(y_train)\n",
    "    y_test = scaler.transform(y_test)\n",
    "    \n",
    "    return X, X_train, X_test, y, y_train, y_test"
   ]
  },
  {
   "cell_type": "markdown",
   "metadata": {},
   "source": [
    "## 2. Regression based on 2 features"
   ]
  },
  {
   "cell_type": "code",
   "execution_count": 9,
   "metadata": {},
   "outputs": [],
   "source": [
    "def dataset_regression_2f(df, ticker):\n",
    "    df = df[['SMA_shift',ticker,'avg_sentiments']]\n",
    "    df.dropna(inplace=True, subset=['avg_sentiments','SMA_shift',ticker])\n",
    "    \n",
    "    X=df[['SMA_shift','avg_sentiments']]\n",
    "    y=df[[ticker]]\n",
    "\n",
    "    split = int(0.8 * len(X))\n",
    "\n",
    "    X_train = X[: split]\n",
    "    X_test = X[split:]\n",
    "\n",
    "    y_train = y[: split]\n",
    "    y_test = y[split:]\n",
    "    \n",
    "    return X, X_train, X_test, y, y_train, y_test"
   ]
  },
  {
   "cell_type": "code",
   "execution_count": 10,
   "metadata": {},
   "outputs": [],
   "source": [
    "def scaler_regression_2f(X, X_train, X_test, y, y_train, y_test):\n",
    "    scaler = MinMaxScaler()\n",
    "    \n",
    "    scaler.fit(X)\n",
    "    \n",
    "    X_train = scaler.transform(X_train)\n",
    "    X_test = scaler.transform(X_test)\n",
    "\n",
    "    scaler.fit(np.array(y).reshape(-1, 1))\n",
    "\n",
    "    y_train = scaler.transform(np.array(y_train).reshape(-1, 1))\n",
    "    y_test = scaler.transform(np.array(y_test).reshape(-1, 1))\n",
    "    \n",
    "    return X, X_train, X_test, y, y_train, y_test"
   ]
  },
  {
   "cell_type": "markdown",
   "metadata": {},
   "source": [
    "## 3. Classification based on 1 feature"
   ]
  },
  {
   "cell_type": "code",
   "execution_count": 11,
   "metadata": {},
   "outputs": [],
   "source": [
    "def dataset_classification_1f(df, ticker):\n",
    "    df = df[['SMA_shift',ticker,'avg_sentiments','actual_signal']]\n",
    "    df.dropna(inplace=True, subset=['avg_sentiments','SMA_shift',ticker])\n",
    "    \n",
    "    X=df[['SMA_shift']].values.reshape(-1,1)\n",
    "    y=df[['actual_signal']].values.reshape(-1,1)\n",
    "\n",
    "    split = int(0.8 * len(X))\n",
    "\n",
    "    X_train = X[: split]\n",
    "    X_test = X[split:]\n",
    "\n",
    "    y_train = y[: split]\n",
    "    y_test = y[split:]\n",
    "    \n",
    "    return X, X_train, X_test, y, y_train, y_test"
   ]
  },
  {
   "cell_type": "code",
   "execution_count": 12,
   "metadata": {},
   "outputs": [],
   "source": [
    "def scaler_classification_1f(X, X_train, X_test):\n",
    "    # y value need not be scaled in classification\n",
    "    scaler = MinMaxScaler()\n",
    "\n",
    "    scaler.fit(X)\n",
    "\n",
    "    X_train = scaler.transform(X_train)\n",
    "    X_test = scaler.transform(X_test)\n",
    "\n",
    "    return X, X_train, X_test"
   ]
  },
  {
   "cell_type": "markdown",
   "metadata": {},
   "source": [
    "## 4. Classification based on 2 Features"
   ]
  },
  {
   "cell_type": "code",
   "execution_count": 13,
   "metadata": {},
   "outputs": [],
   "source": [
    "def dataset_classification_2f(df, ticker):\n",
    "    df = df[['SMA_shift',ticker,'avg_sentiments','actual_signal']]\n",
    "    df.dropna(inplace=True, subset=['avg_sentiments','SMA_shift',ticker])\n",
    "    \n",
    "    X=df[['SMA_shift','avg_sentiments']].values.reshape(-1,2)\n",
    "    y=df[['actual_signal']].values.reshape(-1,1)\n",
    "\n",
    "    split = int(0.8 * len(X))\n",
    "\n",
    "    X_train = X[: split]\n",
    "    X_test = X[split:]\n",
    "\n",
    "    y_train = y[: split]\n",
    "    y_test = y[split:]\n",
    "    \n",
    "    return X, X_train, X_test, y, y_train, y_test"
   ]
  },
  {
   "cell_type": "code",
   "execution_count": 14,
   "metadata": {},
   "outputs": [],
   "source": [
    "def scaler_classification_2f(X, X_train, X_test):\n",
    "\n",
    "    scaler = MinMaxScaler()\n",
    "\n",
    "    scaler.fit(X)\n",
    "\n",
    "    X_train = scaler.transform(X_train)\n",
    "    X_test = scaler.transform(X_test)\n",
    "\n",
    "    return X, X_train, X_test"
   ]
  },
  {
   "cell_type": "code",
   "execution_count": null,
   "metadata": {},
   "outputs": [],
   "source": []
  },
  {
   "cell_type": "markdown",
   "metadata": {},
   "source": [
    "# Functions of Models\n",
    "Abbreviations in the name of functions:<br>\n",
    " lr: linear regression<br>\n",
    " cl: classification<br>\n",
    " 1f: 1 feature<br>\n",
    " 2f: 2 features"
   ]
  },
  {
   "cell_type": "markdown",
   "metadata": {},
   "source": [
    "## 1. Regression"
   ]
  },
  {
   "cell_type": "markdown",
   "metadata": {},
   "source": [
    "### (a) Dense based on 1 feature"
   ]
  },
  {
   "cell_type": "code",
   "execution_count": 15,
   "metadata": {},
   "outputs": [],
   "source": [
    "def dense_lr_1f(X_train, y_train):\n",
    "    model = Sequential()\n",
    "    model.add(Dense(20, activation='relu', input_shape=(1,)))\n",
    "    model.add(Dropout(0.2))\n",
    "    model.add(Dense(1, activation='linear'))\n",
    "    model.compile(optimizer='adam',\n",
    "                     loss='mse',\n",
    "                     metrics=['mae'])\n",
    "    history = model.fit(X_train, y_train, \n",
    "                        batch_size=20, \n",
    "                        epochs=500, \n",
    "                        verbose=0, \n",
    "                        callbacks=[earlystopping]\n",
    "                       )\n",
    "    return history, model"
   ]
  },
  {
   "cell_type": "code",
   "execution_count": 16,
   "metadata": {},
   "outputs": [],
   "source": [
    "def score_dense_lr_1f(history):\n",
    "    df = pd.DataFrame(history.history, \n",
    "                      index=range(1, len(history.history[\"loss\"]) + 1)\n",
    "                     )\n",
    "    df=df.rename(columns={'loss': 'loss_1f', 'mae': 'mae_1f'})\n",
    "    \n",
    "    return df"
   ]
  },
  {
   "cell_type": "code",
   "execution_count": 17,
   "metadata": {},
   "outputs": [],
   "source": [
    "def pred_dense_lr_1f(model, X_test, y_test):\n",
    "    predicted = model.predict(X_test)\n",
    "    result = pd.DataFrame(predicted)\n",
    "    result.columns = ['predict_1feature']\n",
    "    result['actual'] = y_test\n",
    "    #result.plot()\n",
    "    return result"
   ]
  },
  {
   "cell_type": "markdown",
   "metadata": {},
   "source": [
    "### (b) LSTM based on 1 feature"
   ]
  },
  {
   "cell_type": "code",
   "execution_count": 18,
   "metadata": {},
   "outputs": [],
   "source": [
    "def lstm_lr_1f(X_train, y_train):\n",
    "    model = Sequential()\n",
    "    model.add(LSTM(20,\n",
    "                   return_sequences=True,\n",
    "                   input_shape=(1,1)\n",
    "                  )\n",
    "             )\n",
    "    model.add(Dropout(0.2))\n",
    "\n",
    "    model.add(LSTM(units=20, return_sequences=True))\n",
    "    model.add(Dropout(0.2))\n",
    "\n",
    "    model.add(LSTM(units=20))\n",
    "    model.add(Dropout(0.2))\n",
    "\n",
    "    model.add(Dense(1, activation='linear'))\n",
    "    \n",
    "    model.compile(optimizer='adam',\n",
    "                  loss='mse',\n",
    "                  metrics=['mae'])\n",
    "    \n",
    "    X_train_res=X_train[:,:,np.newaxis]\n",
    "    \n",
    "    history=model.fit(X_train_res, y_train, \n",
    "                      batch_size=20, \n",
    "                      epochs=500, \n",
    "                      verbose=0, \n",
    "                      callbacks=[earlystopping]\n",
    "                     )\n",
    "    \n",
    "    return history, model"
   ]
  },
  {
   "cell_type": "code",
   "execution_count": 19,
   "metadata": {},
   "outputs": [],
   "source": [
    "def score_lstm_lr_1f(history):\n",
    "    df = pd.DataFrame(history.history, \n",
    "                      index=range(1, len(history.history[\"loss\"]) + 1)\n",
    "                     )\n",
    "    df = df.rename(columns={'loss': 'loss_1f', 'mae': 'mae_1f'})\n",
    "    \n",
    "    return df"
   ]
  },
  {
   "cell_type": "code",
   "execution_count": 20,
   "metadata": {},
   "outputs": [],
   "source": [
    "def pred_lstm_lr_1f(model, X_test, y_test):\n",
    "    predicted = model.predict(X_test[:,:,np.newaxis])\n",
    "    result = pd.DataFrame(predicted)\n",
    "    result.columns = ['predict_1feature']\n",
    "    result['actual'] = y_test\n",
    "    \n",
    "    return result"
   ]
  },
  {
   "cell_type": "markdown",
   "metadata": {},
   "source": [
    "### (c) Dense based on 2 features"
   ]
  },
  {
   "cell_type": "code",
   "execution_count": 21,
   "metadata": {},
   "outputs": [],
   "source": [
    "def dense_lr_2f(X_train, y_train):\n",
    "    model = Sequential()\n",
    "    model.add(Dense(20, activation='relu', input_shape=(2,)))\n",
    "    model.add(Dropout(0.2))\n",
    "    model.add(Dense(1, activation='linear'))\n",
    "    \n",
    "    model.compile(optimizer='adam',\n",
    "                  loss='mse',\n",
    "                  metrics=['mae'])\n",
    "    \n",
    "    history = model.fit(X_train, y_train, \n",
    "                        batch_size=20, \n",
    "                        epochs=500, \n",
    "                        verbose=0, \n",
    "                        callbacks=[earlystopping]\n",
    "                       )\n",
    "    \n",
    "    return history, model"
   ]
  },
  {
   "cell_type": "code",
   "execution_count": 22,
   "metadata": {},
   "outputs": [],
   "source": [
    "def score_dense_lr_2f(history):\n",
    "    df = pd.DataFrame(history.history, \n",
    "                      index=range(1, len(history.history[\"loss\"]) + 1)\n",
    "                     )\n",
    "    df=df.rename(columns={'loss': 'loss_2f', 'mae': 'mae_2f'})\n",
    "    \n",
    "    return df"
   ]
  },
  {
   "cell_type": "code",
   "execution_count": 23,
   "metadata": {},
   "outputs": [],
   "source": [
    "def pred_dense_lr_2f(model, X_test, y_test):\n",
    "    predicted = model.predict(X_test)\n",
    "    result = pd.DataFrame(predicted)\n",
    "    result.columns = ['predict_2features']\n",
    "    result['actual'] = y_test\n",
    "    \n",
    "    return result"
   ]
  },
  {
   "cell_type": "markdown",
   "metadata": {},
   "source": [
    "### (d) LSTM based on 2 features"
   ]
  },
  {
   "cell_type": "code",
   "execution_count": 24,
   "metadata": {},
   "outputs": [],
   "source": [
    "def lstm_lr_2f(X_train, y_train):\n",
    "    model = Sequential()\n",
    "    model.add(LSTM(20,\n",
    "                   return_sequences=True,\n",
    "                   input_shape=(2,1)\n",
    "                  )\n",
    "             )\n",
    "    model.add(Dropout(0.2))\n",
    "    \n",
    "    model.add(LSTM(units=20, return_sequences=True))\n",
    "    model.add(Dropout(0.2))\n",
    "\n",
    "    model.add(LSTM(units=20))\n",
    "    model.add(Dropout(0.2))\n",
    "\n",
    "    model.add(Dense(1, activation='linear'))\n",
    "    \n",
    "    model.compile(optimizer='adam',\n",
    "                  loss='mse',\n",
    "                  metrics=['mae'])\n",
    "    \n",
    "    X_train_res=X_train[:,:,np.newaxis]\n",
    "    \n",
    "    history=model.fit(X_train_res, y_train, \n",
    "                      batch_size=20, \n",
    "                      epochs=500, \n",
    "                      verbose=0, \n",
    "                      callbacks=[earlystopping]\n",
    "                     )\n",
    "    \n",
    "    return history, model"
   ]
  },
  {
   "cell_type": "code",
   "execution_count": 25,
   "metadata": {},
   "outputs": [],
   "source": [
    "def score_lstm_lr_2f(history):\n",
    "    df = pd.DataFrame(history.history, \n",
    "                      index=range(1, len(history.history[\"loss\"]) + 1)\n",
    "                     )\n",
    "    df=df.rename(columns={'loss': 'loss_2f', 'mae': 'mae_2f'})\n",
    "    \n",
    "    return df"
   ]
  },
  {
   "cell_type": "code",
   "execution_count": 26,
   "metadata": {},
   "outputs": [],
   "source": [
    "def pred_lstm_lr_2f(model, X_test, y_test):\n",
    "    predicted = model.predict(X_test[:,:,np.newaxis])\n",
    "    result = pd.DataFrame(predicted)\n",
    "    result.columns = ['predict_2features']\n",
    "    result['actual'] = y_test\n",
    "\n",
    "    return result"
   ]
  },
  {
   "cell_type": "markdown",
   "metadata": {},
   "source": [
    "## 2. Classification"
   ]
  },
  {
   "cell_type": "markdown",
   "metadata": {},
   "source": [
    "### (a) Dense based on 1 feature"
   ]
  },
  {
   "cell_type": "code",
   "execution_count": 27,
   "metadata": {},
   "outputs": [],
   "source": [
    "def dense_cl_1f(X_train, y_train):\n",
    "    model = Sequential()\n",
    "    model.add(Dense(20, activation='relu', input_shape=(1,)))\n",
    "    model.add(Dropout(0.2))\n",
    "    model.add(Dense(1, activation='sigmoid'))\n",
    "    \n",
    "    model.compile(optimizer='adam',\n",
    "                  loss='binary_crossentropy',\n",
    "           \t      metrics=['acc'])\n",
    "    \n",
    "    history=model.fit(X_train, y_train, \n",
    "                      batch_size=20, \n",
    "                      epochs=500, \n",
    "                      verbose=0, \n",
    "                      callbacks=[earlystopping]\n",
    "                     )\n",
    "    \n",
    "    return history, model"
   ]
  },
  {
   "cell_type": "code",
   "execution_count": 28,
   "metadata": {},
   "outputs": [],
   "source": [
    "def eva_dense_cl_1f(model, X_test, y_test):\n",
    "    accuracy = model.evaluate(X_test, y_test, verbose=0)[1]\n",
    "    dic = {'Dense': accuracy}\n",
    "    return dic"
   ]
  },
  {
   "cell_type": "markdown",
   "metadata": {},
   "source": [
    "### (b) LSTM based on 1 feature"
   ]
  },
  {
   "cell_type": "code",
   "execution_count": 29,
   "metadata": {},
   "outputs": [],
   "source": [
    "def lstm_cl_1f(X_train, y_train):\n",
    "    model = Sequential()\n",
    "    model.add(LSTM(20,\n",
    "                   return_sequences=True,\n",
    "                   input_shape=(1,1)\n",
    "                  )\n",
    "             )\n",
    "    model.add(Dropout(0.2))\n",
    "    \n",
    "    model.add(LSTM(units=20, return_sequences=True))\n",
    "    model.add(Dropout(0.2))\n",
    "\n",
    "    model.add(LSTM(units=20))\n",
    "    model.add(Dropout(0.2))\n",
    "\n",
    "    model.add(Dense(1, activation='sigmoid'))\n",
    "    \n",
    "    model.compile(optimizer='adam',\n",
    "                  loss='binary_crossentropy',\n",
    "                  metrics=['acc'])\n",
    "    \n",
    "    X_train_res = X_train[:,:,np.newaxis]\n",
    "    \n",
    "    history = model.fit(X_train_res, y_train, \n",
    "                        batch_size=20, \n",
    "                        epochs=500, \n",
    "                        verbose=0, \n",
    "                        callbacks=[earlystopping]\n",
    "                       )\n",
    "    \n",
    "    return history, model"
   ]
  },
  {
   "cell_type": "code",
   "execution_count": 30,
   "metadata": {},
   "outputs": [],
   "source": [
    "def eva_lstm_cl_1f(model, X_test, y_test):\n",
    "    accuracy = model.evaluate(X_test[:,:,np.newaxis], y_test, verbose=0)[1]\n",
    "    dic = {'LSTM': accuracy}\n",
    "    return dic"
   ]
  },
  {
   "cell_type": "markdown",
   "metadata": {},
   "source": [
    "### (c) Dense based on 2 features"
   ]
  },
  {
   "cell_type": "code",
   "execution_count": 31,
   "metadata": {},
   "outputs": [],
   "source": [
    "def dense_cl_2f(X_train, y_train):\n",
    "    model = Sequential()\n",
    "    model.add(Dense(20, activation='relu', input_shape=(2,)))\n",
    "    model.add(Dropout(0.2))\n",
    "    model.add(Dense(1, activation='sigmoid'))\n",
    "    \n",
    "    model.compile(optimizer='adam',\n",
    "                  loss='binary_crossentropy',\n",
    "           \t      metrics=['acc'])\n",
    "    \n",
    "    history=model.fit(X_train, y_train, \n",
    "                      batch_size=20, \n",
    "                      epochs=500, \n",
    "                      verbose=0, \n",
    "                      callbacks=[earlystopping]\n",
    "                     )\n",
    "    \n",
    "    return history, model"
   ]
  },
  {
   "cell_type": "code",
   "execution_count": 32,
   "metadata": {},
   "outputs": [],
   "source": [
    "def eva_dense_cl_2f(model, X_test, y_test):\n",
    "    accuracy = model.evaluate(X_test, y_test, verbose=0)[1]\n",
    "    dic = {'Dense': accuracy}\n",
    "    return dic"
   ]
  },
  {
   "cell_type": "markdown",
   "metadata": {},
   "source": [
    "### (d) LSTM based on 2 features"
   ]
  },
  {
   "cell_type": "code",
   "execution_count": 33,
   "metadata": {},
   "outputs": [],
   "source": [
    "def lstm_cl_2f(X_train, y_train):\n",
    "    model = Sequential()\n",
    "    model.add(LSTM(20,\n",
    "                   return_sequences=True,\n",
    "                   input_shape=(2,1)\n",
    "                  )\n",
    "             )\n",
    "    model.add(Dropout(0.2))\n",
    "    \n",
    "    model.add(LSTM(units=20, return_sequences=True))\n",
    "    model.add(Dropout(0.2))\n",
    "\n",
    "    model.add(LSTM(units=20))\n",
    "    model.add(Dropout(0.2))\n",
    "\n",
    "    model.add(Dense(1, activation='sigmoid'))\n",
    "\n",
    "    model.compile(optimizer='adam',\n",
    "               loss='binary_crossentropy',\n",
    "               metrics=['acc'])\n",
    "    \n",
    "    X_train_res = X_train[:,:,np.newaxis]\n",
    "    \n",
    "    history = model.fit(X_train_res, y_train, \n",
    "                        batch_size=20, \n",
    "                        epochs=500, \n",
    "                        verbose=0, \n",
    "                        callbacks=[earlystopping]\n",
    "                       )\n",
    "    \n",
    "    return history, model"
   ]
  },
  {
   "cell_type": "code",
   "execution_count": 34,
   "metadata": {},
   "outputs": [],
   "source": [
    "def eva_lstm_cl_2f(model, X_test, y_test):\n",
    "    accuracy = model.evaluate(X_test[:,:,np.newaxis], y_test, verbose=0)[1]\n",
    "    dic = {'LSTM': accuracy}\n",
    "    return dic"
   ]
  },
  {
   "cell_type": "markdown",
   "metadata": {},
   "source": [
    "### (e) Sklearn Models: Logistic Regression, SVC, Decision Tree Classifier, Random Forest Classifier, XGB Classifier\n",
    "It is not obvious which model is most suited for predicting stock price movements, so we examine the 5 models and compare their performances. To finetune performances, we try the cross validation and the grid search."
   ]
  },
  {
   "cell_type": "code",
   "execution_count": 35,
   "metadata": {},
   "outputs": [],
   "source": [
    "def sklearn_cl_models(X_train, y_train, X_test, y_test):\n",
    "    # Logistic regression\n",
    "    algorithm1 = LogisticRegression(random_state=1)\n",
    "    # Support vector machine\n",
    "    algorithm2 = SVC(kernel='rbf', random_state=1)\n",
    "    # Decision Tree Classifier\n",
    "    algorithm3 = DecisionTreeClassifier(random_state=1)\n",
    "    # Random Forest\n",
    "    algorithm4 = RandomForestClassifier(random_state=1)\n",
    "    # XGBoost\n",
    "    algorithm5 = XGBClassifier(random_state=1)\n",
    "    # Create a list of the five model instances\n",
    "    algorithms = [algorithm1, algorithm2, algorithm3, algorithm4, algorithm5]\n",
    "    \n",
    "    # Create a balanced set of samples, create a StratifiedKFold instance\n",
    "    stratifiedkfold = StratifiedKFold(n_splits=5)\n",
    "    \n",
    "    dic = {}\n",
    "\n",
    "    \n",
    "    for algorithm in algorithms:\n",
    "        algorithm.fit(X_train, y_train)\n",
    "        score = algorithm.score(X_test, y_test)\n",
    "        name = algorithm.__class__.__name__\n",
    "        dic[name] = score \n",
    "    \n",
    "    return dic"
   ]
  },
  {
   "cell_type": "code",
   "execution_count": 36,
   "metadata": {},
   "outputs": [],
   "source": [
    "def sklearn_cl_models_cross_validation(X, y):\n",
    "    # Logistic regression\n",
    "    algorithm1 = LogisticRegression(random_state=1)\n",
    "    # Support vector machine\n",
    "    algorithm2 = SVC(kernel='rbf', random_state=1)\n",
    "    # Decision Tree Classifier\n",
    "    algorithm3 = DecisionTreeClassifier(random_state=1)\n",
    "    # Random Forest\n",
    "    algorithm4 = RandomForestClassifier(random_state=1)\n",
    "    # XGBoost\n",
    "    algorithm5 = XGBClassifier(random_state=1)\n",
    "    # Create a list of the five model instances\n",
    "    algorithms = [algorithm1, algorithm2, algorithm3, algorithm4, algorithm5]\n",
    "    \n",
    "    # Create a balanced set of samples, create a StratifiedKFold instance\n",
    "    stratifiedkfold = StratifiedKFold(n_splits=5)\n",
    "    \n",
    "    dic = {}\n",
    "    \n",
    "    for algorithm in algorithms:\n",
    "        # Conduct cross validation for each one of the five models\n",
    "        scores = cross_val_score(algorithm, X, y, cv=stratifiedkfold)\n",
    "        score = scores.mean()\n",
    "        name = algorithm.__class__.__name__\n",
    "        dic[name + ' (Cross Validation)'] = score \n",
    "    \n",
    "    return dic"
   ]
  },
  {
   "cell_type": "code",
   "execution_count": 37,
   "metadata": {},
   "outputs": [],
   "source": [
    "def svc_optimizer(X_train, y_train, X_test, y_test):\n",
    "    \n",
    "    params = {'C':[1, 10, 100, 1000, 10000], 'gamma':[1, 0.1, 0.01, 0.001, 0.0001, 0.00001]}\n",
    "    algorithm = SVC(random_state=1)\n",
    "\n",
    "    stratifiedkfold = StratifiedKFold(n_splits=5)\n",
    "    gs = GridSearchCV(algorithm, params, cv=stratifiedkfold)\n",
    "    gs.fit(X_train, y_train)\n",
    "\n",
    "    # Based on the best parameters, predict y values from test data\n",
    "    best = gs.best_estimator_\n",
    "    best_pred = best.predict(X_test)\n",
    "\n",
    "    # Accuracy\n",
    "    score = best.score(X_test, y_test)\n",
    "    \n",
    "    dic = {'SVC (Grid Search)': score}\n",
    "    \n",
    "    return dic"
   ]
  },
  {
   "cell_type": "markdown",
   "metadata": {},
   "source": [
    "## 3. Visualization"
   ]
  },
  {
   "cell_type": "markdown",
   "metadata": {},
   "source": [
    "### (1) Regression"
   ]
  },
  {
   "cell_type": "code",
   "execution_count": 38,
   "metadata": {},
   "outputs": [],
   "source": [
    "def score_loss_lr_1fvs2f(df_1f, df_2f):\n",
    "    df=pd.concat([df_1f,df_2f], axis=1)\n",
    "    return df[['loss_1f','loss_2f']].hvplot()"
   ]
  },
  {
   "cell_type": "code",
   "execution_count": 39,
   "metadata": {},
   "outputs": [],
   "source": [
    "def score_mae_lr_1fvs2f(df_1f, df_2f):\n",
    "    df=pd.concat([df_1f,df_2f], axis=1)\n",
    "    return df[['mae_1f','mae_2f']].hvplot()"
   ]
  },
  {
   "cell_type": "code",
   "execution_count": 40,
   "metadata": {},
   "outputs": [],
   "source": [
    "def pred_lr_1fvs2f(df_1f, df_2f):\n",
    "    df=df_1f.merge(df_2f, on='actual')\n",
    "    return df.hvplot()"
   ]
  },
  {
   "cell_type": "markdown",
   "metadata": {},
   "source": [
    "### (2) Classification"
   ]
  },
  {
   "cell_type": "code",
   "execution_count": 41,
   "metadata": {},
   "outputs": [],
   "source": [
    "def score_df(\n",
    "    dict1, dict2, dict3, dict4, dict5,\n",
    "    dict6, dict7, dict8, dict9, dict10\n",
    "):\n",
    "    dict1.update(dict2)\n",
    "    dict1.update(dict3)\n",
    "    dict1.update(dict4)\n",
    "    dict1.update(dict5)\n",
    "\n",
    "    dict6.update(dict7)\n",
    "    dict6.update(dict8)\n",
    "    dict6.update(dict9)\n",
    "    dict6.update(dict10)\n",
    "\n",
    "    df = pd.DataFrame([dict1, dict6], index=['1 Feature', '2 Features'])\n",
    "    df = df.T\n",
    "    df[\"sentiment_impact\"] = df['2 Features'] - df['1 Feature']\n",
    "    \n",
    "    return df"
   ]
  },
  {
   "cell_type": "code",
   "execution_count": null,
   "metadata": {},
   "outputs": [],
   "source": []
  },
  {
   "cell_type": "markdown",
   "metadata": {},
   "source": [
    "# Application to 5 Companies"
   ]
  },
  {
   "cell_type": "markdown",
   "metadata": {},
   "source": [
    "## 1. MSFT"
   ]
  },
  {
   "cell_type": "markdown",
   "metadata": {},
   "source": [
    "### (1) Data Creation"
   ]
  },
  {
   "cell_type": "code",
   "execution_count": 42,
   "metadata": {},
   "outputs": [
    {
     "data": {
      "text/html": [
       "<div>\n",
       "<style scoped>\n",
       "    .dataframe tbody tr th:only-of-type {\n",
       "        vertical-align: middle;\n",
       "    }\n",
       "\n",
       "    .dataframe tbody tr th {\n",
       "        vertical-align: top;\n",
       "    }\n",
       "\n",
       "    .dataframe thead th {\n",
       "        text-align: right;\n",
       "    }\n",
       "</style>\n",
       "<table border=\"1\" class=\"dataframe\">\n",
       "  <thead>\n",
       "    <tr style=\"text-align: right;\">\n",
       "      <th></th>\n",
       "      <th>MSFT</th>\n",
       "      <th>SMA20</th>\n",
       "      <th>daily_return</th>\n",
       "      <th>actual_signal</th>\n",
       "      <th>avg_sentiments</th>\n",
       "      <th>SMA_shift</th>\n",
       "    </tr>\n",
       "    <tr>\n",
       "      <th>Date</th>\n",
       "      <th></th>\n",
       "      <th></th>\n",
       "      <th></th>\n",
       "      <th></th>\n",
       "      <th></th>\n",
       "      <th></th>\n",
       "    </tr>\n",
       "  </thead>\n",
       "  <tbody>\n",
       "    <tr>\n",
       "      <th>2015-01-16</th>\n",
       "      <td>46.22</td>\n",
       "      <td>NaN</td>\n",
       "      <td>0.016271</td>\n",
       "      <td>1.0</td>\n",
       "      <td>NaN</td>\n",
       "      <td>NaN</td>\n",
       "    </tr>\n",
       "    <tr>\n",
       "      <th>2015-01-20</th>\n",
       "      <td>46.39</td>\n",
       "      <td>NaN</td>\n",
       "      <td>0.003678</td>\n",
       "      <td>1.0</td>\n",
       "      <td>0.4767</td>\n",
       "      <td>NaN</td>\n",
       "    </tr>\n",
       "    <tr>\n",
       "      <th>2015-01-21</th>\n",
       "      <td>45.91</td>\n",
       "      <td>NaN</td>\n",
       "      <td>-0.010347</td>\n",
       "      <td>0.0</td>\n",
       "      <td>0.0000</td>\n",
       "      <td>NaN</td>\n",
       "    </tr>\n",
       "    <tr>\n",
       "      <th>2015-01-22</th>\n",
       "      <td>47.12</td>\n",
       "      <td>NaN</td>\n",
       "      <td>0.026356</td>\n",
       "      <td>1.0</td>\n",
       "      <td>NaN</td>\n",
       "      <td>NaN</td>\n",
       "    </tr>\n",
       "    <tr>\n",
       "      <th>2015-01-23</th>\n",
       "      <td>47.18</td>\n",
       "      <td>NaN</td>\n",
       "      <td>0.001273</td>\n",
       "      <td>1.0</td>\n",
       "      <td>NaN</td>\n",
       "      <td>NaN</td>\n",
       "    </tr>\n",
       "  </tbody>\n",
       "</table>\n",
       "</div>"
      ],
      "text/plain": [
       "             MSFT  SMA20  daily_return  actual_signal  avg_sentiments  \\\n",
       "Date                                                                    \n",
       "2015-01-16  46.22    NaN      0.016271            1.0             NaN   \n",
       "2015-01-20  46.39    NaN      0.003678            1.0          0.4767   \n",
       "2015-01-21  45.91    NaN     -0.010347            0.0          0.0000   \n",
       "2015-01-22  47.12    NaN      0.026356            1.0             NaN   \n",
       "2015-01-23  47.18    NaN      0.001273            1.0             NaN   \n",
       "\n",
       "            SMA_shift  \n",
       "Date                   \n",
       "2015-01-16        NaN  \n",
       "2015-01-20        NaN  \n",
       "2015-01-21        NaN  \n",
       "2015-01-22        NaN  \n",
       "2015-01-23        NaN  "
      ]
     },
     "execution_count": 42,
     "metadata": {},
     "output_type": "execute_result"
    }
   ],
   "source": [
    "df=read_file(\"MSFT\")\n",
    "df1=sentiment_analysis(df)\n",
    "df2=stock_prices()\n",
    "df3=manipulate_df(df2, 'MSFT')\n",
    "df_MSFT=final_df(df3, df1, 'MSFT')\n",
    "df_MSFT.head()"
   ]
  },
  {
   "cell_type": "markdown",
   "metadata": {},
   "source": [
    "### (2) Regression"
   ]
  },
  {
   "cell_type": "markdown",
   "metadata": {},
   "source": [
    "#### (a) Dense 1 feature"
   ]
  },
  {
   "cell_type": "code",
   "execution_count": 43,
   "metadata": {},
   "outputs": [],
   "source": [
    "X, X_train, X_test, y, y_train, y_test=dataset_regression_1f(df_MSFT, 'MSFT')\n",
    "X, X_train, X_test, y, y_train, y_test=scaler_regression_1f(X, X_train, X_test, y, y_train, y_test)"
   ]
  },
  {
   "cell_type": "code",
   "execution_count": 44,
   "metadata": {},
   "outputs": [],
   "source": [
    "msft_dense_lr_1f_history, msft_dense_lr_1f_model =dense_lr_1f(X_train, y_train)"
   ]
  },
  {
   "cell_type": "code",
   "execution_count": 45,
   "metadata": {},
   "outputs": [],
   "source": [
    "score_dense_lr_1f_df = score_dense_lr_1f(msft_dense_lr_1f_history)"
   ]
  },
  {
   "cell_type": "code",
   "execution_count": 46,
   "metadata": {},
   "outputs": [],
   "source": [
    "pred_dense_lr_1f_df = pred_dense_lr_1f(msft_dense_lr_1f_model, X_test, y_test)"
   ]
  },
  {
   "cell_type": "markdown",
   "metadata": {},
   "source": [
    "#### (b) LSTM 1 feature"
   ]
  },
  {
   "cell_type": "code",
   "execution_count": 47,
   "metadata": {},
   "outputs": [],
   "source": [
    "msft_lstm_lr_1f_history, msft_lstm_lr_1f_model =lstm_lr_1f(X_train, y_train)"
   ]
  },
  {
   "cell_type": "code",
   "execution_count": 48,
   "metadata": {},
   "outputs": [],
   "source": [
    "score_lstm_lr_1f_df = score_lstm_lr_1f(msft_lstm_lr_1f_history)"
   ]
  },
  {
   "cell_type": "code",
   "execution_count": 49,
   "metadata": {},
   "outputs": [],
   "source": [
    "pred_lstm_lr_1f_df = pred_lstm_lr_1f(msft_lstm_lr_1f_model, X_test, y_test)"
   ]
  },
  {
   "cell_type": "markdown",
   "metadata": {},
   "source": [
    "#### (c) Dense 2 features"
   ]
  },
  {
   "cell_type": "code",
   "execution_count": 50,
   "metadata": {},
   "outputs": [],
   "source": [
    "X, X_train, X_test, y, y_train, y_test=dataset_regression_2f(df_MSFT, 'MSFT')\n",
    "X, X_train, X_test, y, y_train, y_test=scaler_regression_2f(X, X_train, X_test, y, y_train, y_test)"
   ]
  },
  {
   "cell_type": "code",
   "execution_count": 51,
   "metadata": {},
   "outputs": [],
   "source": [
    "msft_dense_lr_2f_history, msft_dense_lr_2f_model = dense_lr_2f(X_train, y_train)"
   ]
  },
  {
   "cell_type": "code",
   "execution_count": 52,
   "metadata": {},
   "outputs": [],
   "source": [
    "score_dense_lr_2f_df = score_dense_lr_2f(msft_dense_lr_2f_history)"
   ]
  },
  {
   "cell_type": "code",
   "execution_count": 53,
   "metadata": {},
   "outputs": [],
   "source": [
    "pred_dense_lr_2f_df = pred_dense_lr_2f(msft_dense_lr_2f_model, X_test, y_test)"
   ]
  },
  {
   "cell_type": "markdown",
   "metadata": {},
   "source": [
    "#### (d) LSTM 2 features"
   ]
  },
  {
   "cell_type": "code",
   "execution_count": 54,
   "metadata": {},
   "outputs": [],
   "source": [
    "msft_lstm_lr_2f_history, msft_lstm_lr_2f_model = lstm_lr_2f(X_train, y_train)"
   ]
  },
  {
   "cell_type": "code",
   "execution_count": 55,
   "metadata": {},
   "outputs": [],
   "source": [
    "score_lstm_lr_2f_df = score_lstm_lr_2f(msft_lstm_lr_2f_history)"
   ]
  },
  {
   "cell_type": "code",
   "execution_count": 56,
   "metadata": {},
   "outputs": [],
   "source": [
    "pred_lstm_lr_2f_df = pred_lstm_lr_2f(msft_lstm_lr_2f_model, X_test, y_test)"
   ]
  },
  {
   "cell_type": "markdown",
   "metadata": {},
   "source": [
    "#### (e) Visualization"
   ]
  },
  {
   "cell_type": "code",
   "execution_count": 57,
   "metadata": {},
   "outputs": [
    {
     "data": {
      "application/vnd.holoviews_exec.v0+json": "",
      "text/html": [
       "<div id='1001'>\n",
       "\n",
       "\n",
       "\n",
       "\n",
       "\n",
       "  <div class=\"bk-root\" id=\"1b9b28c4-6a32-43e1-a2a5-1add7dda3c50\" data-root-id=\"1001\"></div>\n",
       "</div>\n",
       "<script type=\"application/javascript\">(function(root) {\n",
       "  function embed_document(root) {\n",
       "    var docs_json = {\"529406ea-0595-4503-8c48-341c44b33a42\":{\"roots\":{\"references\":[{\"attributes\":{},\"id\":\"1017\",\"type\":\"BasicTicker\"},{\"attributes\":{\"axis_label\":\"\",\"bounds\":\"auto\",\"formatter\":{\"id\":\"1040\"},\"major_label_orientation\":\"horizontal\",\"ticker\":{\"id\":\"1021\"}},\"id\":\"1020\",\"type\":\"LinearAxis\"},{\"attributes\":{\"line_alpha\":0.1,\"line_color\":\"#1f77b3\",\"line_width\":2,\"x\":{\"field\":\"index\"},\"y\":{\"field\":\"value\"}},\"id\":\"1045\",\"type\":\"Line\"},{\"attributes\":{\"below\":[{\"id\":\"1016\"}],\"center\":[{\"id\":\"1019\"},{\"id\":\"1023\"}],\"left\":[{\"id\":\"1020\"}],\"margin\":[5,5,5,5],\"min_border_bottom\":10,\"min_border_left\":10,\"min_border_right\":10,\"min_border_top\":10,\"plot_height\":300,\"plot_width\":700,\"renderers\":[{\"id\":\"1047\"},{\"id\":\"1065\"}],\"right\":[{\"id\":\"1057\"}],\"sizing_mode\":\"fixed\",\"title\":{\"id\":\"1008\"},\"toolbar\":{\"id\":\"1030\"},\"x_range\":{\"id\":\"1003\"},\"x_scale\":{\"id\":\"1012\"},\"y_range\":{\"id\":\"1004\"},\"y_scale\":{\"id\":\"1014\"}},\"id\":\"1007\",\"subtype\":\"Figure\",\"type\":\"Plot\"},{\"attributes\":{\"line_alpha\":0.1,\"line_color\":\"#ff7e0e\",\"line_width\":2,\"x\":{\"field\":\"index\"},\"y\":{\"field\":\"value\"}},\"id\":\"1063\",\"type\":\"Line\"},{\"attributes\":{\"end\":0.14323489093221725,\"reset_end\":0.14323489093221725,\"reset_start\":-0.007471426902338863,\"start\":-0.007471426902338863,\"tags\":[[[\"value\",\"value\",null]]]},\"id\":\"1004\",\"type\":\"Range1d\"},{\"attributes\":{\"source\":{\"id\":\"1059\"}},\"id\":\"1066\",\"type\":\"CDSView\"},{\"attributes\":{},\"id\":\"1060\",\"type\":\"Selection\"},{\"attributes\":{\"data_source\":{\"id\":\"1041\"},\"glyph\":{\"id\":\"1044\"},\"hover_glyph\":null,\"muted_glyph\":{\"id\":\"1046\"},\"nonselection_glyph\":{\"id\":\"1045\"},\"selection_glyph\":null,\"view\":{\"id\":\"1048\"}},\"id\":\"1047\",\"type\":\"GlyphRenderer\"},{\"attributes\":{\"active_drag\":\"auto\",\"active_inspect\":\"auto\",\"active_multi\":null,\"active_scroll\":\"auto\",\"active_tap\":\"auto\",\"tools\":[{\"id\":\"1005\"},{\"id\":\"1024\"},{\"id\":\"1025\"},{\"id\":\"1026\"},{\"id\":\"1027\"},{\"id\":\"1028\"}]},\"id\":\"1030\",\"type\":\"Toolbar\"},{\"attributes\":{\"line_color\":\"#ff7e0e\",\"line_width\":2,\"x\":{\"field\":\"index\"},\"y\":{\"field\":\"value\"}},\"id\":\"1062\",\"type\":\"Line\"},{\"attributes\":{\"callback\":null,\"renderers\":[{\"id\":\"1047\"},{\"id\":\"1065\"}],\"tags\":[\"hv_created\"],\"tooltips\":[[\"Variable\",\"@{Variable}\"],[\"index\",\"@{index}\"],[\"value\",\"@{value}\"]]},\"id\":\"1005\",\"type\":\"HoverTool\"},{\"attributes\":{\"axis\":{\"id\":\"1016\"},\"grid_line_color\":null,\"ticker\":null},\"id\":\"1019\",\"type\":\"Grid\"},{\"attributes\":{\"click_policy\":\"mute\",\"items\":[{\"id\":\"1058\"},{\"id\":\"1077\"}],\"location\":[0,0],\"title\":\"Variable\"},\"id\":\"1057\",\"type\":\"Legend\"},{\"attributes\":{\"label\":{\"value\":\"loss_1f\"},\"renderers\":[{\"id\":\"1047\"}]},\"id\":\"1058\",\"type\":\"LegendItem\"},{\"attributes\":{},\"id\":\"1055\",\"type\":\"UnionRenderers\"},{\"attributes\":{\"axis\":{\"id\":\"1020\"},\"dimension\":1,\"grid_line_color\":null,\"ticker\":null},\"id\":\"1023\",\"type\":\"Grid\"},{\"attributes\":{\"line_color\":\"#1f77b3\",\"line_width\":2,\"x\":{\"field\":\"index\"},\"y\":{\"field\":\"value\"}},\"id\":\"1044\",\"type\":\"Line\"},{\"attributes\":{},\"id\":\"1075\",\"type\":\"UnionRenderers\"},{\"attributes\":{},\"id\":\"1021\",\"type\":\"BasicTicker\"},{\"attributes\":{\"label\":{\"value\":\"loss_2f\"},\"renderers\":[{\"id\":\"1065\"}]},\"id\":\"1077\",\"type\":\"LegendItem\"},{\"attributes\":{\"end\":23.0,\"reset_end\":23.0,\"reset_start\":1.0,\"start\":1.0,\"tags\":[[[\"index\",\"index\",null]]]},\"id\":\"1003\",\"type\":\"Range1d\"},{\"attributes\":{\"bottom_units\":\"screen\",\"fill_alpha\":0.5,\"fill_color\":\"lightgrey\",\"left_units\":\"screen\",\"level\":\"overlay\",\"line_alpha\":1.0,\"line_color\":\"black\",\"line_dash\":[4,4],\"line_width\":2,\"right_units\":\"screen\",\"top_units\":\"screen\"},\"id\":\"1029\",\"type\":\"BoxAnnotation\"},{\"attributes\":{\"children\":[{\"id\":\"1002\"},{\"id\":\"1007\"},{\"id\":\"1168\"}],\"margin\":[0,0,0,0],\"name\":\"Row01558\",\"tags\":[\"embedded\"]},\"id\":\"1001\",\"type\":\"Row\"},{\"attributes\":{\"line_alpha\":0.2,\"line_color\":\"#1f77b3\",\"line_width\":2,\"x\":{\"field\":\"index\"},\"y\":{\"field\":\"value\"}},\"id\":\"1046\",\"type\":\"Line\"},{\"attributes\":{\"margin\":[5,5,5,5],\"name\":\"HSpacer01562\",\"sizing_mode\":\"stretch_width\"},\"id\":\"1002\",\"type\":\"Spacer\"},{\"attributes\":{},\"id\":\"1038\",\"type\":\"BasicTickFormatter\"},{\"attributes\":{},\"id\":\"1040\",\"type\":\"BasicTickFormatter\"},{\"attributes\":{\"line_alpha\":0.2,\"line_color\":\"#ff7e0e\",\"line_width\":2,\"x\":{\"field\":\"index\"},\"y\":{\"field\":\"value\"}},\"id\":\"1064\",\"type\":\"Line\"},{\"attributes\":{},\"id\":\"1024\",\"type\":\"SaveTool\"},{\"attributes\":{\"axis_label\":\"\",\"bounds\":\"auto\",\"formatter\":{\"id\":\"1038\"},\"major_label_orientation\":\"horizontal\",\"ticker\":{\"id\":\"1017\"}},\"id\":\"1016\",\"type\":\"LinearAxis\"},{\"attributes\":{},\"id\":\"1025\",\"type\":\"PanTool\"},{\"attributes\":{\"source\":{\"id\":\"1041\"}},\"id\":\"1048\",\"type\":\"CDSView\"},{\"attributes\":{},\"id\":\"1028\",\"type\":\"ResetTool\"},{\"attributes\":{},\"id\":\"1026\",\"type\":\"WheelZoomTool\"},{\"attributes\":{\"data\":{\"Variable\":[\"loss_1f\",\"loss_1f\",\"loss_1f\",\"loss_1f\",\"loss_1f\",\"loss_1f\",\"loss_1f\",\"loss_1f\",\"loss_1f\",\"loss_1f\",\"loss_1f\",\"loss_1f\",\"loss_1f\",\"loss_1f\",\"loss_1f\",\"loss_1f\",\"loss_1f\",\"loss_1f\",\"loss_1f\",\"loss_1f\",\"loss_1f\",\"loss_1f\",\"loss_1f\"],\"index\":[1,2,3,4,5,6,7,8,9,10,11,12,13,14,15,16,17,18,19,20,21,22,23],\"value\":{\"__ndarray__\":\"AAAAAP65wD8AAABgdlmyPwAAAKBzrKU/AAAA4ATonD8AAADgiDKYPwAAAOAREpc/AAAAYA0klD8AAACAdAKSPwAAAECuGJA/AAAAICzliz8AAAAAgAuGPwAAAEC+F4g/AAAAAF6hgj8AAAAAOFiDPwAAAEAhqIA/AAAAAHbSgT8AAADgQ6mAPwAAAKAgTH0/AAAAAH6sdj8AAACgVKJ+PwAAAODqhXg/AAAAoDFRez8AAAAAAAD4fw==\",\"dtype\":\"float64\",\"order\":\"little\",\"shape\":[23]}},\"selected\":{\"id\":\"1042\"},\"selection_policy\":{\"id\":\"1055\"}},\"id\":\"1041\",\"type\":\"ColumnDataSource\"},{\"attributes\":{\"overlay\":{\"id\":\"1029\"}},\"id\":\"1027\",\"type\":\"BoxZoomTool\"},{\"attributes\":{},\"id\":\"1012\",\"type\":\"LinearScale\"},{\"attributes\":{\"data\":{\"Variable\":[\"loss_2f\",\"loss_2f\",\"loss_2f\",\"loss_2f\",\"loss_2f\",\"loss_2f\",\"loss_2f\",\"loss_2f\",\"loss_2f\",\"loss_2f\",\"loss_2f\",\"loss_2f\",\"loss_2f\",\"loss_2f\",\"loss_2f\",\"loss_2f\",\"loss_2f\",\"loss_2f\",\"loss_2f\",\"loss_2f\",\"loss_2f\",\"loss_2f\",\"loss_2f\"],\"index\":[1,2,3,4,5,6,7,8,9,10,11,12,13,14,15,16,17,18,19,20,21,22,23],\"value\":{\"__ndarray__\":\"AAAAwP/eqz8AAAAATlWfPwAAAGAZeZQ/AAAAIHhtkT8AAACADO6GPwAAAODMLYg/AAAAoDYahj8AAACARueAPwAAAABAj4E/AAAA4EZWgD8AAABAbRyCPwAAAADBxH0/AAAAwGvIgD8AAACAbhSBPwAAAABa2no/AAAAoD3deD8AAADAsUN/PwAAAGApVHU/AAAAgPmNeT8AAABgj9Z0PwAAACBhbns/AAAAoLi3dj8AAACACtB3Pw==\",\"dtype\":\"float64\",\"order\":\"little\",\"shape\":[23]}},\"selected\":{\"id\":\"1060\"},\"selection_policy\":{\"id\":\"1075\"}},\"id\":\"1059\",\"type\":\"ColumnDataSource\"},{\"attributes\":{},\"id\":\"1042\",\"type\":\"Selection\"},{\"attributes\":{\"text\":\"\",\"text_color\":{\"value\":\"black\"},\"text_font_size\":{\"value\":\"12pt\"}},\"id\":\"1008\",\"type\":\"Title\"},{\"attributes\":{\"data_source\":{\"id\":\"1059\"},\"glyph\":{\"id\":\"1062\"},\"hover_glyph\":null,\"muted_glyph\":{\"id\":\"1064\"},\"nonselection_glyph\":{\"id\":\"1063\"},\"selection_glyph\":null,\"view\":{\"id\":\"1066\"}},\"id\":\"1065\",\"type\":\"GlyphRenderer\"},{\"attributes\":{},\"id\":\"1014\",\"type\":\"LinearScale\"},{\"attributes\":{\"margin\":[5,5,5,5],\"name\":\"HSpacer01563\",\"sizing_mode\":\"stretch_width\"},\"id\":\"1168\",\"type\":\"Spacer\"}],\"root_ids\":[\"1001\"]},\"title\":\"Bokeh Application\",\"version\":\"2.2.3\"}};\n",
       "    var render_items = [{\"docid\":\"529406ea-0595-4503-8c48-341c44b33a42\",\"root_ids\":[\"1001\"],\"roots\":{\"1001\":\"1b9b28c4-6a32-43e1-a2a5-1add7dda3c50\"}}];\n",
       "    root.Bokeh.embed.embed_items_notebook(docs_json, render_items);\n",
       "  }\n",
       "  if (root.Bokeh !== undefined && root.Bokeh.Panel !== undefined) {\n",
       "    embed_document(root);\n",
       "  } else {\n",
       "    var attempts = 0;\n",
       "    var timer = setInterval(function(root) {\n",
       "      if (root.Bokeh !== undefined && root.Bokeh.Panel !== undefined) {\n",
       "        clearInterval(timer);\n",
       "        embed_document(root);\n",
       "      } else if (document.readyState == \"complete\") {\n",
       "        attempts++;\n",
       "        if (attempts > 100) {\n",
       "          clearInterval(timer);\n",
       "          console.log(\"Bokeh: ERROR: Unable to run BokehJS code because BokehJS library is missing\");\n",
       "        }\n",
       "      }\n",
       "    }, 10, root)\n",
       "  }\n",
       "})(window);</script>"
      ],
      "text/plain": [
       ":NdOverlay   [Variable]\n",
       "   :Curve   [index]   (value)"
      ]
     },
     "execution_count": 57,
     "metadata": {
      "application/vnd.holoviews_exec.v0+json": {
       "id": "1001"
      }
     },
     "output_type": "execute_result"
    }
   ],
   "source": [
    "score_loss_lr_1fvs2f(score_dense_lr_1f_df, score_dense_lr_2f_df)"
   ]
  },
  {
   "cell_type": "code",
   "execution_count": 58,
   "metadata": {},
   "outputs": [
    {
     "data": {
      "application/vnd.holoviews_exec.v0+json": "",
      "text/html": [
       "<div id='1220'>\n",
       "\n",
       "\n",
       "\n",
       "\n",
       "\n",
       "  <div class=\"bk-root\" id=\"1d085996-6aa6-4cac-900a-4bf51ea7b775\" data-root-id=\"1220\"></div>\n",
       "</div>\n",
       "<script type=\"application/javascript\">(function(root) {\n",
       "  function embed_document(root) {\n",
       "    var docs_json = {\"88c3fd6a-3847-433b-8c89-ced8721b5e20\":{\"roots\":{\"references\":[{\"attributes\":{},\"id\":\"1247\",\"type\":\"ResetTool\"},{\"attributes\":{},\"id\":\"1245\",\"type\":\"WheelZoomTool\"},{\"attributes\":{},\"id\":\"1244\",\"type\":\"PanTool\"},{\"attributes\":{},\"id\":\"1279\",\"type\":\"Selection\"},{\"attributes\":{\"overlay\":{\"id\":\"1248\"}},\"id\":\"1246\",\"type\":\"BoxZoomTool\"},{\"attributes\":{\"source\":{\"id\":\"1260\"}},\"id\":\"1267\",\"type\":\"CDSView\"},{\"attributes\":{},\"id\":\"1257\",\"type\":\"BasicTickFormatter\"},{\"attributes\":{},\"id\":\"1259\",\"type\":\"BasicTickFormatter\"},{\"attributes\":{\"text\":\"\",\"text_color\":{\"value\":\"black\"},\"text_font_size\":{\"value\":\"12pt\"}},\"id\":\"1227\",\"type\":\"Title\"},{\"attributes\":{\"line_alpha\":0.1,\"line_color\":\"#ff7e0e\",\"line_width\":2,\"x\":{\"field\":\"index\"},\"y\":{\"field\":\"value\"}},\"id\":\"1282\",\"type\":\"Line\"},{\"attributes\":{\"data_source\":{\"id\":\"1278\"},\"glyph\":{\"id\":\"1281\"},\"hover_glyph\":null,\"muted_glyph\":{\"id\":\"1283\"},\"nonselection_glyph\":{\"id\":\"1282\"},\"selection_glyph\":null,\"view\":{\"id\":\"1285\"}},\"id\":\"1284\",\"type\":\"GlyphRenderer\"},{\"attributes\":{},\"id\":\"1231\",\"type\":\"LinearScale\"},{\"attributes\":{\"axis_label\":\"\",\"bounds\":\"auto\",\"formatter\":{\"id\":\"1257\"},\"major_label_orientation\":\"horizontal\",\"ticker\":{\"id\":\"1236\"}},\"id\":\"1235\",\"type\":\"LinearAxis\"},{\"attributes\":{},\"id\":\"1233\",\"type\":\"LinearScale\"},{\"attributes\":{},\"id\":\"1236\",\"type\":\"BasicTicker\"},{\"attributes\":{},\"id\":\"1261\",\"type\":\"Selection\"},{\"attributes\":{\"margin\":[5,5,5,5],\"name\":\"HSpacer02009\",\"sizing_mode\":\"stretch_width\"},\"id\":\"1387\",\"type\":\"Spacer\"},{\"attributes\":{\"axis\":{\"id\":\"1235\"},\"grid_line_color\":null,\"ticker\":null},\"id\":\"1238\",\"type\":\"Grid\"},{\"attributes\":{\"click_policy\":\"mute\",\"items\":[{\"id\":\"1277\"},{\"id\":\"1296\"}],\"location\":[0,0],\"title\":\"Variable\"},\"id\":\"1276\",\"type\":\"Legend\"},{\"attributes\":{\"end\":0.2944421749562025,\"reset_end\":0.2944421749562025,\"reset_start\":0.027774116024374962,\"start\":0.027774116024374962,\"tags\":[[[\"value\",\"value\",null]]]},\"id\":\"1223\",\"type\":\"Range1d\"},{\"attributes\":{\"line_color\":\"#1f77b3\",\"line_width\":2,\"x\":{\"field\":\"index\"},\"y\":{\"field\":\"value\"}},\"id\":\"1263\",\"type\":\"Line\"},{\"attributes\":{\"label\":{\"value\":\"mae_1f\"},\"renderers\":[{\"id\":\"1266\"}]},\"id\":\"1277\",\"type\":\"LegendItem\"},{\"attributes\":{\"active_drag\":\"auto\",\"active_inspect\":\"auto\",\"active_multi\":null,\"active_scroll\":\"auto\",\"active_tap\":\"auto\",\"tools\":[{\"id\":\"1224\"},{\"id\":\"1243\"},{\"id\":\"1244\"},{\"id\":\"1245\"},{\"id\":\"1246\"},{\"id\":\"1247\"}]},\"id\":\"1249\",\"type\":\"Toolbar\"},{\"attributes\":{\"source\":{\"id\":\"1278\"}},\"id\":\"1285\",\"type\":\"CDSView\"},{\"attributes\":{},\"id\":\"1274\",\"type\":\"UnionRenderers\"},{\"attributes\":{\"axis\":{\"id\":\"1239\"},\"dimension\":1,\"grid_line_color\":null,\"ticker\":null},\"id\":\"1242\",\"type\":\"Grid\"},{\"attributes\":{\"data\":{\"Variable\":[\"mae_2f\",\"mae_2f\",\"mae_2f\",\"mae_2f\",\"mae_2f\",\"mae_2f\",\"mae_2f\",\"mae_2f\",\"mae_2f\",\"mae_2f\",\"mae_2f\",\"mae_2f\",\"mae_2f\",\"mae_2f\",\"mae_2f\",\"mae_2f\",\"mae_2f\",\"mae_2f\",\"mae_2f\",\"mae_2f\",\"mae_2f\",\"mae_2f\",\"mae_2f\"],\"index\":[1,2,3,4,5,6,7,8,9,10,11,12,13,14,15,16,17,18,19,20,21,22,23],\"value\":{\"__ndarray__\":\"AAAAYFVmxj8AAACg2FTBPwAAAECRZrw/AAAAoOqvuT8AAACAK9O0PwAAACC5t7Q/AAAAQA/Xsz8AAACgenaxPwAAAKBOZ7E/AAAAgDfpsD8AAADAgSKxPwAAAMC5ga8/AAAAYDtKsD8AAAAA/vuvPwAAAEA2Ba4/AAAAYGzNqz8AAACAOT2vPwAAAOCO/ao/AAAAYKdIrD8AAACgIpmpPwAAAEB9y6w/AAAAgCkyqj8AAAAgmISqPw==\",\"dtype\":\"float64\",\"order\":\"little\",\"shape\":[23]}},\"selected\":{\"id\":\"1279\"},\"selection_policy\":{\"id\":\"1294\"}},\"id\":\"1278\",\"type\":\"ColumnDataSource\"},{\"attributes\":{\"line_color\":\"#ff7e0e\",\"line_width\":2,\"x\":{\"field\":\"index\"},\"y\":{\"field\":\"value\"}},\"id\":\"1281\",\"type\":\"Line\"},{\"attributes\":{\"children\":[{\"id\":\"1221\"},{\"id\":\"1226\"},{\"id\":\"1387\"}],\"margin\":[0,0,0,0],\"name\":\"Row02004\",\"tags\":[\"embedded\"]},\"id\":\"1220\",\"type\":\"Row\"},{\"attributes\":{},\"id\":\"1240\",\"type\":\"BasicTicker\"},{\"attributes\":{\"data\":{\"Variable\":[\"mae_1f\",\"mae_1f\",\"mae_1f\",\"mae_1f\",\"mae_1f\",\"mae_1f\",\"mae_1f\",\"mae_1f\",\"mae_1f\",\"mae_1f\",\"mae_1f\",\"mae_1f\",\"mae_1f\",\"mae_1f\",\"mae_1f\",\"mae_1f\",\"mae_1f\",\"mae_1f\",\"mae_1f\",\"mae_1f\",\"mae_1f\",\"mae_1f\",\"mae_1f\"],\"index\":[1,2,3,4,5,6,7,8,9,10,11,12,13,14,15,16,17,18,19,20,21,22,23],\"value\":{\"__ndarray__\":\"AAAAwAxs0T8AAABAyi/IPwAAAOBuksI/AAAAwK1PwD8AAACgxBa/PwAAAIBTor0/AAAAYNMuvD8AAABAthq6PwAAAODMnbg/AAAAwDdytj8AAADgQJ6zPwAAAAAP5LM/AAAAQH15sj8AAADA1P2xPwAAAMAJbLA/AAAAAMZOsD8AAADApF6vPwAAAGDEH60/AAAAAKQ0qz8AAADAJOyrPwAAAGCzjao/AAAAgFmrqj8AAAAAAAD4fw==\",\"dtype\":\"float64\",\"order\":\"little\",\"shape\":[23]}},\"selected\":{\"id\":\"1261\"},\"selection_policy\":{\"id\":\"1274\"}},\"id\":\"1260\",\"type\":\"ColumnDataSource\"},{\"attributes\":{\"end\":23.0,\"reset_end\":23.0,\"reset_start\":1.0,\"start\":1.0,\"tags\":[[[\"index\",\"index\",null]]]},\"id\":\"1222\",\"type\":\"Range1d\"},{\"attributes\":{\"axis_label\":\"\",\"bounds\":\"auto\",\"formatter\":{\"id\":\"1259\"},\"major_label_orientation\":\"horizontal\",\"ticker\":{\"id\":\"1240\"}},\"id\":\"1239\",\"type\":\"LinearAxis\"},{\"attributes\":{\"line_alpha\":0.1,\"line_color\":\"#1f77b3\",\"line_width\":2,\"x\":{\"field\":\"index\"},\"y\":{\"field\":\"value\"}},\"id\":\"1264\",\"type\":\"Line\"},{\"attributes\":{\"bottom_units\":\"screen\",\"fill_alpha\":0.5,\"fill_color\":\"lightgrey\",\"left_units\":\"screen\",\"level\":\"overlay\",\"line_alpha\":1.0,\"line_color\":\"black\",\"line_dash\":[4,4],\"line_width\":2,\"right_units\":\"screen\",\"top_units\":\"screen\"},\"id\":\"1248\",\"type\":\"BoxAnnotation\"},{\"attributes\":{\"margin\":[5,5,5,5],\"name\":\"HSpacer02008\",\"sizing_mode\":\"stretch_width\"},\"id\":\"1221\",\"type\":\"Spacer\"},{\"attributes\":{},\"id\":\"1294\",\"type\":\"UnionRenderers\"},{\"attributes\":{\"label\":{\"value\":\"mae_2f\"},\"renderers\":[{\"id\":\"1284\"}]},\"id\":\"1296\",\"type\":\"LegendItem\"},{\"attributes\":{\"below\":[{\"id\":\"1235\"}],\"center\":[{\"id\":\"1238\"},{\"id\":\"1242\"}],\"left\":[{\"id\":\"1239\"}],\"margin\":[5,5,5,5],\"min_border_bottom\":10,\"min_border_left\":10,\"min_border_right\":10,\"min_border_top\":10,\"plot_height\":300,\"plot_width\":700,\"renderers\":[{\"id\":\"1266\"},{\"id\":\"1284\"}],\"right\":[{\"id\":\"1276\"}],\"sizing_mode\":\"fixed\",\"title\":{\"id\":\"1227\"},\"toolbar\":{\"id\":\"1249\"},\"x_range\":{\"id\":\"1222\"},\"x_scale\":{\"id\":\"1231\"},\"y_range\":{\"id\":\"1223\"},\"y_scale\":{\"id\":\"1233\"}},\"id\":\"1226\",\"subtype\":\"Figure\",\"type\":\"Plot\"},{\"attributes\":{\"data_source\":{\"id\":\"1260\"},\"glyph\":{\"id\":\"1263\"},\"hover_glyph\":null,\"muted_glyph\":{\"id\":\"1265\"},\"nonselection_glyph\":{\"id\":\"1264\"},\"selection_glyph\":null,\"view\":{\"id\":\"1267\"}},\"id\":\"1266\",\"type\":\"GlyphRenderer\"},{\"attributes\":{\"callback\":null,\"renderers\":[{\"id\":\"1266\"},{\"id\":\"1284\"}],\"tags\":[\"hv_created\"],\"tooltips\":[[\"Variable\",\"@{Variable}\"],[\"index\",\"@{index}\"],[\"value\",\"@{value}\"]]},\"id\":\"1224\",\"type\":\"HoverTool\"},{\"attributes\":{\"line_alpha\":0.2,\"line_color\":\"#1f77b3\",\"line_width\":2,\"x\":{\"field\":\"index\"},\"y\":{\"field\":\"value\"}},\"id\":\"1265\",\"type\":\"Line\"},{\"attributes\":{},\"id\":\"1243\",\"type\":\"SaveTool\"},{\"attributes\":{\"line_alpha\":0.2,\"line_color\":\"#ff7e0e\",\"line_width\":2,\"x\":{\"field\":\"index\"},\"y\":{\"field\":\"value\"}},\"id\":\"1283\",\"type\":\"Line\"}],\"root_ids\":[\"1220\"]},\"title\":\"Bokeh Application\",\"version\":\"2.2.3\"}};\n",
       "    var render_items = [{\"docid\":\"88c3fd6a-3847-433b-8c89-ced8721b5e20\",\"root_ids\":[\"1220\"],\"roots\":{\"1220\":\"1d085996-6aa6-4cac-900a-4bf51ea7b775\"}}];\n",
       "    root.Bokeh.embed.embed_items_notebook(docs_json, render_items);\n",
       "  }\n",
       "  if (root.Bokeh !== undefined && root.Bokeh.Panel !== undefined) {\n",
       "    embed_document(root);\n",
       "  } else {\n",
       "    var attempts = 0;\n",
       "    var timer = setInterval(function(root) {\n",
       "      if (root.Bokeh !== undefined && root.Bokeh.Panel !== undefined) {\n",
       "        clearInterval(timer);\n",
       "        embed_document(root);\n",
       "      } else if (document.readyState == \"complete\") {\n",
       "        attempts++;\n",
       "        if (attempts > 100) {\n",
       "          clearInterval(timer);\n",
       "          console.log(\"Bokeh: ERROR: Unable to run BokehJS code because BokehJS library is missing\");\n",
       "        }\n",
       "      }\n",
       "    }, 10, root)\n",
       "  }\n",
       "})(window);</script>"
      ],
      "text/plain": [
       ":NdOverlay   [Variable]\n",
       "   :Curve   [index]   (value)"
      ]
     },
     "execution_count": 58,
     "metadata": {
      "application/vnd.holoviews_exec.v0+json": {
       "id": "1220"
      }
     },
     "output_type": "execute_result"
    }
   ],
   "source": [
    "score_mae_lr_1fvs2f(score_dense_lr_1f_df, score_dense_lr_2f_df)"
   ]
  },
  {
   "cell_type": "code",
   "execution_count": 59,
   "metadata": {},
   "outputs": [
    {
     "data": {
      "application/vnd.holoviews_exec.v0+json": "",
      "text/html": [
       "<div id='1439'>\n",
       "\n",
       "\n",
       "\n",
       "\n",
       "\n",
       "  <div class=\"bk-root\" id=\"5cf0c727-2b86-4d1e-92c2-4e13e4af9139\" data-root-id=\"1439\"></div>\n",
       "</div>\n",
       "<script type=\"application/javascript\">(function(root) {\n",
       "  function embed_document(root) {\n",
       "    var docs_json = {\"c6eb61bb-d59b-436c-8399-18b63a641af9\":{\"roots\":{\"references\":[{\"attributes\":{\"margin\":[5,5,5,5],\"name\":\"HSpacer02478\",\"sizing_mode\":\"stretch_width\"},\"id\":\"1440\",\"type\":\"Spacer\"},{\"attributes\":{\"text\":\"\",\"text_color\":{\"value\":\"black\"},\"text_font_size\":{\"value\":\"12pt\"}},\"id\":\"1447\",\"type\":\"Title\"},{\"attributes\":{\"data\":{\"Variable\":[\"predict_2features\",\"predict_2features\",\"predict_2features\",\"predict_2features\",\"predict_2features\",\"predict_2features\",\"predict_2features\",\"predict_2features\",\"predict_2features\",\"predict_2features\",\"predict_2features\",\"predict_2features\",\"predict_2features\",\"predict_2features\",\"predict_2features\",\"predict_2features\",\"predict_2features\",\"predict_2features\",\"predict_2features\",\"predict_2features\",\"predict_2features\",\"predict_2features\",\"predict_2features\",\"predict_2features\",\"predict_2features\",\"predict_2features\",\"predict_2features\",\"predict_2features\",\"predict_2features\",\"predict_2features\",\"predict_2features\",\"predict_2features\",\"predict_2features\",\"predict_2features\",\"predict_2features\",\"predict_2features\",\"predict_2features\",\"predict_2features\",\"predict_2features\",\"predict_2features\",\"predict_2features\",\"predict_2features\",\"predict_2features\",\"predict_2features\",\"predict_2features\",\"predict_2features\",\"predict_2features\",\"predict_2features\",\"predict_2features\",\"predict_2features\",\"predict_2features\",\"predict_2features\",\"predict_2features\",\"predict_2features\",\"predict_2features\",\"predict_2features\",\"predict_2features\",\"predict_2features\",\"predict_2features\",\"predict_2features\",\"predict_2features\",\"predict_2features\",\"predict_2features\",\"predict_2features\",\"predict_2features\",\"predict_2features\",\"predict_2features\",\"predict_2features\",\"predict_2features\",\"predict_2features\",\"predict_2features\",\"predict_2features\",\"predict_2features\",\"predict_2features\",\"predict_2features\",\"predict_2features\",\"predict_2features\",\"predict_2features\",\"predict_2features\",\"predict_2features\",\"predict_2features\",\"predict_2features\",\"predict_2features\",\"predict_2features\",\"predict_2features\",\"predict_2features\",\"predict_2features\",\"predict_2features\",\"predict_2features\",\"predict_2features\",\"predict_2features\",\"predict_2features\",\"predict_2features\",\"predict_2features\",\"predict_2features\",\"predict_2features\",\"predict_2features\",\"predict_2features\",\"predict_2features\",\"predict_2features\",\"predict_2features\",\"predict_2features\",\"predict_2features\",\"predict_2features\",\"predict_2features\",\"predict_2features\",\"predict_2features\",\"predict_2features\",\"predict_2features\",\"predict_2features\",\"predict_2features\",\"predict_2features\",\"predict_2features\",\"predict_2features\",\"predict_2features\",\"predict_2features\",\"predict_2features\",\"predict_2features\",\"predict_2features\",\"predict_2features\",\"predict_2features\",\"predict_2features\",\"predict_2features\",\"predict_2features\",\"predict_2features\",\"predict_2features\",\"predict_2features\",\"predict_2features\",\"predict_2features\",\"predict_2features\",\"predict_2features\",\"predict_2features\",\"predict_2features\",\"predict_2features\",\"predict_2features\",\"predict_2features\",\"predict_2features\",\"predict_2features\",\"predict_2features\",\"predict_2features\",\"predict_2features\",\"predict_2features\",\"predict_2features\",\"predict_2features\",\"predict_2features\",\"predict_2features\",\"predict_2features\"],\"index\":[0,1,2,3,4,5,6,7,8,9,10,11,12,13,14,15,16,17,18,19,20,21,22,23,24,25,26,27,28,29,30,31,32,33,34,35,36,37,38,39,40,41,42,43,44,45,46,47,48,49,50,51,52,53,54,55,56,57,58,59,60,61,62,63,64,65,66,67,68,69,70,71,72,73,74,75,76,77,78,79,80,81,82,83,84,85,86,87,88,89,90,91,92,93,94,95,96,97,98,99,100,101,102,103,104,105,106,107,108,109,110,111,112,113,114,115,116,117,118,119,120,121,122,123,124,125,126,127,128,129,130,131,132,133,134,135,136,137,138,139,140,141,142,143,144,145,146],\"value\":{\"__ndarray__\":\"mEM6PwOfST8mHz4/3203P2YLNj8knDY/vQY3P1BWNz9GXjc/zTNGP/ZoTD+g3k0/IlpOP7riPz+KnE8/dW0/P7QpTD+KOkQ/7H1MP/0nWD9sjFY/XsBZPw24TD92R2k/DbhMP3ZHaT/Jtl0/SupPP5sXUj8a3lk/7rFWP4CJVj9C/lw/RAJjP7FOVj8yIlQ/OMdgP/KSYj/IuVc/BKxeP9R4Xj+4S2I/IVVgP2BbYD8+pWE/CnxnP2grWz/6A14/n/1dPz8CYz/YVVo/CpVaP3eKXj9Oj2U/+G5zP06PZT/4bnM/cdlnP/42az/aVVs/0FNXP1PHZD8s0Wo/hJZyPzwbZD/gtmY/UNdpP9uEZj/64Gk/rcBlPyw0YT+jmGA/mEdmP4z1ZD+GoWE/1BhdP5R1Yj9eSmQ/7RZiP2bLVz9z1Us/BehlP6ZCYj+UIl4/jGNcP+ENXj8oNVw/IC5YP3/jXj9colc/Bt5aP7cYXD8sr2A/txhcPyyvYD+kw2M/fGlsPwTVXD8c8Gc/iHtfP4z3YT/sN2k/MJhmPzkJYT/nLGk/XZZePwgXYz/NWmQ/Jl5nP+QDaT9QzWE/yK1nP7QxZj+UlGI/tOZiP6rCZD8Rp10/FqZdP4lkcD+5ZV4/YktqP6bJaj/EP2w/6otpP2ndZz+WbGY/B4BnPxAaaj+7CW4/NqVuP8hxYz8benE/tJVsP5h7aD9Yi2s/KqVjPyB6bD/ukGU/GLhoP5oPZz+7om0/4HVtP7Jsaz9We24/IWtqPw63bz/xdWY/\",\"dtype\":\"float32\",\"order\":\"little\",\"shape\":[147]}},\"selected\":{\"id\":\"1518\"},\"selection_policy\":{\"id\":\"1535\"}},\"id\":\"1517\",\"type\":\"ColumnDataSource\"},{\"attributes\":{},\"id\":\"1481\",\"type\":\"Selection\"},{\"attributes\":{\"active_drag\":\"auto\",\"active_inspect\":\"auto\",\"active_multi\":null,\"active_scroll\":\"auto\",\"active_tap\":\"auto\",\"tools\":[{\"id\":\"1443\"},{\"id\":\"1463\"},{\"id\":\"1464\"},{\"id\":\"1465\"},{\"id\":\"1466\"},{\"id\":\"1467\"}]},\"id\":\"1469\",\"type\":\"Toolbar\"},{\"attributes\":{},\"id\":\"1494\",\"type\":\"UnionRenderers\"},{\"attributes\":{\"below\":[{\"id\":\"1455\"}],\"center\":[{\"id\":\"1458\"},{\"id\":\"1462\"}],\"left\":[{\"id\":\"1459\"}],\"margin\":[5,5,5,5],\"min_border_bottom\":10,\"min_border_left\":10,\"min_border_right\":10,\"min_border_top\":10,\"plot_height\":300,\"plot_width\":700,\"renderers\":[{\"id\":\"1486\"},{\"id\":\"1504\"},{\"id\":\"1523\"}],\"right\":[{\"id\":\"1496\"}],\"sizing_mode\":\"fixed\",\"title\":{\"id\":\"1447\"},\"toolbar\":{\"id\":\"1469\"},\"x_range\":{\"id\":\"1441\"},\"x_scale\":{\"id\":\"1451\"},\"y_range\":{\"id\":\"1442\"},\"y_scale\":{\"id\":\"1453\"}},\"id\":\"1446\",\"subtype\":\"Figure\",\"type\":\"Plot\"},{\"attributes\":{\"click_policy\":\"mute\",\"items\":[{\"id\":\"1497\"},{\"id\":\"1516\"},{\"id\":\"1537\"}],\"location\":[0,0],\"title\":\"Variable\"},\"id\":\"1496\",\"type\":\"Legend\"},{\"attributes\":{},\"id\":\"1463\",\"type\":\"SaveTool\"},{\"attributes\":{\"axis_label\":\"\",\"bounds\":\"auto\",\"formatter\":{\"id\":\"1479\"},\"major_label_orientation\":\"horizontal\",\"ticker\":{\"id\":\"1460\"}},\"id\":\"1459\",\"type\":\"LinearAxis\"},{\"attributes\":{},\"id\":\"1464\",\"type\":\"PanTool\"},{\"attributes\":{\"data\":{\"Variable\":[\"actual\",\"actual\",\"actual\",\"actual\",\"actual\",\"actual\",\"actual\",\"actual\",\"actual\",\"actual\",\"actual\",\"actual\",\"actual\",\"actual\",\"actual\",\"actual\",\"actual\",\"actual\",\"actual\",\"actual\",\"actual\",\"actual\",\"actual\",\"actual\",\"actual\",\"actual\",\"actual\",\"actual\",\"actual\",\"actual\",\"actual\",\"actual\",\"actual\",\"actual\",\"actual\",\"actual\",\"actual\",\"actual\",\"actual\",\"actual\",\"actual\",\"actual\",\"actual\",\"actual\",\"actual\",\"actual\",\"actual\",\"actual\",\"actual\",\"actual\",\"actual\",\"actual\",\"actual\",\"actual\",\"actual\",\"actual\",\"actual\",\"actual\",\"actual\",\"actual\",\"actual\",\"actual\",\"actual\",\"actual\",\"actual\",\"actual\",\"actual\",\"actual\",\"actual\",\"actual\",\"actual\",\"actual\",\"actual\",\"actual\",\"actual\",\"actual\",\"actual\",\"actual\",\"actual\",\"actual\",\"actual\",\"actual\",\"actual\",\"actual\",\"actual\",\"actual\",\"actual\",\"actual\",\"actual\",\"actual\",\"actual\",\"actual\",\"actual\",\"actual\",\"actual\",\"actual\",\"actual\",\"actual\",\"actual\",\"actual\",\"actual\",\"actual\",\"actual\",\"actual\",\"actual\",\"actual\",\"actual\",\"actual\",\"actual\",\"actual\",\"actual\",\"actual\",\"actual\",\"actual\",\"actual\",\"actual\",\"actual\",\"actual\",\"actual\",\"actual\",\"actual\",\"actual\",\"actual\",\"actual\",\"actual\",\"actual\",\"actual\",\"actual\",\"actual\",\"actual\",\"actual\",\"actual\",\"actual\",\"actual\",\"actual\",\"actual\",\"actual\",\"actual\",\"actual\",\"actual\",\"actual\",\"actual\",\"actual\",\"actual\",\"actual\",\"actual\",\"actual\"],\"index\":[0,1,2,3,4,5,6,7,8,9,10,11,12,13,14,15,16,17,18,19,20,21,22,23,24,25,26,27,28,29,30,31,32,33,34,35,36,37,38,39,40,41,42,43,44,45,46,47,48,49,50,51,52,53,54,55,56,57,58,59,60,61,62,63,64,65,66,67,68,69,70,71,72,73,74,75,76,77,78,79,80,81,82,83,84,85,86,87,88,89,90,91,92,93,94,95,96,97,98,99,100,101,102,103,104,105,106,107,108,109,110,111,112,113,114,115,116,117,118,119,120,121,122,123,124,125,126,127,128,129,130,131,132,133,134,135,136,137,138,139,140,141,142,143,144,145,146],\"value\":{\"__ndarray__\":\"QzLu9oP05z/LEcLHX/XnP2pvEL+noec/M0YQazSV5z8BMdzEd9nnP++eag1YNeg/hFZQvMxE6D/knpXwVN3nP3PE3gStoOg/aKqLJs8w6j+LTD+CdHToP3m1Wh8nvOg/QK+qXvDk6D8apDEskqnpP7JHIEpTwOk/SAR5pPXj6T/gxUSqxRvqPxoDEazveOo/IE75mplP6z+6Hh6j8sPrP+q1gVxJhOw/nhN6jZfg7D8gLwgukSPtPyAvCC6RI+0/IC8ILpEj7T8gLwgukSPtP6zw/hZeA+0/6Hnybyjq6z+6S1SNiiHsP65zQq/xEuw/3kznaI006z80o5z9oabsP1I6Y93vsew/LgO75fUo6z+aQe/fJfHqP/AVdWGgXus/Tnck0gkE6z8GwSVypGfrPwDVHANYYOs/Dp2WdnF/7T+w15TafPbsPwphB4pQ5ew/gNG5Nkl37T/6nOw8a8/sPyKt2Br3Huw/HGLwK01I6z+slpJCLkjsPwI0/IK1L+w/BiAF8gE37D/0vmKfXHHsP3CzMhU0puw/FP2Je8hZ7D+eOz3MASrtP2jv7ORR6Ow/aO/s5FHo7D9o7+zkUejsP2jv7ORR6Ow/RI96ifEF7T9AOSui2nvtPzZhW/1cRe4/aAKlDQ8u7z+8lSj3Ou3uPwEAAAAAAPA/SMsJdhKg7T8EssxvGyvrP3SayNhSmew/JGLFSFCg6z8E5HUF4ZzrP/ZgXVBKNew/cCyQVmyN6z/EuqCUajjrP3qlwrSnzOo/PsJih60q6z9as4jbLfbrP55Vu43cQes/PDqsQ+wG7D8wj9BP61XsP4AYbuK77Os/kg4yxWZ07D+CfMANR9DsP25P4Omowus/aL1DT4x27D++BbRmEbfrP4JKF3iBXuw/UhcG6rWB7D8iPmEwGmDtPyC7HZiGUO4/6Lnggn2N7j9axkAE6zvuPxDUsrdkBe4/TORIz/YE7j/eMmmnshztP94yaaeyHO0/3jJpp7Ic7T/eMmmnshztP2Irp7RvKu0/Hr72oRg07T/UZD0gdTbtP5xjAAtsc+0/jiIpVhpt7D9eHE6y5u3sP5xQSOKuLes/TqnNZ8916z+oI+cUGijrP7zJJHrwHOs/JM/pRT2h7j/yMhPhuMztPzKeKVJ0kuw/VoDLwG557T8WZk9SgVHtPwy7c16AoO0/LDnDoe+j7T98ve2IkibtP17vF8hOkOw/BHCLb9bJ7D8c7gWWQnXsP/SDreOGauw/wpuvJ2IM7T9UTiIrqQftP0yK3PrGSe0/yLTugEZx7T9Ctz3IW0/tPyoCp2D8He0//rC46iEg7T/uGdSH1GftPxIlTboyo+w/AtJD+cV87D+QWUWXDfPsPwiEVx2NGu0/vLQZZEMZ7T8Qzz8MN/HtP65ZxO0W++0/ZGc2oZDE7T/8Xx7oU4LuPzx/DQJvvu4/QDT6L8g/7j8SOAXj7+juP753Sw8szO4/zgRKGx5c7j+qpNe/vXnuP1iPJMP3te0/qkpr642+7T+khiW7qwDuP5qGUJ6oqO0/utL2S1I67T8YcDWp3HntP7S5t/Jt1ew/\",\"dtype\":\"float64\",\"order\":\"little\",\"shape\":[147]}},\"selected\":{\"id\":\"1499\"},\"selection_policy\":{\"id\":\"1514\"}},\"id\":\"1498\",\"type\":\"ColumnDataSource\"},{\"attributes\":{\"line_alpha\":0.2,\"line_color\":\"#ff7e0e\",\"line_width\":2,\"x\":{\"field\":\"index\"},\"y\":{\"field\":\"value\"}},\"id\":\"1503\",\"type\":\"Line\"},{\"attributes\":{},\"id\":\"1467\",\"type\":\"ResetTool\"},{\"attributes\":{\"line_alpha\":0.2,\"line_color\":\"#1f77b3\",\"line_width\":2,\"x\":{\"field\":\"index\"},\"y\":{\"field\":\"value\"}},\"id\":\"1485\",\"type\":\"Line\"},{\"attributes\":{\"source\":{\"id\":\"1498\"}},\"id\":\"1505\",\"type\":\"CDSView\"},{\"attributes\":{},\"id\":\"1465\",\"type\":\"WheelZoomTool\"},{\"attributes\":{},\"id\":\"1518\",\"type\":\"Selection\"},{\"attributes\":{\"overlay\":{\"id\":\"1468\"}},\"id\":\"1466\",\"type\":\"BoxZoomTool\"},{\"attributes\":{\"line_alpha\":0.2,\"line_color\":\"#2ba02b\",\"line_width\":2,\"x\":{\"field\":\"index\"},\"y\":{\"field\":\"value\"}},\"id\":\"1522\",\"type\":\"Line\"},{\"attributes\":{\"margin\":[5,5,5,5],\"name\":\"HSpacer02479\",\"sizing_mode\":\"stretch_width\"},\"id\":\"1646\",\"type\":\"Spacer\"},{\"attributes\":{},\"id\":\"1451\",\"type\":\"LinearScale\"},{\"attributes\":{\"source\":{\"id\":\"1517\"}},\"id\":\"1524\",\"type\":\"CDSView\"},{\"attributes\":{\"end\":146.0,\"reset_end\":146.0,\"reset_start\":0.0,\"tags\":[[[\"index\",\"index\",null]]]},\"id\":\"1441\",\"type\":\"Range1d\"},{\"attributes\":{\"callback\":null,\"renderers\":[{\"id\":\"1486\"},{\"id\":\"1504\"},{\"id\":\"1523\"}],\"tags\":[\"hv_created\"],\"tooltips\":[[\"Variable\",\"@{Variable}\"],[\"index\",\"@{index}\"],[\"value\",\"@{value}\"]]},\"id\":\"1443\",\"type\":\"HoverTool\"},{\"attributes\":{\"line_color\":\"#1f77b3\",\"line_width\":2,\"x\":{\"field\":\"index\"},\"y\":{\"field\":\"value\"}},\"id\":\"1483\",\"type\":\"Line\"},{\"attributes\":{\"line_color\":\"#2ba02b\",\"line_width\":2,\"x\":{\"field\":\"index\"},\"y\":{\"field\":\"value\"}},\"id\":\"1520\",\"type\":\"Line\"},{\"attributes\":{\"axis_label\":\"\",\"bounds\":\"auto\",\"formatter\":{\"id\":\"1477\"},\"major_label_orientation\":\"horizontal\",\"ticker\":{\"id\":\"1456\"}},\"id\":\"1455\",\"type\":\"LinearAxis\"},{\"attributes\":{},\"id\":\"1453\",\"type\":\"LinearScale\"},{\"attributes\":{\"line_color\":\"#ff7e0e\",\"line_width\":2,\"x\":{\"field\":\"index\"},\"y\":{\"field\":\"value\"}},\"id\":\"1501\",\"type\":\"Line\"},{\"attributes\":{},\"id\":\"1456\",\"type\":\"BasicTicker\"},{\"attributes\":{},\"id\":\"1535\",\"type\":\"UnionRenderers\"},{\"attributes\":{\"axis\":{\"id\":\"1455\"},\"grid_line_color\":null,\"ticker\":null},\"id\":\"1458\",\"type\":\"Grid\"},{\"attributes\":{\"data_source\":{\"id\":\"1498\"},\"glyph\":{\"id\":\"1501\"},\"hover_glyph\":null,\"muted_glyph\":{\"id\":\"1503\"},\"nonselection_glyph\":{\"id\":\"1502\"},\"selection_glyph\":null,\"view\":{\"id\":\"1505\"}},\"id\":\"1504\",\"type\":\"GlyphRenderer\"},{\"attributes\":{\"data_source\":{\"id\":\"1517\"},\"glyph\":{\"id\":\"1520\"},\"hover_glyph\":null,\"muted_glyph\":{\"id\":\"1522\"},\"nonselection_glyph\":{\"id\":\"1521\"},\"selection_glyph\":null,\"view\":{\"id\":\"1524\"}},\"id\":\"1523\",\"type\":\"GlyphRenderer\"},{\"attributes\":{\"data\":{\"Variable\":[\"predict_1feature\",\"predict_1feature\",\"predict_1feature\",\"predict_1feature\",\"predict_1feature\",\"predict_1feature\",\"predict_1feature\",\"predict_1feature\",\"predict_1feature\",\"predict_1feature\",\"predict_1feature\",\"predict_1feature\",\"predict_1feature\",\"predict_1feature\",\"predict_1feature\",\"predict_1feature\",\"predict_1feature\",\"predict_1feature\",\"predict_1feature\",\"predict_1feature\",\"predict_1feature\",\"predict_1feature\",\"predict_1feature\",\"predict_1feature\",\"predict_1feature\",\"predict_1feature\",\"predict_1feature\",\"predict_1feature\",\"predict_1feature\",\"predict_1feature\",\"predict_1feature\",\"predict_1feature\",\"predict_1feature\",\"predict_1feature\",\"predict_1feature\",\"predict_1feature\",\"predict_1feature\",\"predict_1feature\",\"predict_1feature\",\"predict_1feature\",\"predict_1feature\",\"predict_1feature\",\"predict_1feature\",\"predict_1feature\",\"predict_1feature\",\"predict_1feature\",\"predict_1feature\",\"predict_1feature\",\"predict_1feature\",\"predict_1feature\",\"predict_1feature\",\"predict_1feature\",\"predict_1feature\",\"predict_1feature\",\"predict_1feature\",\"predict_1feature\",\"predict_1feature\",\"predict_1feature\",\"predict_1feature\",\"predict_1feature\",\"predict_1feature\",\"predict_1feature\",\"predict_1feature\",\"predict_1feature\",\"predict_1feature\",\"predict_1feature\",\"predict_1feature\",\"predict_1feature\",\"predict_1feature\",\"predict_1feature\",\"predict_1feature\",\"predict_1feature\",\"predict_1feature\",\"predict_1feature\",\"predict_1feature\",\"predict_1feature\",\"predict_1feature\",\"predict_1feature\",\"predict_1feature\",\"predict_1feature\",\"predict_1feature\",\"predict_1feature\",\"predict_1feature\",\"predict_1feature\",\"predict_1feature\",\"predict_1feature\",\"predict_1feature\",\"predict_1feature\",\"predict_1feature\",\"predict_1feature\",\"predict_1feature\",\"predict_1feature\",\"predict_1feature\",\"predict_1feature\",\"predict_1feature\",\"predict_1feature\",\"predict_1feature\",\"predict_1feature\",\"predict_1feature\",\"predict_1feature\",\"predict_1feature\",\"predict_1feature\",\"predict_1feature\",\"predict_1feature\",\"predict_1feature\",\"predict_1feature\",\"predict_1feature\",\"predict_1feature\",\"predict_1feature\",\"predict_1feature\",\"predict_1feature\",\"predict_1feature\",\"predict_1feature\",\"predict_1feature\",\"predict_1feature\",\"predict_1feature\",\"predict_1feature\",\"predict_1feature\",\"predict_1feature\",\"predict_1feature\",\"predict_1feature\",\"predict_1feature\",\"predict_1feature\",\"predict_1feature\",\"predict_1feature\",\"predict_1feature\",\"predict_1feature\",\"predict_1feature\",\"predict_1feature\",\"predict_1feature\",\"predict_1feature\",\"predict_1feature\",\"predict_1feature\",\"predict_1feature\",\"predict_1feature\",\"predict_1feature\",\"predict_1feature\",\"predict_1feature\",\"predict_1feature\",\"predict_1feature\",\"predict_1feature\",\"predict_1feature\",\"predict_1feature\",\"predict_1feature\",\"predict_1feature\",\"predict_1feature\",\"predict_1feature\"],\"index\":[0,1,2,3,4,5,6,7,8,9,10,11,12,13,14,15,16,17,18,19,20,21,22,23,24,25,26,27,28,29,30,31,32,33,34,35,36,37,38,39,40,41,42,43,44,45,46,47,48,49,50,51,52,53,54,55,56,57,58,59,60,61,62,63,64,65,66,67,68,69,70,71,72,73,74,75,76,77,78,79,80,81,82,83,84,85,86,87,88,89,90,91,92,93,94,95,96,97,98,99,100,101,102,103,104,105,106,107,108,109,110,111,112,113,114,115,116,117,118,119,120,121,122,123,124,125,126,127,128,129,130,131,132,133,134,135,136,137,138,139,140,141,142,143,144,145,146],\"value\":{\"__ndarray__\":\"f/4oP5+ZKT8ADSo/dggrP394Kz8I5Cs/QjMsP25uLD9YdCw/JwMtP+S8LT/wEi4/ynMuPx29Lj/rLS8/qkAwP+J5ND//GDU/LOI1P2DINz+Q8zg/JBw7PwZBPD8GQTw/kHdMP5B3TD8nIz0/w4A+P6J0Pz/ibEA/XaJBP5z2QT9qM0M/S7JDP4fvQz+d+0M/V1xEPwSGRD85jUQ/CnVEP0jARD8CAkU/bgNFP4IcRT/yDEU/xRxFP6/bRD+i60Q/4ylFP1N3RT9cZ0U/eopFPxBwRT/GCUY/xglGP9K+UD/SvlA/hqBGP1kfRz+k3Ec/d7hIP9UOSz8dMEw/Nh5NP0tATT8790w/NFxNP7btTD+Jv0w/iq1MP2pZTD+5Akw/W01LP9fHSj9Yqkk/MsNIP2HRRz/A2EY/gPJFP9YXRT9zI0Q/a5RDP+xjQz/bjUM/PHxDP8O/Qz8oV0Q/YCZFPzHaRT/ep0Y/rH5HP6J1SD+idUg/q9FKP6vRSj/YCkk/MmdJP8gdSj/Ds0o/9yBLP+gnSz/2dEs/EhNLP0WrSj/3fEo/3GtKPyhzSz+rS0s/w7NKP395Sj+aQ0o/fyVKPwNOSj/cTEo/yhtKPz/7ST8Zr0k/U65JP3W3ST93RUo/pWdLP04aTD/vkUw/NgVMP5aNSz9db0s/YXRLP64oSz9iDEs/QORKP7S6Sj9s90o/G2RLPzqvSz+JTEw/Ev9MP2nOTT/MSk4/EsxOP24STz/Ta08/W5lPP1zKTz8QM1A/6IxQP0OiUD8msFA/\",\"dtype\":\"float32\",\"order\":\"little\",\"shape\":[147]}},\"selected\":{\"id\":\"1481\"},\"selection_policy\":{\"id\":\"1494\"}},\"id\":\"1480\",\"type\":\"ColumnDataSource\"},{\"attributes\":{\"line_alpha\":0.1,\"line_color\":\"#2ba02b\",\"line_width\":2,\"x\":{\"field\":\"index\"},\"y\":{\"field\":\"value\"}},\"id\":\"1521\",\"type\":\"Line\"},{\"attributes\":{\"label\":{\"value\":\"actual\"},\"renderers\":[{\"id\":\"1504\"}]},\"id\":\"1516\",\"type\":\"LegendItem\"},{\"attributes\":{\"data_source\":{\"id\":\"1480\"},\"glyph\":{\"id\":\"1483\"},\"hover_glyph\":null,\"muted_glyph\":{\"id\":\"1485\"},\"nonselection_glyph\":{\"id\":\"1484\"},\"selection_glyph\":null,\"view\":{\"id\":\"1487\"}},\"id\":\"1486\",\"type\":\"GlyphRenderer\"},{\"attributes\":{\"axis\":{\"id\":\"1459\"},\"dimension\":1,\"grid_line_color\":null,\"ticker\":null},\"id\":\"1462\",\"type\":\"Grid\"},{\"attributes\":{},\"id\":\"1477\",\"type\":\"BasicTickFormatter\"},{\"attributes\":{\"label\":{\"value\":\"predict_2features\"},\"renderers\":[{\"id\":\"1523\"}]},\"id\":\"1537\",\"type\":\"LegendItem\"},{\"attributes\":{},\"id\":\"1479\",\"type\":\"BasicTickFormatter\"},{\"attributes\":{},\"id\":\"1460\",\"type\":\"BasicTicker\"},{\"attributes\":{},\"id\":\"1499\",\"type\":\"Selection\"},{\"attributes\":{\"line_alpha\":0.1,\"line_color\":\"#ff7e0e\",\"line_width\":2,\"x\":{\"field\":\"index\"},\"y\":{\"field\":\"value\"}},\"id\":\"1502\",\"type\":\"Line\"},{\"attributes\":{\"source\":{\"id\":\"1480\"}},\"id\":\"1487\",\"type\":\"CDSView\"},{\"attributes\":{\"bottom_units\":\"screen\",\"fill_alpha\":0.5,\"fill_color\":\"lightgrey\",\"left_units\":\"screen\",\"level\":\"overlay\",\"line_alpha\":1.0,\"line_color\":\"black\",\"line_dash\":[4,4],\"line_width\":2,\"right_units\":\"screen\",\"top_units\":\"screen\"},\"id\":\"1468\",\"type\":\"BoxAnnotation\"},{\"attributes\":{\"line_alpha\":0.1,\"line_color\":\"#1f77b3\",\"line_width\":2,\"x\":{\"field\":\"index\"},\"y\":{\"field\":\"value\"}},\"id\":\"1484\",\"type\":\"Line\"},{\"attributes\":{\"label\":{\"value\":\"predict_1feature\"},\"renderers\":[{\"id\":\"1486\"}]},\"id\":\"1497\",\"type\":\"LegendItem\"},{\"attributes\":{},\"id\":\"1514\",\"type\":\"UnionRenderers\"},{\"attributes\":{\"children\":[{\"id\":\"1440\"},{\"id\":\"1446\"},{\"id\":\"1646\"}],\"margin\":[0,0,0,0],\"name\":\"Row02474\",\"tags\":[\"embedded\"]},\"id\":\"1439\",\"type\":\"Row\"},{\"attributes\":{\"end\":1.033986669778824,\"reset_end\":1.033986669778824,\"reset_start\":0.6261466324329376,\"start\":0.6261466324329376,\"tags\":[[[\"value\",\"value\",null]]]},\"id\":\"1442\",\"type\":\"Range1d\"}],\"root_ids\":[\"1439\"]},\"title\":\"Bokeh Application\",\"version\":\"2.2.3\"}};\n",
       "    var render_items = [{\"docid\":\"c6eb61bb-d59b-436c-8399-18b63a641af9\",\"root_ids\":[\"1439\"],\"roots\":{\"1439\":\"5cf0c727-2b86-4d1e-92c2-4e13e4af9139\"}}];\n",
       "    root.Bokeh.embed.embed_items_notebook(docs_json, render_items);\n",
       "  }\n",
       "  if (root.Bokeh !== undefined && root.Bokeh.Panel !== undefined) {\n",
       "    embed_document(root);\n",
       "  } else {\n",
       "    var attempts = 0;\n",
       "    var timer = setInterval(function(root) {\n",
       "      if (root.Bokeh !== undefined && root.Bokeh.Panel !== undefined) {\n",
       "        clearInterval(timer);\n",
       "        embed_document(root);\n",
       "      } else if (document.readyState == \"complete\") {\n",
       "        attempts++;\n",
       "        if (attempts > 100) {\n",
       "          clearInterval(timer);\n",
       "          console.log(\"Bokeh: ERROR: Unable to run BokehJS code because BokehJS library is missing\");\n",
       "        }\n",
       "      }\n",
       "    }, 10, root)\n",
       "  }\n",
       "})(window);</script>"
      ],
      "text/plain": [
       ":NdOverlay   [Variable]\n",
       "   :Curve   [index]   (value)"
      ]
     },
     "execution_count": 59,
     "metadata": {
      "application/vnd.holoviews_exec.v0+json": {
       "id": "1439"
      }
     },
     "output_type": "execute_result"
    }
   ],
   "source": [
    "pred_lr_1fvs2f(pred_dense_lr_1f_df,pred_lstm_lr_2f_df)"
   ]
  },
  {
   "cell_type": "code",
   "execution_count": 60,
   "metadata": {},
   "outputs": [
    {
     "data": {
      "application/vnd.holoviews_exec.v0+json": "",
      "text/html": [
       "<div id='1708'>\n",
       "\n",
       "\n",
       "\n",
       "\n",
       "\n",
       "  <div class=\"bk-root\" id=\"63afc377-8881-42eb-92d2-611cc4929ab9\" data-root-id=\"1708\"></div>\n",
       "</div>\n",
       "<script type=\"application/javascript\">(function(root) {\n",
       "  function embed_document(root) {\n",
       "    var docs_json = {\"0b00ab76-bb91-4e0e-b821-c2e41e8e3b7d\":{\"roots\":{\"references\":[{\"attributes\":{\"source\":{\"id\":\"1766\"}},\"id\":\"1773\",\"type\":\"CDSView\"},{\"attributes\":{\"callback\":null,\"renderers\":[{\"id\":\"1754\"},{\"id\":\"1772\"}],\"tags\":[\"hv_created\"],\"tooltips\":[[\"Variable\",\"@{Variable}\"],[\"index\",\"@{index}\"],[\"value\",\"@{value}\"]]},\"id\":\"1712\",\"type\":\"HoverTool\"},{\"attributes\":{\"source\":{\"id\":\"1748\"}},\"id\":\"1755\",\"type\":\"CDSView\"},{\"attributes\":{\"line_color\":\"#ff7e0e\",\"line_width\":2,\"x\":{\"field\":\"index\"},\"y\":{\"field\":\"value\"}},\"id\":\"1769\",\"type\":\"Line\"},{\"attributes\":{},\"id\":\"1731\",\"type\":\"SaveTool\"},{\"attributes\":{},\"id\":\"1732\",\"type\":\"PanTool\"},{\"attributes\":{\"axis_label\":\"\",\"bounds\":\"auto\",\"formatter\":{\"id\":\"1747\"},\"major_label_orientation\":\"horizontal\",\"ticker\":{\"id\":\"1728\"}},\"id\":\"1727\",\"type\":\"LinearAxis\"},{\"attributes\":{},\"id\":\"1735\",\"type\":\"ResetTool\"},{\"attributes\":{\"line_color\":\"#1f77b3\",\"line_width\":2,\"x\":{\"field\":\"index\"},\"y\":{\"field\":\"value\"}},\"id\":\"1751\",\"type\":\"Line\"},{\"attributes\":{},\"id\":\"1733\",\"type\":\"WheelZoomTool\"},{\"attributes\":{},\"id\":\"1782\",\"type\":\"UnionRenderers\"},{\"attributes\":{\"overlay\":{\"id\":\"1736\"}},\"id\":\"1734\",\"type\":\"BoxZoomTool\"},{\"attributes\":{\"label\":{\"value\":\"loss_1f\"},\"renderers\":[{\"id\":\"1754\"}]},\"id\":\"1765\",\"type\":\"LegendItem\"},{\"attributes\":{\"label\":{\"value\":\"loss_2f\"},\"renderers\":[{\"id\":\"1772\"}]},\"id\":\"1784\",\"type\":\"LegendItem\"},{\"attributes\":{},\"id\":\"1745\",\"type\":\"BasicTickFormatter\"},{\"attributes\":{\"text\":\"\",\"text_color\":{\"value\":\"black\"},\"text_font_size\":{\"value\":\"12pt\"}},\"id\":\"1715\",\"type\":\"Title\"},{\"attributes\":{},\"id\":\"1747\",\"type\":\"BasicTickFormatter\"},{\"attributes\":{},\"id\":\"1762\",\"type\":\"UnionRenderers\"},{\"attributes\":{},\"id\":\"1719\",\"type\":\"LinearScale\"},{\"attributes\":{\"click_policy\":\"mute\",\"items\":[{\"id\":\"1765\"},{\"id\":\"1784\"}],\"location\":[0,0],\"title\":\"Variable\"},\"id\":\"1764\",\"type\":\"Legend\"},{\"attributes\":{\"margin\":[5,5,5,5],\"name\":\"HSpacer03058\",\"sizing_mode\":\"stretch_width\"},\"id\":\"1875\",\"type\":\"Spacer\"},{\"attributes\":{\"end\":0.09984610609244556,\"reset_end\":0.09984610609244556,\"reset_start\":-0.005607758485712112,\"start\":-0.005607758485712112,\"tags\":[[[\"value\",\"value\",null]]]},\"id\":\"1711\",\"type\":\"Range1d\"},{\"attributes\":{\"axis_label\":\"\",\"bounds\":\"auto\",\"formatter\":{\"id\":\"1745\"},\"major_label_orientation\":\"horizontal\",\"ticker\":{\"id\":\"1724\"}},\"id\":\"1723\",\"type\":\"LinearAxis\"},{\"attributes\":{\"line_alpha\":0.2,\"line_color\":\"#ff7e0e\",\"line_width\":2,\"x\":{\"field\":\"index\"},\"y\":{\"field\":\"value\"}},\"id\":\"1771\",\"type\":\"Line\"},{\"attributes\":{},\"id\":\"1721\",\"type\":\"LinearScale\"},{\"attributes\":{},\"id\":\"1724\",\"type\":\"BasicTicker\"},{\"attributes\":{\"data\":{\"Variable\":[\"loss_1f\",\"loss_1f\",\"loss_1f\",\"loss_1f\",\"loss_1f\",\"loss_1f\",\"loss_1f\",\"loss_1f\",\"loss_1f\",\"loss_1f\",\"loss_1f\",\"loss_1f\",\"loss_1f\",\"loss_1f\",\"loss_1f\",\"loss_1f\",\"loss_1f\",\"loss_1f\",\"loss_1f\",\"loss_1f\",\"loss_1f\",\"loss_1f\",\"loss_1f\",\"loss_1f\"],\"index\":[1,2,3,4,5,6,7,8,9,10,11,12,13,14,15,16,17,18,19,20,21,22,23,24],\"value\":{\"__ndarray__\":\"AAAAgJhPtz8AAADg5/+rPwAAAAC0NqI/AAAAINWinT8AAACg0XCXPwAAAKCiaY0/AAAAINfkfT8AAACgBTN4PwAAAOBMEXM/AAAAoC7Mcz8AAAAggP5yPwAAACB+InQ/AAAAIGEtcj8AAAAg0NFzPwAAAABURW0/AAAAAAnHcD8AAABgiE1yPwAAAIBpTGw/AAAAoBMNaj8AAADAucRtPwAAAOCyim0/AAAAYK7ncD8AAAAAAAD4fwAAAAAAAPh/\",\"dtype\":\"float64\",\"order\":\"little\",\"shape\":[24]}},\"selected\":{\"id\":\"1749\"},\"selection_policy\":{\"id\":\"1762\"}},\"id\":\"1748\",\"type\":\"ColumnDataSource\"},{\"attributes\":{\"line_alpha\":0.2,\"line_color\":\"#1f77b3\",\"line_width\":2,\"x\":{\"field\":\"index\"},\"y\":{\"field\":\"value\"}},\"id\":\"1753\",\"type\":\"Line\"},{\"attributes\":{\"axis\":{\"id\":\"1723\"},\"grid_line_color\":null,\"ticker\":null},\"id\":\"1726\",\"type\":\"Grid\"},{\"attributes\":{\"line_alpha\":0.1,\"line_color\":\"#1f77b3\",\"line_width\":2,\"x\":{\"field\":\"index\"},\"y\":{\"field\":\"value\"}},\"id\":\"1752\",\"type\":\"Line\"},{\"attributes\":{\"line_alpha\":0.1,\"line_color\":\"#ff7e0e\",\"line_width\":2,\"x\":{\"field\":\"index\"},\"y\":{\"field\":\"value\"}},\"id\":\"1770\",\"type\":\"Line\"},{\"attributes\":{\"axis\":{\"id\":\"1727\"},\"dimension\":1,\"grid_line_color\":null,\"ticker\":null},\"id\":\"1730\",\"type\":\"Grid\"},{\"attributes\":{\"active_drag\":\"auto\",\"active_inspect\":\"auto\",\"active_multi\":null,\"active_scroll\":\"auto\",\"active_tap\":\"auto\",\"tools\":[{\"id\":\"1712\"},{\"id\":\"1731\"},{\"id\":\"1732\"},{\"id\":\"1733\"},{\"id\":\"1734\"},{\"id\":\"1735\"}]},\"id\":\"1737\",\"type\":\"Toolbar\"},{\"attributes\":{\"data\":{\"Variable\":[\"loss_2f\",\"loss_2f\",\"loss_2f\",\"loss_2f\",\"loss_2f\",\"loss_2f\",\"loss_2f\",\"loss_2f\",\"loss_2f\",\"loss_2f\",\"loss_2f\",\"loss_2f\",\"loss_2f\",\"loss_2f\",\"loss_2f\",\"loss_2f\",\"loss_2f\",\"loss_2f\",\"loss_2f\",\"loss_2f\",\"loss_2f\",\"loss_2f\",\"loss_2f\",\"loss_2f\"],\"index\":[1,2,3,4,5,6,7,8,9,10,11,12,13,14,15,16,17,18,19,20,21,22,23,24],\"value\":{\"__ndarray__\":\"AAAAYE9btD8AAAAgiuOiPwAAAMDwbaA/AAAAgO5CmD8AAABAckyPPwAAAAAtvYA/AAAAAO2SeD8AAAAAddp8PwAAAKARSnc/AAAAoJdkdT8AAAAAGHV4PwAAAID+h3U/AAAAYINCdT8AAAAgqGB0PwAAAGCb7XI/AAAAYDvlcj8AAAAgFdZyPwAAAED4Q3E/AAAAwAuLcD8AAAAgQo5wPwAAAGAAN2w/AAAAgHcXbT8AAACAH+ZvPwAAAEBXMG0/\",\"dtype\":\"float64\",\"order\":\"little\",\"shape\":[24]}},\"selected\":{\"id\":\"1767\"},\"selection_policy\":{\"id\":\"1782\"}},\"id\":\"1766\",\"type\":\"ColumnDataSource\"},{\"attributes\":{},\"id\":\"1749\",\"type\":\"Selection\"},{\"attributes\":{},\"id\":\"1728\",\"type\":\"BasicTicker\"},{\"attributes\":{\"end\":24.0,\"reset_end\":24.0,\"reset_start\":1.0,\"start\":1.0,\"tags\":[[[\"index\",\"index\",null]]]},\"id\":\"1710\",\"type\":\"Range1d\"},{\"attributes\":{\"children\":[{\"id\":\"1709\"},{\"id\":\"1714\"},{\"id\":\"1875\"}],\"margin\":[0,0,0,0],\"name\":\"Row03053\",\"tags\":[\"embedded\"]},\"id\":\"1708\",\"type\":\"Row\"},{\"attributes\":{\"data_source\":{\"id\":\"1748\"},\"glyph\":{\"id\":\"1751\"},\"hover_glyph\":null,\"muted_glyph\":{\"id\":\"1753\"},\"nonselection_glyph\":{\"id\":\"1752\"},\"selection_glyph\":null,\"view\":{\"id\":\"1755\"}},\"id\":\"1754\",\"type\":\"GlyphRenderer\"},{\"attributes\":{\"data_source\":{\"id\":\"1766\"},\"glyph\":{\"id\":\"1769\"},\"hover_glyph\":null,\"muted_glyph\":{\"id\":\"1771\"},\"nonselection_glyph\":{\"id\":\"1770\"},\"selection_glyph\":null,\"view\":{\"id\":\"1773\"}},\"id\":\"1772\",\"type\":\"GlyphRenderer\"},{\"attributes\":{},\"id\":\"1767\",\"type\":\"Selection\"},{\"attributes\":{\"below\":[{\"id\":\"1723\"}],\"center\":[{\"id\":\"1726\"},{\"id\":\"1730\"}],\"left\":[{\"id\":\"1727\"}],\"margin\":[5,5,5,5],\"min_border_bottom\":10,\"min_border_left\":10,\"min_border_right\":10,\"min_border_top\":10,\"plot_height\":300,\"plot_width\":700,\"renderers\":[{\"id\":\"1754\"},{\"id\":\"1772\"}],\"right\":[{\"id\":\"1764\"}],\"sizing_mode\":\"fixed\",\"title\":{\"id\":\"1715\"},\"toolbar\":{\"id\":\"1737\"},\"x_range\":{\"id\":\"1710\"},\"x_scale\":{\"id\":\"1719\"},\"y_range\":{\"id\":\"1711\"},\"y_scale\":{\"id\":\"1721\"}},\"id\":\"1714\",\"subtype\":\"Figure\",\"type\":\"Plot\"},{\"attributes\":{\"margin\":[5,5,5,5],\"name\":\"HSpacer03057\",\"sizing_mode\":\"stretch_width\"},\"id\":\"1709\",\"type\":\"Spacer\"},{\"attributes\":{\"bottom_units\":\"screen\",\"fill_alpha\":0.5,\"fill_color\":\"lightgrey\",\"left_units\":\"screen\",\"level\":\"overlay\",\"line_alpha\":1.0,\"line_color\":\"black\",\"line_dash\":[4,4],\"line_width\":2,\"right_units\":\"screen\",\"top_units\":\"screen\"},\"id\":\"1736\",\"type\":\"BoxAnnotation\"}],\"root_ids\":[\"1708\"]},\"title\":\"Bokeh Application\",\"version\":\"2.2.3\"}};\n",
       "    var render_items = [{\"docid\":\"0b00ab76-bb91-4e0e-b821-c2e41e8e3b7d\",\"root_ids\":[\"1708\"],\"roots\":{\"1708\":\"63afc377-8881-42eb-92d2-611cc4929ab9\"}}];\n",
       "    root.Bokeh.embed.embed_items_notebook(docs_json, render_items);\n",
       "  }\n",
       "  if (root.Bokeh !== undefined && root.Bokeh.Panel !== undefined) {\n",
       "    embed_document(root);\n",
       "  } else {\n",
       "    var attempts = 0;\n",
       "    var timer = setInterval(function(root) {\n",
       "      if (root.Bokeh !== undefined && root.Bokeh.Panel !== undefined) {\n",
       "        clearInterval(timer);\n",
       "        embed_document(root);\n",
       "      } else if (document.readyState == \"complete\") {\n",
       "        attempts++;\n",
       "        if (attempts > 100) {\n",
       "          clearInterval(timer);\n",
       "          console.log(\"Bokeh: ERROR: Unable to run BokehJS code because BokehJS library is missing\");\n",
       "        }\n",
       "      }\n",
       "    }, 10, root)\n",
       "  }\n",
       "})(window);</script>"
      ],
      "text/plain": [
       ":NdOverlay   [Variable]\n",
       "   :Curve   [index]   (value)"
      ]
     },
     "execution_count": 60,
     "metadata": {
      "application/vnd.holoviews_exec.v0+json": {
       "id": "1708"
      }
     },
     "output_type": "execute_result"
    }
   ],
   "source": [
    "score_loss_lr_1fvs2f(score_lstm_lr_1f_df, score_lstm_lr_2f_df)"
   ]
  },
  {
   "cell_type": "code",
   "execution_count": 61,
   "metadata": {},
   "outputs": [
    {
     "data": {
      "application/vnd.holoviews_exec.v0+json": "",
      "text/html": [
       "<div id='1927'>\n",
       "\n",
       "\n",
       "\n",
       "\n",
       "\n",
       "  <div class=\"bk-root\" id=\"f51e41a6-4449-4dc7-a85b-c27619765a28\" data-root-id=\"1927\"></div>\n",
       "</div>\n",
       "<script type=\"application/javascript\">(function(root) {\n",
       "  function embed_document(root) {\n",
       "    var docs_json = {\"c3027216-3d9c-4b89-8c1f-963ce998aa0a\":{\"roots\":{\"references\":[{\"attributes\":{\"bottom_units\":\"screen\",\"fill_alpha\":0.5,\"fill_color\":\"lightgrey\",\"left_units\":\"screen\",\"level\":\"overlay\",\"line_alpha\":1.0,\"line_color\":\"black\",\"line_dash\":[4,4],\"line_width\":2,\"right_units\":\"screen\",\"top_units\":\"screen\"},\"id\":\"1955\",\"type\":\"BoxAnnotation\"},{\"attributes\":{\"axis_label\":\"\",\"bounds\":\"auto\",\"formatter\":{\"id\":\"1966\"},\"major_label_orientation\":\"horizontal\",\"ticker\":{\"id\":\"1947\"}},\"id\":\"1946\",\"type\":\"LinearAxis\"},{\"attributes\":{\"callback\":null,\"renderers\":[{\"id\":\"1973\"},{\"id\":\"1991\"}],\"tags\":[\"hv_created\"],\"tooltips\":[[\"Variable\",\"@{Variable}\"],[\"index\",\"@{index}\"],[\"value\",\"@{value}\"]]},\"id\":\"1931\",\"type\":\"HoverTool\"},{\"attributes\":{\"data\":{\"Variable\":[\"mae_1f\",\"mae_1f\",\"mae_1f\",\"mae_1f\",\"mae_1f\",\"mae_1f\",\"mae_1f\",\"mae_1f\",\"mae_1f\",\"mae_1f\",\"mae_1f\",\"mae_1f\",\"mae_1f\",\"mae_1f\",\"mae_1f\",\"mae_1f\",\"mae_1f\",\"mae_1f\",\"mae_1f\",\"mae_1f\",\"mae_1f\",\"mae_1f\",\"mae_1f\",\"mae_1f\"],\"index\":[1,2,3,4,5,6,7,8,9,10,11,12,13,14,15,16,17,18,19,20,21,22,23,24],\"value\":{\"__ndarray__\":\"AAAAgBxOzT8AAADg71jGPwAAACCeBsQ/AAAAgIVRwj8AAABAg1PAPwAAAGBBebk/AAAAQKaPsT8AAADATHusPwAAAODVK6k/AAAAANt1qD8AAADgqTKoPwAAAGACxKg/AAAA4NR4pz8AAADgr3qnPwAAAIDwXqU/AAAAoFe8pT8AAADgkqemPwAAAIAsN6U/AAAAIJQQpD8AAABgn1OkPwAAACDqNaQ/AAAAAFLgpj8AAAAAAAD4fwAAAAAAAPh/\",\"dtype\":\"float64\",\"order\":\"little\",\"shape\":[24]}},\"selected\":{\"id\":\"1968\"},\"selection_policy\":{\"id\":\"1981\"}},\"id\":\"1967\",\"type\":\"ColumnDataSource\"},{\"attributes\":{\"source\":{\"id\":\"1985\"}},\"id\":\"1992\",\"type\":\"CDSView\"},{\"attributes\":{\"data_source\":{\"id\":\"1967\"},\"glyph\":{\"id\":\"1970\"},\"hover_glyph\":null,\"muted_glyph\":{\"id\":\"1972\"},\"nonselection_glyph\":{\"id\":\"1971\"},\"selection_glyph\":null,\"view\":{\"id\":\"1974\"}},\"id\":\"1973\",\"type\":\"GlyphRenderer\"},{\"attributes\":{\"source\":{\"id\":\"1967\"}},\"id\":\"1974\",\"type\":\"CDSView\"},{\"attributes\":{\"line_color\":\"#ff7e0e\",\"line_width\":2,\"x\":{\"field\":\"index\"},\"y\":{\"field\":\"value\"}},\"id\":\"1988\",\"type\":\"Line\"},{\"attributes\":{},\"id\":\"1950\",\"type\":\"SaveTool\"},{\"attributes\":{},\"id\":\"1951\",\"type\":\"PanTool\"},{\"attributes\":{},\"id\":\"1954\",\"type\":\"ResetTool\"},{\"attributes\":{\"line_color\":\"#1f77b3\",\"line_width\":2,\"x\":{\"field\":\"index\"},\"y\":{\"field\":\"value\"}},\"id\":\"1970\",\"type\":\"Line\"},{\"attributes\":{},\"id\":\"1952\",\"type\":\"WheelZoomTool\"},{\"attributes\":{},\"id\":\"2001\",\"type\":\"UnionRenderers\"},{\"attributes\":{\"overlay\":{\"id\":\"1955\"}},\"id\":\"1953\",\"type\":\"BoxZoomTool\"},{\"attributes\":{\"label\":{\"value\":\"mae_1f\"},\"renderers\":[{\"id\":\"1973\"}]},\"id\":\"1984\",\"type\":\"LegendItem\"},{\"attributes\":{\"label\":{\"value\":\"mae_2f\"},\"renderers\":[{\"id\":\"1991\"}]},\"id\":\"2003\",\"type\":\"LegendItem\"},{\"attributes\":{},\"id\":\"1943\",\"type\":\"BasicTicker\"},{\"attributes\":{\"margin\":[5,5,5,5],\"name\":\"HSpacer03504\",\"sizing_mode\":\"stretch_width\"},\"id\":\"2094\",\"type\":\"Spacer\"},{\"attributes\":{},\"id\":\"1964\",\"type\":\"BasicTickFormatter\"},{\"attributes\":{\"children\":[{\"id\":\"1928\"},{\"id\":\"1933\"},{\"id\":\"2094\"}],\"margin\":[0,0,0,0],\"name\":\"Row03499\",\"tags\":[\"embedded\"]},\"id\":\"1927\",\"type\":\"Row\"},{\"attributes\":{\"text\":\"\",\"text_color\":{\"value\":\"black\"},\"text_font_size\":{\"value\":\"12pt\"}},\"id\":\"1934\",\"type\":\"Title\"},{\"attributes\":{},\"id\":\"1966\",\"type\":\"BasicTickFormatter\"},{\"attributes\":{},\"id\":\"1981\",\"type\":\"UnionRenderers\"},{\"attributes\":{\"click_policy\":\"mute\",\"items\":[{\"id\":\"1984\"},{\"id\":\"2003\"}],\"location\":[0,0],\"title\":\"Variable\"},\"id\":\"1983\",\"type\":\"Legend\"},{\"attributes\":{},\"id\":\"1938\",\"type\":\"LinearScale\"},{\"attributes\":{\"data\":{\"Variable\":[\"mae_2f\",\"mae_2f\",\"mae_2f\",\"mae_2f\",\"mae_2f\",\"mae_2f\",\"mae_2f\",\"mae_2f\",\"mae_2f\",\"mae_2f\",\"mae_2f\",\"mae_2f\",\"mae_2f\",\"mae_2f\",\"mae_2f\",\"mae_2f\",\"mae_2f\",\"mae_2f\",\"mae_2f\",\"mae_2f\",\"mae_2f\",\"mae_2f\",\"mae_2f\",\"mae_2f\"],\"index\":[1,2,3,4,5,6,7,8,9,10,11,12,13,14,15,16,17,18,19,20,21,22,23,24],\"value\":{\"__ndarray__\":\"AAAAQNQUyz8AAACAcgrEPwAAACAOX8M/AAAA4OB+wD8AAADA5v25PwAAAAA0w7E/AAAAYG78rT8AAAAAH2KuPwAAAMCZYaw/AAAAQMNZqz8AAACAtF6tPwAAACD+u6s/AAAAQNDyqj8AAACgNjiqPwAAAKCV3ak/AAAAoPwEqT8AAABAbaWoPwAAAMB6Vag/AAAAIGklqD8AAACgj1ioPwAAAEDybqY/AAAAwEQYpz8AAADAbRenPwAAAMD1SaY/\",\"dtype\":\"float64\",\"order\":\"little\",\"shape\":[24]}},\"selected\":{\"id\":\"1986\"},\"selection_policy\":{\"id\":\"2001\"}},\"id\":\"1985\",\"type\":\"ColumnDataSource\"},{\"attributes\":{},\"id\":\"1940\",\"type\":\"LinearScale\"},{\"attributes\":{\"end\":0.24792199693620204,\"reset_end\":0.24792199693620204,\"reset_start\":0.020213256403803823,\"start\":0.020213256403803823,\"tags\":[[[\"value\",\"value\",null]]]},\"id\":\"1930\",\"type\":\"Range1d\"},{\"attributes\":{\"line_alpha\":0.2,\"line_color\":\"#ff7e0e\",\"line_width\":2,\"x\":{\"field\":\"index\"},\"y\":{\"field\":\"value\"}},\"id\":\"1990\",\"type\":\"Line\"},{\"attributes\":{\"axis_label\":\"\",\"bounds\":\"auto\",\"formatter\":{\"id\":\"1964\"},\"major_label_orientation\":\"horizontal\",\"ticker\":{\"id\":\"1943\"}},\"id\":\"1942\",\"type\":\"LinearAxis\"},{\"attributes\":{\"margin\":[5,5,5,5],\"name\":\"HSpacer03503\",\"sizing_mode\":\"stretch_width\"},\"id\":\"1928\",\"type\":\"Spacer\"},{\"attributes\":{\"line_alpha\":0.2,\"line_color\":\"#1f77b3\",\"line_width\":2,\"x\":{\"field\":\"index\"},\"y\":{\"field\":\"value\"}},\"id\":\"1972\",\"type\":\"Line\"},{\"attributes\":{\"axis\":{\"id\":\"1946\"},\"dimension\":1,\"grid_line_color\":null,\"ticker\":null},\"id\":\"1949\",\"type\":\"Grid\"},{\"attributes\":{\"below\":[{\"id\":\"1942\"}],\"center\":[{\"id\":\"1945\"},{\"id\":\"1949\"}],\"left\":[{\"id\":\"1946\"}],\"margin\":[5,5,5,5],\"min_border_bottom\":10,\"min_border_left\":10,\"min_border_right\":10,\"min_border_top\":10,\"plot_height\":300,\"plot_width\":700,\"renderers\":[{\"id\":\"1973\"},{\"id\":\"1991\"}],\"right\":[{\"id\":\"1983\"}],\"sizing_mode\":\"fixed\",\"title\":{\"id\":\"1934\"},\"toolbar\":{\"id\":\"1956\"},\"x_range\":{\"id\":\"1929\"},\"x_scale\":{\"id\":\"1938\"},\"y_range\":{\"id\":\"1930\"},\"y_scale\":{\"id\":\"1940\"}},\"id\":\"1933\",\"subtype\":\"Figure\",\"type\":\"Plot\"},{\"attributes\":{\"axis\":{\"id\":\"1942\"},\"grid_line_color\":null,\"ticker\":null},\"id\":\"1945\",\"type\":\"Grid\"},{\"attributes\":{\"line_alpha\":0.1,\"line_color\":\"#1f77b3\",\"line_width\":2,\"x\":{\"field\":\"index\"},\"y\":{\"field\":\"value\"}},\"id\":\"1971\",\"type\":\"Line\"},{\"attributes\":{},\"id\":\"1986\",\"type\":\"Selection\"},{\"attributes\":{\"line_alpha\":0.1,\"line_color\":\"#ff7e0e\",\"line_width\":2,\"x\":{\"field\":\"index\"},\"y\":{\"field\":\"value\"}},\"id\":\"1989\",\"type\":\"Line\"},{\"attributes\":{},\"id\":\"1968\",\"type\":\"Selection\"},{\"attributes\":{\"active_drag\":\"auto\",\"active_inspect\":\"auto\",\"active_multi\":null,\"active_scroll\":\"auto\",\"active_tap\":\"auto\",\"tools\":[{\"id\":\"1931\"},{\"id\":\"1950\"},{\"id\":\"1951\"},{\"id\":\"1952\"},{\"id\":\"1953\"},{\"id\":\"1954\"}]},\"id\":\"1956\",\"type\":\"Toolbar\"},{\"attributes\":{\"end\":24.0,\"reset_end\":24.0,\"reset_start\":1.0,\"start\":1.0,\"tags\":[[[\"index\",\"index\",null]]]},\"id\":\"1929\",\"type\":\"Range1d\"},{\"attributes\":{},\"id\":\"1947\",\"type\":\"BasicTicker\"},{\"attributes\":{\"data_source\":{\"id\":\"1985\"},\"glyph\":{\"id\":\"1988\"},\"hover_glyph\":null,\"muted_glyph\":{\"id\":\"1990\"},\"nonselection_glyph\":{\"id\":\"1989\"},\"selection_glyph\":null,\"view\":{\"id\":\"1992\"}},\"id\":\"1991\",\"type\":\"GlyphRenderer\"}],\"root_ids\":[\"1927\"]},\"title\":\"Bokeh Application\",\"version\":\"2.2.3\"}};\n",
       "    var render_items = [{\"docid\":\"c3027216-3d9c-4b89-8c1f-963ce998aa0a\",\"root_ids\":[\"1927\"],\"roots\":{\"1927\":\"f51e41a6-4449-4dc7-a85b-c27619765a28\"}}];\n",
       "    root.Bokeh.embed.embed_items_notebook(docs_json, render_items);\n",
       "  }\n",
       "  if (root.Bokeh !== undefined && root.Bokeh.Panel !== undefined) {\n",
       "    embed_document(root);\n",
       "  } else {\n",
       "    var attempts = 0;\n",
       "    var timer = setInterval(function(root) {\n",
       "      if (root.Bokeh !== undefined && root.Bokeh.Panel !== undefined) {\n",
       "        clearInterval(timer);\n",
       "        embed_document(root);\n",
       "      } else if (document.readyState == \"complete\") {\n",
       "        attempts++;\n",
       "        if (attempts > 100) {\n",
       "          clearInterval(timer);\n",
       "          console.log(\"Bokeh: ERROR: Unable to run BokehJS code because BokehJS library is missing\");\n",
       "        }\n",
       "      }\n",
       "    }, 10, root)\n",
       "  }\n",
       "})(window);</script>"
      ],
      "text/plain": [
       ":NdOverlay   [Variable]\n",
       "   :Curve   [index]   (value)"
      ]
     },
     "execution_count": 61,
     "metadata": {
      "application/vnd.holoviews_exec.v0+json": {
       "id": "1927"
      }
     },
     "output_type": "execute_result"
    }
   ],
   "source": [
    "score_mae_lr_1fvs2f(score_lstm_lr_1f_df, score_lstm_lr_2f_df)"
   ]
  },
  {
   "cell_type": "code",
   "execution_count": 62,
   "metadata": {},
   "outputs": [
    {
     "data": {
      "application/vnd.holoviews_exec.v0+json": "",
      "text/html": [
       "<div id='2146'>\n",
       "\n",
       "\n",
       "\n",
       "\n",
       "\n",
       "  <div class=\"bk-root\" id=\"fa3a7a6e-ee5c-4c3c-aca1-fd1cfc3bf0c4\" data-root-id=\"2146\"></div>\n",
       "</div>\n",
       "<script type=\"application/javascript\">(function(root) {\n",
       "  function embed_document(root) {\n",
       "    var docs_json = {\"43d21d7f-e4c9-4ba3-a2c1-a9519628a76f\":{\"roots\":{\"references\":[{\"attributes\":{\"axis\":{\"id\":\"2166\"},\"dimension\":1,\"grid_line_color\":null,\"ticker\":null},\"id\":\"2169\",\"type\":\"Grid\"},{\"attributes\":{\"label\":{\"value\":\"actual\"},\"renderers\":[{\"id\":\"2211\"}]},\"id\":\"2223\",\"type\":\"LegendItem\"},{\"attributes\":{},\"id\":\"2163\",\"type\":\"BasicTicker\"},{\"attributes\":{\"callback\":null,\"renderers\":[{\"id\":\"2193\"},{\"id\":\"2211\"},{\"id\":\"2230\"}],\"tags\":[\"hv_created\"],\"tooltips\":[[\"Variable\",\"@{Variable}\"],[\"index\",\"@{index}\"],[\"value\",\"@{value}\"]]},\"id\":\"2150\",\"type\":\"HoverTool\"},{\"attributes\":{\"data_source\":{\"id\":\"2187\"},\"glyph\":{\"id\":\"2190\"},\"hover_glyph\":null,\"muted_glyph\":{\"id\":\"2192\"},\"nonselection_glyph\":{\"id\":\"2191\"},\"selection_glyph\":null,\"view\":{\"id\":\"2194\"}},\"id\":\"2193\",\"type\":\"GlyphRenderer\"},{\"attributes\":{\"data_source\":{\"id\":\"2205\"},\"glyph\":{\"id\":\"2208\"},\"hover_glyph\":null,\"muted_glyph\":{\"id\":\"2210\"},\"nonselection_glyph\":{\"id\":\"2209\"},\"selection_glyph\":null,\"view\":{\"id\":\"2212\"}},\"id\":\"2211\",\"type\":\"GlyphRenderer\"},{\"attributes\":{\"active_drag\":\"auto\",\"active_inspect\":\"auto\",\"active_multi\":null,\"active_scroll\":\"auto\",\"active_tap\":\"auto\",\"tools\":[{\"id\":\"2150\"},{\"id\":\"2170\"},{\"id\":\"2171\"},{\"id\":\"2172\"},{\"id\":\"2173\"},{\"id\":\"2174\"}]},\"id\":\"2176\",\"type\":\"Toolbar\"},{\"attributes\":{\"line_alpha\":0.2,\"line_color\":\"#1f77b3\",\"line_width\":2,\"x\":{\"field\":\"index\"},\"y\":{\"field\":\"value\"}},\"id\":\"2192\",\"type\":\"Line\"},{\"attributes\":{\"data\":{\"Variable\":[\"predict_2features\",\"predict_2features\",\"predict_2features\",\"predict_2features\",\"predict_2features\",\"predict_2features\",\"predict_2features\",\"predict_2features\",\"predict_2features\",\"predict_2features\",\"predict_2features\",\"predict_2features\",\"predict_2features\",\"predict_2features\",\"predict_2features\",\"predict_2features\",\"predict_2features\",\"predict_2features\",\"predict_2features\",\"predict_2features\",\"predict_2features\",\"predict_2features\",\"predict_2features\",\"predict_2features\",\"predict_2features\",\"predict_2features\",\"predict_2features\",\"predict_2features\",\"predict_2features\",\"predict_2features\",\"predict_2features\",\"predict_2features\",\"predict_2features\",\"predict_2features\",\"predict_2features\",\"predict_2features\",\"predict_2features\",\"predict_2features\",\"predict_2features\",\"predict_2features\",\"predict_2features\",\"predict_2features\",\"predict_2features\",\"predict_2features\",\"predict_2features\",\"predict_2features\",\"predict_2features\",\"predict_2features\",\"predict_2features\",\"predict_2features\",\"predict_2features\",\"predict_2features\",\"predict_2features\",\"predict_2features\",\"predict_2features\",\"predict_2features\",\"predict_2features\",\"predict_2features\",\"predict_2features\",\"predict_2features\",\"predict_2features\",\"predict_2features\",\"predict_2features\",\"predict_2features\",\"predict_2features\",\"predict_2features\",\"predict_2features\",\"predict_2features\",\"predict_2features\",\"predict_2features\",\"predict_2features\",\"predict_2features\",\"predict_2features\",\"predict_2features\",\"predict_2features\",\"predict_2features\",\"predict_2features\",\"predict_2features\",\"predict_2features\",\"predict_2features\",\"predict_2features\",\"predict_2features\",\"predict_2features\",\"predict_2features\",\"predict_2features\",\"predict_2features\",\"predict_2features\",\"predict_2features\",\"predict_2features\",\"predict_2features\",\"predict_2features\",\"predict_2features\",\"predict_2features\",\"predict_2features\",\"predict_2features\",\"predict_2features\",\"predict_2features\",\"predict_2features\",\"predict_2features\",\"predict_2features\",\"predict_2features\",\"predict_2features\",\"predict_2features\",\"predict_2features\",\"predict_2features\",\"predict_2features\",\"predict_2features\",\"predict_2features\",\"predict_2features\",\"predict_2features\",\"predict_2features\",\"predict_2features\",\"predict_2features\",\"predict_2features\",\"predict_2features\",\"predict_2features\",\"predict_2features\",\"predict_2features\",\"predict_2features\",\"predict_2features\",\"predict_2features\",\"predict_2features\",\"predict_2features\",\"predict_2features\",\"predict_2features\",\"predict_2features\",\"predict_2features\",\"predict_2features\",\"predict_2features\",\"predict_2features\",\"predict_2features\",\"predict_2features\",\"predict_2features\",\"predict_2features\",\"predict_2features\",\"predict_2features\",\"predict_2features\",\"predict_2features\",\"predict_2features\",\"predict_2features\",\"predict_2features\",\"predict_2features\",\"predict_2features\",\"predict_2features\",\"predict_2features\",\"predict_2features\",\"predict_2features\"],\"index\":[0,1,2,3,4,5,6,7,8,9,10,11,12,13,14,15,16,17,18,19,20,21,22,23,24,25,26,27,28,29,30,31,32,33,34,35,36,37,38,39,40,41,42,43,44,45,46,47,48,49,50,51,52,53,54,55,56,57,58,59,60,61,62,63,64,65,66,67,68,69,70,71,72,73,74,75,76,77,78,79,80,81,82,83,84,85,86,87,88,89,90,91,92,93,94,95,96,97,98,99,100,101,102,103,104,105,106,107,108,109,110,111,112,113,114,115,116,117,118,119,120,121,122,123,124,125,126,127,128,129,130,131,132,133,134,135,136,137,138,139,140,141,142,143,144,145,146],\"value\":{\"__ndarray__\":\"mEM6PwOfST8mHz4/3203P2YLNj8knDY/vQY3P1BWNz9GXjc/zTNGP/ZoTD+g3k0/IlpOP7riPz+KnE8/dW0/P7QpTD+KOkQ/7H1MP/0nWD9sjFY/XsBZPw24TD92R2k/DbhMP3ZHaT/Jtl0/SupPP5sXUj8a3lk/7rFWP4CJVj9C/lw/RAJjP7FOVj8yIlQ/OMdgP/KSYj/IuVc/BKxeP9R4Xj+4S2I/IVVgP2BbYD8+pWE/CnxnP2grWz/6A14/n/1dPz8CYz/YVVo/CpVaP3eKXj9Oj2U/+G5zP06PZT/4bnM/cdlnP/42az/aVVs/0FNXP1PHZD8s0Wo/hJZyPzwbZD/gtmY/UNdpP9uEZj/64Gk/rcBlPyw0YT+jmGA/mEdmP4z1ZD+GoWE/1BhdP5R1Yj9eSmQ/7RZiP2bLVz9z1Us/BehlP6ZCYj+UIl4/jGNcP+ENXj8oNVw/IC5YP3/jXj9colc/Bt5aP7cYXD8sr2A/txhcPyyvYD+kw2M/fGlsPwTVXD8c8Gc/iHtfP4z3YT/sN2k/MJhmPzkJYT/nLGk/XZZePwgXYz/NWmQ/Jl5nP+QDaT9QzWE/yK1nP7QxZj+UlGI/tOZiP6rCZD8Rp10/FqZdP4lkcD+5ZV4/YktqP6bJaj/EP2w/6otpP2ndZz+WbGY/B4BnPxAaaj+7CW4/NqVuP8hxYz8benE/tJVsP5h7aD9Yi2s/KqVjPyB6bD/ukGU/GLhoP5oPZz+7om0/4HVtP7Jsaz9We24/IWtqPw63bz/xdWY/\",\"dtype\":\"float32\",\"order\":\"little\",\"shape\":[147]}},\"selected\":{\"id\":\"2225\"},\"selection_policy\":{\"id\":\"2242\"}},\"id\":\"2224\",\"type\":\"ColumnDataSource\"},{\"attributes\":{\"axis\":{\"id\":\"2162\"},\"grid_line_color\":null,\"ticker\":null},\"id\":\"2165\",\"type\":\"Grid\"},{\"attributes\":{\"line_color\":\"#ff7e0e\",\"line_width\":2,\"x\":{\"field\":\"index\"},\"y\":{\"field\":\"value\"}},\"id\":\"2208\",\"type\":\"Line\"},{\"attributes\":{\"source\":{\"id\":\"2224\"}},\"id\":\"2231\",\"type\":\"CDSView\"},{\"attributes\":{},\"id\":\"2184\",\"type\":\"BasicTickFormatter\"},{\"attributes\":{\"source\":{\"id\":\"2205\"}},\"id\":\"2212\",\"type\":\"CDSView\"},{\"attributes\":{},\"id\":\"2206\",\"type\":\"Selection\"},{\"attributes\":{},\"id\":\"2221\",\"type\":\"UnionRenderers\"},{\"attributes\":{\"bottom_units\":\"screen\",\"fill_alpha\":0.5,\"fill_color\":\"lightgrey\",\"left_units\":\"screen\",\"level\":\"overlay\",\"line_alpha\":1.0,\"line_color\":\"black\",\"line_dash\":[4,4],\"line_width\":2,\"right_units\":\"screen\",\"top_units\":\"screen\"},\"id\":\"2175\",\"type\":\"BoxAnnotation\"},{\"attributes\":{},\"id\":\"2167\",\"type\":\"BasicTicker\"},{\"attributes\":{\"children\":[{\"id\":\"2147\"},{\"id\":\"2153\"},{\"id\":\"2353\"}],\"margin\":[0,0,0,0],\"name\":\"Row03969\",\"tags\":[\"embedded\"]},\"id\":\"2146\",\"type\":\"Row\"},{\"attributes\":{\"source\":{\"id\":\"2187\"}},\"id\":\"2194\",\"type\":\"CDSView\"},{\"attributes\":{\"axis_label\":\"\",\"bounds\":\"auto\",\"formatter\":{\"id\":\"2186\"},\"major_label_orientation\":\"horizontal\",\"ticker\":{\"id\":\"2167\"}},\"id\":\"2166\",\"type\":\"LinearAxis\"},{\"attributes\":{\"text\":\"\",\"text_color\":{\"value\":\"black\"},\"text_font_size\":{\"value\":\"12pt\"}},\"id\":\"2154\",\"type\":\"Title\"},{\"attributes\":{\"line_color\":\"#2ba02b\",\"line_width\":2,\"x\":{\"field\":\"index\"},\"y\":{\"field\":\"value\"}},\"id\":\"2227\",\"type\":\"Line\"},{\"attributes\":{\"label\":{\"value\":\"predict_1feature\"},\"renderers\":[{\"id\":\"2193\"}]},\"id\":\"2204\",\"type\":\"LegendItem\"},{\"attributes\":{},\"id\":\"2170\",\"type\":\"SaveTool\"},{\"attributes\":{\"end\":1.0288888573646549,\"reset_end\":1.0288888573646549,\"reset_start\":0.6822225689888001,\"start\":0.6822225689888001,\"tags\":[[[\"value\",\"value\",null]]]},\"id\":\"2149\",\"type\":\"Range1d\"},{\"attributes\":{},\"id\":\"2171\",\"type\":\"PanTool\"},{\"attributes\":{},\"id\":\"2201\",\"type\":\"UnionRenderers\"},{\"attributes\":{\"below\":[{\"id\":\"2162\"}],\"center\":[{\"id\":\"2165\"},{\"id\":\"2169\"}],\"left\":[{\"id\":\"2166\"}],\"margin\":[5,5,5,5],\"min_border_bottom\":10,\"min_border_left\":10,\"min_border_right\":10,\"min_border_top\":10,\"plot_height\":300,\"plot_width\":700,\"renderers\":[{\"id\":\"2193\"},{\"id\":\"2211\"},{\"id\":\"2230\"}],\"right\":[{\"id\":\"2203\"}],\"sizing_mode\":\"fixed\",\"title\":{\"id\":\"2154\"},\"toolbar\":{\"id\":\"2176\"},\"x_range\":{\"id\":\"2148\"},\"x_scale\":{\"id\":\"2158\"},\"y_range\":{\"id\":\"2149\"},\"y_scale\":{\"id\":\"2160\"}},\"id\":\"2153\",\"subtype\":\"Figure\",\"type\":\"Plot\"},{\"attributes\":{\"data_source\":{\"id\":\"2224\"},\"glyph\":{\"id\":\"2227\"},\"hover_glyph\":null,\"muted_glyph\":{\"id\":\"2229\"},\"nonselection_glyph\":{\"id\":\"2228\"},\"selection_glyph\":null,\"view\":{\"id\":\"2231\"}},\"id\":\"2230\",\"type\":\"GlyphRenderer\"},{\"attributes\":{\"click_policy\":\"mute\",\"items\":[{\"id\":\"2204\"},{\"id\":\"2223\"},{\"id\":\"2244\"}],\"location\":[0,0],\"title\":\"Variable\"},\"id\":\"2203\",\"type\":\"Legend\"},{\"attributes\":{},\"id\":\"2174\",\"type\":\"ResetTool\"},{\"attributes\":{\"margin\":[5,5,5,5],\"name\":\"HSpacer03974\",\"sizing_mode\":\"stretch_width\"},\"id\":\"2353\",\"type\":\"Spacer\"},{\"attributes\":{\"data\":{\"Variable\":[\"actual\",\"actual\",\"actual\",\"actual\",\"actual\",\"actual\",\"actual\",\"actual\",\"actual\",\"actual\",\"actual\",\"actual\",\"actual\",\"actual\",\"actual\",\"actual\",\"actual\",\"actual\",\"actual\",\"actual\",\"actual\",\"actual\",\"actual\",\"actual\",\"actual\",\"actual\",\"actual\",\"actual\",\"actual\",\"actual\",\"actual\",\"actual\",\"actual\",\"actual\",\"actual\",\"actual\",\"actual\",\"actual\",\"actual\",\"actual\",\"actual\",\"actual\",\"actual\",\"actual\",\"actual\",\"actual\",\"actual\",\"actual\",\"actual\",\"actual\",\"actual\",\"actual\",\"actual\",\"actual\",\"actual\",\"actual\",\"actual\",\"actual\",\"actual\",\"actual\",\"actual\",\"actual\",\"actual\",\"actual\",\"actual\",\"actual\",\"actual\",\"actual\",\"actual\",\"actual\",\"actual\",\"actual\",\"actual\",\"actual\",\"actual\",\"actual\",\"actual\",\"actual\",\"actual\",\"actual\",\"actual\",\"actual\",\"actual\",\"actual\",\"actual\",\"actual\",\"actual\",\"actual\",\"actual\",\"actual\",\"actual\",\"actual\",\"actual\",\"actual\",\"actual\",\"actual\",\"actual\",\"actual\",\"actual\",\"actual\",\"actual\",\"actual\",\"actual\",\"actual\",\"actual\",\"actual\",\"actual\",\"actual\",\"actual\",\"actual\",\"actual\",\"actual\",\"actual\",\"actual\",\"actual\",\"actual\",\"actual\",\"actual\",\"actual\",\"actual\",\"actual\",\"actual\",\"actual\",\"actual\",\"actual\",\"actual\",\"actual\",\"actual\",\"actual\",\"actual\",\"actual\",\"actual\",\"actual\",\"actual\",\"actual\",\"actual\",\"actual\",\"actual\",\"actual\",\"actual\",\"actual\",\"actual\",\"actual\",\"actual\",\"actual\",\"actual\",\"actual\"],\"index\":[0,1,2,3,4,5,6,7,8,9,10,11,12,13,14,15,16,17,18,19,20,21,22,23,24,25,26,27,28,29,30,31,32,33,34,35,36,37,38,39,40,41,42,43,44,45,46,47,48,49,50,51,52,53,54,55,56,57,58,59,60,61,62,63,64,65,66,67,68,69,70,71,72,73,74,75,76,77,78,79,80,81,82,83,84,85,86,87,88,89,90,91,92,93,94,95,96,97,98,99,100,101,102,103,104,105,106,107,108,109,110,111,112,113,114,115,116,117,118,119,120,121,122,123,124,125,126,127,128,129,130,131,132,133,134,135,136,137,138,139,140,141,142,143,144,145,146],\"value\":{\"__ndarray__\":\"QzLu9oP05z/LEcLHX/XnP2pvEL+noec/M0YQazSV5z8BMdzEd9nnP++eag1YNeg/hFZQvMxE6D/knpXwVN3nP3PE3gStoOg/aKqLJs8w6j+LTD+CdHToP3m1Wh8nvOg/QK+qXvDk6D8apDEskqnpP7JHIEpTwOk/SAR5pPXj6T/gxUSqxRvqPxoDEazveOo/IE75mplP6z+6Hh6j8sPrP+q1gVxJhOw/nhN6jZfg7D8gLwgukSPtPyAvCC6RI+0/IC8ILpEj7T8gLwgukSPtP6zw/hZeA+0/6Hnybyjq6z+6S1SNiiHsP65zQq/xEuw/3kznaI006z80o5z9oabsP1I6Y93vsew/LgO75fUo6z+aQe/fJfHqP/AVdWGgXus/Tnck0gkE6z8GwSVypGfrPwDVHANYYOs/Dp2WdnF/7T+w15TafPbsPwphB4pQ5ew/gNG5Nkl37T/6nOw8a8/sPyKt2Br3Huw/HGLwK01I6z+slpJCLkjsPwI0/IK1L+w/BiAF8gE37D/0vmKfXHHsP3CzMhU0puw/FP2Je8hZ7D+eOz3MASrtP2jv7ORR6Ow/aO/s5FHo7D9o7+zkUejsP2jv7ORR6Ow/RI96ifEF7T9AOSui2nvtPzZhW/1cRe4/aAKlDQ8u7z+8lSj3Ou3uPwEAAAAAAPA/SMsJdhKg7T8EssxvGyvrP3SayNhSmew/JGLFSFCg6z8E5HUF4ZzrP/ZgXVBKNew/cCyQVmyN6z/EuqCUajjrP3qlwrSnzOo/PsJih60q6z9as4jbLfbrP55Vu43cQes/PDqsQ+wG7D8wj9BP61XsP4AYbuK77Os/kg4yxWZ07D+CfMANR9DsP25P4Omowus/aL1DT4x27D++BbRmEbfrP4JKF3iBXuw/UhcG6rWB7D8iPmEwGmDtPyC7HZiGUO4/6Lnggn2N7j9axkAE6zvuPxDUsrdkBe4/TORIz/YE7j/eMmmnshztP94yaaeyHO0/3jJpp7Ic7T/eMmmnshztP2Irp7RvKu0/Hr72oRg07T/UZD0gdTbtP5xjAAtsc+0/jiIpVhpt7D9eHE6y5u3sP5xQSOKuLes/TqnNZ8916z+oI+cUGijrP7zJJHrwHOs/JM/pRT2h7j/yMhPhuMztPzKeKVJ0kuw/VoDLwG557T8WZk9SgVHtPwy7c16AoO0/LDnDoe+j7T98ve2IkibtP17vF8hOkOw/BHCLb9bJ7D8c7gWWQnXsP/SDreOGauw/wpuvJ2IM7T9UTiIrqQftP0yK3PrGSe0/yLTugEZx7T9Ctz3IW0/tPyoCp2D8He0//rC46iEg7T/uGdSH1GftPxIlTboyo+w/AtJD+cV87D+QWUWXDfPsPwiEVx2NGu0/vLQZZEMZ7T8Qzz8MN/HtP65ZxO0W++0/ZGc2oZDE7T/8Xx7oU4LuPzx/DQJvvu4/QDT6L8g/7j8SOAXj7+juP753Sw8szO4/zgRKGx5c7j+qpNe/vXnuP1iPJMP3te0/qkpr642+7T+khiW7qwDuP5qGUJ6oqO0/utL2S1I67T8YcDWp3HntP7S5t/Jt1ew/\",\"dtype\":\"float64\",\"order\":\"little\",\"shape\":[147]}},\"selected\":{\"id\":\"2206\"},\"selection_policy\":{\"id\":\"2221\"}},\"id\":\"2205\",\"type\":\"ColumnDataSource\"},{\"attributes\":{},\"id\":\"2172\",\"type\":\"WheelZoomTool\"},{\"attributes\":{\"line_alpha\":0.2,\"line_color\":\"#ff7e0e\",\"line_width\":2,\"x\":{\"field\":\"index\"},\"y\":{\"field\":\"value\"}},\"id\":\"2210\",\"type\":\"Line\"},{\"attributes\":{},\"id\":\"2188\",\"type\":\"Selection\"},{\"attributes\":{\"overlay\":{\"id\":\"2175\"}},\"id\":\"2173\",\"type\":\"BoxZoomTool\"},{\"attributes\":{\"data\":{\"Variable\":[\"predict_1feature\",\"predict_1feature\",\"predict_1feature\",\"predict_1feature\",\"predict_1feature\",\"predict_1feature\",\"predict_1feature\",\"predict_1feature\",\"predict_1feature\",\"predict_1feature\",\"predict_1feature\",\"predict_1feature\",\"predict_1feature\",\"predict_1feature\",\"predict_1feature\",\"predict_1feature\",\"predict_1feature\",\"predict_1feature\",\"predict_1feature\",\"predict_1feature\",\"predict_1feature\",\"predict_1feature\",\"predict_1feature\",\"predict_1feature\",\"predict_1feature\",\"predict_1feature\",\"predict_1feature\",\"predict_1feature\",\"predict_1feature\",\"predict_1feature\",\"predict_1feature\",\"predict_1feature\",\"predict_1feature\",\"predict_1feature\",\"predict_1feature\",\"predict_1feature\",\"predict_1feature\",\"predict_1feature\",\"predict_1feature\",\"predict_1feature\",\"predict_1feature\",\"predict_1feature\",\"predict_1feature\",\"predict_1feature\",\"predict_1feature\",\"predict_1feature\",\"predict_1feature\",\"predict_1feature\",\"predict_1feature\",\"predict_1feature\",\"predict_1feature\",\"predict_1feature\",\"predict_1feature\",\"predict_1feature\",\"predict_1feature\",\"predict_1feature\",\"predict_1feature\",\"predict_1feature\",\"predict_1feature\",\"predict_1feature\",\"predict_1feature\",\"predict_1feature\",\"predict_1feature\",\"predict_1feature\",\"predict_1feature\",\"predict_1feature\",\"predict_1feature\",\"predict_1feature\",\"predict_1feature\",\"predict_1feature\",\"predict_1feature\",\"predict_1feature\",\"predict_1feature\",\"predict_1feature\",\"predict_1feature\",\"predict_1feature\",\"predict_1feature\",\"predict_1feature\",\"predict_1feature\",\"predict_1feature\",\"predict_1feature\",\"predict_1feature\",\"predict_1feature\",\"predict_1feature\",\"predict_1feature\",\"predict_1feature\",\"predict_1feature\",\"predict_1feature\",\"predict_1feature\",\"predict_1feature\",\"predict_1feature\",\"predict_1feature\",\"predict_1feature\",\"predict_1feature\",\"predict_1feature\",\"predict_1feature\",\"predict_1feature\",\"predict_1feature\",\"predict_1feature\",\"predict_1feature\",\"predict_1feature\",\"predict_1feature\",\"predict_1feature\",\"predict_1feature\",\"predict_1feature\",\"predict_1feature\",\"predict_1feature\",\"predict_1feature\",\"predict_1feature\",\"predict_1feature\",\"predict_1feature\",\"predict_1feature\",\"predict_1feature\",\"predict_1feature\",\"predict_1feature\",\"predict_1feature\",\"predict_1feature\",\"predict_1feature\",\"predict_1feature\",\"predict_1feature\",\"predict_1feature\",\"predict_1feature\",\"predict_1feature\",\"predict_1feature\",\"predict_1feature\",\"predict_1feature\",\"predict_1feature\",\"predict_1feature\",\"predict_1feature\",\"predict_1feature\",\"predict_1feature\",\"predict_1feature\",\"predict_1feature\",\"predict_1feature\",\"predict_1feature\",\"predict_1feature\",\"predict_1feature\",\"predict_1feature\",\"predict_1feature\",\"predict_1feature\",\"predict_1feature\",\"predict_1feature\",\"predict_1feature\",\"predict_1feature\",\"predict_1feature\",\"predict_1feature\",\"predict_1feature\"],\"index\":[0,1,2,3,4,5,6,7,8,9,10,11,12,13,14,15,16,17,18,19,20,21,22,23,24,25,26,27,28,29,30,31,32,33,34,35,36,37,38,39,40,41,42,43,44,45,46,47,48,49,50,51,52,53,54,55,56,57,58,59,60,61,62,63,64,65,66,67,68,69,70,71,72,73,74,75,76,77,78,79,80,81,82,83,84,85,86,87,88,89,90,91,92,93,94,95,96,97,98,99,100,101,102,103,104,105,106,107,108,109,110,111,112,113,114,115,116,117,118,119,120,121,122,123,124,125,126,127,128,129,130,131,132,133,134,135,136,137,138,139,140,141,142,143,144,145,146],\"value\":{\"__ndarray__\":\"4IBAP9hqQT/kGEI/TJRDP1w9RD+k30Q/OFdFP4ewRT90uUU/AJFGP16pRz9EK0g/er1IPyosST911kk/PHVLPzbVUT9GxVI/wvRTP/LRVj/clFg/HtVbP+KNXT/ijV0/fst1P37LdT8A4l4/fu9gP8xdYj9q0mM/lKJlP94gZj91+2c/ZLloPwYVaT8eJ2k/0bdpPyj2aT/uAGo/wtxpP0pNaj+Or2o/rLFqPyzXaj/nv2o/jtdqP0B2aj8ajmo/J+tqP+Reaz8IR2s/gntrPwtUaz+sOWw/rDlsP5wffD+cH3w/wBptPwPYbT9R8m4/4jlwPwa0cz+DYXU/kMJ2PxL1dj/MiHY/bh53P7F6dj86NnY/jBt2P8eedT8oHnU/5hB0P4pKcz/7oXE/4ElwP4jhbj+qbm0/6hZsPy/Qaj+2Ymk/qoxoPxVEaD/Zgmg/eWhoP4zNaD8QsGk/6OVqP5zyaz+2JW0/NGZuP1bWbz9W1m8/IllzPyJZcz+TtHA/Dj5xP7ZNcj+yLHM/9M5zP0bZcz+zS3Q/U7pzPxMgcz8+23I/z8FyPwhJdD9kDnQ/sixzPxTWcj/zhXI/MVlyP3CVcj+4k3I/vkpyP1gacj8PqXE/6KdxP3+1cT+5iHI/8Dd0PyhBdT+b8nU/2SF1P0hwdD9mQ3Q/2Ep0P2zacz9isHM/wnRzPwM3cz87kXM/rjJ0PzmidD+si3U/a5R2P5vHdz+4f3g/9j55PwCneT8iK3o/Z256P8y2ej9lUXs//NV7P371ez/6CXw/\",\"dtype\":\"float32\",\"order\":\"little\",\"shape\":[147]}},\"selected\":{\"id\":\"2188\"},\"selection_policy\":{\"id\":\"2201\"}},\"id\":\"2187\",\"type\":\"ColumnDataSource\"},{\"attributes\":{\"line_alpha\":0.1,\"line_color\":\"#2ba02b\",\"line_width\":2,\"x\":{\"field\":\"index\"},\"y\":{\"field\":\"value\"}},\"id\":\"2228\",\"type\":\"Line\"},{\"attributes\":{\"margin\":[5,5,5,5],\"name\":\"HSpacer03973\",\"sizing_mode\":\"stretch_width\"},\"id\":\"2147\",\"type\":\"Spacer\"},{\"attributes\":{\"line_alpha\":0.1,\"line_color\":\"#1f77b3\",\"line_width\":2,\"x\":{\"field\":\"index\"},\"y\":{\"field\":\"value\"}},\"id\":\"2191\",\"type\":\"Line\"},{\"attributes\":{\"line_alpha\":0.2,\"line_color\":\"#2ba02b\",\"line_width\":2,\"x\":{\"field\":\"index\"},\"y\":{\"field\":\"value\"}},\"id\":\"2229\",\"type\":\"Line\"},{\"attributes\":{},\"id\":\"2225\",\"type\":\"Selection\"},{\"attributes\":{},\"id\":\"2186\",\"type\":\"BasicTickFormatter\"},{\"attributes\":{\"line_color\":\"#1f77b3\",\"line_width\":2,\"x\":{\"field\":\"index\"},\"y\":{\"field\":\"value\"}},\"id\":\"2190\",\"type\":\"Line\"},{\"attributes\":{},\"id\":\"2242\",\"type\":\"UnionRenderers\"},{\"attributes\":{},\"id\":\"2158\",\"type\":\"LinearScale\"},{\"attributes\":{\"line_alpha\":0.1,\"line_color\":\"#ff7e0e\",\"line_width\":2,\"x\":{\"field\":\"index\"},\"y\":{\"field\":\"value\"}},\"id\":\"2209\",\"type\":\"Line\"},{\"attributes\":{\"axis_label\":\"\",\"bounds\":\"auto\",\"formatter\":{\"id\":\"2184\"},\"major_label_orientation\":\"horizontal\",\"ticker\":{\"id\":\"2163\"}},\"id\":\"2162\",\"type\":\"LinearAxis\"},{\"attributes\":{\"label\":{\"value\":\"predict_2features\"},\"renderers\":[{\"id\":\"2230\"}]},\"id\":\"2244\",\"type\":\"LegendItem\"},{\"attributes\":{\"end\":146.0,\"reset_end\":146.0,\"reset_start\":0.0,\"tags\":[[[\"index\",\"index\",null]]]},\"id\":\"2148\",\"type\":\"Range1d\"},{\"attributes\":{},\"id\":\"2160\",\"type\":\"LinearScale\"}],\"root_ids\":[\"2146\"]},\"title\":\"Bokeh Application\",\"version\":\"2.2.3\"}};\n",
       "    var render_items = [{\"docid\":\"43d21d7f-e4c9-4ba3-a2c1-a9519628a76f\",\"root_ids\":[\"2146\"],\"roots\":{\"2146\":\"fa3a7a6e-ee5c-4c3c-aca1-fd1cfc3bf0c4\"}}];\n",
       "    root.Bokeh.embed.embed_items_notebook(docs_json, render_items);\n",
       "  }\n",
       "  if (root.Bokeh !== undefined && root.Bokeh.Panel !== undefined) {\n",
       "    embed_document(root);\n",
       "  } else {\n",
       "    var attempts = 0;\n",
       "    var timer = setInterval(function(root) {\n",
       "      if (root.Bokeh !== undefined && root.Bokeh.Panel !== undefined) {\n",
       "        clearInterval(timer);\n",
       "        embed_document(root);\n",
       "      } else if (document.readyState == \"complete\") {\n",
       "        attempts++;\n",
       "        if (attempts > 100) {\n",
       "          clearInterval(timer);\n",
       "          console.log(\"Bokeh: ERROR: Unable to run BokehJS code because BokehJS library is missing\");\n",
       "        }\n",
       "      }\n",
       "    }, 10, root)\n",
       "  }\n",
       "})(window);</script>"
      ],
      "text/plain": [
       ":NdOverlay   [Variable]\n",
       "   :Curve   [index]   (value)"
      ]
     },
     "execution_count": 62,
     "metadata": {
      "application/vnd.holoviews_exec.v0+json": {
       "id": "2146"
      }
     },
     "output_type": "execute_result"
    }
   ],
   "source": [
    "pred_lr_1fvs2f(pred_lstm_lr_1f_df,pred_lstm_lr_2f_df)"
   ]
  },
  {
   "cell_type": "markdown",
   "metadata": {},
   "source": [
    "### (3) Classification"
   ]
  },
  {
   "cell_type": "markdown",
   "metadata": {},
   "source": [
    "#### (a) Dense 1 Feature"
   ]
  },
  {
   "cell_type": "code",
   "execution_count": 63,
   "metadata": {},
   "outputs": [],
   "source": [
    "X, X_train, X_test, y, y_train, y_test = dataset_classification_1f(df_MSFT, \"MSFT\")\n",
    "X, X_train, X_test = scaler_classification_1f(X, X_train, X_test)"
   ]
  },
  {
   "cell_type": "code",
   "execution_count": 64,
   "metadata": {},
   "outputs": [],
   "source": [
    "history, model = dense_cl_1f(X_train, y_train)\n",
    "dic_dense_cl_1f = eva_dense_cl_1f(model, X_test, y_test)"
   ]
  },
  {
   "cell_type": "markdown",
   "metadata": {},
   "source": [
    "#### (b) LSTM 1 Feature"
   ]
  },
  {
   "cell_type": "code",
   "execution_count": 65,
   "metadata": {},
   "outputs": [],
   "source": [
    "history, model = lstm_cl_1f(X_train, y_train)\n",
    "dic_lstm_cl_1f = eva_lstm_cl_1f(model, X_test, y_test)"
   ]
  },
  {
   "cell_type": "markdown",
   "metadata": {},
   "source": [
    "#### (c) Logistic Regression, SVC, Decision Tree Classifier, Random Forest Classifier, XGB Classifier"
   ]
  },
  {
   "cell_type": "code",
   "execution_count": 66,
   "metadata": {},
   "outputs": [
    {
     "name": "stdout",
     "output_type": "stream",
     "text": [
      "[05:17:01] WARNING: C:/Users/Administrator/workspace/xgboost-win64_release_1.3.0/src/learner.cc:1061: Starting in XGBoost 1.3.0, the default evaluation metric used with the objective 'binary:logistic' was changed from 'error' to 'logloss'. Explicitly set eval_metric if you'd like to restore the old behavior.\n"
     ]
    }
   ],
   "source": [
    "sklearn_cl_models_1f = sklearn_cl_models(X_train, y_train, X_test, y_test)"
   ]
  },
  {
   "cell_type": "code",
   "execution_count": 67,
   "metadata": {},
   "outputs": [
    {
     "name": "stdout",
     "output_type": "stream",
     "text": [
      "[05:17:02] WARNING: C:/Users/Administrator/workspace/xgboost-win64_release_1.3.0/src/learner.cc:1061: Starting in XGBoost 1.3.0, the default evaluation metric used with the objective 'binary:logistic' was changed from 'error' to 'logloss'. Explicitly set eval_metric if you'd like to restore the old behavior.\n",
      "[05:17:02] WARNING: C:/Users/Administrator/workspace/xgboost-win64_release_1.3.0/src/learner.cc:1061: Starting in XGBoost 1.3.0, the default evaluation metric used with the objective 'binary:logistic' was changed from 'error' to 'logloss'. Explicitly set eval_metric if you'd like to restore the old behavior.\n",
      "[05:17:03] WARNING: C:/Users/Administrator/workspace/xgboost-win64_release_1.3.0/src/learner.cc:1061: Starting in XGBoost 1.3.0, the default evaluation metric used with the objective 'binary:logistic' was changed from 'error' to 'logloss'. Explicitly set eval_metric if you'd like to restore the old behavior.\n",
      "[05:17:03] WARNING: C:/Users/Administrator/workspace/xgboost-win64_release_1.3.0/src/learner.cc:1061: Starting in XGBoost 1.3.0, the default evaluation metric used with the objective 'binary:logistic' was changed from 'error' to 'logloss'. Explicitly set eval_metric if you'd like to restore the old behavior.\n",
      "[05:17:03] WARNING: C:/Users/Administrator/workspace/xgboost-win64_release_1.3.0/src/learner.cc:1061: Starting in XGBoost 1.3.0, the default evaluation metric used with the objective 'binary:logistic' was changed from 'error' to 'logloss'. Explicitly set eval_metric if you'd like to restore the old behavior.\n"
     ]
    }
   ],
   "source": [
    "sklearn_cl_models_cross_validation_1f = sklearn_cl_models_cross_validation(X, y)"
   ]
  },
  {
   "cell_type": "code",
   "execution_count": 68,
   "metadata": {},
   "outputs": [],
   "source": [
    "svc_optimizer_1f = svc_optimizer(X_train, y_train, X_test, y_test)"
   ]
  },
  {
   "cell_type": "markdown",
   "metadata": {},
   "source": [
    "#### (d) Dense 2 Features"
   ]
  },
  {
   "cell_type": "code",
   "execution_count": 69,
   "metadata": {},
   "outputs": [],
   "source": [
    "X, X_train, X_test, y, y_train, y_test = dataset_classification_2f(df_MSFT, \"MSFT\")\n",
    "X, X_train, X_test = scaler_classification_2f(X, X_train, X_test)"
   ]
  },
  {
   "cell_type": "code",
   "execution_count": 70,
   "metadata": {},
   "outputs": [],
   "source": [
    "history, model = dense_cl_2f(X_train, y_train)\n",
    "dic_dense_cl_2f = eva_dense_cl_2f(model, X_test, y_test)"
   ]
  },
  {
   "cell_type": "markdown",
   "metadata": {},
   "source": [
    "#### (e) LSTM 2 Features"
   ]
  },
  {
   "cell_type": "code",
   "execution_count": 71,
   "metadata": {},
   "outputs": [],
   "source": [
    "history, model = lstm_cl_2f(X_train, y_train)\n",
    "dic_lstm_cl_2f = eva_lstm_cl_2f(model, X_test, y_test)"
   ]
  },
  {
   "cell_type": "markdown",
   "metadata": {},
   "source": [
    "#### (f) Logistic Regression, SVC, Decision Tree Classifier, Random Forest Classifier, XGB Classifier"
   ]
  },
  {
   "cell_type": "code",
   "execution_count": 72,
   "metadata": {},
   "outputs": [
    {
     "name": "stdout",
     "output_type": "stream",
     "text": [
      "[05:17:13] WARNING: C:/Users/Administrator/workspace/xgboost-win64_release_1.3.0/src/learner.cc:1061: Starting in XGBoost 1.3.0, the default evaluation metric used with the objective 'binary:logistic' was changed from 'error' to 'logloss'. Explicitly set eval_metric if you'd like to restore the old behavior.\n"
     ]
    }
   ],
   "source": [
    "sklearn_cl_models_2f = sklearn_cl_models(X_train, y_train, X_test, y_test)"
   ]
  },
  {
   "cell_type": "code",
   "execution_count": 73,
   "metadata": {},
   "outputs": [
    {
     "name": "stdout",
     "output_type": "stream",
     "text": [
      "[05:17:14] WARNING: C:/Users/Administrator/workspace/xgboost-win64_release_1.3.0/src/learner.cc:1061: Starting in XGBoost 1.3.0, the default evaluation metric used with the objective 'binary:logistic' was changed from 'error' to 'logloss'. Explicitly set eval_metric if you'd like to restore the old behavior.\n",
      "[05:17:14] WARNING: C:/Users/Administrator/workspace/xgboost-win64_release_1.3.0/src/learner.cc:1061: Starting in XGBoost 1.3.0, the default evaluation metric used with the objective 'binary:logistic' was changed from 'error' to 'logloss'. Explicitly set eval_metric if you'd like to restore the old behavior.\n",
      "[05:17:14] WARNING: C:/Users/Administrator/workspace/xgboost-win64_release_1.3.0/src/learner.cc:1061: Starting in XGBoost 1.3.0, the default evaluation metric used with the objective 'binary:logistic' was changed from 'error' to 'logloss'. Explicitly set eval_metric if you'd like to restore the old behavior.\n",
      "[05:17:15] WARNING: C:/Users/Administrator/workspace/xgboost-win64_release_1.3.0/src/learner.cc:1061: Starting in XGBoost 1.3.0, the default evaluation metric used with the objective 'binary:logistic' was changed from 'error' to 'logloss'. Explicitly set eval_metric if you'd like to restore the old behavior.\n",
      "[05:17:15] WARNING: C:/Users/Administrator/workspace/xgboost-win64_release_1.3.0/src/learner.cc:1061: Starting in XGBoost 1.3.0, the default evaluation metric used with the objective 'binary:logistic' was changed from 'error' to 'logloss'. Explicitly set eval_metric if you'd like to restore the old behavior.\n"
     ]
    }
   ],
   "source": [
    "sklearn_cl_models_cross_validation_2f = sklearn_cl_models_cross_validation(X, y)"
   ]
  },
  {
   "cell_type": "code",
   "execution_count": 74,
   "metadata": {},
   "outputs": [],
   "source": [
    "svc_optimizer_2f = svc_optimizer(X_train, y_train, X_test, y_test)"
   ]
  },
  {
   "cell_type": "markdown",
   "metadata": {},
   "source": [
    "### (g) Scores between 1 Feature and 2 Features"
   ]
  },
  {
   "cell_type": "code",
   "execution_count": 75,
   "metadata": {},
   "outputs": [
    {
     "data": {
      "text/html": [
       "<div>\n",
       "<style scoped>\n",
       "    .dataframe tbody tr th:only-of-type {\n",
       "        vertical-align: middle;\n",
       "    }\n",
       "\n",
       "    .dataframe tbody tr th {\n",
       "        vertical-align: top;\n",
       "    }\n",
       "\n",
       "    .dataframe thead th {\n",
       "        text-align: right;\n",
       "    }\n",
       "</style>\n",
       "<table border=\"1\" class=\"dataframe\">\n",
       "  <thead>\n",
       "    <tr style=\"text-align: right;\">\n",
       "      <th></th>\n",
       "      <th>1 Feature</th>\n",
       "      <th>2 Features</th>\n",
       "      <th>sentiment_impact</th>\n",
       "    </tr>\n",
       "  </thead>\n",
       "  <tbody>\n",
       "    <tr>\n",
       "      <th>DecisionTreeClassifier</th>\n",
       "      <td>0.531915</td>\n",
       "      <td>0.489362</td>\n",
       "      <td>-0.042553</td>\n",
       "    </tr>\n",
       "    <tr>\n",
       "      <th>DecisionTreeClassifier (Cross Validation)</th>\n",
       "      <td>0.410385</td>\n",
       "      <td>0.403262</td>\n",
       "      <td>-0.007123</td>\n",
       "    </tr>\n",
       "    <tr>\n",
       "      <th>Dense</th>\n",
       "      <td>0.531915</td>\n",
       "      <td>0.531915</td>\n",
       "      <td>0.000000</td>\n",
       "    </tr>\n",
       "    <tr>\n",
       "      <th>LSTM</th>\n",
       "      <td>0.531915</td>\n",
       "      <td>0.531915</td>\n",
       "      <td>0.000000</td>\n",
       "    </tr>\n",
       "    <tr>\n",
       "      <th>LogisticRegression</th>\n",
       "      <td>0.531915</td>\n",
       "      <td>0.531915</td>\n",
       "      <td>0.000000</td>\n",
       "    </tr>\n",
       "    <tr>\n",
       "      <th>LogisticRegression (Cross Validation)</th>\n",
       "      <td>0.527072</td>\n",
       "      <td>0.535583</td>\n",
       "      <td>0.008511</td>\n",
       "    </tr>\n",
       "    <tr>\n",
       "      <th>RandomForestClassifier</th>\n",
       "      <td>0.531915</td>\n",
       "      <td>0.503546</td>\n",
       "      <td>-0.028369</td>\n",
       "    </tr>\n",
       "    <tr>\n",
       "      <th>RandomForestClassifier (Cross Validation)</th>\n",
       "      <td>0.410385</td>\n",
       "      <td>0.406069</td>\n",
       "      <td>-0.004316</td>\n",
       "    </tr>\n",
       "    <tr>\n",
       "      <th>SVC</th>\n",
       "      <td>0.531915</td>\n",
       "      <td>0.531915</td>\n",
       "      <td>0.000000</td>\n",
       "    </tr>\n",
       "    <tr>\n",
       "      <th>SVC (Cross Validation)</th>\n",
       "      <td>0.504377</td>\n",
       "      <td>0.515724</td>\n",
       "      <td>0.011348</td>\n",
       "    </tr>\n",
       "    <tr>\n",
       "      <th>SVC (Grid Search)</th>\n",
       "      <td>0.531915</td>\n",
       "      <td>0.531915</td>\n",
       "      <td>0.000000</td>\n",
       "    </tr>\n",
       "    <tr>\n",
       "      <th>XGBClassifier</th>\n",
       "      <td>0.468085</td>\n",
       "      <td>0.468085</td>\n",
       "      <td>0.000000</td>\n",
       "    </tr>\n",
       "    <tr>\n",
       "      <th>XGBClassifier (Cross Validation)</th>\n",
       "      <td>0.408956</td>\n",
       "      <td>0.398967</td>\n",
       "      <td>-0.009990</td>\n",
       "    </tr>\n",
       "  </tbody>\n",
       "</table>\n",
       "</div>"
      ],
      "text/plain": [
       "                                           1 Feature  2 Features  \\\n",
       "DecisionTreeClassifier                      0.531915    0.489362   \n",
       "DecisionTreeClassifier (Cross Validation)   0.410385    0.403262   \n",
       "Dense                                       0.531915    0.531915   \n",
       "LSTM                                        0.531915    0.531915   \n",
       "LogisticRegression                          0.531915    0.531915   \n",
       "LogisticRegression (Cross Validation)       0.527072    0.535583   \n",
       "RandomForestClassifier                      0.531915    0.503546   \n",
       "RandomForestClassifier (Cross Validation)   0.410385    0.406069   \n",
       "SVC                                         0.531915    0.531915   \n",
       "SVC (Cross Validation)                      0.504377    0.515724   \n",
       "SVC (Grid Search)                           0.531915    0.531915   \n",
       "XGBClassifier                               0.468085    0.468085   \n",
       "XGBClassifier (Cross Validation)            0.408956    0.398967   \n",
       "\n",
       "                                           sentiment_impact  \n",
       "DecisionTreeClassifier                            -0.042553  \n",
       "DecisionTreeClassifier (Cross Validation)         -0.007123  \n",
       "Dense                                              0.000000  \n",
       "LSTM                                               0.000000  \n",
       "LogisticRegression                                 0.000000  \n",
       "LogisticRegression (Cross Validation)              0.008511  \n",
       "RandomForestClassifier                            -0.028369  \n",
       "RandomForestClassifier (Cross Validation)         -0.004316  \n",
       "SVC                                                0.000000  \n",
       "SVC (Cross Validation)                             0.011348  \n",
       "SVC (Grid Search)                                  0.000000  \n",
       "XGBClassifier                                      0.000000  \n",
       "XGBClassifier (Cross Validation)                  -0.009990  "
      ]
     },
     "execution_count": 75,
     "metadata": {},
     "output_type": "execute_result"
    }
   ],
   "source": [
    "score_df = score_df(dic_dense_cl_1f,\n",
    "                    dic_lstm_cl_1f,\n",
    "                    sklearn_cl_models_1f,\n",
    "                    sklearn_cl_models_cross_validation_1f,\n",
    "                    svc_optimizer_1f,\n",
    "                    dic_dense_cl_2f,\n",
    "                    dic_lstm_cl_2f,\n",
    "                    sklearn_cl_models_2f,\n",
    "                    sklearn_cl_models_cross_validation_2f,\n",
    "                    svc_optimizer_2f\n",
    "                   )\n",
    "\n",
    "score_df"
   ]
  },
  {
   "cell_type": "code",
   "execution_count": null,
   "metadata": {},
   "outputs": [],
   "source": []
  },
  {
   "cell_type": "markdown",
   "metadata": {},
   "source": [
    "## 2. SNE"
   ]
  },
  {
   "cell_type": "markdown",
   "metadata": {},
   "source": [
    "### (1) Data Creation"
   ]
  },
  {
   "cell_type": "code",
   "execution_count": 42,
   "metadata": {},
   "outputs": [
    {
     "data": {
      "text/html": [
       "<div>\n",
       "<style scoped>\n",
       "    .dataframe tbody tr th:only-of-type {\n",
       "        vertical-align: middle;\n",
       "    }\n",
       "\n",
       "    .dataframe tbody tr th {\n",
       "        vertical-align: top;\n",
       "    }\n",
       "\n",
       "    .dataframe thead th {\n",
       "        text-align: right;\n",
       "    }\n",
       "</style>\n",
       "<table border=\"1\" class=\"dataframe\">\n",
       "  <thead>\n",
       "    <tr style=\"text-align: right;\">\n",
       "      <th></th>\n",
       "      <th>MSFT</th>\n",
       "      <th>SMA20</th>\n",
       "      <th>daily_return</th>\n",
       "      <th>actual_signal</th>\n",
       "      <th>avg_sentiments</th>\n",
       "      <th>SMA_shift</th>\n",
       "    </tr>\n",
       "    <tr>\n",
       "      <th>Date</th>\n",
       "      <th></th>\n",
       "      <th></th>\n",
       "      <th></th>\n",
       "      <th></th>\n",
       "      <th></th>\n",
       "      <th></th>\n",
       "    </tr>\n",
       "  </thead>\n",
       "  <tbody>\n",
       "    <tr>\n",
       "      <th>2015-01-16</th>\n",
       "      <td>46.22</td>\n",
       "      <td>NaN</td>\n",
       "      <td>0.016271</td>\n",
       "      <td>1.0</td>\n",
       "      <td>NaN</td>\n",
       "      <td>NaN</td>\n",
       "    </tr>\n",
       "    <tr>\n",
       "      <th>2015-01-20</th>\n",
       "      <td>46.39</td>\n",
       "      <td>NaN</td>\n",
       "      <td>0.003678</td>\n",
       "      <td>1.0</td>\n",
       "      <td>0.4767</td>\n",
       "      <td>NaN</td>\n",
       "    </tr>\n",
       "    <tr>\n",
       "      <th>2015-01-21</th>\n",
       "      <td>45.91</td>\n",
       "      <td>NaN</td>\n",
       "      <td>-0.010347</td>\n",
       "      <td>0.0</td>\n",
       "      <td>0.0000</td>\n",
       "      <td>NaN</td>\n",
       "    </tr>\n",
       "    <tr>\n",
       "      <th>2015-01-22</th>\n",
       "      <td>47.12</td>\n",
       "      <td>NaN</td>\n",
       "      <td>0.026356</td>\n",
       "      <td>1.0</td>\n",
       "      <td>NaN</td>\n",
       "      <td>NaN</td>\n",
       "    </tr>\n",
       "    <tr>\n",
       "      <th>2015-01-23</th>\n",
       "      <td>47.18</td>\n",
       "      <td>NaN</td>\n",
       "      <td>0.001273</td>\n",
       "      <td>1.0</td>\n",
       "      <td>NaN</td>\n",
       "      <td>NaN</td>\n",
       "    </tr>\n",
       "  </tbody>\n",
       "</table>\n",
       "</div>"
      ],
      "text/plain": [
       "             MSFT  SMA20  daily_return  actual_signal  avg_sentiments  \\\n",
       "Date                                                                    \n",
       "2015-01-16  46.22    NaN      0.016271            1.0             NaN   \n",
       "2015-01-20  46.39    NaN      0.003678            1.0          0.4767   \n",
       "2015-01-21  45.91    NaN     -0.010347            0.0          0.0000   \n",
       "2015-01-22  47.12    NaN      0.026356            1.0             NaN   \n",
       "2015-01-23  47.18    NaN      0.001273            1.0             NaN   \n",
       "\n",
       "            SMA_shift  \n",
       "Date                   \n",
       "2015-01-16        NaN  \n",
       "2015-01-20        NaN  \n",
       "2015-01-21        NaN  \n",
       "2015-01-22        NaN  \n",
       "2015-01-23        NaN  "
      ]
     },
     "execution_count": 42,
     "metadata": {},
     "output_type": "execute_result"
    }
   ],
   "source": [
    "df=read_file(\"SNE\")\n",
    "df1=sentiment_analysis(df)\n",
    "df2=stock_prices()\n",
    "df3=manipulate_df(df2, 'SNE')\n",
    "df_MSFT=final_df(df3, df1, 'SNE')\n",
    "df_MSFT.head()"
   ]
  },
  {
   "cell_type": "markdown",
   "metadata": {},
   "source": [
    "### (2) Regression"
   ]
  },
  {
   "cell_type": "markdown",
   "metadata": {},
   "source": [
    "#### (a) Dense 1 feature"
   ]
  },
  {
   "cell_type": "code",
   "execution_count": 43,
   "metadata": {},
   "outputs": [],
   "source": [
    "X, X_train, X_test, y, y_train, y_test=dataset_regression_1f(df_MSFT, 'SNE')\n",
    "X, X_train, X_test, y, y_train, y_test=scaler_regression_1f(X, X_train, X_test, y, y_train, y_test)"
   ]
  },
  {
   "cell_type": "code",
   "execution_count": 44,
   "metadata": {},
   "outputs": [],
   "source": [
    "msft_dense_lr_1f_history, msft_dense_lr_1f_model =dense_lr_1f(X_train, y_train)"
   ]
  },
  {
   "cell_type": "code",
   "execution_count": 45,
   "metadata": {},
   "outputs": [],
   "source": [
    "score_dense_lr_1f_df = score_dense_lr_1f(msft_dense_lr_1f_history)"
   ]
  },
  {
   "cell_type": "code",
   "execution_count": 46,
   "metadata": {},
   "outputs": [],
   "source": [
    "pred_dense_lr_1f_df = pred_dense_lr_1f(msft_dense_lr_1f_model, X_test, y_test)"
   ]
  },
  {
   "cell_type": "markdown",
   "metadata": {},
   "source": [
    "#### (b) LSTM 1 feature"
   ]
  },
  {
   "cell_type": "code",
   "execution_count": 47,
   "metadata": {},
   "outputs": [],
   "source": [
    "msft_lstm_lr_1f_history, msft_lstm_lr_1f_model =lstm_lr_1f(X_train, y_train)"
   ]
  },
  {
   "cell_type": "code",
   "execution_count": 48,
   "metadata": {},
   "outputs": [],
   "source": [
    "score_lstm_lr_1f_df = score_lstm_lr_1f(msft_lstm_lr_1f_history)"
   ]
  },
  {
   "cell_type": "code",
   "execution_count": 49,
   "metadata": {},
   "outputs": [],
   "source": [
    "pred_lstm_lr_1f_df = pred_lstm_lr_1f(msft_lstm_lr_1f_model, X_test, y_test)"
   ]
  },
  {
   "cell_type": "markdown",
   "metadata": {},
   "source": [
    "#### (c) Dense 2 features"
   ]
  },
  {
   "cell_type": "code",
   "execution_count": 50,
   "metadata": {},
   "outputs": [],
   "source": [
    "X, X_train, X_test, y, y_train, y_test=dataset_regression_2f(df_MSFT, 'SNE')\n",
    "X, X_train, X_test, y, y_train, y_test=scaler_regression_2f(X, X_train, X_test, y, y_train, y_test)"
   ]
  },
  {
   "cell_type": "code",
   "execution_count": 51,
   "metadata": {},
   "outputs": [],
   "source": [
    "msft_dense_lr_2f_history, msft_dense_lr_2f_model = dense_lr_2f(X_train, y_train)"
   ]
  },
  {
   "cell_type": "code",
   "execution_count": 52,
   "metadata": {},
   "outputs": [],
   "source": [
    "score_dense_lr_2f_df = score_dense_lr_2f(msft_dense_lr_2f_history)"
   ]
  },
  {
   "cell_type": "code",
   "execution_count": 53,
   "metadata": {},
   "outputs": [],
   "source": [
    "pred_dense_lr_2f_df = pred_dense_lr_2f(msft_dense_lr_2f_model, X_test, y_test)"
   ]
  },
  {
   "cell_type": "markdown",
   "metadata": {},
   "source": [
    "#### (d) LSTM 2 features"
   ]
  },
  {
   "cell_type": "code",
   "execution_count": 54,
   "metadata": {},
   "outputs": [],
   "source": [
    "msft_lstm_lr_2f_history, msft_lstm_lr_2f_model = lstm_lr_2f(X_train, y_train)"
   ]
  },
  {
   "cell_type": "code",
   "execution_count": 55,
   "metadata": {},
   "outputs": [],
   "source": [
    "score_lstm_lr_2f_df = score_lstm_lr_2f(msft_lstm_lr_2f_history)"
   ]
  },
  {
   "cell_type": "code",
   "execution_count": 56,
   "metadata": {},
   "outputs": [],
   "source": [
    "pred_lstm_lr_2f_df = pred_lstm_lr_2f(msft_lstm_lr_2f_model, X_test, y_test)"
   ]
  },
  {
   "cell_type": "markdown",
   "metadata": {},
   "source": [
    "#### (e) Visualization"
   ]
  },
  {
   "cell_type": "code",
   "execution_count": 57,
   "metadata": {},
   "outputs": [
    {
     "data": {
      "application/vnd.holoviews_exec.v0+json": "",
      "text/html": [
       "<div id='1001'>\n",
       "\n",
       "\n",
       "\n",
       "\n",
       "\n",
       "  <div class=\"bk-root\" id=\"1b9b28c4-6a32-43e1-a2a5-1add7dda3c50\" data-root-id=\"1001\"></div>\n",
       "</div>\n",
       "<script type=\"application/javascript\">(function(root) {\n",
       "  function embed_document(root) {\n",
       "    var docs_json = {\"529406ea-0595-4503-8c48-341c44b33a42\":{\"roots\":{\"references\":[{\"attributes\":{},\"id\":\"1017\",\"type\":\"BasicTicker\"},{\"attributes\":{\"axis_label\":\"\",\"bounds\":\"auto\",\"formatter\":{\"id\":\"1040\"},\"major_label_orientation\":\"horizontal\",\"ticker\":{\"id\":\"1021\"}},\"id\":\"1020\",\"type\":\"LinearAxis\"},{\"attributes\":{\"line_alpha\":0.1,\"line_color\":\"#1f77b3\",\"line_width\":2,\"x\":{\"field\":\"index\"},\"y\":{\"field\":\"value\"}},\"id\":\"1045\",\"type\":\"Line\"},{\"attributes\":{\"below\":[{\"id\":\"1016\"}],\"center\":[{\"id\":\"1019\"},{\"id\":\"1023\"}],\"left\":[{\"id\":\"1020\"}],\"margin\":[5,5,5,5],\"min_border_bottom\":10,\"min_border_left\":10,\"min_border_right\":10,\"min_border_top\":10,\"plot_height\":300,\"plot_width\":700,\"renderers\":[{\"id\":\"1047\"},{\"id\":\"1065\"}],\"right\":[{\"id\":\"1057\"}],\"sizing_mode\":\"fixed\",\"title\":{\"id\":\"1008\"},\"toolbar\":{\"id\":\"1030\"},\"x_range\":{\"id\":\"1003\"},\"x_scale\":{\"id\":\"1012\"},\"y_range\":{\"id\":\"1004\"},\"y_scale\":{\"id\":\"1014\"}},\"id\":\"1007\",\"subtype\":\"Figure\",\"type\":\"Plot\"},{\"attributes\":{\"line_alpha\":0.1,\"line_color\":\"#ff7e0e\",\"line_width\":2,\"x\":{\"field\":\"index\"},\"y\":{\"field\":\"value\"}},\"id\":\"1063\",\"type\":\"Line\"},{\"attributes\":{\"end\":0.14323489093221725,\"reset_end\":0.14323489093221725,\"reset_start\":-0.007471426902338863,\"start\":-0.007471426902338863,\"tags\":[[[\"value\",\"value\",null]]]},\"id\":\"1004\",\"type\":\"Range1d\"},{\"attributes\":{\"source\":{\"id\":\"1059\"}},\"id\":\"1066\",\"type\":\"CDSView\"},{\"attributes\":{},\"id\":\"1060\",\"type\":\"Selection\"},{\"attributes\":{\"data_source\":{\"id\":\"1041\"},\"glyph\":{\"id\":\"1044\"},\"hover_glyph\":null,\"muted_glyph\":{\"id\":\"1046\"},\"nonselection_glyph\":{\"id\":\"1045\"},\"selection_glyph\":null,\"view\":{\"id\":\"1048\"}},\"id\":\"1047\",\"type\":\"GlyphRenderer\"},{\"attributes\":{\"active_drag\":\"auto\",\"active_inspect\":\"auto\",\"active_multi\":null,\"active_scroll\":\"auto\",\"active_tap\":\"auto\",\"tools\":[{\"id\":\"1005\"},{\"id\":\"1024\"},{\"id\":\"1025\"},{\"id\":\"1026\"},{\"id\":\"1027\"},{\"id\":\"1028\"}]},\"id\":\"1030\",\"type\":\"Toolbar\"},{\"attributes\":{\"line_color\":\"#ff7e0e\",\"line_width\":2,\"x\":{\"field\":\"index\"},\"y\":{\"field\":\"value\"}},\"id\":\"1062\",\"type\":\"Line\"},{\"attributes\":{\"callback\":null,\"renderers\":[{\"id\":\"1047\"},{\"id\":\"1065\"}],\"tags\":[\"hv_created\"],\"tooltips\":[[\"Variable\",\"@{Variable}\"],[\"index\",\"@{index}\"],[\"value\",\"@{value}\"]]},\"id\":\"1005\",\"type\":\"HoverTool\"},{\"attributes\":{\"axis\":{\"id\":\"1016\"},\"grid_line_color\":null,\"ticker\":null},\"id\":\"1019\",\"type\":\"Grid\"},{\"attributes\":{\"click_policy\":\"mute\",\"items\":[{\"id\":\"1058\"},{\"id\":\"1077\"}],\"location\":[0,0],\"title\":\"Variable\"},\"id\":\"1057\",\"type\":\"Legend\"},{\"attributes\":{\"label\":{\"value\":\"loss_1f\"},\"renderers\":[{\"id\":\"1047\"}]},\"id\":\"1058\",\"type\":\"LegendItem\"},{\"attributes\":{},\"id\":\"1055\",\"type\":\"UnionRenderers\"},{\"attributes\":{\"axis\":{\"id\":\"1020\"},\"dimension\":1,\"grid_line_color\":null,\"ticker\":null},\"id\":\"1023\",\"type\":\"Grid\"},{\"attributes\":{\"line_color\":\"#1f77b3\",\"line_width\":2,\"x\":{\"field\":\"index\"},\"y\":{\"field\":\"value\"}},\"id\":\"1044\",\"type\":\"Line\"},{\"attributes\":{},\"id\":\"1075\",\"type\":\"UnionRenderers\"},{\"attributes\":{},\"id\":\"1021\",\"type\":\"BasicTicker\"},{\"attributes\":{\"label\":{\"value\":\"loss_2f\"},\"renderers\":[{\"id\":\"1065\"}]},\"id\":\"1077\",\"type\":\"LegendItem\"},{\"attributes\":{\"end\":23.0,\"reset_end\":23.0,\"reset_start\":1.0,\"start\":1.0,\"tags\":[[[\"index\",\"index\",null]]]},\"id\":\"1003\",\"type\":\"Range1d\"},{\"attributes\":{\"bottom_units\":\"screen\",\"fill_alpha\":0.5,\"fill_color\":\"lightgrey\",\"left_units\":\"screen\",\"level\":\"overlay\",\"line_alpha\":1.0,\"line_color\":\"black\",\"line_dash\":[4,4],\"line_width\":2,\"right_units\":\"screen\",\"top_units\":\"screen\"},\"id\":\"1029\",\"type\":\"BoxAnnotation\"},{\"attributes\":{\"children\":[{\"id\":\"1002\"},{\"id\":\"1007\"},{\"id\":\"1168\"}],\"margin\":[0,0,0,0],\"name\":\"Row01558\",\"tags\":[\"embedded\"]},\"id\":\"1001\",\"type\":\"Row\"},{\"attributes\":{\"line_alpha\":0.2,\"line_color\":\"#1f77b3\",\"line_width\":2,\"x\":{\"field\":\"index\"},\"y\":{\"field\":\"value\"}},\"id\":\"1046\",\"type\":\"Line\"},{\"attributes\":{\"margin\":[5,5,5,5],\"name\":\"HSpacer01562\",\"sizing_mode\":\"stretch_width\"},\"id\":\"1002\",\"type\":\"Spacer\"},{\"attributes\":{},\"id\":\"1038\",\"type\":\"BasicTickFormatter\"},{\"attributes\":{},\"id\":\"1040\",\"type\":\"BasicTickFormatter\"},{\"attributes\":{\"line_alpha\":0.2,\"line_color\":\"#ff7e0e\",\"line_width\":2,\"x\":{\"field\":\"index\"},\"y\":{\"field\":\"value\"}},\"id\":\"1064\",\"type\":\"Line\"},{\"attributes\":{},\"id\":\"1024\",\"type\":\"SaveTool\"},{\"attributes\":{\"axis_label\":\"\",\"bounds\":\"auto\",\"formatter\":{\"id\":\"1038\"},\"major_label_orientation\":\"horizontal\",\"ticker\":{\"id\":\"1017\"}},\"id\":\"1016\",\"type\":\"LinearAxis\"},{\"attributes\":{},\"id\":\"1025\",\"type\":\"PanTool\"},{\"attributes\":{\"source\":{\"id\":\"1041\"}},\"id\":\"1048\",\"type\":\"CDSView\"},{\"attributes\":{},\"id\":\"1028\",\"type\":\"ResetTool\"},{\"attributes\":{},\"id\":\"1026\",\"type\":\"WheelZoomTool\"},{\"attributes\":{\"data\":{\"Variable\":[\"loss_1f\",\"loss_1f\",\"loss_1f\",\"loss_1f\",\"loss_1f\",\"loss_1f\",\"loss_1f\",\"loss_1f\",\"loss_1f\",\"loss_1f\",\"loss_1f\",\"loss_1f\",\"loss_1f\",\"loss_1f\",\"loss_1f\",\"loss_1f\",\"loss_1f\",\"loss_1f\",\"loss_1f\",\"loss_1f\",\"loss_1f\",\"loss_1f\",\"loss_1f\"],\"index\":[1,2,3,4,5,6,7,8,9,10,11,12,13,14,15,16,17,18,19,20,21,22,23],\"value\":{\"__ndarray__\":\"AAAAAP65wD8AAABgdlmyPwAAAKBzrKU/AAAA4ATonD8AAADgiDKYPwAAAOAREpc/AAAAYA0klD8AAACAdAKSPwAAAECuGJA/AAAAICzliz8AAAAAgAuGPwAAAEC+F4g/AAAAAF6hgj8AAAAAOFiDPwAAAEAhqIA/AAAAAHbSgT8AAADgQ6mAPwAAAKAgTH0/AAAAAH6sdj8AAACgVKJ+PwAAAODqhXg/AAAAoDFRez8AAAAAAAD4fw==\",\"dtype\":\"float64\",\"order\":\"little\",\"shape\":[23]}},\"selected\":{\"id\":\"1042\"},\"selection_policy\":{\"id\":\"1055\"}},\"id\":\"1041\",\"type\":\"ColumnDataSource\"},{\"attributes\":{\"overlay\":{\"id\":\"1029\"}},\"id\":\"1027\",\"type\":\"BoxZoomTool\"},{\"attributes\":{},\"id\":\"1012\",\"type\":\"LinearScale\"},{\"attributes\":{\"data\":{\"Variable\":[\"loss_2f\",\"loss_2f\",\"loss_2f\",\"loss_2f\",\"loss_2f\",\"loss_2f\",\"loss_2f\",\"loss_2f\",\"loss_2f\",\"loss_2f\",\"loss_2f\",\"loss_2f\",\"loss_2f\",\"loss_2f\",\"loss_2f\",\"loss_2f\",\"loss_2f\",\"loss_2f\",\"loss_2f\",\"loss_2f\",\"loss_2f\",\"loss_2f\",\"loss_2f\"],\"index\":[1,2,3,4,5,6,7,8,9,10,11,12,13,14,15,16,17,18,19,20,21,22,23],\"value\":{\"__ndarray__\":\"AAAAwP/eqz8AAAAATlWfPwAAAGAZeZQ/AAAAIHhtkT8AAACADO6GPwAAAODMLYg/AAAAoDYahj8AAACARueAPwAAAABAj4E/AAAA4EZWgD8AAABAbRyCPwAAAADBxH0/AAAAwGvIgD8AAACAbhSBPwAAAABa2no/AAAAoD3deD8AAADAsUN/PwAAAGApVHU/AAAAgPmNeT8AAABgj9Z0PwAAACBhbns/AAAAoLi3dj8AAACACtB3Pw==\",\"dtype\":\"float64\",\"order\":\"little\",\"shape\":[23]}},\"selected\":{\"id\":\"1060\"},\"selection_policy\":{\"id\":\"1075\"}},\"id\":\"1059\",\"type\":\"ColumnDataSource\"},{\"attributes\":{},\"id\":\"1042\",\"type\":\"Selection\"},{\"attributes\":{\"text\":\"\",\"text_color\":{\"value\":\"black\"},\"text_font_size\":{\"value\":\"12pt\"}},\"id\":\"1008\",\"type\":\"Title\"},{\"attributes\":{\"data_source\":{\"id\":\"1059\"},\"glyph\":{\"id\":\"1062\"},\"hover_glyph\":null,\"muted_glyph\":{\"id\":\"1064\"},\"nonselection_glyph\":{\"id\":\"1063\"},\"selection_glyph\":null,\"view\":{\"id\":\"1066\"}},\"id\":\"1065\",\"type\":\"GlyphRenderer\"},{\"attributes\":{},\"id\":\"1014\",\"type\":\"LinearScale\"},{\"attributes\":{\"margin\":[5,5,5,5],\"name\":\"HSpacer01563\",\"sizing_mode\":\"stretch_width\"},\"id\":\"1168\",\"type\":\"Spacer\"}],\"root_ids\":[\"1001\"]},\"title\":\"Bokeh Application\",\"version\":\"2.2.3\"}};\n",
       "    var render_items = [{\"docid\":\"529406ea-0595-4503-8c48-341c44b33a42\",\"root_ids\":[\"1001\"],\"roots\":{\"1001\":\"1b9b28c4-6a32-43e1-a2a5-1add7dda3c50\"}}];\n",
       "    root.Bokeh.embed.embed_items_notebook(docs_json, render_items);\n",
       "  }\n",
       "  if (root.Bokeh !== undefined && root.Bokeh.Panel !== undefined) {\n",
       "    embed_document(root);\n",
       "  } else {\n",
       "    var attempts = 0;\n",
       "    var timer = setInterval(function(root) {\n",
       "      if (root.Bokeh !== undefined && root.Bokeh.Panel !== undefined) {\n",
       "        clearInterval(timer);\n",
       "        embed_document(root);\n",
       "      } else if (document.readyState == \"complete\") {\n",
       "        attempts++;\n",
       "        if (attempts > 100) {\n",
       "          clearInterval(timer);\n",
       "          console.log(\"Bokeh: ERROR: Unable to run BokehJS code because BokehJS library is missing\");\n",
       "        }\n",
       "      }\n",
       "    }, 10, root)\n",
       "  }\n",
       "})(window);</script>"
      ],
      "text/plain": [
       ":NdOverlay   [Variable]\n",
       "   :Curve   [index]   (value)"
      ]
     },
     "execution_count": 57,
     "metadata": {
      "application/vnd.holoviews_exec.v0+json": {
       "id": "1001"
      }
     },
     "output_type": "execute_result"
    }
   ],
   "source": [
    "score_loss_lr_1fvs2f(score_dense_lr_1f_df, score_dense_lr_2f_df)"
   ]
  },
  {
   "cell_type": "code",
   "execution_count": 58,
   "metadata": {},
   "outputs": [
    {
     "data": {
      "application/vnd.holoviews_exec.v0+json": "",
      "text/html": [
       "<div id='1220'>\n",
       "\n",
       "\n",
       "\n",
       "\n",
       "\n",
       "  <div class=\"bk-root\" id=\"1d085996-6aa6-4cac-900a-4bf51ea7b775\" data-root-id=\"1220\"></div>\n",
       "</div>\n",
       "<script type=\"application/javascript\">(function(root) {\n",
       "  function embed_document(root) {\n",
       "    var docs_json = {\"88c3fd6a-3847-433b-8c89-ced8721b5e20\":{\"roots\":{\"references\":[{\"attributes\":{},\"id\":\"1247\",\"type\":\"ResetTool\"},{\"attributes\":{},\"id\":\"1245\",\"type\":\"WheelZoomTool\"},{\"attributes\":{},\"id\":\"1244\",\"type\":\"PanTool\"},{\"attributes\":{},\"id\":\"1279\",\"type\":\"Selection\"},{\"attributes\":{\"overlay\":{\"id\":\"1248\"}},\"id\":\"1246\",\"type\":\"BoxZoomTool\"},{\"attributes\":{\"source\":{\"id\":\"1260\"}},\"id\":\"1267\",\"type\":\"CDSView\"},{\"attributes\":{},\"id\":\"1257\",\"type\":\"BasicTickFormatter\"},{\"attributes\":{},\"id\":\"1259\",\"type\":\"BasicTickFormatter\"},{\"attributes\":{\"text\":\"\",\"text_color\":{\"value\":\"black\"},\"text_font_size\":{\"value\":\"12pt\"}},\"id\":\"1227\",\"type\":\"Title\"},{\"attributes\":{\"line_alpha\":0.1,\"line_color\":\"#ff7e0e\",\"line_width\":2,\"x\":{\"field\":\"index\"},\"y\":{\"field\":\"value\"}},\"id\":\"1282\",\"type\":\"Line\"},{\"attributes\":{\"data_source\":{\"id\":\"1278\"},\"glyph\":{\"id\":\"1281\"},\"hover_glyph\":null,\"muted_glyph\":{\"id\":\"1283\"},\"nonselection_glyph\":{\"id\":\"1282\"},\"selection_glyph\":null,\"view\":{\"id\":\"1285\"}},\"id\":\"1284\",\"type\":\"GlyphRenderer\"},{\"attributes\":{},\"id\":\"1231\",\"type\":\"LinearScale\"},{\"attributes\":{\"axis_label\":\"\",\"bounds\":\"auto\",\"formatter\":{\"id\":\"1257\"},\"major_label_orientation\":\"horizontal\",\"ticker\":{\"id\":\"1236\"}},\"id\":\"1235\",\"type\":\"LinearAxis\"},{\"attributes\":{},\"id\":\"1233\",\"type\":\"LinearScale\"},{\"attributes\":{},\"id\":\"1236\",\"type\":\"BasicTicker\"},{\"attributes\":{},\"id\":\"1261\",\"type\":\"Selection\"},{\"attributes\":{\"margin\":[5,5,5,5],\"name\":\"HSpacer02009\",\"sizing_mode\":\"stretch_width\"},\"id\":\"1387\",\"type\":\"Spacer\"},{\"attributes\":{\"axis\":{\"id\":\"1235\"},\"grid_line_color\":null,\"ticker\":null},\"id\":\"1238\",\"type\":\"Grid\"},{\"attributes\":{\"click_policy\":\"mute\",\"items\":[{\"id\":\"1277\"},{\"id\":\"1296\"}],\"location\":[0,0],\"title\":\"Variable\"},\"id\":\"1276\",\"type\":\"Legend\"},{\"attributes\":{\"end\":0.2944421749562025,\"reset_end\":0.2944421749562025,\"reset_start\":0.027774116024374962,\"start\":0.027774116024374962,\"tags\":[[[\"value\",\"value\",null]]]},\"id\":\"1223\",\"type\":\"Range1d\"},{\"attributes\":{\"line_color\":\"#1f77b3\",\"line_width\":2,\"x\":{\"field\":\"index\"},\"y\":{\"field\":\"value\"}},\"id\":\"1263\",\"type\":\"Line\"},{\"attributes\":{\"label\":{\"value\":\"mae_1f\"},\"renderers\":[{\"id\":\"1266\"}]},\"id\":\"1277\",\"type\":\"LegendItem\"},{\"attributes\":{\"active_drag\":\"auto\",\"active_inspect\":\"auto\",\"active_multi\":null,\"active_scroll\":\"auto\",\"active_tap\":\"auto\",\"tools\":[{\"id\":\"1224\"},{\"id\":\"1243\"},{\"id\":\"1244\"},{\"id\":\"1245\"},{\"id\":\"1246\"},{\"id\":\"1247\"}]},\"id\":\"1249\",\"type\":\"Toolbar\"},{\"attributes\":{\"source\":{\"id\":\"1278\"}},\"id\":\"1285\",\"type\":\"CDSView\"},{\"attributes\":{},\"id\":\"1274\",\"type\":\"UnionRenderers\"},{\"attributes\":{\"axis\":{\"id\":\"1239\"},\"dimension\":1,\"grid_line_color\":null,\"ticker\":null},\"id\":\"1242\",\"type\":\"Grid\"},{\"attributes\":{\"data\":{\"Variable\":[\"mae_2f\",\"mae_2f\",\"mae_2f\",\"mae_2f\",\"mae_2f\",\"mae_2f\",\"mae_2f\",\"mae_2f\",\"mae_2f\",\"mae_2f\",\"mae_2f\",\"mae_2f\",\"mae_2f\",\"mae_2f\",\"mae_2f\",\"mae_2f\",\"mae_2f\",\"mae_2f\",\"mae_2f\",\"mae_2f\",\"mae_2f\",\"mae_2f\",\"mae_2f\"],\"index\":[1,2,3,4,5,6,7,8,9,10,11,12,13,14,15,16,17,18,19,20,21,22,23],\"value\":{\"__ndarray__\":\"AAAAYFVmxj8AAACg2FTBPwAAAECRZrw/AAAAoOqvuT8AAACAK9O0PwAAACC5t7Q/AAAAQA/Xsz8AAACgenaxPwAAAKBOZ7E/AAAAgDfpsD8AAADAgSKxPwAAAMC5ga8/AAAAYDtKsD8AAAAA/vuvPwAAAEA2Ba4/AAAAYGzNqz8AAACAOT2vPwAAAOCO/ao/AAAAYKdIrD8AAACgIpmpPwAAAEB9y6w/AAAAgCkyqj8AAAAgmISqPw==\",\"dtype\":\"float64\",\"order\":\"little\",\"shape\":[23]}},\"selected\":{\"id\":\"1279\"},\"selection_policy\":{\"id\":\"1294\"}},\"id\":\"1278\",\"type\":\"ColumnDataSource\"},{\"attributes\":{\"line_color\":\"#ff7e0e\",\"line_width\":2,\"x\":{\"field\":\"index\"},\"y\":{\"field\":\"value\"}},\"id\":\"1281\",\"type\":\"Line\"},{\"attributes\":{\"children\":[{\"id\":\"1221\"},{\"id\":\"1226\"},{\"id\":\"1387\"}],\"margin\":[0,0,0,0],\"name\":\"Row02004\",\"tags\":[\"embedded\"]},\"id\":\"1220\",\"type\":\"Row\"},{\"attributes\":{},\"id\":\"1240\",\"type\":\"BasicTicker\"},{\"attributes\":{\"data\":{\"Variable\":[\"mae_1f\",\"mae_1f\",\"mae_1f\",\"mae_1f\",\"mae_1f\",\"mae_1f\",\"mae_1f\",\"mae_1f\",\"mae_1f\",\"mae_1f\",\"mae_1f\",\"mae_1f\",\"mae_1f\",\"mae_1f\",\"mae_1f\",\"mae_1f\",\"mae_1f\",\"mae_1f\",\"mae_1f\",\"mae_1f\",\"mae_1f\",\"mae_1f\",\"mae_1f\"],\"index\":[1,2,3,4,5,6,7,8,9,10,11,12,13,14,15,16,17,18,19,20,21,22,23],\"value\":{\"__ndarray__\":\"AAAAwAxs0T8AAABAyi/IPwAAAOBuksI/AAAAwK1PwD8AAACgxBa/PwAAAIBTor0/AAAAYNMuvD8AAABAthq6PwAAAODMnbg/AAAAwDdytj8AAADgQJ6zPwAAAAAP5LM/AAAAQH15sj8AAADA1P2xPwAAAMAJbLA/AAAAAMZOsD8AAADApF6vPwAAAGDEH60/AAAAAKQ0qz8AAADAJOyrPwAAAGCzjao/AAAAgFmrqj8AAAAAAAD4fw==\",\"dtype\":\"float64\",\"order\":\"little\",\"shape\":[23]}},\"selected\":{\"id\":\"1261\"},\"selection_policy\":{\"id\":\"1274\"}},\"id\":\"1260\",\"type\":\"ColumnDataSource\"},{\"attributes\":{\"end\":23.0,\"reset_end\":23.0,\"reset_start\":1.0,\"start\":1.0,\"tags\":[[[\"index\",\"index\",null]]]},\"id\":\"1222\",\"type\":\"Range1d\"},{\"attributes\":{\"axis_label\":\"\",\"bounds\":\"auto\",\"formatter\":{\"id\":\"1259\"},\"major_label_orientation\":\"horizontal\",\"ticker\":{\"id\":\"1240\"}},\"id\":\"1239\",\"type\":\"LinearAxis\"},{\"attributes\":{\"line_alpha\":0.1,\"line_color\":\"#1f77b3\",\"line_width\":2,\"x\":{\"field\":\"index\"},\"y\":{\"field\":\"value\"}},\"id\":\"1264\",\"type\":\"Line\"},{\"attributes\":{\"bottom_units\":\"screen\",\"fill_alpha\":0.5,\"fill_color\":\"lightgrey\",\"left_units\":\"screen\",\"level\":\"overlay\",\"line_alpha\":1.0,\"line_color\":\"black\",\"line_dash\":[4,4],\"line_width\":2,\"right_units\":\"screen\",\"top_units\":\"screen\"},\"id\":\"1248\",\"type\":\"BoxAnnotation\"},{\"attributes\":{\"margin\":[5,5,5,5],\"name\":\"HSpacer02008\",\"sizing_mode\":\"stretch_width\"},\"id\":\"1221\",\"type\":\"Spacer\"},{\"attributes\":{},\"id\":\"1294\",\"type\":\"UnionRenderers\"},{\"attributes\":{\"label\":{\"value\":\"mae_2f\"},\"renderers\":[{\"id\":\"1284\"}]},\"id\":\"1296\",\"type\":\"LegendItem\"},{\"attributes\":{\"below\":[{\"id\":\"1235\"}],\"center\":[{\"id\":\"1238\"},{\"id\":\"1242\"}],\"left\":[{\"id\":\"1239\"}],\"margin\":[5,5,5,5],\"min_border_bottom\":10,\"min_border_left\":10,\"min_border_right\":10,\"min_border_top\":10,\"plot_height\":300,\"plot_width\":700,\"renderers\":[{\"id\":\"1266\"},{\"id\":\"1284\"}],\"right\":[{\"id\":\"1276\"}],\"sizing_mode\":\"fixed\",\"title\":{\"id\":\"1227\"},\"toolbar\":{\"id\":\"1249\"},\"x_range\":{\"id\":\"1222\"},\"x_scale\":{\"id\":\"1231\"},\"y_range\":{\"id\":\"1223\"},\"y_scale\":{\"id\":\"1233\"}},\"id\":\"1226\",\"subtype\":\"Figure\",\"type\":\"Plot\"},{\"attributes\":{\"data_source\":{\"id\":\"1260\"},\"glyph\":{\"id\":\"1263\"},\"hover_glyph\":null,\"muted_glyph\":{\"id\":\"1265\"},\"nonselection_glyph\":{\"id\":\"1264\"},\"selection_glyph\":null,\"view\":{\"id\":\"1267\"}},\"id\":\"1266\",\"type\":\"GlyphRenderer\"},{\"attributes\":{\"callback\":null,\"renderers\":[{\"id\":\"1266\"},{\"id\":\"1284\"}],\"tags\":[\"hv_created\"],\"tooltips\":[[\"Variable\",\"@{Variable}\"],[\"index\",\"@{index}\"],[\"value\",\"@{value}\"]]},\"id\":\"1224\",\"type\":\"HoverTool\"},{\"attributes\":{\"line_alpha\":0.2,\"line_color\":\"#1f77b3\",\"line_width\":2,\"x\":{\"field\":\"index\"},\"y\":{\"field\":\"value\"}},\"id\":\"1265\",\"type\":\"Line\"},{\"attributes\":{},\"id\":\"1243\",\"type\":\"SaveTool\"},{\"attributes\":{\"line_alpha\":0.2,\"line_color\":\"#ff7e0e\",\"line_width\":2,\"x\":{\"field\":\"index\"},\"y\":{\"field\":\"value\"}},\"id\":\"1283\",\"type\":\"Line\"}],\"root_ids\":[\"1220\"]},\"title\":\"Bokeh Application\",\"version\":\"2.2.3\"}};\n",
       "    var render_items = [{\"docid\":\"88c3fd6a-3847-433b-8c89-ced8721b5e20\",\"root_ids\":[\"1220\"],\"roots\":{\"1220\":\"1d085996-6aa6-4cac-900a-4bf51ea7b775\"}}];\n",
       "    root.Bokeh.embed.embed_items_notebook(docs_json, render_items);\n",
       "  }\n",
       "  if (root.Bokeh !== undefined && root.Bokeh.Panel !== undefined) {\n",
       "    embed_document(root);\n",
       "  } else {\n",
       "    var attempts = 0;\n",
       "    var timer = setInterval(function(root) {\n",
       "      if (root.Bokeh !== undefined && root.Bokeh.Panel !== undefined) {\n",
       "        clearInterval(timer);\n",
       "        embed_document(root);\n",
       "      } else if (document.readyState == \"complete\") {\n",
       "        attempts++;\n",
       "        if (attempts > 100) {\n",
       "          clearInterval(timer);\n",
       "          console.log(\"Bokeh: ERROR: Unable to run BokehJS code because BokehJS library is missing\");\n",
       "        }\n",
       "      }\n",
       "    }, 10, root)\n",
       "  }\n",
       "})(window);</script>"
      ],
      "text/plain": [
       ":NdOverlay   [Variable]\n",
       "   :Curve   [index]   (value)"
      ]
     },
     "execution_count": 58,
     "metadata": {
      "application/vnd.holoviews_exec.v0+json": {
       "id": "1220"
      }
     },
     "output_type": "execute_result"
    }
   ],
   "source": [
    "score_mae_lr_1fvs2f(score_dense_lr_1f_df, score_dense_lr_2f_df)"
   ]
  },
  {
   "cell_type": "code",
   "execution_count": 59,
   "metadata": {},
   "outputs": [
    {
     "data": {
      "application/vnd.holoviews_exec.v0+json": "",
      "text/html": [
       "<div id='1439'>\n",
       "\n",
       "\n",
       "\n",
       "\n",
       "\n",
       "  <div class=\"bk-root\" id=\"5cf0c727-2b86-4d1e-92c2-4e13e4af9139\" data-root-id=\"1439\"></div>\n",
       "</div>\n",
       "<script type=\"application/javascript\">(function(root) {\n",
       "  function embed_document(root) {\n",
       "    var docs_json = {\"c6eb61bb-d59b-436c-8399-18b63a641af9\":{\"roots\":{\"references\":[{\"attributes\":{\"margin\":[5,5,5,5],\"name\":\"HSpacer02478\",\"sizing_mode\":\"stretch_width\"},\"id\":\"1440\",\"type\":\"Spacer\"},{\"attributes\":{\"text\":\"\",\"text_color\":{\"value\":\"black\"},\"text_font_size\":{\"value\":\"12pt\"}},\"id\":\"1447\",\"type\":\"Title\"},{\"attributes\":{\"data\":{\"Variable\":[\"predict_2features\",\"predict_2features\",\"predict_2features\",\"predict_2features\",\"predict_2features\",\"predict_2features\",\"predict_2features\",\"predict_2features\",\"predict_2features\",\"predict_2features\",\"predict_2features\",\"predict_2features\",\"predict_2features\",\"predict_2features\",\"predict_2features\",\"predict_2features\",\"predict_2features\",\"predict_2features\",\"predict_2features\",\"predict_2features\",\"predict_2features\",\"predict_2features\",\"predict_2features\",\"predict_2features\",\"predict_2features\",\"predict_2features\",\"predict_2features\",\"predict_2features\",\"predict_2features\",\"predict_2features\",\"predict_2features\",\"predict_2features\",\"predict_2features\",\"predict_2features\",\"predict_2features\",\"predict_2features\",\"predict_2features\",\"predict_2features\",\"predict_2features\",\"predict_2features\",\"predict_2features\",\"predict_2features\",\"predict_2features\",\"predict_2features\",\"predict_2features\",\"predict_2features\",\"predict_2features\",\"predict_2features\",\"predict_2features\",\"predict_2features\",\"predict_2features\",\"predict_2features\",\"predict_2features\",\"predict_2features\",\"predict_2features\",\"predict_2features\",\"predict_2features\",\"predict_2features\",\"predict_2features\",\"predict_2features\",\"predict_2features\",\"predict_2features\",\"predict_2features\",\"predict_2features\",\"predict_2features\",\"predict_2features\",\"predict_2features\",\"predict_2features\",\"predict_2features\",\"predict_2features\",\"predict_2features\",\"predict_2features\",\"predict_2features\",\"predict_2features\",\"predict_2features\",\"predict_2features\",\"predict_2features\",\"predict_2features\",\"predict_2features\",\"predict_2features\",\"predict_2features\",\"predict_2features\",\"predict_2features\",\"predict_2features\",\"predict_2features\",\"predict_2features\",\"predict_2features\",\"predict_2features\",\"predict_2features\",\"predict_2features\",\"predict_2features\",\"predict_2features\",\"predict_2features\",\"predict_2features\",\"predict_2features\",\"predict_2features\",\"predict_2features\",\"predict_2features\",\"predict_2features\",\"predict_2features\",\"predict_2features\",\"predict_2features\",\"predict_2features\",\"predict_2features\",\"predict_2features\",\"predict_2features\",\"predict_2features\",\"predict_2features\",\"predict_2features\",\"predict_2features\",\"predict_2features\",\"predict_2features\",\"predict_2features\",\"predict_2features\",\"predict_2features\",\"predict_2features\",\"predict_2features\",\"predict_2features\",\"predict_2features\",\"predict_2features\",\"predict_2features\",\"predict_2features\",\"predict_2features\",\"predict_2features\",\"predict_2features\",\"predict_2features\",\"predict_2features\",\"predict_2features\",\"predict_2features\",\"predict_2features\",\"predict_2features\",\"predict_2features\",\"predict_2features\",\"predict_2features\",\"predict_2features\",\"predict_2features\",\"predict_2features\",\"predict_2features\",\"predict_2features\",\"predict_2features\",\"predict_2features\",\"predict_2features\",\"predict_2features\",\"predict_2features\",\"predict_2features\",\"predict_2features\",\"predict_2features\"],\"index\":[0,1,2,3,4,5,6,7,8,9,10,11,12,13,14,15,16,17,18,19,20,21,22,23,24,25,26,27,28,29,30,31,32,33,34,35,36,37,38,39,40,41,42,43,44,45,46,47,48,49,50,51,52,53,54,55,56,57,58,59,60,61,62,63,64,65,66,67,68,69,70,71,72,73,74,75,76,77,78,79,80,81,82,83,84,85,86,87,88,89,90,91,92,93,94,95,96,97,98,99,100,101,102,103,104,105,106,107,108,109,110,111,112,113,114,115,116,117,118,119,120,121,122,123,124,125,126,127,128,129,130,131,132,133,134,135,136,137,138,139,140,141,142,143,144,145,146],\"value\":{\"__ndarray__\":\"mEM6PwOfST8mHz4/3203P2YLNj8knDY/vQY3P1BWNz9GXjc/zTNGP/ZoTD+g3k0/IlpOP7riPz+KnE8/dW0/P7QpTD+KOkQ/7H1MP/0nWD9sjFY/XsBZPw24TD92R2k/DbhMP3ZHaT/Jtl0/SupPP5sXUj8a3lk/7rFWP4CJVj9C/lw/RAJjP7FOVj8yIlQ/OMdgP/KSYj/IuVc/BKxeP9R4Xj+4S2I/IVVgP2BbYD8+pWE/CnxnP2grWz/6A14/n/1dPz8CYz/YVVo/CpVaP3eKXj9Oj2U/+G5zP06PZT/4bnM/cdlnP/42az/aVVs/0FNXP1PHZD8s0Wo/hJZyPzwbZD/gtmY/UNdpP9uEZj/64Gk/rcBlPyw0YT+jmGA/mEdmP4z1ZD+GoWE/1BhdP5R1Yj9eSmQ/7RZiP2bLVz9z1Us/BehlP6ZCYj+UIl4/jGNcP+ENXj8oNVw/IC5YP3/jXj9colc/Bt5aP7cYXD8sr2A/txhcPyyvYD+kw2M/fGlsPwTVXD8c8Gc/iHtfP4z3YT/sN2k/MJhmPzkJYT/nLGk/XZZePwgXYz/NWmQ/Jl5nP+QDaT9QzWE/yK1nP7QxZj+UlGI/tOZiP6rCZD8Rp10/FqZdP4lkcD+5ZV4/YktqP6bJaj/EP2w/6otpP2ndZz+WbGY/B4BnPxAaaj+7CW4/NqVuP8hxYz8benE/tJVsP5h7aD9Yi2s/KqVjPyB6bD/ukGU/GLhoP5oPZz+7om0/4HVtP7Jsaz9We24/IWtqPw63bz/xdWY/\",\"dtype\":\"float32\",\"order\":\"little\",\"shape\":[147]}},\"selected\":{\"id\":\"1518\"},\"selection_policy\":{\"id\":\"1535\"}},\"id\":\"1517\",\"type\":\"ColumnDataSource\"},{\"attributes\":{},\"id\":\"1481\",\"type\":\"Selection\"},{\"attributes\":{\"active_drag\":\"auto\",\"active_inspect\":\"auto\",\"active_multi\":null,\"active_scroll\":\"auto\",\"active_tap\":\"auto\",\"tools\":[{\"id\":\"1443\"},{\"id\":\"1463\"},{\"id\":\"1464\"},{\"id\":\"1465\"},{\"id\":\"1466\"},{\"id\":\"1467\"}]},\"id\":\"1469\",\"type\":\"Toolbar\"},{\"attributes\":{},\"id\":\"1494\",\"type\":\"UnionRenderers\"},{\"attributes\":{\"below\":[{\"id\":\"1455\"}],\"center\":[{\"id\":\"1458\"},{\"id\":\"1462\"}],\"left\":[{\"id\":\"1459\"}],\"margin\":[5,5,5,5],\"min_border_bottom\":10,\"min_border_left\":10,\"min_border_right\":10,\"min_border_top\":10,\"plot_height\":300,\"plot_width\":700,\"renderers\":[{\"id\":\"1486\"},{\"id\":\"1504\"},{\"id\":\"1523\"}],\"right\":[{\"id\":\"1496\"}],\"sizing_mode\":\"fixed\",\"title\":{\"id\":\"1447\"},\"toolbar\":{\"id\":\"1469\"},\"x_range\":{\"id\":\"1441\"},\"x_scale\":{\"id\":\"1451\"},\"y_range\":{\"id\":\"1442\"},\"y_scale\":{\"id\":\"1453\"}},\"id\":\"1446\",\"subtype\":\"Figure\",\"type\":\"Plot\"},{\"attributes\":{\"click_policy\":\"mute\",\"items\":[{\"id\":\"1497\"},{\"id\":\"1516\"},{\"id\":\"1537\"}],\"location\":[0,0],\"title\":\"Variable\"},\"id\":\"1496\",\"type\":\"Legend\"},{\"attributes\":{},\"id\":\"1463\",\"type\":\"SaveTool\"},{\"attributes\":{\"axis_label\":\"\",\"bounds\":\"auto\",\"formatter\":{\"id\":\"1479\"},\"major_label_orientation\":\"horizontal\",\"ticker\":{\"id\":\"1460\"}},\"id\":\"1459\",\"type\":\"LinearAxis\"},{\"attributes\":{},\"id\":\"1464\",\"type\":\"PanTool\"},{\"attributes\":{\"data\":{\"Variable\":[\"actual\",\"actual\",\"actual\",\"actual\",\"actual\",\"actual\",\"actual\",\"actual\",\"actual\",\"actual\",\"actual\",\"actual\",\"actual\",\"actual\",\"actual\",\"actual\",\"actual\",\"actual\",\"actual\",\"actual\",\"actual\",\"actual\",\"actual\",\"actual\",\"actual\",\"actual\",\"actual\",\"actual\",\"actual\",\"actual\",\"actual\",\"actual\",\"actual\",\"actual\",\"actual\",\"actual\",\"actual\",\"actual\",\"actual\",\"actual\",\"actual\",\"actual\",\"actual\",\"actual\",\"actual\",\"actual\",\"actual\",\"actual\",\"actual\",\"actual\",\"actual\",\"actual\",\"actual\",\"actual\",\"actual\",\"actual\",\"actual\",\"actual\",\"actual\",\"actual\",\"actual\",\"actual\",\"actual\",\"actual\",\"actual\",\"actual\",\"actual\",\"actual\",\"actual\",\"actual\",\"actual\",\"actual\",\"actual\",\"actual\",\"actual\",\"actual\",\"actual\",\"actual\",\"actual\",\"actual\",\"actual\",\"actual\",\"actual\",\"actual\",\"actual\",\"actual\",\"actual\",\"actual\",\"actual\",\"actual\",\"actual\",\"actual\",\"actual\",\"actual\",\"actual\",\"actual\",\"actual\",\"actual\",\"actual\",\"actual\",\"actual\",\"actual\",\"actual\",\"actual\",\"actual\",\"actual\",\"actual\",\"actual\",\"actual\",\"actual\",\"actual\",\"actual\",\"actual\",\"actual\",\"actual\",\"actual\",\"actual\",\"actual\",\"actual\",\"actual\",\"actual\",\"actual\",\"actual\",\"actual\",\"actual\",\"actual\",\"actual\",\"actual\",\"actual\",\"actual\",\"actual\",\"actual\",\"actual\",\"actual\",\"actual\",\"actual\",\"actual\",\"actual\",\"actual\",\"actual\",\"actual\",\"actual\",\"actual\",\"actual\",\"actual\",\"actual\",\"actual\"],\"index\":[0,1,2,3,4,5,6,7,8,9,10,11,12,13,14,15,16,17,18,19,20,21,22,23,24,25,26,27,28,29,30,31,32,33,34,35,36,37,38,39,40,41,42,43,44,45,46,47,48,49,50,51,52,53,54,55,56,57,58,59,60,61,62,63,64,65,66,67,68,69,70,71,72,73,74,75,76,77,78,79,80,81,82,83,84,85,86,87,88,89,90,91,92,93,94,95,96,97,98,99,100,101,102,103,104,105,106,107,108,109,110,111,112,113,114,115,116,117,118,119,120,121,122,123,124,125,126,127,128,129,130,131,132,133,134,135,136,137,138,139,140,141,142,143,144,145,146],\"value\":{\"__ndarray__\":\"QzLu9oP05z/LEcLHX/XnP2pvEL+noec/M0YQazSV5z8BMdzEd9nnP++eag1YNeg/hFZQvMxE6D/knpXwVN3nP3PE3gStoOg/aKqLJs8w6j+LTD+CdHToP3m1Wh8nvOg/QK+qXvDk6D8apDEskqnpP7JHIEpTwOk/SAR5pPXj6T/gxUSqxRvqPxoDEazveOo/IE75mplP6z+6Hh6j8sPrP+q1gVxJhOw/nhN6jZfg7D8gLwgukSPtPyAvCC6RI+0/IC8ILpEj7T8gLwgukSPtP6zw/hZeA+0/6Hnybyjq6z+6S1SNiiHsP65zQq/xEuw/3kznaI006z80o5z9oabsP1I6Y93vsew/LgO75fUo6z+aQe/fJfHqP/AVdWGgXus/Tnck0gkE6z8GwSVypGfrPwDVHANYYOs/Dp2WdnF/7T+w15TafPbsPwphB4pQ5ew/gNG5Nkl37T/6nOw8a8/sPyKt2Br3Huw/HGLwK01I6z+slpJCLkjsPwI0/IK1L+w/BiAF8gE37D/0vmKfXHHsP3CzMhU0puw/FP2Je8hZ7D+eOz3MASrtP2jv7ORR6Ow/aO/s5FHo7D9o7+zkUejsP2jv7ORR6Ow/RI96ifEF7T9AOSui2nvtPzZhW/1cRe4/aAKlDQ8u7z+8lSj3Ou3uPwEAAAAAAPA/SMsJdhKg7T8EssxvGyvrP3SayNhSmew/JGLFSFCg6z8E5HUF4ZzrP/ZgXVBKNew/cCyQVmyN6z/EuqCUajjrP3qlwrSnzOo/PsJih60q6z9as4jbLfbrP55Vu43cQes/PDqsQ+wG7D8wj9BP61XsP4AYbuK77Os/kg4yxWZ07D+CfMANR9DsP25P4Omowus/aL1DT4x27D++BbRmEbfrP4JKF3iBXuw/UhcG6rWB7D8iPmEwGmDtPyC7HZiGUO4/6Lnggn2N7j9axkAE6zvuPxDUsrdkBe4/TORIz/YE7j/eMmmnshztP94yaaeyHO0/3jJpp7Ic7T/eMmmnshztP2Irp7RvKu0/Hr72oRg07T/UZD0gdTbtP5xjAAtsc+0/jiIpVhpt7D9eHE6y5u3sP5xQSOKuLes/TqnNZ8916z+oI+cUGijrP7zJJHrwHOs/JM/pRT2h7j/yMhPhuMztPzKeKVJ0kuw/VoDLwG557T8WZk9SgVHtPwy7c16AoO0/LDnDoe+j7T98ve2IkibtP17vF8hOkOw/BHCLb9bJ7D8c7gWWQnXsP/SDreOGauw/wpuvJ2IM7T9UTiIrqQftP0yK3PrGSe0/yLTugEZx7T9Ctz3IW0/tPyoCp2D8He0//rC46iEg7T/uGdSH1GftPxIlTboyo+w/AtJD+cV87D+QWUWXDfPsPwiEVx2NGu0/vLQZZEMZ7T8Qzz8MN/HtP65ZxO0W++0/ZGc2oZDE7T/8Xx7oU4LuPzx/DQJvvu4/QDT6L8g/7j8SOAXj7+juP753Sw8szO4/zgRKGx5c7j+qpNe/vXnuP1iPJMP3te0/qkpr642+7T+khiW7qwDuP5qGUJ6oqO0/utL2S1I67T8YcDWp3HntP7S5t/Jt1ew/\",\"dtype\":\"float64\",\"order\":\"little\",\"shape\":[147]}},\"selected\":{\"id\":\"1499\"},\"selection_policy\":{\"id\":\"1514\"}},\"id\":\"1498\",\"type\":\"ColumnDataSource\"},{\"attributes\":{\"line_alpha\":0.2,\"line_color\":\"#ff7e0e\",\"line_width\":2,\"x\":{\"field\":\"index\"},\"y\":{\"field\":\"value\"}},\"id\":\"1503\",\"type\":\"Line\"},{\"attributes\":{},\"id\":\"1467\",\"type\":\"ResetTool\"},{\"attributes\":{\"line_alpha\":0.2,\"line_color\":\"#1f77b3\",\"line_width\":2,\"x\":{\"field\":\"index\"},\"y\":{\"field\":\"value\"}},\"id\":\"1485\",\"type\":\"Line\"},{\"attributes\":{\"source\":{\"id\":\"1498\"}},\"id\":\"1505\",\"type\":\"CDSView\"},{\"attributes\":{},\"id\":\"1465\",\"type\":\"WheelZoomTool\"},{\"attributes\":{},\"id\":\"1518\",\"type\":\"Selection\"},{\"attributes\":{\"overlay\":{\"id\":\"1468\"}},\"id\":\"1466\",\"type\":\"BoxZoomTool\"},{\"attributes\":{\"line_alpha\":0.2,\"line_color\":\"#2ba02b\",\"line_width\":2,\"x\":{\"field\":\"index\"},\"y\":{\"field\":\"value\"}},\"id\":\"1522\",\"type\":\"Line\"},{\"attributes\":{\"margin\":[5,5,5,5],\"name\":\"HSpacer02479\",\"sizing_mode\":\"stretch_width\"},\"id\":\"1646\",\"type\":\"Spacer\"},{\"attributes\":{},\"id\":\"1451\",\"type\":\"LinearScale\"},{\"attributes\":{\"source\":{\"id\":\"1517\"}},\"id\":\"1524\",\"type\":\"CDSView\"},{\"attributes\":{\"end\":146.0,\"reset_end\":146.0,\"reset_start\":0.0,\"tags\":[[[\"index\",\"index\",null]]]},\"id\":\"1441\",\"type\":\"Range1d\"},{\"attributes\":{\"callback\":null,\"renderers\":[{\"id\":\"1486\"},{\"id\":\"1504\"},{\"id\":\"1523\"}],\"tags\":[\"hv_created\"],\"tooltips\":[[\"Variable\",\"@{Variable}\"],[\"index\",\"@{index}\"],[\"value\",\"@{value}\"]]},\"id\":\"1443\",\"type\":\"HoverTool\"},{\"attributes\":{\"line_color\":\"#1f77b3\",\"line_width\":2,\"x\":{\"field\":\"index\"},\"y\":{\"field\":\"value\"}},\"id\":\"1483\",\"type\":\"Line\"},{\"attributes\":{\"line_color\":\"#2ba02b\",\"line_width\":2,\"x\":{\"field\":\"index\"},\"y\":{\"field\":\"value\"}},\"id\":\"1520\",\"type\":\"Line\"},{\"attributes\":{\"axis_label\":\"\",\"bounds\":\"auto\",\"formatter\":{\"id\":\"1477\"},\"major_label_orientation\":\"horizontal\",\"ticker\":{\"id\":\"1456\"}},\"id\":\"1455\",\"type\":\"LinearAxis\"},{\"attributes\":{},\"id\":\"1453\",\"type\":\"LinearScale\"},{\"attributes\":{\"line_color\":\"#ff7e0e\",\"line_width\":2,\"x\":{\"field\":\"index\"},\"y\":{\"field\":\"value\"}},\"id\":\"1501\",\"type\":\"Line\"},{\"attributes\":{},\"id\":\"1456\",\"type\":\"BasicTicker\"},{\"attributes\":{},\"id\":\"1535\",\"type\":\"UnionRenderers\"},{\"attributes\":{\"axis\":{\"id\":\"1455\"},\"grid_line_color\":null,\"ticker\":null},\"id\":\"1458\",\"type\":\"Grid\"},{\"attributes\":{\"data_source\":{\"id\":\"1498\"},\"glyph\":{\"id\":\"1501\"},\"hover_glyph\":null,\"muted_glyph\":{\"id\":\"1503\"},\"nonselection_glyph\":{\"id\":\"1502\"},\"selection_glyph\":null,\"view\":{\"id\":\"1505\"}},\"id\":\"1504\",\"type\":\"GlyphRenderer\"},{\"attributes\":{\"data_source\":{\"id\":\"1517\"},\"glyph\":{\"id\":\"1520\"},\"hover_glyph\":null,\"muted_glyph\":{\"id\":\"1522\"},\"nonselection_glyph\":{\"id\":\"1521\"},\"selection_glyph\":null,\"view\":{\"id\":\"1524\"}},\"id\":\"1523\",\"type\":\"GlyphRenderer\"},{\"attributes\":{\"data\":{\"Variable\":[\"predict_1feature\",\"predict_1feature\",\"predict_1feature\",\"predict_1feature\",\"predict_1feature\",\"predict_1feature\",\"predict_1feature\",\"predict_1feature\",\"predict_1feature\",\"predict_1feature\",\"predict_1feature\",\"predict_1feature\",\"predict_1feature\",\"predict_1feature\",\"predict_1feature\",\"predict_1feature\",\"predict_1feature\",\"predict_1feature\",\"predict_1feature\",\"predict_1feature\",\"predict_1feature\",\"predict_1feature\",\"predict_1feature\",\"predict_1feature\",\"predict_1feature\",\"predict_1feature\",\"predict_1feature\",\"predict_1feature\",\"predict_1feature\",\"predict_1feature\",\"predict_1feature\",\"predict_1feature\",\"predict_1feature\",\"predict_1feature\",\"predict_1feature\",\"predict_1feature\",\"predict_1feature\",\"predict_1feature\",\"predict_1feature\",\"predict_1feature\",\"predict_1feature\",\"predict_1feature\",\"predict_1feature\",\"predict_1feature\",\"predict_1feature\",\"predict_1feature\",\"predict_1feature\",\"predict_1feature\",\"predict_1feature\",\"predict_1feature\",\"predict_1feature\",\"predict_1feature\",\"predict_1feature\",\"predict_1feature\",\"predict_1feature\",\"predict_1feature\",\"predict_1feature\",\"predict_1feature\",\"predict_1feature\",\"predict_1feature\",\"predict_1feature\",\"predict_1feature\",\"predict_1feature\",\"predict_1feature\",\"predict_1feature\",\"predict_1feature\",\"predict_1feature\",\"predict_1feature\",\"predict_1feature\",\"predict_1feature\",\"predict_1feature\",\"predict_1feature\",\"predict_1feature\",\"predict_1feature\",\"predict_1feature\",\"predict_1feature\",\"predict_1feature\",\"predict_1feature\",\"predict_1feature\",\"predict_1feature\",\"predict_1feature\",\"predict_1feature\",\"predict_1feature\",\"predict_1feature\",\"predict_1feature\",\"predict_1feature\",\"predict_1feature\",\"predict_1feature\",\"predict_1feature\",\"predict_1feature\",\"predict_1feature\",\"predict_1feature\",\"predict_1feature\",\"predict_1feature\",\"predict_1feature\",\"predict_1feature\",\"predict_1feature\",\"predict_1feature\",\"predict_1feature\",\"predict_1feature\",\"predict_1feature\",\"predict_1feature\",\"predict_1feature\",\"predict_1feature\",\"predict_1feature\",\"predict_1feature\",\"predict_1feature\",\"predict_1feature\",\"predict_1feature\",\"predict_1feature\",\"predict_1feature\",\"predict_1feature\",\"predict_1feature\",\"predict_1feature\",\"predict_1feature\",\"predict_1feature\",\"predict_1feature\",\"predict_1feature\",\"predict_1feature\",\"predict_1feature\",\"predict_1feature\",\"predict_1feature\",\"predict_1feature\",\"predict_1feature\",\"predict_1feature\",\"predict_1feature\",\"predict_1feature\",\"predict_1feature\",\"predict_1feature\",\"predict_1feature\",\"predict_1feature\",\"predict_1feature\",\"predict_1feature\",\"predict_1feature\",\"predict_1feature\",\"predict_1feature\",\"predict_1feature\",\"predict_1feature\",\"predict_1feature\",\"predict_1feature\",\"predict_1feature\",\"predict_1feature\",\"predict_1feature\",\"predict_1feature\",\"predict_1feature\",\"predict_1feature\",\"predict_1feature\"],\"index\":[0,1,2,3,4,5,6,7,8,9,10,11,12,13,14,15,16,17,18,19,20,21,22,23,24,25,26,27,28,29,30,31,32,33,34,35,36,37,38,39,40,41,42,43,44,45,46,47,48,49,50,51,52,53,54,55,56,57,58,59,60,61,62,63,64,65,66,67,68,69,70,71,72,73,74,75,76,77,78,79,80,81,82,83,84,85,86,87,88,89,90,91,92,93,94,95,96,97,98,99,100,101,102,103,104,105,106,107,108,109,110,111,112,113,114,115,116,117,118,119,120,121,122,123,124,125,126,127,128,129,130,131,132,133,134,135,136,137,138,139,140,141,142,143,144,145,146],\"value\":{\"__ndarray__\":\"f/4oP5+ZKT8ADSo/dggrP394Kz8I5Cs/QjMsP25uLD9YdCw/JwMtP+S8LT/wEi4/ynMuPx29Lj/rLS8/qkAwP+J5ND//GDU/LOI1P2DINz+Q8zg/JBw7PwZBPD8GQTw/kHdMP5B3TD8nIz0/w4A+P6J0Pz/ibEA/XaJBP5z2QT9qM0M/S7JDP4fvQz+d+0M/V1xEPwSGRD85jUQ/CnVEP0jARD8CAkU/bgNFP4IcRT/yDEU/xRxFP6/bRD+i60Q/4ylFP1N3RT9cZ0U/eopFPxBwRT/GCUY/xglGP9K+UD/SvlA/hqBGP1kfRz+k3Ec/d7hIP9UOSz8dMEw/Nh5NP0tATT8790w/NFxNP7btTD+Jv0w/iq1MP2pZTD+5Akw/W01LP9fHSj9Yqkk/MsNIP2HRRz/A2EY/gPJFP9YXRT9zI0Q/a5RDP+xjQz/bjUM/PHxDP8O/Qz8oV0Q/YCZFPzHaRT/ep0Y/rH5HP6J1SD+idUg/q9FKP6vRSj/YCkk/MmdJP8gdSj/Ds0o/9yBLP+gnSz/2dEs/EhNLP0WrSj/3fEo/3GtKPyhzSz+rS0s/w7NKP395Sj+aQ0o/fyVKPwNOSj/cTEo/yhtKPz/7ST8Zr0k/U65JP3W3ST93RUo/pWdLP04aTD/vkUw/NgVMP5aNSz9db0s/YXRLP64oSz9iDEs/QORKP7S6Sj9s90o/G2RLPzqvSz+JTEw/Ev9MP2nOTT/MSk4/EsxOP24STz/Ta08/W5lPP1zKTz8QM1A/6IxQP0OiUD8msFA/\",\"dtype\":\"float32\",\"order\":\"little\",\"shape\":[147]}},\"selected\":{\"id\":\"1481\"},\"selection_policy\":{\"id\":\"1494\"}},\"id\":\"1480\",\"type\":\"ColumnDataSource\"},{\"attributes\":{\"line_alpha\":0.1,\"line_color\":\"#2ba02b\",\"line_width\":2,\"x\":{\"field\":\"index\"},\"y\":{\"field\":\"value\"}},\"id\":\"1521\",\"type\":\"Line\"},{\"attributes\":{\"label\":{\"value\":\"actual\"},\"renderers\":[{\"id\":\"1504\"}]},\"id\":\"1516\",\"type\":\"LegendItem\"},{\"attributes\":{\"data_source\":{\"id\":\"1480\"},\"glyph\":{\"id\":\"1483\"},\"hover_glyph\":null,\"muted_glyph\":{\"id\":\"1485\"},\"nonselection_glyph\":{\"id\":\"1484\"},\"selection_glyph\":null,\"view\":{\"id\":\"1487\"}},\"id\":\"1486\",\"type\":\"GlyphRenderer\"},{\"attributes\":{\"axis\":{\"id\":\"1459\"},\"dimension\":1,\"grid_line_color\":null,\"ticker\":null},\"id\":\"1462\",\"type\":\"Grid\"},{\"attributes\":{},\"id\":\"1477\",\"type\":\"BasicTickFormatter\"},{\"attributes\":{\"label\":{\"value\":\"predict_2features\"},\"renderers\":[{\"id\":\"1523\"}]},\"id\":\"1537\",\"type\":\"LegendItem\"},{\"attributes\":{},\"id\":\"1479\",\"type\":\"BasicTickFormatter\"},{\"attributes\":{},\"id\":\"1460\",\"type\":\"BasicTicker\"},{\"attributes\":{},\"id\":\"1499\",\"type\":\"Selection\"},{\"attributes\":{\"line_alpha\":0.1,\"line_color\":\"#ff7e0e\",\"line_width\":2,\"x\":{\"field\":\"index\"},\"y\":{\"field\":\"value\"}},\"id\":\"1502\",\"type\":\"Line\"},{\"attributes\":{\"source\":{\"id\":\"1480\"}},\"id\":\"1487\",\"type\":\"CDSView\"},{\"attributes\":{\"bottom_units\":\"screen\",\"fill_alpha\":0.5,\"fill_color\":\"lightgrey\",\"left_units\":\"screen\",\"level\":\"overlay\",\"line_alpha\":1.0,\"line_color\":\"black\",\"line_dash\":[4,4],\"line_width\":2,\"right_units\":\"screen\",\"top_units\":\"screen\"},\"id\":\"1468\",\"type\":\"BoxAnnotation\"},{\"attributes\":{\"line_alpha\":0.1,\"line_color\":\"#1f77b3\",\"line_width\":2,\"x\":{\"field\":\"index\"},\"y\":{\"field\":\"value\"}},\"id\":\"1484\",\"type\":\"Line\"},{\"attributes\":{\"label\":{\"value\":\"predict_1feature\"},\"renderers\":[{\"id\":\"1486\"}]},\"id\":\"1497\",\"type\":\"LegendItem\"},{\"attributes\":{},\"id\":\"1514\",\"type\":\"UnionRenderers\"},{\"attributes\":{\"children\":[{\"id\":\"1440\"},{\"id\":\"1446\"},{\"id\":\"1646\"}],\"margin\":[0,0,0,0],\"name\":\"Row02474\",\"tags\":[\"embedded\"]},\"id\":\"1439\",\"type\":\"Row\"},{\"attributes\":{\"end\":1.033986669778824,\"reset_end\":1.033986669778824,\"reset_start\":0.6261466324329376,\"start\":0.6261466324329376,\"tags\":[[[\"value\",\"value\",null]]]},\"id\":\"1442\",\"type\":\"Range1d\"}],\"root_ids\":[\"1439\"]},\"title\":\"Bokeh Application\",\"version\":\"2.2.3\"}};\n",
       "    var render_items = [{\"docid\":\"c6eb61bb-d59b-436c-8399-18b63a641af9\",\"root_ids\":[\"1439\"],\"roots\":{\"1439\":\"5cf0c727-2b86-4d1e-92c2-4e13e4af9139\"}}];\n",
       "    root.Bokeh.embed.embed_items_notebook(docs_json, render_items);\n",
       "  }\n",
       "  if (root.Bokeh !== undefined && root.Bokeh.Panel !== undefined) {\n",
       "    embed_document(root);\n",
       "  } else {\n",
       "    var attempts = 0;\n",
       "    var timer = setInterval(function(root) {\n",
       "      if (root.Bokeh !== undefined && root.Bokeh.Panel !== undefined) {\n",
       "        clearInterval(timer);\n",
       "        embed_document(root);\n",
       "      } else if (document.readyState == \"complete\") {\n",
       "        attempts++;\n",
       "        if (attempts > 100) {\n",
       "          clearInterval(timer);\n",
       "          console.log(\"Bokeh: ERROR: Unable to run BokehJS code because BokehJS library is missing\");\n",
       "        }\n",
       "      }\n",
       "    }, 10, root)\n",
       "  }\n",
       "})(window);</script>"
      ],
      "text/plain": [
       ":NdOverlay   [Variable]\n",
       "   :Curve   [index]   (value)"
      ]
     },
     "execution_count": 59,
     "metadata": {
      "application/vnd.holoviews_exec.v0+json": {
       "id": "1439"
      }
     },
     "output_type": "execute_result"
    }
   ],
   "source": [
    "pred_lr_1fvs2f(pred_dense_lr_1f_df,pred_lstm_lr_2f_df)"
   ]
  },
  {
   "cell_type": "code",
   "execution_count": 60,
   "metadata": {},
   "outputs": [
    {
     "data": {
      "application/vnd.holoviews_exec.v0+json": "",
      "text/html": [
       "<div id='1708'>\n",
       "\n",
       "\n",
       "\n",
       "\n",
       "\n",
       "  <div class=\"bk-root\" id=\"63afc377-8881-42eb-92d2-611cc4929ab9\" data-root-id=\"1708\"></div>\n",
       "</div>\n",
       "<script type=\"application/javascript\">(function(root) {\n",
       "  function embed_document(root) {\n",
       "    var docs_json = {\"0b00ab76-bb91-4e0e-b821-c2e41e8e3b7d\":{\"roots\":{\"references\":[{\"attributes\":{\"source\":{\"id\":\"1766\"}},\"id\":\"1773\",\"type\":\"CDSView\"},{\"attributes\":{\"callback\":null,\"renderers\":[{\"id\":\"1754\"},{\"id\":\"1772\"}],\"tags\":[\"hv_created\"],\"tooltips\":[[\"Variable\",\"@{Variable}\"],[\"index\",\"@{index}\"],[\"value\",\"@{value}\"]]},\"id\":\"1712\",\"type\":\"HoverTool\"},{\"attributes\":{\"source\":{\"id\":\"1748\"}},\"id\":\"1755\",\"type\":\"CDSView\"},{\"attributes\":{\"line_color\":\"#ff7e0e\",\"line_width\":2,\"x\":{\"field\":\"index\"},\"y\":{\"field\":\"value\"}},\"id\":\"1769\",\"type\":\"Line\"},{\"attributes\":{},\"id\":\"1731\",\"type\":\"SaveTool\"},{\"attributes\":{},\"id\":\"1732\",\"type\":\"PanTool\"},{\"attributes\":{\"axis_label\":\"\",\"bounds\":\"auto\",\"formatter\":{\"id\":\"1747\"},\"major_label_orientation\":\"horizontal\",\"ticker\":{\"id\":\"1728\"}},\"id\":\"1727\",\"type\":\"LinearAxis\"},{\"attributes\":{},\"id\":\"1735\",\"type\":\"ResetTool\"},{\"attributes\":{\"line_color\":\"#1f77b3\",\"line_width\":2,\"x\":{\"field\":\"index\"},\"y\":{\"field\":\"value\"}},\"id\":\"1751\",\"type\":\"Line\"},{\"attributes\":{},\"id\":\"1733\",\"type\":\"WheelZoomTool\"},{\"attributes\":{},\"id\":\"1782\",\"type\":\"UnionRenderers\"},{\"attributes\":{\"overlay\":{\"id\":\"1736\"}},\"id\":\"1734\",\"type\":\"BoxZoomTool\"},{\"attributes\":{\"label\":{\"value\":\"loss_1f\"},\"renderers\":[{\"id\":\"1754\"}]},\"id\":\"1765\",\"type\":\"LegendItem\"},{\"attributes\":{\"label\":{\"value\":\"loss_2f\"},\"renderers\":[{\"id\":\"1772\"}]},\"id\":\"1784\",\"type\":\"LegendItem\"},{\"attributes\":{},\"id\":\"1745\",\"type\":\"BasicTickFormatter\"},{\"attributes\":{\"text\":\"\",\"text_color\":{\"value\":\"black\"},\"text_font_size\":{\"value\":\"12pt\"}},\"id\":\"1715\",\"type\":\"Title\"},{\"attributes\":{},\"id\":\"1747\",\"type\":\"BasicTickFormatter\"},{\"attributes\":{},\"id\":\"1762\",\"type\":\"UnionRenderers\"},{\"attributes\":{},\"id\":\"1719\",\"type\":\"LinearScale\"},{\"attributes\":{\"click_policy\":\"mute\",\"items\":[{\"id\":\"1765\"},{\"id\":\"1784\"}],\"location\":[0,0],\"title\":\"Variable\"},\"id\":\"1764\",\"type\":\"Legend\"},{\"attributes\":{\"margin\":[5,5,5,5],\"name\":\"HSpacer03058\",\"sizing_mode\":\"stretch_width\"},\"id\":\"1875\",\"type\":\"Spacer\"},{\"attributes\":{\"end\":0.09984610609244556,\"reset_end\":0.09984610609244556,\"reset_start\":-0.005607758485712112,\"start\":-0.005607758485712112,\"tags\":[[[\"value\",\"value\",null]]]},\"id\":\"1711\",\"type\":\"Range1d\"},{\"attributes\":{\"axis_label\":\"\",\"bounds\":\"auto\",\"formatter\":{\"id\":\"1745\"},\"major_label_orientation\":\"horizontal\",\"ticker\":{\"id\":\"1724\"}},\"id\":\"1723\",\"type\":\"LinearAxis\"},{\"attributes\":{\"line_alpha\":0.2,\"line_color\":\"#ff7e0e\",\"line_width\":2,\"x\":{\"field\":\"index\"},\"y\":{\"field\":\"value\"}},\"id\":\"1771\",\"type\":\"Line\"},{\"attributes\":{},\"id\":\"1721\",\"type\":\"LinearScale\"},{\"attributes\":{},\"id\":\"1724\",\"type\":\"BasicTicker\"},{\"attributes\":{\"data\":{\"Variable\":[\"loss_1f\",\"loss_1f\",\"loss_1f\",\"loss_1f\",\"loss_1f\",\"loss_1f\",\"loss_1f\",\"loss_1f\",\"loss_1f\",\"loss_1f\",\"loss_1f\",\"loss_1f\",\"loss_1f\",\"loss_1f\",\"loss_1f\",\"loss_1f\",\"loss_1f\",\"loss_1f\",\"loss_1f\",\"loss_1f\",\"loss_1f\",\"loss_1f\",\"loss_1f\",\"loss_1f\"],\"index\":[1,2,3,4,5,6,7,8,9,10,11,12,13,14,15,16,17,18,19,20,21,22,23,24],\"value\":{\"__ndarray__\":\"AAAAgJhPtz8AAADg5/+rPwAAAAC0NqI/AAAAINWinT8AAACg0XCXPwAAAKCiaY0/AAAAINfkfT8AAACgBTN4PwAAAOBMEXM/AAAAoC7Mcz8AAAAggP5yPwAAACB+InQ/AAAAIGEtcj8AAAAg0NFzPwAAAABURW0/AAAAAAnHcD8AAABgiE1yPwAAAIBpTGw/AAAAoBMNaj8AAADAucRtPwAAAOCyim0/AAAAYK7ncD8AAAAAAAD4fwAAAAAAAPh/\",\"dtype\":\"float64\",\"order\":\"little\",\"shape\":[24]}},\"selected\":{\"id\":\"1749\"},\"selection_policy\":{\"id\":\"1762\"}},\"id\":\"1748\",\"type\":\"ColumnDataSource\"},{\"attributes\":{\"line_alpha\":0.2,\"line_color\":\"#1f77b3\",\"line_width\":2,\"x\":{\"field\":\"index\"},\"y\":{\"field\":\"value\"}},\"id\":\"1753\",\"type\":\"Line\"},{\"attributes\":{\"axis\":{\"id\":\"1723\"},\"grid_line_color\":null,\"ticker\":null},\"id\":\"1726\",\"type\":\"Grid\"},{\"attributes\":{\"line_alpha\":0.1,\"line_color\":\"#1f77b3\",\"line_width\":2,\"x\":{\"field\":\"index\"},\"y\":{\"field\":\"value\"}},\"id\":\"1752\",\"type\":\"Line\"},{\"attributes\":{\"line_alpha\":0.1,\"line_color\":\"#ff7e0e\",\"line_width\":2,\"x\":{\"field\":\"index\"},\"y\":{\"field\":\"value\"}},\"id\":\"1770\",\"type\":\"Line\"},{\"attributes\":{\"axis\":{\"id\":\"1727\"},\"dimension\":1,\"grid_line_color\":null,\"ticker\":null},\"id\":\"1730\",\"type\":\"Grid\"},{\"attributes\":{\"active_drag\":\"auto\",\"active_inspect\":\"auto\",\"active_multi\":null,\"active_scroll\":\"auto\",\"active_tap\":\"auto\",\"tools\":[{\"id\":\"1712\"},{\"id\":\"1731\"},{\"id\":\"1732\"},{\"id\":\"1733\"},{\"id\":\"1734\"},{\"id\":\"1735\"}]},\"id\":\"1737\",\"type\":\"Toolbar\"},{\"attributes\":{\"data\":{\"Variable\":[\"loss_2f\",\"loss_2f\",\"loss_2f\",\"loss_2f\",\"loss_2f\",\"loss_2f\",\"loss_2f\",\"loss_2f\",\"loss_2f\",\"loss_2f\",\"loss_2f\",\"loss_2f\",\"loss_2f\",\"loss_2f\",\"loss_2f\",\"loss_2f\",\"loss_2f\",\"loss_2f\",\"loss_2f\",\"loss_2f\",\"loss_2f\",\"loss_2f\",\"loss_2f\",\"loss_2f\"],\"index\":[1,2,3,4,5,6,7,8,9,10,11,12,13,14,15,16,17,18,19,20,21,22,23,24],\"value\":{\"__ndarray__\":\"AAAAYE9btD8AAAAgiuOiPwAAAMDwbaA/AAAAgO5CmD8AAABAckyPPwAAAAAtvYA/AAAAAO2SeD8AAAAAddp8PwAAAKARSnc/AAAAoJdkdT8AAAAAGHV4PwAAAID+h3U/AAAAYINCdT8AAAAgqGB0PwAAAGCb7XI/AAAAYDvlcj8AAAAgFdZyPwAAAED4Q3E/AAAAwAuLcD8AAAAgQo5wPwAAAGAAN2w/AAAAgHcXbT8AAACAH+ZvPwAAAEBXMG0/\",\"dtype\":\"float64\",\"order\":\"little\",\"shape\":[24]}},\"selected\":{\"id\":\"1767\"},\"selection_policy\":{\"id\":\"1782\"}},\"id\":\"1766\",\"type\":\"ColumnDataSource\"},{\"attributes\":{},\"id\":\"1749\",\"type\":\"Selection\"},{\"attributes\":{},\"id\":\"1728\",\"type\":\"BasicTicker\"},{\"attributes\":{\"end\":24.0,\"reset_end\":24.0,\"reset_start\":1.0,\"start\":1.0,\"tags\":[[[\"index\",\"index\",null]]]},\"id\":\"1710\",\"type\":\"Range1d\"},{\"attributes\":{\"children\":[{\"id\":\"1709\"},{\"id\":\"1714\"},{\"id\":\"1875\"}],\"margin\":[0,0,0,0],\"name\":\"Row03053\",\"tags\":[\"embedded\"]},\"id\":\"1708\",\"type\":\"Row\"},{\"attributes\":{\"data_source\":{\"id\":\"1748\"},\"glyph\":{\"id\":\"1751\"},\"hover_glyph\":null,\"muted_glyph\":{\"id\":\"1753\"},\"nonselection_glyph\":{\"id\":\"1752\"},\"selection_glyph\":null,\"view\":{\"id\":\"1755\"}},\"id\":\"1754\",\"type\":\"GlyphRenderer\"},{\"attributes\":{\"data_source\":{\"id\":\"1766\"},\"glyph\":{\"id\":\"1769\"},\"hover_glyph\":null,\"muted_glyph\":{\"id\":\"1771\"},\"nonselection_glyph\":{\"id\":\"1770\"},\"selection_glyph\":null,\"view\":{\"id\":\"1773\"}},\"id\":\"1772\",\"type\":\"GlyphRenderer\"},{\"attributes\":{},\"id\":\"1767\",\"type\":\"Selection\"},{\"attributes\":{\"below\":[{\"id\":\"1723\"}],\"center\":[{\"id\":\"1726\"},{\"id\":\"1730\"}],\"left\":[{\"id\":\"1727\"}],\"margin\":[5,5,5,5],\"min_border_bottom\":10,\"min_border_left\":10,\"min_border_right\":10,\"min_border_top\":10,\"plot_height\":300,\"plot_width\":700,\"renderers\":[{\"id\":\"1754\"},{\"id\":\"1772\"}],\"right\":[{\"id\":\"1764\"}],\"sizing_mode\":\"fixed\",\"title\":{\"id\":\"1715\"},\"toolbar\":{\"id\":\"1737\"},\"x_range\":{\"id\":\"1710\"},\"x_scale\":{\"id\":\"1719\"},\"y_range\":{\"id\":\"1711\"},\"y_scale\":{\"id\":\"1721\"}},\"id\":\"1714\",\"subtype\":\"Figure\",\"type\":\"Plot\"},{\"attributes\":{\"margin\":[5,5,5,5],\"name\":\"HSpacer03057\",\"sizing_mode\":\"stretch_width\"},\"id\":\"1709\",\"type\":\"Spacer\"},{\"attributes\":{\"bottom_units\":\"screen\",\"fill_alpha\":0.5,\"fill_color\":\"lightgrey\",\"left_units\":\"screen\",\"level\":\"overlay\",\"line_alpha\":1.0,\"line_color\":\"black\",\"line_dash\":[4,4],\"line_width\":2,\"right_units\":\"screen\",\"top_units\":\"screen\"},\"id\":\"1736\",\"type\":\"BoxAnnotation\"}],\"root_ids\":[\"1708\"]},\"title\":\"Bokeh Application\",\"version\":\"2.2.3\"}};\n",
       "    var render_items = [{\"docid\":\"0b00ab76-bb91-4e0e-b821-c2e41e8e3b7d\",\"root_ids\":[\"1708\"],\"roots\":{\"1708\":\"63afc377-8881-42eb-92d2-611cc4929ab9\"}}];\n",
       "    root.Bokeh.embed.embed_items_notebook(docs_json, render_items);\n",
       "  }\n",
       "  if (root.Bokeh !== undefined && root.Bokeh.Panel !== undefined) {\n",
       "    embed_document(root);\n",
       "  } else {\n",
       "    var attempts = 0;\n",
       "    var timer = setInterval(function(root) {\n",
       "      if (root.Bokeh !== undefined && root.Bokeh.Panel !== undefined) {\n",
       "        clearInterval(timer);\n",
       "        embed_document(root);\n",
       "      } else if (document.readyState == \"complete\") {\n",
       "        attempts++;\n",
       "        if (attempts > 100) {\n",
       "          clearInterval(timer);\n",
       "          console.log(\"Bokeh: ERROR: Unable to run BokehJS code because BokehJS library is missing\");\n",
       "        }\n",
       "      }\n",
       "    }, 10, root)\n",
       "  }\n",
       "})(window);</script>"
      ],
      "text/plain": [
       ":NdOverlay   [Variable]\n",
       "   :Curve   [index]   (value)"
      ]
     },
     "execution_count": 60,
     "metadata": {
      "application/vnd.holoviews_exec.v0+json": {
       "id": "1708"
      }
     },
     "output_type": "execute_result"
    }
   ],
   "source": [
    "score_loss_lr_1fvs2f(score_lstm_lr_1f_df, score_lstm_lr_2f_df)"
   ]
  },
  {
   "cell_type": "code",
   "execution_count": 61,
   "metadata": {},
   "outputs": [
    {
     "data": {
      "application/vnd.holoviews_exec.v0+json": "",
      "text/html": [
       "<div id='1927'>\n",
       "\n",
       "\n",
       "\n",
       "\n",
       "\n",
       "  <div class=\"bk-root\" id=\"f51e41a6-4449-4dc7-a85b-c27619765a28\" data-root-id=\"1927\"></div>\n",
       "</div>\n",
       "<script type=\"application/javascript\">(function(root) {\n",
       "  function embed_document(root) {\n",
       "    var docs_json = {\"c3027216-3d9c-4b89-8c1f-963ce998aa0a\":{\"roots\":{\"references\":[{\"attributes\":{\"bottom_units\":\"screen\",\"fill_alpha\":0.5,\"fill_color\":\"lightgrey\",\"left_units\":\"screen\",\"level\":\"overlay\",\"line_alpha\":1.0,\"line_color\":\"black\",\"line_dash\":[4,4],\"line_width\":2,\"right_units\":\"screen\",\"top_units\":\"screen\"},\"id\":\"1955\",\"type\":\"BoxAnnotation\"},{\"attributes\":{\"axis_label\":\"\",\"bounds\":\"auto\",\"formatter\":{\"id\":\"1966\"},\"major_label_orientation\":\"horizontal\",\"ticker\":{\"id\":\"1947\"}},\"id\":\"1946\",\"type\":\"LinearAxis\"},{\"attributes\":{\"callback\":null,\"renderers\":[{\"id\":\"1973\"},{\"id\":\"1991\"}],\"tags\":[\"hv_created\"],\"tooltips\":[[\"Variable\",\"@{Variable}\"],[\"index\",\"@{index}\"],[\"value\",\"@{value}\"]]},\"id\":\"1931\",\"type\":\"HoverTool\"},{\"attributes\":{\"data\":{\"Variable\":[\"mae_1f\",\"mae_1f\",\"mae_1f\",\"mae_1f\",\"mae_1f\",\"mae_1f\",\"mae_1f\",\"mae_1f\",\"mae_1f\",\"mae_1f\",\"mae_1f\",\"mae_1f\",\"mae_1f\",\"mae_1f\",\"mae_1f\",\"mae_1f\",\"mae_1f\",\"mae_1f\",\"mae_1f\",\"mae_1f\",\"mae_1f\",\"mae_1f\",\"mae_1f\",\"mae_1f\"],\"index\":[1,2,3,4,5,6,7,8,9,10,11,12,13,14,15,16,17,18,19,20,21,22,23,24],\"value\":{\"__ndarray__\":\"AAAAgBxOzT8AAADg71jGPwAAACCeBsQ/AAAAgIVRwj8AAABAg1PAPwAAAGBBebk/AAAAQKaPsT8AAADATHusPwAAAODVK6k/AAAAANt1qD8AAADgqTKoPwAAAGACxKg/AAAA4NR4pz8AAADgr3qnPwAAAIDwXqU/AAAAoFe8pT8AAADgkqemPwAAAIAsN6U/AAAAIJQQpD8AAABgn1OkPwAAACDqNaQ/AAAAAFLgpj8AAAAAAAD4fwAAAAAAAPh/\",\"dtype\":\"float64\",\"order\":\"little\",\"shape\":[24]}},\"selected\":{\"id\":\"1968\"},\"selection_policy\":{\"id\":\"1981\"}},\"id\":\"1967\",\"type\":\"ColumnDataSource\"},{\"attributes\":{\"source\":{\"id\":\"1985\"}},\"id\":\"1992\",\"type\":\"CDSView\"},{\"attributes\":{\"data_source\":{\"id\":\"1967\"},\"glyph\":{\"id\":\"1970\"},\"hover_glyph\":null,\"muted_glyph\":{\"id\":\"1972\"},\"nonselection_glyph\":{\"id\":\"1971\"},\"selection_glyph\":null,\"view\":{\"id\":\"1974\"}},\"id\":\"1973\",\"type\":\"GlyphRenderer\"},{\"attributes\":{\"source\":{\"id\":\"1967\"}},\"id\":\"1974\",\"type\":\"CDSView\"},{\"attributes\":{\"line_color\":\"#ff7e0e\",\"line_width\":2,\"x\":{\"field\":\"index\"},\"y\":{\"field\":\"value\"}},\"id\":\"1988\",\"type\":\"Line\"},{\"attributes\":{},\"id\":\"1950\",\"type\":\"SaveTool\"},{\"attributes\":{},\"id\":\"1951\",\"type\":\"PanTool\"},{\"attributes\":{},\"id\":\"1954\",\"type\":\"ResetTool\"},{\"attributes\":{\"line_color\":\"#1f77b3\",\"line_width\":2,\"x\":{\"field\":\"index\"},\"y\":{\"field\":\"value\"}},\"id\":\"1970\",\"type\":\"Line\"},{\"attributes\":{},\"id\":\"1952\",\"type\":\"WheelZoomTool\"},{\"attributes\":{},\"id\":\"2001\",\"type\":\"UnionRenderers\"},{\"attributes\":{\"overlay\":{\"id\":\"1955\"}},\"id\":\"1953\",\"type\":\"BoxZoomTool\"},{\"attributes\":{\"label\":{\"value\":\"mae_1f\"},\"renderers\":[{\"id\":\"1973\"}]},\"id\":\"1984\",\"type\":\"LegendItem\"},{\"attributes\":{\"label\":{\"value\":\"mae_2f\"},\"renderers\":[{\"id\":\"1991\"}]},\"id\":\"2003\",\"type\":\"LegendItem\"},{\"attributes\":{},\"id\":\"1943\",\"type\":\"BasicTicker\"},{\"attributes\":{\"margin\":[5,5,5,5],\"name\":\"HSpacer03504\",\"sizing_mode\":\"stretch_width\"},\"id\":\"2094\",\"type\":\"Spacer\"},{\"attributes\":{},\"id\":\"1964\",\"type\":\"BasicTickFormatter\"},{\"attributes\":{\"children\":[{\"id\":\"1928\"},{\"id\":\"1933\"},{\"id\":\"2094\"}],\"margin\":[0,0,0,0],\"name\":\"Row03499\",\"tags\":[\"embedded\"]},\"id\":\"1927\",\"type\":\"Row\"},{\"attributes\":{\"text\":\"\",\"text_color\":{\"value\":\"black\"},\"text_font_size\":{\"value\":\"12pt\"}},\"id\":\"1934\",\"type\":\"Title\"},{\"attributes\":{},\"id\":\"1966\",\"type\":\"BasicTickFormatter\"},{\"attributes\":{},\"id\":\"1981\",\"type\":\"UnionRenderers\"},{\"attributes\":{\"click_policy\":\"mute\",\"items\":[{\"id\":\"1984\"},{\"id\":\"2003\"}],\"location\":[0,0],\"title\":\"Variable\"},\"id\":\"1983\",\"type\":\"Legend\"},{\"attributes\":{},\"id\":\"1938\",\"type\":\"LinearScale\"},{\"attributes\":{\"data\":{\"Variable\":[\"mae_2f\",\"mae_2f\",\"mae_2f\",\"mae_2f\",\"mae_2f\",\"mae_2f\",\"mae_2f\",\"mae_2f\",\"mae_2f\",\"mae_2f\",\"mae_2f\",\"mae_2f\",\"mae_2f\",\"mae_2f\",\"mae_2f\",\"mae_2f\",\"mae_2f\",\"mae_2f\",\"mae_2f\",\"mae_2f\",\"mae_2f\",\"mae_2f\",\"mae_2f\",\"mae_2f\"],\"index\":[1,2,3,4,5,6,7,8,9,10,11,12,13,14,15,16,17,18,19,20,21,22,23,24],\"value\":{\"__ndarray__\":\"AAAAQNQUyz8AAACAcgrEPwAAACAOX8M/AAAA4OB+wD8AAADA5v25PwAAAAA0w7E/AAAAYG78rT8AAAAAH2KuPwAAAMCZYaw/AAAAQMNZqz8AAACAtF6tPwAAACD+u6s/AAAAQNDyqj8AAACgNjiqPwAAAKCV3ak/AAAAoPwEqT8AAABAbaWoPwAAAMB6Vag/AAAAIGklqD8AAACgj1ioPwAAAEDybqY/AAAAwEQYpz8AAADAbRenPwAAAMD1SaY/\",\"dtype\":\"float64\",\"order\":\"little\",\"shape\":[24]}},\"selected\":{\"id\":\"1986\"},\"selection_policy\":{\"id\":\"2001\"}},\"id\":\"1985\",\"type\":\"ColumnDataSource\"},{\"attributes\":{},\"id\":\"1940\",\"type\":\"LinearScale\"},{\"attributes\":{\"end\":0.24792199693620204,\"reset_end\":0.24792199693620204,\"reset_start\":0.020213256403803823,\"start\":0.020213256403803823,\"tags\":[[[\"value\",\"value\",null]]]},\"id\":\"1930\",\"type\":\"Range1d\"},{\"attributes\":{\"line_alpha\":0.2,\"line_color\":\"#ff7e0e\",\"line_width\":2,\"x\":{\"field\":\"index\"},\"y\":{\"field\":\"value\"}},\"id\":\"1990\",\"type\":\"Line\"},{\"attributes\":{\"axis_label\":\"\",\"bounds\":\"auto\",\"formatter\":{\"id\":\"1964\"},\"major_label_orientation\":\"horizontal\",\"ticker\":{\"id\":\"1943\"}},\"id\":\"1942\",\"type\":\"LinearAxis\"},{\"attributes\":{\"margin\":[5,5,5,5],\"name\":\"HSpacer03503\",\"sizing_mode\":\"stretch_width\"},\"id\":\"1928\",\"type\":\"Spacer\"},{\"attributes\":{\"line_alpha\":0.2,\"line_color\":\"#1f77b3\",\"line_width\":2,\"x\":{\"field\":\"index\"},\"y\":{\"field\":\"value\"}},\"id\":\"1972\",\"type\":\"Line\"},{\"attributes\":{\"axis\":{\"id\":\"1946\"},\"dimension\":1,\"grid_line_color\":null,\"ticker\":null},\"id\":\"1949\",\"type\":\"Grid\"},{\"attributes\":{\"below\":[{\"id\":\"1942\"}],\"center\":[{\"id\":\"1945\"},{\"id\":\"1949\"}],\"left\":[{\"id\":\"1946\"}],\"margin\":[5,5,5,5],\"min_border_bottom\":10,\"min_border_left\":10,\"min_border_right\":10,\"min_border_top\":10,\"plot_height\":300,\"plot_width\":700,\"renderers\":[{\"id\":\"1973\"},{\"id\":\"1991\"}],\"right\":[{\"id\":\"1983\"}],\"sizing_mode\":\"fixed\",\"title\":{\"id\":\"1934\"},\"toolbar\":{\"id\":\"1956\"},\"x_range\":{\"id\":\"1929\"},\"x_scale\":{\"id\":\"1938\"},\"y_range\":{\"id\":\"1930\"},\"y_scale\":{\"id\":\"1940\"}},\"id\":\"1933\",\"subtype\":\"Figure\",\"type\":\"Plot\"},{\"attributes\":{\"axis\":{\"id\":\"1942\"},\"grid_line_color\":null,\"ticker\":null},\"id\":\"1945\",\"type\":\"Grid\"},{\"attributes\":{\"line_alpha\":0.1,\"line_color\":\"#1f77b3\",\"line_width\":2,\"x\":{\"field\":\"index\"},\"y\":{\"field\":\"value\"}},\"id\":\"1971\",\"type\":\"Line\"},{\"attributes\":{},\"id\":\"1986\",\"type\":\"Selection\"},{\"attributes\":{\"line_alpha\":0.1,\"line_color\":\"#ff7e0e\",\"line_width\":2,\"x\":{\"field\":\"index\"},\"y\":{\"field\":\"value\"}},\"id\":\"1989\",\"type\":\"Line\"},{\"attributes\":{},\"id\":\"1968\",\"type\":\"Selection\"},{\"attributes\":{\"active_drag\":\"auto\",\"active_inspect\":\"auto\",\"active_multi\":null,\"active_scroll\":\"auto\",\"active_tap\":\"auto\",\"tools\":[{\"id\":\"1931\"},{\"id\":\"1950\"},{\"id\":\"1951\"},{\"id\":\"1952\"},{\"id\":\"1953\"},{\"id\":\"1954\"}]},\"id\":\"1956\",\"type\":\"Toolbar\"},{\"attributes\":{\"end\":24.0,\"reset_end\":24.0,\"reset_start\":1.0,\"start\":1.0,\"tags\":[[[\"index\",\"index\",null]]]},\"id\":\"1929\",\"type\":\"Range1d\"},{\"attributes\":{},\"id\":\"1947\",\"type\":\"BasicTicker\"},{\"attributes\":{\"data_source\":{\"id\":\"1985\"},\"glyph\":{\"id\":\"1988\"},\"hover_glyph\":null,\"muted_glyph\":{\"id\":\"1990\"},\"nonselection_glyph\":{\"id\":\"1989\"},\"selection_glyph\":null,\"view\":{\"id\":\"1992\"}},\"id\":\"1991\",\"type\":\"GlyphRenderer\"}],\"root_ids\":[\"1927\"]},\"title\":\"Bokeh Application\",\"version\":\"2.2.3\"}};\n",
       "    var render_items = [{\"docid\":\"c3027216-3d9c-4b89-8c1f-963ce998aa0a\",\"root_ids\":[\"1927\"],\"roots\":{\"1927\":\"f51e41a6-4449-4dc7-a85b-c27619765a28\"}}];\n",
       "    root.Bokeh.embed.embed_items_notebook(docs_json, render_items);\n",
       "  }\n",
       "  if (root.Bokeh !== undefined && root.Bokeh.Panel !== undefined) {\n",
       "    embed_document(root);\n",
       "  } else {\n",
       "    var attempts = 0;\n",
       "    var timer = setInterval(function(root) {\n",
       "      if (root.Bokeh !== undefined && root.Bokeh.Panel !== undefined) {\n",
       "        clearInterval(timer);\n",
       "        embed_document(root);\n",
       "      } else if (document.readyState == \"complete\") {\n",
       "        attempts++;\n",
       "        if (attempts > 100) {\n",
       "          clearInterval(timer);\n",
       "          console.log(\"Bokeh: ERROR: Unable to run BokehJS code because BokehJS library is missing\");\n",
       "        }\n",
       "      }\n",
       "    }, 10, root)\n",
       "  }\n",
       "})(window);</script>"
      ],
      "text/plain": [
       ":NdOverlay   [Variable]\n",
       "   :Curve   [index]   (value)"
      ]
     },
     "execution_count": 61,
     "metadata": {
      "application/vnd.holoviews_exec.v0+json": {
       "id": "1927"
      }
     },
     "output_type": "execute_result"
    }
   ],
   "source": [
    "score_mae_lr_1fvs2f(score_lstm_lr_1f_df, score_lstm_lr_2f_df)"
   ]
  },
  {
   "cell_type": "code",
   "execution_count": 62,
   "metadata": {},
   "outputs": [
    {
     "data": {
      "application/vnd.holoviews_exec.v0+json": "",
      "text/html": [
       "<div id='2146'>\n",
       "\n",
       "\n",
       "\n",
       "\n",
       "\n",
       "  <div class=\"bk-root\" id=\"fa3a7a6e-ee5c-4c3c-aca1-fd1cfc3bf0c4\" data-root-id=\"2146\"></div>\n",
       "</div>\n",
       "<script type=\"application/javascript\">(function(root) {\n",
       "  function embed_document(root) {\n",
       "    var docs_json = {\"43d21d7f-e4c9-4ba3-a2c1-a9519628a76f\":{\"roots\":{\"references\":[{\"attributes\":{\"axis\":{\"id\":\"2166\"},\"dimension\":1,\"grid_line_color\":null,\"ticker\":null},\"id\":\"2169\",\"type\":\"Grid\"},{\"attributes\":{\"label\":{\"value\":\"actual\"},\"renderers\":[{\"id\":\"2211\"}]},\"id\":\"2223\",\"type\":\"LegendItem\"},{\"attributes\":{},\"id\":\"2163\",\"type\":\"BasicTicker\"},{\"attributes\":{\"callback\":null,\"renderers\":[{\"id\":\"2193\"},{\"id\":\"2211\"},{\"id\":\"2230\"}],\"tags\":[\"hv_created\"],\"tooltips\":[[\"Variable\",\"@{Variable}\"],[\"index\",\"@{index}\"],[\"value\",\"@{value}\"]]},\"id\":\"2150\",\"type\":\"HoverTool\"},{\"attributes\":{\"data_source\":{\"id\":\"2187\"},\"glyph\":{\"id\":\"2190\"},\"hover_glyph\":null,\"muted_glyph\":{\"id\":\"2192\"},\"nonselection_glyph\":{\"id\":\"2191\"},\"selection_glyph\":null,\"view\":{\"id\":\"2194\"}},\"id\":\"2193\",\"type\":\"GlyphRenderer\"},{\"attributes\":{\"data_source\":{\"id\":\"2205\"},\"glyph\":{\"id\":\"2208\"},\"hover_glyph\":null,\"muted_glyph\":{\"id\":\"2210\"},\"nonselection_glyph\":{\"id\":\"2209\"},\"selection_glyph\":null,\"view\":{\"id\":\"2212\"}},\"id\":\"2211\",\"type\":\"GlyphRenderer\"},{\"attributes\":{\"active_drag\":\"auto\",\"active_inspect\":\"auto\",\"active_multi\":null,\"active_scroll\":\"auto\",\"active_tap\":\"auto\",\"tools\":[{\"id\":\"2150\"},{\"id\":\"2170\"},{\"id\":\"2171\"},{\"id\":\"2172\"},{\"id\":\"2173\"},{\"id\":\"2174\"}]},\"id\":\"2176\",\"type\":\"Toolbar\"},{\"attributes\":{\"line_alpha\":0.2,\"line_color\":\"#1f77b3\",\"line_width\":2,\"x\":{\"field\":\"index\"},\"y\":{\"field\":\"value\"}},\"id\":\"2192\",\"type\":\"Line\"},{\"attributes\":{\"data\":{\"Variable\":[\"predict_2features\",\"predict_2features\",\"predict_2features\",\"predict_2features\",\"predict_2features\",\"predict_2features\",\"predict_2features\",\"predict_2features\",\"predict_2features\",\"predict_2features\",\"predict_2features\",\"predict_2features\",\"predict_2features\",\"predict_2features\",\"predict_2features\",\"predict_2features\",\"predict_2features\",\"predict_2features\",\"predict_2features\",\"predict_2features\",\"predict_2features\",\"predict_2features\",\"predict_2features\",\"predict_2features\",\"predict_2features\",\"predict_2features\",\"predict_2features\",\"predict_2features\",\"predict_2features\",\"predict_2features\",\"predict_2features\",\"predict_2features\",\"predict_2features\",\"predict_2features\",\"predict_2features\",\"predict_2features\",\"predict_2features\",\"predict_2features\",\"predict_2features\",\"predict_2features\",\"predict_2features\",\"predict_2features\",\"predict_2features\",\"predict_2features\",\"predict_2features\",\"predict_2features\",\"predict_2features\",\"predict_2features\",\"predict_2features\",\"predict_2features\",\"predict_2features\",\"predict_2features\",\"predict_2features\",\"predict_2features\",\"predict_2features\",\"predict_2features\",\"predict_2features\",\"predict_2features\",\"predict_2features\",\"predict_2features\",\"predict_2features\",\"predict_2features\",\"predict_2features\",\"predict_2features\",\"predict_2features\",\"predict_2features\",\"predict_2features\",\"predict_2features\",\"predict_2features\",\"predict_2features\",\"predict_2features\",\"predict_2features\",\"predict_2features\",\"predict_2features\",\"predict_2features\",\"predict_2features\",\"predict_2features\",\"predict_2features\",\"predict_2features\",\"predict_2features\",\"predict_2features\",\"predict_2features\",\"predict_2features\",\"predict_2features\",\"predict_2features\",\"predict_2features\",\"predict_2features\",\"predict_2features\",\"predict_2features\",\"predict_2features\",\"predict_2features\",\"predict_2features\",\"predict_2features\",\"predict_2features\",\"predict_2features\",\"predict_2features\",\"predict_2features\",\"predict_2features\",\"predict_2features\",\"predict_2features\",\"predict_2features\",\"predict_2features\",\"predict_2features\",\"predict_2features\",\"predict_2features\",\"predict_2features\",\"predict_2features\",\"predict_2features\",\"predict_2features\",\"predict_2features\",\"predict_2features\",\"predict_2features\",\"predict_2features\",\"predict_2features\",\"predict_2features\",\"predict_2features\",\"predict_2features\",\"predict_2features\",\"predict_2features\",\"predict_2features\",\"predict_2features\",\"predict_2features\",\"predict_2features\",\"predict_2features\",\"predict_2features\",\"predict_2features\",\"predict_2features\",\"predict_2features\",\"predict_2features\",\"predict_2features\",\"predict_2features\",\"predict_2features\",\"predict_2features\",\"predict_2features\",\"predict_2features\",\"predict_2features\",\"predict_2features\",\"predict_2features\",\"predict_2features\",\"predict_2features\",\"predict_2features\",\"predict_2features\",\"predict_2features\",\"predict_2features\",\"predict_2features\",\"predict_2features\",\"predict_2features\"],\"index\":[0,1,2,3,4,5,6,7,8,9,10,11,12,13,14,15,16,17,18,19,20,21,22,23,24,25,26,27,28,29,30,31,32,33,34,35,36,37,38,39,40,41,42,43,44,45,46,47,48,49,50,51,52,53,54,55,56,57,58,59,60,61,62,63,64,65,66,67,68,69,70,71,72,73,74,75,76,77,78,79,80,81,82,83,84,85,86,87,88,89,90,91,92,93,94,95,96,97,98,99,100,101,102,103,104,105,106,107,108,109,110,111,112,113,114,115,116,117,118,119,120,121,122,123,124,125,126,127,128,129,130,131,132,133,134,135,136,137,138,139,140,141,142,143,144,145,146],\"value\":{\"__ndarray__\":\"mEM6PwOfST8mHz4/3203P2YLNj8knDY/vQY3P1BWNz9GXjc/zTNGP/ZoTD+g3k0/IlpOP7riPz+KnE8/dW0/P7QpTD+KOkQ/7H1MP/0nWD9sjFY/XsBZPw24TD92R2k/DbhMP3ZHaT/Jtl0/SupPP5sXUj8a3lk/7rFWP4CJVj9C/lw/RAJjP7FOVj8yIlQ/OMdgP/KSYj/IuVc/BKxeP9R4Xj+4S2I/IVVgP2BbYD8+pWE/CnxnP2grWz/6A14/n/1dPz8CYz/YVVo/CpVaP3eKXj9Oj2U/+G5zP06PZT/4bnM/cdlnP/42az/aVVs/0FNXP1PHZD8s0Wo/hJZyPzwbZD/gtmY/UNdpP9uEZj/64Gk/rcBlPyw0YT+jmGA/mEdmP4z1ZD+GoWE/1BhdP5R1Yj9eSmQ/7RZiP2bLVz9z1Us/BehlP6ZCYj+UIl4/jGNcP+ENXj8oNVw/IC5YP3/jXj9colc/Bt5aP7cYXD8sr2A/txhcPyyvYD+kw2M/fGlsPwTVXD8c8Gc/iHtfP4z3YT/sN2k/MJhmPzkJYT/nLGk/XZZePwgXYz/NWmQ/Jl5nP+QDaT9QzWE/yK1nP7QxZj+UlGI/tOZiP6rCZD8Rp10/FqZdP4lkcD+5ZV4/YktqP6bJaj/EP2w/6otpP2ndZz+WbGY/B4BnPxAaaj+7CW4/NqVuP8hxYz8benE/tJVsP5h7aD9Yi2s/KqVjPyB6bD/ukGU/GLhoP5oPZz+7om0/4HVtP7Jsaz9We24/IWtqPw63bz/xdWY/\",\"dtype\":\"float32\",\"order\":\"little\",\"shape\":[147]}},\"selected\":{\"id\":\"2225\"},\"selection_policy\":{\"id\":\"2242\"}},\"id\":\"2224\",\"type\":\"ColumnDataSource\"},{\"attributes\":{\"axis\":{\"id\":\"2162\"},\"grid_line_color\":null,\"ticker\":null},\"id\":\"2165\",\"type\":\"Grid\"},{\"attributes\":{\"line_color\":\"#ff7e0e\",\"line_width\":2,\"x\":{\"field\":\"index\"},\"y\":{\"field\":\"value\"}},\"id\":\"2208\",\"type\":\"Line\"},{\"attributes\":{\"source\":{\"id\":\"2224\"}},\"id\":\"2231\",\"type\":\"CDSView\"},{\"attributes\":{},\"id\":\"2184\",\"type\":\"BasicTickFormatter\"},{\"attributes\":{\"source\":{\"id\":\"2205\"}},\"id\":\"2212\",\"type\":\"CDSView\"},{\"attributes\":{},\"id\":\"2206\",\"type\":\"Selection\"},{\"attributes\":{},\"id\":\"2221\",\"type\":\"UnionRenderers\"},{\"attributes\":{\"bottom_units\":\"screen\",\"fill_alpha\":0.5,\"fill_color\":\"lightgrey\",\"left_units\":\"screen\",\"level\":\"overlay\",\"line_alpha\":1.0,\"line_color\":\"black\",\"line_dash\":[4,4],\"line_width\":2,\"right_units\":\"screen\",\"top_units\":\"screen\"},\"id\":\"2175\",\"type\":\"BoxAnnotation\"},{\"attributes\":{},\"id\":\"2167\",\"type\":\"BasicTicker\"},{\"attributes\":{\"children\":[{\"id\":\"2147\"},{\"id\":\"2153\"},{\"id\":\"2353\"}],\"margin\":[0,0,0,0],\"name\":\"Row03969\",\"tags\":[\"embedded\"]},\"id\":\"2146\",\"type\":\"Row\"},{\"attributes\":{\"source\":{\"id\":\"2187\"}},\"id\":\"2194\",\"type\":\"CDSView\"},{\"attributes\":{\"axis_label\":\"\",\"bounds\":\"auto\",\"formatter\":{\"id\":\"2186\"},\"major_label_orientation\":\"horizontal\",\"ticker\":{\"id\":\"2167\"}},\"id\":\"2166\",\"type\":\"LinearAxis\"},{\"attributes\":{\"text\":\"\",\"text_color\":{\"value\":\"black\"},\"text_font_size\":{\"value\":\"12pt\"}},\"id\":\"2154\",\"type\":\"Title\"},{\"attributes\":{\"line_color\":\"#2ba02b\",\"line_width\":2,\"x\":{\"field\":\"index\"},\"y\":{\"field\":\"value\"}},\"id\":\"2227\",\"type\":\"Line\"},{\"attributes\":{\"label\":{\"value\":\"predict_1feature\"},\"renderers\":[{\"id\":\"2193\"}]},\"id\":\"2204\",\"type\":\"LegendItem\"},{\"attributes\":{},\"id\":\"2170\",\"type\":\"SaveTool\"},{\"attributes\":{\"end\":1.0288888573646549,\"reset_end\":1.0288888573646549,\"reset_start\":0.6822225689888001,\"start\":0.6822225689888001,\"tags\":[[[\"value\",\"value\",null]]]},\"id\":\"2149\",\"type\":\"Range1d\"},{\"attributes\":{},\"id\":\"2171\",\"type\":\"PanTool\"},{\"attributes\":{},\"id\":\"2201\",\"type\":\"UnionRenderers\"},{\"attributes\":{\"below\":[{\"id\":\"2162\"}],\"center\":[{\"id\":\"2165\"},{\"id\":\"2169\"}],\"left\":[{\"id\":\"2166\"}],\"margin\":[5,5,5,5],\"min_border_bottom\":10,\"min_border_left\":10,\"min_border_right\":10,\"min_border_top\":10,\"plot_height\":300,\"plot_width\":700,\"renderers\":[{\"id\":\"2193\"},{\"id\":\"2211\"},{\"id\":\"2230\"}],\"right\":[{\"id\":\"2203\"}],\"sizing_mode\":\"fixed\",\"title\":{\"id\":\"2154\"},\"toolbar\":{\"id\":\"2176\"},\"x_range\":{\"id\":\"2148\"},\"x_scale\":{\"id\":\"2158\"},\"y_range\":{\"id\":\"2149\"},\"y_scale\":{\"id\":\"2160\"}},\"id\":\"2153\",\"subtype\":\"Figure\",\"type\":\"Plot\"},{\"attributes\":{\"data_source\":{\"id\":\"2224\"},\"glyph\":{\"id\":\"2227\"},\"hover_glyph\":null,\"muted_glyph\":{\"id\":\"2229\"},\"nonselection_glyph\":{\"id\":\"2228\"},\"selection_glyph\":null,\"view\":{\"id\":\"2231\"}},\"id\":\"2230\",\"type\":\"GlyphRenderer\"},{\"attributes\":{\"click_policy\":\"mute\",\"items\":[{\"id\":\"2204\"},{\"id\":\"2223\"},{\"id\":\"2244\"}],\"location\":[0,0],\"title\":\"Variable\"},\"id\":\"2203\",\"type\":\"Legend\"},{\"attributes\":{},\"id\":\"2174\",\"type\":\"ResetTool\"},{\"attributes\":{\"margin\":[5,5,5,5],\"name\":\"HSpacer03974\",\"sizing_mode\":\"stretch_width\"},\"id\":\"2353\",\"type\":\"Spacer\"},{\"attributes\":{\"data\":{\"Variable\":[\"actual\",\"actual\",\"actual\",\"actual\",\"actual\",\"actual\",\"actual\",\"actual\",\"actual\",\"actual\",\"actual\",\"actual\",\"actual\",\"actual\",\"actual\",\"actual\",\"actual\",\"actual\",\"actual\",\"actual\",\"actual\",\"actual\",\"actual\",\"actual\",\"actual\",\"actual\",\"actual\",\"actual\",\"actual\",\"actual\",\"actual\",\"actual\",\"actual\",\"actual\",\"actual\",\"actual\",\"actual\",\"actual\",\"actual\",\"actual\",\"actual\",\"actual\",\"actual\",\"actual\",\"actual\",\"actual\",\"actual\",\"actual\",\"actual\",\"actual\",\"actual\",\"actual\",\"actual\",\"actual\",\"actual\",\"actual\",\"actual\",\"actual\",\"actual\",\"actual\",\"actual\",\"actual\",\"actual\",\"actual\",\"actual\",\"actual\",\"actual\",\"actual\",\"actual\",\"actual\",\"actual\",\"actual\",\"actual\",\"actual\",\"actual\",\"actual\",\"actual\",\"actual\",\"actual\",\"actual\",\"actual\",\"actual\",\"actual\",\"actual\",\"actual\",\"actual\",\"actual\",\"actual\",\"actual\",\"actual\",\"actual\",\"actual\",\"actual\",\"actual\",\"actual\",\"actual\",\"actual\",\"actual\",\"actual\",\"actual\",\"actual\",\"actual\",\"actual\",\"actual\",\"actual\",\"actual\",\"actual\",\"actual\",\"actual\",\"actual\",\"actual\",\"actual\",\"actual\",\"actual\",\"actual\",\"actual\",\"actual\",\"actual\",\"actual\",\"actual\",\"actual\",\"actual\",\"actual\",\"actual\",\"actual\",\"actual\",\"actual\",\"actual\",\"actual\",\"actual\",\"actual\",\"actual\",\"actual\",\"actual\",\"actual\",\"actual\",\"actual\",\"actual\",\"actual\",\"actual\",\"actual\",\"actual\",\"actual\",\"actual\",\"actual\",\"actual\",\"actual\"],\"index\":[0,1,2,3,4,5,6,7,8,9,10,11,12,13,14,15,16,17,18,19,20,21,22,23,24,25,26,27,28,29,30,31,32,33,34,35,36,37,38,39,40,41,42,43,44,45,46,47,48,49,50,51,52,53,54,55,56,57,58,59,60,61,62,63,64,65,66,67,68,69,70,71,72,73,74,75,76,77,78,79,80,81,82,83,84,85,86,87,88,89,90,91,92,93,94,95,96,97,98,99,100,101,102,103,104,105,106,107,108,109,110,111,112,113,114,115,116,117,118,119,120,121,122,123,124,125,126,127,128,129,130,131,132,133,134,135,136,137,138,139,140,141,142,143,144,145,146],\"value\":{\"__ndarray__\":\"QzLu9oP05z/LEcLHX/XnP2pvEL+noec/M0YQazSV5z8BMdzEd9nnP++eag1YNeg/hFZQvMxE6D/knpXwVN3nP3PE3gStoOg/aKqLJs8w6j+LTD+CdHToP3m1Wh8nvOg/QK+qXvDk6D8apDEskqnpP7JHIEpTwOk/SAR5pPXj6T/gxUSqxRvqPxoDEazveOo/IE75mplP6z+6Hh6j8sPrP+q1gVxJhOw/nhN6jZfg7D8gLwgukSPtPyAvCC6RI+0/IC8ILpEj7T8gLwgukSPtP6zw/hZeA+0/6Hnybyjq6z+6S1SNiiHsP65zQq/xEuw/3kznaI006z80o5z9oabsP1I6Y93vsew/LgO75fUo6z+aQe/fJfHqP/AVdWGgXus/Tnck0gkE6z8GwSVypGfrPwDVHANYYOs/Dp2WdnF/7T+w15TafPbsPwphB4pQ5ew/gNG5Nkl37T/6nOw8a8/sPyKt2Br3Huw/HGLwK01I6z+slpJCLkjsPwI0/IK1L+w/BiAF8gE37D/0vmKfXHHsP3CzMhU0puw/FP2Je8hZ7D+eOz3MASrtP2jv7ORR6Ow/aO/s5FHo7D9o7+zkUejsP2jv7ORR6Ow/RI96ifEF7T9AOSui2nvtPzZhW/1cRe4/aAKlDQ8u7z+8lSj3Ou3uPwEAAAAAAPA/SMsJdhKg7T8EssxvGyvrP3SayNhSmew/JGLFSFCg6z8E5HUF4ZzrP/ZgXVBKNew/cCyQVmyN6z/EuqCUajjrP3qlwrSnzOo/PsJih60q6z9as4jbLfbrP55Vu43cQes/PDqsQ+wG7D8wj9BP61XsP4AYbuK77Os/kg4yxWZ07D+CfMANR9DsP25P4Omowus/aL1DT4x27D++BbRmEbfrP4JKF3iBXuw/UhcG6rWB7D8iPmEwGmDtPyC7HZiGUO4/6Lnggn2N7j9axkAE6zvuPxDUsrdkBe4/TORIz/YE7j/eMmmnshztP94yaaeyHO0/3jJpp7Ic7T/eMmmnshztP2Irp7RvKu0/Hr72oRg07T/UZD0gdTbtP5xjAAtsc+0/jiIpVhpt7D9eHE6y5u3sP5xQSOKuLes/TqnNZ8916z+oI+cUGijrP7zJJHrwHOs/JM/pRT2h7j/yMhPhuMztPzKeKVJ0kuw/VoDLwG557T8WZk9SgVHtPwy7c16AoO0/LDnDoe+j7T98ve2IkibtP17vF8hOkOw/BHCLb9bJ7D8c7gWWQnXsP/SDreOGauw/wpuvJ2IM7T9UTiIrqQftP0yK3PrGSe0/yLTugEZx7T9Ctz3IW0/tPyoCp2D8He0//rC46iEg7T/uGdSH1GftPxIlTboyo+w/AtJD+cV87D+QWUWXDfPsPwiEVx2NGu0/vLQZZEMZ7T8Qzz8MN/HtP65ZxO0W++0/ZGc2oZDE7T/8Xx7oU4LuPzx/DQJvvu4/QDT6L8g/7j8SOAXj7+juP753Sw8szO4/zgRKGx5c7j+qpNe/vXnuP1iPJMP3te0/qkpr642+7T+khiW7qwDuP5qGUJ6oqO0/utL2S1I67T8YcDWp3HntP7S5t/Jt1ew/\",\"dtype\":\"float64\",\"order\":\"little\",\"shape\":[147]}},\"selected\":{\"id\":\"2206\"},\"selection_policy\":{\"id\":\"2221\"}},\"id\":\"2205\",\"type\":\"ColumnDataSource\"},{\"attributes\":{},\"id\":\"2172\",\"type\":\"WheelZoomTool\"},{\"attributes\":{\"line_alpha\":0.2,\"line_color\":\"#ff7e0e\",\"line_width\":2,\"x\":{\"field\":\"index\"},\"y\":{\"field\":\"value\"}},\"id\":\"2210\",\"type\":\"Line\"},{\"attributes\":{},\"id\":\"2188\",\"type\":\"Selection\"},{\"attributes\":{\"overlay\":{\"id\":\"2175\"}},\"id\":\"2173\",\"type\":\"BoxZoomTool\"},{\"attributes\":{\"data\":{\"Variable\":[\"predict_1feature\",\"predict_1feature\",\"predict_1feature\",\"predict_1feature\",\"predict_1feature\",\"predict_1feature\",\"predict_1feature\",\"predict_1feature\",\"predict_1feature\",\"predict_1feature\",\"predict_1feature\",\"predict_1feature\",\"predict_1feature\",\"predict_1feature\",\"predict_1feature\",\"predict_1feature\",\"predict_1feature\",\"predict_1feature\",\"predict_1feature\",\"predict_1feature\",\"predict_1feature\",\"predict_1feature\",\"predict_1feature\",\"predict_1feature\",\"predict_1feature\",\"predict_1feature\",\"predict_1feature\",\"predict_1feature\",\"predict_1feature\",\"predict_1feature\",\"predict_1feature\",\"predict_1feature\",\"predict_1feature\",\"predict_1feature\",\"predict_1feature\",\"predict_1feature\",\"predict_1feature\",\"predict_1feature\",\"predict_1feature\",\"predict_1feature\",\"predict_1feature\",\"predict_1feature\",\"predict_1feature\",\"predict_1feature\",\"predict_1feature\",\"predict_1feature\",\"predict_1feature\",\"predict_1feature\",\"predict_1feature\",\"predict_1feature\",\"predict_1feature\",\"predict_1feature\",\"predict_1feature\",\"predict_1feature\",\"predict_1feature\",\"predict_1feature\",\"predict_1feature\",\"predict_1feature\",\"predict_1feature\",\"predict_1feature\",\"predict_1feature\",\"predict_1feature\",\"predict_1feature\",\"predict_1feature\",\"predict_1feature\",\"predict_1feature\",\"predict_1feature\",\"predict_1feature\",\"predict_1feature\",\"predict_1feature\",\"predict_1feature\",\"predict_1feature\",\"predict_1feature\",\"predict_1feature\",\"predict_1feature\",\"predict_1feature\",\"predict_1feature\",\"predict_1feature\",\"predict_1feature\",\"predict_1feature\",\"predict_1feature\",\"predict_1feature\",\"predict_1feature\",\"predict_1feature\",\"predict_1feature\",\"predict_1feature\",\"predict_1feature\",\"predict_1feature\",\"predict_1feature\",\"predict_1feature\",\"predict_1feature\",\"predict_1feature\",\"predict_1feature\",\"predict_1feature\",\"predict_1feature\",\"predict_1feature\",\"predict_1feature\",\"predict_1feature\",\"predict_1feature\",\"predict_1feature\",\"predict_1feature\",\"predict_1feature\",\"predict_1feature\",\"predict_1feature\",\"predict_1feature\",\"predict_1feature\",\"predict_1feature\",\"predict_1feature\",\"predict_1feature\",\"predict_1feature\",\"predict_1feature\",\"predict_1feature\",\"predict_1feature\",\"predict_1feature\",\"predict_1feature\",\"predict_1feature\",\"predict_1feature\",\"predict_1feature\",\"predict_1feature\",\"predict_1feature\",\"predict_1feature\",\"predict_1feature\",\"predict_1feature\",\"predict_1feature\",\"predict_1feature\",\"predict_1feature\",\"predict_1feature\",\"predict_1feature\",\"predict_1feature\",\"predict_1feature\",\"predict_1feature\",\"predict_1feature\",\"predict_1feature\",\"predict_1feature\",\"predict_1feature\",\"predict_1feature\",\"predict_1feature\",\"predict_1feature\",\"predict_1feature\",\"predict_1feature\",\"predict_1feature\",\"predict_1feature\",\"predict_1feature\",\"predict_1feature\",\"predict_1feature\",\"predict_1feature\",\"predict_1feature\"],\"index\":[0,1,2,3,4,5,6,7,8,9,10,11,12,13,14,15,16,17,18,19,20,21,22,23,24,25,26,27,28,29,30,31,32,33,34,35,36,37,38,39,40,41,42,43,44,45,46,47,48,49,50,51,52,53,54,55,56,57,58,59,60,61,62,63,64,65,66,67,68,69,70,71,72,73,74,75,76,77,78,79,80,81,82,83,84,85,86,87,88,89,90,91,92,93,94,95,96,97,98,99,100,101,102,103,104,105,106,107,108,109,110,111,112,113,114,115,116,117,118,119,120,121,122,123,124,125,126,127,128,129,130,131,132,133,134,135,136,137,138,139,140,141,142,143,144,145,146],\"value\":{\"__ndarray__\":\"4IBAP9hqQT/kGEI/TJRDP1w9RD+k30Q/OFdFP4ewRT90uUU/AJFGP16pRz9EK0g/er1IPyosST911kk/PHVLPzbVUT9GxVI/wvRTP/LRVj/clFg/HtVbP+KNXT/ijV0/fst1P37LdT8A4l4/fu9gP8xdYj9q0mM/lKJlP94gZj91+2c/ZLloPwYVaT8eJ2k/0bdpPyj2aT/uAGo/wtxpP0pNaj+Or2o/rLFqPyzXaj/nv2o/jtdqP0B2aj8ajmo/J+tqP+Reaz8IR2s/gntrPwtUaz+sOWw/rDlsP5wffD+cH3w/wBptPwPYbT9R8m4/4jlwPwa0cz+DYXU/kMJ2PxL1dj/MiHY/bh53P7F6dj86NnY/jBt2P8eedT8oHnU/5hB0P4pKcz/7oXE/4ElwP4jhbj+qbm0/6hZsPy/Qaj+2Ymk/qoxoPxVEaD/Zgmg/eWhoP4zNaD8QsGk/6OVqP5zyaz+2JW0/NGZuP1bWbz9W1m8/IllzPyJZcz+TtHA/Dj5xP7ZNcj+yLHM/9M5zP0bZcz+zS3Q/U7pzPxMgcz8+23I/z8FyPwhJdD9kDnQ/sixzPxTWcj/zhXI/MVlyP3CVcj+4k3I/vkpyP1gacj8PqXE/6KdxP3+1cT+5iHI/8Dd0PyhBdT+b8nU/2SF1P0hwdD9mQ3Q/2Ep0P2zacz9isHM/wnRzPwM3cz87kXM/rjJ0PzmidD+si3U/a5R2P5vHdz+4f3g/9j55PwCneT8iK3o/Z256P8y2ej9lUXs//NV7P371ez/6CXw/\",\"dtype\":\"float32\",\"order\":\"little\",\"shape\":[147]}},\"selected\":{\"id\":\"2188\"},\"selection_policy\":{\"id\":\"2201\"}},\"id\":\"2187\",\"type\":\"ColumnDataSource\"},{\"attributes\":{\"line_alpha\":0.1,\"line_color\":\"#2ba02b\",\"line_width\":2,\"x\":{\"field\":\"index\"},\"y\":{\"field\":\"value\"}},\"id\":\"2228\",\"type\":\"Line\"},{\"attributes\":{\"margin\":[5,5,5,5],\"name\":\"HSpacer03973\",\"sizing_mode\":\"stretch_width\"},\"id\":\"2147\",\"type\":\"Spacer\"},{\"attributes\":{\"line_alpha\":0.1,\"line_color\":\"#1f77b3\",\"line_width\":2,\"x\":{\"field\":\"index\"},\"y\":{\"field\":\"value\"}},\"id\":\"2191\",\"type\":\"Line\"},{\"attributes\":{\"line_alpha\":0.2,\"line_color\":\"#2ba02b\",\"line_width\":2,\"x\":{\"field\":\"index\"},\"y\":{\"field\":\"value\"}},\"id\":\"2229\",\"type\":\"Line\"},{\"attributes\":{},\"id\":\"2225\",\"type\":\"Selection\"},{\"attributes\":{},\"id\":\"2186\",\"type\":\"BasicTickFormatter\"},{\"attributes\":{\"line_color\":\"#1f77b3\",\"line_width\":2,\"x\":{\"field\":\"index\"},\"y\":{\"field\":\"value\"}},\"id\":\"2190\",\"type\":\"Line\"},{\"attributes\":{},\"id\":\"2242\",\"type\":\"UnionRenderers\"},{\"attributes\":{},\"id\":\"2158\",\"type\":\"LinearScale\"},{\"attributes\":{\"line_alpha\":0.1,\"line_color\":\"#ff7e0e\",\"line_width\":2,\"x\":{\"field\":\"index\"},\"y\":{\"field\":\"value\"}},\"id\":\"2209\",\"type\":\"Line\"},{\"attributes\":{\"axis_label\":\"\",\"bounds\":\"auto\",\"formatter\":{\"id\":\"2184\"},\"major_label_orientation\":\"horizontal\",\"ticker\":{\"id\":\"2163\"}},\"id\":\"2162\",\"type\":\"LinearAxis\"},{\"attributes\":{\"label\":{\"value\":\"predict_2features\"},\"renderers\":[{\"id\":\"2230\"}]},\"id\":\"2244\",\"type\":\"LegendItem\"},{\"attributes\":{\"end\":146.0,\"reset_end\":146.0,\"reset_start\":0.0,\"tags\":[[[\"index\",\"index\",null]]]},\"id\":\"2148\",\"type\":\"Range1d\"},{\"attributes\":{},\"id\":\"2160\",\"type\":\"LinearScale\"}],\"root_ids\":[\"2146\"]},\"title\":\"Bokeh Application\",\"version\":\"2.2.3\"}};\n",
       "    var render_items = [{\"docid\":\"43d21d7f-e4c9-4ba3-a2c1-a9519628a76f\",\"root_ids\":[\"2146\"],\"roots\":{\"2146\":\"fa3a7a6e-ee5c-4c3c-aca1-fd1cfc3bf0c4\"}}];\n",
       "    root.Bokeh.embed.embed_items_notebook(docs_json, render_items);\n",
       "  }\n",
       "  if (root.Bokeh !== undefined && root.Bokeh.Panel !== undefined) {\n",
       "    embed_document(root);\n",
       "  } else {\n",
       "    var attempts = 0;\n",
       "    var timer = setInterval(function(root) {\n",
       "      if (root.Bokeh !== undefined && root.Bokeh.Panel !== undefined) {\n",
       "        clearInterval(timer);\n",
       "        embed_document(root);\n",
       "      } else if (document.readyState == \"complete\") {\n",
       "        attempts++;\n",
       "        if (attempts > 100) {\n",
       "          clearInterval(timer);\n",
       "          console.log(\"Bokeh: ERROR: Unable to run BokehJS code because BokehJS library is missing\");\n",
       "        }\n",
       "      }\n",
       "    }, 10, root)\n",
       "  }\n",
       "})(window);</script>"
      ],
      "text/plain": [
       ":NdOverlay   [Variable]\n",
       "   :Curve   [index]   (value)"
      ]
     },
     "execution_count": 62,
     "metadata": {
      "application/vnd.holoviews_exec.v0+json": {
       "id": "2146"
      }
     },
     "output_type": "execute_result"
    }
   ],
   "source": [
    "pred_lr_1fvs2f(pred_lstm_lr_1f_df,pred_lstm_lr_2f_df)"
   ]
  },
  {
   "cell_type": "markdown",
   "metadata": {},
   "source": [
    "### (3) Classification"
   ]
  },
  {
   "cell_type": "markdown",
   "metadata": {},
   "source": [
    "#### (a) Dense 1 Feature"
   ]
  },
  {
   "cell_type": "code",
   "execution_count": 63,
   "metadata": {},
   "outputs": [],
   "source": [
    "X, X_train, X_test, y, y_train, y_test = dataset_classification_1f(df_MSFT, \"SNE\")\n",
    "X, X_train, X_test = scaler_classification_1f(X, X_train, X_test)"
   ]
  },
  {
   "cell_type": "code",
   "execution_count": 64,
   "metadata": {},
   "outputs": [],
   "source": [
    "history, model = dense_cl_1f(X_train, y_train)\n",
    "dic_dense_cl_1f = eva_dense_cl_1f(model, X_test, y_test)"
   ]
  },
  {
   "cell_type": "markdown",
   "metadata": {},
   "source": [
    "#### (b) LSTM 1 Feature"
   ]
  },
  {
   "cell_type": "code",
   "execution_count": 65,
   "metadata": {},
   "outputs": [],
   "source": [
    "history, model = lstm_cl_1f(X_train, y_train)\n",
    "dic_lstm_cl_1f = eva_lstm_cl_1f(model, X_test, y_test)"
   ]
  },
  {
   "cell_type": "markdown",
   "metadata": {},
   "source": [
    "#### (c) Logistic Regression, SVC, Decision Tree Classifier, Random Forest Classifier, XGB Classifier"
   ]
  },
  {
   "cell_type": "code",
   "execution_count": 66,
   "metadata": {},
   "outputs": [
    {
     "name": "stdout",
     "output_type": "stream",
     "text": [
      "[05:17:01] WARNING: C:/Users/Administrator/workspace/xgboost-win64_release_1.3.0/src/learner.cc:1061: Starting in XGBoost 1.3.0, the default evaluation metric used with the objective 'binary:logistic' was changed from 'error' to 'logloss'. Explicitly set eval_metric if you'd like to restore the old behavior.\n"
     ]
    }
   ],
   "source": [
    "sklearn_cl_models_1f = sklearn_cl_models(X_train, y_train, X_test, y_test)"
   ]
  },
  {
   "cell_type": "code",
   "execution_count": 67,
   "metadata": {},
   "outputs": [
    {
     "name": "stdout",
     "output_type": "stream",
     "text": [
      "[05:17:02] WARNING: C:/Users/Administrator/workspace/xgboost-win64_release_1.3.0/src/learner.cc:1061: Starting in XGBoost 1.3.0, the default evaluation metric used with the objective 'binary:logistic' was changed from 'error' to 'logloss'. Explicitly set eval_metric if you'd like to restore the old behavior.\n",
      "[05:17:02] WARNING: C:/Users/Administrator/workspace/xgboost-win64_release_1.3.0/src/learner.cc:1061: Starting in XGBoost 1.3.0, the default evaluation metric used with the objective 'binary:logistic' was changed from 'error' to 'logloss'. Explicitly set eval_metric if you'd like to restore the old behavior.\n",
      "[05:17:03] WARNING: C:/Users/Administrator/workspace/xgboost-win64_release_1.3.0/src/learner.cc:1061: Starting in XGBoost 1.3.0, the default evaluation metric used with the objective 'binary:logistic' was changed from 'error' to 'logloss'. Explicitly set eval_metric if you'd like to restore the old behavior.\n",
      "[05:17:03] WARNING: C:/Users/Administrator/workspace/xgboost-win64_release_1.3.0/src/learner.cc:1061: Starting in XGBoost 1.3.0, the default evaluation metric used with the objective 'binary:logistic' was changed from 'error' to 'logloss'. Explicitly set eval_metric if you'd like to restore the old behavior.\n",
      "[05:17:03] WARNING: C:/Users/Administrator/workspace/xgboost-win64_release_1.3.0/src/learner.cc:1061: Starting in XGBoost 1.3.0, the default evaluation metric used with the objective 'binary:logistic' was changed from 'error' to 'logloss'. Explicitly set eval_metric if you'd like to restore the old behavior.\n"
     ]
    }
   ],
   "source": [
    "sklearn_cl_models_cross_validation_1f = sklearn_cl_models_cross_validation(X, y)"
   ]
  },
  {
   "cell_type": "code",
   "execution_count": 68,
   "metadata": {},
   "outputs": [],
   "source": [
    "svc_optimizer_1f = svc_optimizer(X_train, y_train, X_test, y_test)"
   ]
  },
  {
   "cell_type": "markdown",
   "metadata": {},
   "source": [
    "#### (d) Dense 2 Features"
   ]
  },
  {
   "cell_type": "code",
   "execution_count": 69,
   "metadata": {},
   "outputs": [],
   "source": [
    "X, X_train, X_test, y, y_train, y_test = dataset_classification_2f(df_MSFT, \"SNE\")\n",
    "X, X_train, X_test = scaler_classification_2f(X, X_train, X_test)"
   ]
  },
  {
   "cell_type": "code",
   "execution_count": 70,
   "metadata": {},
   "outputs": [],
   "source": [
    "history, model = dense_cl_2f(X_train, y_train)\n",
    "dic_dense_cl_2f = eva_dense_cl_2f(model, X_test, y_test)"
   ]
  },
  {
   "cell_type": "markdown",
   "metadata": {},
   "source": [
    "#### (e) LSTM 2 Features"
   ]
  },
  {
   "cell_type": "code",
   "execution_count": 71,
   "metadata": {},
   "outputs": [],
   "source": [
    "history, model = lstm_cl_2f(X_train, y_train)\n",
    "dic_lstm_cl_2f = eva_lstm_cl_2f(model, X_test, y_test)"
   ]
  },
  {
   "cell_type": "markdown",
   "metadata": {},
   "source": [
    "#### (f) Logistic Regression, SVC, Decision Tree Classifier, Random Forest Classifier, XGB Classifier"
   ]
  },
  {
   "cell_type": "code",
   "execution_count": 72,
   "metadata": {},
   "outputs": [
    {
     "name": "stdout",
     "output_type": "stream",
     "text": [
      "[05:17:13] WARNING: C:/Users/Administrator/workspace/xgboost-win64_release_1.3.0/src/learner.cc:1061: Starting in XGBoost 1.3.0, the default evaluation metric used with the objective 'binary:logistic' was changed from 'error' to 'logloss'. Explicitly set eval_metric if you'd like to restore the old behavior.\n"
     ]
    }
   ],
   "source": [
    "sklearn_cl_models_2f = sklearn_cl_models(X_train, y_train, X_test, y_test)"
   ]
  },
  {
   "cell_type": "code",
   "execution_count": 73,
   "metadata": {},
   "outputs": [
    {
     "name": "stdout",
     "output_type": "stream",
     "text": [
      "[05:17:14] WARNING: C:/Users/Administrator/workspace/xgboost-win64_release_1.3.0/src/learner.cc:1061: Starting in XGBoost 1.3.0, the default evaluation metric used with the objective 'binary:logistic' was changed from 'error' to 'logloss'. Explicitly set eval_metric if you'd like to restore the old behavior.\n",
      "[05:17:14] WARNING: C:/Users/Administrator/workspace/xgboost-win64_release_1.3.0/src/learner.cc:1061: Starting in XGBoost 1.3.0, the default evaluation metric used with the objective 'binary:logistic' was changed from 'error' to 'logloss'. Explicitly set eval_metric if you'd like to restore the old behavior.\n",
      "[05:17:14] WARNING: C:/Users/Administrator/workspace/xgboost-win64_release_1.3.0/src/learner.cc:1061: Starting in XGBoost 1.3.0, the default evaluation metric used with the objective 'binary:logistic' was changed from 'error' to 'logloss'. Explicitly set eval_metric if you'd like to restore the old behavior.\n",
      "[05:17:15] WARNING: C:/Users/Administrator/workspace/xgboost-win64_release_1.3.0/src/learner.cc:1061: Starting in XGBoost 1.3.0, the default evaluation metric used with the objective 'binary:logistic' was changed from 'error' to 'logloss'. Explicitly set eval_metric if you'd like to restore the old behavior.\n",
      "[05:17:15] WARNING: C:/Users/Administrator/workspace/xgboost-win64_release_1.3.0/src/learner.cc:1061: Starting in XGBoost 1.3.0, the default evaluation metric used with the objective 'binary:logistic' was changed from 'error' to 'logloss'. Explicitly set eval_metric if you'd like to restore the old behavior.\n"
     ]
    }
   ],
   "source": [
    "sklearn_cl_models_cross_validation_2f = sklearn_cl_models_cross_validation(X, y)"
   ]
  },
  {
   "cell_type": "code",
   "execution_count": 74,
   "metadata": {},
   "outputs": [],
   "source": [
    "svc_optimizer_2f = svc_optimizer(X_train, y_train, X_test, y_test)"
   ]
  },
  {
   "cell_type": "markdown",
   "metadata": {},
   "source": [
    "### (g) Scores between 1 Feature and 2 Features"
   ]
  },
  {
   "cell_type": "code",
   "execution_count": 75,
   "metadata": {},
   "outputs": [
    {
     "data": {
      "text/html": [
       "<div>\n",
       "<style scoped>\n",
       "    .dataframe tbody tr th:only-of-type {\n",
       "        vertical-align: middle;\n",
       "    }\n",
       "\n",
       "    .dataframe tbody tr th {\n",
       "        vertical-align: top;\n",
       "    }\n",
       "\n",
       "    .dataframe thead th {\n",
       "        text-align: right;\n",
       "    }\n",
       "</style>\n",
       "<table border=\"1\" class=\"dataframe\">\n",
       "  <thead>\n",
       "    <tr style=\"text-align: right;\">\n",
       "      <th></th>\n",
       "      <th>1 Feature</th>\n",
       "      <th>2 Features</th>\n",
       "      <th>sentiment_impact</th>\n",
       "    </tr>\n",
       "  </thead>\n",
       "  <tbody>\n",
       "    <tr>\n",
       "      <th>DecisionTreeClassifier</th>\n",
       "      <td>0.531915</td>\n",
       "      <td>0.489362</td>\n",
       "      <td>-0.042553</td>\n",
       "    </tr>\n",
       "    <tr>\n",
       "      <th>DecisionTreeClassifier (Cross Validation)</th>\n",
       "      <td>0.410385</td>\n",
       "      <td>0.403262</td>\n",
       "      <td>-0.007123</td>\n",
       "    </tr>\n",
       "    <tr>\n",
       "      <th>Dense</th>\n",
       "      <td>0.531915</td>\n",
       "      <td>0.531915</td>\n",
       "      <td>0.000000</td>\n",
       "    </tr>\n",
       "    <tr>\n",
       "      <th>LSTM</th>\n",
       "      <td>0.531915</td>\n",
       "      <td>0.531915</td>\n",
       "      <td>0.000000</td>\n",
       "    </tr>\n",
       "    <tr>\n",
       "      <th>LogisticRegression</th>\n",
       "      <td>0.531915</td>\n",
       "      <td>0.531915</td>\n",
       "      <td>0.000000</td>\n",
       "    </tr>\n",
       "    <tr>\n",
       "      <th>LogisticRegression (Cross Validation)</th>\n",
       "      <td>0.527072</td>\n",
       "      <td>0.535583</td>\n",
       "      <td>0.008511</td>\n",
       "    </tr>\n",
       "    <tr>\n",
       "      <th>RandomForestClassifier</th>\n",
       "      <td>0.531915</td>\n",
       "      <td>0.503546</td>\n",
       "      <td>-0.028369</td>\n",
       "    </tr>\n",
       "    <tr>\n",
       "      <th>RandomForestClassifier (Cross Validation)</th>\n",
       "      <td>0.410385</td>\n",
       "      <td>0.406069</td>\n",
       "      <td>-0.004316</td>\n",
       "    </tr>\n",
       "    <tr>\n",
       "      <th>SVC</th>\n",
       "      <td>0.531915</td>\n",
       "      <td>0.531915</td>\n",
       "      <td>0.000000</td>\n",
       "    </tr>\n",
       "    <tr>\n",
       "      <th>SVC (Cross Validation)</th>\n",
       "      <td>0.504377</td>\n",
       "      <td>0.515724</td>\n",
       "      <td>0.011348</td>\n",
       "    </tr>\n",
       "    <tr>\n",
       "      <th>SVC (Grid Search)</th>\n",
       "      <td>0.531915</td>\n",
       "      <td>0.531915</td>\n",
       "      <td>0.000000</td>\n",
       "    </tr>\n",
       "    <tr>\n",
       "      <th>XGBClassifier</th>\n",
       "      <td>0.468085</td>\n",
       "      <td>0.468085</td>\n",
       "      <td>0.000000</td>\n",
       "    </tr>\n",
       "    <tr>\n",
       "      <th>XGBClassifier (Cross Validation)</th>\n",
       "      <td>0.408956</td>\n",
       "      <td>0.398967</td>\n",
       "      <td>-0.009990</td>\n",
       "    </tr>\n",
       "  </tbody>\n",
       "</table>\n",
       "</div>"
      ],
      "text/plain": [
       "                                           1 Feature  2 Features  \\\n",
       "DecisionTreeClassifier                      0.531915    0.489362   \n",
       "DecisionTreeClassifier (Cross Validation)   0.410385    0.403262   \n",
       "Dense                                       0.531915    0.531915   \n",
       "LSTM                                        0.531915    0.531915   \n",
       "LogisticRegression                          0.531915    0.531915   \n",
       "LogisticRegression (Cross Validation)       0.527072    0.535583   \n",
       "RandomForestClassifier                      0.531915    0.503546   \n",
       "RandomForestClassifier (Cross Validation)   0.410385    0.406069   \n",
       "SVC                                         0.531915    0.531915   \n",
       "SVC (Cross Validation)                      0.504377    0.515724   \n",
       "SVC (Grid Search)                           0.531915    0.531915   \n",
       "XGBClassifier                               0.468085    0.468085   \n",
       "XGBClassifier (Cross Validation)            0.408956    0.398967   \n",
       "\n",
       "                                           sentiment_impact  \n",
       "DecisionTreeClassifier                            -0.042553  \n",
       "DecisionTreeClassifier (Cross Validation)         -0.007123  \n",
       "Dense                                              0.000000  \n",
       "LSTM                                               0.000000  \n",
       "LogisticRegression                                 0.000000  \n",
       "LogisticRegression (Cross Validation)              0.008511  \n",
       "RandomForestClassifier                            -0.028369  \n",
       "RandomForestClassifier (Cross Validation)         -0.004316  \n",
       "SVC                                                0.000000  \n",
       "SVC (Cross Validation)                             0.011348  \n",
       "SVC (Grid Search)                                  0.000000  \n",
       "XGBClassifier                                      0.000000  \n",
       "XGBClassifier (Cross Validation)                  -0.009990  "
      ]
     },
     "execution_count": 75,
     "metadata": {},
     "output_type": "execute_result"
    }
   ],
   "source": [
    "score_df = score_df(dic_dense_cl_1f,\n",
    "                    dic_lstm_cl_1f,\n",
    "                    sklearn_cl_models_1f,\n",
    "                    sklearn_cl_models_cross_validation_1f,\n",
    "                    svc_optimizer_1f,\n",
    "                    dic_dense_cl_2f,\n",
    "                    dic_lstm_cl_2f,\n",
    "                    sklearn_cl_models_2f,\n",
    "                    sklearn_cl_models_cross_validation_2f,\n",
    "                    svc_optimizer_2f\n",
    "                   )\n",
    "\n",
    "score_df"
   ]
  },
  {
   "cell_type": "code",
   "execution_count": null,
   "metadata": {},
   "outputs": [],
   "source": []
  },
  {
   "cell_type": "markdown",
   "metadata": {},
   "source": [
    "## 3. PFE"
   ]
  },
  {
   "cell_type": "markdown",
   "metadata": {},
   "source": [
    "### (1) Data Creation"
   ]
  },
  {
   "cell_type": "code",
   "execution_count": 42,
   "metadata": {},
   "outputs": [
    {
     "data": {
      "text/html": [
       "<div>\n",
       "<style scoped>\n",
       "    .dataframe tbody tr th:only-of-type {\n",
       "        vertical-align: middle;\n",
       "    }\n",
       "\n",
       "    .dataframe tbody tr th {\n",
       "        vertical-align: top;\n",
       "    }\n",
       "\n",
       "    .dataframe thead th {\n",
       "        text-align: right;\n",
       "    }\n",
       "</style>\n",
       "<table border=\"1\" class=\"dataframe\">\n",
       "  <thead>\n",
       "    <tr style=\"text-align: right;\">\n",
       "      <th></th>\n",
       "      <th>MSFT</th>\n",
       "      <th>SMA20</th>\n",
       "      <th>daily_return</th>\n",
       "      <th>actual_signal</th>\n",
       "      <th>avg_sentiments</th>\n",
       "      <th>SMA_shift</th>\n",
       "    </tr>\n",
       "    <tr>\n",
       "      <th>Date</th>\n",
       "      <th></th>\n",
       "      <th></th>\n",
       "      <th></th>\n",
       "      <th></th>\n",
       "      <th></th>\n",
       "      <th></th>\n",
       "    </tr>\n",
       "  </thead>\n",
       "  <tbody>\n",
       "    <tr>\n",
       "      <th>2015-01-16</th>\n",
       "      <td>46.22</td>\n",
       "      <td>NaN</td>\n",
       "      <td>0.016271</td>\n",
       "      <td>1.0</td>\n",
       "      <td>NaN</td>\n",
       "      <td>NaN</td>\n",
       "    </tr>\n",
       "    <tr>\n",
       "      <th>2015-01-20</th>\n",
       "      <td>46.39</td>\n",
       "      <td>NaN</td>\n",
       "      <td>0.003678</td>\n",
       "      <td>1.0</td>\n",
       "      <td>0.4767</td>\n",
       "      <td>NaN</td>\n",
       "    </tr>\n",
       "    <tr>\n",
       "      <th>2015-01-21</th>\n",
       "      <td>45.91</td>\n",
       "      <td>NaN</td>\n",
       "      <td>-0.010347</td>\n",
       "      <td>0.0</td>\n",
       "      <td>0.0000</td>\n",
       "      <td>NaN</td>\n",
       "    </tr>\n",
       "    <tr>\n",
       "      <th>2015-01-22</th>\n",
       "      <td>47.12</td>\n",
       "      <td>NaN</td>\n",
       "      <td>0.026356</td>\n",
       "      <td>1.0</td>\n",
       "      <td>NaN</td>\n",
       "      <td>NaN</td>\n",
       "    </tr>\n",
       "    <tr>\n",
       "      <th>2015-01-23</th>\n",
       "      <td>47.18</td>\n",
       "      <td>NaN</td>\n",
       "      <td>0.001273</td>\n",
       "      <td>1.0</td>\n",
       "      <td>NaN</td>\n",
       "      <td>NaN</td>\n",
       "    </tr>\n",
       "  </tbody>\n",
       "</table>\n",
       "</div>"
      ],
      "text/plain": [
       "             MSFT  SMA20  daily_return  actual_signal  avg_sentiments  \\\n",
       "Date                                                                    \n",
       "2015-01-16  46.22    NaN      0.016271            1.0             NaN   \n",
       "2015-01-20  46.39    NaN      0.003678            1.0          0.4767   \n",
       "2015-01-21  45.91    NaN     -0.010347            0.0          0.0000   \n",
       "2015-01-22  47.12    NaN      0.026356            1.0             NaN   \n",
       "2015-01-23  47.18    NaN      0.001273            1.0             NaN   \n",
       "\n",
       "            SMA_shift  \n",
       "Date                   \n",
       "2015-01-16        NaN  \n",
       "2015-01-20        NaN  \n",
       "2015-01-21        NaN  \n",
       "2015-01-22        NaN  \n",
       "2015-01-23        NaN  "
      ]
     },
     "execution_count": 42,
     "metadata": {},
     "output_type": "execute_result"
    }
   ],
   "source": [
    "df=read_file(\"PFE\")\n",
    "df1=sentiment_analysis(df)\n",
    "df2=stock_prices()\n",
    "df3=manipulate_df(df2, 'PFE')\n",
    "df_MSFT=final_df(df3, df1, 'PFE')\n",
    "df_MSFT.head()"
   ]
  },
  {
   "cell_type": "markdown",
   "metadata": {},
   "source": [
    "### (2) Regression"
   ]
  },
  {
   "cell_type": "markdown",
   "metadata": {},
   "source": [
    "#### (a) Dense 1 feature"
   ]
  },
  {
   "cell_type": "code",
   "execution_count": 43,
   "metadata": {},
   "outputs": [],
   "source": [
    "X, X_train, X_test, y, y_train, y_test=dataset_regression_1f(df_MSFT, 'PFE')\n",
    "X, X_train, X_test, y, y_train, y_test=scaler_regression_1f(X, X_train, X_test, y, y_train, y_test)"
   ]
  },
  {
   "cell_type": "code",
   "execution_count": 44,
   "metadata": {},
   "outputs": [],
   "source": [
    "msft_dense_lr_1f_history, msft_dense_lr_1f_model =dense_lr_1f(X_train, y_train)"
   ]
  },
  {
   "cell_type": "code",
   "execution_count": 45,
   "metadata": {},
   "outputs": [],
   "source": [
    "score_dense_lr_1f_df = score_dense_lr_1f(msft_dense_lr_1f_history)"
   ]
  },
  {
   "cell_type": "code",
   "execution_count": 46,
   "metadata": {},
   "outputs": [],
   "source": [
    "pred_dense_lr_1f_df = pred_dense_lr_1f(msft_dense_lr_1f_model, X_test, y_test)"
   ]
  },
  {
   "cell_type": "markdown",
   "metadata": {},
   "source": [
    "#### (b) LSTM 1 feature"
   ]
  },
  {
   "cell_type": "code",
   "execution_count": 47,
   "metadata": {},
   "outputs": [],
   "source": [
    "msft_lstm_lr_1f_history, msft_lstm_lr_1f_model =lstm_lr_1f(X_train, y_train)"
   ]
  },
  {
   "cell_type": "code",
   "execution_count": 48,
   "metadata": {},
   "outputs": [],
   "source": [
    "score_lstm_lr_1f_df = score_lstm_lr_1f(msft_lstm_lr_1f_history)"
   ]
  },
  {
   "cell_type": "code",
   "execution_count": 49,
   "metadata": {},
   "outputs": [],
   "source": [
    "pred_lstm_lr_1f_df = pred_lstm_lr_1f(msft_lstm_lr_1f_model, X_test, y_test)"
   ]
  },
  {
   "cell_type": "markdown",
   "metadata": {},
   "source": [
    "#### (c) Dense 2 features"
   ]
  },
  {
   "cell_type": "code",
   "execution_count": 50,
   "metadata": {},
   "outputs": [],
   "source": [
    "X, X_train, X_test, y, y_train, y_test=dataset_regression_2f(df_MSFT, 'PFE')\n",
    "X, X_train, X_test, y, y_train, y_test=scaler_regression_2f(X, X_train, X_test, y, y_train, y_test)"
   ]
  },
  {
   "cell_type": "code",
   "execution_count": 51,
   "metadata": {},
   "outputs": [],
   "source": [
    "msft_dense_lr_2f_history, msft_dense_lr_2f_model = dense_lr_2f(X_train, y_train)"
   ]
  },
  {
   "cell_type": "code",
   "execution_count": 52,
   "metadata": {},
   "outputs": [],
   "source": [
    "score_dense_lr_2f_df = score_dense_lr_2f(msft_dense_lr_2f_history)"
   ]
  },
  {
   "cell_type": "code",
   "execution_count": 53,
   "metadata": {},
   "outputs": [],
   "source": [
    "pred_dense_lr_2f_df = pred_dense_lr_2f(msft_dense_lr_2f_model, X_test, y_test)"
   ]
  },
  {
   "cell_type": "markdown",
   "metadata": {},
   "source": [
    "#### (d) LSTM 2 features"
   ]
  },
  {
   "cell_type": "code",
   "execution_count": 54,
   "metadata": {},
   "outputs": [],
   "source": [
    "msft_lstm_lr_2f_history, msft_lstm_lr_2f_model = lstm_lr_2f(X_train, y_train)"
   ]
  },
  {
   "cell_type": "code",
   "execution_count": 55,
   "metadata": {},
   "outputs": [],
   "source": [
    "score_lstm_lr_2f_df = score_lstm_lr_2f(msft_lstm_lr_2f_history)"
   ]
  },
  {
   "cell_type": "code",
   "execution_count": 56,
   "metadata": {},
   "outputs": [],
   "source": [
    "pred_lstm_lr_2f_df = pred_lstm_lr_2f(msft_lstm_lr_2f_model, X_test, y_test)"
   ]
  },
  {
   "cell_type": "markdown",
   "metadata": {},
   "source": [
    "#### (e) Visualization"
   ]
  },
  {
   "cell_type": "code",
   "execution_count": 57,
   "metadata": {},
   "outputs": [
    {
     "data": {
      "application/vnd.holoviews_exec.v0+json": "",
      "text/html": [
       "<div id='1001'>\n",
       "\n",
       "\n",
       "\n",
       "\n",
       "\n",
       "  <div class=\"bk-root\" id=\"1b9b28c4-6a32-43e1-a2a5-1add7dda3c50\" data-root-id=\"1001\"></div>\n",
       "</div>\n",
       "<script type=\"application/javascript\">(function(root) {\n",
       "  function embed_document(root) {\n",
       "    var docs_json = {\"529406ea-0595-4503-8c48-341c44b33a42\":{\"roots\":{\"references\":[{\"attributes\":{},\"id\":\"1017\",\"type\":\"BasicTicker\"},{\"attributes\":{\"axis_label\":\"\",\"bounds\":\"auto\",\"formatter\":{\"id\":\"1040\"},\"major_label_orientation\":\"horizontal\",\"ticker\":{\"id\":\"1021\"}},\"id\":\"1020\",\"type\":\"LinearAxis\"},{\"attributes\":{\"line_alpha\":0.1,\"line_color\":\"#1f77b3\",\"line_width\":2,\"x\":{\"field\":\"index\"},\"y\":{\"field\":\"value\"}},\"id\":\"1045\",\"type\":\"Line\"},{\"attributes\":{\"below\":[{\"id\":\"1016\"}],\"center\":[{\"id\":\"1019\"},{\"id\":\"1023\"}],\"left\":[{\"id\":\"1020\"}],\"margin\":[5,5,5,5],\"min_border_bottom\":10,\"min_border_left\":10,\"min_border_right\":10,\"min_border_top\":10,\"plot_height\":300,\"plot_width\":700,\"renderers\":[{\"id\":\"1047\"},{\"id\":\"1065\"}],\"right\":[{\"id\":\"1057\"}],\"sizing_mode\":\"fixed\",\"title\":{\"id\":\"1008\"},\"toolbar\":{\"id\":\"1030\"},\"x_range\":{\"id\":\"1003\"},\"x_scale\":{\"id\":\"1012\"},\"y_range\":{\"id\":\"1004\"},\"y_scale\":{\"id\":\"1014\"}},\"id\":\"1007\",\"subtype\":\"Figure\",\"type\":\"Plot\"},{\"attributes\":{\"line_alpha\":0.1,\"line_color\":\"#ff7e0e\",\"line_width\":2,\"x\":{\"field\":\"index\"},\"y\":{\"field\":\"value\"}},\"id\":\"1063\",\"type\":\"Line\"},{\"attributes\":{\"end\":0.14323489093221725,\"reset_end\":0.14323489093221725,\"reset_start\":-0.007471426902338863,\"start\":-0.007471426902338863,\"tags\":[[[\"value\",\"value\",null]]]},\"id\":\"1004\",\"type\":\"Range1d\"},{\"attributes\":{\"source\":{\"id\":\"1059\"}},\"id\":\"1066\",\"type\":\"CDSView\"},{\"attributes\":{},\"id\":\"1060\",\"type\":\"Selection\"},{\"attributes\":{\"data_source\":{\"id\":\"1041\"},\"glyph\":{\"id\":\"1044\"},\"hover_glyph\":null,\"muted_glyph\":{\"id\":\"1046\"},\"nonselection_glyph\":{\"id\":\"1045\"},\"selection_glyph\":null,\"view\":{\"id\":\"1048\"}},\"id\":\"1047\",\"type\":\"GlyphRenderer\"},{\"attributes\":{\"active_drag\":\"auto\",\"active_inspect\":\"auto\",\"active_multi\":null,\"active_scroll\":\"auto\",\"active_tap\":\"auto\",\"tools\":[{\"id\":\"1005\"},{\"id\":\"1024\"},{\"id\":\"1025\"},{\"id\":\"1026\"},{\"id\":\"1027\"},{\"id\":\"1028\"}]},\"id\":\"1030\",\"type\":\"Toolbar\"},{\"attributes\":{\"line_color\":\"#ff7e0e\",\"line_width\":2,\"x\":{\"field\":\"index\"},\"y\":{\"field\":\"value\"}},\"id\":\"1062\",\"type\":\"Line\"},{\"attributes\":{\"callback\":null,\"renderers\":[{\"id\":\"1047\"},{\"id\":\"1065\"}],\"tags\":[\"hv_created\"],\"tooltips\":[[\"Variable\",\"@{Variable}\"],[\"index\",\"@{index}\"],[\"value\",\"@{value}\"]]},\"id\":\"1005\",\"type\":\"HoverTool\"},{\"attributes\":{\"axis\":{\"id\":\"1016\"},\"grid_line_color\":null,\"ticker\":null},\"id\":\"1019\",\"type\":\"Grid\"},{\"attributes\":{\"click_policy\":\"mute\",\"items\":[{\"id\":\"1058\"},{\"id\":\"1077\"}],\"location\":[0,0],\"title\":\"Variable\"},\"id\":\"1057\",\"type\":\"Legend\"},{\"attributes\":{\"label\":{\"value\":\"loss_1f\"},\"renderers\":[{\"id\":\"1047\"}]},\"id\":\"1058\",\"type\":\"LegendItem\"},{\"attributes\":{},\"id\":\"1055\",\"type\":\"UnionRenderers\"},{\"attributes\":{\"axis\":{\"id\":\"1020\"},\"dimension\":1,\"grid_line_color\":null,\"ticker\":null},\"id\":\"1023\",\"type\":\"Grid\"},{\"attributes\":{\"line_color\":\"#1f77b3\",\"line_width\":2,\"x\":{\"field\":\"index\"},\"y\":{\"field\":\"value\"}},\"id\":\"1044\",\"type\":\"Line\"},{\"attributes\":{},\"id\":\"1075\",\"type\":\"UnionRenderers\"},{\"attributes\":{},\"id\":\"1021\",\"type\":\"BasicTicker\"},{\"attributes\":{\"label\":{\"value\":\"loss_2f\"},\"renderers\":[{\"id\":\"1065\"}]},\"id\":\"1077\",\"type\":\"LegendItem\"},{\"attributes\":{\"end\":23.0,\"reset_end\":23.0,\"reset_start\":1.0,\"start\":1.0,\"tags\":[[[\"index\",\"index\",null]]]},\"id\":\"1003\",\"type\":\"Range1d\"},{\"attributes\":{\"bottom_units\":\"screen\",\"fill_alpha\":0.5,\"fill_color\":\"lightgrey\",\"left_units\":\"screen\",\"level\":\"overlay\",\"line_alpha\":1.0,\"line_color\":\"black\",\"line_dash\":[4,4],\"line_width\":2,\"right_units\":\"screen\",\"top_units\":\"screen\"},\"id\":\"1029\",\"type\":\"BoxAnnotation\"},{\"attributes\":{\"children\":[{\"id\":\"1002\"},{\"id\":\"1007\"},{\"id\":\"1168\"}],\"margin\":[0,0,0,0],\"name\":\"Row01558\",\"tags\":[\"embedded\"]},\"id\":\"1001\",\"type\":\"Row\"},{\"attributes\":{\"line_alpha\":0.2,\"line_color\":\"#1f77b3\",\"line_width\":2,\"x\":{\"field\":\"index\"},\"y\":{\"field\":\"value\"}},\"id\":\"1046\",\"type\":\"Line\"},{\"attributes\":{\"margin\":[5,5,5,5],\"name\":\"HSpacer01562\",\"sizing_mode\":\"stretch_width\"},\"id\":\"1002\",\"type\":\"Spacer\"},{\"attributes\":{},\"id\":\"1038\",\"type\":\"BasicTickFormatter\"},{\"attributes\":{},\"id\":\"1040\",\"type\":\"BasicTickFormatter\"},{\"attributes\":{\"line_alpha\":0.2,\"line_color\":\"#ff7e0e\",\"line_width\":2,\"x\":{\"field\":\"index\"},\"y\":{\"field\":\"value\"}},\"id\":\"1064\",\"type\":\"Line\"},{\"attributes\":{},\"id\":\"1024\",\"type\":\"SaveTool\"},{\"attributes\":{\"axis_label\":\"\",\"bounds\":\"auto\",\"formatter\":{\"id\":\"1038\"},\"major_label_orientation\":\"horizontal\",\"ticker\":{\"id\":\"1017\"}},\"id\":\"1016\",\"type\":\"LinearAxis\"},{\"attributes\":{},\"id\":\"1025\",\"type\":\"PanTool\"},{\"attributes\":{\"source\":{\"id\":\"1041\"}},\"id\":\"1048\",\"type\":\"CDSView\"},{\"attributes\":{},\"id\":\"1028\",\"type\":\"ResetTool\"},{\"attributes\":{},\"id\":\"1026\",\"type\":\"WheelZoomTool\"},{\"attributes\":{\"data\":{\"Variable\":[\"loss_1f\",\"loss_1f\",\"loss_1f\",\"loss_1f\",\"loss_1f\",\"loss_1f\",\"loss_1f\",\"loss_1f\",\"loss_1f\",\"loss_1f\",\"loss_1f\",\"loss_1f\",\"loss_1f\",\"loss_1f\",\"loss_1f\",\"loss_1f\",\"loss_1f\",\"loss_1f\",\"loss_1f\",\"loss_1f\",\"loss_1f\",\"loss_1f\",\"loss_1f\"],\"index\":[1,2,3,4,5,6,7,8,9,10,11,12,13,14,15,16,17,18,19,20,21,22,23],\"value\":{\"__ndarray__\":\"AAAAAP65wD8AAABgdlmyPwAAAKBzrKU/AAAA4ATonD8AAADgiDKYPwAAAOAREpc/AAAAYA0klD8AAACAdAKSPwAAAECuGJA/AAAAICzliz8AAAAAgAuGPwAAAEC+F4g/AAAAAF6hgj8AAAAAOFiDPwAAAEAhqIA/AAAAAHbSgT8AAADgQ6mAPwAAAKAgTH0/AAAAAH6sdj8AAACgVKJ+PwAAAODqhXg/AAAAoDFRez8AAAAAAAD4fw==\",\"dtype\":\"float64\",\"order\":\"little\",\"shape\":[23]}},\"selected\":{\"id\":\"1042\"},\"selection_policy\":{\"id\":\"1055\"}},\"id\":\"1041\",\"type\":\"ColumnDataSource\"},{\"attributes\":{\"overlay\":{\"id\":\"1029\"}},\"id\":\"1027\",\"type\":\"BoxZoomTool\"},{\"attributes\":{},\"id\":\"1012\",\"type\":\"LinearScale\"},{\"attributes\":{\"data\":{\"Variable\":[\"loss_2f\",\"loss_2f\",\"loss_2f\",\"loss_2f\",\"loss_2f\",\"loss_2f\",\"loss_2f\",\"loss_2f\",\"loss_2f\",\"loss_2f\",\"loss_2f\",\"loss_2f\",\"loss_2f\",\"loss_2f\",\"loss_2f\",\"loss_2f\",\"loss_2f\",\"loss_2f\",\"loss_2f\",\"loss_2f\",\"loss_2f\",\"loss_2f\",\"loss_2f\"],\"index\":[1,2,3,4,5,6,7,8,9,10,11,12,13,14,15,16,17,18,19,20,21,22,23],\"value\":{\"__ndarray__\":\"AAAAwP/eqz8AAAAATlWfPwAAAGAZeZQ/AAAAIHhtkT8AAACADO6GPwAAAODMLYg/AAAAoDYahj8AAACARueAPwAAAABAj4E/AAAA4EZWgD8AAABAbRyCPwAAAADBxH0/AAAAwGvIgD8AAACAbhSBPwAAAABa2no/AAAAoD3deD8AAADAsUN/PwAAAGApVHU/AAAAgPmNeT8AAABgj9Z0PwAAACBhbns/AAAAoLi3dj8AAACACtB3Pw==\",\"dtype\":\"float64\",\"order\":\"little\",\"shape\":[23]}},\"selected\":{\"id\":\"1060\"},\"selection_policy\":{\"id\":\"1075\"}},\"id\":\"1059\",\"type\":\"ColumnDataSource\"},{\"attributes\":{},\"id\":\"1042\",\"type\":\"Selection\"},{\"attributes\":{\"text\":\"\",\"text_color\":{\"value\":\"black\"},\"text_font_size\":{\"value\":\"12pt\"}},\"id\":\"1008\",\"type\":\"Title\"},{\"attributes\":{\"data_source\":{\"id\":\"1059\"},\"glyph\":{\"id\":\"1062\"},\"hover_glyph\":null,\"muted_glyph\":{\"id\":\"1064\"},\"nonselection_glyph\":{\"id\":\"1063\"},\"selection_glyph\":null,\"view\":{\"id\":\"1066\"}},\"id\":\"1065\",\"type\":\"GlyphRenderer\"},{\"attributes\":{},\"id\":\"1014\",\"type\":\"LinearScale\"},{\"attributes\":{\"margin\":[5,5,5,5],\"name\":\"HSpacer01563\",\"sizing_mode\":\"stretch_width\"},\"id\":\"1168\",\"type\":\"Spacer\"}],\"root_ids\":[\"1001\"]},\"title\":\"Bokeh Application\",\"version\":\"2.2.3\"}};\n",
       "    var render_items = [{\"docid\":\"529406ea-0595-4503-8c48-341c44b33a42\",\"root_ids\":[\"1001\"],\"roots\":{\"1001\":\"1b9b28c4-6a32-43e1-a2a5-1add7dda3c50\"}}];\n",
       "    root.Bokeh.embed.embed_items_notebook(docs_json, render_items);\n",
       "  }\n",
       "  if (root.Bokeh !== undefined && root.Bokeh.Panel !== undefined) {\n",
       "    embed_document(root);\n",
       "  } else {\n",
       "    var attempts = 0;\n",
       "    var timer = setInterval(function(root) {\n",
       "      if (root.Bokeh !== undefined && root.Bokeh.Panel !== undefined) {\n",
       "        clearInterval(timer);\n",
       "        embed_document(root);\n",
       "      } else if (document.readyState == \"complete\") {\n",
       "        attempts++;\n",
       "        if (attempts > 100) {\n",
       "          clearInterval(timer);\n",
       "          console.log(\"Bokeh: ERROR: Unable to run BokehJS code because BokehJS library is missing\");\n",
       "        }\n",
       "      }\n",
       "    }, 10, root)\n",
       "  }\n",
       "})(window);</script>"
      ],
      "text/plain": [
       ":NdOverlay   [Variable]\n",
       "   :Curve   [index]   (value)"
      ]
     },
     "execution_count": 57,
     "metadata": {
      "application/vnd.holoviews_exec.v0+json": {
       "id": "1001"
      }
     },
     "output_type": "execute_result"
    }
   ],
   "source": [
    "score_loss_lr_1fvs2f(score_dense_lr_1f_df, score_dense_lr_2f_df)"
   ]
  },
  {
   "cell_type": "code",
   "execution_count": 58,
   "metadata": {},
   "outputs": [
    {
     "data": {
      "application/vnd.holoviews_exec.v0+json": "",
      "text/html": [
       "<div id='1220'>\n",
       "\n",
       "\n",
       "\n",
       "\n",
       "\n",
       "  <div class=\"bk-root\" id=\"1d085996-6aa6-4cac-900a-4bf51ea7b775\" data-root-id=\"1220\"></div>\n",
       "</div>\n",
       "<script type=\"application/javascript\">(function(root) {\n",
       "  function embed_document(root) {\n",
       "    var docs_json = {\"88c3fd6a-3847-433b-8c89-ced8721b5e20\":{\"roots\":{\"references\":[{\"attributes\":{},\"id\":\"1247\",\"type\":\"ResetTool\"},{\"attributes\":{},\"id\":\"1245\",\"type\":\"WheelZoomTool\"},{\"attributes\":{},\"id\":\"1244\",\"type\":\"PanTool\"},{\"attributes\":{},\"id\":\"1279\",\"type\":\"Selection\"},{\"attributes\":{\"overlay\":{\"id\":\"1248\"}},\"id\":\"1246\",\"type\":\"BoxZoomTool\"},{\"attributes\":{\"source\":{\"id\":\"1260\"}},\"id\":\"1267\",\"type\":\"CDSView\"},{\"attributes\":{},\"id\":\"1257\",\"type\":\"BasicTickFormatter\"},{\"attributes\":{},\"id\":\"1259\",\"type\":\"BasicTickFormatter\"},{\"attributes\":{\"text\":\"\",\"text_color\":{\"value\":\"black\"},\"text_font_size\":{\"value\":\"12pt\"}},\"id\":\"1227\",\"type\":\"Title\"},{\"attributes\":{\"line_alpha\":0.1,\"line_color\":\"#ff7e0e\",\"line_width\":2,\"x\":{\"field\":\"index\"},\"y\":{\"field\":\"value\"}},\"id\":\"1282\",\"type\":\"Line\"},{\"attributes\":{\"data_source\":{\"id\":\"1278\"},\"glyph\":{\"id\":\"1281\"},\"hover_glyph\":null,\"muted_glyph\":{\"id\":\"1283\"},\"nonselection_glyph\":{\"id\":\"1282\"},\"selection_glyph\":null,\"view\":{\"id\":\"1285\"}},\"id\":\"1284\",\"type\":\"GlyphRenderer\"},{\"attributes\":{},\"id\":\"1231\",\"type\":\"LinearScale\"},{\"attributes\":{\"axis_label\":\"\",\"bounds\":\"auto\",\"formatter\":{\"id\":\"1257\"},\"major_label_orientation\":\"horizontal\",\"ticker\":{\"id\":\"1236\"}},\"id\":\"1235\",\"type\":\"LinearAxis\"},{\"attributes\":{},\"id\":\"1233\",\"type\":\"LinearScale\"},{\"attributes\":{},\"id\":\"1236\",\"type\":\"BasicTicker\"},{\"attributes\":{},\"id\":\"1261\",\"type\":\"Selection\"},{\"attributes\":{\"margin\":[5,5,5,5],\"name\":\"HSpacer02009\",\"sizing_mode\":\"stretch_width\"},\"id\":\"1387\",\"type\":\"Spacer\"},{\"attributes\":{\"axis\":{\"id\":\"1235\"},\"grid_line_color\":null,\"ticker\":null},\"id\":\"1238\",\"type\":\"Grid\"},{\"attributes\":{\"click_policy\":\"mute\",\"items\":[{\"id\":\"1277\"},{\"id\":\"1296\"}],\"location\":[0,0],\"title\":\"Variable\"},\"id\":\"1276\",\"type\":\"Legend\"},{\"attributes\":{\"end\":0.2944421749562025,\"reset_end\":0.2944421749562025,\"reset_start\":0.027774116024374962,\"start\":0.027774116024374962,\"tags\":[[[\"value\",\"value\",null]]]},\"id\":\"1223\",\"type\":\"Range1d\"},{\"attributes\":{\"line_color\":\"#1f77b3\",\"line_width\":2,\"x\":{\"field\":\"index\"},\"y\":{\"field\":\"value\"}},\"id\":\"1263\",\"type\":\"Line\"},{\"attributes\":{\"label\":{\"value\":\"mae_1f\"},\"renderers\":[{\"id\":\"1266\"}]},\"id\":\"1277\",\"type\":\"LegendItem\"},{\"attributes\":{\"active_drag\":\"auto\",\"active_inspect\":\"auto\",\"active_multi\":null,\"active_scroll\":\"auto\",\"active_tap\":\"auto\",\"tools\":[{\"id\":\"1224\"},{\"id\":\"1243\"},{\"id\":\"1244\"},{\"id\":\"1245\"},{\"id\":\"1246\"},{\"id\":\"1247\"}]},\"id\":\"1249\",\"type\":\"Toolbar\"},{\"attributes\":{\"source\":{\"id\":\"1278\"}},\"id\":\"1285\",\"type\":\"CDSView\"},{\"attributes\":{},\"id\":\"1274\",\"type\":\"UnionRenderers\"},{\"attributes\":{\"axis\":{\"id\":\"1239\"},\"dimension\":1,\"grid_line_color\":null,\"ticker\":null},\"id\":\"1242\",\"type\":\"Grid\"},{\"attributes\":{\"data\":{\"Variable\":[\"mae_2f\",\"mae_2f\",\"mae_2f\",\"mae_2f\",\"mae_2f\",\"mae_2f\",\"mae_2f\",\"mae_2f\",\"mae_2f\",\"mae_2f\",\"mae_2f\",\"mae_2f\",\"mae_2f\",\"mae_2f\",\"mae_2f\",\"mae_2f\",\"mae_2f\",\"mae_2f\",\"mae_2f\",\"mae_2f\",\"mae_2f\",\"mae_2f\",\"mae_2f\"],\"index\":[1,2,3,4,5,6,7,8,9,10,11,12,13,14,15,16,17,18,19,20,21,22,23],\"value\":{\"__ndarray__\":\"AAAAYFVmxj8AAACg2FTBPwAAAECRZrw/AAAAoOqvuT8AAACAK9O0PwAAACC5t7Q/AAAAQA/Xsz8AAACgenaxPwAAAKBOZ7E/AAAAgDfpsD8AAADAgSKxPwAAAMC5ga8/AAAAYDtKsD8AAAAA/vuvPwAAAEA2Ba4/AAAAYGzNqz8AAACAOT2vPwAAAOCO/ao/AAAAYKdIrD8AAACgIpmpPwAAAEB9y6w/AAAAgCkyqj8AAAAgmISqPw==\",\"dtype\":\"float64\",\"order\":\"little\",\"shape\":[23]}},\"selected\":{\"id\":\"1279\"},\"selection_policy\":{\"id\":\"1294\"}},\"id\":\"1278\",\"type\":\"ColumnDataSource\"},{\"attributes\":{\"line_color\":\"#ff7e0e\",\"line_width\":2,\"x\":{\"field\":\"index\"},\"y\":{\"field\":\"value\"}},\"id\":\"1281\",\"type\":\"Line\"},{\"attributes\":{\"children\":[{\"id\":\"1221\"},{\"id\":\"1226\"},{\"id\":\"1387\"}],\"margin\":[0,0,0,0],\"name\":\"Row02004\",\"tags\":[\"embedded\"]},\"id\":\"1220\",\"type\":\"Row\"},{\"attributes\":{},\"id\":\"1240\",\"type\":\"BasicTicker\"},{\"attributes\":{\"data\":{\"Variable\":[\"mae_1f\",\"mae_1f\",\"mae_1f\",\"mae_1f\",\"mae_1f\",\"mae_1f\",\"mae_1f\",\"mae_1f\",\"mae_1f\",\"mae_1f\",\"mae_1f\",\"mae_1f\",\"mae_1f\",\"mae_1f\",\"mae_1f\",\"mae_1f\",\"mae_1f\",\"mae_1f\",\"mae_1f\",\"mae_1f\",\"mae_1f\",\"mae_1f\",\"mae_1f\"],\"index\":[1,2,3,4,5,6,7,8,9,10,11,12,13,14,15,16,17,18,19,20,21,22,23],\"value\":{\"__ndarray__\":\"AAAAwAxs0T8AAABAyi/IPwAAAOBuksI/AAAAwK1PwD8AAACgxBa/PwAAAIBTor0/AAAAYNMuvD8AAABAthq6PwAAAODMnbg/AAAAwDdytj8AAADgQJ6zPwAAAAAP5LM/AAAAQH15sj8AAADA1P2xPwAAAMAJbLA/AAAAAMZOsD8AAADApF6vPwAAAGDEH60/AAAAAKQ0qz8AAADAJOyrPwAAAGCzjao/AAAAgFmrqj8AAAAAAAD4fw==\",\"dtype\":\"float64\",\"order\":\"little\",\"shape\":[23]}},\"selected\":{\"id\":\"1261\"},\"selection_policy\":{\"id\":\"1274\"}},\"id\":\"1260\",\"type\":\"ColumnDataSource\"},{\"attributes\":{\"end\":23.0,\"reset_end\":23.0,\"reset_start\":1.0,\"start\":1.0,\"tags\":[[[\"index\",\"index\",null]]]},\"id\":\"1222\",\"type\":\"Range1d\"},{\"attributes\":{\"axis_label\":\"\",\"bounds\":\"auto\",\"formatter\":{\"id\":\"1259\"},\"major_label_orientation\":\"horizontal\",\"ticker\":{\"id\":\"1240\"}},\"id\":\"1239\",\"type\":\"LinearAxis\"},{\"attributes\":{\"line_alpha\":0.1,\"line_color\":\"#1f77b3\",\"line_width\":2,\"x\":{\"field\":\"index\"},\"y\":{\"field\":\"value\"}},\"id\":\"1264\",\"type\":\"Line\"},{\"attributes\":{\"bottom_units\":\"screen\",\"fill_alpha\":0.5,\"fill_color\":\"lightgrey\",\"left_units\":\"screen\",\"level\":\"overlay\",\"line_alpha\":1.0,\"line_color\":\"black\",\"line_dash\":[4,4],\"line_width\":2,\"right_units\":\"screen\",\"top_units\":\"screen\"},\"id\":\"1248\",\"type\":\"BoxAnnotation\"},{\"attributes\":{\"margin\":[5,5,5,5],\"name\":\"HSpacer02008\",\"sizing_mode\":\"stretch_width\"},\"id\":\"1221\",\"type\":\"Spacer\"},{\"attributes\":{},\"id\":\"1294\",\"type\":\"UnionRenderers\"},{\"attributes\":{\"label\":{\"value\":\"mae_2f\"},\"renderers\":[{\"id\":\"1284\"}]},\"id\":\"1296\",\"type\":\"LegendItem\"},{\"attributes\":{\"below\":[{\"id\":\"1235\"}],\"center\":[{\"id\":\"1238\"},{\"id\":\"1242\"}],\"left\":[{\"id\":\"1239\"}],\"margin\":[5,5,5,5],\"min_border_bottom\":10,\"min_border_left\":10,\"min_border_right\":10,\"min_border_top\":10,\"plot_height\":300,\"plot_width\":700,\"renderers\":[{\"id\":\"1266\"},{\"id\":\"1284\"}],\"right\":[{\"id\":\"1276\"}],\"sizing_mode\":\"fixed\",\"title\":{\"id\":\"1227\"},\"toolbar\":{\"id\":\"1249\"},\"x_range\":{\"id\":\"1222\"},\"x_scale\":{\"id\":\"1231\"},\"y_range\":{\"id\":\"1223\"},\"y_scale\":{\"id\":\"1233\"}},\"id\":\"1226\",\"subtype\":\"Figure\",\"type\":\"Plot\"},{\"attributes\":{\"data_source\":{\"id\":\"1260\"},\"glyph\":{\"id\":\"1263\"},\"hover_glyph\":null,\"muted_glyph\":{\"id\":\"1265\"},\"nonselection_glyph\":{\"id\":\"1264\"},\"selection_glyph\":null,\"view\":{\"id\":\"1267\"}},\"id\":\"1266\",\"type\":\"GlyphRenderer\"},{\"attributes\":{\"callback\":null,\"renderers\":[{\"id\":\"1266\"},{\"id\":\"1284\"}],\"tags\":[\"hv_created\"],\"tooltips\":[[\"Variable\",\"@{Variable}\"],[\"index\",\"@{index}\"],[\"value\",\"@{value}\"]]},\"id\":\"1224\",\"type\":\"HoverTool\"},{\"attributes\":{\"line_alpha\":0.2,\"line_color\":\"#1f77b3\",\"line_width\":2,\"x\":{\"field\":\"index\"},\"y\":{\"field\":\"value\"}},\"id\":\"1265\",\"type\":\"Line\"},{\"attributes\":{},\"id\":\"1243\",\"type\":\"SaveTool\"},{\"attributes\":{\"line_alpha\":0.2,\"line_color\":\"#ff7e0e\",\"line_width\":2,\"x\":{\"field\":\"index\"},\"y\":{\"field\":\"value\"}},\"id\":\"1283\",\"type\":\"Line\"}],\"root_ids\":[\"1220\"]},\"title\":\"Bokeh Application\",\"version\":\"2.2.3\"}};\n",
       "    var render_items = [{\"docid\":\"88c3fd6a-3847-433b-8c89-ced8721b5e20\",\"root_ids\":[\"1220\"],\"roots\":{\"1220\":\"1d085996-6aa6-4cac-900a-4bf51ea7b775\"}}];\n",
       "    root.Bokeh.embed.embed_items_notebook(docs_json, render_items);\n",
       "  }\n",
       "  if (root.Bokeh !== undefined && root.Bokeh.Panel !== undefined) {\n",
       "    embed_document(root);\n",
       "  } else {\n",
       "    var attempts = 0;\n",
       "    var timer = setInterval(function(root) {\n",
       "      if (root.Bokeh !== undefined && root.Bokeh.Panel !== undefined) {\n",
       "        clearInterval(timer);\n",
       "        embed_document(root);\n",
       "      } else if (document.readyState == \"complete\") {\n",
       "        attempts++;\n",
       "        if (attempts > 100) {\n",
       "          clearInterval(timer);\n",
       "          console.log(\"Bokeh: ERROR: Unable to run BokehJS code because BokehJS library is missing\");\n",
       "        }\n",
       "      }\n",
       "    }, 10, root)\n",
       "  }\n",
       "})(window);</script>"
      ],
      "text/plain": [
       ":NdOverlay   [Variable]\n",
       "   :Curve   [index]   (value)"
      ]
     },
     "execution_count": 58,
     "metadata": {
      "application/vnd.holoviews_exec.v0+json": {
       "id": "1220"
      }
     },
     "output_type": "execute_result"
    }
   ],
   "source": [
    "score_mae_lr_1fvs2f(score_dense_lr_1f_df, score_dense_lr_2f_df)"
   ]
  },
  {
   "cell_type": "code",
   "execution_count": 59,
   "metadata": {},
   "outputs": [
    {
     "data": {
      "application/vnd.holoviews_exec.v0+json": "",
      "text/html": [
       "<div id='1439'>\n",
       "\n",
       "\n",
       "\n",
       "\n",
       "\n",
       "  <div class=\"bk-root\" id=\"5cf0c727-2b86-4d1e-92c2-4e13e4af9139\" data-root-id=\"1439\"></div>\n",
       "</div>\n",
       "<script type=\"application/javascript\">(function(root) {\n",
       "  function embed_document(root) {\n",
       "    var docs_json = {\"c6eb61bb-d59b-436c-8399-18b63a641af9\":{\"roots\":{\"references\":[{\"attributes\":{\"margin\":[5,5,5,5],\"name\":\"HSpacer02478\",\"sizing_mode\":\"stretch_width\"},\"id\":\"1440\",\"type\":\"Spacer\"},{\"attributes\":{\"text\":\"\",\"text_color\":{\"value\":\"black\"},\"text_font_size\":{\"value\":\"12pt\"}},\"id\":\"1447\",\"type\":\"Title\"},{\"attributes\":{\"data\":{\"Variable\":[\"predict_2features\",\"predict_2features\",\"predict_2features\",\"predict_2features\",\"predict_2features\",\"predict_2features\",\"predict_2features\",\"predict_2features\",\"predict_2features\",\"predict_2features\",\"predict_2features\",\"predict_2features\",\"predict_2features\",\"predict_2features\",\"predict_2features\",\"predict_2features\",\"predict_2features\",\"predict_2features\",\"predict_2features\",\"predict_2features\",\"predict_2features\",\"predict_2features\",\"predict_2features\",\"predict_2features\",\"predict_2features\",\"predict_2features\",\"predict_2features\",\"predict_2features\",\"predict_2features\",\"predict_2features\",\"predict_2features\",\"predict_2features\",\"predict_2features\",\"predict_2features\",\"predict_2features\",\"predict_2features\",\"predict_2features\",\"predict_2features\",\"predict_2features\",\"predict_2features\",\"predict_2features\",\"predict_2features\",\"predict_2features\",\"predict_2features\",\"predict_2features\",\"predict_2features\",\"predict_2features\",\"predict_2features\",\"predict_2features\",\"predict_2features\",\"predict_2features\",\"predict_2features\",\"predict_2features\",\"predict_2features\",\"predict_2features\",\"predict_2features\",\"predict_2features\",\"predict_2features\",\"predict_2features\",\"predict_2features\",\"predict_2features\",\"predict_2features\",\"predict_2features\",\"predict_2features\",\"predict_2features\",\"predict_2features\",\"predict_2features\",\"predict_2features\",\"predict_2features\",\"predict_2features\",\"predict_2features\",\"predict_2features\",\"predict_2features\",\"predict_2features\",\"predict_2features\",\"predict_2features\",\"predict_2features\",\"predict_2features\",\"predict_2features\",\"predict_2features\",\"predict_2features\",\"predict_2features\",\"predict_2features\",\"predict_2features\",\"predict_2features\",\"predict_2features\",\"predict_2features\",\"predict_2features\",\"predict_2features\",\"predict_2features\",\"predict_2features\",\"predict_2features\",\"predict_2features\",\"predict_2features\",\"predict_2features\",\"predict_2features\",\"predict_2features\",\"predict_2features\",\"predict_2features\",\"predict_2features\",\"predict_2features\",\"predict_2features\",\"predict_2features\",\"predict_2features\",\"predict_2features\",\"predict_2features\",\"predict_2features\",\"predict_2features\",\"predict_2features\",\"predict_2features\",\"predict_2features\",\"predict_2features\",\"predict_2features\",\"predict_2features\",\"predict_2features\",\"predict_2features\",\"predict_2features\",\"predict_2features\",\"predict_2features\",\"predict_2features\",\"predict_2features\",\"predict_2features\",\"predict_2features\",\"predict_2features\",\"predict_2features\",\"predict_2features\",\"predict_2features\",\"predict_2features\",\"predict_2features\",\"predict_2features\",\"predict_2features\",\"predict_2features\",\"predict_2features\",\"predict_2features\",\"predict_2features\",\"predict_2features\",\"predict_2features\",\"predict_2features\",\"predict_2features\",\"predict_2features\",\"predict_2features\",\"predict_2features\",\"predict_2features\",\"predict_2features\",\"predict_2features\",\"predict_2features\",\"predict_2features\"],\"index\":[0,1,2,3,4,5,6,7,8,9,10,11,12,13,14,15,16,17,18,19,20,21,22,23,24,25,26,27,28,29,30,31,32,33,34,35,36,37,38,39,40,41,42,43,44,45,46,47,48,49,50,51,52,53,54,55,56,57,58,59,60,61,62,63,64,65,66,67,68,69,70,71,72,73,74,75,76,77,78,79,80,81,82,83,84,85,86,87,88,89,90,91,92,93,94,95,96,97,98,99,100,101,102,103,104,105,106,107,108,109,110,111,112,113,114,115,116,117,118,119,120,121,122,123,124,125,126,127,128,129,130,131,132,133,134,135,136,137,138,139,140,141,142,143,144,145,146],\"value\":{\"__ndarray__\":\"mEM6PwOfST8mHz4/3203P2YLNj8knDY/vQY3P1BWNz9GXjc/zTNGP/ZoTD+g3k0/IlpOP7riPz+KnE8/dW0/P7QpTD+KOkQ/7H1MP/0nWD9sjFY/XsBZPw24TD92R2k/DbhMP3ZHaT/Jtl0/SupPP5sXUj8a3lk/7rFWP4CJVj9C/lw/RAJjP7FOVj8yIlQ/OMdgP/KSYj/IuVc/BKxeP9R4Xj+4S2I/IVVgP2BbYD8+pWE/CnxnP2grWz/6A14/n/1dPz8CYz/YVVo/CpVaP3eKXj9Oj2U/+G5zP06PZT/4bnM/cdlnP/42az/aVVs/0FNXP1PHZD8s0Wo/hJZyPzwbZD/gtmY/UNdpP9uEZj/64Gk/rcBlPyw0YT+jmGA/mEdmP4z1ZD+GoWE/1BhdP5R1Yj9eSmQ/7RZiP2bLVz9z1Us/BehlP6ZCYj+UIl4/jGNcP+ENXj8oNVw/IC5YP3/jXj9colc/Bt5aP7cYXD8sr2A/txhcPyyvYD+kw2M/fGlsPwTVXD8c8Gc/iHtfP4z3YT/sN2k/MJhmPzkJYT/nLGk/XZZePwgXYz/NWmQ/Jl5nP+QDaT9QzWE/yK1nP7QxZj+UlGI/tOZiP6rCZD8Rp10/FqZdP4lkcD+5ZV4/YktqP6bJaj/EP2w/6otpP2ndZz+WbGY/B4BnPxAaaj+7CW4/NqVuP8hxYz8benE/tJVsP5h7aD9Yi2s/KqVjPyB6bD/ukGU/GLhoP5oPZz+7om0/4HVtP7Jsaz9We24/IWtqPw63bz/xdWY/\",\"dtype\":\"float32\",\"order\":\"little\",\"shape\":[147]}},\"selected\":{\"id\":\"1518\"},\"selection_policy\":{\"id\":\"1535\"}},\"id\":\"1517\",\"type\":\"ColumnDataSource\"},{\"attributes\":{},\"id\":\"1481\",\"type\":\"Selection\"},{\"attributes\":{\"active_drag\":\"auto\",\"active_inspect\":\"auto\",\"active_multi\":null,\"active_scroll\":\"auto\",\"active_tap\":\"auto\",\"tools\":[{\"id\":\"1443\"},{\"id\":\"1463\"},{\"id\":\"1464\"},{\"id\":\"1465\"},{\"id\":\"1466\"},{\"id\":\"1467\"}]},\"id\":\"1469\",\"type\":\"Toolbar\"},{\"attributes\":{},\"id\":\"1494\",\"type\":\"UnionRenderers\"},{\"attributes\":{\"below\":[{\"id\":\"1455\"}],\"center\":[{\"id\":\"1458\"},{\"id\":\"1462\"}],\"left\":[{\"id\":\"1459\"}],\"margin\":[5,5,5,5],\"min_border_bottom\":10,\"min_border_left\":10,\"min_border_right\":10,\"min_border_top\":10,\"plot_height\":300,\"plot_width\":700,\"renderers\":[{\"id\":\"1486\"},{\"id\":\"1504\"},{\"id\":\"1523\"}],\"right\":[{\"id\":\"1496\"}],\"sizing_mode\":\"fixed\",\"title\":{\"id\":\"1447\"},\"toolbar\":{\"id\":\"1469\"},\"x_range\":{\"id\":\"1441\"},\"x_scale\":{\"id\":\"1451\"},\"y_range\":{\"id\":\"1442\"},\"y_scale\":{\"id\":\"1453\"}},\"id\":\"1446\",\"subtype\":\"Figure\",\"type\":\"Plot\"},{\"attributes\":{\"click_policy\":\"mute\",\"items\":[{\"id\":\"1497\"},{\"id\":\"1516\"},{\"id\":\"1537\"}],\"location\":[0,0],\"title\":\"Variable\"},\"id\":\"1496\",\"type\":\"Legend\"},{\"attributes\":{},\"id\":\"1463\",\"type\":\"SaveTool\"},{\"attributes\":{\"axis_label\":\"\",\"bounds\":\"auto\",\"formatter\":{\"id\":\"1479\"},\"major_label_orientation\":\"horizontal\",\"ticker\":{\"id\":\"1460\"}},\"id\":\"1459\",\"type\":\"LinearAxis\"},{\"attributes\":{},\"id\":\"1464\",\"type\":\"PanTool\"},{\"attributes\":{\"data\":{\"Variable\":[\"actual\",\"actual\",\"actual\",\"actual\",\"actual\",\"actual\",\"actual\",\"actual\",\"actual\",\"actual\",\"actual\",\"actual\",\"actual\",\"actual\",\"actual\",\"actual\",\"actual\",\"actual\",\"actual\",\"actual\",\"actual\",\"actual\",\"actual\",\"actual\",\"actual\",\"actual\",\"actual\",\"actual\",\"actual\",\"actual\",\"actual\",\"actual\",\"actual\",\"actual\",\"actual\",\"actual\",\"actual\",\"actual\",\"actual\",\"actual\",\"actual\",\"actual\",\"actual\",\"actual\",\"actual\",\"actual\",\"actual\",\"actual\",\"actual\",\"actual\",\"actual\",\"actual\",\"actual\",\"actual\",\"actual\",\"actual\",\"actual\",\"actual\",\"actual\",\"actual\",\"actual\",\"actual\",\"actual\",\"actual\",\"actual\",\"actual\",\"actual\",\"actual\",\"actual\",\"actual\",\"actual\",\"actual\",\"actual\",\"actual\",\"actual\",\"actual\",\"actual\",\"actual\",\"actual\",\"actual\",\"actual\",\"actual\",\"actual\",\"actual\",\"actual\",\"actual\",\"actual\",\"actual\",\"actual\",\"actual\",\"actual\",\"actual\",\"actual\",\"actual\",\"actual\",\"actual\",\"actual\",\"actual\",\"actual\",\"actual\",\"actual\",\"actual\",\"actual\",\"actual\",\"actual\",\"actual\",\"actual\",\"actual\",\"actual\",\"actual\",\"actual\",\"actual\",\"actual\",\"actual\",\"actual\",\"actual\",\"actual\",\"actual\",\"actual\",\"actual\",\"actual\",\"actual\",\"actual\",\"actual\",\"actual\",\"actual\",\"actual\",\"actual\",\"actual\",\"actual\",\"actual\",\"actual\",\"actual\",\"actual\",\"actual\",\"actual\",\"actual\",\"actual\",\"actual\",\"actual\",\"actual\",\"actual\",\"actual\",\"actual\",\"actual\",\"actual\",\"actual\"],\"index\":[0,1,2,3,4,5,6,7,8,9,10,11,12,13,14,15,16,17,18,19,20,21,22,23,24,25,26,27,28,29,30,31,32,33,34,35,36,37,38,39,40,41,42,43,44,45,46,47,48,49,50,51,52,53,54,55,56,57,58,59,60,61,62,63,64,65,66,67,68,69,70,71,72,73,74,75,76,77,78,79,80,81,82,83,84,85,86,87,88,89,90,91,92,93,94,95,96,97,98,99,100,101,102,103,104,105,106,107,108,109,110,111,112,113,114,115,116,117,118,119,120,121,122,123,124,125,126,127,128,129,130,131,132,133,134,135,136,137,138,139,140,141,142,143,144,145,146],\"value\":{\"__ndarray__\":\"QzLu9oP05z/LEcLHX/XnP2pvEL+noec/M0YQazSV5z8BMdzEd9nnP++eag1YNeg/hFZQvMxE6D/knpXwVN3nP3PE3gStoOg/aKqLJs8w6j+LTD+CdHToP3m1Wh8nvOg/QK+qXvDk6D8apDEskqnpP7JHIEpTwOk/SAR5pPXj6T/gxUSqxRvqPxoDEazveOo/IE75mplP6z+6Hh6j8sPrP+q1gVxJhOw/nhN6jZfg7D8gLwgukSPtPyAvCC6RI+0/IC8ILpEj7T8gLwgukSPtP6zw/hZeA+0/6Hnybyjq6z+6S1SNiiHsP65zQq/xEuw/3kznaI006z80o5z9oabsP1I6Y93vsew/LgO75fUo6z+aQe/fJfHqP/AVdWGgXus/Tnck0gkE6z8GwSVypGfrPwDVHANYYOs/Dp2WdnF/7T+w15TafPbsPwphB4pQ5ew/gNG5Nkl37T/6nOw8a8/sPyKt2Br3Huw/HGLwK01I6z+slpJCLkjsPwI0/IK1L+w/BiAF8gE37D/0vmKfXHHsP3CzMhU0puw/FP2Je8hZ7D+eOz3MASrtP2jv7ORR6Ow/aO/s5FHo7D9o7+zkUejsP2jv7ORR6Ow/RI96ifEF7T9AOSui2nvtPzZhW/1cRe4/aAKlDQ8u7z+8lSj3Ou3uPwEAAAAAAPA/SMsJdhKg7T8EssxvGyvrP3SayNhSmew/JGLFSFCg6z8E5HUF4ZzrP/ZgXVBKNew/cCyQVmyN6z/EuqCUajjrP3qlwrSnzOo/PsJih60q6z9as4jbLfbrP55Vu43cQes/PDqsQ+wG7D8wj9BP61XsP4AYbuK77Os/kg4yxWZ07D+CfMANR9DsP25P4Omowus/aL1DT4x27D++BbRmEbfrP4JKF3iBXuw/UhcG6rWB7D8iPmEwGmDtPyC7HZiGUO4/6Lnggn2N7j9axkAE6zvuPxDUsrdkBe4/TORIz/YE7j/eMmmnshztP94yaaeyHO0/3jJpp7Ic7T/eMmmnshztP2Irp7RvKu0/Hr72oRg07T/UZD0gdTbtP5xjAAtsc+0/jiIpVhpt7D9eHE6y5u3sP5xQSOKuLes/TqnNZ8916z+oI+cUGijrP7zJJHrwHOs/JM/pRT2h7j/yMhPhuMztPzKeKVJ0kuw/VoDLwG557T8WZk9SgVHtPwy7c16AoO0/LDnDoe+j7T98ve2IkibtP17vF8hOkOw/BHCLb9bJ7D8c7gWWQnXsP/SDreOGauw/wpuvJ2IM7T9UTiIrqQftP0yK3PrGSe0/yLTugEZx7T9Ctz3IW0/tPyoCp2D8He0//rC46iEg7T/uGdSH1GftPxIlTboyo+w/AtJD+cV87D+QWUWXDfPsPwiEVx2NGu0/vLQZZEMZ7T8Qzz8MN/HtP65ZxO0W++0/ZGc2oZDE7T/8Xx7oU4LuPzx/DQJvvu4/QDT6L8g/7j8SOAXj7+juP753Sw8szO4/zgRKGx5c7j+qpNe/vXnuP1iPJMP3te0/qkpr642+7T+khiW7qwDuP5qGUJ6oqO0/utL2S1I67T8YcDWp3HntP7S5t/Jt1ew/\",\"dtype\":\"float64\",\"order\":\"little\",\"shape\":[147]}},\"selected\":{\"id\":\"1499\"},\"selection_policy\":{\"id\":\"1514\"}},\"id\":\"1498\",\"type\":\"ColumnDataSource\"},{\"attributes\":{\"line_alpha\":0.2,\"line_color\":\"#ff7e0e\",\"line_width\":2,\"x\":{\"field\":\"index\"},\"y\":{\"field\":\"value\"}},\"id\":\"1503\",\"type\":\"Line\"},{\"attributes\":{},\"id\":\"1467\",\"type\":\"ResetTool\"},{\"attributes\":{\"line_alpha\":0.2,\"line_color\":\"#1f77b3\",\"line_width\":2,\"x\":{\"field\":\"index\"},\"y\":{\"field\":\"value\"}},\"id\":\"1485\",\"type\":\"Line\"},{\"attributes\":{\"source\":{\"id\":\"1498\"}},\"id\":\"1505\",\"type\":\"CDSView\"},{\"attributes\":{},\"id\":\"1465\",\"type\":\"WheelZoomTool\"},{\"attributes\":{},\"id\":\"1518\",\"type\":\"Selection\"},{\"attributes\":{\"overlay\":{\"id\":\"1468\"}},\"id\":\"1466\",\"type\":\"BoxZoomTool\"},{\"attributes\":{\"line_alpha\":0.2,\"line_color\":\"#2ba02b\",\"line_width\":2,\"x\":{\"field\":\"index\"},\"y\":{\"field\":\"value\"}},\"id\":\"1522\",\"type\":\"Line\"},{\"attributes\":{\"margin\":[5,5,5,5],\"name\":\"HSpacer02479\",\"sizing_mode\":\"stretch_width\"},\"id\":\"1646\",\"type\":\"Spacer\"},{\"attributes\":{},\"id\":\"1451\",\"type\":\"LinearScale\"},{\"attributes\":{\"source\":{\"id\":\"1517\"}},\"id\":\"1524\",\"type\":\"CDSView\"},{\"attributes\":{\"end\":146.0,\"reset_end\":146.0,\"reset_start\":0.0,\"tags\":[[[\"index\",\"index\",null]]]},\"id\":\"1441\",\"type\":\"Range1d\"},{\"attributes\":{\"callback\":null,\"renderers\":[{\"id\":\"1486\"},{\"id\":\"1504\"},{\"id\":\"1523\"}],\"tags\":[\"hv_created\"],\"tooltips\":[[\"Variable\",\"@{Variable}\"],[\"index\",\"@{index}\"],[\"value\",\"@{value}\"]]},\"id\":\"1443\",\"type\":\"HoverTool\"},{\"attributes\":{\"line_color\":\"#1f77b3\",\"line_width\":2,\"x\":{\"field\":\"index\"},\"y\":{\"field\":\"value\"}},\"id\":\"1483\",\"type\":\"Line\"},{\"attributes\":{\"line_color\":\"#2ba02b\",\"line_width\":2,\"x\":{\"field\":\"index\"},\"y\":{\"field\":\"value\"}},\"id\":\"1520\",\"type\":\"Line\"},{\"attributes\":{\"axis_label\":\"\",\"bounds\":\"auto\",\"formatter\":{\"id\":\"1477\"},\"major_label_orientation\":\"horizontal\",\"ticker\":{\"id\":\"1456\"}},\"id\":\"1455\",\"type\":\"LinearAxis\"},{\"attributes\":{},\"id\":\"1453\",\"type\":\"LinearScale\"},{\"attributes\":{\"line_color\":\"#ff7e0e\",\"line_width\":2,\"x\":{\"field\":\"index\"},\"y\":{\"field\":\"value\"}},\"id\":\"1501\",\"type\":\"Line\"},{\"attributes\":{},\"id\":\"1456\",\"type\":\"BasicTicker\"},{\"attributes\":{},\"id\":\"1535\",\"type\":\"UnionRenderers\"},{\"attributes\":{\"axis\":{\"id\":\"1455\"},\"grid_line_color\":null,\"ticker\":null},\"id\":\"1458\",\"type\":\"Grid\"},{\"attributes\":{\"data_source\":{\"id\":\"1498\"},\"glyph\":{\"id\":\"1501\"},\"hover_glyph\":null,\"muted_glyph\":{\"id\":\"1503\"},\"nonselection_glyph\":{\"id\":\"1502\"},\"selection_glyph\":null,\"view\":{\"id\":\"1505\"}},\"id\":\"1504\",\"type\":\"GlyphRenderer\"},{\"attributes\":{\"data_source\":{\"id\":\"1517\"},\"glyph\":{\"id\":\"1520\"},\"hover_glyph\":null,\"muted_glyph\":{\"id\":\"1522\"},\"nonselection_glyph\":{\"id\":\"1521\"},\"selection_glyph\":null,\"view\":{\"id\":\"1524\"}},\"id\":\"1523\",\"type\":\"GlyphRenderer\"},{\"attributes\":{\"data\":{\"Variable\":[\"predict_1feature\",\"predict_1feature\",\"predict_1feature\",\"predict_1feature\",\"predict_1feature\",\"predict_1feature\",\"predict_1feature\",\"predict_1feature\",\"predict_1feature\",\"predict_1feature\",\"predict_1feature\",\"predict_1feature\",\"predict_1feature\",\"predict_1feature\",\"predict_1feature\",\"predict_1feature\",\"predict_1feature\",\"predict_1feature\",\"predict_1feature\",\"predict_1feature\",\"predict_1feature\",\"predict_1feature\",\"predict_1feature\",\"predict_1feature\",\"predict_1feature\",\"predict_1feature\",\"predict_1feature\",\"predict_1feature\",\"predict_1feature\",\"predict_1feature\",\"predict_1feature\",\"predict_1feature\",\"predict_1feature\",\"predict_1feature\",\"predict_1feature\",\"predict_1feature\",\"predict_1feature\",\"predict_1feature\",\"predict_1feature\",\"predict_1feature\",\"predict_1feature\",\"predict_1feature\",\"predict_1feature\",\"predict_1feature\",\"predict_1feature\",\"predict_1feature\",\"predict_1feature\",\"predict_1feature\",\"predict_1feature\",\"predict_1feature\",\"predict_1feature\",\"predict_1feature\",\"predict_1feature\",\"predict_1feature\",\"predict_1feature\",\"predict_1feature\",\"predict_1feature\",\"predict_1feature\",\"predict_1feature\",\"predict_1feature\",\"predict_1feature\",\"predict_1feature\",\"predict_1feature\",\"predict_1feature\",\"predict_1feature\",\"predict_1feature\",\"predict_1feature\",\"predict_1feature\",\"predict_1feature\",\"predict_1feature\",\"predict_1feature\",\"predict_1feature\",\"predict_1feature\",\"predict_1feature\",\"predict_1feature\",\"predict_1feature\",\"predict_1feature\",\"predict_1feature\",\"predict_1feature\",\"predict_1feature\",\"predict_1feature\",\"predict_1feature\",\"predict_1feature\",\"predict_1feature\",\"predict_1feature\",\"predict_1feature\",\"predict_1feature\",\"predict_1feature\",\"predict_1feature\",\"predict_1feature\",\"predict_1feature\",\"predict_1feature\",\"predict_1feature\",\"predict_1feature\",\"predict_1feature\",\"predict_1feature\",\"predict_1feature\",\"predict_1feature\",\"predict_1feature\",\"predict_1feature\",\"predict_1feature\",\"predict_1feature\",\"predict_1feature\",\"predict_1feature\",\"predict_1feature\",\"predict_1feature\",\"predict_1feature\",\"predict_1feature\",\"predict_1feature\",\"predict_1feature\",\"predict_1feature\",\"predict_1feature\",\"predict_1feature\",\"predict_1feature\",\"predict_1feature\",\"predict_1feature\",\"predict_1feature\",\"predict_1feature\",\"predict_1feature\",\"predict_1feature\",\"predict_1feature\",\"predict_1feature\",\"predict_1feature\",\"predict_1feature\",\"predict_1feature\",\"predict_1feature\",\"predict_1feature\",\"predict_1feature\",\"predict_1feature\",\"predict_1feature\",\"predict_1feature\",\"predict_1feature\",\"predict_1feature\",\"predict_1feature\",\"predict_1feature\",\"predict_1feature\",\"predict_1feature\",\"predict_1feature\",\"predict_1feature\",\"predict_1feature\",\"predict_1feature\",\"predict_1feature\",\"predict_1feature\",\"predict_1feature\",\"predict_1feature\",\"predict_1feature\",\"predict_1feature\"],\"index\":[0,1,2,3,4,5,6,7,8,9,10,11,12,13,14,15,16,17,18,19,20,21,22,23,24,25,26,27,28,29,30,31,32,33,34,35,36,37,38,39,40,41,42,43,44,45,46,47,48,49,50,51,52,53,54,55,56,57,58,59,60,61,62,63,64,65,66,67,68,69,70,71,72,73,74,75,76,77,78,79,80,81,82,83,84,85,86,87,88,89,90,91,92,93,94,95,96,97,98,99,100,101,102,103,104,105,106,107,108,109,110,111,112,113,114,115,116,117,118,119,120,121,122,123,124,125,126,127,128,129,130,131,132,133,134,135,136,137,138,139,140,141,142,143,144,145,146],\"value\":{\"__ndarray__\":\"f/4oP5+ZKT8ADSo/dggrP394Kz8I5Cs/QjMsP25uLD9YdCw/JwMtP+S8LT/wEi4/ynMuPx29Lj/rLS8/qkAwP+J5ND//GDU/LOI1P2DINz+Q8zg/JBw7PwZBPD8GQTw/kHdMP5B3TD8nIz0/w4A+P6J0Pz/ibEA/XaJBP5z2QT9qM0M/S7JDP4fvQz+d+0M/V1xEPwSGRD85jUQ/CnVEP0jARD8CAkU/bgNFP4IcRT/yDEU/xRxFP6/bRD+i60Q/4ylFP1N3RT9cZ0U/eopFPxBwRT/GCUY/xglGP9K+UD/SvlA/hqBGP1kfRz+k3Ec/d7hIP9UOSz8dMEw/Nh5NP0tATT8790w/NFxNP7btTD+Jv0w/iq1MP2pZTD+5Akw/W01LP9fHSj9Yqkk/MsNIP2HRRz/A2EY/gPJFP9YXRT9zI0Q/a5RDP+xjQz/bjUM/PHxDP8O/Qz8oV0Q/YCZFPzHaRT/ep0Y/rH5HP6J1SD+idUg/q9FKP6vRSj/YCkk/MmdJP8gdSj/Ds0o/9yBLP+gnSz/2dEs/EhNLP0WrSj/3fEo/3GtKPyhzSz+rS0s/w7NKP395Sj+aQ0o/fyVKPwNOSj/cTEo/yhtKPz/7ST8Zr0k/U65JP3W3ST93RUo/pWdLP04aTD/vkUw/NgVMP5aNSz9db0s/YXRLP64oSz9iDEs/QORKP7S6Sj9s90o/G2RLPzqvSz+JTEw/Ev9MP2nOTT/MSk4/EsxOP24STz/Ta08/W5lPP1zKTz8QM1A/6IxQP0OiUD8msFA/\",\"dtype\":\"float32\",\"order\":\"little\",\"shape\":[147]}},\"selected\":{\"id\":\"1481\"},\"selection_policy\":{\"id\":\"1494\"}},\"id\":\"1480\",\"type\":\"ColumnDataSource\"},{\"attributes\":{\"line_alpha\":0.1,\"line_color\":\"#2ba02b\",\"line_width\":2,\"x\":{\"field\":\"index\"},\"y\":{\"field\":\"value\"}},\"id\":\"1521\",\"type\":\"Line\"},{\"attributes\":{\"label\":{\"value\":\"actual\"},\"renderers\":[{\"id\":\"1504\"}]},\"id\":\"1516\",\"type\":\"LegendItem\"},{\"attributes\":{\"data_source\":{\"id\":\"1480\"},\"glyph\":{\"id\":\"1483\"},\"hover_glyph\":null,\"muted_glyph\":{\"id\":\"1485\"},\"nonselection_glyph\":{\"id\":\"1484\"},\"selection_glyph\":null,\"view\":{\"id\":\"1487\"}},\"id\":\"1486\",\"type\":\"GlyphRenderer\"},{\"attributes\":{\"axis\":{\"id\":\"1459\"},\"dimension\":1,\"grid_line_color\":null,\"ticker\":null},\"id\":\"1462\",\"type\":\"Grid\"},{\"attributes\":{},\"id\":\"1477\",\"type\":\"BasicTickFormatter\"},{\"attributes\":{\"label\":{\"value\":\"predict_2features\"},\"renderers\":[{\"id\":\"1523\"}]},\"id\":\"1537\",\"type\":\"LegendItem\"},{\"attributes\":{},\"id\":\"1479\",\"type\":\"BasicTickFormatter\"},{\"attributes\":{},\"id\":\"1460\",\"type\":\"BasicTicker\"},{\"attributes\":{},\"id\":\"1499\",\"type\":\"Selection\"},{\"attributes\":{\"line_alpha\":0.1,\"line_color\":\"#ff7e0e\",\"line_width\":2,\"x\":{\"field\":\"index\"},\"y\":{\"field\":\"value\"}},\"id\":\"1502\",\"type\":\"Line\"},{\"attributes\":{\"source\":{\"id\":\"1480\"}},\"id\":\"1487\",\"type\":\"CDSView\"},{\"attributes\":{\"bottom_units\":\"screen\",\"fill_alpha\":0.5,\"fill_color\":\"lightgrey\",\"left_units\":\"screen\",\"level\":\"overlay\",\"line_alpha\":1.0,\"line_color\":\"black\",\"line_dash\":[4,4],\"line_width\":2,\"right_units\":\"screen\",\"top_units\":\"screen\"},\"id\":\"1468\",\"type\":\"BoxAnnotation\"},{\"attributes\":{\"line_alpha\":0.1,\"line_color\":\"#1f77b3\",\"line_width\":2,\"x\":{\"field\":\"index\"},\"y\":{\"field\":\"value\"}},\"id\":\"1484\",\"type\":\"Line\"},{\"attributes\":{\"label\":{\"value\":\"predict_1feature\"},\"renderers\":[{\"id\":\"1486\"}]},\"id\":\"1497\",\"type\":\"LegendItem\"},{\"attributes\":{},\"id\":\"1514\",\"type\":\"UnionRenderers\"},{\"attributes\":{\"children\":[{\"id\":\"1440\"},{\"id\":\"1446\"},{\"id\":\"1646\"}],\"margin\":[0,0,0,0],\"name\":\"Row02474\",\"tags\":[\"embedded\"]},\"id\":\"1439\",\"type\":\"Row\"},{\"attributes\":{\"end\":1.033986669778824,\"reset_end\":1.033986669778824,\"reset_start\":0.6261466324329376,\"start\":0.6261466324329376,\"tags\":[[[\"value\",\"value\",null]]]},\"id\":\"1442\",\"type\":\"Range1d\"}],\"root_ids\":[\"1439\"]},\"title\":\"Bokeh Application\",\"version\":\"2.2.3\"}};\n",
       "    var render_items = [{\"docid\":\"c6eb61bb-d59b-436c-8399-18b63a641af9\",\"root_ids\":[\"1439\"],\"roots\":{\"1439\":\"5cf0c727-2b86-4d1e-92c2-4e13e4af9139\"}}];\n",
       "    root.Bokeh.embed.embed_items_notebook(docs_json, render_items);\n",
       "  }\n",
       "  if (root.Bokeh !== undefined && root.Bokeh.Panel !== undefined) {\n",
       "    embed_document(root);\n",
       "  } else {\n",
       "    var attempts = 0;\n",
       "    var timer = setInterval(function(root) {\n",
       "      if (root.Bokeh !== undefined && root.Bokeh.Panel !== undefined) {\n",
       "        clearInterval(timer);\n",
       "        embed_document(root);\n",
       "      } else if (document.readyState == \"complete\") {\n",
       "        attempts++;\n",
       "        if (attempts > 100) {\n",
       "          clearInterval(timer);\n",
       "          console.log(\"Bokeh: ERROR: Unable to run BokehJS code because BokehJS library is missing\");\n",
       "        }\n",
       "      }\n",
       "    }, 10, root)\n",
       "  }\n",
       "})(window);</script>"
      ],
      "text/plain": [
       ":NdOverlay   [Variable]\n",
       "   :Curve   [index]   (value)"
      ]
     },
     "execution_count": 59,
     "metadata": {
      "application/vnd.holoviews_exec.v0+json": {
       "id": "1439"
      }
     },
     "output_type": "execute_result"
    }
   ],
   "source": [
    "pred_lr_1fvs2f(pred_dense_lr_1f_df,pred_lstm_lr_2f_df)"
   ]
  },
  {
   "cell_type": "code",
   "execution_count": 60,
   "metadata": {},
   "outputs": [
    {
     "data": {
      "application/vnd.holoviews_exec.v0+json": "",
      "text/html": [
       "<div id='1708'>\n",
       "\n",
       "\n",
       "\n",
       "\n",
       "\n",
       "  <div class=\"bk-root\" id=\"63afc377-8881-42eb-92d2-611cc4929ab9\" data-root-id=\"1708\"></div>\n",
       "</div>\n",
       "<script type=\"application/javascript\">(function(root) {\n",
       "  function embed_document(root) {\n",
       "    var docs_json = {\"0b00ab76-bb91-4e0e-b821-c2e41e8e3b7d\":{\"roots\":{\"references\":[{\"attributes\":{\"source\":{\"id\":\"1766\"}},\"id\":\"1773\",\"type\":\"CDSView\"},{\"attributes\":{\"callback\":null,\"renderers\":[{\"id\":\"1754\"},{\"id\":\"1772\"}],\"tags\":[\"hv_created\"],\"tooltips\":[[\"Variable\",\"@{Variable}\"],[\"index\",\"@{index}\"],[\"value\",\"@{value}\"]]},\"id\":\"1712\",\"type\":\"HoverTool\"},{\"attributes\":{\"source\":{\"id\":\"1748\"}},\"id\":\"1755\",\"type\":\"CDSView\"},{\"attributes\":{\"line_color\":\"#ff7e0e\",\"line_width\":2,\"x\":{\"field\":\"index\"},\"y\":{\"field\":\"value\"}},\"id\":\"1769\",\"type\":\"Line\"},{\"attributes\":{},\"id\":\"1731\",\"type\":\"SaveTool\"},{\"attributes\":{},\"id\":\"1732\",\"type\":\"PanTool\"},{\"attributes\":{\"axis_label\":\"\",\"bounds\":\"auto\",\"formatter\":{\"id\":\"1747\"},\"major_label_orientation\":\"horizontal\",\"ticker\":{\"id\":\"1728\"}},\"id\":\"1727\",\"type\":\"LinearAxis\"},{\"attributes\":{},\"id\":\"1735\",\"type\":\"ResetTool\"},{\"attributes\":{\"line_color\":\"#1f77b3\",\"line_width\":2,\"x\":{\"field\":\"index\"},\"y\":{\"field\":\"value\"}},\"id\":\"1751\",\"type\":\"Line\"},{\"attributes\":{},\"id\":\"1733\",\"type\":\"WheelZoomTool\"},{\"attributes\":{},\"id\":\"1782\",\"type\":\"UnionRenderers\"},{\"attributes\":{\"overlay\":{\"id\":\"1736\"}},\"id\":\"1734\",\"type\":\"BoxZoomTool\"},{\"attributes\":{\"label\":{\"value\":\"loss_1f\"},\"renderers\":[{\"id\":\"1754\"}]},\"id\":\"1765\",\"type\":\"LegendItem\"},{\"attributes\":{\"label\":{\"value\":\"loss_2f\"},\"renderers\":[{\"id\":\"1772\"}]},\"id\":\"1784\",\"type\":\"LegendItem\"},{\"attributes\":{},\"id\":\"1745\",\"type\":\"BasicTickFormatter\"},{\"attributes\":{\"text\":\"\",\"text_color\":{\"value\":\"black\"},\"text_font_size\":{\"value\":\"12pt\"}},\"id\":\"1715\",\"type\":\"Title\"},{\"attributes\":{},\"id\":\"1747\",\"type\":\"BasicTickFormatter\"},{\"attributes\":{},\"id\":\"1762\",\"type\":\"UnionRenderers\"},{\"attributes\":{},\"id\":\"1719\",\"type\":\"LinearScale\"},{\"attributes\":{\"click_policy\":\"mute\",\"items\":[{\"id\":\"1765\"},{\"id\":\"1784\"}],\"location\":[0,0],\"title\":\"Variable\"},\"id\":\"1764\",\"type\":\"Legend\"},{\"attributes\":{\"margin\":[5,5,5,5],\"name\":\"HSpacer03058\",\"sizing_mode\":\"stretch_width\"},\"id\":\"1875\",\"type\":\"Spacer\"},{\"attributes\":{\"end\":0.09984610609244556,\"reset_end\":0.09984610609244556,\"reset_start\":-0.005607758485712112,\"start\":-0.005607758485712112,\"tags\":[[[\"value\",\"value\",null]]]},\"id\":\"1711\",\"type\":\"Range1d\"},{\"attributes\":{\"axis_label\":\"\",\"bounds\":\"auto\",\"formatter\":{\"id\":\"1745\"},\"major_label_orientation\":\"horizontal\",\"ticker\":{\"id\":\"1724\"}},\"id\":\"1723\",\"type\":\"LinearAxis\"},{\"attributes\":{\"line_alpha\":0.2,\"line_color\":\"#ff7e0e\",\"line_width\":2,\"x\":{\"field\":\"index\"},\"y\":{\"field\":\"value\"}},\"id\":\"1771\",\"type\":\"Line\"},{\"attributes\":{},\"id\":\"1721\",\"type\":\"LinearScale\"},{\"attributes\":{},\"id\":\"1724\",\"type\":\"BasicTicker\"},{\"attributes\":{\"data\":{\"Variable\":[\"loss_1f\",\"loss_1f\",\"loss_1f\",\"loss_1f\",\"loss_1f\",\"loss_1f\",\"loss_1f\",\"loss_1f\",\"loss_1f\",\"loss_1f\",\"loss_1f\",\"loss_1f\",\"loss_1f\",\"loss_1f\",\"loss_1f\",\"loss_1f\",\"loss_1f\",\"loss_1f\",\"loss_1f\",\"loss_1f\",\"loss_1f\",\"loss_1f\",\"loss_1f\",\"loss_1f\"],\"index\":[1,2,3,4,5,6,7,8,9,10,11,12,13,14,15,16,17,18,19,20,21,22,23,24],\"value\":{\"__ndarray__\":\"AAAAgJhPtz8AAADg5/+rPwAAAAC0NqI/AAAAINWinT8AAACg0XCXPwAAAKCiaY0/AAAAINfkfT8AAACgBTN4PwAAAOBMEXM/AAAAoC7Mcz8AAAAggP5yPwAAACB+InQ/AAAAIGEtcj8AAAAg0NFzPwAAAABURW0/AAAAAAnHcD8AAABgiE1yPwAAAIBpTGw/AAAAoBMNaj8AAADAucRtPwAAAOCyim0/AAAAYK7ncD8AAAAAAAD4fwAAAAAAAPh/\",\"dtype\":\"float64\",\"order\":\"little\",\"shape\":[24]}},\"selected\":{\"id\":\"1749\"},\"selection_policy\":{\"id\":\"1762\"}},\"id\":\"1748\",\"type\":\"ColumnDataSource\"},{\"attributes\":{\"line_alpha\":0.2,\"line_color\":\"#1f77b3\",\"line_width\":2,\"x\":{\"field\":\"index\"},\"y\":{\"field\":\"value\"}},\"id\":\"1753\",\"type\":\"Line\"},{\"attributes\":{\"axis\":{\"id\":\"1723\"},\"grid_line_color\":null,\"ticker\":null},\"id\":\"1726\",\"type\":\"Grid\"},{\"attributes\":{\"line_alpha\":0.1,\"line_color\":\"#1f77b3\",\"line_width\":2,\"x\":{\"field\":\"index\"},\"y\":{\"field\":\"value\"}},\"id\":\"1752\",\"type\":\"Line\"},{\"attributes\":{\"line_alpha\":0.1,\"line_color\":\"#ff7e0e\",\"line_width\":2,\"x\":{\"field\":\"index\"},\"y\":{\"field\":\"value\"}},\"id\":\"1770\",\"type\":\"Line\"},{\"attributes\":{\"axis\":{\"id\":\"1727\"},\"dimension\":1,\"grid_line_color\":null,\"ticker\":null},\"id\":\"1730\",\"type\":\"Grid\"},{\"attributes\":{\"active_drag\":\"auto\",\"active_inspect\":\"auto\",\"active_multi\":null,\"active_scroll\":\"auto\",\"active_tap\":\"auto\",\"tools\":[{\"id\":\"1712\"},{\"id\":\"1731\"},{\"id\":\"1732\"},{\"id\":\"1733\"},{\"id\":\"1734\"},{\"id\":\"1735\"}]},\"id\":\"1737\",\"type\":\"Toolbar\"},{\"attributes\":{\"data\":{\"Variable\":[\"loss_2f\",\"loss_2f\",\"loss_2f\",\"loss_2f\",\"loss_2f\",\"loss_2f\",\"loss_2f\",\"loss_2f\",\"loss_2f\",\"loss_2f\",\"loss_2f\",\"loss_2f\",\"loss_2f\",\"loss_2f\",\"loss_2f\",\"loss_2f\",\"loss_2f\",\"loss_2f\",\"loss_2f\",\"loss_2f\",\"loss_2f\",\"loss_2f\",\"loss_2f\",\"loss_2f\"],\"index\":[1,2,3,4,5,6,7,8,9,10,11,12,13,14,15,16,17,18,19,20,21,22,23,24],\"value\":{\"__ndarray__\":\"AAAAYE9btD8AAAAgiuOiPwAAAMDwbaA/AAAAgO5CmD8AAABAckyPPwAAAAAtvYA/AAAAAO2SeD8AAAAAddp8PwAAAKARSnc/AAAAoJdkdT8AAAAAGHV4PwAAAID+h3U/AAAAYINCdT8AAAAgqGB0PwAAAGCb7XI/AAAAYDvlcj8AAAAgFdZyPwAAAED4Q3E/AAAAwAuLcD8AAAAgQo5wPwAAAGAAN2w/AAAAgHcXbT8AAACAH+ZvPwAAAEBXMG0/\",\"dtype\":\"float64\",\"order\":\"little\",\"shape\":[24]}},\"selected\":{\"id\":\"1767\"},\"selection_policy\":{\"id\":\"1782\"}},\"id\":\"1766\",\"type\":\"ColumnDataSource\"},{\"attributes\":{},\"id\":\"1749\",\"type\":\"Selection\"},{\"attributes\":{},\"id\":\"1728\",\"type\":\"BasicTicker\"},{\"attributes\":{\"end\":24.0,\"reset_end\":24.0,\"reset_start\":1.0,\"start\":1.0,\"tags\":[[[\"index\",\"index\",null]]]},\"id\":\"1710\",\"type\":\"Range1d\"},{\"attributes\":{\"children\":[{\"id\":\"1709\"},{\"id\":\"1714\"},{\"id\":\"1875\"}],\"margin\":[0,0,0,0],\"name\":\"Row03053\",\"tags\":[\"embedded\"]},\"id\":\"1708\",\"type\":\"Row\"},{\"attributes\":{\"data_source\":{\"id\":\"1748\"},\"glyph\":{\"id\":\"1751\"},\"hover_glyph\":null,\"muted_glyph\":{\"id\":\"1753\"},\"nonselection_glyph\":{\"id\":\"1752\"},\"selection_glyph\":null,\"view\":{\"id\":\"1755\"}},\"id\":\"1754\",\"type\":\"GlyphRenderer\"},{\"attributes\":{\"data_source\":{\"id\":\"1766\"},\"glyph\":{\"id\":\"1769\"},\"hover_glyph\":null,\"muted_glyph\":{\"id\":\"1771\"},\"nonselection_glyph\":{\"id\":\"1770\"},\"selection_glyph\":null,\"view\":{\"id\":\"1773\"}},\"id\":\"1772\",\"type\":\"GlyphRenderer\"},{\"attributes\":{},\"id\":\"1767\",\"type\":\"Selection\"},{\"attributes\":{\"below\":[{\"id\":\"1723\"}],\"center\":[{\"id\":\"1726\"},{\"id\":\"1730\"}],\"left\":[{\"id\":\"1727\"}],\"margin\":[5,5,5,5],\"min_border_bottom\":10,\"min_border_left\":10,\"min_border_right\":10,\"min_border_top\":10,\"plot_height\":300,\"plot_width\":700,\"renderers\":[{\"id\":\"1754\"},{\"id\":\"1772\"}],\"right\":[{\"id\":\"1764\"}],\"sizing_mode\":\"fixed\",\"title\":{\"id\":\"1715\"},\"toolbar\":{\"id\":\"1737\"},\"x_range\":{\"id\":\"1710\"},\"x_scale\":{\"id\":\"1719\"},\"y_range\":{\"id\":\"1711\"},\"y_scale\":{\"id\":\"1721\"}},\"id\":\"1714\",\"subtype\":\"Figure\",\"type\":\"Plot\"},{\"attributes\":{\"margin\":[5,5,5,5],\"name\":\"HSpacer03057\",\"sizing_mode\":\"stretch_width\"},\"id\":\"1709\",\"type\":\"Spacer\"},{\"attributes\":{\"bottom_units\":\"screen\",\"fill_alpha\":0.5,\"fill_color\":\"lightgrey\",\"left_units\":\"screen\",\"level\":\"overlay\",\"line_alpha\":1.0,\"line_color\":\"black\",\"line_dash\":[4,4],\"line_width\":2,\"right_units\":\"screen\",\"top_units\":\"screen\"},\"id\":\"1736\",\"type\":\"BoxAnnotation\"}],\"root_ids\":[\"1708\"]},\"title\":\"Bokeh Application\",\"version\":\"2.2.3\"}};\n",
       "    var render_items = [{\"docid\":\"0b00ab76-bb91-4e0e-b821-c2e41e8e3b7d\",\"root_ids\":[\"1708\"],\"roots\":{\"1708\":\"63afc377-8881-42eb-92d2-611cc4929ab9\"}}];\n",
       "    root.Bokeh.embed.embed_items_notebook(docs_json, render_items);\n",
       "  }\n",
       "  if (root.Bokeh !== undefined && root.Bokeh.Panel !== undefined) {\n",
       "    embed_document(root);\n",
       "  } else {\n",
       "    var attempts = 0;\n",
       "    var timer = setInterval(function(root) {\n",
       "      if (root.Bokeh !== undefined && root.Bokeh.Panel !== undefined) {\n",
       "        clearInterval(timer);\n",
       "        embed_document(root);\n",
       "      } else if (document.readyState == \"complete\") {\n",
       "        attempts++;\n",
       "        if (attempts > 100) {\n",
       "          clearInterval(timer);\n",
       "          console.log(\"Bokeh: ERROR: Unable to run BokehJS code because BokehJS library is missing\");\n",
       "        }\n",
       "      }\n",
       "    }, 10, root)\n",
       "  }\n",
       "})(window);</script>"
      ],
      "text/plain": [
       ":NdOverlay   [Variable]\n",
       "   :Curve   [index]   (value)"
      ]
     },
     "execution_count": 60,
     "metadata": {
      "application/vnd.holoviews_exec.v0+json": {
       "id": "1708"
      }
     },
     "output_type": "execute_result"
    }
   ],
   "source": [
    "score_loss_lr_1fvs2f(score_lstm_lr_1f_df, score_lstm_lr_2f_df)"
   ]
  },
  {
   "cell_type": "code",
   "execution_count": 61,
   "metadata": {},
   "outputs": [
    {
     "data": {
      "application/vnd.holoviews_exec.v0+json": "",
      "text/html": [
       "<div id='1927'>\n",
       "\n",
       "\n",
       "\n",
       "\n",
       "\n",
       "  <div class=\"bk-root\" id=\"f51e41a6-4449-4dc7-a85b-c27619765a28\" data-root-id=\"1927\"></div>\n",
       "</div>\n",
       "<script type=\"application/javascript\">(function(root) {\n",
       "  function embed_document(root) {\n",
       "    var docs_json = {\"c3027216-3d9c-4b89-8c1f-963ce998aa0a\":{\"roots\":{\"references\":[{\"attributes\":{\"bottom_units\":\"screen\",\"fill_alpha\":0.5,\"fill_color\":\"lightgrey\",\"left_units\":\"screen\",\"level\":\"overlay\",\"line_alpha\":1.0,\"line_color\":\"black\",\"line_dash\":[4,4],\"line_width\":2,\"right_units\":\"screen\",\"top_units\":\"screen\"},\"id\":\"1955\",\"type\":\"BoxAnnotation\"},{\"attributes\":{\"axis_label\":\"\",\"bounds\":\"auto\",\"formatter\":{\"id\":\"1966\"},\"major_label_orientation\":\"horizontal\",\"ticker\":{\"id\":\"1947\"}},\"id\":\"1946\",\"type\":\"LinearAxis\"},{\"attributes\":{\"callback\":null,\"renderers\":[{\"id\":\"1973\"},{\"id\":\"1991\"}],\"tags\":[\"hv_created\"],\"tooltips\":[[\"Variable\",\"@{Variable}\"],[\"index\",\"@{index}\"],[\"value\",\"@{value}\"]]},\"id\":\"1931\",\"type\":\"HoverTool\"},{\"attributes\":{\"data\":{\"Variable\":[\"mae_1f\",\"mae_1f\",\"mae_1f\",\"mae_1f\",\"mae_1f\",\"mae_1f\",\"mae_1f\",\"mae_1f\",\"mae_1f\",\"mae_1f\",\"mae_1f\",\"mae_1f\",\"mae_1f\",\"mae_1f\",\"mae_1f\",\"mae_1f\",\"mae_1f\",\"mae_1f\",\"mae_1f\",\"mae_1f\",\"mae_1f\",\"mae_1f\",\"mae_1f\",\"mae_1f\"],\"index\":[1,2,3,4,5,6,7,8,9,10,11,12,13,14,15,16,17,18,19,20,21,22,23,24],\"value\":{\"__ndarray__\":\"AAAAgBxOzT8AAADg71jGPwAAACCeBsQ/AAAAgIVRwj8AAABAg1PAPwAAAGBBebk/AAAAQKaPsT8AAADATHusPwAAAODVK6k/AAAAANt1qD8AAADgqTKoPwAAAGACxKg/AAAA4NR4pz8AAADgr3qnPwAAAIDwXqU/AAAAoFe8pT8AAADgkqemPwAAAIAsN6U/AAAAIJQQpD8AAABgn1OkPwAAACDqNaQ/AAAAAFLgpj8AAAAAAAD4fwAAAAAAAPh/\",\"dtype\":\"float64\",\"order\":\"little\",\"shape\":[24]}},\"selected\":{\"id\":\"1968\"},\"selection_policy\":{\"id\":\"1981\"}},\"id\":\"1967\",\"type\":\"ColumnDataSource\"},{\"attributes\":{\"source\":{\"id\":\"1985\"}},\"id\":\"1992\",\"type\":\"CDSView\"},{\"attributes\":{\"data_source\":{\"id\":\"1967\"},\"glyph\":{\"id\":\"1970\"},\"hover_glyph\":null,\"muted_glyph\":{\"id\":\"1972\"},\"nonselection_glyph\":{\"id\":\"1971\"},\"selection_glyph\":null,\"view\":{\"id\":\"1974\"}},\"id\":\"1973\",\"type\":\"GlyphRenderer\"},{\"attributes\":{\"source\":{\"id\":\"1967\"}},\"id\":\"1974\",\"type\":\"CDSView\"},{\"attributes\":{\"line_color\":\"#ff7e0e\",\"line_width\":2,\"x\":{\"field\":\"index\"},\"y\":{\"field\":\"value\"}},\"id\":\"1988\",\"type\":\"Line\"},{\"attributes\":{},\"id\":\"1950\",\"type\":\"SaveTool\"},{\"attributes\":{},\"id\":\"1951\",\"type\":\"PanTool\"},{\"attributes\":{},\"id\":\"1954\",\"type\":\"ResetTool\"},{\"attributes\":{\"line_color\":\"#1f77b3\",\"line_width\":2,\"x\":{\"field\":\"index\"},\"y\":{\"field\":\"value\"}},\"id\":\"1970\",\"type\":\"Line\"},{\"attributes\":{},\"id\":\"1952\",\"type\":\"WheelZoomTool\"},{\"attributes\":{},\"id\":\"2001\",\"type\":\"UnionRenderers\"},{\"attributes\":{\"overlay\":{\"id\":\"1955\"}},\"id\":\"1953\",\"type\":\"BoxZoomTool\"},{\"attributes\":{\"label\":{\"value\":\"mae_1f\"},\"renderers\":[{\"id\":\"1973\"}]},\"id\":\"1984\",\"type\":\"LegendItem\"},{\"attributes\":{\"label\":{\"value\":\"mae_2f\"},\"renderers\":[{\"id\":\"1991\"}]},\"id\":\"2003\",\"type\":\"LegendItem\"},{\"attributes\":{},\"id\":\"1943\",\"type\":\"BasicTicker\"},{\"attributes\":{\"margin\":[5,5,5,5],\"name\":\"HSpacer03504\",\"sizing_mode\":\"stretch_width\"},\"id\":\"2094\",\"type\":\"Spacer\"},{\"attributes\":{},\"id\":\"1964\",\"type\":\"BasicTickFormatter\"},{\"attributes\":{\"children\":[{\"id\":\"1928\"},{\"id\":\"1933\"},{\"id\":\"2094\"}],\"margin\":[0,0,0,0],\"name\":\"Row03499\",\"tags\":[\"embedded\"]},\"id\":\"1927\",\"type\":\"Row\"},{\"attributes\":{\"text\":\"\",\"text_color\":{\"value\":\"black\"},\"text_font_size\":{\"value\":\"12pt\"}},\"id\":\"1934\",\"type\":\"Title\"},{\"attributes\":{},\"id\":\"1966\",\"type\":\"BasicTickFormatter\"},{\"attributes\":{},\"id\":\"1981\",\"type\":\"UnionRenderers\"},{\"attributes\":{\"click_policy\":\"mute\",\"items\":[{\"id\":\"1984\"},{\"id\":\"2003\"}],\"location\":[0,0],\"title\":\"Variable\"},\"id\":\"1983\",\"type\":\"Legend\"},{\"attributes\":{},\"id\":\"1938\",\"type\":\"LinearScale\"},{\"attributes\":{\"data\":{\"Variable\":[\"mae_2f\",\"mae_2f\",\"mae_2f\",\"mae_2f\",\"mae_2f\",\"mae_2f\",\"mae_2f\",\"mae_2f\",\"mae_2f\",\"mae_2f\",\"mae_2f\",\"mae_2f\",\"mae_2f\",\"mae_2f\",\"mae_2f\",\"mae_2f\",\"mae_2f\",\"mae_2f\",\"mae_2f\",\"mae_2f\",\"mae_2f\",\"mae_2f\",\"mae_2f\",\"mae_2f\"],\"index\":[1,2,3,4,5,6,7,8,9,10,11,12,13,14,15,16,17,18,19,20,21,22,23,24],\"value\":{\"__ndarray__\":\"AAAAQNQUyz8AAACAcgrEPwAAACAOX8M/AAAA4OB+wD8AAADA5v25PwAAAAA0w7E/AAAAYG78rT8AAAAAH2KuPwAAAMCZYaw/AAAAQMNZqz8AAACAtF6tPwAAACD+u6s/AAAAQNDyqj8AAACgNjiqPwAAAKCV3ak/AAAAoPwEqT8AAABAbaWoPwAAAMB6Vag/AAAAIGklqD8AAACgj1ioPwAAAEDybqY/AAAAwEQYpz8AAADAbRenPwAAAMD1SaY/\",\"dtype\":\"float64\",\"order\":\"little\",\"shape\":[24]}},\"selected\":{\"id\":\"1986\"},\"selection_policy\":{\"id\":\"2001\"}},\"id\":\"1985\",\"type\":\"ColumnDataSource\"},{\"attributes\":{},\"id\":\"1940\",\"type\":\"LinearScale\"},{\"attributes\":{\"end\":0.24792199693620204,\"reset_end\":0.24792199693620204,\"reset_start\":0.020213256403803823,\"start\":0.020213256403803823,\"tags\":[[[\"value\",\"value\",null]]]},\"id\":\"1930\",\"type\":\"Range1d\"},{\"attributes\":{\"line_alpha\":0.2,\"line_color\":\"#ff7e0e\",\"line_width\":2,\"x\":{\"field\":\"index\"},\"y\":{\"field\":\"value\"}},\"id\":\"1990\",\"type\":\"Line\"},{\"attributes\":{\"axis_label\":\"\",\"bounds\":\"auto\",\"formatter\":{\"id\":\"1964\"},\"major_label_orientation\":\"horizontal\",\"ticker\":{\"id\":\"1943\"}},\"id\":\"1942\",\"type\":\"LinearAxis\"},{\"attributes\":{\"margin\":[5,5,5,5],\"name\":\"HSpacer03503\",\"sizing_mode\":\"stretch_width\"},\"id\":\"1928\",\"type\":\"Spacer\"},{\"attributes\":{\"line_alpha\":0.2,\"line_color\":\"#1f77b3\",\"line_width\":2,\"x\":{\"field\":\"index\"},\"y\":{\"field\":\"value\"}},\"id\":\"1972\",\"type\":\"Line\"},{\"attributes\":{\"axis\":{\"id\":\"1946\"},\"dimension\":1,\"grid_line_color\":null,\"ticker\":null},\"id\":\"1949\",\"type\":\"Grid\"},{\"attributes\":{\"below\":[{\"id\":\"1942\"}],\"center\":[{\"id\":\"1945\"},{\"id\":\"1949\"}],\"left\":[{\"id\":\"1946\"}],\"margin\":[5,5,5,5],\"min_border_bottom\":10,\"min_border_left\":10,\"min_border_right\":10,\"min_border_top\":10,\"plot_height\":300,\"plot_width\":700,\"renderers\":[{\"id\":\"1973\"},{\"id\":\"1991\"}],\"right\":[{\"id\":\"1983\"}],\"sizing_mode\":\"fixed\",\"title\":{\"id\":\"1934\"},\"toolbar\":{\"id\":\"1956\"},\"x_range\":{\"id\":\"1929\"},\"x_scale\":{\"id\":\"1938\"},\"y_range\":{\"id\":\"1930\"},\"y_scale\":{\"id\":\"1940\"}},\"id\":\"1933\",\"subtype\":\"Figure\",\"type\":\"Plot\"},{\"attributes\":{\"axis\":{\"id\":\"1942\"},\"grid_line_color\":null,\"ticker\":null},\"id\":\"1945\",\"type\":\"Grid\"},{\"attributes\":{\"line_alpha\":0.1,\"line_color\":\"#1f77b3\",\"line_width\":2,\"x\":{\"field\":\"index\"},\"y\":{\"field\":\"value\"}},\"id\":\"1971\",\"type\":\"Line\"},{\"attributes\":{},\"id\":\"1986\",\"type\":\"Selection\"},{\"attributes\":{\"line_alpha\":0.1,\"line_color\":\"#ff7e0e\",\"line_width\":2,\"x\":{\"field\":\"index\"},\"y\":{\"field\":\"value\"}},\"id\":\"1989\",\"type\":\"Line\"},{\"attributes\":{},\"id\":\"1968\",\"type\":\"Selection\"},{\"attributes\":{\"active_drag\":\"auto\",\"active_inspect\":\"auto\",\"active_multi\":null,\"active_scroll\":\"auto\",\"active_tap\":\"auto\",\"tools\":[{\"id\":\"1931\"},{\"id\":\"1950\"},{\"id\":\"1951\"},{\"id\":\"1952\"},{\"id\":\"1953\"},{\"id\":\"1954\"}]},\"id\":\"1956\",\"type\":\"Toolbar\"},{\"attributes\":{\"end\":24.0,\"reset_end\":24.0,\"reset_start\":1.0,\"start\":1.0,\"tags\":[[[\"index\",\"index\",null]]]},\"id\":\"1929\",\"type\":\"Range1d\"},{\"attributes\":{},\"id\":\"1947\",\"type\":\"BasicTicker\"},{\"attributes\":{\"data_source\":{\"id\":\"1985\"},\"glyph\":{\"id\":\"1988\"},\"hover_glyph\":null,\"muted_glyph\":{\"id\":\"1990\"},\"nonselection_glyph\":{\"id\":\"1989\"},\"selection_glyph\":null,\"view\":{\"id\":\"1992\"}},\"id\":\"1991\",\"type\":\"GlyphRenderer\"}],\"root_ids\":[\"1927\"]},\"title\":\"Bokeh Application\",\"version\":\"2.2.3\"}};\n",
       "    var render_items = [{\"docid\":\"c3027216-3d9c-4b89-8c1f-963ce998aa0a\",\"root_ids\":[\"1927\"],\"roots\":{\"1927\":\"f51e41a6-4449-4dc7-a85b-c27619765a28\"}}];\n",
       "    root.Bokeh.embed.embed_items_notebook(docs_json, render_items);\n",
       "  }\n",
       "  if (root.Bokeh !== undefined && root.Bokeh.Panel !== undefined) {\n",
       "    embed_document(root);\n",
       "  } else {\n",
       "    var attempts = 0;\n",
       "    var timer = setInterval(function(root) {\n",
       "      if (root.Bokeh !== undefined && root.Bokeh.Panel !== undefined) {\n",
       "        clearInterval(timer);\n",
       "        embed_document(root);\n",
       "      } else if (document.readyState == \"complete\") {\n",
       "        attempts++;\n",
       "        if (attempts > 100) {\n",
       "          clearInterval(timer);\n",
       "          console.log(\"Bokeh: ERROR: Unable to run BokehJS code because BokehJS library is missing\");\n",
       "        }\n",
       "      }\n",
       "    }, 10, root)\n",
       "  }\n",
       "})(window);</script>"
      ],
      "text/plain": [
       ":NdOverlay   [Variable]\n",
       "   :Curve   [index]   (value)"
      ]
     },
     "execution_count": 61,
     "metadata": {
      "application/vnd.holoviews_exec.v0+json": {
       "id": "1927"
      }
     },
     "output_type": "execute_result"
    }
   ],
   "source": [
    "score_mae_lr_1fvs2f(score_lstm_lr_1f_df, score_lstm_lr_2f_df)"
   ]
  },
  {
   "cell_type": "code",
   "execution_count": 62,
   "metadata": {},
   "outputs": [
    {
     "data": {
      "application/vnd.holoviews_exec.v0+json": "",
      "text/html": [
       "<div id='2146'>\n",
       "\n",
       "\n",
       "\n",
       "\n",
       "\n",
       "  <div class=\"bk-root\" id=\"fa3a7a6e-ee5c-4c3c-aca1-fd1cfc3bf0c4\" data-root-id=\"2146\"></div>\n",
       "</div>\n",
       "<script type=\"application/javascript\">(function(root) {\n",
       "  function embed_document(root) {\n",
       "    var docs_json = {\"43d21d7f-e4c9-4ba3-a2c1-a9519628a76f\":{\"roots\":{\"references\":[{\"attributes\":{\"axis\":{\"id\":\"2166\"},\"dimension\":1,\"grid_line_color\":null,\"ticker\":null},\"id\":\"2169\",\"type\":\"Grid\"},{\"attributes\":{\"label\":{\"value\":\"actual\"},\"renderers\":[{\"id\":\"2211\"}]},\"id\":\"2223\",\"type\":\"LegendItem\"},{\"attributes\":{},\"id\":\"2163\",\"type\":\"BasicTicker\"},{\"attributes\":{\"callback\":null,\"renderers\":[{\"id\":\"2193\"},{\"id\":\"2211\"},{\"id\":\"2230\"}],\"tags\":[\"hv_created\"],\"tooltips\":[[\"Variable\",\"@{Variable}\"],[\"index\",\"@{index}\"],[\"value\",\"@{value}\"]]},\"id\":\"2150\",\"type\":\"HoverTool\"},{\"attributes\":{\"data_source\":{\"id\":\"2187\"},\"glyph\":{\"id\":\"2190\"},\"hover_glyph\":null,\"muted_glyph\":{\"id\":\"2192\"},\"nonselection_glyph\":{\"id\":\"2191\"},\"selection_glyph\":null,\"view\":{\"id\":\"2194\"}},\"id\":\"2193\",\"type\":\"GlyphRenderer\"},{\"attributes\":{\"data_source\":{\"id\":\"2205\"},\"glyph\":{\"id\":\"2208\"},\"hover_glyph\":null,\"muted_glyph\":{\"id\":\"2210\"},\"nonselection_glyph\":{\"id\":\"2209\"},\"selection_glyph\":null,\"view\":{\"id\":\"2212\"}},\"id\":\"2211\",\"type\":\"GlyphRenderer\"},{\"attributes\":{\"active_drag\":\"auto\",\"active_inspect\":\"auto\",\"active_multi\":null,\"active_scroll\":\"auto\",\"active_tap\":\"auto\",\"tools\":[{\"id\":\"2150\"},{\"id\":\"2170\"},{\"id\":\"2171\"},{\"id\":\"2172\"},{\"id\":\"2173\"},{\"id\":\"2174\"}]},\"id\":\"2176\",\"type\":\"Toolbar\"},{\"attributes\":{\"line_alpha\":0.2,\"line_color\":\"#1f77b3\",\"line_width\":2,\"x\":{\"field\":\"index\"},\"y\":{\"field\":\"value\"}},\"id\":\"2192\",\"type\":\"Line\"},{\"attributes\":{\"data\":{\"Variable\":[\"predict_2features\",\"predict_2features\",\"predict_2features\",\"predict_2features\",\"predict_2features\",\"predict_2features\",\"predict_2features\",\"predict_2features\",\"predict_2features\",\"predict_2features\",\"predict_2features\",\"predict_2features\",\"predict_2features\",\"predict_2features\",\"predict_2features\",\"predict_2features\",\"predict_2features\",\"predict_2features\",\"predict_2features\",\"predict_2features\",\"predict_2features\",\"predict_2features\",\"predict_2features\",\"predict_2features\",\"predict_2features\",\"predict_2features\",\"predict_2features\",\"predict_2features\",\"predict_2features\",\"predict_2features\",\"predict_2features\",\"predict_2features\",\"predict_2features\",\"predict_2features\",\"predict_2features\",\"predict_2features\",\"predict_2features\",\"predict_2features\",\"predict_2features\",\"predict_2features\",\"predict_2features\",\"predict_2features\",\"predict_2features\",\"predict_2features\",\"predict_2features\",\"predict_2features\",\"predict_2features\",\"predict_2features\",\"predict_2features\",\"predict_2features\",\"predict_2features\",\"predict_2features\",\"predict_2features\",\"predict_2features\",\"predict_2features\",\"predict_2features\",\"predict_2features\",\"predict_2features\",\"predict_2features\",\"predict_2features\",\"predict_2features\",\"predict_2features\",\"predict_2features\",\"predict_2features\",\"predict_2features\",\"predict_2features\",\"predict_2features\",\"predict_2features\",\"predict_2features\",\"predict_2features\",\"predict_2features\",\"predict_2features\",\"predict_2features\",\"predict_2features\",\"predict_2features\",\"predict_2features\",\"predict_2features\",\"predict_2features\",\"predict_2features\",\"predict_2features\",\"predict_2features\",\"predict_2features\",\"predict_2features\",\"predict_2features\",\"predict_2features\",\"predict_2features\",\"predict_2features\",\"predict_2features\",\"predict_2features\",\"predict_2features\",\"predict_2features\",\"predict_2features\",\"predict_2features\",\"predict_2features\",\"predict_2features\",\"predict_2features\",\"predict_2features\",\"predict_2features\",\"predict_2features\",\"predict_2features\",\"predict_2features\",\"predict_2features\",\"predict_2features\",\"predict_2features\",\"predict_2features\",\"predict_2features\",\"predict_2features\",\"predict_2features\",\"predict_2features\",\"predict_2features\",\"predict_2features\",\"predict_2features\",\"predict_2features\",\"predict_2features\",\"predict_2features\",\"predict_2features\",\"predict_2features\",\"predict_2features\",\"predict_2features\",\"predict_2features\",\"predict_2features\",\"predict_2features\",\"predict_2features\",\"predict_2features\",\"predict_2features\",\"predict_2features\",\"predict_2features\",\"predict_2features\",\"predict_2features\",\"predict_2features\",\"predict_2features\",\"predict_2features\",\"predict_2features\",\"predict_2features\",\"predict_2features\",\"predict_2features\",\"predict_2features\",\"predict_2features\",\"predict_2features\",\"predict_2features\",\"predict_2features\",\"predict_2features\",\"predict_2features\",\"predict_2features\",\"predict_2features\",\"predict_2features\",\"predict_2features\"],\"index\":[0,1,2,3,4,5,6,7,8,9,10,11,12,13,14,15,16,17,18,19,20,21,22,23,24,25,26,27,28,29,30,31,32,33,34,35,36,37,38,39,40,41,42,43,44,45,46,47,48,49,50,51,52,53,54,55,56,57,58,59,60,61,62,63,64,65,66,67,68,69,70,71,72,73,74,75,76,77,78,79,80,81,82,83,84,85,86,87,88,89,90,91,92,93,94,95,96,97,98,99,100,101,102,103,104,105,106,107,108,109,110,111,112,113,114,115,116,117,118,119,120,121,122,123,124,125,126,127,128,129,130,131,132,133,134,135,136,137,138,139,140,141,142,143,144,145,146],\"value\":{\"__ndarray__\":\"mEM6PwOfST8mHz4/3203P2YLNj8knDY/vQY3P1BWNz9GXjc/zTNGP/ZoTD+g3k0/IlpOP7riPz+KnE8/dW0/P7QpTD+KOkQ/7H1MP/0nWD9sjFY/XsBZPw24TD92R2k/DbhMP3ZHaT/Jtl0/SupPP5sXUj8a3lk/7rFWP4CJVj9C/lw/RAJjP7FOVj8yIlQ/OMdgP/KSYj/IuVc/BKxeP9R4Xj+4S2I/IVVgP2BbYD8+pWE/CnxnP2grWz/6A14/n/1dPz8CYz/YVVo/CpVaP3eKXj9Oj2U/+G5zP06PZT/4bnM/cdlnP/42az/aVVs/0FNXP1PHZD8s0Wo/hJZyPzwbZD/gtmY/UNdpP9uEZj/64Gk/rcBlPyw0YT+jmGA/mEdmP4z1ZD+GoWE/1BhdP5R1Yj9eSmQ/7RZiP2bLVz9z1Us/BehlP6ZCYj+UIl4/jGNcP+ENXj8oNVw/IC5YP3/jXj9colc/Bt5aP7cYXD8sr2A/txhcPyyvYD+kw2M/fGlsPwTVXD8c8Gc/iHtfP4z3YT/sN2k/MJhmPzkJYT/nLGk/XZZePwgXYz/NWmQ/Jl5nP+QDaT9QzWE/yK1nP7QxZj+UlGI/tOZiP6rCZD8Rp10/FqZdP4lkcD+5ZV4/YktqP6bJaj/EP2w/6otpP2ndZz+WbGY/B4BnPxAaaj+7CW4/NqVuP8hxYz8benE/tJVsP5h7aD9Yi2s/KqVjPyB6bD/ukGU/GLhoP5oPZz+7om0/4HVtP7Jsaz9We24/IWtqPw63bz/xdWY/\",\"dtype\":\"float32\",\"order\":\"little\",\"shape\":[147]}},\"selected\":{\"id\":\"2225\"},\"selection_policy\":{\"id\":\"2242\"}},\"id\":\"2224\",\"type\":\"ColumnDataSource\"},{\"attributes\":{\"axis\":{\"id\":\"2162\"},\"grid_line_color\":null,\"ticker\":null},\"id\":\"2165\",\"type\":\"Grid\"},{\"attributes\":{\"line_color\":\"#ff7e0e\",\"line_width\":2,\"x\":{\"field\":\"index\"},\"y\":{\"field\":\"value\"}},\"id\":\"2208\",\"type\":\"Line\"},{\"attributes\":{\"source\":{\"id\":\"2224\"}},\"id\":\"2231\",\"type\":\"CDSView\"},{\"attributes\":{},\"id\":\"2184\",\"type\":\"BasicTickFormatter\"},{\"attributes\":{\"source\":{\"id\":\"2205\"}},\"id\":\"2212\",\"type\":\"CDSView\"},{\"attributes\":{},\"id\":\"2206\",\"type\":\"Selection\"},{\"attributes\":{},\"id\":\"2221\",\"type\":\"UnionRenderers\"},{\"attributes\":{\"bottom_units\":\"screen\",\"fill_alpha\":0.5,\"fill_color\":\"lightgrey\",\"left_units\":\"screen\",\"level\":\"overlay\",\"line_alpha\":1.0,\"line_color\":\"black\",\"line_dash\":[4,4],\"line_width\":2,\"right_units\":\"screen\",\"top_units\":\"screen\"},\"id\":\"2175\",\"type\":\"BoxAnnotation\"},{\"attributes\":{},\"id\":\"2167\",\"type\":\"BasicTicker\"},{\"attributes\":{\"children\":[{\"id\":\"2147\"},{\"id\":\"2153\"},{\"id\":\"2353\"}],\"margin\":[0,0,0,0],\"name\":\"Row03969\",\"tags\":[\"embedded\"]},\"id\":\"2146\",\"type\":\"Row\"},{\"attributes\":{\"source\":{\"id\":\"2187\"}},\"id\":\"2194\",\"type\":\"CDSView\"},{\"attributes\":{\"axis_label\":\"\",\"bounds\":\"auto\",\"formatter\":{\"id\":\"2186\"},\"major_label_orientation\":\"horizontal\",\"ticker\":{\"id\":\"2167\"}},\"id\":\"2166\",\"type\":\"LinearAxis\"},{\"attributes\":{\"text\":\"\",\"text_color\":{\"value\":\"black\"},\"text_font_size\":{\"value\":\"12pt\"}},\"id\":\"2154\",\"type\":\"Title\"},{\"attributes\":{\"line_color\":\"#2ba02b\",\"line_width\":2,\"x\":{\"field\":\"index\"},\"y\":{\"field\":\"value\"}},\"id\":\"2227\",\"type\":\"Line\"},{\"attributes\":{\"label\":{\"value\":\"predict_1feature\"},\"renderers\":[{\"id\":\"2193\"}]},\"id\":\"2204\",\"type\":\"LegendItem\"},{\"attributes\":{},\"id\":\"2170\",\"type\":\"SaveTool\"},{\"attributes\":{\"end\":1.0288888573646549,\"reset_end\":1.0288888573646549,\"reset_start\":0.6822225689888001,\"start\":0.6822225689888001,\"tags\":[[[\"value\",\"value\",null]]]},\"id\":\"2149\",\"type\":\"Range1d\"},{\"attributes\":{},\"id\":\"2171\",\"type\":\"PanTool\"},{\"attributes\":{},\"id\":\"2201\",\"type\":\"UnionRenderers\"},{\"attributes\":{\"below\":[{\"id\":\"2162\"}],\"center\":[{\"id\":\"2165\"},{\"id\":\"2169\"}],\"left\":[{\"id\":\"2166\"}],\"margin\":[5,5,5,5],\"min_border_bottom\":10,\"min_border_left\":10,\"min_border_right\":10,\"min_border_top\":10,\"plot_height\":300,\"plot_width\":700,\"renderers\":[{\"id\":\"2193\"},{\"id\":\"2211\"},{\"id\":\"2230\"}],\"right\":[{\"id\":\"2203\"}],\"sizing_mode\":\"fixed\",\"title\":{\"id\":\"2154\"},\"toolbar\":{\"id\":\"2176\"},\"x_range\":{\"id\":\"2148\"},\"x_scale\":{\"id\":\"2158\"},\"y_range\":{\"id\":\"2149\"},\"y_scale\":{\"id\":\"2160\"}},\"id\":\"2153\",\"subtype\":\"Figure\",\"type\":\"Plot\"},{\"attributes\":{\"data_source\":{\"id\":\"2224\"},\"glyph\":{\"id\":\"2227\"},\"hover_glyph\":null,\"muted_glyph\":{\"id\":\"2229\"},\"nonselection_glyph\":{\"id\":\"2228\"},\"selection_glyph\":null,\"view\":{\"id\":\"2231\"}},\"id\":\"2230\",\"type\":\"GlyphRenderer\"},{\"attributes\":{\"click_policy\":\"mute\",\"items\":[{\"id\":\"2204\"},{\"id\":\"2223\"},{\"id\":\"2244\"}],\"location\":[0,0],\"title\":\"Variable\"},\"id\":\"2203\",\"type\":\"Legend\"},{\"attributes\":{},\"id\":\"2174\",\"type\":\"ResetTool\"},{\"attributes\":{\"margin\":[5,5,5,5],\"name\":\"HSpacer03974\",\"sizing_mode\":\"stretch_width\"},\"id\":\"2353\",\"type\":\"Spacer\"},{\"attributes\":{\"data\":{\"Variable\":[\"actual\",\"actual\",\"actual\",\"actual\",\"actual\",\"actual\",\"actual\",\"actual\",\"actual\",\"actual\",\"actual\",\"actual\",\"actual\",\"actual\",\"actual\",\"actual\",\"actual\",\"actual\",\"actual\",\"actual\",\"actual\",\"actual\",\"actual\",\"actual\",\"actual\",\"actual\",\"actual\",\"actual\",\"actual\",\"actual\",\"actual\",\"actual\",\"actual\",\"actual\",\"actual\",\"actual\",\"actual\",\"actual\",\"actual\",\"actual\",\"actual\",\"actual\",\"actual\",\"actual\",\"actual\",\"actual\",\"actual\",\"actual\",\"actual\",\"actual\",\"actual\",\"actual\",\"actual\",\"actual\",\"actual\",\"actual\",\"actual\",\"actual\",\"actual\",\"actual\",\"actual\",\"actual\",\"actual\",\"actual\",\"actual\",\"actual\",\"actual\",\"actual\",\"actual\",\"actual\",\"actual\",\"actual\",\"actual\",\"actual\",\"actual\",\"actual\",\"actual\",\"actual\",\"actual\",\"actual\",\"actual\",\"actual\",\"actual\",\"actual\",\"actual\",\"actual\",\"actual\",\"actual\",\"actual\",\"actual\",\"actual\",\"actual\",\"actual\",\"actual\",\"actual\",\"actual\",\"actual\",\"actual\",\"actual\",\"actual\",\"actual\",\"actual\",\"actual\",\"actual\",\"actual\",\"actual\",\"actual\",\"actual\",\"actual\",\"actual\",\"actual\",\"actual\",\"actual\",\"actual\",\"actual\",\"actual\",\"actual\",\"actual\",\"actual\",\"actual\",\"actual\",\"actual\",\"actual\",\"actual\",\"actual\",\"actual\",\"actual\",\"actual\",\"actual\",\"actual\",\"actual\",\"actual\",\"actual\",\"actual\",\"actual\",\"actual\",\"actual\",\"actual\",\"actual\",\"actual\",\"actual\",\"actual\",\"actual\",\"actual\",\"actual\",\"actual\",\"actual\"],\"index\":[0,1,2,3,4,5,6,7,8,9,10,11,12,13,14,15,16,17,18,19,20,21,22,23,24,25,26,27,28,29,30,31,32,33,34,35,36,37,38,39,40,41,42,43,44,45,46,47,48,49,50,51,52,53,54,55,56,57,58,59,60,61,62,63,64,65,66,67,68,69,70,71,72,73,74,75,76,77,78,79,80,81,82,83,84,85,86,87,88,89,90,91,92,93,94,95,96,97,98,99,100,101,102,103,104,105,106,107,108,109,110,111,112,113,114,115,116,117,118,119,120,121,122,123,124,125,126,127,128,129,130,131,132,133,134,135,136,137,138,139,140,141,142,143,144,145,146],\"value\":{\"__ndarray__\":\"QzLu9oP05z/LEcLHX/XnP2pvEL+noec/M0YQazSV5z8BMdzEd9nnP++eag1YNeg/hFZQvMxE6D/knpXwVN3nP3PE3gStoOg/aKqLJs8w6j+LTD+CdHToP3m1Wh8nvOg/QK+qXvDk6D8apDEskqnpP7JHIEpTwOk/SAR5pPXj6T/gxUSqxRvqPxoDEazveOo/IE75mplP6z+6Hh6j8sPrP+q1gVxJhOw/nhN6jZfg7D8gLwgukSPtPyAvCC6RI+0/IC8ILpEj7T8gLwgukSPtP6zw/hZeA+0/6Hnybyjq6z+6S1SNiiHsP65zQq/xEuw/3kznaI006z80o5z9oabsP1I6Y93vsew/LgO75fUo6z+aQe/fJfHqP/AVdWGgXus/Tnck0gkE6z8GwSVypGfrPwDVHANYYOs/Dp2WdnF/7T+w15TafPbsPwphB4pQ5ew/gNG5Nkl37T/6nOw8a8/sPyKt2Br3Huw/HGLwK01I6z+slpJCLkjsPwI0/IK1L+w/BiAF8gE37D/0vmKfXHHsP3CzMhU0puw/FP2Je8hZ7D+eOz3MASrtP2jv7ORR6Ow/aO/s5FHo7D9o7+zkUejsP2jv7ORR6Ow/RI96ifEF7T9AOSui2nvtPzZhW/1cRe4/aAKlDQ8u7z+8lSj3Ou3uPwEAAAAAAPA/SMsJdhKg7T8EssxvGyvrP3SayNhSmew/JGLFSFCg6z8E5HUF4ZzrP/ZgXVBKNew/cCyQVmyN6z/EuqCUajjrP3qlwrSnzOo/PsJih60q6z9as4jbLfbrP55Vu43cQes/PDqsQ+wG7D8wj9BP61XsP4AYbuK77Os/kg4yxWZ07D+CfMANR9DsP25P4Omowus/aL1DT4x27D++BbRmEbfrP4JKF3iBXuw/UhcG6rWB7D8iPmEwGmDtPyC7HZiGUO4/6Lnggn2N7j9axkAE6zvuPxDUsrdkBe4/TORIz/YE7j/eMmmnshztP94yaaeyHO0/3jJpp7Ic7T/eMmmnshztP2Irp7RvKu0/Hr72oRg07T/UZD0gdTbtP5xjAAtsc+0/jiIpVhpt7D9eHE6y5u3sP5xQSOKuLes/TqnNZ8916z+oI+cUGijrP7zJJHrwHOs/JM/pRT2h7j/yMhPhuMztPzKeKVJ0kuw/VoDLwG557T8WZk9SgVHtPwy7c16AoO0/LDnDoe+j7T98ve2IkibtP17vF8hOkOw/BHCLb9bJ7D8c7gWWQnXsP/SDreOGauw/wpuvJ2IM7T9UTiIrqQftP0yK3PrGSe0/yLTugEZx7T9Ctz3IW0/tPyoCp2D8He0//rC46iEg7T/uGdSH1GftPxIlTboyo+w/AtJD+cV87D+QWUWXDfPsPwiEVx2NGu0/vLQZZEMZ7T8Qzz8MN/HtP65ZxO0W++0/ZGc2oZDE7T/8Xx7oU4LuPzx/DQJvvu4/QDT6L8g/7j8SOAXj7+juP753Sw8szO4/zgRKGx5c7j+qpNe/vXnuP1iPJMP3te0/qkpr642+7T+khiW7qwDuP5qGUJ6oqO0/utL2S1I67T8YcDWp3HntP7S5t/Jt1ew/\",\"dtype\":\"float64\",\"order\":\"little\",\"shape\":[147]}},\"selected\":{\"id\":\"2206\"},\"selection_policy\":{\"id\":\"2221\"}},\"id\":\"2205\",\"type\":\"ColumnDataSource\"},{\"attributes\":{},\"id\":\"2172\",\"type\":\"WheelZoomTool\"},{\"attributes\":{\"line_alpha\":0.2,\"line_color\":\"#ff7e0e\",\"line_width\":2,\"x\":{\"field\":\"index\"},\"y\":{\"field\":\"value\"}},\"id\":\"2210\",\"type\":\"Line\"},{\"attributes\":{},\"id\":\"2188\",\"type\":\"Selection\"},{\"attributes\":{\"overlay\":{\"id\":\"2175\"}},\"id\":\"2173\",\"type\":\"BoxZoomTool\"},{\"attributes\":{\"data\":{\"Variable\":[\"predict_1feature\",\"predict_1feature\",\"predict_1feature\",\"predict_1feature\",\"predict_1feature\",\"predict_1feature\",\"predict_1feature\",\"predict_1feature\",\"predict_1feature\",\"predict_1feature\",\"predict_1feature\",\"predict_1feature\",\"predict_1feature\",\"predict_1feature\",\"predict_1feature\",\"predict_1feature\",\"predict_1feature\",\"predict_1feature\",\"predict_1feature\",\"predict_1feature\",\"predict_1feature\",\"predict_1feature\",\"predict_1feature\",\"predict_1feature\",\"predict_1feature\",\"predict_1feature\",\"predict_1feature\",\"predict_1feature\",\"predict_1feature\",\"predict_1feature\",\"predict_1feature\",\"predict_1feature\",\"predict_1feature\",\"predict_1feature\",\"predict_1feature\",\"predict_1feature\",\"predict_1feature\",\"predict_1feature\",\"predict_1feature\",\"predict_1feature\",\"predict_1feature\",\"predict_1feature\",\"predict_1feature\",\"predict_1feature\",\"predict_1feature\",\"predict_1feature\",\"predict_1feature\",\"predict_1feature\",\"predict_1feature\",\"predict_1feature\",\"predict_1feature\",\"predict_1feature\",\"predict_1feature\",\"predict_1feature\",\"predict_1feature\",\"predict_1feature\",\"predict_1feature\",\"predict_1feature\",\"predict_1feature\",\"predict_1feature\",\"predict_1feature\",\"predict_1feature\",\"predict_1feature\",\"predict_1feature\",\"predict_1feature\",\"predict_1feature\",\"predict_1feature\",\"predict_1feature\",\"predict_1feature\",\"predict_1feature\",\"predict_1feature\",\"predict_1feature\",\"predict_1feature\",\"predict_1feature\",\"predict_1feature\",\"predict_1feature\",\"predict_1feature\",\"predict_1feature\",\"predict_1feature\",\"predict_1feature\",\"predict_1feature\",\"predict_1feature\",\"predict_1feature\",\"predict_1feature\",\"predict_1feature\",\"predict_1feature\",\"predict_1feature\",\"predict_1feature\",\"predict_1feature\",\"predict_1feature\",\"predict_1feature\",\"predict_1feature\",\"predict_1feature\",\"predict_1feature\",\"predict_1feature\",\"predict_1feature\",\"predict_1feature\",\"predict_1feature\",\"predict_1feature\",\"predict_1feature\",\"predict_1feature\",\"predict_1feature\",\"predict_1feature\",\"predict_1feature\",\"predict_1feature\",\"predict_1feature\",\"predict_1feature\",\"predict_1feature\",\"predict_1feature\",\"predict_1feature\",\"predict_1feature\",\"predict_1feature\",\"predict_1feature\",\"predict_1feature\",\"predict_1feature\",\"predict_1feature\",\"predict_1feature\",\"predict_1feature\",\"predict_1feature\",\"predict_1feature\",\"predict_1feature\",\"predict_1feature\",\"predict_1feature\",\"predict_1feature\",\"predict_1feature\",\"predict_1feature\",\"predict_1feature\",\"predict_1feature\",\"predict_1feature\",\"predict_1feature\",\"predict_1feature\",\"predict_1feature\",\"predict_1feature\",\"predict_1feature\",\"predict_1feature\",\"predict_1feature\",\"predict_1feature\",\"predict_1feature\",\"predict_1feature\",\"predict_1feature\",\"predict_1feature\",\"predict_1feature\",\"predict_1feature\",\"predict_1feature\",\"predict_1feature\",\"predict_1feature\",\"predict_1feature\"],\"index\":[0,1,2,3,4,5,6,7,8,9,10,11,12,13,14,15,16,17,18,19,20,21,22,23,24,25,26,27,28,29,30,31,32,33,34,35,36,37,38,39,40,41,42,43,44,45,46,47,48,49,50,51,52,53,54,55,56,57,58,59,60,61,62,63,64,65,66,67,68,69,70,71,72,73,74,75,76,77,78,79,80,81,82,83,84,85,86,87,88,89,90,91,92,93,94,95,96,97,98,99,100,101,102,103,104,105,106,107,108,109,110,111,112,113,114,115,116,117,118,119,120,121,122,123,124,125,126,127,128,129,130,131,132,133,134,135,136,137,138,139,140,141,142,143,144,145,146],\"value\":{\"__ndarray__\":\"4IBAP9hqQT/kGEI/TJRDP1w9RD+k30Q/OFdFP4ewRT90uUU/AJFGP16pRz9EK0g/er1IPyosST911kk/PHVLPzbVUT9GxVI/wvRTP/LRVj/clFg/HtVbP+KNXT/ijV0/fst1P37LdT8A4l4/fu9gP8xdYj9q0mM/lKJlP94gZj91+2c/ZLloPwYVaT8eJ2k/0bdpPyj2aT/uAGo/wtxpP0pNaj+Or2o/rLFqPyzXaj/nv2o/jtdqP0B2aj8ajmo/J+tqP+Reaz8IR2s/gntrPwtUaz+sOWw/rDlsP5wffD+cH3w/wBptPwPYbT9R8m4/4jlwPwa0cz+DYXU/kMJ2PxL1dj/MiHY/bh53P7F6dj86NnY/jBt2P8eedT8oHnU/5hB0P4pKcz/7oXE/4ElwP4jhbj+qbm0/6hZsPy/Qaj+2Ymk/qoxoPxVEaD/Zgmg/eWhoP4zNaD8QsGk/6OVqP5zyaz+2JW0/NGZuP1bWbz9W1m8/IllzPyJZcz+TtHA/Dj5xP7ZNcj+yLHM/9M5zP0bZcz+zS3Q/U7pzPxMgcz8+23I/z8FyPwhJdD9kDnQ/sixzPxTWcj/zhXI/MVlyP3CVcj+4k3I/vkpyP1gacj8PqXE/6KdxP3+1cT+5iHI/8Dd0PyhBdT+b8nU/2SF1P0hwdD9mQ3Q/2Ep0P2zacz9isHM/wnRzPwM3cz87kXM/rjJ0PzmidD+si3U/a5R2P5vHdz+4f3g/9j55PwCneT8iK3o/Z256P8y2ej9lUXs//NV7P371ez/6CXw/\",\"dtype\":\"float32\",\"order\":\"little\",\"shape\":[147]}},\"selected\":{\"id\":\"2188\"},\"selection_policy\":{\"id\":\"2201\"}},\"id\":\"2187\",\"type\":\"ColumnDataSource\"},{\"attributes\":{\"line_alpha\":0.1,\"line_color\":\"#2ba02b\",\"line_width\":2,\"x\":{\"field\":\"index\"},\"y\":{\"field\":\"value\"}},\"id\":\"2228\",\"type\":\"Line\"},{\"attributes\":{\"margin\":[5,5,5,5],\"name\":\"HSpacer03973\",\"sizing_mode\":\"stretch_width\"},\"id\":\"2147\",\"type\":\"Spacer\"},{\"attributes\":{\"line_alpha\":0.1,\"line_color\":\"#1f77b3\",\"line_width\":2,\"x\":{\"field\":\"index\"},\"y\":{\"field\":\"value\"}},\"id\":\"2191\",\"type\":\"Line\"},{\"attributes\":{\"line_alpha\":0.2,\"line_color\":\"#2ba02b\",\"line_width\":2,\"x\":{\"field\":\"index\"},\"y\":{\"field\":\"value\"}},\"id\":\"2229\",\"type\":\"Line\"},{\"attributes\":{},\"id\":\"2225\",\"type\":\"Selection\"},{\"attributes\":{},\"id\":\"2186\",\"type\":\"BasicTickFormatter\"},{\"attributes\":{\"line_color\":\"#1f77b3\",\"line_width\":2,\"x\":{\"field\":\"index\"},\"y\":{\"field\":\"value\"}},\"id\":\"2190\",\"type\":\"Line\"},{\"attributes\":{},\"id\":\"2242\",\"type\":\"UnionRenderers\"},{\"attributes\":{},\"id\":\"2158\",\"type\":\"LinearScale\"},{\"attributes\":{\"line_alpha\":0.1,\"line_color\":\"#ff7e0e\",\"line_width\":2,\"x\":{\"field\":\"index\"},\"y\":{\"field\":\"value\"}},\"id\":\"2209\",\"type\":\"Line\"},{\"attributes\":{\"axis_label\":\"\",\"bounds\":\"auto\",\"formatter\":{\"id\":\"2184\"},\"major_label_orientation\":\"horizontal\",\"ticker\":{\"id\":\"2163\"}},\"id\":\"2162\",\"type\":\"LinearAxis\"},{\"attributes\":{\"label\":{\"value\":\"predict_2features\"},\"renderers\":[{\"id\":\"2230\"}]},\"id\":\"2244\",\"type\":\"LegendItem\"},{\"attributes\":{\"end\":146.0,\"reset_end\":146.0,\"reset_start\":0.0,\"tags\":[[[\"index\",\"index\",null]]]},\"id\":\"2148\",\"type\":\"Range1d\"},{\"attributes\":{},\"id\":\"2160\",\"type\":\"LinearScale\"}],\"root_ids\":[\"2146\"]},\"title\":\"Bokeh Application\",\"version\":\"2.2.3\"}};\n",
       "    var render_items = [{\"docid\":\"43d21d7f-e4c9-4ba3-a2c1-a9519628a76f\",\"root_ids\":[\"2146\"],\"roots\":{\"2146\":\"fa3a7a6e-ee5c-4c3c-aca1-fd1cfc3bf0c4\"}}];\n",
       "    root.Bokeh.embed.embed_items_notebook(docs_json, render_items);\n",
       "  }\n",
       "  if (root.Bokeh !== undefined && root.Bokeh.Panel !== undefined) {\n",
       "    embed_document(root);\n",
       "  } else {\n",
       "    var attempts = 0;\n",
       "    var timer = setInterval(function(root) {\n",
       "      if (root.Bokeh !== undefined && root.Bokeh.Panel !== undefined) {\n",
       "        clearInterval(timer);\n",
       "        embed_document(root);\n",
       "      } else if (document.readyState == \"complete\") {\n",
       "        attempts++;\n",
       "        if (attempts > 100) {\n",
       "          clearInterval(timer);\n",
       "          console.log(\"Bokeh: ERROR: Unable to run BokehJS code because BokehJS library is missing\");\n",
       "        }\n",
       "      }\n",
       "    }, 10, root)\n",
       "  }\n",
       "})(window);</script>"
      ],
      "text/plain": [
       ":NdOverlay   [Variable]\n",
       "   :Curve   [index]   (value)"
      ]
     },
     "execution_count": 62,
     "metadata": {
      "application/vnd.holoviews_exec.v0+json": {
       "id": "2146"
      }
     },
     "output_type": "execute_result"
    }
   ],
   "source": [
    "pred_lr_1fvs2f(pred_lstm_lr_1f_df,pred_lstm_lr_2f_df)"
   ]
  },
  {
   "cell_type": "markdown",
   "metadata": {},
   "source": [
    "### (3) Classification"
   ]
  },
  {
   "cell_type": "markdown",
   "metadata": {},
   "source": [
    "#### (a) Dense 1 Feature"
   ]
  },
  {
   "cell_type": "code",
   "execution_count": 63,
   "metadata": {},
   "outputs": [],
   "source": [
    "X, X_train, X_test, y, y_train, y_test = dataset_classification_1f(df_MSFT, \"PFE\")\n",
    "X, X_train, X_test = scaler_classification_1f(X, X_train, X_test)"
   ]
  },
  {
   "cell_type": "code",
   "execution_count": 64,
   "metadata": {},
   "outputs": [],
   "source": [
    "history, model = dense_cl_1f(X_train, y_train)\n",
    "dic_dense_cl_1f = eva_dense_cl_1f(model, X_test, y_test)"
   ]
  },
  {
   "cell_type": "markdown",
   "metadata": {},
   "source": [
    "#### (b) LSTM 1 Feature"
   ]
  },
  {
   "cell_type": "code",
   "execution_count": 65,
   "metadata": {},
   "outputs": [],
   "source": [
    "history, model = lstm_cl_1f(X_train, y_train)\n",
    "dic_lstm_cl_1f = eva_lstm_cl_1f(model, X_test, y_test)"
   ]
  },
  {
   "cell_type": "markdown",
   "metadata": {},
   "source": [
    "#### (c) Logistic Regression, SVC, Decision Tree Classifier, Random Forest Classifier, XGB Classifier"
   ]
  },
  {
   "cell_type": "code",
   "execution_count": 66,
   "metadata": {},
   "outputs": [
    {
     "name": "stdout",
     "output_type": "stream",
     "text": [
      "[05:17:01] WARNING: C:/Users/Administrator/workspace/xgboost-win64_release_1.3.0/src/learner.cc:1061: Starting in XGBoost 1.3.0, the default evaluation metric used with the objective 'binary:logistic' was changed from 'error' to 'logloss'. Explicitly set eval_metric if you'd like to restore the old behavior.\n"
     ]
    }
   ],
   "source": [
    "sklearn_cl_models_1f = sklearn_cl_models(X_train, y_train, X_test, y_test)"
   ]
  },
  {
   "cell_type": "code",
   "execution_count": 67,
   "metadata": {},
   "outputs": [
    {
     "name": "stdout",
     "output_type": "stream",
     "text": [
      "[05:17:02] WARNING: C:/Users/Administrator/workspace/xgboost-win64_release_1.3.0/src/learner.cc:1061: Starting in XGBoost 1.3.0, the default evaluation metric used with the objective 'binary:logistic' was changed from 'error' to 'logloss'. Explicitly set eval_metric if you'd like to restore the old behavior.\n",
      "[05:17:02] WARNING: C:/Users/Administrator/workspace/xgboost-win64_release_1.3.0/src/learner.cc:1061: Starting in XGBoost 1.3.0, the default evaluation metric used with the objective 'binary:logistic' was changed from 'error' to 'logloss'. Explicitly set eval_metric if you'd like to restore the old behavior.\n",
      "[05:17:03] WARNING: C:/Users/Administrator/workspace/xgboost-win64_release_1.3.0/src/learner.cc:1061: Starting in XGBoost 1.3.0, the default evaluation metric used with the objective 'binary:logistic' was changed from 'error' to 'logloss'. Explicitly set eval_metric if you'd like to restore the old behavior.\n",
      "[05:17:03] WARNING: C:/Users/Administrator/workspace/xgboost-win64_release_1.3.0/src/learner.cc:1061: Starting in XGBoost 1.3.0, the default evaluation metric used with the objective 'binary:logistic' was changed from 'error' to 'logloss'. Explicitly set eval_metric if you'd like to restore the old behavior.\n",
      "[05:17:03] WARNING: C:/Users/Administrator/workspace/xgboost-win64_release_1.3.0/src/learner.cc:1061: Starting in XGBoost 1.3.0, the default evaluation metric used with the objective 'binary:logistic' was changed from 'error' to 'logloss'. Explicitly set eval_metric if you'd like to restore the old behavior.\n"
     ]
    }
   ],
   "source": [
    "sklearn_cl_models_cross_validation_1f = sklearn_cl_models_cross_validation(X, y)"
   ]
  },
  {
   "cell_type": "code",
   "execution_count": 68,
   "metadata": {},
   "outputs": [],
   "source": [
    "svc_optimizer_1f = svc_optimizer(X_train, y_train, X_test, y_test)"
   ]
  },
  {
   "cell_type": "markdown",
   "metadata": {},
   "source": [
    "#### (d) Dense 2 Features"
   ]
  },
  {
   "cell_type": "code",
   "execution_count": 69,
   "metadata": {},
   "outputs": [],
   "source": [
    "X, X_train, X_test, y, y_train, y_test = dataset_classification_2f(df_MSFT, \"PFE\")\n",
    "X, X_train, X_test = scaler_classification_2f(X, X_train, X_test)"
   ]
  },
  {
   "cell_type": "code",
   "execution_count": 70,
   "metadata": {},
   "outputs": [],
   "source": [
    "history, model = dense_cl_2f(X_train, y_train)\n",
    "dic_dense_cl_2f = eva_dense_cl_2f(model, X_test, y_test)"
   ]
  },
  {
   "cell_type": "markdown",
   "metadata": {},
   "source": [
    "#### (e) LSTM 2 Features"
   ]
  },
  {
   "cell_type": "code",
   "execution_count": 71,
   "metadata": {},
   "outputs": [],
   "source": [
    "history, model = lstm_cl_2f(X_train, y_train)\n",
    "dic_lstm_cl_2f = eva_lstm_cl_2f(model, X_test, y_test)"
   ]
  },
  {
   "cell_type": "markdown",
   "metadata": {},
   "source": [
    "#### (f) Logistic Regression, SVC, Decision Tree Classifier, Random Forest Classifier, XGB Classifier"
   ]
  },
  {
   "cell_type": "code",
   "execution_count": 72,
   "metadata": {},
   "outputs": [
    {
     "name": "stdout",
     "output_type": "stream",
     "text": [
      "[05:17:13] WARNING: C:/Users/Administrator/workspace/xgboost-win64_release_1.3.0/src/learner.cc:1061: Starting in XGBoost 1.3.0, the default evaluation metric used with the objective 'binary:logistic' was changed from 'error' to 'logloss'. Explicitly set eval_metric if you'd like to restore the old behavior.\n"
     ]
    }
   ],
   "source": [
    "sklearn_cl_models_2f = sklearn_cl_models(X_train, y_train, X_test, y_test)"
   ]
  },
  {
   "cell_type": "code",
   "execution_count": 73,
   "metadata": {},
   "outputs": [
    {
     "name": "stdout",
     "output_type": "stream",
     "text": [
      "[05:17:14] WARNING: C:/Users/Administrator/workspace/xgboost-win64_release_1.3.0/src/learner.cc:1061: Starting in XGBoost 1.3.0, the default evaluation metric used with the objective 'binary:logistic' was changed from 'error' to 'logloss'. Explicitly set eval_metric if you'd like to restore the old behavior.\n",
      "[05:17:14] WARNING: C:/Users/Administrator/workspace/xgboost-win64_release_1.3.0/src/learner.cc:1061: Starting in XGBoost 1.3.0, the default evaluation metric used with the objective 'binary:logistic' was changed from 'error' to 'logloss'. Explicitly set eval_metric if you'd like to restore the old behavior.\n",
      "[05:17:14] WARNING: C:/Users/Administrator/workspace/xgboost-win64_release_1.3.0/src/learner.cc:1061: Starting in XGBoost 1.3.0, the default evaluation metric used with the objective 'binary:logistic' was changed from 'error' to 'logloss'. Explicitly set eval_metric if you'd like to restore the old behavior.\n",
      "[05:17:15] WARNING: C:/Users/Administrator/workspace/xgboost-win64_release_1.3.0/src/learner.cc:1061: Starting in XGBoost 1.3.0, the default evaluation metric used with the objective 'binary:logistic' was changed from 'error' to 'logloss'. Explicitly set eval_metric if you'd like to restore the old behavior.\n",
      "[05:17:15] WARNING: C:/Users/Administrator/workspace/xgboost-win64_release_1.3.0/src/learner.cc:1061: Starting in XGBoost 1.3.0, the default evaluation metric used with the objective 'binary:logistic' was changed from 'error' to 'logloss'. Explicitly set eval_metric if you'd like to restore the old behavior.\n"
     ]
    }
   ],
   "source": [
    "sklearn_cl_models_cross_validation_2f = sklearn_cl_models_cross_validation(X, y)"
   ]
  },
  {
   "cell_type": "code",
   "execution_count": 74,
   "metadata": {},
   "outputs": [],
   "source": [
    "svc_optimizer_2f = svc_optimizer(X_train, y_train, X_test, y_test)"
   ]
  },
  {
   "cell_type": "markdown",
   "metadata": {},
   "source": [
    "### (g) Scores between 1 Feature and 2 Features"
   ]
  },
  {
   "cell_type": "code",
   "execution_count": 75,
   "metadata": {},
   "outputs": [
    {
     "data": {
      "text/html": [
       "<div>\n",
       "<style scoped>\n",
       "    .dataframe tbody tr th:only-of-type {\n",
       "        vertical-align: middle;\n",
       "    }\n",
       "\n",
       "    .dataframe tbody tr th {\n",
       "        vertical-align: top;\n",
       "    }\n",
       "\n",
       "    .dataframe thead th {\n",
       "        text-align: right;\n",
       "    }\n",
       "</style>\n",
       "<table border=\"1\" class=\"dataframe\">\n",
       "  <thead>\n",
       "    <tr style=\"text-align: right;\">\n",
       "      <th></th>\n",
       "      <th>1 Feature</th>\n",
       "      <th>2 Features</th>\n",
       "      <th>sentiment_impact</th>\n",
       "    </tr>\n",
       "  </thead>\n",
       "  <tbody>\n",
       "    <tr>\n",
       "      <th>DecisionTreeClassifier</th>\n",
       "      <td>0.531915</td>\n",
       "      <td>0.489362</td>\n",
       "      <td>-0.042553</td>\n",
       "    </tr>\n",
       "    <tr>\n",
       "      <th>DecisionTreeClassifier (Cross Validation)</th>\n",
       "      <td>0.410385</td>\n",
       "      <td>0.403262</td>\n",
       "      <td>-0.007123</td>\n",
       "    </tr>\n",
       "    <tr>\n",
       "      <th>Dense</th>\n",
       "      <td>0.531915</td>\n",
       "      <td>0.531915</td>\n",
       "      <td>0.000000</td>\n",
       "    </tr>\n",
       "    <tr>\n",
       "      <th>LSTM</th>\n",
       "      <td>0.531915</td>\n",
       "      <td>0.531915</td>\n",
       "      <td>0.000000</td>\n",
       "    </tr>\n",
       "    <tr>\n",
       "      <th>LogisticRegression</th>\n",
       "      <td>0.531915</td>\n",
       "      <td>0.531915</td>\n",
       "      <td>0.000000</td>\n",
       "    </tr>\n",
       "    <tr>\n",
       "      <th>LogisticRegression (Cross Validation)</th>\n",
       "      <td>0.527072</td>\n",
       "      <td>0.535583</td>\n",
       "      <td>0.008511</td>\n",
       "    </tr>\n",
       "    <tr>\n",
       "      <th>RandomForestClassifier</th>\n",
       "      <td>0.531915</td>\n",
       "      <td>0.503546</td>\n",
       "      <td>-0.028369</td>\n",
       "    </tr>\n",
       "    <tr>\n",
       "      <th>RandomForestClassifier (Cross Validation)</th>\n",
       "      <td>0.410385</td>\n",
       "      <td>0.406069</td>\n",
       "      <td>-0.004316</td>\n",
       "    </tr>\n",
       "    <tr>\n",
       "      <th>SVC</th>\n",
       "      <td>0.531915</td>\n",
       "      <td>0.531915</td>\n",
       "      <td>0.000000</td>\n",
       "    </tr>\n",
       "    <tr>\n",
       "      <th>SVC (Cross Validation)</th>\n",
       "      <td>0.504377</td>\n",
       "      <td>0.515724</td>\n",
       "      <td>0.011348</td>\n",
       "    </tr>\n",
       "    <tr>\n",
       "      <th>SVC (Grid Search)</th>\n",
       "      <td>0.531915</td>\n",
       "      <td>0.531915</td>\n",
       "      <td>0.000000</td>\n",
       "    </tr>\n",
       "    <tr>\n",
       "      <th>XGBClassifier</th>\n",
       "      <td>0.468085</td>\n",
       "      <td>0.468085</td>\n",
       "      <td>0.000000</td>\n",
       "    </tr>\n",
       "    <tr>\n",
       "      <th>XGBClassifier (Cross Validation)</th>\n",
       "      <td>0.408956</td>\n",
       "      <td>0.398967</td>\n",
       "      <td>-0.009990</td>\n",
       "    </tr>\n",
       "  </tbody>\n",
       "</table>\n",
       "</div>"
      ],
      "text/plain": [
       "                                           1 Feature  2 Features  \\\n",
       "DecisionTreeClassifier                      0.531915    0.489362   \n",
       "DecisionTreeClassifier (Cross Validation)   0.410385    0.403262   \n",
       "Dense                                       0.531915    0.531915   \n",
       "LSTM                                        0.531915    0.531915   \n",
       "LogisticRegression                          0.531915    0.531915   \n",
       "LogisticRegression (Cross Validation)       0.527072    0.535583   \n",
       "RandomForestClassifier                      0.531915    0.503546   \n",
       "RandomForestClassifier (Cross Validation)   0.410385    0.406069   \n",
       "SVC                                         0.531915    0.531915   \n",
       "SVC (Cross Validation)                      0.504377    0.515724   \n",
       "SVC (Grid Search)                           0.531915    0.531915   \n",
       "XGBClassifier                               0.468085    0.468085   \n",
       "XGBClassifier (Cross Validation)            0.408956    0.398967   \n",
       "\n",
       "                                           sentiment_impact  \n",
       "DecisionTreeClassifier                            -0.042553  \n",
       "DecisionTreeClassifier (Cross Validation)         -0.007123  \n",
       "Dense                                              0.000000  \n",
       "LSTM                                               0.000000  \n",
       "LogisticRegression                                 0.000000  \n",
       "LogisticRegression (Cross Validation)              0.008511  \n",
       "RandomForestClassifier                            -0.028369  \n",
       "RandomForestClassifier (Cross Validation)         -0.004316  \n",
       "SVC                                                0.000000  \n",
       "SVC (Cross Validation)                             0.011348  \n",
       "SVC (Grid Search)                                  0.000000  \n",
       "XGBClassifier                                      0.000000  \n",
       "XGBClassifier (Cross Validation)                  -0.009990  "
      ]
     },
     "execution_count": 75,
     "metadata": {},
     "output_type": "execute_result"
    }
   ],
   "source": [
    "score_df = score_df(dic_dense_cl_1f,\n",
    "                    dic_lstm_cl_1f,\n",
    "                    sklearn_cl_models_1f,\n",
    "                    sklearn_cl_models_cross_validation_1f,\n",
    "                    svc_optimizer_1f,\n",
    "                    dic_dense_cl_2f,\n",
    "                    dic_lstm_cl_2f,\n",
    "                    sklearn_cl_models_2f,\n",
    "                    sklearn_cl_models_cross_validation_2f,\n",
    "                    svc_optimizer_2f\n",
    "                   )\n",
    "\n",
    "score_df"
   ]
  },
  {
   "cell_type": "code",
   "execution_count": null,
   "metadata": {},
   "outputs": [],
   "source": []
  },
  {
   "cell_type": "markdown",
   "metadata": {},
   "source": [
    "## 4. REGN"
   ]
  },
  {
   "cell_type": "markdown",
   "metadata": {},
   "source": [
    "### (1) Data Creation"
   ]
  },
  {
   "cell_type": "code",
   "execution_count": 42,
   "metadata": {},
   "outputs": [
    {
     "data": {
      "text/html": [
       "<div>\n",
       "<style scoped>\n",
       "    .dataframe tbody tr th:only-of-type {\n",
       "        vertical-align: middle;\n",
       "    }\n",
       "\n",
       "    .dataframe tbody tr th {\n",
       "        vertical-align: top;\n",
       "    }\n",
       "\n",
       "    .dataframe thead th {\n",
       "        text-align: right;\n",
       "    }\n",
       "</style>\n",
       "<table border=\"1\" class=\"dataframe\">\n",
       "  <thead>\n",
       "    <tr style=\"text-align: right;\">\n",
       "      <th></th>\n",
       "      <th>MSFT</th>\n",
       "      <th>SMA20</th>\n",
       "      <th>daily_return</th>\n",
       "      <th>actual_signal</th>\n",
       "      <th>avg_sentiments</th>\n",
       "      <th>SMA_shift</th>\n",
       "    </tr>\n",
       "    <tr>\n",
       "      <th>Date</th>\n",
       "      <th></th>\n",
       "      <th></th>\n",
       "      <th></th>\n",
       "      <th></th>\n",
       "      <th></th>\n",
       "      <th></th>\n",
       "    </tr>\n",
       "  </thead>\n",
       "  <tbody>\n",
       "    <tr>\n",
       "      <th>2015-01-16</th>\n",
       "      <td>46.22</td>\n",
       "      <td>NaN</td>\n",
       "      <td>0.016271</td>\n",
       "      <td>1.0</td>\n",
       "      <td>NaN</td>\n",
       "      <td>NaN</td>\n",
       "    </tr>\n",
       "    <tr>\n",
       "      <th>2015-01-20</th>\n",
       "      <td>46.39</td>\n",
       "      <td>NaN</td>\n",
       "      <td>0.003678</td>\n",
       "      <td>1.0</td>\n",
       "      <td>0.4767</td>\n",
       "      <td>NaN</td>\n",
       "    </tr>\n",
       "    <tr>\n",
       "      <th>2015-01-21</th>\n",
       "      <td>45.91</td>\n",
       "      <td>NaN</td>\n",
       "      <td>-0.010347</td>\n",
       "      <td>0.0</td>\n",
       "      <td>0.0000</td>\n",
       "      <td>NaN</td>\n",
       "    </tr>\n",
       "    <tr>\n",
       "      <th>2015-01-22</th>\n",
       "      <td>47.12</td>\n",
       "      <td>NaN</td>\n",
       "      <td>0.026356</td>\n",
       "      <td>1.0</td>\n",
       "      <td>NaN</td>\n",
       "      <td>NaN</td>\n",
       "    </tr>\n",
       "    <tr>\n",
       "      <th>2015-01-23</th>\n",
       "      <td>47.18</td>\n",
       "      <td>NaN</td>\n",
       "      <td>0.001273</td>\n",
       "      <td>1.0</td>\n",
       "      <td>NaN</td>\n",
       "      <td>NaN</td>\n",
       "    </tr>\n",
       "  </tbody>\n",
       "</table>\n",
       "</div>"
      ],
      "text/plain": [
       "             MSFT  SMA20  daily_return  actual_signal  avg_sentiments  \\\n",
       "Date                                                                    \n",
       "2015-01-16  46.22    NaN      0.016271            1.0             NaN   \n",
       "2015-01-20  46.39    NaN      0.003678            1.0          0.4767   \n",
       "2015-01-21  45.91    NaN     -0.010347            0.0          0.0000   \n",
       "2015-01-22  47.12    NaN      0.026356            1.0             NaN   \n",
       "2015-01-23  47.18    NaN      0.001273            1.0             NaN   \n",
       "\n",
       "            SMA_shift  \n",
       "Date                   \n",
       "2015-01-16        NaN  \n",
       "2015-01-20        NaN  \n",
       "2015-01-21        NaN  \n",
       "2015-01-22        NaN  \n",
       "2015-01-23        NaN  "
      ]
     },
     "execution_count": 42,
     "metadata": {},
     "output_type": "execute_result"
    }
   ],
   "source": [
    "df=read_file(\"REGN\")\n",
    "df1=sentiment_analysis(df)\n",
    "df2=stock_prices()\n",
    "df3=manipulate_df(df2, 'REGN')\n",
    "df_MSFT=final_df(df3, df1, 'REGN')\n",
    "df_MSFT.head()"
   ]
  },
  {
   "cell_type": "markdown",
   "metadata": {},
   "source": [
    "### (2) Regression"
   ]
  },
  {
   "cell_type": "markdown",
   "metadata": {},
   "source": [
    "#### (a) Dense 1 feature"
   ]
  },
  {
   "cell_type": "code",
   "execution_count": 43,
   "metadata": {},
   "outputs": [],
   "source": [
    "X, X_train, X_test, y, y_train, y_test=dataset_regression_1f(df_MSFT, 'REGN')\n",
    "X, X_train, X_test, y, y_train, y_test=scaler_regression_1f(X, X_train, X_test, y, y_train, y_test)"
   ]
  },
  {
   "cell_type": "code",
   "execution_count": 44,
   "metadata": {},
   "outputs": [],
   "source": [
    "msft_dense_lr_1f_history, msft_dense_lr_1f_model =dense_lr_1f(X_train, y_train)"
   ]
  },
  {
   "cell_type": "code",
   "execution_count": 45,
   "metadata": {},
   "outputs": [],
   "source": [
    "score_dense_lr_1f_df = score_dense_lr_1f(msft_dense_lr_1f_history)"
   ]
  },
  {
   "cell_type": "code",
   "execution_count": 46,
   "metadata": {},
   "outputs": [],
   "source": [
    "pred_dense_lr_1f_df = pred_dense_lr_1f(msft_dense_lr_1f_model, X_test, y_test)"
   ]
  },
  {
   "cell_type": "markdown",
   "metadata": {},
   "source": [
    "#### (b) LSTM 1 feature"
   ]
  },
  {
   "cell_type": "code",
   "execution_count": 47,
   "metadata": {},
   "outputs": [],
   "source": [
    "msft_lstm_lr_1f_history, msft_lstm_lr_1f_model =lstm_lr_1f(X_train, y_train)"
   ]
  },
  {
   "cell_type": "code",
   "execution_count": 48,
   "metadata": {},
   "outputs": [],
   "source": [
    "score_lstm_lr_1f_df = score_lstm_lr_1f(msft_lstm_lr_1f_history)"
   ]
  },
  {
   "cell_type": "code",
   "execution_count": 49,
   "metadata": {},
   "outputs": [],
   "source": [
    "pred_lstm_lr_1f_df = pred_lstm_lr_1f(msft_lstm_lr_1f_model, X_test, y_test)"
   ]
  },
  {
   "cell_type": "markdown",
   "metadata": {},
   "source": [
    "#### (c) Dense 2 features"
   ]
  },
  {
   "cell_type": "code",
   "execution_count": 50,
   "metadata": {},
   "outputs": [],
   "source": [
    "X, X_train, X_test, y, y_train, y_test=dataset_regression_2f(df_MSFT, 'REGN')\n",
    "X, X_train, X_test, y, y_train, y_test=scaler_regression_2f(X, X_train, X_test, y, y_train, y_test)"
   ]
  },
  {
   "cell_type": "code",
   "execution_count": 51,
   "metadata": {},
   "outputs": [],
   "source": [
    "msft_dense_lr_2f_history, msft_dense_lr_2f_model = dense_lr_2f(X_train, y_train)"
   ]
  },
  {
   "cell_type": "code",
   "execution_count": 52,
   "metadata": {},
   "outputs": [],
   "source": [
    "score_dense_lr_2f_df = score_dense_lr_2f(msft_dense_lr_2f_history)"
   ]
  },
  {
   "cell_type": "code",
   "execution_count": 53,
   "metadata": {},
   "outputs": [],
   "source": [
    "pred_dense_lr_2f_df = pred_dense_lr_2f(msft_dense_lr_2f_model, X_test, y_test)"
   ]
  },
  {
   "cell_type": "markdown",
   "metadata": {},
   "source": [
    "#### (d) LSTM 2 features"
   ]
  },
  {
   "cell_type": "code",
   "execution_count": 54,
   "metadata": {},
   "outputs": [],
   "source": [
    "msft_lstm_lr_2f_history, msft_lstm_lr_2f_model = lstm_lr_2f(X_train, y_train)"
   ]
  },
  {
   "cell_type": "code",
   "execution_count": 55,
   "metadata": {},
   "outputs": [],
   "source": [
    "score_lstm_lr_2f_df = score_lstm_lr_2f(msft_lstm_lr_2f_history)"
   ]
  },
  {
   "cell_type": "code",
   "execution_count": 56,
   "metadata": {},
   "outputs": [],
   "source": [
    "pred_lstm_lr_2f_df = pred_lstm_lr_2f(msft_lstm_lr_2f_model, X_test, y_test)"
   ]
  },
  {
   "cell_type": "markdown",
   "metadata": {},
   "source": [
    "#### (e) Visualization"
   ]
  },
  {
   "cell_type": "code",
   "execution_count": 57,
   "metadata": {},
   "outputs": [
    {
     "data": {
      "application/vnd.holoviews_exec.v0+json": "",
      "text/html": [
       "<div id='1001'>\n",
       "\n",
       "\n",
       "\n",
       "\n",
       "\n",
       "  <div class=\"bk-root\" id=\"1b9b28c4-6a32-43e1-a2a5-1add7dda3c50\" data-root-id=\"1001\"></div>\n",
       "</div>\n",
       "<script type=\"application/javascript\">(function(root) {\n",
       "  function embed_document(root) {\n",
       "    var docs_json = {\"529406ea-0595-4503-8c48-341c44b33a42\":{\"roots\":{\"references\":[{\"attributes\":{},\"id\":\"1017\",\"type\":\"BasicTicker\"},{\"attributes\":{\"axis_label\":\"\",\"bounds\":\"auto\",\"formatter\":{\"id\":\"1040\"},\"major_label_orientation\":\"horizontal\",\"ticker\":{\"id\":\"1021\"}},\"id\":\"1020\",\"type\":\"LinearAxis\"},{\"attributes\":{\"line_alpha\":0.1,\"line_color\":\"#1f77b3\",\"line_width\":2,\"x\":{\"field\":\"index\"},\"y\":{\"field\":\"value\"}},\"id\":\"1045\",\"type\":\"Line\"},{\"attributes\":{\"below\":[{\"id\":\"1016\"}],\"center\":[{\"id\":\"1019\"},{\"id\":\"1023\"}],\"left\":[{\"id\":\"1020\"}],\"margin\":[5,5,5,5],\"min_border_bottom\":10,\"min_border_left\":10,\"min_border_right\":10,\"min_border_top\":10,\"plot_height\":300,\"plot_width\":700,\"renderers\":[{\"id\":\"1047\"},{\"id\":\"1065\"}],\"right\":[{\"id\":\"1057\"}],\"sizing_mode\":\"fixed\",\"title\":{\"id\":\"1008\"},\"toolbar\":{\"id\":\"1030\"},\"x_range\":{\"id\":\"1003\"},\"x_scale\":{\"id\":\"1012\"},\"y_range\":{\"id\":\"1004\"},\"y_scale\":{\"id\":\"1014\"}},\"id\":\"1007\",\"subtype\":\"Figure\",\"type\":\"Plot\"},{\"attributes\":{\"line_alpha\":0.1,\"line_color\":\"#ff7e0e\",\"line_width\":2,\"x\":{\"field\":\"index\"},\"y\":{\"field\":\"value\"}},\"id\":\"1063\",\"type\":\"Line\"},{\"attributes\":{\"end\":0.14323489093221725,\"reset_end\":0.14323489093221725,\"reset_start\":-0.007471426902338863,\"start\":-0.007471426902338863,\"tags\":[[[\"value\",\"value\",null]]]},\"id\":\"1004\",\"type\":\"Range1d\"},{\"attributes\":{\"source\":{\"id\":\"1059\"}},\"id\":\"1066\",\"type\":\"CDSView\"},{\"attributes\":{},\"id\":\"1060\",\"type\":\"Selection\"},{\"attributes\":{\"data_source\":{\"id\":\"1041\"},\"glyph\":{\"id\":\"1044\"},\"hover_glyph\":null,\"muted_glyph\":{\"id\":\"1046\"},\"nonselection_glyph\":{\"id\":\"1045\"},\"selection_glyph\":null,\"view\":{\"id\":\"1048\"}},\"id\":\"1047\",\"type\":\"GlyphRenderer\"},{\"attributes\":{\"active_drag\":\"auto\",\"active_inspect\":\"auto\",\"active_multi\":null,\"active_scroll\":\"auto\",\"active_tap\":\"auto\",\"tools\":[{\"id\":\"1005\"},{\"id\":\"1024\"},{\"id\":\"1025\"},{\"id\":\"1026\"},{\"id\":\"1027\"},{\"id\":\"1028\"}]},\"id\":\"1030\",\"type\":\"Toolbar\"},{\"attributes\":{\"line_color\":\"#ff7e0e\",\"line_width\":2,\"x\":{\"field\":\"index\"},\"y\":{\"field\":\"value\"}},\"id\":\"1062\",\"type\":\"Line\"},{\"attributes\":{\"callback\":null,\"renderers\":[{\"id\":\"1047\"},{\"id\":\"1065\"}],\"tags\":[\"hv_created\"],\"tooltips\":[[\"Variable\",\"@{Variable}\"],[\"index\",\"@{index}\"],[\"value\",\"@{value}\"]]},\"id\":\"1005\",\"type\":\"HoverTool\"},{\"attributes\":{\"axis\":{\"id\":\"1016\"},\"grid_line_color\":null,\"ticker\":null},\"id\":\"1019\",\"type\":\"Grid\"},{\"attributes\":{\"click_policy\":\"mute\",\"items\":[{\"id\":\"1058\"},{\"id\":\"1077\"}],\"location\":[0,0],\"title\":\"Variable\"},\"id\":\"1057\",\"type\":\"Legend\"},{\"attributes\":{\"label\":{\"value\":\"loss_1f\"},\"renderers\":[{\"id\":\"1047\"}]},\"id\":\"1058\",\"type\":\"LegendItem\"},{\"attributes\":{},\"id\":\"1055\",\"type\":\"UnionRenderers\"},{\"attributes\":{\"axis\":{\"id\":\"1020\"},\"dimension\":1,\"grid_line_color\":null,\"ticker\":null},\"id\":\"1023\",\"type\":\"Grid\"},{\"attributes\":{\"line_color\":\"#1f77b3\",\"line_width\":2,\"x\":{\"field\":\"index\"},\"y\":{\"field\":\"value\"}},\"id\":\"1044\",\"type\":\"Line\"},{\"attributes\":{},\"id\":\"1075\",\"type\":\"UnionRenderers\"},{\"attributes\":{},\"id\":\"1021\",\"type\":\"BasicTicker\"},{\"attributes\":{\"label\":{\"value\":\"loss_2f\"},\"renderers\":[{\"id\":\"1065\"}]},\"id\":\"1077\",\"type\":\"LegendItem\"},{\"attributes\":{\"end\":23.0,\"reset_end\":23.0,\"reset_start\":1.0,\"start\":1.0,\"tags\":[[[\"index\",\"index\",null]]]},\"id\":\"1003\",\"type\":\"Range1d\"},{\"attributes\":{\"bottom_units\":\"screen\",\"fill_alpha\":0.5,\"fill_color\":\"lightgrey\",\"left_units\":\"screen\",\"level\":\"overlay\",\"line_alpha\":1.0,\"line_color\":\"black\",\"line_dash\":[4,4],\"line_width\":2,\"right_units\":\"screen\",\"top_units\":\"screen\"},\"id\":\"1029\",\"type\":\"BoxAnnotation\"},{\"attributes\":{\"children\":[{\"id\":\"1002\"},{\"id\":\"1007\"},{\"id\":\"1168\"}],\"margin\":[0,0,0,0],\"name\":\"Row01558\",\"tags\":[\"embedded\"]},\"id\":\"1001\",\"type\":\"Row\"},{\"attributes\":{\"line_alpha\":0.2,\"line_color\":\"#1f77b3\",\"line_width\":2,\"x\":{\"field\":\"index\"},\"y\":{\"field\":\"value\"}},\"id\":\"1046\",\"type\":\"Line\"},{\"attributes\":{\"margin\":[5,5,5,5],\"name\":\"HSpacer01562\",\"sizing_mode\":\"stretch_width\"},\"id\":\"1002\",\"type\":\"Spacer\"},{\"attributes\":{},\"id\":\"1038\",\"type\":\"BasicTickFormatter\"},{\"attributes\":{},\"id\":\"1040\",\"type\":\"BasicTickFormatter\"},{\"attributes\":{\"line_alpha\":0.2,\"line_color\":\"#ff7e0e\",\"line_width\":2,\"x\":{\"field\":\"index\"},\"y\":{\"field\":\"value\"}},\"id\":\"1064\",\"type\":\"Line\"},{\"attributes\":{},\"id\":\"1024\",\"type\":\"SaveTool\"},{\"attributes\":{\"axis_label\":\"\",\"bounds\":\"auto\",\"formatter\":{\"id\":\"1038\"},\"major_label_orientation\":\"horizontal\",\"ticker\":{\"id\":\"1017\"}},\"id\":\"1016\",\"type\":\"LinearAxis\"},{\"attributes\":{},\"id\":\"1025\",\"type\":\"PanTool\"},{\"attributes\":{\"source\":{\"id\":\"1041\"}},\"id\":\"1048\",\"type\":\"CDSView\"},{\"attributes\":{},\"id\":\"1028\",\"type\":\"ResetTool\"},{\"attributes\":{},\"id\":\"1026\",\"type\":\"WheelZoomTool\"},{\"attributes\":{\"data\":{\"Variable\":[\"loss_1f\",\"loss_1f\",\"loss_1f\",\"loss_1f\",\"loss_1f\",\"loss_1f\",\"loss_1f\",\"loss_1f\",\"loss_1f\",\"loss_1f\",\"loss_1f\",\"loss_1f\",\"loss_1f\",\"loss_1f\",\"loss_1f\",\"loss_1f\",\"loss_1f\",\"loss_1f\",\"loss_1f\",\"loss_1f\",\"loss_1f\",\"loss_1f\",\"loss_1f\"],\"index\":[1,2,3,4,5,6,7,8,9,10,11,12,13,14,15,16,17,18,19,20,21,22,23],\"value\":{\"__ndarray__\":\"AAAAAP65wD8AAABgdlmyPwAAAKBzrKU/AAAA4ATonD8AAADgiDKYPwAAAOAREpc/AAAAYA0klD8AAACAdAKSPwAAAECuGJA/AAAAICzliz8AAAAAgAuGPwAAAEC+F4g/AAAAAF6hgj8AAAAAOFiDPwAAAEAhqIA/AAAAAHbSgT8AAADgQ6mAPwAAAKAgTH0/AAAAAH6sdj8AAACgVKJ+PwAAAODqhXg/AAAAoDFRez8AAAAAAAD4fw==\",\"dtype\":\"float64\",\"order\":\"little\",\"shape\":[23]}},\"selected\":{\"id\":\"1042\"},\"selection_policy\":{\"id\":\"1055\"}},\"id\":\"1041\",\"type\":\"ColumnDataSource\"},{\"attributes\":{\"overlay\":{\"id\":\"1029\"}},\"id\":\"1027\",\"type\":\"BoxZoomTool\"},{\"attributes\":{},\"id\":\"1012\",\"type\":\"LinearScale\"},{\"attributes\":{\"data\":{\"Variable\":[\"loss_2f\",\"loss_2f\",\"loss_2f\",\"loss_2f\",\"loss_2f\",\"loss_2f\",\"loss_2f\",\"loss_2f\",\"loss_2f\",\"loss_2f\",\"loss_2f\",\"loss_2f\",\"loss_2f\",\"loss_2f\",\"loss_2f\",\"loss_2f\",\"loss_2f\",\"loss_2f\",\"loss_2f\",\"loss_2f\",\"loss_2f\",\"loss_2f\",\"loss_2f\"],\"index\":[1,2,3,4,5,6,7,8,9,10,11,12,13,14,15,16,17,18,19,20,21,22,23],\"value\":{\"__ndarray__\":\"AAAAwP/eqz8AAAAATlWfPwAAAGAZeZQ/AAAAIHhtkT8AAACADO6GPwAAAODMLYg/AAAAoDYahj8AAACARueAPwAAAABAj4E/AAAA4EZWgD8AAABAbRyCPwAAAADBxH0/AAAAwGvIgD8AAACAbhSBPwAAAABa2no/AAAAoD3deD8AAADAsUN/PwAAAGApVHU/AAAAgPmNeT8AAABgj9Z0PwAAACBhbns/AAAAoLi3dj8AAACACtB3Pw==\",\"dtype\":\"float64\",\"order\":\"little\",\"shape\":[23]}},\"selected\":{\"id\":\"1060\"},\"selection_policy\":{\"id\":\"1075\"}},\"id\":\"1059\",\"type\":\"ColumnDataSource\"},{\"attributes\":{},\"id\":\"1042\",\"type\":\"Selection\"},{\"attributes\":{\"text\":\"\",\"text_color\":{\"value\":\"black\"},\"text_font_size\":{\"value\":\"12pt\"}},\"id\":\"1008\",\"type\":\"Title\"},{\"attributes\":{\"data_source\":{\"id\":\"1059\"},\"glyph\":{\"id\":\"1062\"},\"hover_glyph\":null,\"muted_glyph\":{\"id\":\"1064\"},\"nonselection_glyph\":{\"id\":\"1063\"},\"selection_glyph\":null,\"view\":{\"id\":\"1066\"}},\"id\":\"1065\",\"type\":\"GlyphRenderer\"},{\"attributes\":{},\"id\":\"1014\",\"type\":\"LinearScale\"},{\"attributes\":{\"margin\":[5,5,5,5],\"name\":\"HSpacer01563\",\"sizing_mode\":\"stretch_width\"},\"id\":\"1168\",\"type\":\"Spacer\"}],\"root_ids\":[\"1001\"]},\"title\":\"Bokeh Application\",\"version\":\"2.2.3\"}};\n",
       "    var render_items = [{\"docid\":\"529406ea-0595-4503-8c48-341c44b33a42\",\"root_ids\":[\"1001\"],\"roots\":{\"1001\":\"1b9b28c4-6a32-43e1-a2a5-1add7dda3c50\"}}];\n",
       "    root.Bokeh.embed.embed_items_notebook(docs_json, render_items);\n",
       "  }\n",
       "  if (root.Bokeh !== undefined && root.Bokeh.Panel !== undefined) {\n",
       "    embed_document(root);\n",
       "  } else {\n",
       "    var attempts = 0;\n",
       "    var timer = setInterval(function(root) {\n",
       "      if (root.Bokeh !== undefined && root.Bokeh.Panel !== undefined) {\n",
       "        clearInterval(timer);\n",
       "        embed_document(root);\n",
       "      } else if (document.readyState == \"complete\") {\n",
       "        attempts++;\n",
       "        if (attempts > 100) {\n",
       "          clearInterval(timer);\n",
       "          console.log(\"Bokeh: ERROR: Unable to run BokehJS code because BokehJS library is missing\");\n",
       "        }\n",
       "      }\n",
       "    }, 10, root)\n",
       "  }\n",
       "})(window);</script>"
      ],
      "text/plain": [
       ":NdOverlay   [Variable]\n",
       "   :Curve   [index]   (value)"
      ]
     },
     "execution_count": 57,
     "metadata": {
      "application/vnd.holoviews_exec.v0+json": {
       "id": "1001"
      }
     },
     "output_type": "execute_result"
    }
   ],
   "source": [
    "score_loss_lr_1fvs2f(score_dense_lr_1f_df, score_dense_lr_2f_df)"
   ]
  },
  {
   "cell_type": "code",
   "execution_count": 58,
   "metadata": {},
   "outputs": [
    {
     "data": {
      "application/vnd.holoviews_exec.v0+json": "",
      "text/html": [
       "<div id='1220'>\n",
       "\n",
       "\n",
       "\n",
       "\n",
       "\n",
       "  <div class=\"bk-root\" id=\"1d085996-6aa6-4cac-900a-4bf51ea7b775\" data-root-id=\"1220\"></div>\n",
       "</div>\n",
       "<script type=\"application/javascript\">(function(root) {\n",
       "  function embed_document(root) {\n",
       "    var docs_json = {\"88c3fd6a-3847-433b-8c89-ced8721b5e20\":{\"roots\":{\"references\":[{\"attributes\":{},\"id\":\"1247\",\"type\":\"ResetTool\"},{\"attributes\":{},\"id\":\"1245\",\"type\":\"WheelZoomTool\"},{\"attributes\":{},\"id\":\"1244\",\"type\":\"PanTool\"},{\"attributes\":{},\"id\":\"1279\",\"type\":\"Selection\"},{\"attributes\":{\"overlay\":{\"id\":\"1248\"}},\"id\":\"1246\",\"type\":\"BoxZoomTool\"},{\"attributes\":{\"source\":{\"id\":\"1260\"}},\"id\":\"1267\",\"type\":\"CDSView\"},{\"attributes\":{},\"id\":\"1257\",\"type\":\"BasicTickFormatter\"},{\"attributes\":{},\"id\":\"1259\",\"type\":\"BasicTickFormatter\"},{\"attributes\":{\"text\":\"\",\"text_color\":{\"value\":\"black\"},\"text_font_size\":{\"value\":\"12pt\"}},\"id\":\"1227\",\"type\":\"Title\"},{\"attributes\":{\"line_alpha\":0.1,\"line_color\":\"#ff7e0e\",\"line_width\":2,\"x\":{\"field\":\"index\"},\"y\":{\"field\":\"value\"}},\"id\":\"1282\",\"type\":\"Line\"},{\"attributes\":{\"data_source\":{\"id\":\"1278\"},\"glyph\":{\"id\":\"1281\"},\"hover_glyph\":null,\"muted_glyph\":{\"id\":\"1283\"},\"nonselection_glyph\":{\"id\":\"1282\"},\"selection_glyph\":null,\"view\":{\"id\":\"1285\"}},\"id\":\"1284\",\"type\":\"GlyphRenderer\"},{\"attributes\":{},\"id\":\"1231\",\"type\":\"LinearScale\"},{\"attributes\":{\"axis_label\":\"\",\"bounds\":\"auto\",\"formatter\":{\"id\":\"1257\"},\"major_label_orientation\":\"horizontal\",\"ticker\":{\"id\":\"1236\"}},\"id\":\"1235\",\"type\":\"LinearAxis\"},{\"attributes\":{},\"id\":\"1233\",\"type\":\"LinearScale\"},{\"attributes\":{},\"id\":\"1236\",\"type\":\"BasicTicker\"},{\"attributes\":{},\"id\":\"1261\",\"type\":\"Selection\"},{\"attributes\":{\"margin\":[5,5,5,5],\"name\":\"HSpacer02009\",\"sizing_mode\":\"stretch_width\"},\"id\":\"1387\",\"type\":\"Spacer\"},{\"attributes\":{\"axis\":{\"id\":\"1235\"},\"grid_line_color\":null,\"ticker\":null},\"id\":\"1238\",\"type\":\"Grid\"},{\"attributes\":{\"click_policy\":\"mute\",\"items\":[{\"id\":\"1277\"},{\"id\":\"1296\"}],\"location\":[0,0],\"title\":\"Variable\"},\"id\":\"1276\",\"type\":\"Legend\"},{\"attributes\":{\"end\":0.2944421749562025,\"reset_end\":0.2944421749562025,\"reset_start\":0.027774116024374962,\"start\":0.027774116024374962,\"tags\":[[[\"value\",\"value\",null]]]},\"id\":\"1223\",\"type\":\"Range1d\"},{\"attributes\":{\"line_color\":\"#1f77b3\",\"line_width\":2,\"x\":{\"field\":\"index\"},\"y\":{\"field\":\"value\"}},\"id\":\"1263\",\"type\":\"Line\"},{\"attributes\":{\"label\":{\"value\":\"mae_1f\"},\"renderers\":[{\"id\":\"1266\"}]},\"id\":\"1277\",\"type\":\"LegendItem\"},{\"attributes\":{\"active_drag\":\"auto\",\"active_inspect\":\"auto\",\"active_multi\":null,\"active_scroll\":\"auto\",\"active_tap\":\"auto\",\"tools\":[{\"id\":\"1224\"},{\"id\":\"1243\"},{\"id\":\"1244\"},{\"id\":\"1245\"},{\"id\":\"1246\"},{\"id\":\"1247\"}]},\"id\":\"1249\",\"type\":\"Toolbar\"},{\"attributes\":{\"source\":{\"id\":\"1278\"}},\"id\":\"1285\",\"type\":\"CDSView\"},{\"attributes\":{},\"id\":\"1274\",\"type\":\"UnionRenderers\"},{\"attributes\":{\"axis\":{\"id\":\"1239\"},\"dimension\":1,\"grid_line_color\":null,\"ticker\":null},\"id\":\"1242\",\"type\":\"Grid\"},{\"attributes\":{\"data\":{\"Variable\":[\"mae_2f\",\"mae_2f\",\"mae_2f\",\"mae_2f\",\"mae_2f\",\"mae_2f\",\"mae_2f\",\"mae_2f\",\"mae_2f\",\"mae_2f\",\"mae_2f\",\"mae_2f\",\"mae_2f\",\"mae_2f\",\"mae_2f\",\"mae_2f\",\"mae_2f\",\"mae_2f\",\"mae_2f\",\"mae_2f\",\"mae_2f\",\"mae_2f\",\"mae_2f\"],\"index\":[1,2,3,4,5,6,7,8,9,10,11,12,13,14,15,16,17,18,19,20,21,22,23],\"value\":{\"__ndarray__\":\"AAAAYFVmxj8AAACg2FTBPwAAAECRZrw/AAAAoOqvuT8AAACAK9O0PwAAACC5t7Q/AAAAQA/Xsz8AAACgenaxPwAAAKBOZ7E/AAAAgDfpsD8AAADAgSKxPwAAAMC5ga8/AAAAYDtKsD8AAAAA/vuvPwAAAEA2Ba4/AAAAYGzNqz8AAACAOT2vPwAAAOCO/ao/AAAAYKdIrD8AAACgIpmpPwAAAEB9y6w/AAAAgCkyqj8AAAAgmISqPw==\",\"dtype\":\"float64\",\"order\":\"little\",\"shape\":[23]}},\"selected\":{\"id\":\"1279\"},\"selection_policy\":{\"id\":\"1294\"}},\"id\":\"1278\",\"type\":\"ColumnDataSource\"},{\"attributes\":{\"line_color\":\"#ff7e0e\",\"line_width\":2,\"x\":{\"field\":\"index\"},\"y\":{\"field\":\"value\"}},\"id\":\"1281\",\"type\":\"Line\"},{\"attributes\":{\"children\":[{\"id\":\"1221\"},{\"id\":\"1226\"},{\"id\":\"1387\"}],\"margin\":[0,0,0,0],\"name\":\"Row02004\",\"tags\":[\"embedded\"]},\"id\":\"1220\",\"type\":\"Row\"},{\"attributes\":{},\"id\":\"1240\",\"type\":\"BasicTicker\"},{\"attributes\":{\"data\":{\"Variable\":[\"mae_1f\",\"mae_1f\",\"mae_1f\",\"mae_1f\",\"mae_1f\",\"mae_1f\",\"mae_1f\",\"mae_1f\",\"mae_1f\",\"mae_1f\",\"mae_1f\",\"mae_1f\",\"mae_1f\",\"mae_1f\",\"mae_1f\",\"mae_1f\",\"mae_1f\",\"mae_1f\",\"mae_1f\",\"mae_1f\",\"mae_1f\",\"mae_1f\",\"mae_1f\"],\"index\":[1,2,3,4,5,6,7,8,9,10,11,12,13,14,15,16,17,18,19,20,21,22,23],\"value\":{\"__ndarray__\":\"AAAAwAxs0T8AAABAyi/IPwAAAOBuksI/AAAAwK1PwD8AAACgxBa/PwAAAIBTor0/AAAAYNMuvD8AAABAthq6PwAAAODMnbg/AAAAwDdytj8AAADgQJ6zPwAAAAAP5LM/AAAAQH15sj8AAADA1P2xPwAAAMAJbLA/AAAAAMZOsD8AAADApF6vPwAAAGDEH60/AAAAAKQ0qz8AAADAJOyrPwAAAGCzjao/AAAAgFmrqj8AAAAAAAD4fw==\",\"dtype\":\"float64\",\"order\":\"little\",\"shape\":[23]}},\"selected\":{\"id\":\"1261\"},\"selection_policy\":{\"id\":\"1274\"}},\"id\":\"1260\",\"type\":\"ColumnDataSource\"},{\"attributes\":{\"end\":23.0,\"reset_end\":23.0,\"reset_start\":1.0,\"start\":1.0,\"tags\":[[[\"index\",\"index\",null]]]},\"id\":\"1222\",\"type\":\"Range1d\"},{\"attributes\":{\"axis_label\":\"\",\"bounds\":\"auto\",\"formatter\":{\"id\":\"1259\"},\"major_label_orientation\":\"horizontal\",\"ticker\":{\"id\":\"1240\"}},\"id\":\"1239\",\"type\":\"LinearAxis\"},{\"attributes\":{\"line_alpha\":0.1,\"line_color\":\"#1f77b3\",\"line_width\":2,\"x\":{\"field\":\"index\"},\"y\":{\"field\":\"value\"}},\"id\":\"1264\",\"type\":\"Line\"},{\"attributes\":{\"bottom_units\":\"screen\",\"fill_alpha\":0.5,\"fill_color\":\"lightgrey\",\"left_units\":\"screen\",\"level\":\"overlay\",\"line_alpha\":1.0,\"line_color\":\"black\",\"line_dash\":[4,4],\"line_width\":2,\"right_units\":\"screen\",\"top_units\":\"screen\"},\"id\":\"1248\",\"type\":\"BoxAnnotation\"},{\"attributes\":{\"margin\":[5,5,5,5],\"name\":\"HSpacer02008\",\"sizing_mode\":\"stretch_width\"},\"id\":\"1221\",\"type\":\"Spacer\"},{\"attributes\":{},\"id\":\"1294\",\"type\":\"UnionRenderers\"},{\"attributes\":{\"label\":{\"value\":\"mae_2f\"},\"renderers\":[{\"id\":\"1284\"}]},\"id\":\"1296\",\"type\":\"LegendItem\"},{\"attributes\":{\"below\":[{\"id\":\"1235\"}],\"center\":[{\"id\":\"1238\"},{\"id\":\"1242\"}],\"left\":[{\"id\":\"1239\"}],\"margin\":[5,5,5,5],\"min_border_bottom\":10,\"min_border_left\":10,\"min_border_right\":10,\"min_border_top\":10,\"plot_height\":300,\"plot_width\":700,\"renderers\":[{\"id\":\"1266\"},{\"id\":\"1284\"}],\"right\":[{\"id\":\"1276\"}],\"sizing_mode\":\"fixed\",\"title\":{\"id\":\"1227\"},\"toolbar\":{\"id\":\"1249\"},\"x_range\":{\"id\":\"1222\"},\"x_scale\":{\"id\":\"1231\"},\"y_range\":{\"id\":\"1223\"},\"y_scale\":{\"id\":\"1233\"}},\"id\":\"1226\",\"subtype\":\"Figure\",\"type\":\"Plot\"},{\"attributes\":{\"data_source\":{\"id\":\"1260\"},\"glyph\":{\"id\":\"1263\"},\"hover_glyph\":null,\"muted_glyph\":{\"id\":\"1265\"},\"nonselection_glyph\":{\"id\":\"1264\"},\"selection_glyph\":null,\"view\":{\"id\":\"1267\"}},\"id\":\"1266\",\"type\":\"GlyphRenderer\"},{\"attributes\":{\"callback\":null,\"renderers\":[{\"id\":\"1266\"},{\"id\":\"1284\"}],\"tags\":[\"hv_created\"],\"tooltips\":[[\"Variable\",\"@{Variable}\"],[\"index\",\"@{index}\"],[\"value\",\"@{value}\"]]},\"id\":\"1224\",\"type\":\"HoverTool\"},{\"attributes\":{\"line_alpha\":0.2,\"line_color\":\"#1f77b3\",\"line_width\":2,\"x\":{\"field\":\"index\"},\"y\":{\"field\":\"value\"}},\"id\":\"1265\",\"type\":\"Line\"},{\"attributes\":{},\"id\":\"1243\",\"type\":\"SaveTool\"},{\"attributes\":{\"line_alpha\":0.2,\"line_color\":\"#ff7e0e\",\"line_width\":2,\"x\":{\"field\":\"index\"},\"y\":{\"field\":\"value\"}},\"id\":\"1283\",\"type\":\"Line\"}],\"root_ids\":[\"1220\"]},\"title\":\"Bokeh Application\",\"version\":\"2.2.3\"}};\n",
       "    var render_items = [{\"docid\":\"88c3fd6a-3847-433b-8c89-ced8721b5e20\",\"root_ids\":[\"1220\"],\"roots\":{\"1220\":\"1d085996-6aa6-4cac-900a-4bf51ea7b775\"}}];\n",
       "    root.Bokeh.embed.embed_items_notebook(docs_json, render_items);\n",
       "  }\n",
       "  if (root.Bokeh !== undefined && root.Bokeh.Panel !== undefined) {\n",
       "    embed_document(root);\n",
       "  } else {\n",
       "    var attempts = 0;\n",
       "    var timer = setInterval(function(root) {\n",
       "      if (root.Bokeh !== undefined && root.Bokeh.Panel !== undefined) {\n",
       "        clearInterval(timer);\n",
       "        embed_document(root);\n",
       "      } else if (document.readyState == \"complete\") {\n",
       "        attempts++;\n",
       "        if (attempts > 100) {\n",
       "          clearInterval(timer);\n",
       "          console.log(\"Bokeh: ERROR: Unable to run BokehJS code because BokehJS library is missing\");\n",
       "        }\n",
       "      }\n",
       "    }, 10, root)\n",
       "  }\n",
       "})(window);</script>"
      ],
      "text/plain": [
       ":NdOverlay   [Variable]\n",
       "   :Curve   [index]   (value)"
      ]
     },
     "execution_count": 58,
     "metadata": {
      "application/vnd.holoviews_exec.v0+json": {
       "id": "1220"
      }
     },
     "output_type": "execute_result"
    }
   ],
   "source": [
    "score_mae_lr_1fvs2f(score_dense_lr_1f_df, score_dense_lr_2f_df)"
   ]
  },
  {
   "cell_type": "code",
   "execution_count": 59,
   "metadata": {},
   "outputs": [
    {
     "data": {
      "application/vnd.holoviews_exec.v0+json": "",
      "text/html": [
       "<div id='1439'>\n",
       "\n",
       "\n",
       "\n",
       "\n",
       "\n",
       "  <div class=\"bk-root\" id=\"5cf0c727-2b86-4d1e-92c2-4e13e4af9139\" data-root-id=\"1439\"></div>\n",
       "</div>\n",
       "<script type=\"application/javascript\">(function(root) {\n",
       "  function embed_document(root) {\n",
       "    var docs_json = {\"c6eb61bb-d59b-436c-8399-18b63a641af9\":{\"roots\":{\"references\":[{\"attributes\":{\"margin\":[5,5,5,5],\"name\":\"HSpacer02478\",\"sizing_mode\":\"stretch_width\"},\"id\":\"1440\",\"type\":\"Spacer\"},{\"attributes\":{\"text\":\"\",\"text_color\":{\"value\":\"black\"},\"text_font_size\":{\"value\":\"12pt\"}},\"id\":\"1447\",\"type\":\"Title\"},{\"attributes\":{\"data\":{\"Variable\":[\"predict_2features\",\"predict_2features\",\"predict_2features\",\"predict_2features\",\"predict_2features\",\"predict_2features\",\"predict_2features\",\"predict_2features\",\"predict_2features\",\"predict_2features\",\"predict_2features\",\"predict_2features\",\"predict_2features\",\"predict_2features\",\"predict_2features\",\"predict_2features\",\"predict_2features\",\"predict_2features\",\"predict_2features\",\"predict_2features\",\"predict_2features\",\"predict_2features\",\"predict_2features\",\"predict_2features\",\"predict_2features\",\"predict_2features\",\"predict_2features\",\"predict_2features\",\"predict_2features\",\"predict_2features\",\"predict_2features\",\"predict_2features\",\"predict_2features\",\"predict_2features\",\"predict_2features\",\"predict_2features\",\"predict_2features\",\"predict_2features\",\"predict_2features\",\"predict_2features\",\"predict_2features\",\"predict_2features\",\"predict_2features\",\"predict_2features\",\"predict_2features\",\"predict_2features\",\"predict_2features\",\"predict_2features\",\"predict_2features\",\"predict_2features\",\"predict_2features\",\"predict_2features\",\"predict_2features\",\"predict_2features\",\"predict_2features\",\"predict_2features\",\"predict_2features\",\"predict_2features\",\"predict_2features\",\"predict_2features\",\"predict_2features\",\"predict_2features\",\"predict_2features\",\"predict_2features\",\"predict_2features\",\"predict_2features\",\"predict_2features\",\"predict_2features\",\"predict_2features\",\"predict_2features\",\"predict_2features\",\"predict_2features\",\"predict_2features\",\"predict_2features\",\"predict_2features\",\"predict_2features\",\"predict_2features\",\"predict_2features\",\"predict_2features\",\"predict_2features\",\"predict_2features\",\"predict_2features\",\"predict_2features\",\"predict_2features\",\"predict_2features\",\"predict_2features\",\"predict_2features\",\"predict_2features\",\"predict_2features\",\"predict_2features\",\"predict_2features\",\"predict_2features\",\"predict_2features\",\"predict_2features\",\"predict_2features\",\"predict_2features\",\"predict_2features\",\"predict_2features\",\"predict_2features\",\"predict_2features\",\"predict_2features\",\"predict_2features\",\"predict_2features\",\"predict_2features\",\"predict_2features\",\"predict_2features\",\"predict_2features\",\"predict_2features\",\"predict_2features\",\"predict_2features\",\"predict_2features\",\"predict_2features\",\"predict_2features\",\"predict_2features\",\"predict_2features\",\"predict_2features\",\"predict_2features\",\"predict_2features\",\"predict_2features\",\"predict_2features\",\"predict_2features\",\"predict_2features\",\"predict_2features\",\"predict_2features\",\"predict_2features\",\"predict_2features\",\"predict_2features\",\"predict_2features\",\"predict_2features\",\"predict_2features\",\"predict_2features\",\"predict_2features\",\"predict_2features\",\"predict_2features\",\"predict_2features\",\"predict_2features\",\"predict_2features\",\"predict_2features\",\"predict_2features\",\"predict_2features\",\"predict_2features\",\"predict_2features\",\"predict_2features\",\"predict_2features\",\"predict_2features\",\"predict_2features\",\"predict_2features\"],\"index\":[0,1,2,3,4,5,6,7,8,9,10,11,12,13,14,15,16,17,18,19,20,21,22,23,24,25,26,27,28,29,30,31,32,33,34,35,36,37,38,39,40,41,42,43,44,45,46,47,48,49,50,51,52,53,54,55,56,57,58,59,60,61,62,63,64,65,66,67,68,69,70,71,72,73,74,75,76,77,78,79,80,81,82,83,84,85,86,87,88,89,90,91,92,93,94,95,96,97,98,99,100,101,102,103,104,105,106,107,108,109,110,111,112,113,114,115,116,117,118,119,120,121,122,123,124,125,126,127,128,129,130,131,132,133,134,135,136,137,138,139,140,141,142,143,144,145,146],\"value\":{\"__ndarray__\":\"mEM6PwOfST8mHz4/3203P2YLNj8knDY/vQY3P1BWNz9GXjc/zTNGP/ZoTD+g3k0/IlpOP7riPz+KnE8/dW0/P7QpTD+KOkQ/7H1MP/0nWD9sjFY/XsBZPw24TD92R2k/DbhMP3ZHaT/Jtl0/SupPP5sXUj8a3lk/7rFWP4CJVj9C/lw/RAJjP7FOVj8yIlQ/OMdgP/KSYj/IuVc/BKxeP9R4Xj+4S2I/IVVgP2BbYD8+pWE/CnxnP2grWz/6A14/n/1dPz8CYz/YVVo/CpVaP3eKXj9Oj2U/+G5zP06PZT/4bnM/cdlnP/42az/aVVs/0FNXP1PHZD8s0Wo/hJZyPzwbZD/gtmY/UNdpP9uEZj/64Gk/rcBlPyw0YT+jmGA/mEdmP4z1ZD+GoWE/1BhdP5R1Yj9eSmQ/7RZiP2bLVz9z1Us/BehlP6ZCYj+UIl4/jGNcP+ENXj8oNVw/IC5YP3/jXj9colc/Bt5aP7cYXD8sr2A/txhcPyyvYD+kw2M/fGlsPwTVXD8c8Gc/iHtfP4z3YT/sN2k/MJhmPzkJYT/nLGk/XZZePwgXYz/NWmQ/Jl5nP+QDaT9QzWE/yK1nP7QxZj+UlGI/tOZiP6rCZD8Rp10/FqZdP4lkcD+5ZV4/YktqP6bJaj/EP2w/6otpP2ndZz+WbGY/B4BnPxAaaj+7CW4/NqVuP8hxYz8benE/tJVsP5h7aD9Yi2s/KqVjPyB6bD/ukGU/GLhoP5oPZz+7om0/4HVtP7Jsaz9We24/IWtqPw63bz/xdWY/\",\"dtype\":\"float32\",\"order\":\"little\",\"shape\":[147]}},\"selected\":{\"id\":\"1518\"},\"selection_policy\":{\"id\":\"1535\"}},\"id\":\"1517\",\"type\":\"ColumnDataSource\"},{\"attributes\":{},\"id\":\"1481\",\"type\":\"Selection\"},{\"attributes\":{\"active_drag\":\"auto\",\"active_inspect\":\"auto\",\"active_multi\":null,\"active_scroll\":\"auto\",\"active_tap\":\"auto\",\"tools\":[{\"id\":\"1443\"},{\"id\":\"1463\"},{\"id\":\"1464\"},{\"id\":\"1465\"},{\"id\":\"1466\"},{\"id\":\"1467\"}]},\"id\":\"1469\",\"type\":\"Toolbar\"},{\"attributes\":{},\"id\":\"1494\",\"type\":\"UnionRenderers\"},{\"attributes\":{\"below\":[{\"id\":\"1455\"}],\"center\":[{\"id\":\"1458\"},{\"id\":\"1462\"}],\"left\":[{\"id\":\"1459\"}],\"margin\":[5,5,5,5],\"min_border_bottom\":10,\"min_border_left\":10,\"min_border_right\":10,\"min_border_top\":10,\"plot_height\":300,\"plot_width\":700,\"renderers\":[{\"id\":\"1486\"},{\"id\":\"1504\"},{\"id\":\"1523\"}],\"right\":[{\"id\":\"1496\"}],\"sizing_mode\":\"fixed\",\"title\":{\"id\":\"1447\"},\"toolbar\":{\"id\":\"1469\"},\"x_range\":{\"id\":\"1441\"},\"x_scale\":{\"id\":\"1451\"},\"y_range\":{\"id\":\"1442\"},\"y_scale\":{\"id\":\"1453\"}},\"id\":\"1446\",\"subtype\":\"Figure\",\"type\":\"Plot\"},{\"attributes\":{\"click_policy\":\"mute\",\"items\":[{\"id\":\"1497\"},{\"id\":\"1516\"},{\"id\":\"1537\"}],\"location\":[0,0],\"title\":\"Variable\"},\"id\":\"1496\",\"type\":\"Legend\"},{\"attributes\":{},\"id\":\"1463\",\"type\":\"SaveTool\"},{\"attributes\":{\"axis_label\":\"\",\"bounds\":\"auto\",\"formatter\":{\"id\":\"1479\"},\"major_label_orientation\":\"horizontal\",\"ticker\":{\"id\":\"1460\"}},\"id\":\"1459\",\"type\":\"LinearAxis\"},{\"attributes\":{},\"id\":\"1464\",\"type\":\"PanTool\"},{\"attributes\":{\"data\":{\"Variable\":[\"actual\",\"actual\",\"actual\",\"actual\",\"actual\",\"actual\",\"actual\",\"actual\",\"actual\",\"actual\",\"actual\",\"actual\",\"actual\",\"actual\",\"actual\",\"actual\",\"actual\",\"actual\",\"actual\",\"actual\",\"actual\",\"actual\",\"actual\",\"actual\",\"actual\",\"actual\",\"actual\",\"actual\",\"actual\",\"actual\",\"actual\",\"actual\",\"actual\",\"actual\",\"actual\",\"actual\",\"actual\",\"actual\",\"actual\",\"actual\",\"actual\",\"actual\",\"actual\",\"actual\",\"actual\",\"actual\",\"actual\",\"actual\",\"actual\",\"actual\",\"actual\",\"actual\",\"actual\",\"actual\",\"actual\",\"actual\",\"actual\",\"actual\",\"actual\",\"actual\",\"actual\",\"actual\",\"actual\",\"actual\",\"actual\",\"actual\",\"actual\",\"actual\",\"actual\",\"actual\",\"actual\",\"actual\",\"actual\",\"actual\",\"actual\",\"actual\",\"actual\",\"actual\",\"actual\",\"actual\",\"actual\",\"actual\",\"actual\",\"actual\",\"actual\",\"actual\",\"actual\",\"actual\",\"actual\",\"actual\",\"actual\",\"actual\",\"actual\",\"actual\",\"actual\",\"actual\",\"actual\",\"actual\",\"actual\",\"actual\",\"actual\",\"actual\",\"actual\",\"actual\",\"actual\",\"actual\",\"actual\",\"actual\",\"actual\",\"actual\",\"actual\",\"actual\",\"actual\",\"actual\",\"actual\",\"actual\",\"actual\",\"actual\",\"actual\",\"actual\",\"actual\",\"actual\",\"actual\",\"actual\",\"actual\",\"actual\",\"actual\",\"actual\",\"actual\",\"actual\",\"actual\",\"actual\",\"actual\",\"actual\",\"actual\",\"actual\",\"actual\",\"actual\",\"actual\",\"actual\",\"actual\",\"actual\",\"actual\",\"actual\",\"actual\",\"actual\",\"actual\"],\"index\":[0,1,2,3,4,5,6,7,8,9,10,11,12,13,14,15,16,17,18,19,20,21,22,23,24,25,26,27,28,29,30,31,32,33,34,35,36,37,38,39,40,41,42,43,44,45,46,47,48,49,50,51,52,53,54,55,56,57,58,59,60,61,62,63,64,65,66,67,68,69,70,71,72,73,74,75,76,77,78,79,80,81,82,83,84,85,86,87,88,89,90,91,92,93,94,95,96,97,98,99,100,101,102,103,104,105,106,107,108,109,110,111,112,113,114,115,116,117,118,119,120,121,122,123,124,125,126,127,128,129,130,131,132,133,134,135,136,137,138,139,140,141,142,143,144,145,146],\"value\":{\"__ndarray__\":\"QzLu9oP05z/LEcLHX/XnP2pvEL+noec/M0YQazSV5z8BMdzEd9nnP++eag1YNeg/hFZQvMxE6D/knpXwVN3nP3PE3gStoOg/aKqLJs8w6j+LTD+CdHToP3m1Wh8nvOg/QK+qXvDk6D8apDEskqnpP7JHIEpTwOk/SAR5pPXj6T/gxUSqxRvqPxoDEazveOo/IE75mplP6z+6Hh6j8sPrP+q1gVxJhOw/nhN6jZfg7D8gLwgukSPtPyAvCC6RI+0/IC8ILpEj7T8gLwgukSPtP6zw/hZeA+0/6Hnybyjq6z+6S1SNiiHsP65zQq/xEuw/3kznaI006z80o5z9oabsP1I6Y93vsew/LgO75fUo6z+aQe/fJfHqP/AVdWGgXus/Tnck0gkE6z8GwSVypGfrPwDVHANYYOs/Dp2WdnF/7T+w15TafPbsPwphB4pQ5ew/gNG5Nkl37T/6nOw8a8/sPyKt2Br3Huw/HGLwK01I6z+slpJCLkjsPwI0/IK1L+w/BiAF8gE37D/0vmKfXHHsP3CzMhU0puw/FP2Je8hZ7D+eOz3MASrtP2jv7ORR6Ow/aO/s5FHo7D9o7+zkUejsP2jv7ORR6Ow/RI96ifEF7T9AOSui2nvtPzZhW/1cRe4/aAKlDQ8u7z+8lSj3Ou3uPwEAAAAAAPA/SMsJdhKg7T8EssxvGyvrP3SayNhSmew/JGLFSFCg6z8E5HUF4ZzrP/ZgXVBKNew/cCyQVmyN6z/EuqCUajjrP3qlwrSnzOo/PsJih60q6z9as4jbLfbrP55Vu43cQes/PDqsQ+wG7D8wj9BP61XsP4AYbuK77Os/kg4yxWZ07D+CfMANR9DsP25P4Omowus/aL1DT4x27D++BbRmEbfrP4JKF3iBXuw/UhcG6rWB7D8iPmEwGmDtPyC7HZiGUO4/6Lnggn2N7j9axkAE6zvuPxDUsrdkBe4/TORIz/YE7j/eMmmnshztP94yaaeyHO0/3jJpp7Ic7T/eMmmnshztP2Irp7RvKu0/Hr72oRg07T/UZD0gdTbtP5xjAAtsc+0/jiIpVhpt7D9eHE6y5u3sP5xQSOKuLes/TqnNZ8916z+oI+cUGijrP7zJJHrwHOs/JM/pRT2h7j/yMhPhuMztPzKeKVJ0kuw/VoDLwG557T8WZk9SgVHtPwy7c16AoO0/LDnDoe+j7T98ve2IkibtP17vF8hOkOw/BHCLb9bJ7D8c7gWWQnXsP/SDreOGauw/wpuvJ2IM7T9UTiIrqQftP0yK3PrGSe0/yLTugEZx7T9Ctz3IW0/tPyoCp2D8He0//rC46iEg7T/uGdSH1GftPxIlTboyo+w/AtJD+cV87D+QWUWXDfPsPwiEVx2NGu0/vLQZZEMZ7T8Qzz8MN/HtP65ZxO0W++0/ZGc2oZDE7T/8Xx7oU4LuPzx/DQJvvu4/QDT6L8g/7j8SOAXj7+juP753Sw8szO4/zgRKGx5c7j+qpNe/vXnuP1iPJMP3te0/qkpr642+7T+khiW7qwDuP5qGUJ6oqO0/utL2S1I67T8YcDWp3HntP7S5t/Jt1ew/\",\"dtype\":\"float64\",\"order\":\"little\",\"shape\":[147]}},\"selected\":{\"id\":\"1499\"},\"selection_policy\":{\"id\":\"1514\"}},\"id\":\"1498\",\"type\":\"ColumnDataSource\"},{\"attributes\":{\"line_alpha\":0.2,\"line_color\":\"#ff7e0e\",\"line_width\":2,\"x\":{\"field\":\"index\"},\"y\":{\"field\":\"value\"}},\"id\":\"1503\",\"type\":\"Line\"},{\"attributes\":{},\"id\":\"1467\",\"type\":\"ResetTool\"},{\"attributes\":{\"line_alpha\":0.2,\"line_color\":\"#1f77b3\",\"line_width\":2,\"x\":{\"field\":\"index\"},\"y\":{\"field\":\"value\"}},\"id\":\"1485\",\"type\":\"Line\"},{\"attributes\":{\"source\":{\"id\":\"1498\"}},\"id\":\"1505\",\"type\":\"CDSView\"},{\"attributes\":{},\"id\":\"1465\",\"type\":\"WheelZoomTool\"},{\"attributes\":{},\"id\":\"1518\",\"type\":\"Selection\"},{\"attributes\":{\"overlay\":{\"id\":\"1468\"}},\"id\":\"1466\",\"type\":\"BoxZoomTool\"},{\"attributes\":{\"line_alpha\":0.2,\"line_color\":\"#2ba02b\",\"line_width\":2,\"x\":{\"field\":\"index\"},\"y\":{\"field\":\"value\"}},\"id\":\"1522\",\"type\":\"Line\"},{\"attributes\":{\"margin\":[5,5,5,5],\"name\":\"HSpacer02479\",\"sizing_mode\":\"stretch_width\"},\"id\":\"1646\",\"type\":\"Spacer\"},{\"attributes\":{},\"id\":\"1451\",\"type\":\"LinearScale\"},{\"attributes\":{\"source\":{\"id\":\"1517\"}},\"id\":\"1524\",\"type\":\"CDSView\"},{\"attributes\":{\"end\":146.0,\"reset_end\":146.0,\"reset_start\":0.0,\"tags\":[[[\"index\",\"index\",null]]]},\"id\":\"1441\",\"type\":\"Range1d\"},{\"attributes\":{\"callback\":null,\"renderers\":[{\"id\":\"1486\"},{\"id\":\"1504\"},{\"id\":\"1523\"}],\"tags\":[\"hv_created\"],\"tooltips\":[[\"Variable\",\"@{Variable}\"],[\"index\",\"@{index}\"],[\"value\",\"@{value}\"]]},\"id\":\"1443\",\"type\":\"HoverTool\"},{\"attributes\":{\"line_color\":\"#1f77b3\",\"line_width\":2,\"x\":{\"field\":\"index\"},\"y\":{\"field\":\"value\"}},\"id\":\"1483\",\"type\":\"Line\"},{\"attributes\":{\"line_color\":\"#2ba02b\",\"line_width\":2,\"x\":{\"field\":\"index\"},\"y\":{\"field\":\"value\"}},\"id\":\"1520\",\"type\":\"Line\"},{\"attributes\":{\"axis_label\":\"\",\"bounds\":\"auto\",\"formatter\":{\"id\":\"1477\"},\"major_label_orientation\":\"horizontal\",\"ticker\":{\"id\":\"1456\"}},\"id\":\"1455\",\"type\":\"LinearAxis\"},{\"attributes\":{},\"id\":\"1453\",\"type\":\"LinearScale\"},{\"attributes\":{\"line_color\":\"#ff7e0e\",\"line_width\":2,\"x\":{\"field\":\"index\"},\"y\":{\"field\":\"value\"}},\"id\":\"1501\",\"type\":\"Line\"},{\"attributes\":{},\"id\":\"1456\",\"type\":\"BasicTicker\"},{\"attributes\":{},\"id\":\"1535\",\"type\":\"UnionRenderers\"},{\"attributes\":{\"axis\":{\"id\":\"1455\"},\"grid_line_color\":null,\"ticker\":null},\"id\":\"1458\",\"type\":\"Grid\"},{\"attributes\":{\"data_source\":{\"id\":\"1498\"},\"glyph\":{\"id\":\"1501\"},\"hover_glyph\":null,\"muted_glyph\":{\"id\":\"1503\"},\"nonselection_glyph\":{\"id\":\"1502\"},\"selection_glyph\":null,\"view\":{\"id\":\"1505\"}},\"id\":\"1504\",\"type\":\"GlyphRenderer\"},{\"attributes\":{\"data_source\":{\"id\":\"1517\"},\"glyph\":{\"id\":\"1520\"},\"hover_glyph\":null,\"muted_glyph\":{\"id\":\"1522\"},\"nonselection_glyph\":{\"id\":\"1521\"},\"selection_glyph\":null,\"view\":{\"id\":\"1524\"}},\"id\":\"1523\",\"type\":\"GlyphRenderer\"},{\"attributes\":{\"data\":{\"Variable\":[\"predict_1feature\",\"predict_1feature\",\"predict_1feature\",\"predict_1feature\",\"predict_1feature\",\"predict_1feature\",\"predict_1feature\",\"predict_1feature\",\"predict_1feature\",\"predict_1feature\",\"predict_1feature\",\"predict_1feature\",\"predict_1feature\",\"predict_1feature\",\"predict_1feature\",\"predict_1feature\",\"predict_1feature\",\"predict_1feature\",\"predict_1feature\",\"predict_1feature\",\"predict_1feature\",\"predict_1feature\",\"predict_1feature\",\"predict_1feature\",\"predict_1feature\",\"predict_1feature\",\"predict_1feature\",\"predict_1feature\",\"predict_1feature\",\"predict_1feature\",\"predict_1feature\",\"predict_1feature\",\"predict_1feature\",\"predict_1feature\",\"predict_1feature\",\"predict_1feature\",\"predict_1feature\",\"predict_1feature\",\"predict_1feature\",\"predict_1feature\",\"predict_1feature\",\"predict_1feature\",\"predict_1feature\",\"predict_1feature\",\"predict_1feature\",\"predict_1feature\",\"predict_1feature\",\"predict_1feature\",\"predict_1feature\",\"predict_1feature\",\"predict_1feature\",\"predict_1feature\",\"predict_1feature\",\"predict_1feature\",\"predict_1feature\",\"predict_1feature\",\"predict_1feature\",\"predict_1feature\",\"predict_1feature\",\"predict_1feature\",\"predict_1feature\",\"predict_1feature\",\"predict_1feature\",\"predict_1feature\",\"predict_1feature\",\"predict_1feature\",\"predict_1feature\",\"predict_1feature\",\"predict_1feature\",\"predict_1feature\",\"predict_1feature\",\"predict_1feature\",\"predict_1feature\",\"predict_1feature\",\"predict_1feature\",\"predict_1feature\",\"predict_1feature\",\"predict_1feature\",\"predict_1feature\",\"predict_1feature\",\"predict_1feature\",\"predict_1feature\",\"predict_1feature\",\"predict_1feature\",\"predict_1feature\",\"predict_1feature\",\"predict_1feature\",\"predict_1feature\",\"predict_1feature\",\"predict_1feature\",\"predict_1feature\",\"predict_1feature\",\"predict_1feature\",\"predict_1feature\",\"predict_1feature\",\"predict_1feature\",\"predict_1feature\",\"predict_1feature\",\"predict_1feature\",\"predict_1feature\",\"predict_1feature\",\"predict_1feature\",\"predict_1feature\",\"predict_1feature\",\"predict_1feature\",\"predict_1feature\",\"predict_1feature\",\"predict_1feature\",\"predict_1feature\",\"predict_1feature\",\"predict_1feature\",\"predict_1feature\",\"predict_1feature\",\"predict_1feature\",\"predict_1feature\",\"predict_1feature\",\"predict_1feature\",\"predict_1feature\",\"predict_1feature\",\"predict_1feature\",\"predict_1feature\",\"predict_1feature\",\"predict_1feature\",\"predict_1feature\",\"predict_1feature\",\"predict_1feature\",\"predict_1feature\",\"predict_1feature\",\"predict_1feature\",\"predict_1feature\",\"predict_1feature\",\"predict_1feature\",\"predict_1feature\",\"predict_1feature\",\"predict_1feature\",\"predict_1feature\",\"predict_1feature\",\"predict_1feature\",\"predict_1feature\",\"predict_1feature\",\"predict_1feature\",\"predict_1feature\",\"predict_1feature\",\"predict_1feature\",\"predict_1feature\",\"predict_1feature\",\"predict_1feature\"],\"index\":[0,1,2,3,4,5,6,7,8,9,10,11,12,13,14,15,16,17,18,19,20,21,22,23,24,25,26,27,28,29,30,31,32,33,34,35,36,37,38,39,40,41,42,43,44,45,46,47,48,49,50,51,52,53,54,55,56,57,58,59,60,61,62,63,64,65,66,67,68,69,70,71,72,73,74,75,76,77,78,79,80,81,82,83,84,85,86,87,88,89,90,91,92,93,94,95,96,97,98,99,100,101,102,103,104,105,106,107,108,109,110,111,112,113,114,115,116,117,118,119,120,121,122,123,124,125,126,127,128,129,130,131,132,133,134,135,136,137,138,139,140,141,142,143,144,145,146],\"value\":{\"__ndarray__\":\"f/4oP5+ZKT8ADSo/dggrP394Kz8I5Cs/QjMsP25uLD9YdCw/JwMtP+S8LT/wEi4/ynMuPx29Lj/rLS8/qkAwP+J5ND//GDU/LOI1P2DINz+Q8zg/JBw7PwZBPD8GQTw/kHdMP5B3TD8nIz0/w4A+P6J0Pz/ibEA/XaJBP5z2QT9qM0M/S7JDP4fvQz+d+0M/V1xEPwSGRD85jUQ/CnVEP0jARD8CAkU/bgNFP4IcRT/yDEU/xRxFP6/bRD+i60Q/4ylFP1N3RT9cZ0U/eopFPxBwRT/GCUY/xglGP9K+UD/SvlA/hqBGP1kfRz+k3Ec/d7hIP9UOSz8dMEw/Nh5NP0tATT8790w/NFxNP7btTD+Jv0w/iq1MP2pZTD+5Akw/W01LP9fHSj9Yqkk/MsNIP2HRRz/A2EY/gPJFP9YXRT9zI0Q/a5RDP+xjQz/bjUM/PHxDP8O/Qz8oV0Q/YCZFPzHaRT/ep0Y/rH5HP6J1SD+idUg/q9FKP6vRSj/YCkk/MmdJP8gdSj/Ds0o/9yBLP+gnSz/2dEs/EhNLP0WrSj/3fEo/3GtKPyhzSz+rS0s/w7NKP395Sj+aQ0o/fyVKPwNOSj/cTEo/yhtKPz/7ST8Zr0k/U65JP3W3ST93RUo/pWdLP04aTD/vkUw/NgVMP5aNSz9db0s/YXRLP64oSz9iDEs/QORKP7S6Sj9s90o/G2RLPzqvSz+JTEw/Ev9MP2nOTT/MSk4/EsxOP24STz/Ta08/W5lPP1zKTz8QM1A/6IxQP0OiUD8msFA/\",\"dtype\":\"float32\",\"order\":\"little\",\"shape\":[147]}},\"selected\":{\"id\":\"1481\"},\"selection_policy\":{\"id\":\"1494\"}},\"id\":\"1480\",\"type\":\"ColumnDataSource\"},{\"attributes\":{\"line_alpha\":0.1,\"line_color\":\"#2ba02b\",\"line_width\":2,\"x\":{\"field\":\"index\"},\"y\":{\"field\":\"value\"}},\"id\":\"1521\",\"type\":\"Line\"},{\"attributes\":{\"label\":{\"value\":\"actual\"},\"renderers\":[{\"id\":\"1504\"}]},\"id\":\"1516\",\"type\":\"LegendItem\"},{\"attributes\":{\"data_source\":{\"id\":\"1480\"},\"glyph\":{\"id\":\"1483\"},\"hover_glyph\":null,\"muted_glyph\":{\"id\":\"1485\"},\"nonselection_glyph\":{\"id\":\"1484\"},\"selection_glyph\":null,\"view\":{\"id\":\"1487\"}},\"id\":\"1486\",\"type\":\"GlyphRenderer\"},{\"attributes\":{\"axis\":{\"id\":\"1459\"},\"dimension\":1,\"grid_line_color\":null,\"ticker\":null},\"id\":\"1462\",\"type\":\"Grid\"},{\"attributes\":{},\"id\":\"1477\",\"type\":\"BasicTickFormatter\"},{\"attributes\":{\"label\":{\"value\":\"predict_2features\"},\"renderers\":[{\"id\":\"1523\"}]},\"id\":\"1537\",\"type\":\"LegendItem\"},{\"attributes\":{},\"id\":\"1479\",\"type\":\"BasicTickFormatter\"},{\"attributes\":{},\"id\":\"1460\",\"type\":\"BasicTicker\"},{\"attributes\":{},\"id\":\"1499\",\"type\":\"Selection\"},{\"attributes\":{\"line_alpha\":0.1,\"line_color\":\"#ff7e0e\",\"line_width\":2,\"x\":{\"field\":\"index\"},\"y\":{\"field\":\"value\"}},\"id\":\"1502\",\"type\":\"Line\"},{\"attributes\":{\"source\":{\"id\":\"1480\"}},\"id\":\"1487\",\"type\":\"CDSView\"},{\"attributes\":{\"bottom_units\":\"screen\",\"fill_alpha\":0.5,\"fill_color\":\"lightgrey\",\"left_units\":\"screen\",\"level\":\"overlay\",\"line_alpha\":1.0,\"line_color\":\"black\",\"line_dash\":[4,4],\"line_width\":2,\"right_units\":\"screen\",\"top_units\":\"screen\"},\"id\":\"1468\",\"type\":\"BoxAnnotation\"},{\"attributes\":{\"line_alpha\":0.1,\"line_color\":\"#1f77b3\",\"line_width\":2,\"x\":{\"field\":\"index\"},\"y\":{\"field\":\"value\"}},\"id\":\"1484\",\"type\":\"Line\"},{\"attributes\":{\"label\":{\"value\":\"predict_1feature\"},\"renderers\":[{\"id\":\"1486\"}]},\"id\":\"1497\",\"type\":\"LegendItem\"},{\"attributes\":{},\"id\":\"1514\",\"type\":\"UnionRenderers\"},{\"attributes\":{\"children\":[{\"id\":\"1440\"},{\"id\":\"1446\"},{\"id\":\"1646\"}],\"margin\":[0,0,0,0],\"name\":\"Row02474\",\"tags\":[\"embedded\"]},\"id\":\"1439\",\"type\":\"Row\"},{\"attributes\":{\"end\":1.033986669778824,\"reset_end\":1.033986669778824,\"reset_start\":0.6261466324329376,\"start\":0.6261466324329376,\"tags\":[[[\"value\",\"value\",null]]]},\"id\":\"1442\",\"type\":\"Range1d\"}],\"root_ids\":[\"1439\"]},\"title\":\"Bokeh Application\",\"version\":\"2.2.3\"}};\n",
       "    var render_items = [{\"docid\":\"c6eb61bb-d59b-436c-8399-18b63a641af9\",\"root_ids\":[\"1439\"],\"roots\":{\"1439\":\"5cf0c727-2b86-4d1e-92c2-4e13e4af9139\"}}];\n",
       "    root.Bokeh.embed.embed_items_notebook(docs_json, render_items);\n",
       "  }\n",
       "  if (root.Bokeh !== undefined && root.Bokeh.Panel !== undefined) {\n",
       "    embed_document(root);\n",
       "  } else {\n",
       "    var attempts = 0;\n",
       "    var timer = setInterval(function(root) {\n",
       "      if (root.Bokeh !== undefined && root.Bokeh.Panel !== undefined) {\n",
       "        clearInterval(timer);\n",
       "        embed_document(root);\n",
       "      } else if (document.readyState == \"complete\") {\n",
       "        attempts++;\n",
       "        if (attempts > 100) {\n",
       "          clearInterval(timer);\n",
       "          console.log(\"Bokeh: ERROR: Unable to run BokehJS code because BokehJS library is missing\");\n",
       "        }\n",
       "      }\n",
       "    }, 10, root)\n",
       "  }\n",
       "})(window);</script>"
      ],
      "text/plain": [
       ":NdOverlay   [Variable]\n",
       "   :Curve   [index]   (value)"
      ]
     },
     "execution_count": 59,
     "metadata": {
      "application/vnd.holoviews_exec.v0+json": {
       "id": "1439"
      }
     },
     "output_type": "execute_result"
    }
   ],
   "source": [
    "pred_lr_1fvs2f(pred_dense_lr_1f_df,pred_lstm_lr_2f_df)"
   ]
  },
  {
   "cell_type": "code",
   "execution_count": 60,
   "metadata": {},
   "outputs": [
    {
     "data": {
      "application/vnd.holoviews_exec.v0+json": "",
      "text/html": [
       "<div id='1708'>\n",
       "\n",
       "\n",
       "\n",
       "\n",
       "\n",
       "  <div class=\"bk-root\" id=\"63afc377-8881-42eb-92d2-611cc4929ab9\" data-root-id=\"1708\"></div>\n",
       "</div>\n",
       "<script type=\"application/javascript\">(function(root) {\n",
       "  function embed_document(root) {\n",
       "    var docs_json = {\"0b00ab76-bb91-4e0e-b821-c2e41e8e3b7d\":{\"roots\":{\"references\":[{\"attributes\":{\"source\":{\"id\":\"1766\"}},\"id\":\"1773\",\"type\":\"CDSView\"},{\"attributes\":{\"callback\":null,\"renderers\":[{\"id\":\"1754\"},{\"id\":\"1772\"}],\"tags\":[\"hv_created\"],\"tooltips\":[[\"Variable\",\"@{Variable}\"],[\"index\",\"@{index}\"],[\"value\",\"@{value}\"]]},\"id\":\"1712\",\"type\":\"HoverTool\"},{\"attributes\":{\"source\":{\"id\":\"1748\"}},\"id\":\"1755\",\"type\":\"CDSView\"},{\"attributes\":{\"line_color\":\"#ff7e0e\",\"line_width\":2,\"x\":{\"field\":\"index\"},\"y\":{\"field\":\"value\"}},\"id\":\"1769\",\"type\":\"Line\"},{\"attributes\":{},\"id\":\"1731\",\"type\":\"SaveTool\"},{\"attributes\":{},\"id\":\"1732\",\"type\":\"PanTool\"},{\"attributes\":{\"axis_label\":\"\",\"bounds\":\"auto\",\"formatter\":{\"id\":\"1747\"},\"major_label_orientation\":\"horizontal\",\"ticker\":{\"id\":\"1728\"}},\"id\":\"1727\",\"type\":\"LinearAxis\"},{\"attributes\":{},\"id\":\"1735\",\"type\":\"ResetTool\"},{\"attributes\":{\"line_color\":\"#1f77b3\",\"line_width\":2,\"x\":{\"field\":\"index\"},\"y\":{\"field\":\"value\"}},\"id\":\"1751\",\"type\":\"Line\"},{\"attributes\":{},\"id\":\"1733\",\"type\":\"WheelZoomTool\"},{\"attributes\":{},\"id\":\"1782\",\"type\":\"UnionRenderers\"},{\"attributes\":{\"overlay\":{\"id\":\"1736\"}},\"id\":\"1734\",\"type\":\"BoxZoomTool\"},{\"attributes\":{\"label\":{\"value\":\"loss_1f\"},\"renderers\":[{\"id\":\"1754\"}]},\"id\":\"1765\",\"type\":\"LegendItem\"},{\"attributes\":{\"label\":{\"value\":\"loss_2f\"},\"renderers\":[{\"id\":\"1772\"}]},\"id\":\"1784\",\"type\":\"LegendItem\"},{\"attributes\":{},\"id\":\"1745\",\"type\":\"BasicTickFormatter\"},{\"attributes\":{\"text\":\"\",\"text_color\":{\"value\":\"black\"},\"text_font_size\":{\"value\":\"12pt\"}},\"id\":\"1715\",\"type\":\"Title\"},{\"attributes\":{},\"id\":\"1747\",\"type\":\"BasicTickFormatter\"},{\"attributes\":{},\"id\":\"1762\",\"type\":\"UnionRenderers\"},{\"attributes\":{},\"id\":\"1719\",\"type\":\"LinearScale\"},{\"attributes\":{\"click_policy\":\"mute\",\"items\":[{\"id\":\"1765\"},{\"id\":\"1784\"}],\"location\":[0,0],\"title\":\"Variable\"},\"id\":\"1764\",\"type\":\"Legend\"},{\"attributes\":{\"margin\":[5,5,5,5],\"name\":\"HSpacer03058\",\"sizing_mode\":\"stretch_width\"},\"id\":\"1875\",\"type\":\"Spacer\"},{\"attributes\":{\"end\":0.09984610609244556,\"reset_end\":0.09984610609244556,\"reset_start\":-0.005607758485712112,\"start\":-0.005607758485712112,\"tags\":[[[\"value\",\"value\",null]]]},\"id\":\"1711\",\"type\":\"Range1d\"},{\"attributes\":{\"axis_label\":\"\",\"bounds\":\"auto\",\"formatter\":{\"id\":\"1745\"},\"major_label_orientation\":\"horizontal\",\"ticker\":{\"id\":\"1724\"}},\"id\":\"1723\",\"type\":\"LinearAxis\"},{\"attributes\":{\"line_alpha\":0.2,\"line_color\":\"#ff7e0e\",\"line_width\":2,\"x\":{\"field\":\"index\"},\"y\":{\"field\":\"value\"}},\"id\":\"1771\",\"type\":\"Line\"},{\"attributes\":{},\"id\":\"1721\",\"type\":\"LinearScale\"},{\"attributes\":{},\"id\":\"1724\",\"type\":\"BasicTicker\"},{\"attributes\":{\"data\":{\"Variable\":[\"loss_1f\",\"loss_1f\",\"loss_1f\",\"loss_1f\",\"loss_1f\",\"loss_1f\",\"loss_1f\",\"loss_1f\",\"loss_1f\",\"loss_1f\",\"loss_1f\",\"loss_1f\",\"loss_1f\",\"loss_1f\",\"loss_1f\",\"loss_1f\",\"loss_1f\",\"loss_1f\",\"loss_1f\",\"loss_1f\",\"loss_1f\",\"loss_1f\",\"loss_1f\",\"loss_1f\"],\"index\":[1,2,3,4,5,6,7,8,9,10,11,12,13,14,15,16,17,18,19,20,21,22,23,24],\"value\":{\"__ndarray__\":\"AAAAgJhPtz8AAADg5/+rPwAAAAC0NqI/AAAAINWinT8AAACg0XCXPwAAAKCiaY0/AAAAINfkfT8AAACgBTN4PwAAAOBMEXM/AAAAoC7Mcz8AAAAggP5yPwAAACB+InQ/AAAAIGEtcj8AAAAg0NFzPwAAAABURW0/AAAAAAnHcD8AAABgiE1yPwAAAIBpTGw/AAAAoBMNaj8AAADAucRtPwAAAOCyim0/AAAAYK7ncD8AAAAAAAD4fwAAAAAAAPh/\",\"dtype\":\"float64\",\"order\":\"little\",\"shape\":[24]}},\"selected\":{\"id\":\"1749\"},\"selection_policy\":{\"id\":\"1762\"}},\"id\":\"1748\",\"type\":\"ColumnDataSource\"},{\"attributes\":{\"line_alpha\":0.2,\"line_color\":\"#1f77b3\",\"line_width\":2,\"x\":{\"field\":\"index\"},\"y\":{\"field\":\"value\"}},\"id\":\"1753\",\"type\":\"Line\"},{\"attributes\":{\"axis\":{\"id\":\"1723\"},\"grid_line_color\":null,\"ticker\":null},\"id\":\"1726\",\"type\":\"Grid\"},{\"attributes\":{\"line_alpha\":0.1,\"line_color\":\"#1f77b3\",\"line_width\":2,\"x\":{\"field\":\"index\"},\"y\":{\"field\":\"value\"}},\"id\":\"1752\",\"type\":\"Line\"},{\"attributes\":{\"line_alpha\":0.1,\"line_color\":\"#ff7e0e\",\"line_width\":2,\"x\":{\"field\":\"index\"},\"y\":{\"field\":\"value\"}},\"id\":\"1770\",\"type\":\"Line\"},{\"attributes\":{\"axis\":{\"id\":\"1727\"},\"dimension\":1,\"grid_line_color\":null,\"ticker\":null},\"id\":\"1730\",\"type\":\"Grid\"},{\"attributes\":{\"active_drag\":\"auto\",\"active_inspect\":\"auto\",\"active_multi\":null,\"active_scroll\":\"auto\",\"active_tap\":\"auto\",\"tools\":[{\"id\":\"1712\"},{\"id\":\"1731\"},{\"id\":\"1732\"},{\"id\":\"1733\"},{\"id\":\"1734\"},{\"id\":\"1735\"}]},\"id\":\"1737\",\"type\":\"Toolbar\"},{\"attributes\":{\"data\":{\"Variable\":[\"loss_2f\",\"loss_2f\",\"loss_2f\",\"loss_2f\",\"loss_2f\",\"loss_2f\",\"loss_2f\",\"loss_2f\",\"loss_2f\",\"loss_2f\",\"loss_2f\",\"loss_2f\",\"loss_2f\",\"loss_2f\",\"loss_2f\",\"loss_2f\",\"loss_2f\",\"loss_2f\",\"loss_2f\",\"loss_2f\",\"loss_2f\",\"loss_2f\",\"loss_2f\",\"loss_2f\"],\"index\":[1,2,3,4,5,6,7,8,9,10,11,12,13,14,15,16,17,18,19,20,21,22,23,24],\"value\":{\"__ndarray__\":\"AAAAYE9btD8AAAAgiuOiPwAAAMDwbaA/AAAAgO5CmD8AAABAckyPPwAAAAAtvYA/AAAAAO2SeD8AAAAAddp8PwAAAKARSnc/AAAAoJdkdT8AAAAAGHV4PwAAAID+h3U/AAAAYINCdT8AAAAgqGB0PwAAAGCb7XI/AAAAYDvlcj8AAAAgFdZyPwAAAED4Q3E/AAAAwAuLcD8AAAAgQo5wPwAAAGAAN2w/AAAAgHcXbT8AAACAH+ZvPwAAAEBXMG0/\",\"dtype\":\"float64\",\"order\":\"little\",\"shape\":[24]}},\"selected\":{\"id\":\"1767\"},\"selection_policy\":{\"id\":\"1782\"}},\"id\":\"1766\",\"type\":\"ColumnDataSource\"},{\"attributes\":{},\"id\":\"1749\",\"type\":\"Selection\"},{\"attributes\":{},\"id\":\"1728\",\"type\":\"BasicTicker\"},{\"attributes\":{\"end\":24.0,\"reset_end\":24.0,\"reset_start\":1.0,\"start\":1.0,\"tags\":[[[\"index\",\"index\",null]]]},\"id\":\"1710\",\"type\":\"Range1d\"},{\"attributes\":{\"children\":[{\"id\":\"1709\"},{\"id\":\"1714\"},{\"id\":\"1875\"}],\"margin\":[0,0,0,0],\"name\":\"Row03053\",\"tags\":[\"embedded\"]},\"id\":\"1708\",\"type\":\"Row\"},{\"attributes\":{\"data_source\":{\"id\":\"1748\"},\"glyph\":{\"id\":\"1751\"},\"hover_glyph\":null,\"muted_glyph\":{\"id\":\"1753\"},\"nonselection_glyph\":{\"id\":\"1752\"},\"selection_glyph\":null,\"view\":{\"id\":\"1755\"}},\"id\":\"1754\",\"type\":\"GlyphRenderer\"},{\"attributes\":{\"data_source\":{\"id\":\"1766\"},\"glyph\":{\"id\":\"1769\"},\"hover_glyph\":null,\"muted_glyph\":{\"id\":\"1771\"},\"nonselection_glyph\":{\"id\":\"1770\"},\"selection_glyph\":null,\"view\":{\"id\":\"1773\"}},\"id\":\"1772\",\"type\":\"GlyphRenderer\"},{\"attributes\":{},\"id\":\"1767\",\"type\":\"Selection\"},{\"attributes\":{\"below\":[{\"id\":\"1723\"}],\"center\":[{\"id\":\"1726\"},{\"id\":\"1730\"}],\"left\":[{\"id\":\"1727\"}],\"margin\":[5,5,5,5],\"min_border_bottom\":10,\"min_border_left\":10,\"min_border_right\":10,\"min_border_top\":10,\"plot_height\":300,\"plot_width\":700,\"renderers\":[{\"id\":\"1754\"},{\"id\":\"1772\"}],\"right\":[{\"id\":\"1764\"}],\"sizing_mode\":\"fixed\",\"title\":{\"id\":\"1715\"},\"toolbar\":{\"id\":\"1737\"},\"x_range\":{\"id\":\"1710\"},\"x_scale\":{\"id\":\"1719\"},\"y_range\":{\"id\":\"1711\"},\"y_scale\":{\"id\":\"1721\"}},\"id\":\"1714\",\"subtype\":\"Figure\",\"type\":\"Plot\"},{\"attributes\":{\"margin\":[5,5,5,5],\"name\":\"HSpacer03057\",\"sizing_mode\":\"stretch_width\"},\"id\":\"1709\",\"type\":\"Spacer\"},{\"attributes\":{\"bottom_units\":\"screen\",\"fill_alpha\":0.5,\"fill_color\":\"lightgrey\",\"left_units\":\"screen\",\"level\":\"overlay\",\"line_alpha\":1.0,\"line_color\":\"black\",\"line_dash\":[4,4],\"line_width\":2,\"right_units\":\"screen\",\"top_units\":\"screen\"},\"id\":\"1736\",\"type\":\"BoxAnnotation\"}],\"root_ids\":[\"1708\"]},\"title\":\"Bokeh Application\",\"version\":\"2.2.3\"}};\n",
       "    var render_items = [{\"docid\":\"0b00ab76-bb91-4e0e-b821-c2e41e8e3b7d\",\"root_ids\":[\"1708\"],\"roots\":{\"1708\":\"63afc377-8881-42eb-92d2-611cc4929ab9\"}}];\n",
       "    root.Bokeh.embed.embed_items_notebook(docs_json, render_items);\n",
       "  }\n",
       "  if (root.Bokeh !== undefined && root.Bokeh.Panel !== undefined) {\n",
       "    embed_document(root);\n",
       "  } else {\n",
       "    var attempts = 0;\n",
       "    var timer = setInterval(function(root) {\n",
       "      if (root.Bokeh !== undefined && root.Bokeh.Panel !== undefined) {\n",
       "        clearInterval(timer);\n",
       "        embed_document(root);\n",
       "      } else if (document.readyState == \"complete\") {\n",
       "        attempts++;\n",
       "        if (attempts > 100) {\n",
       "          clearInterval(timer);\n",
       "          console.log(\"Bokeh: ERROR: Unable to run BokehJS code because BokehJS library is missing\");\n",
       "        }\n",
       "      }\n",
       "    }, 10, root)\n",
       "  }\n",
       "})(window);</script>"
      ],
      "text/plain": [
       ":NdOverlay   [Variable]\n",
       "   :Curve   [index]   (value)"
      ]
     },
     "execution_count": 60,
     "metadata": {
      "application/vnd.holoviews_exec.v0+json": {
       "id": "1708"
      }
     },
     "output_type": "execute_result"
    }
   ],
   "source": [
    "score_loss_lr_1fvs2f(score_lstm_lr_1f_df, score_lstm_lr_2f_df)"
   ]
  },
  {
   "cell_type": "code",
   "execution_count": 61,
   "metadata": {},
   "outputs": [
    {
     "data": {
      "application/vnd.holoviews_exec.v0+json": "",
      "text/html": [
       "<div id='1927'>\n",
       "\n",
       "\n",
       "\n",
       "\n",
       "\n",
       "  <div class=\"bk-root\" id=\"f51e41a6-4449-4dc7-a85b-c27619765a28\" data-root-id=\"1927\"></div>\n",
       "</div>\n",
       "<script type=\"application/javascript\">(function(root) {\n",
       "  function embed_document(root) {\n",
       "    var docs_json = {\"c3027216-3d9c-4b89-8c1f-963ce998aa0a\":{\"roots\":{\"references\":[{\"attributes\":{\"bottom_units\":\"screen\",\"fill_alpha\":0.5,\"fill_color\":\"lightgrey\",\"left_units\":\"screen\",\"level\":\"overlay\",\"line_alpha\":1.0,\"line_color\":\"black\",\"line_dash\":[4,4],\"line_width\":2,\"right_units\":\"screen\",\"top_units\":\"screen\"},\"id\":\"1955\",\"type\":\"BoxAnnotation\"},{\"attributes\":{\"axis_label\":\"\",\"bounds\":\"auto\",\"formatter\":{\"id\":\"1966\"},\"major_label_orientation\":\"horizontal\",\"ticker\":{\"id\":\"1947\"}},\"id\":\"1946\",\"type\":\"LinearAxis\"},{\"attributes\":{\"callback\":null,\"renderers\":[{\"id\":\"1973\"},{\"id\":\"1991\"}],\"tags\":[\"hv_created\"],\"tooltips\":[[\"Variable\",\"@{Variable}\"],[\"index\",\"@{index}\"],[\"value\",\"@{value}\"]]},\"id\":\"1931\",\"type\":\"HoverTool\"},{\"attributes\":{\"data\":{\"Variable\":[\"mae_1f\",\"mae_1f\",\"mae_1f\",\"mae_1f\",\"mae_1f\",\"mae_1f\",\"mae_1f\",\"mae_1f\",\"mae_1f\",\"mae_1f\",\"mae_1f\",\"mae_1f\",\"mae_1f\",\"mae_1f\",\"mae_1f\",\"mae_1f\",\"mae_1f\",\"mae_1f\",\"mae_1f\",\"mae_1f\",\"mae_1f\",\"mae_1f\",\"mae_1f\",\"mae_1f\"],\"index\":[1,2,3,4,5,6,7,8,9,10,11,12,13,14,15,16,17,18,19,20,21,22,23,24],\"value\":{\"__ndarray__\":\"AAAAgBxOzT8AAADg71jGPwAAACCeBsQ/AAAAgIVRwj8AAABAg1PAPwAAAGBBebk/AAAAQKaPsT8AAADATHusPwAAAODVK6k/AAAAANt1qD8AAADgqTKoPwAAAGACxKg/AAAA4NR4pz8AAADgr3qnPwAAAIDwXqU/AAAAoFe8pT8AAADgkqemPwAAAIAsN6U/AAAAIJQQpD8AAABgn1OkPwAAACDqNaQ/AAAAAFLgpj8AAAAAAAD4fwAAAAAAAPh/\",\"dtype\":\"float64\",\"order\":\"little\",\"shape\":[24]}},\"selected\":{\"id\":\"1968\"},\"selection_policy\":{\"id\":\"1981\"}},\"id\":\"1967\",\"type\":\"ColumnDataSource\"},{\"attributes\":{\"source\":{\"id\":\"1985\"}},\"id\":\"1992\",\"type\":\"CDSView\"},{\"attributes\":{\"data_source\":{\"id\":\"1967\"},\"glyph\":{\"id\":\"1970\"},\"hover_glyph\":null,\"muted_glyph\":{\"id\":\"1972\"},\"nonselection_glyph\":{\"id\":\"1971\"},\"selection_glyph\":null,\"view\":{\"id\":\"1974\"}},\"id\":\"1973\",\"type\":\"GlyphRenderer\"},{\"attributes\":{\"source\":{\"id\":\"1967\"}},\"id\":\"1974\",\"type\":\"CDSView\"},{\"attributes\":{\"line_color\":\"#ff7e0e\",\"line_width\":2,\"x\":{\"field\":\"index\"},\"y\":{\"field\":\"value\"}},\"id\":\"1988\",\"type\":\"Line\"},{\"attributes\":{},\"id\":\"1950\",\"type\":\"SaveTool\"},{\"attributes\":{},\"id\":\"1951\",\"type\":\"PanTool\"},{\"attributes\":{},\"id\":\"1954\",\"type\":\"ResetTool\"},{\"attributes\":{\"line_color\":\"#1f77b3\",\"line_width\":2,\"x\":{\"field\":\"index\"},\"y\":{\"field\":\"value\"}},\"id\":\"1970\",\"type\":\"Line\"},{\"attributes\":{},\"id\":\"1952\",\"type\":\"WheelZoomTool\"},{\"attributes\":{},\"id\":\"2001\",\"type\":\"UnionRenderers\"},{\"attributes\":{\"overlay\":{\"id\":\"1955\"}},\"id\":\"1953\",\"type\":\"BoxZoomTool\"},{\"attributes\":{\"label\":{\"value\":\"mae_1f\"},\"renderers\":[{\"id\":\"1973\"}]},\"id\":\"1984\",\"type\":\"LegendItem\"},{\"attributes\":{\"label\":{\"value\":\"mae_2f\"},\"renderers\":[{\"id\":\"1991\"}]},\"id\":\"2003\",\"type\":\"LegendItem\"},{\"attributes\":{},\"id\":\"1943\",\"type\":\"BasicTicker\"},{\"attributes\":{\"margin\":[5,5,5,5],\"name\":\"HSpacer03504\",\"sizing_mode\":\"stretch_width\"},\"id\":\"2094\",\"type\":\"Spacer\"},{\"attributes\":{},\"id\":\"1964\",\"type\":\"BasicTickFormatter\"},{\"attributes\":{\"children\":[{\"id\":\"1928\"},{\"id\":\"1933\"},{\"id\":\"2094\"}],\"margin\":[0,0,0,0],\"name\":\"Row03499\",\"tags\":[\"embedded\"]},\"id\":\"1927\",\"type\":\"Row\"},{\"attributes\":{\"text\":\"\",\"text_color\":{\"value\":\"black\"},\"text_font_size\":{\"value\":\"12pt\"}},\"id\":\"1934\",\"type\":\"Title\"},{\"attributes\":{},\"id\":\"1966\",\"type\":\"BasicTickFormatter\"},{\"attributes\":{},\"id\":\"1981\",\"type\":\"UnionRenderers\"},{\"attributes\":{\"click_policy\":\"mute\",\"items\":[{\"id\":\"1984\"},{\"id\":\"2003\"}],\"location\":[0,0],\"title\":\"Variable\"},\"id\":\"1983\",\"type\":\"Legend\"},{\"attributes\":{},\"id\":\"1938\",\"type\":\"LinearScale\"},{\"attributes\":{\"data\":{\"Variable\":[\"mae_2f\",\"mae_2f\",\"mae_2f\",\"mae_2f\",\"mae_2f\",\"mae_2f\",\"mae_2f\",\"mae_2f\",\"mae_2f\",\"mae_2f\",\"mae_2f\",\"mae_2f\",\"mae_2f\",\"mae_2f\",\"mae_2f\",\"mae_2f\",\"mae_2f\",\"mae_2f\",\"mae_2f\",\"mae_2f\",\"mae_2f\",\"mae_2f\",\"mae_2f\",\"mae_2f\"],\"index\":[1,2,3,4,5,6,7,8,9,10,11,12,13,14,15,16,17,18,19,20,21,22,23,24],\"value\":{\"__ndarray__\":\"AAAAQNQUyz8AAACAcgrEPwAAACAOX8M/AAAA4OB+wD8AAADA5v25PwAAAAA0w7E/AAAAYG78rT8AAAAAH2KuPwAAAMCZYaw/AAAAQMNZqz8AAACAtF6tPwAAACD+u6s/AAAAQNDyqj8AAACgNjiqPwAAAKCV3ak/AAAAoPwEqT8AAABAbaWoPwAAAMB6Vag/AAAAIGklqD8AAACgj1ioPwAAAEDybqY/AAAAwEQYpz8AAADAbRenPwAAAMD1SaY/\",\"dtype\":\"float64\",\"order\":\"little\",\"shape\":[24]}},\"selected\":{\"id\":\"1986\"},\"selection_policy\":{\"id\":\"2001\"}},\"id\":\"1985\",\"type\":\"ColumnDataSource\"},{\"attributes\":{},\"id\":\"1940\",\"type\":\"LinearScale\"},{\"attributes\":{\"end\":0.24792199693620204,\"reset_end\":0.24792199693620204,\"reset_start\":0.020213256403803823,\"start\":0.020213256403803823,\"tags\":[[[\"value\",\"value\",null]]]},\"id\":\"1930\",\"type\":\"Range1d\"},{\"attributes\":{\"line_alpha\":0.2,\"line_color\":\"#ff7e0e\",\"line_width\":2,\"x\":{\"field\":\"index\"},\"y\":{\"field\":\"value\"}},\"id\":\"1990\",\"type\":\"Line\"},{\"attributes\":{\"axis_label\":\"\",\"bounds\":\"auto\",\"formatter\":{\"id\":\"1964\"},\"major_label_orientation\":\"horizontal\",\"ticker\":{\"id\":\"1943\"}},\"id\":\"1942\",\"type\":\"LinearAxis\"},{\"attributes\":{\"margin\":[5,5,5,5],\"name\":\"HSpacer03503\",\"sizing_mode\":\"stretch_width\"},\"id\":\"1928\",\"type\":\"Spacer\"},{\"attributes\":{\"line_alpha\":0.2,\"line_color\":\"#1f77b3\",\"line_width\":2,\"x\":{\"field\":\"index\"},\"y\":{\"field\":\"value\"}},\"id\":\"1972\",\"type\":\"Line\"},{\"attributes\":{\"axis\":{\"id\":\"1946\"},\"dimension\":1,\"grid_line_color\":null,\"ticker\":null},\"id\":\"1949\",\"type\":\"Grid\"},{\"attributes\":{\"below\":[{\"id\":\"1942\"}],\"center\":[{\"id\":\"1945\"},{\"id\":\"1949\"}],\"left\":[{\"id\":\"1946\"}],\"margin\":[5,5,5,5],\"min_border_bottom\":10,\"min_border_left\":10,\"min_border_right\":10,\"min_border_top\":10,\"plot_height\":300,\"plot_width\":700,\"renderers\":[{\"id\":\"1973\"},{\"id\":\"1991\"}],\"right\":[{\"id\":\"1983\"}],\"sizing_mode\":\"fixed\",\"title\":{\"id\":\"1934\"},\"toolbar\":{\"id\":\"1956\"},\"x_range\":{\"id\":\"1929\"},\"x_scale\":{\"id\":\"1938\"},\"y_range\":{\"id\":\"1930\"},\"y_scale\":{\"id\":\"1940\"}},\"id\":\"1933\",\"subtype\":\"Figure\",\"type\":\"Plot\"},{\"attributes\":{\"axis\":{\"id\":\"1942\"},\"grid_line_color\":null,\"ticker\":null},\"id\":\"1945\",\"type\":\"Grid\"},{\"attributes\":{\"line_alpha\":0.1,\"line_color\":\"#1f77b3\",\"line_width\":2,\"x\":{\"field\":\"index\"},\"y\":{\"field\":\"value\"}},\"id\":\"1971\",\"type\":\"Line\"},{\"attributes\":{},\"id\":\"1986\",\"type\":\"Selection\"},{\"attributes\":{\"line_alpha\":0.1,\"line_color\":\"#ff7e0e\",\"line_width\":2,\"x\":{\"field\":\"index\"},\"y\":{\"field\":\"value\"}},\"id\":\"1989\",\"type\":\"Line\"},{\"attributes\":{},\"id\":\"1968\",\"type\":\"Selection\"},{\"attributes\":{\"active_drag\":\"auto\",\"active_inspect\":\"auto\",\"active_multi\":null,\"active_scroll\":\"auto\",\"active_tap\":\"auto\",\"tools\":[{\"id\":\"1931\"},{\"id\":\"1950\"},{\"id\":\"1951\"},{\"id\":\"1952\"},{\"id\":\"1953\"},{\"id\":\"1954\"}]},\"id\":\"1956\",\"type\":\"Toolbar\"},{\"attributes\":{\"end\":24.0,\"reset_end\":24.0,\"reset_start\":1.0,\"start\":1.0,\"tags\":[[[\"index\",\"index\",null]]]},\"id\":\"1929\",\"type\":\"Range1d\"},{\"attributes\":{},\"id\":\"1947\",\"type\":\"BasicTicker\"},{\"attributes\":{\"data_source\":{\"id\":\"1985\"},\"glyph\":{\"id\":\"1988\"},\"hover_glyph\":null,\"muted_glyph\":{\"id\":\"1990\"},\"nonselection_glyph\":{\"id\":\"1989\"},\"selection_glyph\":null,\"view\":{\"id\":\"1992\"}},\"id\":\"1991\",\"type\":\"GlyphRenderer\"}],\"root_ids\":[\"1927\"]},\"title\":\"Bokeh Application\",\"version\":\"2.2.3\"}};\n",
       "    var render_items = [{\"docid\":\"c3027216-3d9c-4b89-8c1f-963ce998aa0a\",\"root_ids\":[\"1927\"],\"roots\":{\"1927\":\"f51e41a6-4449-4dc7-a85b-c27619765a28\"}}];\n",
       "    root.Bokeh.embed.embed_items_notebook(docs_json, render_items);\n",
       "  }\n",
       "  if (root.Bokeh !== undefined && root.Bokeh.Panel !== undefined) {\n",
       "    embed_document(root);\n",
       "  } else {\n",
       "    var attempts = 0;\n",
       "    var timer = setInterval(function(root) {\n",
       "      if (root.Bokeh !== undefined && root.Bokeh.Panel !== undefined) {\n",
       "        clearInterval(timer);\n",
       "        embed_document(root);\n",
       "      } else if (document.readyState == \"complete\") {\n",
       "        attempts++;\n",
       "        if (attempts > 100) {\n",
       "          clearInterval(timer);\n",
       "          console.log(\"Bokeh: ERROR: Unable to run BokehJS code because BokehJS library is missing\");\n",
       "        }\n",
       "      }\n",
       "    }, 10, root)\n",
       "  }\n",
       "})(window);</script>"
      ],
      "text/plain": [
       ":NdOverlay   [Variable]\n",
       "   :Curve   [index]   (value)"
      ]
     },
     "execution_count": 61,
     "metadata": {
      "application/vnd.holoviews_exec.v0+json": {
       "id": "1927"
      }
     },
     "output_type": "execute_result"
    }
   ],
   "source": [
    "score_mae_lr_1fvs2f(score_lstm_lr_1f_df, score_lstm_lr_2f_df)"
   ]
  },
  {
   "cell_type": "code",
   "execution_count": 62,
   "metadata": {},
   "outputs": [
    {
     "data": {
      "application/vnd.holoviews_exec.v0+json": "",
      "text/html": [
       "<div id='2146'>\n",
       "\n",
       "\n",
       "\n",
       "\n",
       "\n",
       "  <div class=\"bk-root\" id=\"fa3a7a6e-ee5c-4c3c-aca1-fd1cfc3bf0c4\" data-root-id=\"2146\"></div>\n",
       "</div>\n",
       "<script type=\"application/javascript\">(function(root) {\n",
       "  function embed_document(root) {\n",
       "    var docs_json = {\"43d21d7f-e4c9-4ba3-a2c1-a9519628a76f\":{\"roots\":{\"references\":[{\"attributes\":{\"axis\":{\"id\":\"2166\"},\"dimension\":1,\"grid_line_color\":null,\"ticker\":null},\"id\":\"2169\",\"type\":\"Grid\"},{\"attributes\":{\"label\":{\"value\":\"actual\"},\"renderers\":[{\"id\":\"2211\"}]},\"id\":\"2223\",\"type\":\"LegendItem\"},{\"attributes\":{},\"id\":\"2163\",\"type\":\"BasicTicker\"},{\"attributes\":{\"callback\":null,\"renderers\":[{\"id\":\"2193\"},{\"id\":\"2211\"},{\"id\":\"2230\"}],\"tags\":[\"hv_created\"],\"tooltips\":[[\"Variable\",\"@{Variable}\"],[\"index\",\"@{index}\"],[\"value\",\"@{value}\"]]},\"id\":\"2150\",\"type\":\"HoverTool\"},{\"attributes\":{\"data_source\":{\"id\":\"2187\"},\"glyph\":{\"id\":\"2190\"},\"hover_glyph\":null,\"muted_glyph\":{\"id\":\"2192\"},\"nonselection_glyph\":{\"id\":\"2191\"},\"selection_glyph\":null,\"view\":{\"id\":\"2194\"}},\"id\":\"2193\",\"type\":\"GlyphRenderer\"},{\"attributes\":{\"data_source\":{\"id\":\"2205\"},\"glyph\":{\"id\":\"2208\"},\"hover_glyph\":null,\"muted_glyph\":{\"id\":\"2210\"},\"nonselection_glyph\":{\"id\":\"2209\"},\"selection_glyph\":null,\"view\":{\"id\":\"2212\"}},\"id\":\"2211\",\"type\":\"GlyphRenderer\"},{\"attributes\":{\"active_drag\":\"auto\",\"active_inspect\":\"auto\",\"active_multi\":null,\"active_scroll\":\"auto\",\"active_tap\":\"auto\",\"tools\":[{\"id\":\"2150\"},{\"id\":\"2170\"},{\"id\":\"2171\"},{\"id\":\"2172\"},{\"id\":\"2173\"},{\"id\":\"2174\"}]},\"id\":\"2176\",\"type\":\"Toolbar\"},{\"attributes\":{\"line_alpha\":0.2,\"line_color\":\"#1f77b3\",\"line_width\":2,\"x\":{\"field\":\"index\"},\"y\":{\"field\":\"value\"}},\"id\":\"2192\",\"type\":\"Line\"},{\"attributes\":{\"data\":{\"Variable\":[\"predict_2features\",\"predict_2features\",\"predict_2features\",\"predict_2features\",\"predict_2features\",\"predict_2features\",\"predict_2features\",\"predict_2features\",\"predict_2features\",\"predict_2features\",\"predict_2features\",\"predict_2features\",\"predict_2features\",\"predict_2features\",\"predict_2features\",\"predict_2features\",\"predict_2features\",\"predict_2features\",\"predict_2features\",\"predict_2features\",\"predict_2features\",\"predict_2features\",\"predict_2features\",\"predict_2features\",\"predict_2features\",\"predict_2features\",\"predict_2features\",\"predict_2features\",\"predict_2features\",\"predict_2features\",\"predict_2features\",\"predict_2features\",\"predict_2features\",\"predict_2features\",\"predict_2features\",\"predict_2features\",\"predict_2features\",\"predict_2features\",\"predict_2features\",\"predict_2features\",\"predict_2features\",\"predict_2features\",\"predict_2features\",\"predict_2features\",\"predict_2features\",\"predict_2features\",\"predict_2features\",\"predict_2features\",\"predict_2features\",\"predict_2features\",\"predict_2features\",\"predict_2features\",\"predict_2features\",\"predict_2features\",\"predict_2features\",\"predict_2features\",\"predict_2features\",\"predict_2features\",\"predict_2features\",\"predict_2features\",\"predict_2features\",\"predict_2features\",\"predict_2features\",\"predict_2features\",\"predict_2features\",\"predict_2features\",\"predict_2features\",\"predict_2features\",\"predict_2features\",\"predict_2features\",\"predict_2features\",\"predict_2features\",\"predict_2features\",\"predict_2features\",\"predict_2features\",\"predict_2features\",\"predict_2features\",\"predict_2features\",\"predict_2features\",\"predict_2features\",\"predict_2features\",\"predict_2features\",\"predict_2features\",\"predict_2features\",\"predict_2features\",\"predict_2features\",\"predict_2features\",\"predict_2features\",\"predict_2features\",\"predict_2features\",\"predict_2features\",\"predict_2features\",\"predict_2features\",\"predict_2features\",\"predict_2features\",\"predict_2features\",\"predict_2features\",\"predict_2features\",\"predict_2features\",\"predict_2features\",\"predict_2features\",\"predict_2features\",\"predict_2features\",\"predict_2features\",\"predict_2features\",\"predict_2features\",\"predict_2features\",\"predict_2features\",\"predict_2features\",\"predict_2features\",\"predict_2features\",\"predict_2features\",\"predict_2features\",\"predict_2features\",\"predict_2features\",\"predict_2features\",\"predict_2features\",\"predict_2features\",\"predict_2features\",\"predict_2features\",\"predict_2features\",\"predict_2features\",\"predict_2features\",\"predict_2features\",\"predict_2features\",\"predict_2features\",\"predict_2features\",\"predict_2features\",\"predict_2features\",\"predict_2features\",\"predict_2features\",\"predict_2features\",\"predict_2features\",\"predict_2features\",\"predict_2features\",\"predict_2features\",\"predict_2features\",\"predict_2features\",\"predict_2features\",\"predict_2features\",\"predict_2features\",\"predict_2features\",\"predict_2features\",\"predict_2features\",\"predict_2features\",\"predict_2features\",\"predict_2features\"],\"index\":[0,1,2,3,4,5,6,7,8,9,10,11,12,13,14,15,16,17,18,19,20,21,22,23,24,25,26,27,28,29,30,31,32,33,34,35,36,37,38,39,40,41,42,43,44,45,46,47,48,49,50,51,52,53,54,55,56,57,58,59,60,61,62,63,64,65,66,67,68,69,70,71,72,73,74,75,76,77,78,79,80,81,82,83,84,85,86,87,88,89,90,91,92,93,94,95,96,97,98,99,100,101,102,103,104,105,106,107,108,109,110,111,112,113,114,115,116,117,118,119,120,121,122,123,124,125,126,127,128,129,130,131,132,133,134,135,136,137,138,139,140,141,142,143,144,145,146],\"value\":{\"__ndarray__\":\"mEM6PwOfST8mHz4/3203P2YLNj8knDY/vQY3P1BWNz9GXjc/zTNGP/ZoTD+g3k0/IlpOP7riPz+KnE8/dW0/P7QpTD+KOkQ/7H1MP/0nWD9sjFY/XsBZPw24TD92R2k/DbhMP3ZHaT/Jtl0/SupPP5sXUj8a3lk/7rFWP4CJVj9C/lw/RAJjP7FOVj8yIlQ/OMdgP/KSYj/IuVc/BKxeP9R4Xj+4S2I/IVVgP2BbYD8+pWE/CnxnP2grWz/6A14/n/1dPz8CYz/YVVo/CpVaP3eKXj9Oj2U/+G5zP06PZT/4bnM/cdlnP/42az/aVVs/0FNXP1PHZD8s0Wo/hJZyPzwbZD/gtmY/UNdpP9uEZj/64Gk/rcBlPyw0YT+jmGA/mEdmP4z1ZD+GoWE/1BhdP5R1Yj9eSmQ/7RZiP2bLVz9z1Us/BehlP6ZCYj+UIl4/jGNcP+ENXj8oNVw/IC5YP3/jXj9colc/Bt5aP7cYXD8sr2A/txhcPyyvYD+kw2M/fGlsPwTVXD8c8Gc/iHtfP4z3YT/sN2k/MJhmPzkJYT/nLGk/XZZePwgXYz/NWmQ/Jl5nP+QDaT9QzWE/yK1nP7QxZj+UlGI/tOZiP6rCZD8Rp10/FqZdP4lkcD+5ZV4/YktqP6bJaj/EP2w/6otpP2ndZz+WbGY/B4BnPxAaaj+7CW4/NqVuP8hxYz8benE/tJVsP5h7aD9Yi2s/KqVjPyB6bD/ukGU/GLhoP5oPZz+7om0/4HVtP7Jsaz9We24/IWtqPw63bz/xdWY/\",\"dtype\":\"float32\",\"order\":\"little\",\"shape\":[147]}},\"selected\":{\"id\":\"2225\"},\"selection_policy\":{\"id\":\"2242\"}},\"id\":\"2224\",\"type\":\"ColumnDataSource\"},{\"attributes\":{\"axis\":{\"id\":\"2162\"},\"grid_line_color\":null,\"ticker\":null},\"id\":\"2165\",\"type\":\"Grid\"},{\"attributes\":{\"line_color\":\"#ff7e0e\",\"line_width\":2,\"x\":{\"field\":\"index\"},\"y\":{\"field\":\"value\"}},\"id\":\"2208\",\"type\":\"Line\"},{\"attributes\":{\"source\":{\"id\":\"2224\"}},\"id\":\"2231\",\"type\":\"CDSView\"},{\"attributes\":{},\"id\":\"2184\",\"type\":\"BasicTickFormatter\"},{\"attributes\":{\"source\":{\"id\":\"2205\"}},\"id\":\"2212\",\"type\":\"CDSView\"},{\"attributes\":{},\"id\":\"2206\",\"type\":\"Selection\"},{\"attributes\":{},\"id\":\"2221\",\"type\":\"UnionRenderers\"},{\"attributes\":{\"bottom_units\":\"screen\",\"fill_alpha\":0.5,\"fill_color\":\"lightgrey\",\"left_units\":\"screen\",\"level\":\"overlay\",\"line_alpha\":1.0,\"line_color\":\"black\",\"line_dash\":[4,4],\"line_width\":2,\"right_units\":\"screen\",\"top_units\":\"screen\"},\"id\":\"2175\",\"type\":\"BoxAnnotation\"},{\"attributes\":{},\"id\":\"2167\",\"type\":\"BasicTicker\"},{\"attributes\":{\"children\":[{\"id\":\"2147\"},{\"id\":\"2153\"},{\"id\":\"2353\"}],\"margin\":[0,0,0,0],\"name\":\"Row03969\",\"tags\":[\"embedded\"]},\"id\":\"2146\",\"type\":\"Row\"},{\"attributes\":{\"source\":{\"id\":\"2187\"}},\"id\":\"2194\",\"type\":\"CDSView\"},{\"attributes\":{\"axis_label\":\"\",\"bounds\":\"auto\",\"formatter\":{\"id\":\"2186\"},\"major_label_orientation\":\"horizontal\",\"ticker\":{\"id\":\"2167\"}},\"id\":\"2166\",\"type\":\"LinearAxis\"},{\"attributes\":{\"text\":\"\",\"text_color\":{\"value\":\"black\"},\"text_font_size\":{\"value\":\"12pt\"}},\"id\":\"2154\",\"type\":\"Title\"},{\"attributes\":{\"line_color\":\"#2ba02b\",\"line_width\":2,\"x\":{\"field\":\"index\"},\"y\":{\"field\":\"value\"}},\"id\":\"2227\",\"type\":\"Line\"},{\"attributes\":{\"label\":{\"value\":\"predict_1feature\"},\"renderers\":[{\"id\":\"2193\"}]},\"id\":\"2204\",\"type\":\"LegendItem\"},{\"attributes\":{},\"id\":\"2170\",\"type\":\"SaveTool\"},{\"attributes\":{\"end\":1.0288888573646549,\"reset_end\":1.0288888573646549,\"reset_start\":0.6822225689888001,\"start\":0.6822225689888001,\"tags\":[[[\"value\",\"value\",null]]]},\"id\":\"2149\",\"type\":\"Range1d\"},{\"attributes\":{},\"id\":\"2171\",\"type\":\"PanTool\"},{\"attributes\":{},\"id\":\"2201\",\"type\":\"UnionRenderers\"},{\"attributes\":{\"below\":[{\"id\":\"2162\"}],\"center\":[{\"id\":\"2165\"},{\"id\":\"2169\"}],\"left\":[{\"id\":\"2166\"}],\"margin\":[5,5,5,5],\"min_border_bottom\":10,\"min_border_left\":10,\"min_border_right\":10,\"min_border_top\":10,\"plot_height\":300,\"plot_width\":700,\"renderers\":[{\"id\":\"2193\"},{\"id\":\"2211\"},{\"id\":\"2230\"}],\"right\":[{\"id\":\"2203\"}],\"sizing_mode\":\"fixed\",\"title\":{\"id\":\"2154\"},\"toolbar\":{\"id\":\"2176\"},\"x_range\":{\"id\":\"2148\"},\"x_scale\":{\"id\":\"2158\"},\"y_range\":{\"id\":\"2149\"},\"y_scale\":{\"id\":\"2160\"}},\"id\":\"2153\",\"subtype\":\"Figure\",\"type\":\"Plot\"},{\"attributes\":{\"data_source\":{\"id\":\"2224\"},\"glyph\":{\"id\":\"2227\"},\"hover_glyph\":null,\"muted_glyph\":{\"id\":\"2229\"},\"nonselection_glyph\":{\"id\":\"2228\"},\"selection_glyph\":null,\"view\":{\"id\":\"2231\"}},\"id\":\"2230\",\"type\":\"GlyphRenderer\"},{\"attributes\":{\"click_policy\":\"mute\",\"items\":[{\"id\":\"2204\"},{\"id\":\"2223\"},{\"id\":\"2244\"}],\"location\":[0,0],\"title\":\"Variable\"},\"id\":\"2203\",\"type\":\"Legend\"},{\"attributes\":{},\"id\":\"2174\",\"type\":\"ResetTool\"},{\"attributes\":{\"margin\":[5,5,5,5],\"name\":\"HSpacer03974\",\"sizing_mode\":\"stretch_width\"},\"id\":\"2353\",\"type\":\"Spacer\"},{\"attributes\":{\"data\":{\"Variable\":[\"actual\",\"actual\",\"actual\",\"actual\",\"actual\",\"actual\",\"actual\",\"actual\",\"actual\",\"actual\",\"actual\",\"actual\",\"actual\",\"actual\",\"actual\",\"actual\",\"actual\",\"actual\",\"actual\",\"actual\",\"actual\",\"actual\",\"actual\",\"actual\",\"actual\",\"actual\",\"actual\",\"actual\",\"actual\",\"actual\",\"actual\",\"actual\",\"actual\",\"actual\",\"actual\",\"actual\",\"actual\",\"actual\",\"actual\",\"actual\",\"actual\",\"actual\",\"actual\",\"actual\",\"actual\",\"actual\",\"actual\",\"actual\",\"actual\",\"actual\",\"actual\",\"actual\",\"actual\",\"actual\",\"actual\",\"actual\",\"actual\",\"actual\",\"actual\",\"actual\",\"actual\",\"actual\",\"actual\",\"actual\",\"actual\",\"actual\",\"actual\",\"actual\",\"actual\",\"actual\",\"actual\",\"actual\",\"actual\",\"actual\",\"actual\",\"actual\",\"actual\",\"actual\",\"actual\",\"actual\",\"actual\",\"actual\",\"actual\",\"actual\",\"actual\",\"actual\",\"actual\",\"actual\",\"actual\",\"actual\",\"actual\",\"actual\",\"actual\",\"actual\",\"actual\",\"actual\",\"actual\",\"actual\",\"actual\",\"actual\",\"actual\",\"actual\",\"actual\",\"actual\",\"actual\",\"actual\",\"actual\",\"actual\",\"actual\",\"actual\",\"actual\",\"actual\",\"actual\",\"actual\",\"actual\",\"actual\",\"actual\",\"actual\",\"actual\",\"actual\",\"actual\",\"actual\",\"actual\",\"actual\",\"actual\",\"actual\",\"actual\",\"actual\",\"actual\",\"actual\",\"actual\",\"actual\",\"actual\",\"actual\",\"actual\",\"actual\",\"actual\",\"actual\",\"actual\",\"actual\",\"actual\",\"actual\",\"actual\",\"actual\",\"actual\",\"actual\",\"actual\"],\"index\":[0,1,2,3,4,5,6,7,8,9,10,11,12,13,14,15,16,17,18,19,20,21,22,23,24,25,26,27,28,29,30,31,32,33,34,35,36,37,38,39,40,41,42,43,44,45,46,47,48,49,50,51,52,53,54,55,56,57,58,59,60,61,62,63,64,65,66,67,68,69,70,71,72,73,74,75,76,77,78,79,80,81,82,83,84,85,86,87,88,89,90,91,92,93,94,95,96,97,98,99,100,101,102,103,104,105,106,107,108,109,110,111,112,113,114,115,116,117,118,119,120,121,122,123,124,125,126,127,128,129,130,131,132,133,134,135,136,137,138,139,140,141,142,143,144,145,146],\"value\":{\"__ndarray__\":\"QzLu9oP05z/LEcLHX/XnP2pvEL+noec/M0YQazSV5z8BMdzEd9nnP++eag1YNeg/hFZQvMxE6D/knpXwVN3nP3PE3gStoOg/aKqLJs8w6j+LTD+CdHToP3m1Wh8nvOg/QK+qXvDk6D8apDEskqnpP7JHIEpTwOk/SAR5pPXj6T/gxUSqxRvqPxoDEazveOo/IE75mplP6z+6Hh6j8sPrP+q1gVxJhOw/nhN6jZfg7D8gLwgukSPtPyAvCC6RI+0/IC8ILpEj7T8gLwgukSPtP6zw/hZeA+0/6Hnybyjq6z+6S1SNiiHsP65zQq/xEuw/3kznaI006z80o5z9oabsP1I6Y93vsew/LgO75fUo6z+aQe/fJfHqP/AVdWGgXus/Tnck0gkE6z8GwSVypGfrPwDVHANYYOs/Dp2WdnF/7T+w15TafPbsPwphB4pQ5ew/gNG5Nkl37T/6nOw8a8/sPyKt2Br3Huw/HGLwK01I6z+slpJCLkjsPwI0/IK1L+w/BiAF8gE37D/0vmKfXHHsP3CzMhU0puw/FP2Je8hZ7D+eOz3MASrtP2jv7ORR6Ow/aO/s5FHo7D9o7+zkUejsP2jv7ORR6Ow/RI96ifEF7T9AOSui2nvtPzZhW/1cRe4/aAKlDQ8u7z+8lSj3Ou3uPwEAAAAAAPA/SMsJdhKg7T8EssxvGyvrP3SayNhSmew/JGLFSFCg6z8E5HUF4ZzrP/ZgXVBKNew/cCyQVmyN6z/EuqCUajjrP3qlwrSnzOo/PsJih60q6z9as4jbLfbrP55Vu43cQes/PDqsQ+wG7D8wj9BP61XsP4AYbuK77Os/kg4yxWZ07D+CfMANR9DsP25P4Omowus/aL1DT4x27D++BbRmEbfrP4JKF3iBXuw/UhcG6rWB7D8iPmEwGmDtPyC7HZiGUO4/6Lnggn2N7j9axkAE6zvuPxDUsrdkBe4/TORIz/YE7j/eMmmnshztP94yaaeyHO0/3jJpp7Ic7T/eMmmnshztP2Irp7RvKu0/Hr72oRg07T/UZD0gdTbtP5xjAAtsc+0/jiIpVhpt7D9eHE6y5u3sP5xQSOKuLes/TqnNZ8916z+oI+cUGijrP7zJJHrwHOs/JM/pRT2h7j/yMhPhuMztPzKeKVJ0kuw/VoDLwG557T8WZk9SgVHtPwy7c16AoO0/LDnDoe+j7T98ve2IkibtP17vF8hOkOw/BHCLb9bJ7D8c7gWWQnXsP/SDreOGauw/wpuvJ2IM7T9UTiIrqQftP0yK3PrGSe0/yLTugEZx7T9Ctz3IW0/tPyoCp2D8He0//rC46iEg7T/uGdSH1GftPxIlTboyo+w/AtJD+cV87D+QWUWXDfPsPwiEVx2NGu0/vLQZZEMZ7T8Qzz8MN/HtP65ZxO0W++0/ZGc2oZDE7T/8Xx7oU4LuPzx/DQJvvu4/QDT6L8g/7j8SOAXj7+juP753Sw8szO4/zgRKGx5c7j+qpNe/vXnuP1iPJMP3te0/qkpr642+7T+khiW7qwDuP5qGUJ6oqO0/utL2S1I67T8YcDWp3HntP7S5t/Jt1ew/\",\"dtype\":\"float64\",\"order\":\"little\",\"shape\":[147]}},\"selected\":{\"id\":\"2206\"},\"selection_policy\":{\"id\":\"2221\"}},\"id\":\"2205\",\"type\":\"ColumnDataSource\"},{\"attributes\":{},\"id\":\"2172\",\"type\":\"WheelZoomTool\"},{\"attributes\":{\"line_alpha\":0.2,\"line_color\":\"#ff7e0e\",\"line_width\":2,\"x\":{\"field\":\"index\"},\"y\":{\"field\":\"value\"}},\"id\":\"2210\",\"type\":\"Line\"},{\"attributes\":{},\"id\":\"2188\",\"type\":\"Selection\"},{\"attributes\":{\"overlay\":{\"id\":\"2175\"}},\"id\":\"2173\",\"type\":\"BoxZoomTool\"},{\"attributes\":{\"data\":{\"Variable\":[\"predict_1feature\",\"predict_1feature\",\"predict_1feature\",\"predict_1feature\",\"predict_1feature\",\"predict_1feature\",\"predict_1feature\",\"predict_1feature\",\"predict_1feature\",\"predict_1feature\",\"predict_1feature\",\"predict_1feature\",\"predict_1feature\",\"predict_1feature\",\"predict_1feature\",\"predict_1feature\",\"predict_1feature\",\"predict_1feature\",\"predict_1feature\",\"predict_1feature\",\"predict_1feature\",\"predict_1feature\",\"predict_1feature\",\"predict_1feature\",\"predict_1feature\",\"predict_1feature\",\"predict_1feature\",\"predict_1feature\",\"predict_1feature\",\"predict_1feature\",\"predict_1feature\",\"predict_1feature\",\"predict_1feature\",\"predict_1feature\",\"predict_1feature\",\"predict_1feature\",\"predict_1feature\",\"predict_1feature\",\"predict_1feature\",\"predict_1feature\",\"predict_1feature\",\"predict_1feature\",\"predict_1feature\",\"predict_1feature\",\"predict_1feature\",\"predict_1feature\",\"predict_1feature\",\"predict_1feature\",\"predict_1feature\",\"predict_1feature\",\"predict_1feature\",\"predict_1feature\",\"predict_1feature\",\"predict_1feature\",\"predict_1feature\",\"predict_1feature\",\"predict_1feature\",\"predict_1feature\",\"predict_1feature\",\"predict_1feature\",\"predict_1feature\",\"predict_1feature\",\"predict_1feature\",\"predict_1feature\",\"predict_1feature\",\"predict_1feature\",\"predict_1feature\",\"predict_1feature\",\"predict_1feature\",\"predict_1feature\",\"predict_1feature\",\"predict_1feature\",\"predict_1feature\",\"predict_1feature\",\"predict_1feature\",\"predict_1feature\",\"predict_1feature\",\"predict_1feature\",\"predict_1feature\",\"predict_1feature\",\"predict_1feature\",\"predict_1feature\",\"predict_1feature\",\"predict_1feature\",\"predict_1feature\",\"predict_1feature\",\"predict_1feature\",\"predict_1feature\",\"predict_1feature\",\"predict_1feature\",\"predict_1feature\",\"predict_1feature\",\"predict_1feature\",\"predict_1feature\",\"predict_1feature\",\"predict_1feature\",\"predict_1feature\",\"predict_1feature\",\"predict_1feature\",\"predict_1feature\",\"predict_1feature\",\"predict_1feature\",\"predict_1feature\",\"predict_1feature\",\"predict_1feature\",\"predict_1feature\",\"predict_1feature\",\"predict_1feature\",\"predict_1feature\",\"predict_1feature\",\"predict_1feature\",\"predict_1feature\",\"predict_1feature\",\"predict_1feature\",\"predict_1feature\",\"predict_1feature\",\"predict_1feature\",\"predict_1feature\",\"predict_1feature\",\"predict_1feature\",\"predict_1feature\",\"predict_1feature\",\"predict_1feature\",\"predict_1feature\",\"predict_1feature\",\"predict_1feature\",\"predict_1feature\",\"predict_1feature\",\"predict_1feature\",\"predict_1feature\",\"predict_1feature\",\"predict_1feature\",\"predict_1feature\",\"predict_1feature\",\"predict_1feature\",\"predict_1feature\",\"predict_1feature\",\"predict_1feature\",\"predict_1feature\",\"predict_1feature\",\"predict_1feature\",\"predict_1feature\",\"predict_1feature\",\"predict_1feature\",\"predict_1feature\",\"predict_1feature\",\"predict_1feature\"],\"index\":[0,1,2,3,4,5,6,7,8,9,10,11,12,13,14,15,16,17,18,19,20,21,22,23,24,25,26,27,28,29,30,31,32,33,34,35,36,37,38,39,40,41,42,43,44,45,46,47,48,49,50,51,52,53,54,55,56,57,58,59,60,61,62,63,64,65,66,67,68,69,70,71,72,73,74,75,76,77,78,79,80,81,82,83,84,85,86,87,88,89,90,91,92,93,94,95,96,97,98,99,100,101,102,103,104,105,106,107,108,109,110,111,112,113,114,115,116,117,118,119,120,121,122,123,124,125,126,127,128,129,130,131,132,133,134,135,136,137,138,139,140,141,142,143,144,145,146],\"value\":{\"__ndarray__\":\"4IBAP9hqQT/kGEI/TJRDP1w9RD+k30Q/OFdFP4ewRT90uUU/AJFGP16pRz9EK0g/er1IPyosST911kk/PHVLPzbVUT9GxVI/wvRTP/LRVj/clFg/HtVbP+KNXT/ijV0/fst1P37LdT8A4l4/fu9gP8xdYj9q0mM/lKJlP94gZj91+2c/ZLloPwYVaT8eJ2k/0bdpPyj2aT/uAGo/wtxpP0pNaj+Or2o/rLFqPyzXaj/nv2o/jtdqP0B2aj8ajmo/J+tqP+Reaz8IR2s/gntrPwtUaz+sOWw/rDlsP5wffD+cH3w/wBptPwPYbT9R8m4/4jlwPwa0cz+DYXU/kMJ2PxL1dj/MiHY/bh53P7F6dj86NnY/jBt2P8eedT8oHnU/5hB0P4pKcz/7oXE/4ElwP4jhbj+qbm0/6hZsPy/Qaj+2Ymk/qoxoPxVEaD/Zgmg/eWhoP4zNaD8QsGk/6OVqP5zyaz+2JW0/NGZuP1bWbz9W1m8/IllzPyJZcz+TtHA/Dj5xP7ZNcj+yLHM/9M5zP0bZcz+zS3Q/U7pzPxMgcz8+23I/z8FyPwhJdD9kDnQ/sixzPxTWcj/zhXI/MVlyP3CVcj+4k3I/vkpyP1gacj8PqXE/6KdxP3+1cT+5iHI/8Dd0PyhBdT+b8nU/2SF1P0hwdD9mQ3Q/2Ep0P2zacz9isHM/wnRzPwM3cz87kXM/rjJ0PzmidD+si3U/a5R2P5vHdz+4f3g/9j55PwCneT8iK3o/Z256P8y2ej9lUXs//NV7P371ez/6CXw/\",\"dtype\":\"float32\",\"order\":\"little\",\"shape\":[147]}},\"selected\":{\"id\":\"2188\"},\"selection_policy\":{\"id\":\"2201\"}},\"id\":\"2187\",\"type\":\"ColumnDataSource\"},{\"attributes\":{\"line_alpha\":0.1,\"line_color\":\"#2ba02b\",\"line_width\":2,\"x\":{\"field\":\"index\"},\"y\":{\"field\":\"value\"}},\"id\":\"2228\",\"type\":\"Line\"},{\"attributes\":{\"margin\":[5,5,5,5],\"name\":\"HSpacer03973\",\"sizing_mode\":\"stretch_width\"},\"id\":\"2147\",\"type\":\"Spacer\"},{\"attributes\":{\"line_alpha\":0.1,\"line_color\":\"#1f77b3\",\"line_width\":2,\"x\":{\"field\":\"index\"},\"y\":{\"field\":\"value\"}},\"id\":\"2191\",\"type\":\"Line\"},{\"attributes\":{\"line_alpha\":0.2,\"line_color\":\"#2ba02b\",\"line_width\":2,\"x\":{\"field\":\"index\"},\"y\":{\"field\":\"value\"}},\"id\":\"2229\",\"type\":\"Line\"},{\"attributes\":{},\"id\":\"2225\",\"type\":\"Selection\"},{\"attributes\":{},\"id\":\"2186\",\"type\":\"BasicTickFormatter\"},{\"attributes\":{\"line_color\":\"#1f77b3\",\"line_width\":2,\"x\":{\"field\":\"index\"},\"y\":{\"field\":\"value\"}},\"id\":\"2190\",\"type\":\"Line\"},{\"attributes\":{},\"id\":\"2242\",\"type\":\"UnionRenderers\"},{\"attributes\":{},\"id\":\"2158\",\"type\":\"LinearScale\"},{\"attributes\":{\"line_alpha\":0.1,\"line_color\":\"#ff7e0e\",\"line_width\":2,\"x\":{\"field\":\"index\"},\"y\":{\"field\":\"value\"}},\"id\":\"2209\",\"type\":\"Line\"},{\"attributes\":{\"axis_label\":\"\",\"bounds\":\"auto\",\"formatter\":{\"id\":\"2184\"},\"major_label_orientation\":\"horizontal\",\"ticker\":{\"id\":\"2163\"}},\"id\":\"2162\",\"type\":\"LinearAxis\"},{\"attributes\":{\"label\":{\"value\":\"predict_2features\"},\"renderers\":[{\"id\":\"2230\"}]},\"id\":\"2244\",\"type\":\"LegendItem\"},{\"attributes\":{\"end\":146.0,\"reset_end\":146.0,\"reset_start\":0.0,\"tags\":[[[\"index\",\"index\",null]]]},\"id\":\"2148\",\"type\":\"Range1d\"},{\"attributes\":{},\"id\":\"2160\",\"type\":\"LinearScale\"}],\"root_ids\":[\"2146\"]},\"title\":\"Bokeh Application\",\"version\":\"2.2.3\"}};\n",
       "    var render_items = [{\"docid\":\"43d21d7f-e4c9-4ba3-a2c1-a9519628a76f\",\"root_ids\":[\"2146\"],\"roots\":{\"2146\":\"fa3a7a6e-ee5c-4c3c-aca1-fd1cfc3bf0c4\"}}];\n",
       "    root.Bokeh.embed.embed_items_notebook(docs_json, render_items);\n",
       "  }\n",
       "  if (root.Bokeh !== undefined && root.Bokeh.Panel !== undefined) {\n",
       "    embed_document(root);\n",
       "  } else {\n",
       "    var attempts = 0;\n",
       "    var timer = setInterval(function(root) {\n",
       "      if (root.Bokeh !== undefined && root.Bokeh.Panel !== undefined) {\n",
       "        clearInterval(timer);\n",
       "        embed_document(root);\n",
       "      } else if (document.readyState == \"complete\") {\n",
       "        attempts++;\n",
       "        if (attempts > 100) {\n",
       "          clearInterval(timer);\n",
       "          console.log(\"Bokeh: ERROR: Unable to run BokehJS code because BokehJS library is missing\");\n",
       "        }\n",
       "      }\n",
       "    }, 10, root)\n",
       "  }\n",
       "})(window);</script>"
      ],
      "text/plain": [
       ":NdOverlay   [Variable]\n",
       "   :Curve   [index]   (value)"
      ]
     },
     "execution_count": 62,
     "metadata": {
      "application/vnd.holoviews_exec.v0+json": {
       "id": "2146"
      }
     },
     "output_type": "execute_result"
    }
   ],
   "source": [
    "pred_lr_1fvs2f(pred_lstm_lr_1f_df,pred_lstm_lr_2f_df)"
   ]
  },
  {
   "cell_type": "markdown",
   "metadata": {},
   "source": [
    "### (3) Classification"
   ]
  },
  {
   "cell_type": "markdown",
   "metadata": {},
   "source": [
    "#### (a) Dense 1 Feature"
   ]
  },
  {
   "cell_type": "code",
   "execution_count": 63,
   "metadata": {},
   "outputs": [],
   "source": [
    "X, X_train, X_test, y, y_train, y_test = dataset_classification_1f(df_MSFT, \"REGN\")\n",
    "X, X_train, X_test = scaler_classification_1f(X, X_train, X_test)"
   ]
  },
  {
   "cell_type": "code",
   "execution_count": 64,
   "metadata": {},
   "outputs": [],
   "source": [
    "history, model = dense_cl_1f(X_train, y_train)\n",
    "dic_dense_cl_1f = eva_dense_cl_1f(model, X_test, y_test)"
   ]
  },
  {
   "cell_type": "markdown",
   "metadata": {},
   "source": [
    "#### (b) LSTM 1 Feature"
   ]
  },
  {
   "cell_type": "code",
   "execution_count": 65,
   "metadata": {},
   "outputs": [],
   "source": [
    "history, model = lstm_cl_1f(X_train, y_train)\n",
    "dic_lstm_cl_1f = eva_lstm_cl_1f(model, X_test, y_test)"
   ]
  },
  {
   "cell_type": "markdown",
   "metadata": {},
   "source": [
    "#### (c) Logistic Regression, SVC, Decision Tree Classifier, Random Forest Classifier, XGB Classifier"
   ]
  },
  {
   "cell_type": "code",
   "execution_count": 66,
   "metadata": {},
   "outputs": [
    {
     "name": "stdout",
     "output_type": "stream",
     "text": [
      "[05:17:01] WARNING: C:/Users/Administrator/workspace/xgboost-win64_release_1.3.0/src/learner.cc:1061: Starting in XGBoost 1.3.0, the default evaluation metric used with the objective 'binary:logistic' was changed from 'error' to 'logloss'. Explicitly set eval_metric if you'd like to restore the old behavior.\n"
     ]
    }
   ],
   "source": [
    "sklearn_cl_models_1f = sklearn_cl_models(X_train, y_train, X_test, y_test)"
   ]
  },
  {
   "cell_type": "code",
   "execution_count": 67,
   "metadata": {},
   "outputs": [
    {
     "name": "stdout",
     "output_type": "stream",
     "text": [
      "[05:17:02] WARNING: C:/Users/Administrator/workspace/xgboost-win64_release_1.3.0/src/learner.cc:1061: Starting in XGBoost 1.3.0, the default evaluation metric used with the objective 'binary:logistic' was changed from 'error' to 'logloss'. Explicitly set eval_metric if you'd like to restore the old behavior.\n",
      "[05:17:02] WARNING: C:/Users/Administrator/workspace/xgboost-win64_release_1.3.0/src/learner.cc:1061: Starting in XGBoost 1.3.0, the default evaluation metric used with the objective 'binary:logistic' was changed from 'error' to 'logloss'. Explicitly set eval_metric if you'd like to restore the old behavior.\n",
      "[05:17:03] WARNING: C:/Users/Administrator/workspace/xgboost-win64_release_1.3.0/src/learner.cc:1061: Starting in XGBoost 1.3.0, the default evaluation metric used with the objective 'binary:logistic' was changed from 'error' to 'logloss'. Explicitly set eval_metric if you'd like to restore the old behavior.\n",
      "[05:17:03] WARNING: C:/Users/Administrator/workspace/xgboost-win64_release_1.3.0/src/learner.cc:1061: Starting in XGBoost 1.3.0, the default evaluation metric used with the objective 'binary:logistic' was changed from 'error' to 'logloss'. Explicitly set eval_metric if you'd like to restore the old behavior.\n",
      "[05:17:03] WARNING: C:/Users/Administrator/workspace/xgboost-win64_release_1.3.0/src/learner.cc:1061: Starting in XGBoost 1.3.0, the default evaluation metric used with the objective 'binary:logistic' was changed from 'error' to 'logloss'. Explicitly set eval_metric if you'd like to restore the old behavior.\n"
     ]
    }
   ],
   "source": [
    "sklearn_cl_models_cross_validation_1f = sklearn_cl_models_cross_validation(X, y)"
   ]
  },
  {
   "cell_type": "code",
   "execution_count": 68,
   "metadata": {},
   "outputs": [],
   "source": [
    "svc_optimizer_1f = svc_optimizer(X_train, y_train, X_test, y_test)"
   ]
  },
  {
   "cell_type": "markdown",
   "metadata": {},
   "source": [
    "#### (d) Dense 2 Features"
   ]
  },
  {
   "cell_type": "code",
   "execution_count": 69,
   "metadata": {},
   "outputs": [],
   "source": [
    "X, X_train, X_test, y, y_train, y_test = dataset_classification_2f(df_MSFT, \"REGN\")\n",
    "X, X_train, X_test = scaler_classification_2f(X, X_train, X_test)"
   ]
  },
  {
   "cell_type": "code",
   "execution_count": 70,
   "metadata": {},
   "outputs": [],
   "source": [
    "history, model = dense_cl_2f(X_train, y_train)\n",
    "dic_dense_cl_2f = eva_dense_cl_2f(model, X_test, y_test)"
   ]
  },
  {
   "cell_type": "markdown",
   "metadata": {},
   "source": [
    "#### (e) LSTM 2 Features"
   ]
  },
  {
   "cell_type": "code",
   "execution_count": 71,
   "metadata": {},
   "outputs": [],
   "source": [
    "history, model = lstm_cl_2f(X_train, y_train)\n",
    "dic_lstm_cl_2f = eva_lstm_cl_2f(model, X_test, y_test)"
   ]
  },
  {
   "cell_type": "markdown",
   "metadata": {},
   "source": [
    "#### (f) Logistic Regression, SVC, Decision Tree Classifier, Random Forest Classifier, XGB Classifier"
   ]
  },
  {
   "cell_type": "code",
   "execution_count": 72,
   "metadata": {},
   "outputs": [
    {
     "name": "stdout",
     "output_type": "stream",
     "text": [
      "[05:17:13] WARNING: C:/Users/Administrator/workspace/xgboost-win64_release_1.3.0/src/learner.cc:1061: Starting in XGBoost 1.3.0, the default evaluation metric used with the objective 'binary:logistic' was changed from 'error' to 'logloss'. Explicitly set eval_metric if you'd like to restore the old behavior.\n"
     ]
    }
   ],
   "source": [
    "sklearn_cl_models_2f = sklearn_cl_models(X_train, y_train, X_test, y_test)"
   ]
  },
  {
   "cell_type": "code",
   "execution_count": 73,
   "metadata": {},
   "outputs": [
    {
     "name": "stdout",
     "output_type": "stream",
     "text": [
      "[05:17:14] WARNING: C:/Users/Administrator/workspace/xgboost-win64_release_1.3.0/src/learner.cc:1061: Starting in XGBoost 1.3.0, the default evaluation metric used with the objective 'binary:logistic' was changed from 'error' to 'logloss'. Explicitly set eval_metric if you'd like to restore the old behavior.\n",
      "[05:17:14] WARNING: C:/Users/Administrator/workspace/xgboost-win64_release_1.3.0/src/learner.cc:1061: Starting in XGBoost 1.3.0, the default evaluation metric used with the objective 'binary:logistic' was changed from 'error' to 'logloss'. Explicitly set eval_metric if you'd like to restore the old behavior.\n",
      "[05:17:14] WARNING: C:/Users/Administrator/workspace/xgboost-win64_release_1.3.0/src/learner.cc:1061: Starting in XGBoost 1.3.0, the default evaluation metric used with the objective 'binary:logistic' was changed from 'error' to 'logloss'. Explicitly set eval_metric if you'd like to restore the old behavior.\n",
      "[05:17:15] WARNING: C:/Users/Administrator/workspace/xgboost-win64_release_1.3.0/src/learner.cc:1061: Starting in XGBoost 1.3.0, the default evaluation metric used with the objective 'binary:logistic' was changed from 'error' to 'logloss'. Explicitly set eval_metric if you'd like to restore the old behavior.\n",
      "[05:17:15] WARNING: C:/Users/Administrator/workspace/xgboost-win64_release_1.3.0/src/learner.cc:1061: Starting in XGBoost 1.3.0, the default evaluation metric used with the objective 'binary:logistic' was changed from 'error' to 'logloss'. Explicitly set eval_metric if you'd like to restore the old behavior.\n"
     ]
    }
   ],
   "source": [
    "sklearn_cl_models_cross_validation_2f = sklearn_cl_models_cross_validation(X, y)"
   ]
  },
  {
   "cell_type": "code",
   "execution_count": 74,
   "metadata": {},
   "outputs": [],
   "source": [
    "svc_optimizer_2f = svc_optimizer(X_train, y_train, X_test, y_test)"
   ]
  },
  {
   "cell_type": "markdown",
   "metadata": {},
   "source": [
    "### (g) Scores between 1 Feature and 2 Features"
   ]
  },
  {
   "cell_type": "code",
   "execution_count": 75,
   "metadata": {},
   "outputs": [
    {
     "data": {
      "text/html": [
       "<div>\n",
       "<style scoped>\n",
       "    .dataframe tbody tr th:only-of-type {\n",
       "        vertical-align: middle;\n",
       "    }\n",
       "\n",
       "    .dataframe tbody tr th {\n",
       "        vertical-align: top;\n",
       "    }\n",
       "\n",
       "    .dataframe thead th {\n",
       "        text-align: right;\n",
       "    }\n",
       "</style>\n",
       "<table border=\"1\" class=\"dataframe\">\n",
       "  <thead>\n",
       "    <tr style=\"text-align: right;\">\n",
       "      <th></th>\n",
       "      <th>1 Feature</th>\n",
       "      <th>2 Features</th>\n",
       "      <th>sentiment_impact</th>\n",
       "    </tr>\n",
       "  </thead>\n",
       "  <tbody>\n",
       "    <tr>\n",
       "      <th>DecisionTreeClassifier</th>\n",
       "      <td>0.531915</td>\n",
       "      <td>0.489362</td>\n",
       "      <td>-0.042553</td>\n",
       "    </tr>\n",
       "    <tr>\n",
       "      <th>DecisionTreeClassifier (Cross Validation)</th>\n",
       "      <td>0.410385</td>\n",
       "      <td>0.403262</td>\n",
       "      <td>-0.007123</td>\n",
       "    </tr>\n",
       "    <tr>\n",
       "      <th>Dense</th>\n",
       "      <td>0.531915</td>\n",
       "      <td>0.531915</td>\n",
       "      <td>0.000000</td>\n",
       "    </tr>\n",
       "    <tr>\n",
       "      <th>LSTM</th>\n",
       "      <td>0.531915</td>\n",
       "      <td>0.531915</td>\n",
       "      <td>0.000000</td>\n",
       "    </tr>\n",
       "    <tr>\n",
       "      <th>LogisticRegression</th>\n",
       "      <td>0.531915</td>\n",
       "      <td>0.531915</td>\n",
       "      <td>0.000000</td>\n",
       "    </tr>\n",
       "    <tr>\n",
       "      <th>LogisticRegression (Cross Validation)</th>\n",
       "      <td>0.527072</td>\n",
       "      <td>0.535583</td>\n",
       "      <td>0.008511</td>\n",
       "    </tr>\n",
       "    <tr>\n",
       "      <th>RandomForestClassifier</th>\n",
       "      <td>0.531915</td>\n",
       "      <td>0.503546</td>\n",
       "      <td>-0.028369</td>\n",
       "    </tr>\n",
       "    <tr>\n",
       "      <th>RandomForestClassifier (Cross Validation)</th>\n",
       "      <td>0.410385</td>\n",
       "      <td>0.406069</td>\n",
       "      <td>-0.004316</td>\n",
       "    </tr>\n",
       "    <tr>\n",
       "      <th>SVC</th>\n",
       "      <td>0.531915</td>\n",
       "      <td>0.531915</td>\n",
       "      <td>0.000000</td>\n",
       "    </tr>\n",
       "    <tr>\n",
       "      <th>SVC (Cross Validation)</th>\n",
       "      <td>0.504377</td>\n",
       "      <td>0.515724</td>\n",
       "      <td>0.011348</td>\n",
       "    </tr>\n",
       "    <tr>\n",
       "      <th>SVC (Grid Search)</th>\n",
       "      <td>0.531915</td>\n",
       "      <td>0.531915</td>\n",
       "      <td>0.000000</td>\n",
       "    </tr>\n",
       "    <tr>\n",
       "      <th>XGBClassifier</th>\n",
       "      <td>0.468085</td>\n",
       "      <td>0.468085</td>\n",
       "      <td>0.000000</td>\n",
       "    </tr>\n",
       "    <tr>\n",
       "      <th>XGBClassifier (Cross Validation)</th>\n",
       "      <td>0.408956</td>\n",
       "      <td>0.398967</td>\n",
       "      <td>-0.009990</td>\n",
       "    </tr>\n",
       "  </tbody>\n",
       "</table>\n",
       "</div>"
      ],
      "text/plain": [
       "                                           1 Feature  2 Features  \\\n",
       "DecisionTreeClassifier                      0.531915    0.489362   \n",
       "DecisionTreeClassifier (Cross Validation)   0.410385    0.403262   \n",
       "Dense                                       0.531915    0.531915   \n",
       "LSTM                                        0.531915    0.531915   \n",
       "LogisticRegression                          0.531915    0.531915   \n",
       "LogisticRegression (Cross Validation)       0.527072    0.535583   \n",
       "RandomForestClassifier                      0.531915    0.503546   \n",
       "RandomForestClassifier (Cross Validation)   0.410385    0.406069   \n",
       "SVC                                         0.531915    0.531915   \n",
       "SVC (Cross Validation)                      0.504377    0.515724   \n",
       "SVC (Grid Search)                           0.531915    0.531915   \n",
       "XGBClassifier                               0.468085    0.468085   \n",
       "XGBClassifier (Cross Validation)            0.408956    0.398967   \n",
       "\n",
       "                                           sentiment_impact  \n",
       "DecisionTreeClassifier                            -0.042553  \n",
       "DecisionTreeClassifier (Cross Validation)         -0.007123  \n",
       "Dense                                              0.000000  \n",
       "LSTM                                               0.000000  \n",
       "LogisticRegression                                 0.000000  \n",
       "LogisticRegression (Cross Validation)              0.008511  \n",
       "RandomForestClassifier                            -0.028369  \n",
       "RandomForestClassifier (Cross Validation)         -0.004316  \n",
       "SVC                                                0.000000  \n",
       "SVC (Cross Validation)                             0.011348  \n",
       "SVC (Grid Search)                                  0.000000  \n",
       "XGBClassifier                                      0.000000  \n",
       "XGBClassifier (Cross Validation)                  -0.009990  "
      ]
     },
     "execution_count": 75,
     "metadata": {},
     "output_type": "execute_result"
    }
   ],
   "source": [
    "score_df = score_df(dic_dense_cl_1f,\n",
    "                    dic_lstm_cl_1f,\n",
    "                    sklearn_cl_models_1f,\n",
    "                    sklearn_cl_models_cross_validation_1f,\n",
    "                    svc_optimizer_1f,\n",
    "                    dic_dense_cl_2f,\n",
    "                    dic_lstm_cl_2f,\n",
    "                    sklearn_cl_models_2f,\n",
    "                    sklearn_cl_models_cross_validation_2f,\n",
    "                    svc_optimizer_2f\n",
    "                   )\n",
    "\n",
    "score_df"
   ]
  },
  {
   "cell_type": "code",
   "execution_count": null,
   "metadata": {},
   "outputs": [],
   "source": []
  },
  {
   "cell_type": "markdown",
   "metadata": {},
   "source": [
    "## 1. MRNA"
   ]
  },
  {
   "cell_type": "markdown",
   "metadata": {},
   "source": [
    "### (1) Data Creation"
   ]
  },
  {
   "cell_type": "code",
   "execution_count": 42,
   "metadata": {},
   "outputs": [
    {
     "data": {
      "text/html": [
       "<div>\n",
       "<style scoped>\n",
       "    .dataframe tbody tr th:only-of-type {\n",
       "        vertical-align: middle;\n",
       "    }\n",
       "\n",
       "    .dataframe tbody tr th {\n",
       "        vertical-align: top;\n",
       "    }\n",
       "\n",
       "    .dataframe thead th {\n",
       "        text-align: right;\n",
       "    }\n",
       "</style>\n",
       "<table border=\"1\" class=\"dataframe\">\n",
       "  <thead>\n",
       "    <tr style=\"text-align: right;\">\n",
       "      <th></th>\n",
       "      <th>MSFT</th>\n",
       "      <th>SMA20</th>\n",
       "      <th>daily_return</th>\n",
       "      <th>actual_signal</th>\n",
       "      <th>avg_sentiments</th>\n",
       "      <th>SMA_shift</th>\n",
       "    </tr>\n",
       "    <tr>\n",
       "      <th>Date</th>\n",
       "      <th></th>\n",
       "      <th></th>\n",
       "      <th></th>\n",
       "      <th></th>\n",
       "      <th></th>\n",
       "      <th></th>\n",
       "    </tr>\n",
       "  </thead>\n",
       "  <tbody>\n",
       "    <tr>\n",
       "      <th>2015-01-16</th>\n",
       "      <td>46.22</td>\n",
       "      <td>NaN</td>\n",
       "      <td>0.016271</td>\n",
       "      <td>1.0</td>\n",
       "      <td>NaN</td>\n",
       "      <td>NaN</td>\n",
       "    </tr>\n",
       "    <tr>\n",
       "      <th>2015-01-20</th>\n",
       "      <td>46.39</td>\n",
       "      <td>NaN</td>\n",
       "      <td>0.003678</td>\n",
       "      <td>1.0</td>\n",
       "      <td>0.4767</td>\n",
       "      <td>NaN</td>\n",
       "    </tr>\n",
       "    <tr>\n",
       "      <th>2015-01-21</th>\n",
       "      <td>45.91</td>\n",
       "      <td>NaN</td>\n",
       "      <td>-0.010347</td>\n",
       "      <td>0.0</td>\n",
       "      <td>0.0000</td>\n",
       "      <td>NaN</td>\n",
       "    </tr>\n",
       "    <tr>\n",
       "      <th>2015-01-22</th>\n",
       "      <td>47.12</td>\n",
       "      <td>NaN</td>\n",
       "      <td>0.026356</td>\n",
       "      <td>1.0</td>\n",
       "      <td>NaN</td>\n",
       "      <td>NaN</td>\n",
       "    </tr>\n",
       "    <tr>\n",
       "      <th>2015-01-23</th>\n",
       "      <td>47.18</td>\n",
       "      <td>NaN</td>\n",
       "      <td>0.001273</td>\n",
       "      <td>1.0</td>\n",
       "      <td>NaN</td>\n",
       "      <td>NaN</td>\n",
       "    </tr>\n",
       "  </tbody>\n",
       "</table>\n",
       "</div>"
      ],
      "text/plain": [
       "             MSFT  SMA20  daily_return  actual_signal  avg_sentiments  \\\n",
       "Date                                                                    \n",
       "2015-01-16  46.22    NaN      0.016271            1.0             NaN   \n",
       "2015-01-20  46.39    NaN      0.003678            1.0          0.4767   \n",
       "2015-01-21  45.91    NaN     -0.010347            0.0          0.0000   \n",
       "2015-01-22  47.12    NaN      0.026356            1.0             NaN   \n",
       "2015-01-23  47.18    NaN      0.001273            1.0             NaN   \n",
       "\n",
       "            SMA_shift  \n",
       "Date                   \n",
       "2015-01-16        NaN  \n",
       "2015-01-20        NaN  \n",
       "2015-01-21        NaN  \n",
       "2015-01-22        NaN  \n",
       "2015-01-23        NaN  "
      ]
     },
     "execution_count": 42,
     "metadata": {},
     "output_type": "execute_result"
    }
   ],
   "source": [
    "df=read_file(\"MRNA\")\n",
    "df1=sentiment_analysis(df)\n",
    "df2=stock_prices()\n",
    "df3=manipulate_df(df2, 'MRNA')\n",
    "df_MSFT=final_df(df3, df1, 'MRNA')\n",
    "df_MSFT.head()"
   ]
  },
  {
   "cell_type": "markdown",
   "metadata": {},
   "source": [
    "### (2) Regression"
   ]
  },
  {
   "cell_type": "markdown",
   "metadata": {},
   "source": [
    "#### (a) Dense 1 feature"
   ]
  },
  {
   "cell_type": "code",
   "execution_count": 43,
   "metadata": {},
   "outputs": [],
   "source": [
    "X, X_train, X_test, y, y_train, y_test=dataset_regression_1f(df_MSFT, 'MRNA')\n",
    "X, X_train, X_test, y, y_train, y_test=scaler_regression_1f(X, X_train, X_test, y, y_train, y_test)"
   ]
  },
  {
   "cell_type": "code",
   "execution_count": 44,
   "metadata": {},
   "outputs": [],
   "source": [
    "msft_dense_lr_1f_history, msft_dense_lr_1f_model =dense_lr_1f(X_train, y_train)"
   ]
  },
  {
   "cell_type": "code",
   "execution_count": 45,
   "metadata": {},
   "outputs": [],
   "source": [
    "score_dense_lr_1f_df = score_dense_lr_1f(msft_dense_lr_1f_history)"
   ]
  },
  {
   "cell_type": "code",
   "execution_count": 46,
   "metadata": {},
   "outputs": [],
   "source": [
    "pred_dense_lr_1f_df = pred_dense_lr_1f(msft_dense_lr_1f_model, X_test, y_test)"
   ]
  },
  {
   "cell_type": "markdown",
   "metadata": {},
   "source": [
    "#### (b) LSTM 1 feature"
   ]
  },
  {
   "cell_type": "code",
   "execution_count": 47,
   "metadata": {},
   "outputs": [],
   "source": [
    "msft_lstm_lr_1f_history, msft_lstm_lr_1f_model =lstm_lr_1f(X_train, y_train)"
   ]
  },
  {
   "cell_type": "code",
   "execution_count": 48,
   "metadata": {},
   "outputs": [],
   "source": [
    "score_lstm_lr_1f_df = score_lstm_lr_1f(msft_lstm_lr_1f_history)"
   ]
  },
  {
   "cell_type": "code",
   "execution_count": 49,
   "metadata": {},
   "outputs": [],
   "source": [
    "pred_lstm_lr_1f_df = pred_lstm_lr_1f(msft_lstm_lr_1f_model, X_test, y_test)"
   ]
  },
  {
   "cell_type": "markdown",
   "metadata": {},
   "source": [
    "#### (c) Dense 2 features"
   ]
  },
  {
   "cell_type": "code",
   "execution_count": 50,
   "metadata": {},
   "outputs": [],
   "source": [
    "X, X_train, X_test, y, y_train, y_test=dataset_regression_2f(df_MSFT, 'MRNA')\n",
    "X, X_train, X_test, y, y_train, y_test=scaler_regression_2f(X, X_train, X_test, y, y_train, y_test)"
   ]
  },
  {
   "cell_type": "code",
   "execution_count": 51,
   "metadata": {},
   "outputs": [],
   "source": [
    "msft_dense_lr_2f_history, msft_dense_lr_2f_model = dense_lr_2f(X_train, y_train)"
   ]
  },
  {
   "cell_type": "code",
   "execution_count": 52,
   "metadata": {},
   "outputs": [],
   "source": [
    "score_dense_lr_2f_df = score_dense_lr_2f(msft_dense_lr_2f_history)"
   ]
  },
  {
   "cell_type": "code",
   "execution_count": 53,
   "metadata": {},
   "outputs": [],
   "source": [
    "pred_dense_lr_2f_df = pred_dense_lr_2f(msft_dense_lr_2f_model, X_test, y_test)"
   ]
  },
  {
   "cell_type": "markdown",
   "metadata": {},
   "source": [
    "#### (d) LSTM 2 features"
   ]
  },
  {
   "cell_type": "code",
   "execution_count": 54,
   "metadata": {},
   "outputs": [],
   "source": [
    "msft_lstm_lr_2f_history, msft_lstm_lr_2f_model = lstm_lr_2f(X_train, y_train)"
   ]
  },
  {
   "cell_type": "code",
   "execution_count": 55,
   "metadata": {},
   "outputs": [],
   "source": [
    "score_lstm_lr_2f_df = score_lstm_lr_2f(msft_lstm_lr_2f_history)"
   ]
  },
  {
   "cell_type": "code",
   "execution_count": 56,
   "metadata": {},
   "outputs": [],
   "source": [
    "pred_lstm_lr_2f_df = pred_lstm_lr_2f(msft_lstm_lr_2f_model, X_test, y_test)"
   ]
  },
  {
   "cell_type": "markdown",
   "metadata": {},
   "source": [
    "#### (e) Visualization"
   ]
  },
  {
   "cell_type": "code",
   "execution_count": 57,
   "metadata": {},
   "outputs": [
    {
     "data": {
      "application/vnd.holoviews_exec.v0+json": "",
      "text/html": [
       "<div id='1001'>\n",
       "\n",
       "\n",
       "\n",
       "\n",
       "\n",
       "  <div class=\"bk-root\" id=\"1b9b28c4-6a32-43e1-a2a5-1add7dda3c50\" data-root-id=\"1001\"></div>\n",
       "</div>\n",
       "<script type=\"application/javascript\">(function(root) {\n",
       "  function embed_document(root) {\n",
       "    var docs_json = {\"529406ea-0595-4503-8c48-341c44b33a42\":{\"roots\":{\"references\":[{\"attributes\":{},\"id\":\"1017\",\"type\":\"BasicTicker\"},{\"attributes\":{\"axis_label\":\"\",\"bounds\":\"auto\",\"formatter\":{\"id\":\"1040\"},\"major_label_orientation\":\"horizontal\",\"ticker\":{\"id\":\"1021\"}},\"id\":\"1020\",\"type\":\"LinearAxis\"},{\"attributes\":{\"line_alpha\":0.1,\"line_color\":\"#1f77b3\",\"line_width\":2,\"x\":{\"field\":\"index\"},\"y\":{\"field\":\"value\"}},\"id\":\"1045\",\"type\":\"Line\"},{\"attributes\":{\"below\":[{\"id\":\"1016\"}],\"center\":[{\"id\":\"1019\"},{\"id\":\"1023\"}],\"left\":[{\"id\":\"1020\"}],\"margin\":[5,5,5,5],\"min_border_bottom\":10,\"min_border_left\":10,\"min_border_right\":10,\"min_border_top\":10,\"plot_height\":300,\"plot_width\":700,\"renderers\":[{\"id\":\"1047\"},{\"id\":\"1065\"}],\"right\":[{\"id\":\"1057\"}],\"sizing_mode\":\"fixed\",\"title\":{\"id\":\"1008\"},\"toolbar\":{\"id\":\"1030\"},\"x_range\":{\"id\":\"1003\"},\"x_scale\":{\"id\":\"1012\"},\"y_range\":{\"id\":\"1004\"},\"y_scale\":{\"id\":\"1014\"}},\"id\":\"1007\",\"subtype\":\"Figure\",\"type\":\"Plot\"},{\"attributes\":{\"line_alpha\":0.1,\"line_color\":\"#ff7e0e\",\"line_width\":2,\"x\":{\"field\":\"index\"},\"y\":{\"field\":\"value\"}},\"id\":\"1063\",\"type\":\"Line\"},{\"attributes\":{\"end\":0.14323489093221725,\"reset_end\":0.14323489093221725,\"reset_start\":-0.007471426902338863,\"start\":-0.007471426902338863,\"tags\":[[[\"value\",\"value\",null]]]},\"id\":\"1004\",\"type\":\"Range1d\"},{\"attributes\":{\"source\":{\"id\":\"1059\"}},\"id\":\"1066\",\"type\":\"CDSView\"},{\"attributes\":{},\"id\":\"1060\",\"type\":\"Selection\"},{\"attributes\":{\"data_source\":{\"id\":\"1041\"},\"glyph\":{\"id\":\"1044\"},\"hover_glyph\":null,\"muted_glyph\":{\"id\":\"1046\"},\"nonselection_glyph\":{\"id\":\"1045\"},\"selection_glyph\":null,\"view\":{\"id\":\"1048\"}},\"id\":\"1047\",\"type\":\"GlyphRenderer\"},{\"attributes\":{\"active_drag\":\"auto\",\"active_inspect\":\"auto\",\"active_multi\":null,\"active_scroll\":\"auto\",\"active_tap\":\"auto\",\"tools\":[{\"id\":\"1005\"},{\"id\":\"1024\"},{\"id\":\"1025\"},{\"id\":\"1026\"},{\"id\":\"1027\"},{\"id\":\"1028\"}]},\"id\":\"1030\",\"type\":\"Toolbar\"},{\"attributes\":{\"line_color\":\"#ff7e0e\",\"line_width\":2,\"x\":{\"field\":\"index\"},\"y\":{\"field\":\"value\"}},\"id\":\"1062\",\"type\":\"Line\"},{\"attributes\":{\"callback\":null,\"renderers\":[{\"id\":\"1047\"},{\"id\":\"1065\"}],\"tags\":[\"hv_created\"],\"tooltips\":[[\"Variable\",\"@{Variable}\"],[\"index\",\"@{index}\"],[\"value\",\"@{value}\"]]},\"id\":\"1005\",\"type\":\"HoverTool\"},{\"attributes\":{\"axis\":{\"id\":\"1016\"},\"grid_line_color\":null,\"ticker\":null},\"id\":\"1019\",\"type\":\"Grid\"},{\"attributes\":{\"click_policy\":\"mute\",\"items\":[{\"id\":\"1058\"},{\"id\":\"1077\"}],\"location\":[0,0],\"title\":\"Variable\"},\"id\":\"1057\",\"type\":\"Legend\"},{\"attributes\":{\"label\":{\"value\":\"loss_1f\"},\"renderers\":[{\"id\":\"1047\"}]},\"id\":\"1058\",\"type\":\"LegendItem\"},{\"attributes\":{},\"id\":\"1055\",\"type\":\"UnionRenderers\"},{\"attributes\":{\"axis\":{\"id\":\"1020\"},\"dimension\":1,\"grid_line_color\":null,\"ticker\":null},\"id\":\"1023\",\"type\":\"Grid\"},{\"attributes\":{\"line_color\":\"#1f77b3\",\"line_width\":2,\"x\":{\"field\":\"index\"},\"y\":{\"field\":\"value\"}},\"id\":\"1044\",\"type\":\"Line\"},{\"attributes\":{},\"id\":\"1075\",\"type\":\"UnionRenderers\"},{\"attributes\":{},\"id\":\"1021\",\"type\":\"BasicTicker\"},{\"attributes\":{\"label\":{\"value\":\"loss_2f\"},\"renderers\":[{\"id\":\"1065\"}]},\"id\":\"1077\",\"type\":\"LegendItem\"},{\"attributes\":{\"end\":23.0,\"reset_end\":23.0,\"reset_start\":1.0,\"start\":1.0,\"tags\":[[[\"index\",\"index\",null]]]},\"id\":\"1003\",\"type\":\"Range1d\"},{\"attributes\":{\"bottom_units\":\"screen\",\"fill_alpha\":0.5,\"fill_color\":\"lightgrey\",\"left_units\":\"screen\",\"level\":\"overlay\",\"line_alpha\":1.0,\"line_color\":\"black\",\"line_dash\":[4,4],\"line_width\":2,\"right_units\":\"screen\",\"top_units\":\"screen\"},\"id\":\"1029\",\"type\":\"BoxAnnotation\"},{\"attributes\":{\"children\":[{\"id\":\"1002\"},{\"id\":\"1007\"},{\"id\":\"1168\"}],\"margin\":[0,0,0,0],\"name\":\"Row01558\",\"tags\":[\"embedded\"]},\"id\":\"1001\",\"type\":\"Row\"},{\"attributes\":{\"line_alpha\":0.2,\"line_color\":\"#1f77b3\",\"line_width\":2,\"x\":{\"field\":\"index\"},\"y\":{\"field\":\"value\"}},\"id\":\"1046\",\"type\":\"Line\"},{\"attributes\":{\"margin\":[5,5,5,5],\"name\":\"HSpacer01562\",\"sizing_mode\":\"stretch_width\"},\"id\":\"1002\",\"type\":\"Spacer\"},{\"attributes\":{},\"id\":\"1038\",\"type\":\"BasicTickFormatter\"},{\"attributes\":{},\"id\":\"1040\",\"type\":\"BasicTickFormatter\"},{\"attributes\":{\"line_alpha\":0.2,\"line_color\":\"#ff7e0e\",\"line_width\":2,\"x\":{\"field\":\"index\"},\"y\":{\"field\":\"value\"}},\"id\":\"1064\",\"type\":\"Line\"},{\"attributes\":{},\"id\":\"1024\",\"type\":\"SaveTool\"},{\"attributes\":{\"axis_label\":\"\",\"bounds\":\"auto\",\"formatter\":{\"id\":\"1038\"},\"major_label_orientation\":\"horizontal\",\"ticker\":{\"id\":\"1017\"}},\"id\":\"1016\",\"type\":\"LinearAxis\"},{\"attributes\":{},\"id\":\"1025\",\"type\":\"PanTool\"},{\"attributes\":{\"source\":{\"id\":\"1041\"}},\"id\":\"1048\",\"type\":\"CDSView\"},{\"attributes\":{},\"id\":\"1028\",\"type\":\"ResetTool\"},{\"attributes\":{},\"id\":\"1026\",\"type\":\"WheelZoomTool\"},{\"attributes\":{\"data\":{\"Variable\":[\"loss_1f\",\"loss_1f\",\"loss_1f\",\"loss_1f\",\"loss_1f\",\"loss_1f\",\"loss_1f\",\"loss_1f\",\"loss_1f\",\"loss_1f\",\"loss_1f\",\"loss_1f\",\"loss_1f\",\"loss_1f\",\"loss_1f\",\"loss_1f\",\"loss_1f\",\"loss_1f\",\"loss_1f\",\"loss_1f\",\"loss_1f\",\"loss_1f\",\"loss_1f\"],\"index\":[1,2,3,4,5,6,7,8,9,10,11,12,13,14,15,16,17,18,19,20,21,22,23],\"value\":{\"__ndarray__\":\"AAAAAP65wD8AAABgdlmyPwAAAKBzrKU/AAAA4ATonD8AAADgiDKYPwAAAOAREpc/AAAAYA0klD8AAACAdAKSPwAAAECuGJA/AAAAICzliz8AAAAAgAuGPwAAAEC+F4g/AAAAAF6hgj8AAAAAOFiDPwAAAEAhqIA/AAAAAHbSgT8AAADgQ6mAPwAAAKAgTH0/AAAAAH6sdj8AAACgVKJ+PwAAAODqhXg/AAAAoDFRez8AAAAAAAD4fw==\",\"dtype\":\"float64\",\"order\":\"little\",\"shape\":[23]}},\"selected\":{\"id\":\"1042\"},\"selection_policy\":{\"id\":\"1055\"}},\"id\":\"1041\",\"type\":\"ColumnDataSource\"},{\"attributes\":{\"overlay\":{\"id\":\"1029\"}},\"id\":\"1027\",\"type\":\"BoxZoomTool\"},{\"attributes\":{},\"id\":\"1012\",\"type\":\"LinearScale\"},{\"attributes\":{\"data\":{\"Variable\":[\"loss_2f\",\"loss_2f\",\"loss_2f\",\"loss_2f\",\"loss_2f\",\"loss_2f\",\"loss_2f\",\"loss_2f\",\"loss_2f\",\"loss_2f\",\"loss_2f\",\"loss_2f\",\"loss_2f\",\"loss_2f\",\"loss_2f\",\"loss_2f\",\"loss_2f\",\"loss_2f\",\"loss_2f\",\"loss_2f\",\"loss_2f\",\"loss_2f\",\"loss_2f\"],\"index\":[1,2,3,4,5,6,7,8,9,10,11,12,13,14,15,16,17,18,19,20,21,22,23],\"value\":{\"__ndarray__\":\"AAAAwP/eqz8AAAAATlWfPwAAAGAZeZQ/AAAAIHhtkT8AAACADO6GPwAAAODMLYg/AAAAoDYahj8AAACARueAPwAAAABAj4E/AAAA4EZWgD8AAABAbRyCPwAAAADBxH0/AAAAwGvIgD8AAACAbhSBPwAAAABa2no/AAAAoD3deD8AAADAsUN/PwAAAGApVHU/AAAAgPmNeT8AAABgj9Z0PwAAACBhbns/AAAAoLi3dj8AAACACtB3Pw==\",\"dtype\":\"float64\",\"order\":\"little\",\"shape\":[23]}},\"selected\":{\"id\":\"1060\"},\"selection_policy\":{\"id\":\"1075\"}},\"id\":\"1059\",\"type\":\"ColumnDataSource\"},{\"attributes\":{},\"id\":\"1042\",\"type\":\"Selection\"},{\"attributes\":{\"text\":\"\",\"text_color\":{\"value\":\"black\"},\"text_font_size\":{\"value\":\"12pt\"}},\"id\":\"1008\",\"type\":\"Title\"},{\"attributes\":{\"data_source\":{\"id\":\"1059\"},\"glyph\":{\"id\":\"1062\"},\"hover_glyph\":null,\"muted_glyph\":{\"id\":\"1064\"},\"nonselection_glyph\":{\"id\":\"1063\"},\"selection_glyph\":null,\"view\":{\"id\":\"1066\"}},\"id\":\"1065\",\"type\":\"GlyphRenderer\"},{\"attributes\":{},\"id\":\"1014\",\"type\":\"LinearScale\"},{\"attributes\":{\"margin\":[5,5,5,5],\"name\":\"HSpacer01563\",\"sizing_mode\":\"stretch_width\"},\"id\":\"1168\",\"type\":\"Spacer\"}],\"root_ids\":[\"1001\"]},\"title\":\"Bokeh Application\",\"version\":\"2.2.3\"}};\n",
       "    var render_items = [{\"docid\":\"529406ea-0595-4503-8c48-341c44b33a42\",\"root_ids\":[\"1001\"],\"roots\":{\"1001\":\"1b9b28c4-6a32-43e1-a2a5-1add7dda3c50\"}}];\n",
       "    root.Bokeh.embed.embed_items_notebook(docs_json, render_items);\n",
       "  }\n",
       "  if (root.Bokeh !== undefined && root.Bokeh.Panel !== undefined) {\n",
       "    embed_document(root);\n",
       "  } else {\n",
       "    var attempts = 0;\n",
       "    var timer = setInterval(function(root) {\n",
       "      if (root.Bokeh !== undefined && root.Bokeh.Panel !== undefined) {\n",
       "        clearInterval(timer);\n",
       "        embed_document(root);\n",
       "      } else if (document.readyState == \"complete\") {\n",
       "        attempts++;\n",
       "        if (attempts > 100) {\n",
       "          clearInterval(timer);\n",
       "          console.log(\"Bokeh: ERROR: Unable to run BokehJS code because BokehJS library is missing\");\n",
       "        }\n",
       "      }\n",
       "    }, 10, root)\n",
       "  }\n",
       "})(window);</script>"
      ],
      "text/plain": [
       ":NdOverlay   [Variable]\n",
       "   :Curve   [index]   (value)"
      ]
     },
     "execution_count": 57,
     "metadata": {
      "application/vnd.holoviews_exec.v0+json": {
       "id": "1001"
      }
     },
     "output_type": "execute_result"
    }
   ],
   "source": [
    "score_loss_lr_1fvs2f(score_dense_lr_1f_df, score_dense_lr_2f_df)"
   ]
  },
  {
   "cell_type": "code",
   "execution_count": 58,
   "metadata": {},
   "outputs": [
    {
     "data": {
      "application/vnd.holoviews_exec.v0+json": "",
      "text/html": [
       "<div id='1220'>\n",
       "\n",
       "\n",
       "\n",
       "\n",
       "\n",
       "  <div class=\"bk-root\" id=\"1d085996-6aa6-4cac-900a-4bf51ea7b775\" data-root-id=\"1220\"></div>\n",
       "</div>\n",
       "<script type=\"application/javascript\">(function(root) {\n",
       "  function embed_document(root) {\n",
       "    var docs_json = {\"88c3fd6a-3847-433b-8c89-ced8721b5e20\":{\"roots\":{\"references\":[{\"attributes\":{},\"id\":\"1247\",\"type\":\"ResetTool\"},{\"attributes\":{},\"id\":\"1245\",\"type\":\"WheelZoomTool\"},{\"attributes\":{},\"id\":\"1244\",\"type\":\"PanTool\"},{\"attributes\":{},\"id\":\"1279\",\"type\":\"Selection\"},{\"attributes\":{\"overlay\":{\"id\":\"1248\"}},\"id\":\"1246\",\"type\":\"BoxZoomTool\"},{\"attributes\":{\"source\":{\"id\":\"1260\"}},\"id\":\"1267\",\"type\":\"CDSView\"},{\"attributes\":{},\"id\":\"1257\",\"type\":\"BasicTickFormatter\"},{\"attributes\":{},\"id\":\"1259\",\"type\":\"BasicTickFormatter\"},{\"attributes\":{\"text\":\"\",\"text_color\":{\"value\":\"black\"},\"text_font_size\":{\"value\":\"12pt\"}},\"id\":\"1227\",\"type\":\"Title\"},{\"attributes\":{\"line_alpha\":0.1,\"line_color\":\"#ff7e0e\",\"line_width\":2,\"x\":{\"field\":\"index\"},\"y\":{\"field\":\"value\"}},\"id\":\"1282\",\"type\":\"Line\"},{\"attributes\":{\"data_source\":{\"id\":\"1278\"},\"glyph\":{\"id\":\"1281\"},\"hover_glyph\":null,\"muted_glyph\":{\"id\":\"1283\"},\"nonselection_glyph\":{\"id\":\"1282\"},\"selection_glyph\":null,\"view\":{\"id\":\"1285\"}},\"id\":\"1284\",\"type\":\"GlyphRenderer\"},{\"attributes\":{},\"id\":\"1231\",\"type\":\"LinearScale\"},{\"attributes\":{\"axis_label\":\"\",\"bounds\":\"auto\",\"formatter\":{\"id\":\"1257\"},\"major_label_orientation\":\"horizontal\",\"ticker\":{\"id\":\"1236\"}},\"id\":\"1235\",\"type\":\"LinearAxis\"},{\"attributes\":{},\"id\":\"1233\",\"type\":\"LinearScale\"},{\"attributes\":{},\"id\":\"1236\",\"type\":\"BasicTicker\"},{\"attributes\":{},\"id\":\"1261\",\"type\":\"Selection\"},{\"attributes\":{\"margin\":[5,5,5,5],\"name\":\"HSpacer02009\",\"sizing_mode\":\"stretch_width\"},\"id\":\"1387\",\"type\":\"Spacer\"},{\"attributes\":{\"axis\":{\"id\":\"1235\"},\"grid_line_color\":null,\"ticker\":null},\"id\":\"1238\",\"type\":\"Grid\"},{\"attributes\":{\"click_policy\":\"mute\",\"items\":[{\"id\":\"1277\"},{\"id\":\"1296\"}],\"location\":[0,0],\"title\":\"Variable\"},\"id\":\"1276\",\"type\":\"Legend\"},{\"attributes\":{\"end\":0.2944421749562025,\"reset_end\":0.2944421749562025,\"reset_start\":0.027774116024374962,\"start\":0.027774116024374962,\"tags\":[[[\"value\",\"value\",null]]]},\"id\":\"1223\",\"type\":\"Range1d\"},{\"attributes\":{\"line_color\":\"#1f77b3\",\"line_width\":2,\"x\":{\"field\":\"index\"},\"y\":{\"field\":\"value\"}},\"id\":\"1263\",\"type\":\"Line\"},{\"attributes\":{\"label\":{\"value\":\"mae_1f\"},\"renderers\":[{\"id\":\"1266\"}]},\"id\":\"1277\",\"type\":\"LegendItem\"},{\"attributes\":{\"active_drag\":\"auto\",\"active_inspect\":\"auto\",\"active_multi\":null,\"active_scroll\":\"auto\",\"active_tap\":\"auto\",\"tools\":[{\"id\":\"1224\"},{\"id\":\"1243\"},{\"id\":\"1244\"},{\"id\":\"1245\"},{\"id\":\"1246\"},{\"id\":\"1247\"}]},\"id\":\"1249\",\"type\":\"Toolbar\"},{\"attributes\":{\"source\":{\"id\":\"1278\"}},\"id\":\"1285\",\"type\":\"CDSView\"},{\"attributes\":{},\"id\":\"1274\",\"type\":\"UnionRenderers\"},{\"attributes\":{\"axis\":{\"id\":\"1239\"},\"dimension\":1,\"grid_line_color\":null,\"ticker\":null},\"id\":\"1242\",\"type\":\"Grid\"},{\"attributes\":{\"data\":{\"Variable\":[\"mae_2f\",\"mae_2f\",\"mae_2f\",\"mae_2f\",\"mae_2f\",\"mae_2f\",\"mae_2f\",\"mae_2f\",\"mae_2f\",\"mae_2f\",\"mae_2f\",\"mae_2f\",\"mae_2f\",\"mae_2f\",\"mae_2f\",\"mae_2f\",\"mae_2f\",\"mae_2f\",\"mae_2f\",\"mae_2f\",\"mae_2f\",\"mae_2f\",\"mae_2f\"],\"index\":[1,2,3,4,5,6,7,8,9,10,11,12,13,14,15,16,17,18,19,20,21,22,23],\"value\":{\"__ndarray__\":\"AAAAYFVmxj8AAACg2FTBPwAAAECRZrw/AAAAoOqvuT8AAACAK9O0PwAAACC5t7Q/AAAAQA/Xsz8AAACgenaxPwAAAKBOZ7E/AAAAgDfpsD8AAADAgSKxPwAAAMC5ga8/AAAAYDtKsD8AAAAA/vuvPwAAAEA2Ba4/AAAAYGzNqz8AAACAOT2vPwAAAOCO/ao/AAAAYKdIrD8AAACgIpmpPwAAAEB9y6w/AAAAgCkyqj8AAAAgmISqPw==\",\"dtype\":\"float64\",\"order\":\"little\",\"shape\":[23]}},\"selected\":{\"id\":\"1279\"},\"selection_policy\":{\"id\":\"1294\"}},\"id\":\"1278\",\"type\":\"ColumnDataSource\"},{\"attributes\":{\"line_color\":\"#ff7e0e\",\"line_width\":2,\"x\":{\"field\":\"index\"},\"y\":{\"field\":\"value\"}},\"id\":\"1281\",\"type\":\"Line\"},{\"attributes\":{\"children\":[{\"id\":\"1221\"},{\"id\":\"1226\"},{\"id\":\"1387\"}],\"margin\":[0,0,0,0],\"name\":\"Row02004\",\"tags\":[\"embedded\"]},\"id\":\"1220\",\"type\":\"Row\"},{\"attributes\":{},\"id\":\"1240\",\"type\":\"BasicTicker\"},{\"attributes\":{\"data\":{\"Variable\":[\"mae_1f\",\"mae_1f\",\"mae_1f\",\"mae_1f\",\"mae_1f\",\"mae_1f\",\"mae_1f\",\"mae_1f\",\"mae_1f\",\"mae_1f\",\"mae_1f\",\"mae_1f\",\"mae_1f\",\"mae_1f\",\"mae_1f\",\"mae_1f\",\"mae_1f\",\"mae_1f\",\"mae_1f\",\"mae_1f\",\"mae_1f\",\"mae_1f\",\"mae_1f\"],\"index\":[1,2,3,4,5,6,7,8,9,10,11,12,13,14,15,16,17,18,19,20,21,22,23],\"value\":{\"__ndarray__\":\"AAAAwAxs0T8AAABAyi/IPwAAAOBuksI/AAAAwK1PwD8AAACgxBa/PwAAAIBTor0/AAAAYNMuvD8AAABAthq6PwAAAODMnbg/AAAAwDdytj8AAADgQJ6zPwAAAAAP5LM/AAAAQH15sj8AAADA1P2xPwAAAMAJbLA/AAAAAMZOsD8AAADApF6vPwAAAGDEH60/AAAAAKQ0qz8AAADAJOyrPwAAAGCzjao/AAAAgFmrqj8AAAAAAAD4fw==\",\"dtype\":\"float64\",\"order\":\"little\",\"shape\":[23]}},\"selected\":{\"id\":\"1261\"},\"selection_policy\":{\"id\":\"1274\"}},\"id\":\"1260\",\"type\":\"ColumnDataSource\"},{\"attributes\":{\"end\":23.0,\"reset_end\":23.0,\"reset_start\":1.0,\"start\":1.0,\"tags\":[[[\"index\",\"index\",null]]]},\"id\":\"1222\",\"type\":\"Range1d\"},{\"attributes\":{\"axis_label\":\"\",\"bounds\":\"auto\",\"formatter\":{\"id\":\"1259\"},\"major_label_orientation\":\"horizontal\",\"ticker\":{\"id\":\"1240\"}},\"id\":\"1239\",\"type\":\"LinearAxis\"},{\"attributes\":{\"line_alpha\":0.1,\"line_color\":\"#1f77b3\",\"line_width\":2,\"x\":{\"field\":\"index\"},\"y\":{\"field\":\"value\"}},\"id\":\"1264\",\"type\":\"Line\"},{\"attributes\":{\"bottom_units\":\"screen\",\"fill_alpha\":0.5,\"fill_color\":\"lightgrey\",\"left_units\":\"screen\",\"level\":\"overlay\",\"line_alpha\":1.0,\"line_color\":\"black\",\"line_dash\":[4,4],\"line_width\":2,\"right_units\":\"screen\",\"top_units\":\"screen\"},\"id\":\"1248\",\"type\":\"BoxAnnotation\"},{\"attributes\":{\"margin\":[5,5,5,5],\"name\":\"HSpacer02008\",\"sizing_mode\":\"stretch_width\"},\"id\":\"1221\",\"type\":\"Spacer\"},{\"attributes\":{},\"id\":\"1294\",\"type\":\"UnionRenderers\"},{\"attributes\":{\"label\":{\"value\":\"mae_2f\"},\"renderers\":[{\"id\":\"1284\"}]},\"id\":\"1296\",\"type\":\"LegendItem\"},{\"attributes\":{\"below\":[{\"id\":\"1235\"}],\"center\":[{\"id\":\"1238\"},{\"id\":\"1242\"}],\"left\":[{\"id\":\"1239\"}],\"margin\":[5,5,5,5],\"min_border_bottom\":10,\"min_border_left\":10,\"min_border_right\":10,\"min_border_top\":10,\"plot_height\":300,\"plot_width\":700,\"renderers\":[{\"id\":\"1266\"},{\"id\":\"1284\"}],\"right\":[{\"id\":\"1276\"}],\"sizing_mode\":\"fixed\",\"title\":{\"id\":\"1227\"},\"toolbar\":{\"id\":\"1249\"},\"x_range\":{\"id\":\"1222\"},\"x_scale\":{\"id\":\"1231\"},\"y_range\":{\"id\":\"1223\"},\"y_scale\":{\"id\":\"1233\"}},\"id\":\"1226\",\"subtype\":\"Figure\",\"type\":\"Plot\"},{\"attributes\":{\"data_source\":{\"id\":\"1260\"},\"glyph\":{\"id\":\"1263\"},\"hover_glyph\":null,\"muted_glyph\":{\"id\":\"1265\"},\"nonselection_glyph\":{\"id\":\"1264\"},\"selection_glyph\":null,\"view\":{\"id\":\"1267\"}},\"id\":\"1266\",\"type\":\"GlyphRenderer\"},{\"attributes\":{\"callback\":null,\"renderers\":[{\"id\":\"1266\"},{\"id\":\"1284\"}],\"tags\":[\"hv_created\"],\"tooltips\":[[\"Variable\",\"@{Variable}\"],[\"index\",\"@{index}\"],[\"value\",\"@{value}\"]]},\"id\":\"1224\",\"type\":\"HoverTool\"},{\"attributes\":{\"line_alpha\":0.2,\"line_color\":\"#1f77b3\",\"line_width\":2,\"x\":{\"field\":\"index\"},\"y\":{\"field\":\"value\"}},\"id\":\"1265\",\"type\":\"Line\"},{\"attributes\":{},\"id\":\"1243\",\"type\":\"SaveTool\"},{\"attributes\":{\"line_alpha\":0.2,\"line_color\":\"#ff7e0e\",\"line_width\":2,\"x\":{\"field\":\"index\"},\"y\":{\"field\":\"value\"}},\"id\":\"1283\",\"type\":\"Line\"}],\"root_ids\":[\"1220\"]},\"title\":\"Bokeh Application\",\"version\":\"2.2.3\"}};\n",
       "    var render_items = [{\"docid\":\"88c3fd6a-3847-433b-8c89-ced8721b5e20\",\"root_ids\":[\"1220\"],\"roots\":{\"1220\":\"1d085996-6aa6-4cac-900a-4bf51ea7b775\"}}];\n",
       "    root.Bokeh.embed.embed_items_notebook(docs_json, render_items);\n",
       "  }\n",
       "  if (root.Bokeh !== undefined && root.Bokeh.Panel !== undefined) {\n",
       "    embed_document(root);\n",
       "  } else {\n",
       "    var attempts = 0;\n",
       "    var timer = setInterval(function(root) {\n",
       "      if (root.Bokeh !== undefined && root.Bokeh.Panel !== undefined) {\n",
       "        clearInterval(timer);\n",
       "        embed_document(root);\n",
       "      } else if (document.readyState == \"complete\") {\n",
       "        attempts++;\n",
       "        if (attempts > 100) {\n",
       "          clearInterval(timer);\n",
       "          console.log(\"Bokeh: ERROR: Unable to run BokehJS code because BokehJS library is missing\");\n",
       "        }\n",
       "      }\n",
       "    }, 10, root)\n",
       "  }\n",
       "})(window);</script>"
      ],
      "text/plain": [
       ":NdOverlay   [Variable]\n",
       "   :Curve   [index]   (value)"
      ]
     },
     "execution_count": 58,
     "metadata": {
      "application/vnd.holoviews_exec.v0+json": {
       "id": "1220"
      }
     },
     "output_type": "execute_result"
    }
   ],
   "source": [
    "score_mae_lr_1fvs2f(score_dense_lr_1f_df, score_dense_lr_2f_df)"
   ]
  },
  {
   "cell_type": "code",
   "execution_count": 59,
   "metadata": {},
   "outputs": [
    {
     "data": {
      "application/vnd.holoviews_exec.v0+json": "",
      "text/html": [
       "<div id='1439'>\n",
       "\n",
       "\n",
       "\n",
       "\n",
       "\n",
       "  <div class=\"bk-root\" id=\"5cf0c727-2b86-4d1e-92c2-4e13e4af9139\" data-root-id=\"1439\"></div>\n",
       "</div>\n",
       "<script type=\"application/javascript\">(function(root) {\n",
       "  function embed_document(root) {\n",
       "    var docs_json = {\"c6eb61bb-d59b-436c-8399-18b63a641af9\":{\"roots\":{\"references\":[{\"attributes\":{\"margin\":[5,5,5,5],\"name\":\"HSpacer02478\",\"sizing_mode\":\"stretch_width\"},\"id\":\"1440\",\"type\":\"Spacer\"},{\"attributes\":{\"text\":\"\",\"text_color\":{\"value\":\"black\"},\"text_font_size\":{\"value\":\"12pt\"}},\"id\":\"1447\",\"type\":\"Title\"},{\"attributes\":{\"data\":{\"Variable\":[\"predict_2features\",\"predict_2features\",\"predict_2features\",\"predict_2features\",\"predict_2features\",\"predict_2features\",\"predict_2features\",\"predict_2features\",\"predict_2features\",\"predict_2features\",\"predict_2features\",\"predict_2features\",\"predict_2features\",\"predict_2features\",\"predict_2features\",\"predict_2features\",\"predict_2features\",\"predict_2features\",\"predict_2features\",\"predict_2features\",\"predict_2features\",\"predict_2features\",\"predict_2features\",\"predict_2features\",\"predict_2features\",\"predict_2features\",\"predict_2features\",\"predict_2features\",\"predict_2features\",\"predict_2features\",\"predict_2features\",\"predict_2features\",\"predict_2features\",\"predict_2features\",\"predict_2features\",\"predict_2features\",\"predict_2features\",\"predict_2features\",\"predict_2features\",\"predict_2features\",\"predict_2features\",\"predict_2features\",\"predict_2features\",\"predict_2features\",\"predict_2features\",\"predict_2features\",\"predict_2features\",\"predict_2features\",\"predict_2features\",\"predict_2features\",\"predict_2features\",\"predict_2features\",\"predict_2features\",\"predict_2features\",\"predict_2features\",\"predict_2features\",\"predict_2features\",\"predict_2features\",\"predict_2features\",\"predict_2features\",\"predict_2features\",\"predict_2features\",\"predict_2features\",\"predict_2features\",\"predict_2features\",\"predict_2features\",\"predict_2features\",\"predict_2features\",\"predict_2features\",\"predict_2features\",\"predict_2features\",\"predict_2features\",\"predict_2features\",\"predict_2features\",\"predict_2features\",\"predict_2features\",\"predict_2features\",\"predict_2features\",\"predict_2features\",\"predict_2features\",\"predict_2features\",\"predict_2features\",\"predict_2features\",\"predict_2features\",\"predict_2features\",\"predict_2features\",\"predict_2features\",\"predict_2features\",\"predict_2features\",\"predict_2features\",\"predict_2features\",\"predict_2features\",\"predict_2features\",\"predict_2features\",\"predict_2features\",\"predict_2features\",\"predict_2features\",\"predict_2features\",\"predict_2features\",\"predict_2features\",\"predict_2features\",\"predict_2features\",\"predict_2features\",\"predict_2features\",\"predict_2features\",\"predict_2features\",\"predict_2features\",\"predict_2features\",\"predict_2features\",\"predict_2features\",\"predict_2features\",\"predict_2features\",\"predict_2features\",\"predict_2features\",\"predict_2features\",\"predict_2features\",\"predict_2features\",\"predict_2features\",\"predict_2features\",\"predict_2features\",\"predict_2features\",\"predict_2features\",\"predict_2features\",\"predict_2features\",\"predict_2features\",\"predict_2features\",\"predict_2features\",\"predict_2features\",\"predict_2features\",\"predict_2features\",\"predict_2features\",\"predict_2features\",\"predict_2features\",\"predict_2features\",\"predict_2features\",\"predict_2features\",\"predict_2features\",\"predict_2features\",\"predict_2features\",\"predict_2features\",\"predict_2features\",\"predict_2features\",\"predict_2features\",\"predict_2features\",\"predict_2features\",\"predict_2features\",\"predict_2features\"],\"index\":[0,1,2,3,4,5,6,7,8,9,10,11,12,13,14,15,16,17,18,19,20,21,22,23,24,25,26,27,28,29,30,31,32,33,34,35,36,37,38,39,40,41,42,43,44,45,46,47,48,49,50,51,52,53,54,55,56,57,58,59,60,61,62,63,64,65,66,67,68,69,70,71,72,73,74,75,76,77,78,79,80,81,82,83,84,85,86,87,88,89,90,91,92,93,94,95,96,97,98,99,100,101,102,103,104,105,106,107,108,109,110,111,112,113,114,115,116,117,118,119,120,121,122,123,124,125,126,127,128,129,130,131,132,133,134,135,136,137,138,139,140,141,142,143,144,145,146],\"value\":{\"__ndarray__\":\"mEM6PwOfST8mHz4/3203P2YLNj8knDY/vQY3P1BWNz9GXjc/zTNGP/ZoTD+g3k0/IlpOP7riPz+KnE8/dW0/P7QpTD+KOkQ/7H1MP/0nWD9sjFY/XsBZPw24TD92R2k/DbhMP3ZHaT/Jtl0/SupPP5sXUj8a3lk/7rFWP4CJVj9C/lw/RAJjP7FOVj8yIlQ/OMdgP/KSYj/IuVc/BKxeP9R4Xj+4S2I/IVVgP2BbYD8+pWE/CnxnP2grWz/6A14/n/1dPz8CYz/YVVo/CpVaP3eKXj9Oj2U/+G5zP06PZT/4bnM/cdlnP/42az/aVVs/0FNXP1PHZD8s0Wo/hJZyPzwbZD/gtmY/UNdpP9uEZj/64Gk/rcBlPyw0YT+jmGA/mEdmP4z1ZD+GoWE/1BhdP5R1Yj9eSmQ/7RZiP2bLVz9z1Us/BehlP6ZCYj+UIl4/jGNcP+ENXj8oNVw/IC5YP3/jXj9colc/Bt5aP7cYXD8sr2A/txhcPyyvYD+kw2M/fGlsPwTVXD8c8Gc/iHtfP4z3YT/sN2k/MJhmPzkJYT/nLGk/XZZePwgXYz/NWmQ/Jl5nP+QDaT9QzWE/yK1nP7QxZj+UlGI/tOZiP6rCZD8Rp10/FqZdP4lkcD+5ZV4/YktqP6bJaj/EP2w/6otpP2ndZz+WbGY/B4BnPxAaaj+7CW4/NqVuP8hxYz8benE/tJVsP5h7aD9Yi2s/KqVjPyB6bD/ukGU/GLhoP5oPZz+7om0/4HVtP7Jsaz9We24/IWtqPw63bz/xdWY/\",\"dtype\":\"float32\",\"order\":\"little\",\"shape\":[147]}},\"selected\":{\"id\":\"1518\"},\"selection_policy\":{\"id\":\"1535\"}},\"id\":\"1517\",\"type\":\"ColumnDataSource\"},{\"attributes\":{},\"id\":\"1481\",\"type\":\"Selection\"},{\"attributes\":{\"active_drag\":\"auto\",\"active_inspect\":\"auto\",\"active_multi\":null,\"active_scroll\":\"auto\",\"active_tap\":\"auto\",\"tools\":[{\"id\":\"1443\"},{\"id\":\"1463\"},{\"id\":\"1464\"},{\"id\":\"1465\"},{\"id\":\"1466\"},{\"id\":\"1467\"}]},\"id\":\"1469\",\"type\":\"Toolbar\"},{\"attributes\":{},\"id\":\"1494\",\"type\":\"UnionRenderers\"},{\"attributes\":{\"below\":[{\"id\":\"1455\"}],\"center\":[{\"id\":\"1458\"},{\"id\":\"1462\"}],\"left\":[{\"id\":\"1459\"}],\"margin\":[5,5,5,5],\"min_border_bottom\":10,\"min_border_left\":10,\"min_border_right\":10,\"min_border_top\":10,\"plot_height\":300,\"plot_width\":700,\"renderers\":[{\"id\":\"1486\"},{\"id\":\"1504\"},{\"id\":\"1523\"}],\"right\":[{\"id\":\"1496\"}],\"sizing_mode\":\"fixed\",\"title\":{\"id\":\"1447\"},\"toolbar\":{\"id\":\"1469\"},\"x_range\":{\"id\":\"1441\"},\"x_scale\":{\"id\":\"1451\"},\"y_range\":{\"id\":\"1442\"},\"y_scale\":{\"id\":\"1453\"}},\"id\":\"1446\",\"subtype\":\"Figure\",\"type\":\"Plot\"},{\"attributes\":{\"click_policy\":\"mute\",\"items\":[{\"id\":\"1497\"},{\"id\":\"1516\"},{\"id\":\"1537\"}],\"location\":[0,0],\"title\":\"Variable\"},\"id\":\"1496\",\"type\":\"Legend\"},{\"attributes\":{},\"id\":\"1463\",\"type\":\"SaveTool\"},{\"attributes\":{\"axis_label\":\"\",\"bounds\":\"auto\",\"formatter\":{\"id\":\"1479\"},\"major_label_orientation\":\"horizontal\",\"ticker\":{\"id\":\"1460\"}},\"id\":\"1459\",\"type\":\"LinearAxis\"},{\"attributes\":{},\"id\":\"1464\",\"type\":\"PanTool\"},{\"attributes\":{\"data\":{\"Variable\":[\"actual\",\"actual\",\"actual\",\"actual\",\"actual\",\"actual\",\"actual\",\"actual\",\"actual\",\"actual\",\"actual\",\"actual\",\"actual\",\"actual\",\"actual\",\"actual\",\"actual\",\"actual\",\"actual\",\"actual\",\"actual\",\"actual\",\"actual\",\"actual\",\"actual\",\"actual\",\"actual\",\"actual\",\"actual\",\"actual\",\"actual\",\"actual\",\"actual\",\"actual\",\"actual\",\"actual\",\"actual\",\"actual\",\"actual\",\"actual\",\"actual\",\"actual\",\"actual\",\"actual\",\"actual\",\"actual\",\"actual\",\"actual\",\"actual\",\"actual\",\"actual\",\"actual\",\"actual\",\"actual\",\"actual\",\"actual\",\"actual\",\"actual\",\"actual\",\"actual\",\"actual\",\"actual\",\"actual\",\"actual\",\"actual\",\"actual\",\"actual\",\"actual\",\"actual\",\"actual\",\"actual\",\"actual\",\"actual\",\"actual\",\"actual\",\"actual\",\"actual\",\"actual\",\"actual\",\"actual\",\"actual\",\"actual\",\"actual\",\"actual\",\"actual\",\"actual\",\"actual\",\"actual\",\"actual\",\"actual\",\"actual\",\"actual\",\"actual\",\"actual\",\"actual\",\"actual\",\"actual\",\"actual\",\"actual\",\"actual\",\"actual\",\"actual\",\"actual\",\"actual\",\"actual\",\"actual\",\"actual\",\"actual\",\"actual\",\"actual\",\"actual\",\"actual\",\"actual\",\"actual\",\"actual\",\"actual\",\"actual\",\"actual\",\"actual\",\"actual\",\"actual\",\"actual\",\"actual\",\"actual\",\"actual\",\"actual\",\"actual\",\"actual\",\"actual\",\"actual\",\"actual\",\"actual\",\"actual\",\"actual\",\"actual\",\"actual\",\"actual\",\"actual\",\"actual\",\"actual\",\"actual\",\"actual\",\"actual\",\"actual\",\"actual\",\"actual\",\"actual\"],\"index\":[0,1,2,3,4,5,6,7,8,9,10,11,12,13,14,15,16,17,18,19,20,21,22,23,24,25,26,27,28,29,30,31,32,33,34,35,36,37,38,39,40,41,42,43,44,45,46,47,48,49,50,51,52,53,54,55,56,57,58,59,60,61,62,63,64,65,66,67,68,69,70,71,72,73,74,75,76,77,78,79,80,81,82,83,84,85,86,87,88,89,90,91,92,93,94,95,96,97,98,99,100,101,102,103,104,105,106,107,108,109,110,111,112,113,114,115,116,117,118,119,120,121,122,123,124,125,126,127,128,129,130,131,132,133,134,135,136,137,138,139,140,141,142,143,144,145,146],\"value\":{\"__ndarray__\":\"QzLu9oP05z/LEcLHX/XnP2pvEL+noec/M0YQazSV5z8BMdzEd9nnP++eag1YNeg/hFZQvMxE6D/knpXwVN3nP3PE3gStoOg/aKqLJs8w6j+LTD+CdHToP3m1Wh8nvOg/QK+qXvDk6D8apDEskqnpP7JHIEpTwOk/SAR5pPXj6T/gxUSqxRvqPxoDEazveOo/IE75mplP6z+6Hh6j8sPrP+q1gVxJhOw/nhN6jZfg7D8gLwgukSPtPyAvCC6RI+0/IC8ILpEj7T8gLwgukSPtP6zw/hZeA+0/6Hnybyjq6z+6S1SNiiHsP65zQq/xEuw/3kznaI006z80o5z9oabsP1I6Y93vsew/LgO75fUo6z+aQe/fJfHqP/AVdWGgXus/Tnck0gkE6z8GwSVypGfrPwDVHANYYOs/Dp2WdnF/7T+w15TafPbsPwphB4pQ5ew/gNG5Nkl37T/6nOw8a8/sPyKt2Br3Huw/HGLwK01I6z+slpJCLkjsPwI0/IK1L+w/BiAF8gE37D/0vmKfXHHsP3CzMhU0puw/FP2Je8hZ7D+eOz3MASrtP2jv7ORR6Ow/aO/s5FHo7D9o7+zkUejsP2jv7ORR6Ow/RI96ifEF7T9AOSui2nvtPzZhW/1cRe4/aAKlDQ8u7z+8lSj3Ou3uPwEAAAAAAPA/SMsJdhKg7T8EssxvGyvrP3SayNhSmew/JGLFSFCg6z8E5HUF4ZzrP/ZgXVBKNew/cCyQVmyN6z/EuqCUajjrP3qlwrSnzOo/PsJih60q6z9as4jbLfbrP55Vu43cQes/PDqsQ+wG7D8wj9BP61XsP4AYbuK77Os/kg4yxWZ07D+CfMANR9DsP25P4Omowus/aL1DT4x27D++BbRmEbfrP4JKF3iBXuw/UhcG6rWB7D8iPmEwGmDtPyC7HZiGUO4/6Lnggn2N7j9axkAE6zvuPxDUsrdkBe4/TORIz/YE7j/eMmmnshztP94yaaeyHO0/3jJpp7Ic7T/eMmmnshztP2Irp7RvKu0/Hr72oRg07T/UZD0gdTbtP5xjAAtsc+0/jiIpVhpt7D9eHE6y5u3sP5xQSOKuLes/TqnNZ8916z+oI+cUGijrP7zJJHrwHOs/JM/pRT2h7j/yMhPhuMztPzKeKVJ0kuw/VoDLwG557T8WZk9SgVHtPwy7c16AoO0/LDnDoe+j7T98ve2IkibtP17vF8hOkOw/BHCLb9bJ7D8c7gWWQnXsP/SDreOGauw/wpuvJ2IM7T9UTiIrqQftP0yK3PrGSe0/yLTugEZx7T9Ctz3IW0/tPyoCp2D8He0//rC46iEg7T/uGdSH1GftPxIlTboyo+w/AtJD+cV87D+QWUWXDfPsPwiEVx2NGu0/vLQZZEMZ7T8Qzz8MN/HtP65ZxO0W++0/ZGc2oZDE7T/8Xx7oU4LuPzx/DQJvvu4/QDT6L8g/7j8SOAXj7+juP753Sw8szO4/zgRKGx5c7j+qpNe/vXnuP1iPJMP3te0/qkpr642+7T+khiW7qwDuP5qGUJ6oqO0/utL2S1I67T8YcDWp3HntP7S5t/Jt1ew/\",\"dtype\":\"float64\",\"order\":\"little\",\"shape\":[147]}},\"selected\":{\"id\":\"1499\"},\"selection_policy\":{\"id\":\"1514\"}},\"id\":\"1498\",\"type\":\"ColumnDataSource\"},{\"attributes\":{\"line_alpha\":0.2,\"line_color\":\"#ff7e0e\",\"line_width\":2,\"x\":{\"field\":\"index\"},\"y\":{\"field\":\"value\"}},\"id\":\"1503\",\"type\":\"Line\"},{\"attributes\":{},\"id\":\"1467\",\"type\":\"ResetTool\"},{\"attributes\":{\"line_alpha\":0.2,\"line_color\":\"#1f77b3\",\"line_width\":2,\"x\":{\"field\":\"index\"},\"y\":{\"field\":\"value\"}},\"id\":\"1485\",\"type\":\"Line\"},{\"attributes\":{\"source\":{\"id\":\"1498\"}},\"id\":\"1505\",\"type\":\"CDSView\"},{\"attributes\":{},\"id\":\"1465\",\"type\":\"WheelZoomTool\"},{\"attributes\":{},\"id\":\"1518\",\"type\":\"Selection\"},{\"attributes\":{\"overlay\":{\"id\":\"1468\"}},\"id\":\"1466\",\"type\":\"BoxZoomTool\"},{\"attributes\":{\"line_alpha\":0.2,\"line_color\":\"#2ba02b\",\"line_width\":2,\"x\":{\"field\":\"index\"},\"y\":{\"field\":\"value\"}},\"id\":\"1522\",\"type\":\"Line\"},{\"attributes\":{\"margin\":[5,5,5,5],\"name\":\"HSpacer02479\",\"sizing_mode\":\"stretch_width\"},\"id\":\"1646\",\"type\":\"Spacer\"},{\"attributes\":{},\"id\":\"1451\",\"type\":\"LinearScale\"},{\"attributes\":{\"source\":{\"id\":\"1517\"}},\"id\":\"1524\",\"type\":\"CDSView\"},{\"attributes\":{\"end\":146.0,\"reset_end\":146.0,\"reset_start\":0.0,\"tags\":[[[\"index\",\"index\",null]]]},\"id\":\"1441\",\"type\":\"Range1d\"},{\"attributes\":{\"callback\":null,\"renderers\":[{\"id\":\"1486\"},{\"id\":\"1504\"},{\"id\":\"1523\"}],\"tags\":[\"hv_created\"],\"tooltips\":[[\"Variable\",\"@{Variable}\"],[\"index\",\"@{index}\"],[\"value\",\"@{value}\"]]},\"id\":\"1443\",\"type\":\"HoverTool\"},{\"attributes\":{\"line_color\":\"#1f77b3\",\"line_width\":2,\"x\":{\"field\":\"index\"},\"y\":{\"field\":\"value\"}},\"id\":\"1483\",\"type\":\"Line\"},{\"attributes\":{\"line_color\":\"#2ba02b\",\"line_width\":2,\"x\":{\"field\":\"index\"},\"y\":{\"field\":\"value\"}},\"id\":\"1520\",\"type\":\"Line\"},{\"attributes\":{\"axis_label\":\"\",\"bounds\":\"auto\",\"formatter\":{\"id\":\"1477\"},\"major_label_orientation\":\"horizontal\",\"ticker\":{\"id\":\"1456\"}},\"id\":\"1455\",\"type\":\"LinearAxis\"},{\"attributes\":{},\"id\":\"1453\",\"type\":\"LinearScale\"},{\"attributes\":{\"line_color\":\"#ff7e0e\",\"line_width\":2,\"x\":{\"field\":\"index\"},\"y\":{\"field\":\"value\"}},\"id\":\"1501\",\"type\":\"Line\"},{\"attributes\":{},\"id\":\"1456\",\"type\":\"BasicTicker\"},{\"attributes\":{},\"id\":\"1535\",\"type\":\"UnionRenderers\"},{\"attributes\":{\"axis\":{\"id\":\"1455\"},\"grid_line_color\":null,\"ticker\":null},\"id\":\"1458\",\"type\":\"Grid\"},{\"attributes\":{\"data_source\":{\"id\":\"1498\"},\"glyph\":{\"id\":\"1501\"},\"hover_glyph\":null,\"muted_glyph\":{\"id\":\"1503\"},\"nonselection_glyph\":{\"id\":\"1502\"},\"selection_glyph\":null,\"view\":{\"id\":\"1505\"}},\"id\":\"1504\",\"type\":\"GlyphRenderer\"},{\"attributes\":{\"data_source\":{\"id\":\"1517\"},\"glyph\":{\"id\":\"1520\"},\"hover_glyph\":null,\"muted_glyph\":{\"id\":\"1522\"},\"nonselection_glyph\":{\"id\":\"1521\"},\"selection_glyph\":null,\"view\":{\"id\":\"1524\"}},\"id\":\"1523\",\"type\":\"GlyphRenderer\"},{\"attributes\":{\"data\":{\"Variable\":[\"predict_1feature\",\"predict_1feature\",\"predict_1feature\",\"predict_1feature\",\"predict_1feature\",\"predict_1feature\",\"predict_1feature\",\"predict_1feature\",\"predict_1feature\",\"predict_1feature\",\"predict_1feature\",\"predict_1feature\",\"predict_1feature\",\"predict_1feature\",\"predict_1feature\",\"predict_1feature\",\"predict_1feature\",\"predict_1feature\",\"predict_1feature\",\"predict_1feature\",\"predict_1feature\",\"predict_1feature\",\"predict_1feature\",\"predict_1feature\",\"predict_1feature\",\"predict_1feature\",\"predict_1feature\",\"predict_1feature\",\"predict_1feature\",\"predict_1feature\",\"predict_1feature\",\"predict_1feature\",\"predict_1feature\",\"predict_1feature\",\"predict_1feature\",\"predict_1feature\",\"predict_1feature\",\"predict_1feature\",\"predict_1feature\",\"predict_1feature\",\"predict_1feature\",\"predict_1feature\",\"predict_1feature\",\"predict_1feature\",\"predict_1feature\",\"predict_1feature\",\"predict_1feature\",\"predict_1feature\",\"predict_1feature\",\"predict_1feature\",\"predict_1feature\",\"predict_1feature\",\"predict_1feature\",\"predict_1feature\",\"predict_1feature\",\"predict_1feature\",\"predict_1feature\",\"predict_1feature\",\"predict_1feature\",\"predict_1feature\",\"predict_1feature\",\"predict_1feature\",\"predict_1feature\",\"predict_1feature\",\"predict_1feature\",\"predict_1feature\",\"predict_1feature\",\"predict_1feature\",\"predict_1feature\",\"predict_1feature\",\"predict_1feature\",\"predict_1feature\",\"predict_1feature\",\"predict_1feature\",\"predict_1feature\",\"predict_1feature\",\"predict_1feature\",\"predict_1feature\",\"predict_1feature\",\"predict_1feature\",\"predict_1feature\",\"predict_1feature\",\"predict_1feature\",\"predict_1feature\",\"predict_1feature\",\"predict_1feature\",\"predict_1feature\",\"predict_1feature\",\"predict_1feature\",\"predict_1feature\",\"predict_1feature\",\"predict_1feature\",\"predict_1feature\",\"predict_1feature\",\"predict_1feature\",\"predict_1feature\",\"predict_1feature\",\"predict_1feature\",\"predict_1feature\",\"predict_1feature\",\"predict_1feature\",\"predict_1feature\",\"predict_1feature\",\"predict_1feature\",\"predict_1feature\",\"predict_1feature\",\"predict_1feature\",\"predict_1feature\",\"predict_1feature\",\"predict_1feature\",\"predict_1feature\",\"predict_1feature\",\"predict_1feature\",\"predict_1feature\",\"predict_1feature\",\"predict_1feature\",\"predict_1feature\",\"predict_1feature\",\"predict_1feature\",\"predict_1feature\",\"predict_1feature\",\"predict_1feature\",\"predict_1feature\",\"predict_1feature\",\"predict_1feature\",\"predict_1feature\",\"predict_1feature\",\"predict_1feature\",\"predict_1feature\",\"predict_1feature\",\"predict_1feature\",\"predict_1feature\",\"predict_1feature\",\"predict_1feature\",\"predict_1feature\",\"predict_1feature\",\"predict_1feature\",\"predict_1feature\",\"predict_1feature\",\"predict_1feature\",\"predict_1feature\",\"predict_1feature\",\"predict_1feature\",\"predict_1feature\",\"predict_1feature\",\"predict_1feature\",\"predict_1feature\"],\"index\":[0,1,2,3,4,5,6,7,8,9,10,11,12,13,14,15,16,17,18,19,20,21,22,23,24,25,26,27,28,29,30,31,32,33,34,35,36,37,38,39,40,41,42,43,44,45,46,47,48,49,50,51,52,53,54,55,56,57,58,59,60,61,62,63,64,65,66,67,68,69,70,71,72,73,74,75,76,77,78,79,80,81,82,83,84,85,86,87,88,89,90,91,92,93,94,95,96,97,98,99,100,101,102,103,104,105,106,107,108,109,110,111,112,113,114,115,116,117,118,119,120,121,122,123,124,125,126,127,128,129,130,131,132,133,134,135,136,137,138,139,140,141,142,143,144,145,146],\"value\":{\"__ndarray__\":\"f/4oP5+ZKT8ADSo/dggrP394Kz8I5Cs/QjMsP25uLD9YdCw/JwMtP+S8LT/wEi4/ynMuPx29Lj/rLS8/qkAwP+J5ND//GDU/LOI1P2DINz+Q8zg/JBw7PwZBPD8GQTw/kHdMP5B3TD8nIz0/w4A+P6J0Pz/ibEA/XaJBP5z2QT9qM0M/S7JDP4fvQz+d+0M/V1xEPwSGRD85jUQ/CnVEP0jARD8CAkU/bgNFP4IcRT/yDEU/xRxFP6/bRD+i60Q/4ylFP1N3RT9cZ0U/eopFPxBwRT/GCUY/xglGP9K+UD/SvlA/hqBGP1kfRz+k3Ec/d7hIP9UOSz8dMEw/Nh5NP0tATT8790w/NFxNP7btTD+Jv0w/iq1MP2pZTD+5Akw/W01LP9fHSj9Yqkk/MsNIP2HRRz/A2EY/gPJFP9YXRT9zI0Q/a5RDP+xjQz/bjUM/PHxDP8O/Qz8oV0Q/YCZFPzHaRT/ep0Y/rH5HP6J1SD+idUg/q9FKP6vRSj/YCkk/MmdJP8gdSj/Ds0o/9yBLP+gnSz/2dEs/EhNLP0WrSj/3fEo/3GtKPyhzSz+rS0s/w7NKP395Sj+aQ0o/fyVKPwNOSj/cTEo/yhtKPz/7ST8Zr0k/U65JP3W3ST93RUo/pWdLP04aTD/vkUw/NgVMP5aNSz9db0s/YXRLP64oSz9iDEs/QORKP7S6Sj9s90o/G2RLPzqvSz+JTEw/Ev9MP2nOTT/MSk4/EsxOP24STz/Ta08/W5lPP1zKTz8QM1A/6IxQP0OiUD8msFA/\",\"dtype\":\"float32\",\"order\":\"little\",\"shape\":[147]}},\"selected\":{\"id\":\"1481\"},\"selection_policy\":{\"id\":\"1494\"}},\"id\":\"1480\",\"type\":\"ColumnDataSource\"},{\"attributes\":{\"line_alpha\":0.1,\"line_color\":\"#2ba02b\",\"line_width\":2,\"x\":{\"field\":\"index\"},\"y\":{\"field\":\"value\"}},\"id\":\"1521\",\"type\":\"Line\"},{\"attributes\":{\"label\":{\"value\":\"actual\"},\"renderers\":[{\"id\":\"1504\"}]},\"id\":\"1516\",\"type\":\"LegendItem\"},{\"attributes\":{\"data_source\":{\"id\":\"1480\"},\"glyph\":{\"id\":\"1483\"},\"hover_glyph\":null,\"muted_glyph\":{\"id\":\"1485\"},\"nonselection_glyph\":{\"id\":\"1484\"},\"selection_glyph\":null,\"view\":{\"id\":\"1487\"}},\"id\":\"1486\",\"type\":\"GlyphRenderer\"},{\"attributes\":{\"axis\":{\"id\":\"1459\"},\"dimension\":1,\"grid_line_color\":null,\"ticker\":null},\"id\":\"1462\",\"type\":\"Grid\"},{\"attributes\":{},\"id\":\"1477\",\"type\":\"BasicTickFormatter\"},{\"attributes\":{\"label\":{\"value\":\"predict_2features\"},\"renderers\":[{\"id\":\"1523\"}]},\"id\":\"1537\",\"type\":\"LegendItem\"},{\"attributes\":{},\"id\":\"1479\",\"type\":\"BasicTickFormatter\"},{\"attributes\":{},\"id\":\"1460\",\"type\":\"BasicTicker\"},{\"attributes\":{},\"id\":\"1499\",\"type\":\"Selection\"},{\"attributes\":{\"line_alpha\":0.1,\"line_color\":\"#ff7e0e\",\"line_width\":2,\"x\":{\"field\":\"index\"},\"y\":{\"field\":\"value\"}},\"id\":\"1502\",\"type\":\"Line\"},{\"attributes\":{\"source\":{\"id\":\"1480\"}},\"id\":\"1487\",\"type\":\"CDSView\"},{\"attributes\":{\"bottom_units\":\"screen\",\"fill_alpha\":0.5,\"fill_color\":\"lightgrey\",\"left_units\":\"screen\",\"level\":\"overlay\",\"line_alpha\":1.0,\"line_color\":\"black\",\"line_dash\":[4,4],\"line_width\":2,\"right_units\":\"screen\",\"top_units\":\"screen\"},\"id\":\"1468\",\"type\":\"BoxAnnotation\"},{\"attributes\":{\"line_alpha\":0.1,\"line_color\":\"#1f77b3\",\"line_width\":2,\"x\":{\"field\":\"index\"},\"y\":{\"field\":\"value\"}},\"id\":\"1484\",\"type\":\"Line\"},{\"attributes\":{\"label\":{\"value\":\"predict_1feature\"},\"renderers\":[{\"id\":\"1486\"}]},\"id\":\"1497\",\"type\":\"LegendItem\"},{\"attributes\":{},\"id\":\"1514\",\"type\":\"UnionRenderers\"},{\"attributes\":{\"children\":[{\"id\":\"1440\"},{\"id\":\"1446\"},{\"id\":\"1646\"}],\"margin\":[0,0,0,0],\"name\":\"Row02474\",\"tags\":[\"embedded\"]},\"id\":\"1439\",\"type\":\"Row\"},{\"attributes\":{\"end\":1.033986669778824,\"reset_end\":1.033986669778824,\"reset_start\":0.6261466324329376,\"start\":0.6261466324329376,\"tags\":[[[\"value\",\"value\",null]]]},\"id\":\"1442\",\"type\":\"Range1d\"}],\"root_ids\":[\"1439\"]},\"title\":\"Bokeh Application\",\"version\":\"2.2.3\"}};\n",
       "    var render_items = [{\"docid\":\"c6eb61bb-d59b-436c-8399-18b63a641af9\",\"root_ids\":[\"1439\"],\"roots\":{\"1439\":\"5cf0c727-2b86-4d1e-92c2-4e13e4af9139\"}}];\n",
       "    root.Bokeh.embed.embed_items_notebook(docs_json, render_items);\n",
       "  }\n",
       "  if (root.Bokeh !== undefined && root.Bokeh.Panel !== undefined) {\n",
       "    embed_document(root);\n",
       "  } else {\n",
       "    var attempts = 0;\n",
       "    var timer = setInterval(function(root) {\n",
       "      if (root.Bokeh !== undefined && root.Bokeh.Panel !== undefined) {\n",
       "        clearInterval(timer);\n",
       "        embed_document(root);\n",
       "      } else if (document.readyState == \"complete\") {\n",
       "        attempts++;\n",
       "        if (attempts > 100) {\n",
       "          clearInterval(timer);\n",
       "          console.log(\"Bokeh: ERROR: Unable to run BokehJS code because BokehJS library is missing\");\n",
       "        }\n",
       "      }\n",
       "    }, 10, root)\n",
       "  }\n",
       "})(window);</script>"
      ],
      "text/plain": [
       ":NdOverlay   [Variable]\n",
       "   :Curve   [index]   (value)"
      ]
     },
     "execution_count": 59,
     "metadata": {
      "application/vnd.holoviews_exec.v0+json": {
       "id": "1439"
      }
     },
     "output_type": "execute_result"
    }
   ],
   "source": [
    "pred_lr_1fvs2f(pred_dense_lr_1f_df,pred_lstm_lr_2f_df)"
   ]
  },
  {
   "cell_type": "code",
   "execution_count": 60,
   "metadata": {},
   "outputs": [
    {
     "data": {
      "application/vnd.holoviews_exec.v0+json": "",
      "text/html": [
       "<div id='1708'>\n",
       "\n",
       "\n",
       "\n",
       "\n",
       "\n",
       "  <div class=\"bk-root\" id=\"63afc377-8881-42eb-92d2-611cc4929ab9\" data-root-id=\"1708\"></div>\n",
       "</div>\n",
       "<script type=\"application/javascript\">(function(root) {\n",
       "  function embed_document(root) {\n",
       "    var docs_json = {\"0b00ab76-bb91-4e0e-b821-c2e41e8e3b7d\":{\"roots\":{\"references\":[{\"attributes\":{\"source\":{\"id\":\"1766\"}},\"id\":\"1773\",\"type\":\"CDSView\"},{\"attributes\":{\"callback\":null,\"renderers\":[{\"id\":\"1754\"},{\"id\":\"1772\"}],\"tags\":[\"hv_created\"],\"tooltips\":[[\"Variable\",\"@{Variable}\"],[\"index\",\"@{index}\"],[\"value\",\"@{value}\"]]},\"id\":\"1712\",\"type\":\"HoverTool\"},{\"attributes\":{\"source\":{\"id\":\"1748\"}},\"id\":\"1755\",\"type\":\"CDSView\"},{\"attributes\":{\"line_color\":\"#ff7e0e\",\"line_width\":2,\"x\":{\"field\":\"index\"},\"y\":{\"field\":\"value\"}},\"id\":\"1769\",\"type\":\"Line\"},{\"attributes\":{},\"id\":\"1731\",\"type\":\"SaveTool\"},{\"attributes\":{},\"id\":\"1732\",\"type\":\"PanTool\"},{\"attributes\":{\"axis_label\":\"\",\"bounds\":\"auto\",\"formatter\":{\"id\":\"1747\"},\"major_label_orientation\":\"horizontal\",\"ticker\":{\"id\":\"1728\"}},\"id\":\"1727\",\"type\":\"LinearAxis\"},{\"attributes\":{},\"id\":\"1735\",\"type\":\"ResetTool\"},{\"attributes\":{\"line_color\":\"#1f77b3\",\"line_width\":2,\"x\":{\"field\":\"index\"},\"y\":{\"field\":\"value\"}},\"id\":\"1751\",\"type\":\"Line\"},{\"attributes\":{},\"id\":\"1733\",\"type\":\"WheelZoomTool\"},{\"attributes\":{},\"id\":\"1782\",\"type\":\"UnionRenderers\"},{\"attributes\":{\"overlay\":{\"id\":\"1736\"}},\"id\":\"1734\",\"type\":\"BoxZoomTool\"},{\"attributes\":{\"label\":{\"value\":\"loss_1f\"},\"renderers\":[{\"id\":\"1754\"}]},\"id\":\"1765\",\"type\":\"LegendItem\"},{\"attributes\":{\"label\":{\"value\":\"loss_2f\"},\"renderers\":[{\"id\":\"1772\"}]},\"id\":\"1784\",\"type\":\"LegendItem\"},{\"attributes\":{},\"id\":\"1745\",\"type\":\"BasicTickFormatter\"},{\"attributes\":{\"text\":\"\",\"text_color\":{\"value\":\"black\"},\"text_font_size\":{\"value\":\"12pt\"}},\"id\":\"1715\",\"type\":\"Title\"},{\"attributes\":{},\"id\":\"1747\",\"type\":\"BasicTickFormatter\"},{\"attributes\":{},\"id\":\"1762\",\"type\":\"UnionRenderers\"},{\"attributes\":{},\"id\":\"1719\",\"type\":\"LinearScale\"},{\"attributes\":{\"click_policy\":\"mute\",\"items\":[{\"id\":\"1765\"},{\"id\":\"1784\"}],\"location\":[0,0],\"title\":\"Variable\"},\"id\":\"1764\",\"type\":\"Legend\"},{\"attributes\":{\"margin\":[5,5,5,5],\"name\":\"HSpacer03058\",\"sizing_mode\":\"stretch_width\"},\"id\":\"1875\",\"type\":\"Spacer\"},{\"attributes\":{\"end\":0.09984610609244556,\"reset_end\":0.09984610609244556,\"reset_start\":-0.005607758485712112,\"start\":-0.005607758485712112,\"tags\":[[[\"value\",\"value\",null]]]},\"id\":\"1711\",\"type\":\"Range1d\"},{\"attributes\":{\"axis_label\":\"\",\"bounds\":\"auto\",\"formatter\":{\"id\":\"1745\"},\"major_label_orientation\":\"horizontal\",\"ticker\":{\"id\":\"1724\"}},\"id\":\"1723\",\"type\":\"LinearAxis\"},{\"attributes\":{\"line_alpha\":0.2,\"line_color\":\"#ff7e0e\",\"line_width\":2,\"x\":{\"field\":\"index\"},\"y\":{\"field\":\"value\"}},\"id\":\"1771\",\"type\":\"Line\"},{\"attributes\":{},\"id\":\"1721\",\"type\":\"LinearScale\"},{\"attributes\":{},\"id\":\"1724\",\"type\":\"BasicTicker\"},{\"attributes\":{\"data\":{\"Variable\":[\"loss_1f\",\"loss_1f\",\"loss_1f\",\"loss_1f\",\"loss_1f\",\"loss_1f\",\"loss_1f\",\"loss_1f\",\"loss_1f\",\"loss_1f\",\"loss_1f\",\"loss_1f\",\"loss_1f\",\"loss_1f\",\"loss_1f\",\"loss_1f\",\"loss_1f\",\"loss_1f\",\"loss_1f\",\"loss_1f\",\"loss_1f\",\"loss_1f\",\"loss_1f\",\"loss_1f\"],\"index\":[1,2,3,4,5,6,7,8,9,10,11,12,13,14,15,16,17,18,19,20,21,22,23,24],\"value\":{\"__ndarray__\":\"AAAAgJhPtz8AAADg5/+rPwAAAAC0NqI/AAAAINWinT8AAACg0XCXPwAAAKCiaY0/AAAAINfkfT8AAACgBTN4PwAAAOBMEXM/AAAAoC7Mcz8AAAAggP5yPwAAACB+InQ/AAAAIGEtcj8AAAAg0NFzPwAAAABURW0/AAAAAAnHcD8AAABgiE1yPwAAAIBpTGw/AAAAoBMNaj8AAADAucRtPwAAAOCyim0/AAAAYK7ncD8AAAAAAAD4fwAAAAAAAPh/\",\"dtype\":\"float64\",\"order\":\"little\",\"shape\":[24]}},\"selected\":{\"id\":\"1749\"},\"selection_policy\":{\"id\":\"1762\"}},\"id\":\"1748\",\"type\":\"ColumnDataSource\"},{\"attributes\":{\"line_alpha\":0.2,\"line_color\":\"#1f77b3\",\"line_width\":2,\"x\":{\"field\":\"index\"},\"y\":{\"field\":\"value\"}},\"id\":\"1753\",\"type\":\"Line\"},{\"attributes\":{\"axis\":{\"id\":\"1723\"},\"grid_line_color\":null,\"ticker\":null},\"id\":\"1726\",\"type\":\"Grid\"},{\"attributes\":{\"line_alpha\":0.1,\"line_color\":\"#1f77b3\",\"line_width\":2,\"x\":{\"field\":\"index\"},\"y\":{\"field\":\"value\"}},\"id\":\"1752\",\"type\":\"Line\"},{\"attributes\":{\"line_alpha\":0.1,\"line_color\":\"#ff7e0e\",\"line_width\":2,\"x\":{\"field\":\"index\"},\"y\":{\"field\":\"value\"}},\"id\":\"1770\",\"type\":\"Line\"},{\"attributes\":{\"axis\":{\"id\":\"1727\"},\"dimension\":1,\"grid_line_color\":null,\"ticker\":null},\"id\":\"1730\",\"type\":\"Grid\"},{\"attributes\":{\"active_drag\":\"auto\",\"active_inspect\":\"auto\",\"active_multi\":null,\"active_scroll\":\"auto\",\"active_tap\":\"auto\",\"tools\":[{\"id\":\"1712\"},{\"id\":\"1731\"},{\"id\":\"1732\"},{\"id\":\"1733\"},{\"id\":\"1734\"},{\"id\":\"1735\"}]},\"id\":\"1737\",\"type\":\"Toolbar\"},{\"attributes\":{\"data\":{\"Variable\":[\"loss_2f\",\"loss_2f\",\"loss_2f\",\"loss_2f\",\"loss_2f\",\"loss_2f\",\"loss_2f\",\"loss_2f\",\"loss_2f\",\"loss_2f\",\"loss_2f\",\"loss_2f\",\"loss_2f\",\"loss_2f\",\"loss_2f\",\"loss_2f\",\"loss_2f\",\"loss_2f\",\"loss_2f\",\"loss_2f\",\"loss_2f\",\"loss_2f\",\"loss_2f\",\"loss_2f\"],\"index\":[1,2,3,4,5,6,7,8,9,10,11,12,13,14,15,16,17,18,19,20,21,22,23,24],\"value\":{\"__ndarray__\":\"AAAAYE9btD8AAAAgiuOiPwAAAMDwbaA/AAAAgO5CmD8AAABAckyPPwAAAAAtvYA/AAAAAO2SeD8AAAAAddp8PwAAAKARSnc/AAAAoJdkdT8AAAAAGHV4PwAAAID+h3U/AAAAYINCdT8AAAAgqGB0PwAAAGCb7XI/AAAAYDvlcj8AAAAgFdZyPwAAAED4Q3E/AAAAwAuLcD8AAAAgQo5wPwAAAGAAN2w/AAAAgHcXbT8AAACAH+ZvPwAAAEBXMG0/\",\"dtype\":\"float64\",\"order\":\"little\",\"shape\":[24]}},\"selected\":{\"id\":\"1767\"},\"selection_policy\":{\"id\":\"1782\"}},\"id\":\"1766\",\"type\":\"ColumnDataSource\"},{\"attributes\":{},\"id\":\"1749\",\"type\":\"Selection\"},{\"attributes\":{},\"id\":\"1728\",\"type\":\"BasicTicker\"},{\"attributes\":{\"end\":24.0,\"reset_end\":24.0,\"reset_start\":1.0,\"start\":1.0,\"tags\":[[[\"index\",\"index\",null]]]},\"id\":\"1710\",\"type\":\"Range1d\"},{\"attributes\":{\"children\":[{\"id\":\"1709\"},{\"id\":\"1714\"},{\"id\":\"1875\"}],\"margin\":[0,0,0,0],\"name\":\"Row03053\",\"tags\":[\"embedded\"]},\"id\":\"1708\",\"type\":\"Row\"},{\"attributes\":{\"data_source\":{\"id\":\"1748\"},\"glyph\":{\"id\":\"1751\"},\"hover_glyph\":null,\"muted_glyph\":{\"id\":\"1753\"},\"nonselection_glyph\":{\"id\":\"1752\"},\"selection_glyph\":null,\"view\":{\"id\":\"1755\"}},\"id\":\"1754\",\"type\":\"GlyphRenderer\"},{\"attributes\":{\"data_source\":{\"id\":\"1766\"},\"glyph\":{\"id\":\"1769\"},\"hover_glyph\":null,\"muted_glyph\":{\"id\":\"1771\"},\"nonselection_glyph\":{\"id\":\"1770\"},\"selection_glyph\":null,\"view\":{\"id\":\"1773\"}},\"id\":\"1772\",\"type\":\"GlyphRenderer\"},{\"attributes\":{},\"id\":\"1767\",\"type\":\"Selection\"},{\"attributes\":{\"below\":[{\"id\":\"1723\"}],\"center\":[{\"id\":\"1726\"},{\"id\":\"1730\"}],\"left\":[{\"id\":\"1727\"}],\"margin\":[5,5,5,5],\"min_border_bottom\":10,\"min_border_left\":10,\"min_border_right\":10,\"min_border_top\":10,\"plot_height\":300,\"plot_width\":700,\"renderers\":[{\"id\":\"1754\"},{\"id\":\"1772\"}],\"right\":[{\"id\":\"1764\"}],\"sizing_mode\":\"fixed\",\"title\":{\"id\":\"1715\"},\"toolbar\":{\"id\":\"1737\"},\"x_range\":{\"id\":\"1710\"},\"x_scale\":{\"id\":\"1719\"},\"y_range\":{\"id\":\"1711\"},\"y_scale\":{\"id\":\"1721\"}},\"id\":\"1714\",\"subtype\":\"Figure\",\"type\":\"Plot\"},{\"attributes\":{\"margin\":[5,5,5,5],\"name\":\"HSpacer03057\",\"sizing_mode\":\"stretch_width\"},\"id\":\"1709\",\"type\":\"Spacer\"},{\"attributes\":{\"bottom_units\":\"screen\",\"fill_alpha\":0.5,\"fill_color\":\"lightgrey\",\"left_units\":\"screen\",\"level\":\"overlay\",\"line_alpha\":1.0,\"line_color\":\"black\",\"line_dash\":[4,4],\"line_width\":2,\"right_units\":\"screen\",\"top_units\":\"screen\"},\"id\":\"1736\",\"type\":\"BoxAnnotation\"}],\"root_ids\":[\"1708\"]},\"title\":\"Bokeh Application\",\"version\":\"2.2.3\"}};\n",
       "    var render_items = [{\"docid\":\"0b00ab76-bb91-4e0e-b821-c2e41e8e3b7d\",\"root_ids\":[\"1708\"],\"roots\":{\"1708\":\"63afc377-8881-42eb-92d2-611cc4929ab9\"}}];\n",
       "    root.Bokeh.embed.embed_items_notebook(docs_json, render_items);\n",
       "  }\n",
       "  if (root.Bokeh !== undefined && root.Bokeh.Panel !== undefined) {\n",
       "    embed_document(root);\n",
       "  } else {\n",
       "    var attempts = 0;\n",
       "    var timer = setInterval(function(root) {\n",
       "      if (root.Bokeh !== undefined && root.Bokeh.Panel !== undefined) {\n",
       "        clearInterval(timer);\n",
       "        embed_document(root);\n",
       "      } else if (document.readyState == \"complete\") {\n",
       "        attempts++;\n",
       "        if (attempts > 100) {\n",
       "          clearInterval(timer);\n",
       "          console.log(\"Bokeh: ERROR: Unable to run BokehJS code because BokehJS library is missing\");\n",
       "        }\n",
       "      }\n",
       "    }, 10, root)\n",
       "  }\n",
       "})(window);</script>"
      ],
      "text/plain": [
       ":NdOverlay   [Variable]\n",
       "   :Curve   [index]   (value)"
      ]
     },
     "execution_count": 60,
     "metadata": {
      "application/vnd.holoviews_exec.v0+json": {
       "id": "1708"
      }
     },
     "output_type": "execute_result"
    }
   ],
   "source": [
    "score_loss_lr_1fvs2f(score_lstm_lr_1f_df, score_lstm_lr_2f_df)"
   ]
  },
  {
   "cell_type": "code",
   "execution_count": 61,
   "metadata": {},
   "outputs": [
    {
     "data": {
      "application/vnd.holoviews_exec.v0+json": "",
      "text/html": [
       "<div id='1927'>\n",
       "\n",
       "\n",
       "\n",
       "\n",
       "\n",
       "  <div class=\"bk-root\" id=\"f51e41a6-4449-4dc7-a85b-c27619765a28\" data-root-id=\"1927\"></div>\n",
       "</div>\n",
       "<script type=\"application/javascript\">(function(root) {\n",
       "  function embed_document(root) {\n",
       "    var docs_json = {\"c3027216-3d9c-4b89-8c1f-963ce998aa0a\":{\"roots\":{\"references\":[{\"attributes\":{\"bottom_units\":\"screen\",\"fill_alpha\":0.5,\"fill_color\":\"lightgrey\",\"left_units\":\"screen\",\"level\":\"overlay\",\"line_alpha\":1.0,\"line_color\":\"black\",\"line_dash\":[4,4],\"line_width\":2,\"right_units\":\"screen\",\"top_units\":\"screen\"},\"id\":\"1955\",\"type\":\"BoxAnnotation\"},{\"attributes\":{\"axis_label\":\"\",\"bounds\":\"auto\",\"formatter\":{\"id\":\"1966\"},\"major_label_orientation\":\"horizontal\",\"ticker\":{\"id\":\"1947\"}},\"id\":\"1946\",\"type\":\"LinearAxis\"},{\"attributes\":{\"callback\":null,\"renderers\":[{\"id\":\"1973\"},{\"id\":\"1991\"}],\"tags\":[\"hv_created\"],\"tooltips\":[[\"Variable\",\"@{Variable}\"],[\"index\",\"@{index}\"],[\"value\",\"@{value}\"]]},\"id\":\"1931\",\"type\":\"HoverTool\"},{\"attributes\":{\"data\":{\"Variable\":[\"mae_1f\",\"mae_1f\",\"mae_1f\",\"mae_1f\",\"mae_1f\",\"mae_1f\",\"mae_1f\",\"mae_1f\",\"mae_1f\",\"mae_1f\",\"mae_1f\",\"mae_1f\",\"mae_1f\",\"mae_1f\",\"mae_1f\",\"mae_1f\",\"mae_1f\",\"mae_1f\",\"mae_1f\",\"mae_1f\",\"mae_1f\",\"mae_1f\",\"mae_1f\",\"mae_1f\"],\"index\":[1,2,3,4,5,6,7,8,9,10,11,12,13,14,15,16,17,18,19,20,21,22,23,24],\"value\":{\"__ndarray__\":\"AAAAgBxOzT8AAADg71jGPwAAACCeBsQ/AAAAgIVRwj8AAABAg1PAPwAAAGBBebk/AAAAQKaPsT8AAADATHusPwAAAODVK6k/AAAAANt1qD8AAADgqTKoPwAAAGACxKg/AAAA4NR4pz8AAADgr3qnPwAAAIDwXqU/AAAAoFe8pT8AAADgkqemPwAAAIAsN6U/AAAAIJQQpD8AAABgn1OkPwAAACDqNaQ/AAAAAFLgpj8AAAAAAAD4fwAAAAAAAPh/\",\"dtype\":\"float64\",\"order\":\"little\",\"shape\":[24]}},\"selected\":{\"id\":\"1968\"},\"selection_policy\":{\"id\":\"1981\"}},\"id\":\"1967\",\"type\":\"ColumnDataSource\"},{\"attributes\":{\"source\":{\"id\":\"1985\"}},\"id\":\"1992\",\"type\":\"CDSView\"},{\"attributes\":{\"data_source\":{\"id\":\"1967\"},\"glyph\":{\"id\":\"1970\"},\"hover_glyph\":null,\"muted_glyph\":{\"id\":\"1972\"},\"nonselection_glyph\":{\"id\":\"1971\"},\"selection_glyph\":null,\"view\":{\"id\":\"1974\"}},\"id\":\"1973\",\"type\":\"GlyphRenderer\"},{\"attributes\":{\"source\":{\"id\":\"1967\"}},\"id\":\"1974\",\"type\":\"CDSView\"},{\"attributes\":{\"line_color\":\"#ff7e0e\",\"line_width\":2,\"x\":{\"field\":\"index\"},\"y\":{\"field\":\"value\"}},\"id\":\"1988\",\"type\":\"Line\"},{\"attributes\":{},\"id\":\"1950\",\"type\":\"SaveTool\"},{\"attributes\":{},\"id\":\"1951\",\"type\":\"PanTool\"},{\"attributes\":{},\"id\":\"1954\",\"type\":\"ResetTool\"},{\"attributes\":{\"line_color\":\"#1f77b3\",\"line_width\":2,\"x\":{\"field\":\"index\"},\"y\":{\"field\":\"value\"}},\"id\":\"1970\",\"type\":\"Line\"},{\"attributes\":{},\"id\":\"1952\",\"type\":\"WheelZoomTool\"},{\"attributes\":{},\"id\":\"2001\",\"type\":\"UnionRenderers\"},{\"attributes\":{\"overlay\":{\"id\":\"1955\"}},\"id\":\"1953\",\"type\":\"BoxZoomTool\"},{\"attributes\":{\"label\":{\"value\":\"mae_1f\"},\"renderers\":[{\"id\":\"1973\"}]},\"id\":\"1984\",\"type\":\"LegendItem\"},{\"attributes\":{\"label\":{\"value\":\"mae_2f\"},\"renderers\":[{\"id\":\"1991\"}]},\"id\":\"2003\",\"type\":\"LegendItem\"},{\"attributes\":{},\"id\":\"1943\",\"type\":\"BasicTicker\"},{\"attributes\":{\"margin\":[5,5,5,5],\"name\":\"HSpacer03504\",\"sizing_mode\":\"stretch_width\"},\"id\":\"2094\",\"type\":\"Spacer\"},{\"attributes\":{},\"id\":\"1964\",\"type\":\"BasicTickFormatter\"},{\"attributes\":{\"children\":[{\"id\":\"1928\"},{\"id\":\"1933\"},{\"id\":\"2094\"}],\"margin\":[0,0,0,0],\"name\":\"Row03499\",\"tags\":[\"embedded\"]},\"id\":\"1927\",\"type\":\"Row\"},{\"attributes\":{\"text\":\"\",\"text_color\":{\"value\":\"black\"},\"text_font_size\":{\"value\":\"12pt\"}},\"id\":\"1934\",\"type\":\"Title\"},{\"attributes\":{},\"id\":\"1966\",\"type\":\"BasicTickFormatter\"},{\"attributes\":{},\"id\":\"1981\",\"type\":\"UnionRenderers\"},{\"attributes\":{\"click_policy\":\"mute\",\"items\":[{\"id\":\"1984\"},{\"id\":\"2003\"}],\"location\":[0,0],\"title\":\"Variable\"},\"id\":\"1983\",\"type\":\"Legend\"},{\"attributes\":{},\"id\":\"1938\",\"type\":\"LinearScale\"},{\"attributes\":{\"data\":{\"Variable\":[\"mae_2f\",\"mae_2f\",\"mae_2f\",\"mae_2f\",\"mae_2f\",\"mae_2f\",\"mae_2f\",\"mae_2f\",\"mae_2f\",\"mae_2f\",\"mae_2f\",\"mae_2f\",\"mae_2f\",\"mae_2f\",\"mae_2f\",\"mae_2f\",\"mae_2f\",\"mae_2f\",\"mae_2f\",\"mae_2f\",\"mae_2f\",\"mae_2f\",\"mae_2f\",\"mae_2f\"],\"index\":[1,2,3,4,5,6,7,8,9,10,11,12,13,14,15,16,17,18,19,20,21,22,23,24],\"value\":{\"__ndarray__\":\"AAAAQNQUyz8AAACAcgrEPwAAACAOX8M/AAAA4OB+wD8AAADA5v25PwAAAAA0w7E/AAAAYG78rT8AAAAAH2KuPwAAAMCZYaw/AAAAQMNZqz8AAACAtF6tPwAAACD+u6s/AAAAQNDyqj8AAACgNjiqPwAAAKCV3ak/AAAAoPwEqT8AAABAbaWoPwAAAMB6Vag/AAAAIGklqD8AAACgj1ioPwAAAEDybqY/AAAAwEQYpz8AAADAbRenPwAAAMD1SaY/\",\"dtype\":\"float64\",\"order\":\"little\",\"shape\":[24]}},\"selected\":{\"id\":\"1986\"},\"selection_policy\":{\"id\":\"2001\"}},\"id\":\"1985\",\"type\":\"ColumnDataSource\"},{\"attributes\":{},\"id\":\"1940\",\"type\":\"LinearScale\"},{\"attributes\":{\"end\":0.24792199693620204,\"reset_end\":0.24792199693620204,\"reset_start\":0.020213256403803823,\"start\":0.020213256403803823,\"tags\":[[[\"value\",\"value\",null]]]},\"id\":\"1930\",\"type\":\"Range1d\"},{\"attributes\":{\"line_alpha\":0.2,\"line_color\":\"#ff7e0e\",\"line_width\":2,\"x\":{\"field\":\"index\"},\"y\":{\"field\":\"value\"}},\"id\":\"1990\",\"type\":\"Line\"},{\"attributes\":{\"axis_label\":\"\",\"bounds\":\"auto\",\"formatter\":{\"id\":\"1964\"},\"major_label_orientation\":\"horizontal\",\"ticker\":{\"id\":\"1943\"}},\"id\":\"1942\",\"type\":\"LinearAxis\"},{\"attributes\":{\"margin\":[5,5,5,5],\"name\":\"HSpacer03503\",\"sizing_mode\":\"stretch_width\"},\"id\":\"1928\",\"type\":\"Spacer\"},{\"attributes\":{\"line_alpha\":0.2,\"line_color\":\"#1f77b3\",\"line_width\":2,\"x\":{\"field\":\"index\"},\"y\":{\"field\":\"value\"}},\"id\":\"1972\",\"type\":\"Line\"},{\"attributes\":{\"axis\":{\"id\":\"1946\"},\"dimension\":1,\"grid_line_color\":null,\"ticker\":null},\"id\":\"1949\",\"type\":\"Grid\"},{\"attributes\":{\"below\":[{\"id\":\"1942\"}],\"center\":[{\"id\":\"1945\"},{\"id\":\"1949\"}],\"left\":[{\"id\":\"1946\"}],\"margin\":[5,5,5,5],\"min_border_bottom\":10,\"min_border_left\":10,\"min_border_right\":10,\"min_border_top\":10,\"plot_height\":300,\"plot_width\":700,\"renderers\":[{\"id\":\"1973\"},{\"id\":\"1991\"}],\"right\":[{\"id\":\"1983\"}],\"sizing_mode\":\"fixed\",\"title\":{\"id\":\"1934\"},\"toolbar\":{\"id\":\"1956\"},\"x_range\":{\"id\":\"1929\"},\"x_scale\":{\"id\":\"1938\"},\"y_range\":{\"id\":\"1930\"},\"y_scale\":{\"id\":\"1940\"}},\"id\":\"1933\",\"subtype\":\"Figure\",\"type\":\"Plot\"},{\"attributes\":{\"axis\":{\"id\":\"1942\"},\"grid_line_color\":null,\"ticker\":null},\"id\":\"1945\",\"type\":\"Grid\"},{\"attributes\":{\"line_alpha\":0.1,\"line_color\":\"#1f77b3\",\"line_width\":2,\"x\":{\"field\":\"index\"},\"y\":{\"field\":\"value\"}},\"id\":\"1971\",\"type\":\"Line\"},{\"attributes\":{},\"id\":\"1986\",\"type\":\"Selection\"},{\"attributes\":{\"line_alpha\":0.1,\"line_color\":\"#ff7e0e\",\"line_width\":2,\"x\":{\"field\":\"index\"},\"y\":{\"field\":\"value\"}},\"id\":\"1989\",\"type\":\"Line\"},{\"attributes\":{},\"id\":\"1968\",\"type\":\"Selection\"},{\"attributes\":{\"active_drag\":\"auto\",\"active_inspect\":\"auto\",\"active_multi\":null,\"active_scroll\":\"auto\",\"active_tap\":\"auto\",\"tools\":[{\"id\":\"1931\"},{\"id\":\"1950\"},{\"id\":\"1951\"},{\"id\":\"1952\"},{\"id\":\"1953\"},{\"id\":\"1954\"}]},\"id\":\"1956\",\"type\":\"Toolbar\"},{\"attributes\":{\"end\":24.0,\"reset_end\":24.0,\"reset_start\":1.0,\"start\":1.0,\"tags\":[[[\"index\",\"index\",null]]]},\"id\":\"1929\",\"type\":\"Range1d\"},{\"attributes\":{},\"id\":\"1947\",\"type\":\"BasicTicker\"},{\"attributes\":{\"data_source\":{\"id\":\"1985\"},\"glyph\":{\"id\":\"1988\"},\"hover_glyph\":null,\"muted_glyph\":{\"id\":\"1990\"},\"nonselection_glyph\":{\"id\":\"1989\"},\"selection_glyph\":null,\"view\":{\"id\":\"1992\"}},\"id\":\"1991\",\"type\":\"GlyphRenderer\"}],\"root_ids\":[\"1927\"]},\"title\":\"Bokeh Application\",\"version\":\"2.2.3\"}};\n",
       "    var render_items = [{\"docid\":\"c3027216-3d9c-4b89-8c1f-963ce998aa0a\",\"root_ids\":[\"1927\"],\"roots\":{\"1927\":\"f51e41a6-4449-4dc7-a85b-c27619765a28\"}}];\n",
       "    root.Bokeh.embed.embed_items_notebook(docs_json, render_items);\n",
       "  }\n",
       "  if (root.Bokeh !== undefined && root.Bokeh.Panel !== undefined) {\n",
       "    embed_document(root);\n",
       "  } else {\n",
       "    var attempts = 0;\n",
       "    var timer = setInterval(function(root) {\n",
       "      if (root.Bokeh !== undefined && root.Bokeh.Panel !== undefined) {\n",
       "        clearInterval(timer);\n",
       "        embed_document(root);\n",
       "      } else if (document.readyState == \"complete\") {\n",
       "        attempts++;\n",
       "        if (attempts > 100) {\n",
       "          clearInterval(timer);\n",
       "          console.log(\"Bokeh: ERROR: Unable to run BokehJS code because BokehJS library is missing\");\n",
       "        }\n",
       "      }\n",
       "    }, 10, root)\n",
       "  }\n",
       "})(window);</script>"
      ],
      "text/plain": [
       ":NdOverlay   [Variable]\n",
       "   :Curve   [index]   (value)"
      ]
     },
     "execution_count": 61,
     "metadata": {
      "application/vnd.holoviews_exec.v0+json": {
       "id": "1927"
      }
     },
     "output_type": "execute_result"
    }
   ],
   "source": [
    "score_mae_lr_1fvs2f(score_lstm_lr_1f_df, score_lstm_lr_2f_df)"
   ]
  },
  {
   "cell_type": "code",
   "execution_count": 62,
   "metadata": {},
   "outputs": [
    {
     "data": {
      "application/vnd.holoviews_exec.v0+json": "",
      "text/html": [
       "<div id='2146'>\n",
       "\n",
       "\n",
       "\n",
       "\n",
       "\n",
       "  <div class=\"bk-root\" id=\"fa3a7a6e-ee5c-4c3c-aca1-fd1cfc3bf0c4\" data-root-id=\"2146\"></div>\n",
       "</div>\n",
       "<script type=\"application/javascript\">(function(root) {\n",
       "  function embed_document(root) {\n",
       "    var docs_json = {\"43d21d7f-e4c9-4ba3-a2c1-a9519628a76f\":{\"roots\":{\"references\":[{\"attributes\":{\"axis\":{\"id\":\"2166\"},\"dimension\":1,\"grid_line_color\":null,\"ticker\":null},\"id\":\"2169\",\"type\":\"Grid\"},{\"attributes\":{\"label\":{\"value\":\"actual\"},\"renderers\":[{\"id\":\"2211\"}]},\"id\":\"2223\",\"type\":\"LegendItem\"},{\"attributes\":{},\"id\":\"2163\",\"type\":\"BasicTicker\"},{\"attributes\":{\"callback\":null,\"renderers\":[{\"id\":\"2193\"},{\"id\":\"2211\"},{\"id\":\"2230\"}],\"tags\":[\"hv_created\"],\"tooltips\":[[\"Variable\",\"@{Variable}\"],[\"index\",\"@{index}\"],[\"value\",\"@{value}\"]]},\"id\":\"2150\",\"type\":\"HoverTool\"},{\"attributes\":{\"data_source\":{\"id\":\"2187\"},\"glyph\":{\"id\":\"2190\"},\"hover_glyph\":null,\"muted_glyph\":{\"id\":\"2192\"},\"nonselection_glyph\":{\"id\":\"2191\"},\"selection_glyph\":null,\"view\":{\"id\":\"2194\"}},\"id\":\"2193\",\"type\":\"GlyphRenderer\"},{\"attributes\":{\"data_source\":{\"id\":\"2205\"},\"glyph\":{\"id\":\"2208\"},\"hover_glyph\":null,\"muted_glyph\":{\"id\":\"2210\"},\"nonselection_glyph\":{\"id\":\"2209\"},\"selection_glyph\":null,\"view\":{\"id\":\"2212\"}},\"id\":\"2211\",\"type\":\"GlyphRenderer\"},{\"attributes\":{\"active_drag\":\"auto\",\"active_inspect\":\"auto\",\"active_multi\":null,\"active_scroll\":\"auto\",\"active_tap\":\"auto\",\"tools\":[{\"id\":\"2150\"},{\"id\":\"2170\"},{\"id\":\"2171\"},{\"id\":\"2172\"},{\"id\":\"2173\"},{\"id\":\"2174\"}]},\"id\":\"2176\",\"type\":\"Toolbar\"},{\"attributes\":{\"line_alpha\":0.2,\"line_color\":\"#1f77b3\",\"line_width\":2,\"x\":{\"field\":\"index\"},\"y\":{\"field\":\"value\"}},\"id\":\"2192\",\"type\":\"Line\"},{\"attributes\":{\"data\":{\"Variable\":[\"predict_2features\",\"predict_2features\",\"predict_2features\",\"predict_2features\",\"predict_2features\",\"predict_2features\",\"predict_2features\",\"predict_2features\",\"predict_2features\",\"predict_2features\",\"predict_2features\",\"predict_2features\",\"predict_2features\",\"predict_2features\",\"predict_2features\",\"predict_2features\",\"predict_2features\",\"predict_2features\",\"predict_2features\",\"predict_2features\",\"predict_2features\",\"predict_2features\",\"predict_2features\",\"predict_2features\",\"predict_2features\",\"predict_2features\",\"predict_2features\",\"predict_2features\",\"predict_2features\",\"predict_2features\",\"predict_2features\",\"predict_2features\",\"predict_2features\",\"predict_2features\",\"predict_2features\",\"predict_2features\",\"predict_2features\",\"predict_2features\",\"predict_2features\",\"predict_2features\",\"predict_2features\",\"predict_2features\",\"predict_2features\",\"predict_2features\",\"predict_2features\",\"predict_2features\",\"predict_2features\",\"predict_2features\",\"predict_2features\",\"predict_2features\",\"predict_2features\",\"predict_2features\",\"predict_2features\",\"predict_2features\",\"predict_2features\",\"predict_2features\",\"predict_2features\",\"predict_2features\",\"predict_2features\",\"predict_2features\",\"predict_2features\",\"predict_2features\",\"predict_2features\",\"predict_2features\",\"predict_2features\",\"predict_2features\",\"predict_2features\",\"predict_2features\",\"predict_2features\",\"predict_2features\",\"predict_2features\",\"predict_2features\",\"predict_2features\",\"predict_2features\",\"predict_2features\",\"predict_2features\",\"predict_2features\",\"predict_2features\",\"predict_2features\",\"predict_2features\",\"predict_2features\",\"predict_2features\",\"predict_2features\",\"predict_2features\",\"predict_2features\",\"predict_2features\",\"predict_2features\",\"predict_2features\",\"predict_2features\",\"predict_2features\",\"predict_2features\",\"predict_2features\",\"predict_2features\",\"predict_2features\",\"predict_2features\",\"predict_2features\",\"predict_2features\",\"predict_2features\",\"predict_2features\",\"predict_2features\",\"predict_2features\",\"predict_2features\",\"predict_2features\",\"predict_2features\",\"predict_2features\",\"predict_2features\",\"predict_2features\",\"predict_2features\",\"predict_2features\",\"predict_2features\",\"predict_2features\",\"predict_2features\",\"predict_2features\",\"predict_2features\",\"predict_2features\",\"predict_2features\",\"predict_2features\",\"predict_2features\",\"predict_2features\",\"predict_2features\",\"predict_2features\",\"predict_2features\",\"predict_2features\",\"predict_2features\",\"predict_2features\",\"predict_2features\",\"predict_2features\",\"predict_2features\",\"predict_2features\",\"predict_2features\",\"predict_2features\",\"predict_2features\",\"predict_2features\",\"predict_2features\",\"predict_2features\",\"predict_2features\",\"predict_2features\",\"predict_2features\",\"predict_2features\",\"predict_2features\",\"predict_2features\",\"predict_2features\",\"predict_2features\",\"predict_2features\",\"predict_2features\",\"predict_2features\",\"predict_2features\"],\"index\":[0,1,2,3,4,5,6,7,8,9,10,11,12,13,14,15,16,17,18,19,20,21,22,23,24,25,26,27,28,29,30,31,32,33,34,35,36,37,38,39,40,41,42,43,44,45,46,47,48,49,50,51,52,53,54,55,56,57,58,59,60,61,62,63,64,65,66,67,68,69,70,71,72,73,74,75,76,77,78,79,80,81,82,83,84,85,86,87,88,89,90,91,92,93,94,95,96,97,98,99,100,101,102,103,104,105,106,107,108,109,110,111,112,113,114,115,116,117,118,119,120,121,122,123,124,125,126,127,128,129,130,131,132,133,134,135,136,137,138,139,140,141,142,143,144,145,146],\"value\":{\"__ndarray__\":\"mEM6PwOfST8mHz4/3203P2YLNj8knDY/vQY3P1BWNz9GXjc/zTNGP/ZoTD+g3k0/IlpOP7riPz+KnE8/dW0/P7QpTD+KOkQ/7H1MP/0nWD9sjFY/XsBZPw24TD92R2k/DbhMP3ZHaT/Jtl0/SupPP5sXUj8a3lk/7rFWP4CJVj9C/lw/RAJjP7FOVj8yIlQ/OMdgP/KSYj/IuVc/BKxeP9R4Xj+4S2I/IVVgP2BbYD8+pWE/CnxnP2grWz/6A14/n/1dPz8CYz/YVVo/CpVaP3eKXj9Oj2U/+G5zP06PZT/4bnM/cdlnP/42az/aVVs/0FNXP1PHZD8s0Wo/hJZyPzwbZD/gtmY/UNdpP9uEZj/64Gk/rcBlPyw0YT+jmGA/mEdmP4z1ZD+GoWE/1BhdP5R1Yj9eSmQ/7RZiP2bLVz9z1Us/BehlP6ZCYj+UIl4/jGNcP+ENXj8oNVw/IC5YP3/jXj9colc/Bt5aP7cYXD8sr2A/txhcPyyvYD+kw2M/fGlsPwTVXD8c8Gc/iHtfP4z3YT/sN2k/MJhmPzkJYT/nLGk/XZZePwgXYz/NWmQ/Jl5nP+QDaT9QzWE/yK1nP7QxZj+UlGI/tOZiP6rCZD8Rp10/FqZdP4lkcD+5ZV4/YktqP6bJaj/EP2w/6otpP2ndZz+WbGY/B4BnPxAaaj+7CW4/NqVuP8hxYz8benE/tJVsP5h7aD9Yi2s/KqVjPyB6bD/ukGU/GLhoP5oPZz+7om0/4HVtP7Jsaz9We24/IWtqPw63bz/xdWY/\",\"dtype\":\"float32\",\"order\":\"little\",\"shape\":[147]}},\"selected\":{\"id\":\"2225\"},\"selection_policy\":{\"id\":\"2242\"}},\"id\":\"2224\",\"type\":\"ColumnDataSource\"},{\"attributes\":{\"axis\":{\"id\":\"2162\"},\"grid_line_color\":null,\"ticker\":null},\"id\":\"2165\",\"type\":\"Grid\"},{\"attributes\":{\"line_color\":\"#ff7e0e\",\"line_width\":2,\"x\":{\"field\":\"index\"},\"y\":{\"field\":\"value\"}},\"id\":\"2208\",\"type\":\"Line\"},{\"attributes\":{\"source\":{\"id\":\"2224\"}},\"id\":\"2231\",\"type\":\"CDSView\"},{\"attributes\":{},\"id\":\"2184\",\"type\":\"BasicTickFormatter\"},{\"attributes\":{\"source\":{\"id\":\"2205\"}},\"id\":\"2212\",\"type\":\"CDSView\"},{\"attributes\":{},\"id\":\"2206\",\"type\":\"Selection\"},{\"attributes\":{},\"id\":\"2221\",\"type\":\"UnionRenderers\"},{\"attributes\":{\"bottom_units\":\"screen\",\"fill_alpha\":0.5,\"fill_color\":\"lightgrey\",\"left_units\":\"screen\",\"level\":\"overlay\",\"line_alpha\":1.0,\"line_color\":\"black\",\"line_dash\":[4,4],\"line_width\":2,\"right_units\":\"screen\",\"top_units\":\"screen\"},\"id\":\"2175\",\"type\":\"BoxAnnotation\"},{\"attributes\":{},\"id\":\"2167\",\"type\":\"BasicTicker\"},{\"attributes\":{\"children\":[{\"id\":\"2147\"},{\"id\":\"2153\"},{\"id\":\"2353\"}],\"margin\":[0,0,0,0],\"name\":\"Row03969\",\"tags\":[\"embedded\"]},\"id\":\"2146\",\"type\":\"Row\"},{\"attributes\":{\"source\":{\"id\":\"2187\"}},\"id\":\"2194\",\"type\":\"CDSView\"},{\"attributes\":{\"axis_label\":\"\",\"bounds\":\"auto\",\"formatter\":{\"id\":\"2186\"},\"major_label_orientation\":\"horizontal\",\"ticker\":{\"id\":\"2167\"}},\"id\":\"2166\",\"type\":\"LinearAxis\"},{\"attributes\":{\"text\":\"\",\"text_color\":{\"value\":\"black\"},\"text_font_size\":{\"value\":\"12pt\"}},\"id\":\"2154\",\"type\":\"Title\"},{\"attributes\":{\"line_color\":\"#2ba02b\",\"line_width\":2,\"x\":{\"field\":\"index\"},\"y\":{\"field\":\"value\"}},\"id\":\"2227\",\"type\":\"Line\"},{\"attributes\":{\"label\":{\"value\":\"predict_1feature\"},\"renderers\":[{\"id\":\"2193\"}]},\"id\":\"2204\",\"type\":\"LegendItem\"},{\"attributes\":{},\"id\":\"2170\",\"type\":\"SaveTool\"},{\"attributes\":{\"end\":1.0288888573646549,\"reset_end\":1.0288888573646549,\"reset_start\":0.6822225689888001,\"start\":0.6822225689888001,\"tags\":[[[\"value\",\"value\",null]]]},\"id\":\"2149\",\"type\":\"Range1d\"},{\"attributes\":{},\"id\":\"2171\",\"type\":\"PanTool\"},{\"attributes\":{},\"id\":\"2201\",\"type\":\"UnionRenderers\"},{\"attributes\":{\"below\":[{\"id\":\"2162\"}],\"center\":[{\"id\":\"2165\"},{\"id\":\"2169\"}],\"left\":[{\"id\":\"2166\"}],\"margin\":[5,5,5,5],\"min_border_bottom\":10,\"min_border_left\":10,\"min_border_right\":10,\"min_border_top\":10,\"plot_height\":300,\"plot_width\":700,\"renderers\":[{\"id\":\"2193\"},{\"id\":\"2211\"},{\"id\":\"2230\"}],\"right\":[{\"id\":\"2203\"}],\"sizing_mode\":\"fixed\",\"title\":{\"id\":\"2154\"},\"toolbar\":{\"id\":\"2176\"},\"x_range\":{\"id\":\"2148\"},\"x_scale\":{\"id\":\"2158\"},\"y_range\":{\"id\":\"2149\"},\"y_scale\":{\"id\":\"2160\"}},\"id\":\"2153\",\"subtype\":\"Figure\",\"type\":\"Plot\"},{\"attributes\":{\"data_source\":{\"id\":\"2224\"},\"glyph\":{\"id\":\"2227\"},\"hover_glyph\":null,\"muted_glyph\":{\"id\":\"2229\"},\"nonselection_glyph\":{\"id\":\"2228\"},\"selection_glyph\":null,\"view\":{\"id\":\"2231\"}},\"id\":\"2230\",\"type\":\"GlyphRenderer\"},{\"attributes\":{\"click_policy\":\"mute\",\"items\":[{\"id\":\"2204\"},{\"id\":\"2223\"},{\"id\":\"2244\"}],\"location\":[0,0],\"title\":\"Variable\"},\"id\":\"2203\",\"type\":\"Legend\"},{\"attributes\":{},\"id\":\"2174\",\"type\":\"ResetTool\"},{\"attributes\":{\"margin\":[5,5,5,5],\"name\":\"HSpacer03974\",\"sizing_mode\":\"stretch_width\"},\"id\":\"2353\",\"type\":\"Spacer\"},{\"attributes\":{\"data\":{\"Variable\":[\"actual\",\"actual\",\"actual\",\"actual\",\"actual\",\"actual\",\"actual\",\"actual\",\"actual\",\"actual\",\"actual\",\"actual\",\"actual\",\"actual\",\"actual\",\"actual\",\"actual\",\"actual\",\"actual\",\"actual\",\"actual\",\"actual\",\"actual\",\"actual\",\"actual\",\"actual\",\"actual\",\"actual\",\"actual\",\"actual\",\"actual\",\"actual\",\"actual\",\"actual\",\"actual\",\"actual\",\"actual\",\"actual\",\"actual\",\"actual\",\"actual\",\"actual\",\"actual\",\"actual\",\"actual\",\"actual\",\"actual\",\"actual\",\"actual\",\"actual\",\"actual\",\"actual\",\"actual\",\"actual\",\"actual\",\"actual\",\"actual\",\"actual\",\"actual\",\"actual\",\"actual\",\"actual\",\"actual\",\"actual\",\"actual\",\"actual\",\"actual\",\"actual\",\"actual\",\"actual\",\"actual\",\"actual\",\"actual\",\"actual\",\"actual\",\"actual\",\"actual\",\"actual\",\"actual\",\"actual\",\"actual\",\"actual\",\"actual\",\"actual\",\"actual\",\"actual\",\"actual\",\"actual\",\"actual\",\"actual\",\"actual\",\"actual\",\"actual\",\"actual\",\"actual\",\"actual\",\"actual\",\"actual\",\"actual\",\"actual\",\"actual\",\"actual\",\"actual\",\"actual\",\"actual\",\"actual\",\"actual\",\"actual\",\"actual\",\"actual\",\"actual\",\"actual\",\"actual\",\"actual\",\"actual\",\"actual\",\"actual\",\"actual\",\"actual\",\"actual\",\"actual\",\"actual\",\"actual\",\"actual\",\"actual\",\"actual\",\"actual\",\"actual\",\"actual\",\"actual\",\"actual\",\"actual\",\"actual\",\"actual\",\"actual\",\"actual\",\"actual\",\"actual\",\"actual\",\"actual\",\"actual\",\"actual\",\"actual\",\"actual\",\"actual\",\"actual\",\"actual\"],\"index\":[0,1,2,3,4,5,6,7,8,9,10,11,12,13,14,15,16,17,18,19,20,21,22,23,24,25,26,27,28,29,30,31,32,33,34,35,36,37,38,39,40,41,42,43,44,45,46,47,48,49,50,51,52,53,54,55,56,57,58,59,60,61,62,63,64,65,66,67,68,69,70,71,72,73,74,75,76,77,78,79,80,81,82,83,84,85,86,87,88,89,90,91,92,93,94,95,96,97,98,99,100,101,102,103,104,105,106,107,108,109,110,111,112,113,114,115,116,117,118,119,120,121,122,123,124,125,126,127,128,129,130,131,132,133,134,135,136,137,138,139,140,141,142,143,144,145,146],\"value\":{\"__ndarray__\":\"QzLu9oP05z/LEcLHX/XnP2pvEL+noec/M0YQazSV5z8BMdzEd9nnP++eag1YNeg/hFZQvMxE6D/knpXwVN3nP3PE3gStoOg/aKqLJs8w6j+LTD+CdHToP3m1Wh8nvOg/QK+qXvDk6D8apDEskqnpP7JHIEpTwOk/SAR5pPXj6T/gxUSqxRvqPxoDEazveOo/IE75mplP6z+6Hh6j8sPrP+q1gVxJhOw/nhN6jZfg7D8gLwgukSPtPyAvCC6RI+0/IC8ILpEj7T8gLwgukSPtP6zw/hZeA+0/6Hnybyjq6z+6S1SNiiHsP65zQq/xEuw/3kznaI006z80o5z9oabsP1I6Y93vsew/LgO75fUo6z+aQe/fJfHqP/AVdWGgXus/Tnck0gkE6z8GwSVypGfrPwDVHANYYOs/Dp2WdnF/7T+w15TafPbsPwphB4pQ5ew/gNG5Nkl37T/6nOw8a8/sPyKt2Br3Huw/HGLwK01I6z+slpJCLkjsPwI0/IK1L+w/BiAF8gE37D/0vmKfXHHsP3CzMhU0puw/FP2Je8hZ7D+eOz3MASrtP2jv7ORR6Ow/aO/s5FHo7D9o7+zkUejsP2jv7ORR6Ow/RI96ifEF7T9AOSui2nvtPzZhW/1cRe4/aAKlDQ8u7z+8lSj3Ou3uPwEAAAAAAPA/SMsJdhKg7T8EssxvGyvrP3SayNhSmew/JGLFSFCg6z8E5HUF4ZzrP/ZgXVBKNew/cCyQVmyN6z/EuqCUajjrP3qlwrSnzOo/PsJih60q6z9as4jbLfbrP55Vu43cQes/PDqsQ+wG7D8wj9BP61XsP4AYbuK77Os/kg4yxWZ07D+CfMANR9DsP25P4Omowus/aL1DT4x27D++BbRmEbfrP4JKF3iBXuw/UhcG6rWB7D8iPmEwGmDtPyC7HZiGUO4/6Lnggn2N7j9axkAE6zvuPxDUsrdkBe4/TORIz/YE7j/eMmmnshztP94yaaeyHO0/3jJpp7Ic7T/eMmmnshztP2Irp7RvKu0/Hr72oRg07T/UZD0gdTbtP5xjAAtsc+0/jiIpVhpt7D9eHE6y5u3sP5xQSOKuLes/TqnNZ8916z+oI+cUGijrP7zJJHrwHOs/JM/pRT2h7j/yMhPhuMztPzKeKVJ0kuw/VoDLwG557T8WZk9SgVHtPwy7c16AoO0/LDnDoe+j7T98ve2IkibtP17vF8hOkOw/BHCLb9bJ7D8c7gWWQnXsP/SDreOGauw/wpuvJ2IM7T9UTiIrqQftP0yK3PrGSe0/yLTugEZx7T9Ctz3IW0/tPyoCp2D8He0//rC46iEg7T/uGdSH1GftPxIlTboyo+w/AtJD+cV87D+QWUWXDfPsPwiEVx2NGu0/vLQZZEMZ7T8Qzz8MN/HtP65ZxO0W++0/ZGc2oZDE7T/8Xx7oU4LuPzx/DQJvvu4/QDT6L8g/7j8SOAXj7+juP753Sw8szO4/zgRKGx5c7j+qpNe/vXnuP1iPJMP3te0/qkpr642+7T+khiW7qwDuP5qGUJ6oqO0/utL2S1I67T8YcDWp3HntP7S5t/Jt1ew/\",\"dtype\":\"float64\",\"order\":\"little\",\"shape\":[147]}},\"selected\":{\"id\":\"2206\"},\"selection_policy\":{\"id\":\"2221\"}},\"id\":\"2205\",\"type\":\"ColumnDataSource\"},{\"attributes\":{},\"id\":\"2172\",\"type\":\"WheelZoomTool\"},{\"attributes\":{\"line_alpha\":0.2,\"line_color\":\"#ff7e0e\",\"line_width\":2,\"x\":{\"field\":\"index\"},\"y\":{\"field\":\"value\"}},\"id\":\"2210\",\"type\":\"Line\"},{\"attributes\":{},\"id\":\"2188\",\"type\":\"Selection\"},{\"attributes\":{\"overlay\":{\"id\":\"2175\"}},\"id\":\"2173\",\"type\":\"BoxZoomTool\"},{\"attributes\":{\"data\":{\"Variable\":[\"predict_1feature\",\"predict_1feature\",\"predict_1feature\",\"predict_1feature\",\"predict_1feature\",\"predict_1feature\",\"predict_1feature\",\"predict_1feature\",\"predict_1feature\",\"predict_1feature\",\"predict_1feature\",\"predict_1feature\",\"predict_1feature\",\"predict_1feature\",\"predict_1feature\",\"predict_1feature\",\"predict_1feature\",\"predict_1feature\",\"predict_1feature\",\"predict_1feature\",\"predict_1feature\",\"predict_1feature\",\"predict_1feature\",\"predict_1feature\",\"predict_1feature\",\"predict_1feature\",\"predict_1feature\",\"predict_1feature\",\"predict_1feature\",\"predict_1feature\",\"predict_1feature\",\"predict_1feature\",\"predict_1feature\",\"predict_1feature\",\"predict_1feature\",\"predict_1feature\",\"predict_1feature\",\"predict_1feature\",\"predict_1feature\",\"predict_1feature\",\"predict_1feature\",\"predict_1feature\",\"predict_1feature\",\"predict_1feature\",\"predict_1feature\",\"predict_1feature\",\"predict_1feature\",\"predict_1feature\",\"predict_1feature\",\"predict_1feature\",\"predict_1feature\",\"predict_1feature\",\"predict_1feature\",\"predict_1feature\",\"predict_1feature\",\"predict_1feature\",\"predict_1feature\",\"predict_1feature\",\"predict_1feature\",\"predict_1feature\",\"predict_1feature\",\"predict_1feature\",\"predict_1feature\",\"predict_1feature\",\"predict_1feature\",\"predict_1feature\",\"predict_1feature\",\"predict_1feature\",\"predict_1feature\",\"predict_1feature\",\"predict_1feature\",\"predict_1feature\",\"predict_1feature\",\"predict_1feature\",\"predict_1feature\",\"predict_1feature\",\"predict_1feature\",\"predict_1feature\",\"predict_1feature\",\"predict_1feature\",\"predict_1feature\",\"predict_1feature\",\"predict_1feature\",\"predict_1feature\",\"predict_1feature\",\"predict_1feature\",\"predict_1feature\",\"predict_1feature\",\"predict_1feature\",\"predict_1feature\",\"predict_1feature\",\"predict_1feature\",\"predict_1feature\",\"predict_1feature\",\"predict_1feature\",\"predict_1feature\",\"predict_1feature\",\"predict_1feature\",\"predict_1feature\",\"predict_1feature\",\"predict_1feature\",\"predict_1feature\",\"predict_1feature\",\"predict_1feature\",\"predict_1feature\",\"predict_1feature\",\"predict_1feature\",\"predict_1feature\",\"predict_1feature\",\"predict_1feature\",\"predict_1feature\",\"predict_1feature\",\"predict_1feature\",\"predict_1feature\",\"predict_1feature\",\"predict_1feature\",\"predict_1feature\",\"predict_1feature\",\"predict_1feature\",\"predict_1feature\",\"predict_1feature\",\"predict_1feature\",\"predict_1feature\",\"predict_1feature\",\"predict_1feature\",\"predict_1feature\",\"predict_1feature\",\"predict_1feature\",\"predict_1feature\",\"predict_1feature\",\"predict_1feature\",\"predict_1feature\",\"predict_1feature\",\"predict_1feature\",\"predict_1feature\",\"predict_1feature\",\"predict_1feature\",\"predict_1feature\",\"predict_1feature\",\"predict_1feature\",\"predict_1feature\",\"predict_1feature\",\"predict_1feature\",\"predict_1feature\",\"predict_1feature\",\"predict_1feature\",\"predict_1feature\"],\"index\":[0,1,2,3,4,5,6,7,8,9,10,11,12,13,14,15,16,17,18,19,20,21,22,23,24,25,26,27,28,29,30,31,32,33,34,35,36,37,38,39,40,41,42,43,44,45,46,47,48,49,50,51,52,53,54,55,56,57,58,59,60,61,62,63,64,65,66,67,68,69,70,71,72,73,74,75,76,77,78,79,80,81,82,83,84,85,86,87,88,89,90,91,92,93,94,95,96,97,98,99,100,101,102,103,104,105,106,107,108,109,110,111,112,113,114,115,116,117,118,119,120,121,122,123,124,125,126,127,128,129,130,131,132,133,134,135,136,137,138,139,140,141,142,143,144,145,146],\"value\":{\"__ndarray__\":\"4IBAP9hqQT/kGEI/TJRDP1w9RD+k30Q/OFdFP4ewRT90uUU/AJFGP16pRz9EK0g/er1IPyosST911kk/PHVLPzbVUT9GxVI/wvRTP/LRVj/clFg/HtVbP+KNXT/ijV0/fst1P37LdT8A4l4/fu9gP8xdYj9q0mM/lKJlP94gZj91+2c/ZLloPwYVaT8eJ2k/0bdpPyj2aT/uAGo/wtxpP0pNaj+Or2o/rLFqPyzXaj/nv2o/jtdqP0B2aj8ajmo/J+tqP+Reaz8IR2s/gntrPwtUaz+sOWw/rDlsP5wffD+cH3w/wBptPwPYbT9R8m4/4jlwPwa0cz+DYXU/kMJ2PxL1dj/MiHY/bh53P7F6dj86NnY/jBt2P8eedT8oHnU/5hB0P4pKcz/7oXE/4ElwP4jhbj+qbm0/6hZsPy/Qaj+2Ymk/qoxoPxVEaD/Zgmg/eWhoP4zNaD8QsGk/6OVqP5zyaz+2JW0/NGZuP1bWbz9W1m8/IllzPyJZcz+TtHA/Dj5xP7ZNcj+yLHM/9M5zP0bZcz+zS3Q/U7pzPxMgcz8+23I/z8FyPwhJdD9kDnQ/sixzPxTWcj/zhXI/MVlyP3CVcj+4k3I/vkpyP1gacj8PqXE/6KdxP3+1cT+5iHI/8Dd0PyhBdT+b8nU/2SF1P0hwdD9mQ3Q/2Ep0P2zacz9isHM/wnRzPwM3cz87kXM/rjJ0PzmidD+si3U/a5R2P5vHdz+4f3g/9j55PwCneT8iK3o/Z256P8y2ej9lUXs//NV7P371ez/6CXw/\",\"dtype\":\"float32\",\"order\":\"little\",\"shape\":[147]}},\"selected\":{\"id\":\"2188\"},\"selection_policy\":{\"id\":\"2201\"}},\"id\":\"2187\",\"type\":\"ColumnDataSource\"},{\"attributes\":{\"line_alpha\":0.1,\"line_color\":\"#2ba02b\",\"line_width\":2,\"x\":{\"field\":\"index\"},\"y\":{\"field\":\"value\"}},\"id\":\"2228\",\"type\":\"Line\"},{\"attributes\":{\"margin\":[5,5,5,5],\"name\":\"HSpacer03973\",\"sizing_mode\":\"stretch_width\"},\"id\":\"2147\",\"type\":\"Spacer\"},{\"attributes\":{\"line_alpha\":0.1,\"line_color\":\"#1f77b3\",\"line_width\":2,\"x\":{\"field\":\"index\"},\"y\":{\"field\":\"value\"}},\"id\":\"2191\",\"type\":\"Line\"},{\"attributes\":{\"line_alpha\":0.2,\"line_color\":\"#2ba02b\",\"line_width\":2,\"x\":{\"field\":\"index\"},\"y\":{\"field\":\"value\"}},\"id\":\"2229\",\"type\":\"Line\"},{\"attributes\":{},\"id\":\"2225\",\"type\":\"Selection\"},{\"attributes\":{},\"id\":\"2186\",\"type\":\"BasicTickFormatter\"},{\"attributes\":{\"line_color\":\"#1f77b3\",\"line_width\":2,\"x\":{\"field\":\"index\"},\"y\":{\"field\":\"value\"}},\"id\":\"2190\",\"type\":\"Line\"},{\"attributes\":{},\"id\":\"2242\",\"type\":\"UnionRenderers\"},{\"attributes\":{},\"id\":\"2158\",\"type\":\"LinearScale\"},{\"attributes\":{\"line_alpha\":0.1,\"line_color\":\"#ff7e0e\",\"line_width\":2,\"x\":{\"field\":\"index\"},\"y\":{\"field\":\"value\"}},\"id\":\"2209\",\"type\":\"Line\"},{\"attributes\":{\"axis_label\":\"\",\"bounds\":\"auto\",\"formatter\":{\"id\":\"2184\"},\"major_label_orientation\":\"horizontal\",\"ticker\":{\"id\":\"2163\"}},\"id\":\"2162\",\"type\":\"LinearAxis\"},{\"attributes\":{\"label\":{\"value\":\"predict_2features\"},\"renderers\":[{\"id\":\"2230\"}]},\"id\":\"2244\",\"type\":\"LegendItem\"},{\"attributes\":{\"end\":146.0,\"reset_end\":146.0,\"reset_start\":0.0,\"tags\":[[[\"index\",\"index\",null]]]},\"id\":\"2148\",\"type\":\"Range1d\"},{\"attributes\":{},\"id\":\"2160\",\"type\":\"LinearScale\"}],\"root_ids\":[\"2146\"]},\"title\":\"Bokeh Application\",\"version\":\"2.2.3\"}};\n",
       "    var render_items = [{\"docid\":\"43d21d7f-e4c9-4ba3-a2c1-a9519628a76f\",\"root_ids\":[\"2146\"],\"roots\":{\"2146\":\"fa3a7a6e-ee5c-4c3c-aca1-fd1cfc3bf0c4\"}}];\n",
       "    root.Bokeh.embed.embed_items_notebook(docs_json, render_items);\n",
       "  }\n",
       "  if (root.Bokeh !== undefined && root.Bokeh.Panel !== undefined) {\n",
       "    embed_document(root);\n",
       "  } else {\n",
       "    var attempts = 0;\n",
       "    var timer = setInterval(function(root) {\n",
       "      if (root.Bokeh !== undefined && root.Bokeh.Panel !== undefined) {\n",
       "        clearInterval(timer);\n",
       "        embed_document(root);\n",
       "      } else if (document.readyState == \"complete\") {\n",
       "        attempts++;\n",
       "        if (attempts > 100) {\n",
       "          clearInterval(timer);\n",
       "          console.log(\"Bokeh: ERROR: Unable to run BokehJS code because BokehJS library is missing\");\n",
       "        }\n",
       "      }\n",
       "    }, 10, root)\n",
       "  }\n",
       "})(window);</script>"
      ],
      "text/plain": [
       ":NdOverlay   [Variable]\n",
       "   :Curve   [index]   (value)"
      ]
     },
     "execution_count": 62,
     "metadata": {
      "application/vnd.holoviews_exec.v0+json": {
       "id": "2146"
      }
     },
     "output_type": "execute_result"
    }
   ],
   "source": [
    "pred_lr_1fvs2f(pred_lstm_lr_1f_df,pred_lstm_lr_2f_df)"
   ]
  },
  {
   "cell_type": "markdown",
   "metadata": {},
   "source": [
    "### (3) Classification"
   ]
  },
  {
   "cell_type": "markdown",
   "metadata": {},
   "source": [
    "#### (a) Dense 1 Feature"
   ]
  },
  {
   "cell_type": "code",
   "execution_count": 63,
   "metadata": {},
   "outputs": [],
   "source": [
    "X, X_train, X_test, y, y_train, y_test = dataset_classification_1f(df_MSFT, \"MRNA\")\n",
    "X, X_train, X_test = scaler_classification_1f(X, X_train, X_test)"
   ]
  },
  {
   "cell_type": "code",
   "execution_count": 64,
   "metadata": {},
   "outputs": [],
   "source": [
    "history, model = dense_cl_1f(X_train, y_train)\n",
    "dic_dense_cl_1f = eva_dense_cl_1f(model, X_test, y_test)"
   ]
  },
  {
   "cell_type": "markdown",
   "metadata": {},
   "source": [
    "#### (b) LSTM 1 Feature"
   ]
  },
  {
   "cell_type": "code",
   "execution_count": 65,
   "metadata": {},
   "outputs": [],
   "source": [
    "history, model = lstm_cl_1f(X_train, y_train)\n",
    "dic_lstm_cl_1f = eva_lstm_cl_1f(model, X_test, y_test)"
   ]
  },
  {
   "cell_type": "markdown",
   "metadata": {},
   "source": [
    "#### (c) Logistic Regression, SVC, Decision Tree Classifier, Random Forest Classifier, XGB Classifier"
   ]
  },
  {
   "cell_type": "code",
   "execution_count": 66,
   "metadata": {},
   "outputs": [
    {
     "name": "stdout",
     "output_type": "stream",
     "text": [
      "[05:17:01] WARNING: C:/Users/Administrator/workspace/xgboost-win64_release_1.3.0/src/learner.cc:1061: Starting in XGBoost 1.3.0, the default evaluation metric used with the objective 'binary:logistic' was changed from 'error' to 'logloss'. Explicitly set eval_metric if you'd like to restore the old behavior.\n"
     ]
    }
   ],
   "source": [
    "sklearn_cl_models_1f = sklearn_cl_models(X_train, y_train, X_test, y_test)"
   ]
  },
  {
   "cell_type": "code",
   "execution_count": 67,
   "metadata": {},
   "outputs": [
    {
     "name": "stdout",
     "output_type": "stream",
     "text": [
      "[05:17:02] WARNING: C:/Users/Administrator/workspace/xgboost-win64_release_1.3.0/src/learner.cc:1061: Starting in XGBoost 1.3.0, the default evaluation metric used with the objective 'binary:logistic' was changed from 'error' to 'logloss'. Explicitly set eval_metric if you'd like to restore the old behavior.\n",
      "[05:17:02] WARNING: C:/Users/Administrator/workspace/xgboost-win64_release_1.3.0/src/learner.cc:1061: Starting in XGBoost 1.3.0, the default evaluation metric used with the objective 'binary:logistic' was changed from 'error' to 'logloss'. Explicitly set eval_metric if you'd like to restore the old behavior.\n",
      "[05:17:03] WARNING: C:/Users/Administrator/workspace/xgboost-win64_release_1.3.0/src/learner.cc:1061: Starting in XGBoost 1.3.0, the default evaluation metric used with the objective 'binary:logistic' was changed from 'error' to 'logloss'. Explicitly set eval_metric if you'd like to restore the old behavior.\n",
      "[05:17:03] WARNING: C:/Users/Administrator/workspace/xgboost-win64_release_1.3.0/src/learner.cc:1061: Starting in XGBoost 1.3.0, the default evaluation metric used with the objective 'binary:logistic' was changed from 'error' to 'logloss'. Explicitly set eval_metric if you'd like to restore the old behavior.\n",
      "[05:17:03] WARNING: C:/Users/Administrator/workspace/xgboost-win64_release_1.3.0/src/learner.cc:1061: Starting in XGBoost 1.3.0, the default evaluation metric used with the objective 'binary:logistic' was changed from 'error' to 'logloss'. Explicitly set eval_metric if you'd like to restore the old behavior.\n"
     ]
    }
   ],
   "source": [
    "sklearn_cl_models_cross_validation_1f = sklearn_cl_models_cross_validation(X, y)"
   ]
  },
  {
   "cell_type": "code",
   "execution_count": 68,
   "metadata": {},
   "outputs": [],
   "source": [
    "svc_optimizer_1f = svc_optimizer(X_train, y_train, X_test, y_test)"
   ]
  },
  {
   "cell_type": "markdown",
   "metadata": {},
   "source": [
    "#### (d) Dense 2 Features"
   ]
  },
  {
   "cell_type": "code",
   "execution_count": 69,
   "metadata": {},
   "outputs": [],
   "source": [
    "X, X_train, X_test, y, y_train, y_test = dataset_classification_2f(df_MSFT, \"MRNA\")\n",
    "X, X_train, X_test = scaler_classification_2f(X, X_train, X_test)"
   ]
  },
  {
   "cell_type": "code",
   "execution_count": 70,
   "metadata": {},
   "outputs": [],
   "source": [
    "history, model = dense_cl_2f(X_train, y_train)\n",
    "dic_dense_cl_2f = eva_dense_cl_2f(model, X_test, y_test)"
   ]
  },
  {
   "cell_type": "markdown",
   "metadata": {},
   "source": [
    "#### (e) LSTM 2 Features"
   ]
  },
  {
   "cell_type": "code",
   "execution_count": 71,
   "metadata": {},
   "outputs": [],
   "source": [
    "history, model = lstm_cl_2f(X_train, y_train)\n",
    "dic_lstm_cl_2f = eva_lstm_cl_2f(model, X_test, y_test)"
   ]
  },
  {
   "cell_type": "markdown",
   "metadata": {},
   "source": [
    "#### (f) Logistic Regression, SVC, Decision Tree Classifier, Random Forest Classifier, XGB Classifier"
   ]
  },
  {
   "cell_type": "code",
   "execution_count": 72,
   "metadata": {},
   "outputs": [
    {
     "name": "stdout",
     "output_type": "stream",
     "text": [
      "[05:17:13] WARNING: C:/Users/Administrator/workspace/xgboost-win64_release_1.3.0/src/learner.cc:1061: Starting in XGBoost 1.3.0, the default evaluation metric used with the objective 'binary:logistic' was changed from 'error' to 'logloss'. Explicitly set eval_metric if you'd like to restore the old behavior.\n"
     ]
    }
   ],
   "source": [
    "sklearn_cl_models_2f = sklearn_cl_models(X_train, y_train, X_test, y_test)"
   ]
  },
  {
   "cell_type": "code",
   "execution_count": 73,
   "metadata": {},
   "outputs": [
    {
     "name": "stdout",
     "output_type": "stream",
     "text": [
      "[05:17:14] WARNING: C:/Users/Administrator/workspace/xgboost-win64_release_1.3.0/src/learner.cc:1061: Starting in XGBoost 1.3.0, the default evaluation metric used with the objective 'binary:logistic' was changed from 'error' to 'logloss'. Explicitly set eval_metric if you'd like to restore the old behavior.\n",
      "[05:17:14] WARNING: C:/Users/Administrator/workspace/xgboost-win64_release_1.3.0/src/learner.cc:1061: Starting in XGBoost 1.3.0, the default evaluation metric used with the objective 'binary:logistic' was changed from 'error' to 'logloss'. Explicitly set eval_metric if you'd like to restore the old behavior.\n",
      "[05:17:14] WARNING: C:/Users/Administrator/workspace/xgboost-win64_release_1.3.0/src/learner.cc:1061: Starting in XGBoost 1.3.0, the default evaluation metric used with the objective 'binary:logistic' was changed from 'error' to 'logloss'. Explicitly set eval_metric if you'd like to restore the old behavior.\n",
      "[05:17:15] WARNING: C:/Users/Administrator/workspace/xgboost-win64_release_1.3.0/src/learner.cc:1061: Starting in XGBoost 1.3.0, the default evaluation metric used with the objective 'binary:logistic' was changed from 'error' to 'logloss'. Explicitly set eval_metric if you'd like to restore the old behavior.\n",
      "[05:17:15] WARNING: C:/Users/Administrator/workspace/xgboost-win64_release_1.3.0/src/learner.cc:1061: Starting in XGBoost 1.3.0, the default evaluation metric used with the objective 'binary:logistic' was changed from 'error' to 'logloss'. Explicitly set eval_metric if you'd like to restore the old behavior.\n"
     ]
    }
   ],
   "source": [
    "sklearn_cl_models_cross_validation_2f = sklearn_cl_models_cross_validation(X, y)"
   ]
  },
  {
   "cell_type": "code",
   "execution_count": 74,
   "metadata": {},
   "outputs": [],
   "source": [
    "svc_optimizer_2f = svc_optimizer(X_train, y_train, X_test, y_test)"
   ]
  },
  {
   "cell_type": "markdown",
   "metadata": {},
   "source": [
    "### (g) Scores between 1 Feature and 2 Features"
   ]
  },
  {
   "cell_type": "code",
   "execution_count": 75,
   "metadata": {},
   "outputs": [
    {
     "data": {
      "text/html": [
       "<div>\n",
       "<style scoped>\n",
       "    .dataframe tbody tr th:only-of-type {\n",
       "        vertical-align: middle;\n",
       "    }\n",
       "\n",
       "    .dataframe tbody tr th {\n",
       "        vertical-align: top;\n",
       "    }\n",
       "\n",
       "    .dataframe thead th {\n",
       "        text-align: right;\n",
       "    }\n",
       "</style>\n",
       "<table border=\"1\" class=\"dataframe\">\n",
       "  <thead>\n",
       "    <tr style=\"text-align: right;\">\n",
       "      <th></th>\n",
       "      <th>1 Feature</th>\n",
       "      <th>2 Features</th>\n",
       "      <th>sentiment_impact</th>\n",
       "    </tr>\n",
       "  </thead>\n",
       "  <tbody>\n",
       "    <tr>\n",
       "      <th>DecisionTreeClassifier</th>\n",
       "      <td>0.531915</td>\n",
       "      <td>0.489362</td>\n",
       "      <td>-0.042553</td>\n",
       "    </tr>\n",
       "    <tr>\n",
       "      <th>DecisionTreeClassifier (Cross Validation)</th>\n",
       "      <td>0.410385</td>\n",
       "      <td>0.403262</td>\n",
       "      <td>-0.007123</td>\n",
       "    </tr>\n",
       "    <tr>\n",
       "      <th>Dense</th>\n",
       "      <td>0.531915</td>\n",
       "      <td>0.531915</td>\n",
       "      <td>0.000000</td>\n",
       "    </tr>\n",
       "    <tr>\n",
       "      <th>LSTM</th>\n",
       "      <td>0.531915</td>\n",
       "      <td>0.531915</td>\n",
       "      <td>0.000000</td>\n",
       "    </tr>\n",
       "    <tr>\n",
       "      <th>LogisticRegression</th>\n",
       "      <td>0.531915</td>\n",
       "      <td>0.531915</td>\n",
       "      <td>0.000000</td>\n",
       "    </tr>\n",
       "    <tr>\n",
       "      <th>LogisticRegression (Cross Validation)</th>\n",
       "      <td>0.527072</td>\n",
       "      <td>0.535583</td>\n",
       "      <td>0.008511</td>\n",
       "    </tr>\n",
       "    <tr>\n",
       "      <th>RandomForestClassifier</th>\n",
       "      <td>0.531915</td>\n",
       "      <td>0.503546</td>\n",
       "      <td>-0.028369</td>\n",
       "    </tr>\n",
       "    <tr>\n",
       "      <th>RandomForestClassifier (Cross Validation)</th>\n",
       "      <td>0.410385</td>\n",
       "      <td>0.406069</td>\n",
       "      <td>-0.004316</td>\n",
       "    </tr>\n",
       "    <tr>\n",
       "      <th>SVC</th>\n",
       "      <td>0.531915</td>\n",
       "      <td>0.531915</td>\n",
       "      <td>0.000000</td>\n",
       "    </tr>\n",
       "    <tr>\n",
       "      <th>SVC (Cross Validation)</th>\n",
       "      <td>0.504377</td>\n",
       "      <td>0.515724</td>\n",
       "      <td>0.011348</td>\n",
       "    </tr>\n",
       "    <tr>\n",
       "      <th>SVC (Grid Search)</th>\n",
       "      <td>0.531915</td>\n",
       "      <td>0.531915</td>\n",
       "      <td>0.000000</td>\n",
       "    </tr>\n",
       "    <tr>\n",
       "      <th>XGBClassifier</th>\n",
       "      <td>0.468085</td>\n",
       "      <td>0.468085</td>\n",
       "      <td>0.000000</td>\n",
       "    </tr>\n",
       "    <tr>\n",
       "      <th>XGBClassifier (Cross Validation)</th>\n",
       "      <td>0.408956</td>\n",
       "      <td>0.398967</td>\n",
       "      <td>-0.009990</td>\n",
       "    </tr>\n",
       "  </tbody>\n",
       "</table>\n",
       "</div>"
      ],
      "text/plain": [
       "                                           1 Feature  2 Features  \\\n",
       "DecisionTreeClassifier                      0.531915    0.489362   \n",
       "DecisionTreeClassifier (Cross Validation)   0.410385    0.403262   \n",
       "Dense                                       0.531915    0.531915   \n",
       "LSTM                                        0.531915    0.531915   \n",
       "LogisticRegression                          0.531915    0.531915   \n",
       "LogisticRegression (Cross Validation)       0.527072    0.535583   \n",
       "RandomForestClassifier                      0.531915    0.503546   \n",
       "RandomForestClassifier (Cross Validation)   0.410385    0.406069   \n",
       "SVC                                         0.531915    0.531915   \n",
       "SVC (Cross Validation)                      0.504377    0.515724   \n",
       "SVC (Grid Search)                           0.531915    0.531915   \n",
       "XGBClassifier                               0.468085    0.468085   \n",
       "XGBClassifier (Cross Validation)            0.408956    0.398967   \n",
       "\n",
       "                                           sentiment_impact  \n",
       "DecisionTreeClassifier                            -0.042553  \n",
       "DecisionTreeClassifier (Cross Validation)         -0.007123  \n",
       "Dense                                              0.000000  \n",
       "LSTM                                               0.000000  \n",
       "LogisticRegression                                 0.000000  \n",
       "LogisticRegression (Cross Validation)              0.008511  \n",
       "RandomForestClassifier                            -0.028369  \n",
       "RandomForestClassifier (Cross Validation)         -0.004316  \n",
       "SVC                                                0.000000  \n",
       "SVC (Cross Validation)                             0.011348  \n",
       "SVC (Grid Search)                                  0.000000  \n",
       "XGBClassifier                                      0.000000  \n",
       "XGBClassifier (Cross Validation)                  -0.009990  "
      ]
     },
     "execution_count": 75,
     "metadata": {},
     "output_type": "execute_result"
    }
   ],
   "source": [
    "score_df = score_df(dic_dense_cl_1f,\n",
    "                    dic_lstm_cl_1f,\n",
    "                    sklearn_cl_models_1f,\n",
    "                    sklearn_cl_models_cross_validation_1f,\n",
    "                    svc_optimizer_1f,\n",
    "                    dic_dense_cl_2f,\n",
    "                    dic_lstm_cl_2f,\n",
    "                    sklearn_cl_models_2f,\n",
    "                    sklearn_cl_models_cross_validation_2f,\n",
    "                    svc_optimizer_2f\n",
    "                   )\n",
    "\n",
    "score_df"
   ]
  },
  {
   "cell_type": "code",
   "execution_count": null,
   "metadata": {},
   "outputs": [],
   "source": []
  },
  {
   "cell_type": "code",
   "execution_count": null,
   "metadata": {},
   "outputs": [],
   "source": []
  }
 ],
 "metadata": {
  "kernelspec": {
   "display_name": "Python [conda env:x] *",
   "language": "python",
   "name": "conda-env-x-py"
  },
  "language_info": {
   "codemirror_mode": {
    "name": "ipython",
    "version": 3
   },
   "file_extension": ".py",
   "mimetype": "text/x-python",
   "name": "python",
   "nbconvert_exporter": "python",
   "pygments_lexer": "ipython3",
   "version": "3.7.9"
  }
 },
 "nbformat": 4,
 "nbformat_minor": 4
}
