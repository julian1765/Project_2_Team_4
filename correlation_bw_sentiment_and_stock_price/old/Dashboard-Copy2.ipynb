{
 "cells": [
  {
   "cell_type": "code",
   "execution_count": 518,
   "metadata": {},
   "outputs": [
    {
     "name": "stderr",
     "output_type": "stream",
     "text": [
      "WARNING:param.panel_extension: A HoloViz extension was loaded previously. This means the extension is already initialized and the following Panel extensions could not be properly loaded: ['plotly']. If you are loading custom extensions with pn.extension(...) ensure that this is called before any other HoloViz extension such as hvPlot or HoloViews.\n",
      "[nltk_data] Downloading package vader_lexicon to\n",
      "[nltk_data]     C:\\Users\\kn_na\\AppData\\Roaming\\nltk_data...\n",
      "[nltk_data]   Package vader_lexicon is already up-to-date!\n"
     ]
    }
   ],
   "source": [
    "import pandas as pd\n",
    "from pathlib import Path\n",
    "import numpy as np\n",
    "from numpy.random import seed\n",
    "seed(1)\n",
    "import calendar\n",
    "import os\n",
    "from dotenv import load_dotenv\n",
    "import alpaca_trade_api as tradeapi\n",
    "import hvplot.pandas\n",
    "import matplotlib.pyplot as plt\n",
    "from collections import Counter\n",
    "from panel.interact import interact\n",
    "import panel as pn\n",
    "pn.extension('plotly')\n",
    "import warnings\n",
    "warnings.filterwarnings('ignore')\n",
    "\n",
    "from sklearn.preprocessing import MinMaxScaler\n",
    "from sklearn.linear_model import LogisticRegression\n",
    "from sklearn.svm import SVC\n",
    "from sklearn.tree import DecisionTreeClassifier\n",
    "from sklearn.ensemble import RandomForestClassifier\n",
    "from xgboost import XGBClassifier\n",
    "from sklearn.model_selection import StratifiedKFold\n",
    "from sklearn.model_selection import cross_val_score\n",
    "from sklearn.model_selection import GridSearchCV\n",
    "\n",
    "import tensorflow as tf\n",
    "from tensorflow import random\n",
    "random.set_seed(2)\n",
    "from tensorflow.keras.models import Sequential\n",
    "from tensorflow.keras.layers import Embedding, LSTM, Dense, Dropout\n",
    "\n",
    "import nltk\n",
    "from nltk.sentiment.vader import SentimentIntensityAnalyzer\n",
    "nltk.download('vader_lexicon')\n",
    "# Initialize the VADER sentiment analyzer\n",
    "analyzer = SentimentIntensityAnalyzer()\n",
    "\n",
    "from keras.callbacks import EarlyStopping\n",
    "earlystopping = EarlyStopping(monitor='loss', patience=3)"
   ]
  },
  {
   "cell_type": "code",
   "execution_count": 408,
   "metadata": {},
   "outputs": [],
   "source": [
    "def read_file(ticker):\n",
    "    file_path = Path('companies_tweet_data_10y/' + ticker + '.csv')\n",
    "    tweet_df = pd.read_csv(file_path, \n",
    "                           parse_dates=[['date','time']], \n",
    "                           infer_datetime_format=True, \n",
    "                           usecols=['date',\"tweet\",'time','retweets_count','likes_count'])\n",
    "    tweet_df.set_index('date_time', inplace=True)\n",
    "    tweet_df.index.name = None\n",
    "    tweet_df.sort_index(axis=0, inplace=True)\n",
    "    \n",
    "    tweet_df = tweet_df.between_time('00:00:00','15:59:00', include_end=False)\n",
    "\n",
    "    # Drop time in the index labels\n",
    "    tweet_df.index = tweet_df.index.date\n",
    "    tweet_df=tweet_df[(tweet_df['retweets_count']>=tweet_df['retweets_count'].mean())\\\n",
    "                      | (tweet_df['likes_count']>=tweet_df['likes_count'].mean())]\n",
    "    \n",
    "    return tweet_df"
   ]
  },
  {
   "cell_type": "code",
   "execution_count": 409,
   "metadata": {},
   "outputs": [],
   "source": [
    "def sentiment_analysis(df):\n",
    "    tweet_sentiments = []\n",
    "\n",
    "    for tweet in df[\"tweet\"]:\n",
    "        try:\n",
    "            sentiment = analyzer.polarity_scores(tweet) # get sentiment score\n",
    "            compound = sentiment[\"compound\"]\n",
    "            pos = sentiment[\"pos\"]\n",
    "            neu = sentiment[\"neu\"]\n",
    "            neg = sentiment[\"neg\"]\n",
    "        \n",
    "            tweet_sentiments.append({\"compound\": compound,\n",
    "                                     \"positive\": pos,\n",
    "                                     \"negative\": neg,\n",
    "                                     \"neutral\": neu\n",
    "                                    })\n",
    "        \n",
    "        except AttributeError:\n",
    "            pass\n",
    "    \n",
    "    # Create DataFrame\n",
    "    sentiments_df = pd.DataFrame(tweet_sentiments, index=df.index)\n",
    "\n",
    "    # Reorder DataFrame columns\n",
    "    df = df.join(sentiments_df)\n",
    "    \n",
    "    sentiment_score_df = df.groupby(level=0)[['compound']].count()\n",
    "    sentiment_score_df[\"avg_sentiments\"] = df.groupby(level=0)[['compound']].mean()\n",
    "    #sentiment_score_df.rename(columns= {'compound':\"article_counts\"}, inplace=True)\n",
    "    sentiment_score_df.drop(columns='compound', inplace=True)\n",
    "    \n",
    "    return sentiment_score_df"
   ]
  },
  {
   "cell_type": "code",
   "execution_count": 410,
   "metadata": {},
   "outputs": [],
   "source": [
    "def stock_prices():\n",
    "    load_dotenv()\n",
    "    \n",
    "    alpaca_api_key = os.getenv(\"ALPACA_API_KEY\")\n",
    "    alpaca_secret_key = os.getenv(\"ALPACA_SECRET_KEY\")\n",
    "\n",
    "    # Create the Alpaca API object\n",
    "    api = tradeapi.REST(\n",
    "        alpaca_api_key,\n",
    "        alpaca_secret_key,\n",
    "        api_version = \"v2\"\n",
    "    )\n",
    "    \n",
    "    #start_date = pd.Timestamp(\"2009-07-15\", tz=\"America/New_York\").isoformat()\n",
    "    start_date = pd.Timestamp(\"2015-01-15\", tz=\"America/New_York\").isoformat()\n",
    "    end_date = pd.Timestamp(\"2021-01-15\", tz=\"America/New_York\").isoformat()\n",
    "    tickers = [\"PFE\", \"MRNA\", \"REGN\", \"MSFT\", \"SNE\"]\n",
    "\n",
    "    # Create the shares DataFrame\n",
    "    timeframe = \"1D\"\n",
    "\n",
    "    stock_tickers = api.get_barset(\n",
    "        tickers,\n",
    "        timeframe,\n",
    "        start = start_date,\n",
    "        end = end_date\n",
    "    ).df\n",
    "\n",
    "    stock_tickerspx = pd.DataFrame()\n",
    "    stock_tickerspx[\"PFE\"] = stock_tickers[\"PFE\"][\"close\"]\n",
    "    stock_tickerspx[\"MRNA\"] = stock_tickers[\"MRNA\"][\"close\"]\n",
    "    stock_tickerspx[\"REGN\"] = stock_tickers[\"REGN\"][\"close\"]\n",
    "    stock_tickerspx[\"MSFT\"] = stock_tickers[\"MSFT\"][\"close\"]\n",
    "    stock_tickerspx[\"SNE\"] = stock_tickers[\"SNE\"][\"close\"]\n",
    "\n",
    "    # Drop the time component of the date\n",
    "    stock_tickerspx.index = stock_tickers.index.date\n",
    "    index = stock_tickerspx.index\n",
    "    index.name = \"Date\"\n",
    "    stock_tickerspx.reset_index(level=0, inplace=True)\n",
    "    stock_tickerspx.set_index(pd.to_datetime(stock_tickerspx['Date'], infer_datetime_format=True), \n",
    "                              inplace=True, \n",
    "                              drop=True\n",
    "                             )\n",
    "    stock_tickerspx.drop(columns=['Date'], inplace=True)\n",
    "\n",
    "    return stock_tickerspx"
   ]
  },
  {
   "cell_type": "code",
   "execution_count": 411,
   "metadata": {},
   "outputs": [],
   "source": [
    "def manipulate_df(df, ticker):\n",
    "    signals_df1 = df[[ticker]].copy()\n",
    "    short_window = 20\n",
    "    long_window = 100\n",
    "    signals_df1[\"SMA20\"] = signals_df1[ticker].rolling(window=short_window).mean()\n",
    "    signals_df1[\"SMA100\"] = signals_df1[ticker].rolling(window=long_window).mean()\n",
    "    signals_df1[\"Signal\"] = 0.0        \n",
    "    signals_df1[\"Signal\"][short_window:] = np.where(\n",
    "        signals_df1[\"SMA20\"][short_window:] > signals_df1[\"SMA100\"][short_window:], 1.0, 0.0\n",
    "        )   \n",
    "    signals_df1[\"Entry/Exit\"] = signals_df1[\"Signal\"].diff()\n",
    "    signals_df1['daily_return']=signals_df1[ticker].pct_change()\n",
    "    signals_df1['actual_signal'] = np.where(signals_df1['daily_return'] > 0, 1.0, 0.0)\n",
    "    signals_df1[\"SMA_shift\"]=signals_df1['SMA20'].shift()\n",
    "    signals_df1.dropna(inplace=True, subset=['daily_return'])\n",
    "    \n",
    "    return signals_df1"
   ]
  },
  {
   "cell_type": "code",
   "execution_count": 412,
   "metadata": {},
   "outputs": [],
   "source": [
    "def final_df(df1, df2, ticker):\n",
    "    df3=df1.join([df2])\n",
    "    df3=df3[[ticker,\"SMA20\",\"daily_return\",\"actual_signal\",\"avg_sentiments\",'SMA_shift']]\n",
    "    \n",
    "    return df3"
   ]
  },
  {
   "cell_type": "markdown",
   "metadata": {},
   "source": [
    "## Data Creation"
   ]
  },
  {
   "cell_type": "markdown",
   "metadata": {},
   "source": [
    "### Regression 1 Feature"
   ]
  },
  {
   "cell_type": "code",
   "execution_count": 413,
   "metadata": {},
   "outputs": [],
   "source": [
    "def dataset_regression_1f(df, ticker):\n",
    "    df = df[['SMA_shift',ticker,'avg_sentiments']]\n",
    "    df.dropna(inplace=True, subset=['avg_sentiments','SMA_shift',ticker])\n",
    "    X=df[['SMA_shift']].values.reshape(-1,1)\n",
    "    y=df[[ticker]].values.reshape(-1,1)\n",
    "\n",
    "    split = int(0.8 * len(X))\n",
    "\n",
    "    X_train = X[: split]\n",
    "    X_test = X[split:]\n",
    "\n",
    "    y_train = y[: split]\n",
    "    y_test = y[split:]\n",
    "    \n",
    "    return X, X_train, X_test, y, y_train, y_test"
   ]
  },
  {
   "cell_type": "code",
   "execution_count": 414,
   "metadata": {},
   "outputs": [],
   "source": [
    "def scaler_regression_1f(X, X_train, X_test, y, y_train, y_test):\n",
    "    # Create a MinMaxScaler object\n",
    "    scaler = MinMaxScaler()\n",
    "\n",
    "    # Fit the MinMaxScaler object with the features data X\n",
    "    scaler.fit(X)\n",
    "\n",
    "    # Scale the features training and testing sets\n",
    "    X_train = scaler.transform(X_train)\n",
    "    X_test = scaler.transform(X_test)\n",
    "\n",
    "    # Fit the MinMaxScaler object with the target data Y\n",
    "    scaler.fit(y)\n",
    "\n",
    "    # Scale the target training and testing sets\n",
    "    y_train = scaler.transform(y_train)\n",
    "    y_test = scaler.transform(y_test)\n",
    "    \n",
    "    return X, X_train, X_test, y, y_train, y_test"
   ]
  },
  {
   "cell_type": "markdown",
   "metadata": {},
   "source": [
    "### Regression 2 Features"
   ]
  },
  {
   "cell_type": "code",
   "execution_count": 415,
   "metadata": {},
   "outputs": [],
   "source": [
    "def dataset_regression_2f(df, ticker):\n",
    "    df = df[['SMA_shift',ticker,'avg_sentiments']]\n",
    "    df.dropna(inplace=True, subset=['avg_sentiments','SMA_shift',ticker])\n",
    "    X=df[['SMA_shift','avg_sentiments']]\n",
    "    y=df[[ticker]]\n",
    "\n",
    "    split = int(0.8 * len(X))\n",
    "\n",
    "    X_train = X[: split]\n",
    "    X_test = X[split:]\n",
    "\n",
    "    y_train = y[: split]\n",
    "    y_test = y[split:]\n",
    "    \n",
    "    return X, X_train, X_test, y, y_train, y_test"
   ]
  },
  {
   "cell_type": "code",
   "execution_count": 416,
   "metadata": {},
   "outputs": [],
   "source": [
    "def scaler_regression_2f(X, X_train, X_test, y, y_train, y_test):\n",
    "    # Create a MinMaxScaler object\n",
    "    scaler = MinMaxScaler()\n",
    "\n",
    "    # Fit the MinMaxScaler object with the features data X\n",
    "    scaler.fit(X)\n",
    "\n",
    "    # Scale the features training and testing sets\n",
    "    X_train = scaler.transform(X_train)\n",
    "    X_test = scaler.transform(X_test)\n",
    "\n",
    "    # Fit the MinMaxScaler object with the target data Y\n",
    "    scaler.fit(np.array(y).reshape(-1, 1))\n",
    "\n",
    "    # Scale the target training and testing sets\n",
    "    y_train = scaler.transform(np.array(y_train).reshape(-1, 1))\n",
    "    y_test = scaler.transform(np.array(y_test).reshape(-1, 1))\n",
    "    \n",
    "    return X, X_train, X_test, y, y_train, y_test"
   ]
  },
  {
   "cell_type": "markdown",
   "metadata": {},
   "source": [
    "### Classification 1 Feature"
   ]
  },
  {
   "cell_type": "code",
   "execution_count": 460,
   "metadata": {},
   "outputs": [],
   "source": [
    "def dataset_classification_1f(df, ticker):\n",
    "    df = df[['SMA_shift',ticker,'avg_sentiments','actual_signal']]\n",
    "    df.dropna(inplace=True, subset=['avg_sentiments','SMA_shift',ticker])\n",
    "    X=df[['SMA_shift']].values.reshape(-1,1)\n",
    "    y=df[['actual_signal']].values.reshape(-1,1)\n",
    "\n",
    "    split = int(0.8 * len(X))\n",
    "\n",
    "    X_train = X[: split]\n",
    "    X_test = X[split:]\n",
    "\n",
    "    y_train = y[: split]\n",
    "    y_test = y[split:]\n",
    "    \n",
    "    return X, X_train, X_test, y, y_train, y_test"
   ]
  },
  {
   "cell_type": "code",
   "execution_count": 461,
   "metadata": {},
   "outputs": [],
   "source": [
    "def scaler_classification_1f(X, X_train, X_test):\n",
    "# Create a MinMaxScaler object\n",
    "    scaler = MinMaxScaler()\n",
    "\n",
    "# Fit the MinMaxScaler object with the features data X\n",
    "    scaler.fit(X)\n",
    "\n",
    "# Scale the features training and testing sets\n",
    "    X_train = scaler.transform(X_train)\n",
    "    X_test = scaler.transform(X_test)\n",
    "\n",
    "# # Fit the MinMaxScaler object with the target data Y\n",
    "# scaler.fit(y3)\n",
    "    return X, X_train, X_test\n",
    "# # Scale the target training and testing sets\n",
    "# y3_train = scaler.transform(y3_train)\n",
    "# y3_test = scaler.transform(y3_test)"
   ]
  },
  {
   "cell_type": "markdown",
   "metadata": {},
   "source": [
    "### Classification 2 Features"
   ]
  },
  {
   "cell_type": "code",
   "execution_count": 492,
   "metadata": {},
   "outputs": [],
   "source": [
    "def dataset_classification_2f(df, ticker):\n",
    "    df = df[['SMA_shift',ticker,'avg_sentiments','actual_signal']]\n",
    "    df.dropna(inplace=True, subset=['avg_sentiments','SMA_shift',ticker])\n",
    "    X=df[['SMA_shift','avg_sentiments']].values.reshape(-1,2)\n",
    "    y=df[['actual_signal']].values.reshape(-1,1)\n",
    "\n",
    "    split = int(0.8 * len(X))\n",
    "\n",
    "    X_train = X[: split]\n",
    "    X_test = X[split:]\n",
    "\n",
    "    y_train = y[: split]\n",
    "    y_test = y[split:]\n",
    "    \n",
    "    return X, X_train, X_test, y, y_train, y_test"
   ]
  },
  {
   "cell_type": "code",
   "execution_count": 493,
   "metadata": {},
   "outputs": [],
   "source": [
    "def scaler_classification_2f(X, X_train, X_test):\n",
    "# Create a MinMaxScaler object\n",
    "    scaler = MinMaxScaler()\n",
    "\n",
    "# Fit the MinMaxScaler object with the features data X\n",
    "    scaler.fit(X)\n",
    "\n",
    "# Scale the features training and testing sets\n",
    "    X_train = scaler.transform(X_train)\n",
    "    X_test = scaler.transform(X_test)\n",
    "\n",
    "# # Fit the MinMaxScaler object with the target data Y\n",
    "# scaler.fit(y3)\n",
    "    return X, X_train, X_test\n",
    "# # Scale the target training and testing sets\n",
    "# y3_train = scaler.transform(y3_train)\n",
    "# y3_test = scaler.transform(y3_test)"
   ]
  },
  {
   "cell_type": "code",
   "execution_count": null,
   "metadata": {},
   "outputs": [],
   "source": []
  },
  {
   "cell_type": "code",
   "execution_count": null,
   "metadata": {},
   "outputs": [],
   "source": []
  },
  {
   "cell_type": "code",
   "execution_count": null,
   "metadata": {},
   "outputs": [],
   "source": []
  },
  {
   "cell_type": "code",
   "execution_count": null,
   "metadata": {},
   "outputs": [],
   "source": []
  },
  {
   "cell_type": "code",
   "execution_count": null,
   "metadata": {},
   "outputs": [],
   "source": []
  },
  {
   "cell_type": "markdown",
   "metadata": {},
   "source": [
    "## Model"
   ]
  },
  {
   "cell_type": "markdown",
   "metadata": {},
   "source": [
    "## Regression"
   ]
  },
  {
   "cell_type": "markdown",
   "metadata": {},
   "source": [
    "### Dense 1 feature"
   ]
  },
  {
   "cell_type": "code",
   "execution_count": 462,
   "metadata": {},
   "outputs": [],
   "source": [
    "def dense_lr_1f(X_train, y_train):\n",
    "    model = Sequential()\n",
    "    model.add(Dense(20, activation='relu', input_shape=(1,)))\n",
    "    model.add(Dropout(0.2))\n",
    "    model.add(Dense(1, activation='linear'))\n",
    "    model.compile(optimizer='adam',\n",
    "                     loss='mse',\n",
    "                     metrics=['mae'])\n",
    "    history = model.fit(X_train, y_train, \n",
    "                        batch_size=20, \n",
    "                        epochs=500, \n",
    "                        verbose=0, \n",
    "                        callbacks=[earlystopping]\n",
    "                       )\n",
    "    return history, model"
   ]
  },
  {
   "cell_type": "code",
   "execution_count": 418,
   "metadata": {},
   "outputs": [],
   "source": [
    "def score_dense_lr_1f(history):\n",
    "    df = pd.DataFrame(history.history, \n",
    "                      index=range(1, len(history.history[\"loss\"]) + 1)\n",
    "                     )\n",
    "    df=df.rename(columns={'loss': 'loss_1f', 'mae': 'mae_1f'})\n",
    "    \n",
    "    return df"
   ]
  },
  {
   "cell_type": "code",
   "execution_count": 419,
   "metadata": {},
   "outputs": [],
   "source": [
    "def pred_dense_lr_1f(model, X_test, y_test):\n",
    "    predicted = model.predict(X_test)\n",
    "    result = pd.DataFrame(predicted)\n",
    "    result.columns = ['predict_1feature']\n",
    "    result['actual'] = y_test\n",
    "    #result.plot()\n",
    "    return result"
   ]
  },
  {
   "cell_type": "markdown",
   "metadata": {},
   "source": [
    "### LSTM 1 feature"
   ]
  },
  {
   "cell_type": "code",
   "execution_count": 420,
   "metadata": {},
   "outputs": [],
   "source": [
    "def lstm_lr_1f(X_train, y_train):\n",
    "    model = Sequential()\n",
    "    model.add(LSTM(20,\n",
    "             #dropout=0.2,\n",
    "             #recurrent_dropout=0.2,\n",
    "             return_sequences=True,\n",
    "             input_shape=(1,1)))\n",
    "    model.add(Dropout(0.2))\n",
    "    # model_2.add(Dense(5, activation='relu'))\n",
    "    # model_2.add(Dropout(0.2))\n",
    "    model.add(LSTM(units=20, return_sequences=True))\n",
    "    model.add(Dropout(0.2))\n",
    "\n",
    "    model.add(LSTM(units=20))\n",
    "    model.add(Dropout(0.2))\n",
    "\n",
    "    model.add(Dense(1, activation='linear'))\n",
    "    model.compile(optimizer='adam',\n",
    "                  loss='mse',\n",
    "                  metrics=['mae'])\n",
    "    X_train_res=X_train[:,:,np.newaxis]\n",
    "    history=model.fit(X_train_res, y_train, \n",
    "                      batch_size=20, \n",
    "                      epochs=500, \n",
    "                      verbose=0, \n",
    "                      callbacks=[earlystopping]\n",
    "                     )\n",
    "    return history, model"
   ]
  },
  {
   "cell_type": "code",
   "execution_count": 421,
   "metadata": {},
   "outputs": [],
   "source": [
    "def score_lstm_lr_1f(history):\n",
    "    df = pd.DataFrame(history.history, \n",
    "                      index=range(1, len(history.history[\"loss\"]) + 1)\n",
    "                     )\n",
    "    df=df.rename(columns={'loss': 'loss_1f', 'mae': 'mae_1f'})\n",
    "    \n",
    "    return df"
   ]
  },
  {
   "cell_type": "code",
   "execution_count": 422,
   "metadata": {},
   "outputs": [],
   "source": [
    "def pred_lstm_lr_1f(model, X_test, y_test):\n",
    "    predicted = model.predict(X_test[:,:,np.newaxis])\n",
    "    result = pd.DataFrame(predicted)\n",
    "    result.columns = ['predict_1feature']\n",
    "    result['actual'] = y_test\n",
    "    #result.plot()\n",
    "    return result"
   ]
  },
  {
   "cell_type": "markdown",
   "metadata": {},
   "source": [
    "### Dense 2 features"
   ]
  },
  {
   "cell_type": "code",
   "execution_count": 423,
   "metadata": {},
   "outputs": [],
   "source": [
    "def dense_lr_2f(X_train, y_train):\n",
    "    model = Sequential()\n",
    "    model.add(Dense(20, activation='relu', input_shape=(2,)))\n",
    "    model.add(Dropout(0.2))\n",
    "    model.add(Dense(1, activation='linear'))\n",
    "    model.compile(optimizer='adam',\n",
    "                     loss='mse',\n",
    "                     metrics=['mae'])\n",
    "    history = model.fit(X_train, y_train, \n",
    "                        batch_size=20, \n",
    "                        epochs=500, \n",
    "                        verbose=0, \n",
    "                        callbacks=[earlystopping]\n",
    "                       )\n",
    "    return history, model"
   ]
  },
  {
   "cell_type": "code",
   "execution_count": 424,
   "metadata": {},
   "outputs": [],
   "source": [
    "def score_dense_lr_2f(history):\n",
    "    df = pd.DataFrame(history.history, \n",
    "                      index=range(1, len(history.history[\"loss\"]) + 1)\n",
    "                     )\n",
    "    df=df.rename(columns={'loss': 'loss_2f', 'mae': 'mae_2f'})\n",
    "    \n",
    "    return df"
   ]
  },
  {
   "cell_type": "code",
   "execution_count": 425,
   "metadata": {},
   "outputs": [],
   "source": [
    "def pred_dense_lr_2f(model, X_test, y_test):\n",
    "    predicted = model.predict(X_test)\n",
    "    result = pd.DataFrame(predicted)\n",
    "    result.columns = ['predict_2features']\n",
    "    result['actual'] = y_test\n",
    "    #result.plot()\n",
    "    return result"
   ]
  },
  {
   "cell_type": "markdown",
   "metadata": {},
   "source": [
    "### LSTM 2 features"
   ]
  },
  {
   "cell_type": "code",
   "execution_count": 426,
   "metadata": {},
   "outputs": [],
   "source": [
    "def lstm_lr_2f(X_train, y_train):\n",
    "    model = Sequential()\n",
    "    model.add(LSTM(20,\n",
    "             #dropout=0.2,\n",
    "             #recurrent_dropout=0.2,\n",
    "             return_sequences=True,\n",
    "             input_shape=(2,1)))\n",
    "    model.add(Dropout(0.2))\n",
    "    # model_2.add(Dense(5, activation='relu'))\n",
    "    # model_2.add(Dropout(0.2))\n",
    "    model.add(LSTM(units=20, return_sequences=True))\n",
    "    model.add(Dropout(0.2))\n",
    "\n",
    "    model.add(LSTM(units=20))\n",
    "    model.add(Dropout(0.2))\n",
    "\n",
    "    model.add(Dense(1, activation='linear'))\n",
    "    model.compile(optimizer='adam',\n",
    "                  loss='mse',\n",
    "                  metrics=['mae'])\n",
    "    X_train_res=X_train[:,:,np.newaxis]\n",
    "    history=model.fit(X_train_res, y_train, \n",
    "                      batch_size=20, \n",
    "                      epochs=500, \n",
    "                      verbose=0, \n",
    "                      callbacks=[earlystopping]\n",
    "                     )\n",
    "    return history, model"
   ]
  },
  {
   "cell_type": "code",
   "execution_count": 427,
   "metadata": {},
   "outputs": [],
   "source": [
    "def score_lstm_lr_2f(history):\n",
    "    df = pd.DataFrame(history.history, \n",
    "                      index=range(1, len(history.history[\"loss\"]) + 1)\n",
    "                     )\n",
    "    df=df.rename(columns={'loss': 'loss_2f', 'mae': 'mae_2f'})\n",
    "    \n",
    "    return df"
   ]
  },
  {
   "cell_type": "code",
   "execution_count": 428,
   "metadata": {},
   "outputs": [],
   "source": [
    "def pred_lstm_lr_2f(model, X_test, y_test):\n",
    "    predicted = model.predict(X_test[:,:,np.newaxis])\n",
    "    result = pd.DataFrame(predicted)\n",
    "    result.columns = ['predict_2features']\n",
    "    result['actual'] = y_test\n",
    "    #result.plot()\n",
    "    return result"
   ]
  },
  {
   "cell_type": "markdown",
   "metadata": {},
   "source": [
    "## Classification"
   ]
  },
  {
   "cell_type": "markdown",
   "metadata": {},
   "source": [
    "### Dense 1 Feature"
   ]
  },
  {
   "cell_type": "code",
   "execution_count": 456,
   "metadata": {},
   "outputs": [],
   "source": [
    "def dense_cl_1f(X_train, y_train):\n",
    "    model = Sequential()\n",
    "    model.add(Dense(20, activation='relu', input_shape=(1,)))\n",
    "    model.add(Dropout(0.2))\n",
    "    model.add(Dense(1, activation='sigmoid'))\n",
    "    model.compile(optimizer='adam',\n",
    "                  loss='binary_crossentropy',\n",
    "           \t      metrics=['acc'])\n",
    "    history=model.fit(X_train, y_train, \n",
    "                      batch_size=20, \n",
    "                      epochs=500, \n",
    "                      verbose=0, \n",
    "                      callbacks=[earlystopping]\n",
    "                     )\n",
    "    return history, model"
   ]
  },
  {
   "cell_type": "code",
   "execution_count": 469,
   "metadata": {},
   "outputs": [],
   "source": [
    "def eva_dense_cl_1f(model, X_test, y_test):\n",
    "    accuracy = model.evaluate(X_test, y_test, verbose=0)[1]\n",
    "    dic = {'Dense': accuracy}\n",
    "    return dic"
   ]
  },
  {
   "cell_type": "markdown",
   "metadata": {},
   "source": [
    "### LSTM 1 Feature"
   ]
  },
  {
   "cell_type": "code",
   "execution_count": 475,
   "metadata": {},
   "outputs": [],
   "source": [
    "def lstm_cl_1f(X_train, y_train):\n",
    "    model = Sequential()\n",
    "    model.add(LSTM(20,\n",
    "                 #dropout=0.2,\n",
    "                 #recurrent_dropout=0.2,\n",
    "                 return_sequences=True,\n",
    "                 input_shape=(1,1)))\n",
    "    model.add(Dropout(0.2))\n",
    "    # model_2.add(Dense(5, activation='relu'))\n",
    "    # model_2.add(Dropout(0.2))\n",
    "    model.add(LSTM(units=20, return_sequences=True))\n",
    "    model.add(Dropout(0.2))\n",
    "\n",
    "    model.add(LSTM(units=20))\n",
    "    model.add(Dropout(0.2))\n",
    "\n",
    "    model.add(Dense(1, activation='sigmoid'))\n",
    "    \n",
    "    model.compile(optimizer='adam',\n",
    "                  loss='binary_crossentropy',\n",
    "                  metrics=['acc'])\n",
    "    X_train_res = X_train[:,:,np.newaxis]\n",
    "    history = model.fit(X_train_res, y_train, \n",
    "                        batch_size=20, \n",
    "                        epochs=500, \n",
    "                        verbose=0, \n",
    "                        callbacks=[earlystopping]\n",
    "                       )\n",
    "    \n",
    "    return history, model"
   ]
  },
  {
   "cell_type": "code",
   "execution_count": 476,
   "metadata": {},
   "outputs": [],
   "source": [
    "def eva_lstm_cl_1f(model, X_test, y_test):\n",
    "    accuracy = model.evaluate(X_test[:,:,np.newaxis], y_test, verbose=0)[1]\n",
    "    dic = {'LSTM': accuracy}\n",
    "    return dic"
   ]
  },
  {
   "cell_type": "markdown",
   "metadata": {},
   "source": [
    "### Dense 2 Features"
   ]
  },
  {
   "cell_type": "code",
   "execution_count": 497,
   "metadata": {},
   "outputs": [],
   "source": [
    "def dense_cl_2f(X_train, y_train):\n",
    "    model = Sequential()\n",
    "    model.add(Dense(20, activation='relu', input_shape=(2,)))\n",
    "    model.add(Dropout(0.2))\n",
    "    model.add(Dense(1, activation='sigmoid'))\n",
    "    model.compile(optimizer='adam',\n",
    "                  loss='binary_crossentropy',\n",
    "           \t      metrics=['acc'])\n",
    "    history=model.fit(X_train, y_train, \n",
    "                      batch_size=20, \n",
    "                      epochs=500, \n",
    "                      verbose=0, \n",
    "                      callbacks=[earlystopping]\n",
    "                     )\n",
    "    return history, model"
   ]
  },
  {
   "cell_type": "code",
   "execution_count": 498,
   "metadata": {},
   "outputs": [],
   "source": [
    "def eva_dense_cl_2f(model, X_test, y_test):\n",
    "    accuracy = model.evaluate(X_test, y_test, verbose=0)[1]\n",
    "    dic = {'DENSE': accuracy}\n",
    "    return dic"
   ]
  },
  {
   "cell_type": "markdown",
   "metadata": {},
   "source": [
    "### LSTM 2 Features"
   ]
  },
  {
   "cell_type": "code",
   "execution_count": 502,
   "metadata": {},
   "outputs": [],
   "source": [
    "def lstm_cl_2f(X_train, y_train):\n",
    "    model = Sequential()\n",
    "    model.add(LSTM(20,\n",
    "                 #dropout=0.2,\n",
    "                 #recurrent_dropout=0.2,\n",
    "                 return_sequences=True,\n",
    "                 input_shape=(2,1)))\n",
    "    model.add(Dropout(0.2))\n",
    "    # model_2.add(Dense(5, activation='relu'))\n",
    "    # model_2.add(Dropout(0.2))\n",
    "    model.add(LSTM(units=20, return_sequences=True))\n",
    "    model.add(Dropout(0.2))\n",
    "\n",
    "    model.add(LSTM(units=20))\n",
    "    model.add(Dropout(0.2))\n",
    "\n",
    "    model.add(Dense(1, activation='sigmoid'))\n",
    "\n",
    "    model.compile(optimizer='adam',\n",
    "               loss='binary_crossentropy',\n",
    "               metrics=['acc'])\n",
    "    X_train_res = X_train[:,:,np.newaxis]\n",
    "    history = model.fit(X_train_res, y_train, \n",
    "                        batch_size=20, \n",
    "                        epochs=500, \n",
    "                        verbose=0, \n",
    "                        callbacks=[earlystopping]\n",
    "                       )\n",
    "    \n",
    "    return history, model"
   ]
  },
  {
   "cell_type": "code",
   "execution_count": 503,
   "metadata": {},
   "outputs": [],
   "source": [
    "def eva_lstm_cl_2f(model, X_test, y_test):\n",
    "    accuracy = model.evaluate(X_test[:,:,np.newaxis], y_test, verbose=0)[1]\n",
    "    dic = {'LSTM': accuracy}\n",
    "    return dic"
   ]
  },
  {
   "cell_type": "markdown",
   "metadata": {},
   "source": [
    "### Other Models: Logistic Regression, SVC, Decision Tree Classifier, Random Forest Classifier, XGB Classifier"
   ]
  },
  {
   "cell_type": "code",
   "execution_count": 523,
   "metadata": {},
   "outputs": [],
   "source": [
    "def sklearn_cl_models(X_train, y_train, X_test, y_test):\n",
    "    # Logistic regression\n",
    "    algorithm1 = LogisticRegression(random_state=1)\n",
    "    # Support vector machine\n",
    "    algorithm2 = SVC(kernel='rbf', random_state=1)\n",
    "    # Decision Tree Classifier\n",
    "    algorithm3 = DecisionTreeClassifier(random_state=1)\n",
    "    # Random Forest\n",
    "    algorithm4 = RandomForestClassifier(random_state=1)\n",
    "    # XGBoost\n",
    "    algorithm5 = XGBClassifier(random_state=1)\n",
    "    # Create a list of the five model instances\n",
    "    algorithms = [algorithm1, algorithm2, algorithm3, algorithm4, algorithm5]\n",
    "    \n",
    "    # Create a balanced set of samples, create a StratifiedKFold instance\n",
    "    stratifiedkfold = StratifiedKFold(n_splits=5)\n",
    "    \n",
    "    dic = {}\n",
    "\n",
    "    \n",
    "    for algorithm in algorithms:\n",
    "        algorithm.fit(X_train, y_train)\n",
    "        score = algorithm.score(X_test, y_test)\n",
    "        name = algorithm.__class__.__name__\n",
    "        dic[name] = score \n",
    "    \n",
    "#     for algorithm in algorithms:\n",
    "#         # Conduct cross validation for each one of the five models\n",
    "#         scores = cross_val_score(algorithm, X_train, y_train, cv=stratifiedkfold)\n",
    "#         score = scores.mean()\n",
    "#         name = algorithm.__class__.__name__\n",
    "#         dic[name] = score \n",
    "    \n",
    "    return dic"
   ]
  },
  {
   "cell_type": "code",
   "execution_count": 528,
   "metadata": {},
   "outputs": [],
   "source": [
    "def sklearn_cl_models_cross_validation(X, y):\n",
    "    # Logistic regression\n",
    "    algorithm1 = LogisticRegression(random_state=1)\n",
    "    # Support vector machine\n",
    "    algorithm2 = SVC(kernel='rbf', random_state=1)\n",
    "    # Decision Tree Classifier\n",
    "    algorithm3 = DecisionTreeClassifier(random_state=1)\n",
    "    # Random Forest\n",
    "    algorithm4 = RandomForestClassifier(random_state=1)\n",
    "    # XGBoost\n",
    "    algorithm5 = XGBClassifier(random_state=1)\n",
    "    # Create a list of the five model instances\n",
    "    algorithms = [algorithm1, algorithm2, algorithm3, algorithm4, algorithm5]\n",
    "    \n",
    "    # Create a balanced set of samples, create a StratifiedKFold instance\n",
    "    stratifiedkfold = StratifiedKFold(n_splits=5)\n",
    "    \n",
    "    dic = {}\n",
    "    \n",
    "    for algorithm in algorithms:\n",
    "        # Conduct cross validation for each one of the five models\n",
    "        scores = cross_val_score(algorithm, X, y, cv=stratifiedkfold)\n",
    "        score = scores.mean()\n",
    "        name = algorithm.__class__.__name__\n",
    "        dic[name + ' (Cross Validation)'] = score \n",
    "    \n",
    "    return dic"
   ]
  },
  {
   "cell_type": "code",
   "execution_count": 529,
   "metadata": {},
   "outputs": [],
   "source": [
    "def svc_optimizer(X_train, y_train, X_test, y_test):\n",
    "    # Optimize the parameters\n",
    "    params = {'C':[1, 10, 100, 1000, 10000], 'gamma':[1, 0.1, 0.01, 0.001, 0.0001, 0.00001]}\n",
    "    algorithm = SVC(random_state=1)\n",
    "\n",
    "    stratifiedkfold = StratifiedKFold(n_splits=5)\n",
    "    gs = GridSearchCV(algorithm, params, cv=stratifiedkfold)\n",
    "    gs.fit(X_train, y_train)\n",
    "\n",
    "    # Based on the best parameters, predict y values from test data\n",
    "    best = gs.best_estimator_\n",
    "    best_pred = best.predict(X_test)\n",
    "\n",
    "    # Accuracy\n",
    "    score = best.score(X_test, y_test)\n",
    "    \n",
    "    dic = {'SVC (Grid Search)': score}\n",
    "    \n",
    "    return dic"
   ]
  },
  {
   "cell_type": "markdown",
   "metadata": {},
   "source": [
    "## Visualization"
   ]
  },
  {
   "cell_type": "markdown",
   "metadata": {},
   "source": [
    "### Regression"
   ]
  },
  {
   "cell_type": "code",
   "execution_count": 429,
   "metadata": {},
   "outputs": [],
   "source": [
    "def score_loss_lr_1fvs2f(df_1f, df_2f):\n",
    "    df=pd.concat([df_1f,df_2f], axis=1)\n",
    "    return df[['loss_1f','loss_2f']].hvplot()"
   ]
  },
  {
   "cell_type": "code",
   "execution_count": 430,
   "metadata": {},
   "outputs": [],
   "source": [
    "def score_mae_lr_1fvs2f(df_1f, df_2f):\n",
    "    df=pd.concat([df_1f,df_2f], axis=1)\n",
    "    return df[['mae_1f','mae_2f']].hvplot()"
   ]
  },
  {
   "cell_type": "code",
   "execution_count": 431,
   "metadata": {},
   "outputs": [],
   "source": [
    "def pred_lr_1fvs2f(df_1f, df_2f):\n",
    "    df=df_1f.merge(df_2f, on='actual')\n",
    "    return df.hvplot()"
   ]
  },
  {
   "cell_type": "markdown",
   "metadata": {},
   "source": [
    "### Classification"
   ]
  },
  {
   "cell_type": "code",
   "execution_count": null,
   "metadata": {},
   "outputs": [],
   "source": [
    "def score_df(\n",
    "    dict1, dict2, dict3, dict4, dict5\n",
    "    dict6, dict7, dict8, dict9, dict10\n",
    "):\n",
    "    dict1.update(dict2)\n",
    "    dict1.update(dict3)\n",
    "    dict1.update(dict4)\n",
    "    dict_1f = dict1.update(dict5)\n",
    "\n",
    "    dict6.update(dict7)\n",
    "    dict6.update(dict8)\n",
    "    dict6.update(dict9)\n",
    "    dict_2f = dict6.update(dict10)\n",
    "\n",
    "    df = pd.DataFrame([dict_1f, dict_2f], index=['1 Feature', '2 Features']).T\n",
    "\n",
    "    return df"
   ]
  },
  {
   "cell_type": "code",
   "execution_count": null,
   "metadata": {},
   "outputs": [],
   "source": []
  },
  {
   "cell_type": "code",
   "execution_count": null,
   "metadata": {},
   "outputs": [],
   "source": []
  },
  {
   "cell_type": "code",
   "execution_count": null,
   "metadata": {},
   "outputs": [],
   "source": []
  },
  {
   "cell_type": "markdown",
   "metadata": {},
   "source": [
    "# Application to 5 Companies"
   ]
  },
  {
   "cell_type": "markdown",
   "metadata": {},
   "source": [
    "## MSFT"
   ]
  },
  {
   "cell_type": "markdown",
   "metadata": {},
   "source": [
    "## Data Creation"
   ]
  },
  {
   "cell_type": "code",
   "execution_count": 432,
   "metadata": {},
   "outputs": [
    {
     "data": {
      "text/html": [
       "<div>\n",
       "<style scoped>\n",
       "    .dataframe tbody tr th:only-of-type {\n",
       "        vertical-align: middle;\n",
       "    }\n",
       "\n",
       "    .dataframe tbody tr th {\n",
       "        vertical-align: top;\n",
       "    }\n",
       "\n",
       "    .dataframe thead th {\n",
       "        text-align: right;\n",
       "    }\n",
       "</style>\n",
       "<table border=\"1\" class=\"dataframe\">\n",
       "  <thead>\n",
       "    <tr style=\"text-align: right;\">\n",
       "      <th></th>\n",
       "      <th>MSFT</th>\n",
       "      <th>SMA20</th>\n",
       "      <th>daily_return</th>\n",
       "      <th>actual_signal</th>\n",
       "      <th>avg_sentiments</th>\n",
       "      <th>SMA_shift</th>\n",
       "    </tr>\n",
       "    <tr>\n",
       "      <th>Date</th>\n",
       "      <th></th>\n",
       "      <th></th>\n",
       "      <th></th>\n",
       "      <th></th>\n",
       "      <th></th>\n",
       "      <th></th>\n",
       "    </tr>\n",
       "  </thead>\n",
       "  <tbody>\n",
       "    <tr>\n",
       "      <th>2015-01-16</th>\n",
       "      <td>46.22</td>\n",
       "      <td>NaN</td>\n",
       "      <td>0.016271</td>\n",
       "      <td>1.0</td>\n",
       "      <td>NaN</td>\n",
       "      <td>NaN</td>\n",
       "    </tr>\n",
       "    <tr>\n",
       "      <th>2015-01-20</th>\n",
       "      <td>46.39</td>\n",
       "      <td>NaN</td>\n",
       "      <td>0.003678</td>\n",
       "      <td>1.0</td>\n",
       "      <td>0.4767</td>\n",
       "      <td>NaN</td>\n",
       "    </tr>\n",
       "    <tr>\n",
       "      <th>2015-01-21</th>\n",
       "      <td>45.91</td>\n",
       "      <td>NaN</td>\n",
       "      <td>-0.010347</td>\n",
       "      <td>0.0</td>\n",
       "      <td>0.0000</td>\n",
       "      <td>NaN</td>\n",
       "    </tr>\n",
       "    <tr>\n",
       "      <th>2015-01-22</th>\n",
       "      <td>47.12</td>\n",
       "      <td>NaN</td>\n",
       "      <td>0.026356</td>\n",
       "      <td>1.0</td>\n",
       "      <td>NaN</td>\n",
       "      <td>NaN</td>\n",
       "    </tr>\n",
       "    <tr>\n",
       "      <th>2015-01-23</th>\n",
       "      <td>47.18</td>\n",
       "      <td>NaN</td>\n",
       "      <td>0.001273</td>\n",
       "      <td>1.0</td>\n",
       "      <td>NaN</td>\n",
       "      <td>NaN</td>\n",
       "    </tr>\n",
       "  </tbody>\n",
       "</table>\n",
       "</div>"
      ],
      "text/plain": [
       "             MSFT  SMA20  daily_return  actual_signal  avg_sentiments  \\\n",
       "Date                                                                    \n",
       "2015-01-16  46.22    NaN      0.016271            1.0             NaN   \n",
       "2015-01-20  46.39    NaN      0.003678            1.0          0.4767   \n",
       "2015-01-21  45.91    NaN     -0.010347            0.0          0.0000   \n",
       "2015-01-22  47.12    NaN      0.026356            1.0             NaN   \n",
       "2015-01-23  47.18    NaN      0.001273            1.0             NaN   \n",
       "\n",
       "            SMA_shift  \n",
       "Date                   \n",
       "2015-01-16        NaN  \n",
       "2015-01-20        NaN  \n",
       "2015-01-21        NaN  \n",
       "2015-01-22        NaN  \n",
       "2015-01-23        NaN  "
      ]
     },
     "execution_count": 432,
     "metadata": {},
     "output_type": "execute_result"
    }
   ],
   "source": [
    "df=read_file(\"MSFT\")\n",
    "df1=sentiment_analysis(df)\n",
    "df2=stock_prices()\n",
    "df3=manipulate_df(df2, 'MSFT')\n",
    "df_MSFT=final_df(df3, df1, 'MSFT')\n",
    "df_MSFT.head()"
   ]
  },
  {
   "cell_type": "markdown",
   "metadata": {},
   "source": [
    "### Regression"
   ]
  },
  {
   "cell_type": "markdown",
   "metadata": {},
   "source": [
    "### Dense 1 feature"
   ]
  },
  {
   "cell_type": "code",
   "execution_count": 433,
   "metadata": {},
   "outputs": [],
   "source": [
    "X, X_train, X_test, y, y_train, y_test=dataset_regression_1f(df_MSFT, 'MSFT')\n",
    "X, X_train, X_test, y, y_train, y_test=scaler_regression_1f(X, X_train, X_test, y, y_train, y_test)"
   ]
  },
  {
   "cell_type": "code",
   "execution_count": 434,
   "metadata": {},
   "outputs": [],
   "source": [
    "msft_dense_lr_1f_history, msft_dense_lr_1f_model =dense_lr_1f(X_train, y_train)"
   ]
  },
  {
   "cell_type": "code",
   "execution_count": 435,
   "metadata": {},
   "outputs": [],
   "source": [
    "score_dense_lr_1f_df = score_dense_lr_1f(msft_dense_lr_1f_history)"
   ]
  },
  {
   "cell_type": "code",
   "execution_count": 436,
   "metadata": {},
   "outputs": [],
   "source": [
    "pred_dense_lr_1f_df = pred_dense_lr_1f(msft_dense_lr_1f_model, X_test, y_test)"
   ]
  },
  {
   "cell_type": "markdown",
   "metadata": {},
   "source": [
    "### LSTM 1 feature"
   ]
  },
  {
   "cell_type": "code",
   "execution_count": 437,
   "metadata": {},
   "outputs": [],
   "source": [
    "msft_lstm_lr_1f_history, msft_lstm_lr_1f_model =lstm_lr_1f(X_train, y_train)"
   ]
  },
  {
   "cell_type": "code",
   "execution_count": 438,
   "metadata": {},
   "outputs": [],
   "source": [
    "score_lstm_lr_1f_df = score_lstm_lr_1f(msft_lstm_lr_1f_history)"
   ]
  },
  {
   "cell_type": "code",
   "execution_count": 439,
   "metadata": {},
   "outputs": [],
   "source": [
    "pred_lstm_lr_1f_df = pred_lstm_lr_1f(msft_lstm_lr_1f_model, X_test, y_test)"
   ]
  },
  {
   "cell_type": "markdown",
   "metadata": {},
   "source": [
    "### Dense 2 features"
   ]
  },
  {
   "cell_type": "code",
   "execution_count": 440,
   "metadata": {},
   "outputs": [],
   "source": [
    "X, X_train, X_test, y, y_train, y_test=dataset_regression_2f(df_MSFT, 'MSFT')\n",
    "X, X_train, X_test, y, y_train, y_test=scaler_regression_2f(X, X_train, X_test, y, y_train, y_test)"
   ]
  },
  {
   "cell_type": "code",
   "execution_count": 441,
   "metadata": {},
   "outputs": [],
   "source": [
    "msft_dense_lr_2f_history, msft_dense_lr_2f_model = dense_lr_2f(X_train, y_train)"
   ]
  },
  {
   "cell_type": "code",
   "execution_count": 442,
   "metadata": {},
   "outputs": [],
   "source": [
    "score_dense_lr_2f_df = score_dense_lr_2f(msft_dense_lr_2f_history)"
   ]
  },
  {
   "cell_type": "code",
   "execution_count": 443,
   "metadata": {},
   "outputs": [],
   "source": [
    "pred_dense_lr_2f_df = pred_dense_lr_2f(msft_dense_lr_2f_model, X_test, y_test)"
   ]
  },
  {
   "cell_type": "markdown",
   "metadata": {},
   "source": [
    "### LSTM 2 features"
   ]
  },
  {
   "cell_type": "code",
   "execution_count": 444,
   "metadata": {},
   "outputs": [],
   "source": [
    "msft_lstm_lr_2f_history, msft_lstm_lr_2f_model = lstm_lr_2f(X_train, y_train)"
   ]
  },
  {
   "cell_type": "code",
   "execution_count": 445,
   "metadata": {},
   "outputs": [],
   "source": [
    "score_lstm_lr_2f_df = score_lstm_lr_2f(msft_lstm_lr_2f_history)"
   ]
  },
  {
   "cell_type": "code",
   "execution_count": 446,
   "metadata": {},
   "outputs": [],
   "source": [
    "pred_lstm_lr_2f_df = pred_lstm_lr_2f(msft_lstm_lr_2f_model, X_test, y_test)"
   ]
  },
  {
   "cell_type": "markdown",
   "metadata": {},
   "source": [
    "### Visualization"
   ]
  },
  {
   "cell_type": "code",
   "execution_count": 447,
   "metadata": {},
   "outputs": [
    {
     "data": {
      "application/vnd.holoviews_exec.v0+json": "",
      "text/html": [
       "<div id='2615'>\n",
       "\n",
       "\n",
       "\n",
       "\n",
       "\n",
       "  <div class=\"bk-root\" id=\"526d92ad-911b-4779-9e61-b7d1f5182d8c\" data-root-id=\"2615\"></div>\n",
       "</div>\n",
       "<script type=\"application/javascript\">(function(root) {\n",
       "  function embed_document(root) {\n",
       "    var docs_json = {\"4a608f25-6d20-4916-9406-25046a826ea6\":{\"roots\":{\"references\":[{\"attributes\":{},\"id\":\"2674\",\"type\":\"Selection\"},{\"attributes\":{\"bottom_units\":\"screen\",\"fill_alpha\":0.5,\"fill_color\":\"lightgrey\",\"left_units\":\"screen\",\"level\":\"overlay\",\"line_alpha\":1.0,\"line_color\":\"black\",\"line_dash\":[4,4],\"line_width\":2,\"right_units\":\"screen\",\"top_units\":\"screen\"},\"id\":\"2643\",\"type\":\"BoxAnnotation\"},{\"attributes\":{},\"id\":\"2668\",\"type\":\"UnionRenderers\"},{\"attributes\":{\"active_drag\":\"auto\",\"active_inspect\":\"auto\",\"active_multi\":null,\"active_scroll\":\"auto\",\"active_tap\":\"auto\",\"tools\":[{\"id\":\"2619\"},{\"id\":\"2638\"},{\"id\":\"2639\"},{\"id\":\"2640\"},{\"id\":\"2641\"},{\"id\":\"2642\"}]},\"id\":\"2644\",\"type\":\"Toolbar\"},{\"attributes\":{\"end\":0.14323489093221725,\"reset_end\":0.14323489093221725,\"reset_start\":-0.007471426902338863,\"start\":-0.007471426902338863,\"tags\":[[[\"value\",\"value\",null]]]},\"id\":\"2618\",\"type\":\"Range1d\"},{\"attributes\":{\"label\":{\"value\":\"loss_2f\"},\"renderers\":[{\"id\":\"2679\"}]},\"id\":\"2691\",\"type\":\"LegendItem\"},{\"attributes\":{\"below\":[{\"id\":\"2630\"}],\"center\":[{\"id\":\"2633\"},{\"id\":\"2637\"}],\"left\":[{\"id\":\"2634\"}],\"margin\":[5,5,5,5],\"min_border_bottom\":10,\"min_border_left\":10,\"min_border_right\":10,\"min_border_top\":10,\"plot_height\":300,\"plot_width\":700,\"renderers\":[{\"id\":\"2661\"},{\"id\":\"2679\"}],\"right\":[{\"id\":\"2671\"}],\"sizing_mode\":\"fixed\",\"title\":{\"id\":\"2622\"},\"toolbar\":{\"id\":\"2644\"},\"x_range\":{\"id\":\"2617\"},\"x_scale\":{\"id\":\"2626\"},\"y_range\":{\"id\":\"2618\"},\"y_scale\":{\"id\":\"2628\"}},\"id\":\"2621\",\"subtype\":\"Figure\",\"type\":\"Plot\"},{\"attributes\":{\"label\":{\"value\":\"loss_1f\"},\"renderers\":[{\"id\":\"2661\"}]},\"id\":\"2672\",\"type\":\"LegendItem\"},{\"attributes\":{\"end\":23.0,\"reset_end\":23.0,\"reset_start\":1.0,\"start\":1.0,\"tags\":[[[\"index\",\"index\",null]]]},\"id\":\"2617\",\"type\":\"Range1d\"},{\"attributes\":{\"data\":{\"Variable\":[\"loss_2f\",\"loss_2f\",\"loss_2f\",\"loss_2f\",\"loss_2f\",\"loss_2f\",\"loss_2f\",\"loss_2f\",\"loss_2f\",\"loss_2f\",\"loss_2f\",\"loss_2f\",\"loss_2f\",\"loss_2f\",\"loss_2f\",\"loss_2f\",\"loss_2f\",\"loss_2f\",\"loss_2f\",\"loss_2f\",\"loss_2f\",\"loss_2f\",\"loss_2f\"],\"index\":[1,2,3,4,5,6,7,8,9,10,11,12,13,14,15,16,17,18,19,20,21,22,23],\"value\":{\"__ndarray__\":\"AAAAwP/eqz8AAAAATlWfPwAAAGAZeZQ/AAAAIHhtkT8AAACADO6GPwAAAODMLYg/AAAAoDYahj8AAACARueAPwAAAABAj4E/AAAA4EZWgD8AAABAbRyCPwAAAADBxH0/AAAAwGvIgD8AAACAbhSBPwAAAABa2no/AAAAoD3deD8AAADAsUN/PwAAAGApVHU/AAAAgPmNeT8AAABgj9Z0PwAAACBhbns/AAAAoLi3dj8AAACACtB3Pw==\",\"dtype\":\"float64\",\"order\":\"little\",\"shape\":[23]}},\"selected\":{\"id\":\"2674\"},\"selection_policy\":{\"id\":\"2688\"}},\"id\":\"2673\",\"type\":\"ColumnDataSource\"},{\"attributes\":{\"data_source\":{\"id\":\"2673\"},\"glyph\":{\"id\":\"2676\"},\"hover_glyph\":null,\"muted_glyph\":{\"id\":\"2678\"},\"nonselection_glyph\":{\"id\":\"2677\"},\"selection_glyph\":null,\"view\":{\"id\":\"2680\"}},\"id\":\"2679\",\"type\":\"GlyphRenderer\"},{\"attributes\":{\"data\":{\"Variable\":[\"loss_1f\",\"loss_1f\",\"loss_1f\",\"loss_1f\",\"loss_1f\",\"loss_1f\",\"loss_1f\",\"loss_1f\",\"loss_1f\",\"loss_1f\",\"loss_1f\",\"loss_1f\",\"loss_1f\",\"loss_1f\",\"loss_1f\",\"loss_1f\",\"loss_1f\",\"loss_1f\",\"loss_1f\",\"loss_1f\",\"loss_1f\",\"loss_1f\",\"loss_1f\"],\"index\":[1,2,3,4,5,6,7,8,9,10,11,12,13,14,15,16,17,18,19,20,21,22,23],\"value\":{\"__ndarray__\":\"AAAAAP65wD8AAABgdlmyPwAAAKBzrKU/AAAA4ATonD8AAADgiDKYPwAAAOAREpc/AAAAYA0klD8AAACAdAKSPwAAAECuGJA/AAAAICzliz8AAAAAgAuGPwAAAEC+F4g/AAAAAF6hgj8AAAAAOFiDPwAAAEAhqIA/AAAAAHbSgT8AAADgQ6mAPwAAAKAgTH0/AAAAAH6sdj8AAACgVKJ+PwAAAODqhXg/AAAAoDFRez8AAAAAAAD4fw==\",\"dtype\":\"float64\",\"order\":\"little\",\"shape\":[23]}},\"selected\":{\"id\":\"2656\"},\"selection_policy\":{\"id\":\"2668\"}},\"id\":\"2655\",\"type\":\"ColumnDataSource\"},{\"attributes\":{\"source\":{\"id\":\"2655\"}},\"id\":\"2662\",\"type\":\"CDSView\"},{\"attributes\":{},\"id\":\"2688\",\"type\":\"UnionRenderers\"},{\"attributes\":{},\"id\":\"2638\",\"type\":\"SaveTool\"},{\"attributes\":{},\"id\":\"2639\",\"type\":\"PanTool\"},{\"attributes\":{},\"id\":\"2642\",\"type\":\"ResetTool\"},{\"attributes\":{},\"id\":\"2640\",\"type\":\"WheelZoomTool\"},{\"attributes\":{},\"id\":\"2656\",\"type\":\"Selection\"},{\"attributes\":{},\"id\":\"2653\",\"type\":\"BasicTickFormatter\"},{\"attributes\":{\"click_policy\":\"mute\",\"items\":[{\"id\":\"2672\"},{\"id\":\"2691\"}],\"location\":[0,0],\"title\":\"Variable\"},\"id\":\"2671\",\"type\":\"Legend\"},{\"attributes\":{\"overlay\":{\"id\":\"2643\"}},\"id\":\"2641\",\"type\":\"BoxZoomTool\"},{\"attributes\":{\"text\":\"\",\"text_color\":{\"value\":\"black\"},\"text_font_size\":{\"value\":\"12pt\"}},\"id\":\"2622\",\"type\":\"Title\"},{\"attributes\":{},\"id\":\"2651\",\"type\":\"BasicTickFormatter\"},{\"attributes\":{\"line_alpha\":0.2,\"line_color\":\"#ff7e0e\",\"line_width\":2,\"x\":{\"field\":\"index\"},\"y\":{\"field\":\"value\"}},\"id\":\"2678\",\"type\":\"Line\"},{\"attributes\":{},\"id\":\"2626\",\"type\":\"LinearScale\"},{\"attributes\":{\"line_alpha\":0.2,\"line_color\":\"#1f77b3\",\"line_width\":2,\"x\":{\"field\":\"index\"},\"y\":{\"field\":\"value\"}},\"id\":\"2660\",\"type\":\"Line\"},{\"attributes\":{\"axis_label\":\"\",\"bounds\":\"auto\",\"formatter\":{\"id\":\"2651\"},\"major_label_orientation\":\"horizontal\",\"ticker\":{\"id\":\"2631\"}},\"id\":\"2630\",\"type\":\"LinearAxis\"},{\"attributes\":{},\"id\":\"2628\",\"type\":\"LinearScale\"},{\"attributes\":{\"data_source\":{\"id\":\"2655\"},\"glyph\":{\"id\":\"2658\"},\"hover_glyph\":null,\"muted_glyph\":{\"id\":\"2660\"},\"nonselection_glyph\":{\"id\":\"2659\"},\"selection_glyph\":null,\"view\":{\"id\":\"2662\"}},\"id\":\"2661\",\"type\":\"GlyphRenderer\"},{\"attributes\":{\"line_alpha\":0.1,\"line_color\":\"#ff7e0e\",\"line_width\":2,\"x\":{\"field\":\"index\"},\"y\":{\"field\":\"value\"}},\"id\":\"2677\",\"type\":\"Line\"},{\"attributes\":{},\"id\":\"2631\",\"type\":\"BasicTicker\"},{\"attributes\":{\"line_color\":\"#1f77b3\",\"line_width\":2,\"x\":{\"field\":\"index\"},\"y\":{\"field\":\"value\"}},\"id\":\"2658\",\"type\":\"Line\"},{\"attributes\":{\"line_color\":\"#ff7e0e\",\"line_width\":2,\"x\":{\"field\":\"index\"},\"y\":{\"field\":\"value\"}},\"id\":\"2676\",\"type\":\"Line\"},{\"attributes\":{\"axis\":{\"id\":\"2634\"},\"dimension\":1,\"grid_line_color\":null,\"ticker\":null},\"id\":\"2637\",\"type\":\"Grid\"},{\"attributes\":{\"line_alpha\":0.1,\"line_color\":\"#1f77b3\",\"line_width\":2,\"x\":{\"field\":\"index\"},\"y\":{\"field\":\"value\"}},\"id\":\"2659\",\"type\":\"Line\"},{\"attributes\":{\"axis\":{\"id\":\"2630\"},\"grid_line_color\":null,\"ticker\":null},\"id\":\"2633\",\"type\":\"Grid\"},{\"attributes\":{\"callback\":null,\"renderers\":[{\"id\":\"2661\"},{\"id\":\"2679\"}],\"tags\":[\"hv_created\"],\"tooltips\":[[\"Variable\",\"@{Variable}\"],[\"index\",\"@{index}\"],[\"value\",\"@{value}\"]]},\"id\":\"2619\",\"type\":\"HoverTool\"},{\"attributes\":{\"source\":{\"id\":\"2673\"}},\"id\":\"2680\",\"type\":\"CDSView\"},{\"attributes\":{\"children\":[{\"id\":\"2616\"},{\"id\":\"2621\"},{\"id\":\"2782\"}],\"margin\":[0,0,0,0],\"name\":\"Row05780\",\"tags\":[\"embedded\"]},\"id\":\"2615\",\"type\":\"Row\"},{\"attributes\":{\"margin\":[5,5,5,5],\"name\":\"HSpacer05785\",\"sizing_mode\":\"stretch_width\"},\"id\":\"2782\",\"type\":\"Spacer\"},{\"attributes\":{},\"id\":\"2635\",\"type\":\"BasicTicker\"},{\"attributes\":{\"axis_label\":\"\",\"bounds\":\"auto\",\"formatter\":{\"id\":\"2653\"},\"major_label_orientation\":\"horizontal\",\"ticker\":{\"id\":\"2635\"}},\"id\":\"2634\",\"type\":\"LinearAxis\"},{\"attributes\":{\"margin\":[5,5,5,5],\"name\":\"HSpacer05784\",\"sizing_mode\":\"stretch_width\"},\"id\":\"2616\",\"type\":\"Spacer\"}],\"root_ids\":[\"2615\"]},\"title\":\"Bokeh Application\",\"version\":\"2.2.3\"}};\n",
       "    var render_items = [{\"docid\":\"4a608f25-6d20-4916-9406-25046a826ea6\",\"root_ids\":[\"2615\"],\"roots\":{\"2615\":\"526d92ad-911b-4779-9e61-b7d1f5182d8c\"}}];\n",
       "    root.Bokeh.embed.embed_items_notebook(docs_json, render_items);\n",
       "  }\n",
       "  if (root.Bokeh !== undefined && root.Bokeh.Panel !== undefined) {\n",
       "    embed_document(root);\n",
       "  } else {\n",
       "    var attempts = 0;\n",
       "    var timer = setInterval(function(root) {\n",
       "      if (root.Bokeh !== undefined && root.Bokeh.Panel !== undefined) {\n",
       "        clearInterval(timer);\n",
       "        embed_document(root);\n",
       "      } else if (document.readyState == \"complete\") {\n",
       "        attempts++;\n",
       "        if (attempts > 100) {\n",
       "          clearInterval(timer);\n",
       "          console.log(\"Bokeh: ERROR: Unable to run BokehJS code because BokehJS library is missing\");\n",
       "        }\n",
       "      }\n",
       "    }, 10, root)\n",
       "  }\n",
       "})(window);</script>"
      ],
      "text/plain": [
       ":NdOverlay   [Variable]\n",
       "   :Curve   [index]   (value)"
      ]
     },
     "execution_count": 447,
     "metadata": {
      "application/vnd.holoviews_exec.v0+json": {
       "id": "2615"
      }
     },
     "output_type": "execute_result"
    }
   ],
   "source": [
    "score_loss_lr_1fvs2f(score_dense_lr_1f_df, score_dense_lr_2f_df)"
   ]
  },
  {
   "cell_type": "code",
   "execution_count": 448,
   "metadata": {},
   "outputs": [
    {
     "data": {
      "application/vnd.holoviews_exec.v0+json": "",
      "text/html": [
       "<div id='2834'>\n",
       "\n",
       "\n",
       "\n",
       "\n",
       "\n",
       "  <div class=\"bk-root\" id=\"bc0e626f-9017-44a4-8688-976dcc930983\" data-root-id=\"2834\"></div>\n",
       "</div>\n",
       "<script type=\"application/javascript\">(function(root) {\n",
       "  function embed_document(root) {\n",
       "    var docs_json = {\"ed93096f-4b00-4473-9cfe-6033b1d54599\":{\"roots\":{\"references\":[{\"attributes\":{\"click_policy\":\"mute\",\"items\":[{\"id\":\"2891\"},{\"id\":\"2910\"}],\"location\":[0,0],\"title\":\"Variable\"},\"id\":\"2890\",\"type\":\"Legend\"},{\"attributes\":{\"data\":{\"Variable\":[\"mae_2f\",\"mae_2f\",\"mae_2f\",\"mae_2f\",\"mae_2f\",\"mae_2f\",\"mae_2f\",\"mae_2f\",\"mae_2f\",\"mae_2f\",\"mae_2f\",\"mae_2f\",\"mae_2f\",\"mae_2f\",\"mae_2f\",\"mae_2f\",\"mae_2f\",\"mae_2f\",\"mae_2f\",\"mae_2f\",\"mae_2f\",\"mae_2f\",\"mae_2f\"],\"index\":[1,2,3,4,5,6,7,8,9,10,11,12,13,14,15,16,17,18,19,20,21,22,23],\"value\":{\"__ndarray__\":\"AAAAYFVmxj8AAACg2FTBPwAAAECRZrw/AAAAoOqvuT8AAACAK9O0PwAAACC5t7Q/AAAAQA/Xsz8AAACgenaxPwAAAKBOZ7E/AAAAgDfpsD8AAADAgSKxPwAAAMC5ga8/AAAAYDtKsD8AAAAA/vuvPwAAAEA2Ba4/AAAAYGzNqz8AAACAOT2vPwAAAOCO/ao/AAAAYKdIrD8AAACgIpmpPwAAAEB9y6w/AAAAgCkyqj8AAAAgmISqPw==\",\"dtype\":\"float64\",\"order\":\"little\",\"shape\":[23]}},\"selected\":{\"id\":\"2893\"},\"selection_policy\":{\"id\":\"2907\"}},\"id\":\"2892\",\"type\":\"ColumnDataSource\"},{\"attributes\":{\"axis\":{\"id\":\"2853\"},\"dimension\":1,\"grid_line_color\":null,\"ticker\":null},\"id\":\"2856\",\"type\":\"Grid\"},{\"attributes\":{\"source\":{\"id\":\"2892\"}},\"id\":\"2899\",\"type\":\"CDSView\"},{\"attributes\":{\"line_alpha\":0.2,\"line_color\":\"#ff7e0e\",\"line_width\":2,\"x\":{\"field\":\"index\"},\"y\":{\"field\":\"value\"}},\"id\":\"2897\",\"type\":\"Line\"},{\"attributes\":{\"axis\":{\"id\":\"2849\"},\"grid_line_color\":null,\"ticker\":null},\"id\":\"2852\",\"type\":\"Grid\"},{\"attributes\":{\"children\":[{\"id\":\"2835\"},{\"id\":\"2840\"},{\"id\":\"3001\"}],\"margin\":[0,0,0,0],\"name\":\"Row06226\",\"tags\":[\"embedded\"]},\"id\":\"2834\",\"type\":\"Row\"},{\"attributes\":{\"line_color\":\"#1f77b3\",\"line_width\":2,\"x\":{\"field\":\"index\"},\"y\":{\"field\":\"value\"}},\"id\":\"2877\",\"type\":\"Line\"},{\"attributes\":{\"active_drag\":\"auto\",\"active_inspect\":\"auto\",\"active_multi\":null,\"active_scroll\":\"auto\",\"active_tap\":\"auto\",\"tools\":[{\"id\":\"2838\"},{\"id\":\"2857\"},{\"id\":\"2858\"},{\"id\":\"2859\"},{\"id\":\"2860\"},{\"id\":\"2861\"}]},\"id\":\"2863\",\"type\":\"Toolbar\"},{\"attributes\":{},\"id\":\"2854\",\"type\":\"BasicTicker\"},{\"attributes\":{\"axis_label\":\"\",\"bounds\":\"auto\",\"formatter\":{\"id\":\"2872\"},\"major_label_orientation\":\"horizontal\",\"ticker\":{\"id\":\"2854\"}},\"id\":\"2853\",\"type\":\"LinearAxis\"},{\"attributes\":{\"margin\":[5,5,5,5],\"name\":\"HSpacer06230\",\"sizing_mode\":\"stretch_width\"},\"id\":\"2835\",\"type\":\"Spacer\"},{\"attributes\":{\"label\":{\"value\":\"mae_1f\"},\"renderers\":[{\"id\":\"2880\"}]},\"id\":\"2891\",\"type\":\"LegendItem\"},{\"attributes\":{\"label\":{\"value\":\"mae_2f\"},\"renderers\":[{\"id\":\"2898\"}]},\"id\":\"2910\",\"type\":\"LegendItem\"},{\"attributes\":{},\"id\":\"2875\",\"type\":\"Selection\"},{\"attributes\":{\"bottom_units\":\"screen\",\"fill_alpha\":0.5,\"fill_color\":\"lightgrey\",\"left_units\":\"screen\",\"level\":\"overlay\",\"line_alpha\":1.0,\"line_color\":\"black\",\"line_dash\":[4,4],\"line_width\":2,\"right_units\":\"screen\",\"top_units\":\"screen\"},\"id\":\"2862\",\"type\":\"BoxAnnotation\"},{\"attributes\":{\"data_source\":{\"id\":\"2874\"},\"glyph\":{\"id\":\"2877\"},\"hover_glyph\":null,\"muted_glyph\":{\"id\":\"2879\"},\"nonselection_glyph\":{\"id\":\"2878\"},\"selection_glyph\":null,\"view\":{\"id\":\"2881\"}},\"id\":\"2880\",\"type\":\"GlyphRenderer\"},{\"attributes\":{},\"id\":\"2907\",\"type\":\"UnionRenderers\"},{\"attributes\":{\"line_alpha\":0.1,\"line_color\":\"#1f77b3\",\"line_width\":2,\"x\":{\"field\":\"index\"},\"y\":{\"field\":\"value\"}},\"id\":\"2878\",\"type\":\"Line\"},{\"attributes\":{\"end\":0.2944421749562025,\"reset_end\":0.2944421749562025,\"reset_start\":0.027774116024374962,\"start\":0.027774116024374962,\"tags\":[[[\"value\",\"value\",null]]]},\"id\":\"2837\",\"type\":\"Range1d\"},{\"attributes\":{\"below\":[{\"id\":\"2849\"}],\"center\":[{\"id\":\"2852\"},{\"id\":\"2856\"}],\"left\":[{\"id\":\"2853\"}],\"margin\":[5,5,5,5],\"min_border_bottom\":10,\"min_border_left\":10,\"min_border_right\":10,\"min_border_top\":10,\"plot_height\":300,\"plot_width\":700,\"renderers\":[{\"id\":\"2880\"},{\"id\":\"2898\"}],\"right\":[{\"id\":\"2890\"}],\"sizing_mode\":\"fixed\",\"title\":{\"id\":\"2841\"},\"toolbar\":{\"id\":\"2863\"},\"x_range\":{\"id\":\"2836\"},\"x_scale\":{\"id\":\"2845\"},\"y_range\":{\"id\":\"2837\"},\"y_scale\":{\"id\":\"2847\"}},\"id\":\"2840\",\"subtype\":\"Figure\",\"type\":\"Plot\"},{\"attributes\":{\"source\":{\"id\":\"2874\"}},\"id\":\"2881\",\"type\":\"CDSView\"},{\"attributes\":{\"end\":23.0,\"reset_end\":23.0,\"reset_start\":1.0,\"start\":1.0,\"tags\":[[[\"index\",\"index\",null]]]},\"id\":\"2836\",\"type\":\"Range1d\"},{\"attributes\":{},\"id\":\"2887\",\"type\":\"UnionRenderers\"},{\"attributes\":{\"line_alpha\":0.2,\"line_color\":\"#1f77b3\",\"line_width\":2,\"x\":{\"field\":\"index\"},\"y\":{\"field\":\"value\"}},\"id\":\"2879\",\"type\":\"Line\"},{\"attributes\":{},\"id\":\"2872\",\"type\":\"BasicTickFormatter\"},{\"attributes\":{},\"id\":\"2857\",\"type\":\"SaveTool\"},{\"attributes\":{},\"id\":\"2893\",\"type\":\"Selection\"},{\"attributes\":{\"callback\":null,\"renderers\":[{\"id\":\"2880\"},{\"id\":\"2898\"}],\"tags\":[\"hv_created\"],\"tooltips\":[[\"Variable\",\"@{Variable}\"],[\"index\",\"@{index}\"],[\"value\",\"@{value}\"]]},\"id\":\"2838\",\"type\":\"HoverTool\"},{\"attributes\":{},\"id\":\"2858\",\"type\":\"PanTool\"},{\"attributes\":{},\"id\":\"2861\",\"type\":\"ResetTool\"},{\"attributes\":{},\"id\":\"2850\",\"type\":\"BasicTicker\"},{\"attributes\":{\"data\":{\"Variable\":[\"mae_1f\",\"mae_1f\",\"mae_1f\",\"mae_1f\",\"mae_1f\",\"mae_1f\",\"mae_1f\",\"mae_1f\",\"mae_1f\",\"mae_1f\",\"mae_1f\",\"mae_1f\",\"mae_1f\",\"mae_1f\",\"mae_1f\",\"mae_1f\",\"mae_1f\",\"mae_1f\",\"mae_1f\",\"mae_1f\",\"mae_1f\",\"mae_1f\",\"mae_1f\"],\"index\":[1,2,3,4,5,6,7,8,9,10,11,12,13,14,15,16,17,18,19,20,21,22,23],\"value\":{\"__ndarray__\":\"AAAAwAxs0T8AAABAyi/IPwAAAOBuksI/AAAAwK1PwD8AAACgxBa/PwAAAIBTor0/AAAAYNMuvD8AAABAthq6PwAAAODMnbg/AAAAwDdytj8AAADgQJ6zPwAAAAAP5LM/AAAAQH15sj8AAADA1P2xPwAAAMAJbLA/AAAAAMZOsD8AAADApF6vPwAAAGDEH60/AAAAAKQ0qz8AAADAJOyrPwAAAGCzjao/AAAAgFmrqj8AAAAAAAD4fw==\",\"dtype\":\"float64\",\"order\":\"little\",\"shape\":[23]}},\"selected\":{\"id\":\"2875\"},\"selection_policy\":{\"id\":\"2887\"}},\"id\":\"2874\",\"type\":\"ColumnDataSource\"},{\"attributes\":{},\"id\":\"2859\",\"type\":\"WheelZoomTool\"},{\"attributes\":{\"overlay\":{\"id\":\"2862\"}},\"id\":\"2860\",\"type\":\"BoxZoomTool\"},{\"attributes\":{},\"id\":\"2870\",\"type\":\"BasicTickFormatter\"},{\"attributes\":{\"text\":\"\",\"text_color\":{\"value\":\"black\"},\"text_font_size\":{\"value\":\"12pt\"}},\"id\":\"2841\",\"type\":\"Title\"},{\"attributes\":{\"line_color\":\"#ff7e0e\",\"line_width\":2,\"x\":{\"field\":\"index\"},\"y\":{\"field\":\"value\"}},\"id\":\"2895\",\"type\":\"Line\"},{\"attributes\":{\"data_source\":{\"id\":\"2892\"},\"glyph\":{\"id\":\"2895\"},\"hover_glyph\":null,\"muted_glyph\":{\"id\":\"2897\"},\"nonselection_glyph\":{\"id\":\"2896\"},\"selection_glyph\":null,\"view\":{\"id\":\"2899\"}},\"id\":\"2898\",\"type\":\"GlyphRenderer\"},{\"attributes\":{},\"id\":\"2845\",\"type\":\"LinearScale\"},{\"attributes\":{\"axis_label\":\"\",\"bounds\":\"auto\",\"formatter\":{\"id\":\"2870\"},\"major_label_orientation\":\"horizontal\",\"ticker\":{\"id\":\"2850\"}},\"id\":\"2849\",\"type\":\"LinearAxis\"},{\"attributes\":{\"line_alpha\":0.1,\"line_color\":\"#ff7e0e\",\"line_width\":2,\"x\":{\"field\":\"index\"},\"y\":{\"field\":\"value\"}},\"id\":\"2896\",\"type\":\"Line\"},{\"attributes\":{},\"id\":\"2847\",\"type\":\"LinearScale\"},{\"attributes\":{\"margin\":[5,5,5,5],\"name\":\"HSpacer06231\",\"sizing_mode\":\"stretch_width\"},\"id\":\"3001\",\"type\":\"Spacer\"}],\"root_ids\":[\"2834\"]},\"title\":\"Bokeh Application\",\"version\":\"2.2.3\"}};\n",
       "    var render_items = [{\"docid\":\"ed93096f-4b00-4473-9cfe-6033b1d54599\",\"root_ids\":[\"2834\"],\"roots\":{\"2834\":\"bc0e626f-9017-44a4-8688-976dcc930983\"}}];\n",
       "    root.Bokeh.embed.embed_items_notebook(docs_json, render_items);\n",
       "  }\n",
       "  if (root.Bokeh !== undefined && root.Bokeh.Panel !== undefined) {\n",
       "    embed_document(root);\n",
       "  } else {\n",
       "    var attempts = 0;\n",
       "    var timer = setInterval(function(root) {\n",
       "      if (root.Bokeh !== undefined && root.Bokeh.Panel !== undefined) {\n",
       "        clearInterval(timer);\n",
       "        embed_document(root);\n",
       "      } else if (document.readyState == \"complete\") {\n",
       "        attempts++;\n",
       "        if (attempts > 100) {\n",
       "          clearInterval(timer);\n",
       "          console.log(\"Bokeh: ERROR: Unable to run BokehJS code because BokehJS library is missing\");\n",
       "        }\n",
       "      }\n",
       "    }, 10, root)\n",
       "  }\n",
       "})(window);</script>"
      ],
      "text/plain": [
       ":NdOverlay   [Variable]\n",
       "   :Curve   [index]   (value)"
      ]
     },
     "execution_count": 448,
     "metadata": {
      "application/vnd.holoviews_exec.v0+json": {
       "id": "2834"
      }
     },
     "output_type": "execute_result"
    }
   ],
   "source": [
    "score_mae_lr_1fvs2f(score_dense_lr_1f_df, score_dense_lr_2f_df)"
   ]
  },
  {
   "cell_type": "code",
   "execution_count": 449,
   "metadata": {},
   "outputs": [
    {
     "data": {
      "application/vnd.holoviews_exec.v0+json": "",
      "text/html": [
       "<div id='3053'>\n",
       "\n",
       "\n",
       "\n",
       "\n",
       "\n",
       "  <div class=\"bk-root\" id=\"d8ddcdf5-4c1a-413a-bdfb-ac748254e3b0\" data-root-id=\"3053\"></div>\n",
       "</div>\n",
       "<script type=\"application/javascript\">(function(root) {\n",
       "  function embed_document(root) {\n",
       "    var docs_json = {\"d80a05a5-08d7-4727-b046-caaa53073ec1\":{\"roots\":{\"references\":[{\"attributes\":{},\"id\":\"3090\",\"type\":\"BasicTickFormatter\"},{\"attributes\":{},\"id\":\"3074\",\"type\":\"BasicTicker\"},{\"attributes\":{\"data_source\":{\"id\":\"3094\"},\"glyph\":{\"id\":\"3097\"},\"hover_glyph\":null,\"muted_glyph\":{\"id\":\"3099\"},\"nonselection_glyph\":{\"id\":\"3098\"},\"selection_glyph\":null,\"view\":{\"id\":\"3101\"}},\"id\":\"3100\",\"type\":\"GlyphRenderer\"},{\"attributes\":{\"axis\":{\"id\":\"3073\"},\"dimension\":1,\"grid_line_color\":null,\"ticker\":null},\"id\":\"3076\",\"type\":\"Grid\"},{\"attributes\":{\"active_drag\":\"auto\",\"active_inspect\":\"auto\",\"active_multi\":null,\"active_scroll\":\"auto\",\"active_tap\":\"auto\",\"tools\":[{\"id\":\"3057\"},{\"id\":\"3077\"},{\"id\":\"3078\"},{\"id\":\"3079\"},{\"id\":\"3080\"},{\"id\":\"3081\"}]},\"id\":\"3083\",\"type\":\"Toolbar\"},{\"attributes\":{\"label\":{\"value\":\"actual\"},\"renderers\":[{\"id\":\"3118\"}]},\"id\":\"3130\",\"type\":\"LegendItem\"},{\"attributes\":{\"axis_label\":\"\",\"bounds\":\"auto\",\"formatter\":{\"id\":\"3092\"},\"major_label_orientation\":\"horizontal\",\"ticker\":{\"id\":\"3074\"}},\"id\":\"3073\",\"type\":\"LinearAxis\"},{\"attributes\":{\"line_alpha\":0.1,\"line_color\":\"#2ba02b\",\"line_width\":2,\"x\":{\"field\":\"index\"},\"y\":{\"field\":\"value\"}},\"id\":\"3135\",\"type\":\"Line\"},{\"attributes\":{},\"id\":\"3107\",\"type\":\"UnionRenderers\"},{\"attributes\":{},\"id\":\"3127\",\"type\":\"UnionRenderers\"},{\"attributes\":{\"bottom_units\":\"screen\",\"fill_alpha\":0.5,\"fill_color\":\"lightgrey\",\"left_units\":\"screen\",\"level\":\"overlay\",\"line_alpha\":1.0,\"line_color\":\"black\",\"line_dash\":[4,4],\"line_width\":2,\"right_units\":\"screen\",\"top_units\":\"screen\"},\"id\":\"3082\",\"type\":\"BoxAnnotation\"},{\"attributes\":{\"text\":\"\",\"text_color\":{\"value\":\"black\"},\"text_font_size\":{\"value\":\"12pt\"}},\"id\":\"3061\",\"type\":\"Title\"},{\"attributes\":{},\"id\":\"3148\",\"type\":\"UnionRenderers\"},{\"attributes\":{\"label\":{\"value\":\"predict_1feature\"},\"renderers\":[{\"id\":\"3100\"}]},\"id\":\"3111\",\"type\":\"LegendItem\"},{\"attributes\":{\"end\":1.033986669778824,\"reset_end\":1.033986669778824,\"reset_start\":0.6261466324329376,\"start\":0.6261466324329376,\"tags\":[[[\"value\",\"value\",null]]]},\"id\":\"3056\",\"type\":\"Range1d\"},{\"attributes\":{\"click_policy\":\"mute\",\"items\":[{\"id\":\"3111\"},{\"id\":\"3130\"},{\"id\":\"3151\"}],\"location\":[0,0],\"title\":\"Variable\"},\"id\":\"3110\",\"type\":\"Legend\"},{\"attributes\":{\"data_source\":{\"id\":\"3112\"},\"glyph\":{\"id\":\"3115\"},\"hover_glyph\":null,\"muted_glyph\":{\"id\":\"3117\"},\"nonselection_glyph\":{\"id\":\"3116\"},\"selection_glyph\":null,\"view\":{\"id\":\"3119\"}},\"id\":\"3118\",\"type\":\"GlyphRenderer\"},{\"attributes\":{},\"id\":\"3095\",\"type\":\"Selection\"},{\"attributes\":{\"label\":{\"value\":\"predict_2features\"},\"renderers\":[{\"id\":\"3137\"}]},\"id\":\"3151\",\"type\":\"LegendItem\"},{\"attributes\":{\"below\":[{\"id\":\"3069\"}],\"center\":[{\"id\":\"3072\"},{\"id\":\"3076\"}],\"left\":[{\"id\":\"3073\"}],\"margin\":[5,5,5,5],\"min_border_bottom\":10,\"min_border_left\":10,\"min_border_right\":10,\"min_border_top\":10,\"plot_height\":300,\"plot_width\":700,\"renderers\":[{\"id\":\"3100\"},{\"id\":\"3118\"},{\"id\":\"3137\"}],\"right\":[{\"id\":\"3110\"}],\"sizing_mode\":\"fixed\",\"title\":{\"id\":\"3061\"},\"toolbar\":{\"id\":\"3083\"},\"x_range\":{\"id\":\"3055\"},\"x_scale\":{\"id\":\"3065\"},\"y_range\":{\"id\":\"3056\"},\"y_scale\":{\"id\":\"3067\"}},\"id\":\"3060\",\"subtype\":\"Figure\",\"type\":\"Plot\"},{\"attributes\":{},\"id\":\"3077\",\"type\":\"SaveTool\"},{\"attributes\":{\"data_source\":{\"id\":\"3131\"},\"glyph\":{\"id\":\"3134\"},\"hover_glyph\":null,\"muted_glyph\":{\"id\":\"3136\"},\"nonselection_glyph\":{\"id\":\"3135\"},\"selection_glyph\":null,\"view\":{\"id\":\"3138\"}},\"id\":\"3137\",\"type\":\"GlyphRenderer\"},{\"attributes\":{\"margin\":[5,5,5,5],\"name\":\"HSpacer06701\",\"sizing_mode\":\"stretch_width\"},\"id\":\"3260\",\"type\":\"Spacer\"},{\"attributes\":{},\"id\":\"3078\",\"type\":\"PanTool\"},{\"attributes\":{\"line_alpha\":0.2,\"line_color\":\"#1f77b3\",\"line_width\":2,\"x\":{\"field\":\"index\"},\"y\":{\"field\":\"value\"}},\"id\":\"3099\",\"type\":\"Line\"},{\"attributes\":{\"line_alpha\":0.2,\"line_color\":\"#ff7e0e\",\"line_width\":2,\"x\":{\"field\":\"index\"},\"y\":{\"field\":\"value\"}},\"id\":\"3117\",\"type\":\"Line\"},{\"attributes\":{\"data\":{\"Variable\":[\"actual\",\"actual\",\"actual\",\"actual\",\"actual\",\"actual\",\"actual\",\"actual\",\"actual\",\"actual\",\"actual\",\"actual\",\"actual\",\"actual\",\"actual\",\"actual\",\"actual\",\"actual\",\"actual\",\"actual\",\"actual\",\"actual\",\"actual\",\"actual\",\"actual\",\"actual\",\"actual\",\"actual\",\"actual\",\"actual\",\"actual\",\"actual\",\"actual\",\"actual\",\"actual\",\"actual\",\"actual\",\"actual\",\"actual\",\"actual\",\"actual\",\"actual\",\"actual\",\"actual\",\"actual\",\"actual\",\"actual\",\"actual\",\"actual\",\"actual\",\"actual\",\"actual\",\"actual\",\"actual\",\"actual\",\"actual\",\"actual\",\"actual\",\"actual\",\"actual\",\"actual\",\"actual\",\"actual\",\"actual\",\"actual\",\"actual\",\"actual\",\"actual\",\"actual\",\"actual\",\"actual\",\"actual\",\"actual\",\"actual\",\"actual\",\"actual\",\"actual\",\"actual\",\"actual\",\"actual\",\"actual\",\"actual\",\"actual\",\"actual\",\"actual\",\"actual\",\"actual\",\"actual\",\"actual\",\"actual\",\"actual\",\"actual\",\"actual\",\"actual\",\"actual\",\"actual\",\"actual\",\"actual\",\"actual\",\"actual\",\"actual\",\"actual\",\"actual\",\"actual\",\"actual\",\"actual\",\"actual\",\"actual\",\"actual\",\"actual\",\"actual\",\"actual\",\"actual\",\"actual\",\"actual\",\"actual\",\"actual\",\"actual\",\"actual\",\"actual\",\"actual\",\"actual\",\"actual\",\"actual\",\"actual\",\"actual\",\"actual\",\"actual\",\"actual\",\"actual\",\"actual\",\"actual\",\"actual\",\"actual\",\"actual\",\"actual\",\"actual\",\"actual\",\"actual\",\"actual\",\"actual\",\"actual\",\"actual\",\"actual\",\"actual\",\"actual\",\"actual\"],\"index\":[0,1,2,3,4,5,6,7,8,9,10,11,12,13,14,15,16,17,18,19,20,21,22,23,24,25,26,27,28,29,30,31,32,33,34,35,36,37,38,39,40,41,42,43,44,45,46,47,48,49,50,51,52,53,54,55,56,57,58,59,60,61,62,63,64,65,66,67,68,69,70,71,72,73,74,75,76,77,78,79,80,81,82,83,84,85,86,87,88,89,90,91,92,93,94,95,96,97,98,99,100,101,102,103,104,105,106,107,108,109,110,111,112,113,114,115,116,117,118,119,120,121,122,123,124,125,126,127,128,129,130,131,132,133,134,135,136,137,138,139,140,141,142,143,144,145,146],\"value\":{\"__ndarray__\":\"QzLu9oP05z/LEcLHX/XnP2pvEL+noec/M0YQazSV5z8BMdzEd9nnP++eag1YNeg/hFZQvMxE6D/knpXwVN3nP3PE3gStoOg/aKqLJs8w6j+LTD+CdHToP3m1Wh8nvOg/QK+qXvDk6D8apDEskqnpP7JHIEpTwOk/SAR5pPXj6T/gxUSqxRvqPxoDEazveOo/IE75mplP6z+6Hh6j8sPrP+q1gVxJhOw/nhN6jZfg7D8gLwgukSPtPyAvCC6RI+0/IC8ILpEj7T8gLwgukSPtP6zw/hZeA+0/6Hnybyjq6z+6S1SNiiHsP65zQq/xEuw/3kznaI006z80o5z9oabsP1I6Y93vsew/LgO75fUo6z+aQe/fJfHqP/AVdWGgXus/Tnck0gkE6z8GwSVypGfrPwDVHANYYOs/Dp2WdnF/7T+w15TafPbsPwphB4pQ5ew/gNG5Nkl37T/6nOw8a8/sPyKt2Br3Huw/HGLwK01I6z+slpJCLkjsPwI0/IK1L+w/BiAF8gE37D/0vmKfXHHsP3CzMhU0puw/FP2Je8hZ7D+eOz3MASrtP2jv7ORR6Ow/aO/s5FHo7D9o7+zkUejsP2jv7ORR6Ow/RI96ifEF7T9AOSui2nvtPzZhW/1cRe4/aAKlDQ8u7z+8lSj3Ou3uPwEAAAAAAPA/SMsJdhKg7T8EssxvGyvrP3SayNhSmew/JGLFSFCg6z8E5HUF4ZzrP/ZgXVBKNew/cCyQVmyN6z/EuqCUajjrP3qlwrSnzOo/PsJih60q6z9as4jbLfbrP55Vu43cQes/PDqsQ+wG7D8wj9BP61XsP4AYbuK77Os/kg4yxWZ07D+CfMANR9DsP25P4Omowus/aL1DT4x27D++BbRmEbfrP4JKF3iBXuw/UhcG6rWB7D8iPmEwGmDtPyC7HZiGUO4/6Lnggn2N7j9axkAE6zvuPxDUsrdkBe4/TORIz/YE7j/eMmmnshztP94yaaeyHO0/3jJpp7Ic7T/eMmmnshztP2Irp7RvKu0/Hr72oRg07T/UZD0gdTbtP5xjAAtsc+0/jiIpVhpt7D9eHE6y5u3sP5xQSOKuLes/TqnNZ8916z+oI+cUGijrP7zJJHrwHOs/JM/pRT2h7j/yMhPhuMztPzKeKVJ0kuw/VoDLwG557T8WZk9SgVHtPwy7c16AoO0/LDnDoe+j7T98ve2IkibtP17vF8hOkOw/BHCLb9bJ7D8c7gWWQnXsP/SDreOGauw/wpuvJ2IM7T9UTiIrqQftP0yK3PrGSe0/yLTugEZx7T9Ctz3IW0/tPyoCp2D8He0//rC46iEg7T/uGdSH1GftPxIlTboyo+w/AtJD+cV87D+QWUWXDfPsPwiEVx2NGu0/vLQZZEMZ7T8Qzz8MN/HtP65ZxO0W++0/ZGc2oZDE7T/8Xx7oU4LuPzx/DQJvvu4/QDT6L8g/7j8SOAXj7+juP753Sw8szO4/zgRKGx5c7j+qpNe/vXnuP1iPJMP3te0/qkpr642+7T+khiW7qwDuP5qGUJ6oqO0/utL2S1I67T8YcDWp3HntP7S5t/Jt1ew/\",\"dtype\":\"float64\",\"order\":\"little\",\"shape\":[147]}},\"selected\":{\"id\":\"3113\"},\"selection_policy\":{\"id\":\"3127\"}},\"id\":\"3112\",\"type\":\"ColumnDataSource\"},{\"attributes\":{\"line_color\":\"#2ba02b\",\"line_width\":2,\"x\":{\"field\":\"index\"},\"y\":{\"field\":\"value\"}},\"id\":\"3134\",\"type\":\"Line\"},{\"attributes\":{\"data\":{\"Variable\":[\"predict_2features\",\"predict_2features\",\"predict_2features\",\"predict_2features\",\"predict_2features\",\"predict_2features\",\"predict_2features\",\"predict_2features\",\"predict_2features\",\"predict_2features\",\"predict_2features\",\"predict_2features\",\"predict_2features\",\"predict_2features\",\"predict_2features\",\"predict_2features\",\"predict_2features\",\"predict_2features\",\"predict_2features\",\"predict_2features\",\"predict_2features\",\"predict_2features\",\"predict_2features\",\"predict_2features\",\"predict_2features\",\"predict_2features\",\"predict_2features\",\"predict_2features\",\"predict_2features\",\"predict_2features\",\"predict_2features\",\"predict_2features\",\"predict_2features\",\"predict_2features\",\"predict_2features\",\"predict_2features\",\"predict_2features\",\"predict_2features\",\"predict_2features\",\"predict_2features\",\"predict_2features\",\"predict_2features\",\"predict_2features\",\"predict_2features\",\"predict_2features\",\"predict_2features\",\"predict_2features\",\"predict_2features\",\"predict_2features\",\"predict_2features\",\"predict_2features\",\"predict_2features\",\"predict_2features\",\"predict_2features\",\"predict_2features\",\"predict_2features\",\"predict_2features\",\"predict_2features\",\"predict_2features\",\"predict_2features\",\"predict_2features\",\"predict_2features\",\"predict_2features\",\"predict_2features\",\"predict_2features\",\"predict_2features\",\"predict_2features\",\"predict_2features\",\"predict_2features\",\"predict_2features\",\"predict_2features\",\"predict_2features\",\"predict_2features\",\"predict_2features\",\"predict_2features\",\"predict_2features\",\"predict_2features\",\"predict_2features\",\"predict_2features\",\"predict_2features\",\"predict_2features\",\"predict_2features\",\"predict_2features\",\"predict_2features\",\"predict_2features\",\"predict_2features\",\"predict_2features\",\"predict_2features\",\"predict_2features\",\"predict_2features\",\"predict_2features\",\"predict_2features\",\"predict_2features\",\"predict_2features\",\"predict_2features\",\"predict_2features\",\"predict_2features\",\"predict_2features\",\"predict_2features\",\"predict_2features\",\"predict_2features\",\"predict_2features\",\"predict_2features\",\"predict_2features\",\"predict_2features\",\"predict_2features\",\"predict_2features\",\"predict_2features\",\"predict_2features\",\"predict_2features\",\"predict_2features\",\"predict_2features\",\"predict_2features\",\"predict_2features\",\"predict_2features\",\"predict_2features\",\"predict_2features\",\"predict_2features\",\"predict_2features\",\"predict_2features\",\"predict_2features\",\"predict_2features\",\"predict_2features\",\"predict_2features\",\"predict_2features\",\"predict_2features\",\"predict_2features\",\"predict_2features\",\"predict_2features\",\"predict_2features\",\"predict_2features\",\"predict_2features\",\"predict_2features\",\"predict_2features\",\"predict_2features\",\"predict_2features\",\"predict_2features\",\"predict_2features\",\"predict_2features\",\"predict_2features\",\"predict_2features\",\"predict_2features\",\"predict_2features\",\"predict_2features\",\"predict_2features\",\"predict_2features\",\"predict_2features\"],\"index\":[0,1,2,3,4,5,6,7,8,9,10,11,12,13,14,15,16,17,18,19,20,21,22,23,24,25,26,27,28,29,30,31,32,33,34,35,36,37,38,39,40,41,42,43,44,45,46,47,48,49,50,51,52,53,54,55,56,57,58,59,60,61,62,63,64,65,66,67,68,69,70,71,72,73,74,75,76,77,78,79,80,81,82,83,84,85,86,87,88,89,90,91,92,93,94,95,96,97,98,99,100,101,102,103,104,105,106,107,108,109,110,111,112,113,114,115,116,117,118,119,120,121,122,123,124,125,126,127,128,129,130,131,132,133,134,135,136,137,138,139,140,141,142,143,144,145,146],\"value\":{\"__ndarray__\":\"mEM6PwOfST8mHz4/3203P2YLNj8knDY/vQY3P1BWNz9GXjc/zTNGP/ZoTD+g3k0/IlpOP7riPz+KnE8/dW0/P7QpTD+KOkQ/7H1MP/0nWD9sjFY/XsBZPw24TD92R2k/DbhMP3ZHaT/Jtl0/SupPP5sXUj8a3lk/7rFWP4CJVj9C/lw/RAJjP7FOVj8yIlQ/OMdgP/KSYj/IuVc/BKxeP9R4Xj+4S2I/IVVgP2BbYD8+pWE/CnxnP2grWz/6A14/n/1dPz8CYz/YVVo/CpVaP3eKXj9Oj2U/+G5zP06PZT/4bnM/cdlnP/42az/aVVs/0FNXP1PHZD8s0Wo/hJZyPzwbZD/gtmY/UNdpP9uEZj/64Gk/rcBlPyw0YT+jmGA/mEdmP4z1ZD+GoWE/1BhdP5R1Yj9eSmQ/7RZiP2bLVz9z1Us/BehlP6ZCYj+UIl4/jGNcP+ENXj8oNVw/IC5YP3/jXj9colc/Bt5aP7cYXD8sr2A/txhcPyyvYD+kw2M/fGlsPwTVXD8c8Gc/iHtfP4z3YT/sN2k/MJhmPzkJYT/nLGk/XZZePwgXYz/NWmQ/Jl5nP+QDaT9QzWE/yK1nP7QxZj+UlGI/tOZiP6rCZD8Rp10/FqZdP4lkcD+5ZV4/YktqP6bJaj/EP2w/6otpP2ndZz+WbGY/B4BnPxAaaj+7CW4/NqVuP8hxYz8benE/tJVsP5h7aD9Yi2s/KqVjPyB6bD/ukGU/GLhoP5oPZz+7om0/4HVtP7Jsaz9We24/IWtqPw63bz/xdWY/\",\"dtype\":\"float32\",\"order\":\"little\",\"shape\":[147]}},\"selected\":{\"id\":\"3132\"},\"selection_policy\":{\"id\":\"3148\"}},\"id\":\"3131\",\"type\":\"ColumnDataSource\"},{\"attributes\":{},\"id\":\"3079\",\"type\":\"WheelZoomTool\"},{\"attributes\":{},\"id\":\"3081\",\"type\":\"ResetTool\"},{\"attributes\":{\"line_alpha\":0.1,\"line_color\":\"#1f77b3\",\"line_width\":2,\"x\":{\"field\":\"index\"},\"y\":{\"field\":\"value\"}},\"id\":\"3098\",\"type\":\"Line\"},{\"attributes\":{},\"id\":\"3092\",\"type\":\"BasicTickFormatter\"},{\"attributes\":{\"overlay\":{\"id\":\"3082\"}},\"id\":\"3080\",\"type\":\"BoxZoomTool\"},{\"attributes\":{\"children\":[{\"id\":\"3054\"},{\"id\":\"3060\"},{\"id\":\"3260\"}],\"margin\":[0,0,0,0],\"name\":\"Row06696\",\"tags\":[\"embedded\"]},\"id\":\"3053\",\"type\":\"Row\"},{\"attributes\":{\"line_alpha\":0.1,\"line_color\":\"#ff7e0e\",\"line_width\":2,\"x\":{\"field\":\"index\"},\"y\":{\"field\":\"value\"}},\"id\":\"3116\",\"type\":\"Line\"},{\"attributes\":{\"line_color\":\"#ff7e0e\",\"line_width\":2,\"x\":{\"field\":\"index\"},\"y\":{\"field\":\"value\"}},\"id\":\"3115\",\"type\":\"Line\"},{\"attributes\":{\"callback\":null,\"renderers\":[{\"id\":\"3100\"},{\"id\":\"3118\"},{\"id\":\"3137\"}],\"tags\":[\"hv_created\"],\"tooltips\":[[\"Variable\",\"@{Variable}\"],[\"index\",\"@{index}\"],[\"value\",\"@{value}\"]]},\"id\":\"3057\",\"type\":\"HoverTool\"},{\"attributes\":{},\"id\":\"3065\",\"type\":\"LinearScale\"},{\"attributes\":{\"margin\":[5,5,5,5],\"name\":\"HSpacer06700\",\"sizing_mode\":\"stretch_width\"},\"id\":\"3054\",\"type\":\"Spacer\"},{\"attributes\":{\"source\":{\"id\":\"3131\"}},\"id\":\"3138\",\"type\":\"CDSView\"},{\"attributes\":{\"line_color\":\"#1f77b3\",\"line_width\":2,\"x\":{\"field\":\"index\"},\"y\":{\"field\":\"value\"}},\"id\":\"3097\",\"type\":\"Line\"},{\"attributes\":{\"source\":{\"id\":\"3112\"}},\"id\":\"3119\",\"type\":\"CDSView\"},{\"attributes\":{\"axis_label\":\"\",\"bounds\":\"auto\",\"formatter\":{\"id\":\"3090\"},\"major_label_orientation\":\"horizontal\",\"ticker\":{\"id\":\"3070\"}},\"id\":\"3069\",\"type\":\"LinearAxis\"},{\"attributes\":{},\"id\":\"3132\",\"type\":\"Selection\"},{\"attributes\":{\"end\":146.0,\"reset_end\":146.0,\"reset_start\":0.0,\"tags\":[[[\"index\",\"index\",null]]]},\"id\":\"3055\",\"type\":\"Range1d\"},{\"attributes\":{},\"id\":\"3067\",\"type\":\"LinearScale\"},{\"attributes\":{\"source\":{\"id\":\"3094\"}},\"id\":\"3101\",\"type\":\"CDSView\"},{\"attributes\":{},\"id\":\"3070\",\"type\":\"BasicTicker\"},{\"attributes\":{},\"id\":\"3113\",\"type\":\"Selection\"},{\"attributes\":{\"data\":{\"Variable\":[\"predict_1feature\",\"predict_1feature\",\"predict_1feature\",\"predict_1feature\",\"predict_1feature\",\"predict_1feature\",\"predict_1feature\",\"predict_1feature\",\"predict_1feature\",\"predict_1feature\",\"predict_1feature\",\"predict_1feature\",\"predict_1feature\",\"predict_1feature\",\"predict_1feature\",\"predict_1feature\",\"predict_1feature\",\"predict_1feature\",\"predict_1feature\",\"predict_1feature\",\"predict_1feature\",\"predict_1feature\",\"predict_1feature\",\"predict_1feature\",\"predict_1feature\",\"predict_1feature\",\"predict_1feature\",\"predict_1feature\",\"predict_1feature\",\"predict_1feature\",\"predict_1feature\",\"predict_1feature\",\"predict_1feature\",\"predict_1feature\",\"predict_1feature\",\"predict_1feature\",\"predict_1feature\",\"predict_1feature\",\"predict_1feature\",\"predict_1feature\",\"predict_1feature\",\"predict_1feature\",\"predict_1feature\",\"predict_1feature\",\"predict_1feature\",\"predict_1feature\",\"predict_1feature\",\"predict_1feature\",\"predict_1feature\",\"predict_1feature\",\"predict_1feature\",\"predict_1feature\",\"predict_1feature\",\"predict_1feature\",\"predict_1feature\",\"predict_1feature\",\"predict_1feature\",\"predict_1feature\",\"predict_1feature\",\"predict_1feature\",\"predict_1feature\",\"predict_1feature\",\"predict_1feature\",\"predict_1feature\",\"predict_1feature\",\"predict_1feature\",\"predict_1feature\",\"predict_1feature\",\"predict_1feature\",\"predict_1feature\",\"predict_1feature\",\"predict_1feature\",\"predict_1feature\",\"predict_1feature\",\"predict_1feature\",\"predict_1feature\",\"predict_1feature\",\"predict_1feature\",\"predict_1feature\",\"predict_1feature\",\"predict_1feature\",\"predict_1feature\",\"predict_1feature\",\"predict_1feature\",\"predict_1feature\",\"predict_1feature\",\"predict_1feature\",\"predict_1feature\",\"predict_1feature\",\"predict_1feature\",\"predict_1feature\",\"predict_1feature\",\"predict_1feature\",\"predict_1feature\",\"predict_1feature\",\"predict_1feature\",\"predict_1feature\",\"predict_1feature\",\"predict_1feature\",\"predict_1feature\",\"predict_1feature\",\"predict_1feature\",\"predict_1feature\",\"predict_1feature\",\"predict_1feature\",\"predict_1feature\",\"predict_1feature\",\"predict_1feature\",\"predict_1feature\",\"predict_1feature\",\"predict_1feature\",\"predict_1feature\",\"predict_1feature\",\"predict_1feature\",\"predict_1feature\",\"predict_1feature\",\"predict_1feature\",\"predict_1feature\",\"predict_1feature\",\"predict_1feature\",\"predict_1feature\",\"predict_1feature\",\"predict_1feature\",\"predict_1feature\",\"predict_1feature\",\"predict_1feature\",\"predict_1feature\",\"predict_1feature\",\"predict_1feature\",\"predict_1feature\",\"predict_1feature\",\"predict_1feature\",\"predict_1feature\",\"predict_1feature\",\"predict_1feature\",\"predict_1feature\",\"predict_1feature\",\"predict_1feature\",\"predict_1feature\",\"predict_1feature\",\"predict_1feature\",\"predict_1feature\",\"predict_1feature\",\"predict_1feature\",\"predict_1feature\",\"predict_1feature\",\"predict_1feature\"],\"index\":[0,1,2,3,4,5,6,7,8,9,10,11,12,13,14,15,16,17,18,19,20,21,22,23,24,25,26,27,28,29,30,31,32,33,34,35,36,37,38,39,40,41,42,43,44,45,46,47,48,49,50,51,52,53,54,55,56,57,58,59,60,61,62,63,64,65,66,67,68,69,70,71,72,73,74,75,76,77,78,79,80,81,82,83,84,85,86,87,88,89,90,91,92,93,94,95,96,97,98,99,100,101,102,103,104,105,106,107,108,109,110,111,112,113,114,115,116,117,118,119,120,121,122,123,124,125,126,127,128,129,130,131,132,133,134,135,136,137,138,139,140,141,142,143,144,145,146],\"value\":{\"__ndarray__\":\"f/4oP5+ZKT8ADSo/dggrP394Kz8I5Cs/QjMsP25uLD9YdCw/JwMtP+S8LT/wEi4/ynMuPx29Lj/rLS8/qkAwP+J5ND//GDU/LOI1P2DINz+Q8zg/JBw7PwZBPD8GQTw/kHdMP5B3TD8nIz0/w4A+P6J0Pz/ibEA/XaJBP5z2QT9qM0M/S7JDP4fvQz+d+0M/V1xEPwSGRD85jUQ/CnVEP0jARD8CAkU/bgNFP4IcRT/yDEU/xRxFP6/bRD+i60Q/4ylFP1N3RT9cZ0U/eopFPxBwRT/GCUY/xglGP9K+UD/SvlA/hqBGP1kfRz+k3Ec/d7hIP9UOSz8dMEw/Nh5NP0tATT8790w/NFxNP7btTD+Jv0w/iq1MP2pZTD+5Akw/W01LP9fHSj9Yqkk/MsNIP2HRRz/A2EY/gPJFP9YXRT9zI0Q/a5RDP+xjQz/bjUM/PHxDP8O/Qz8oV0Q/YCZFPzHaRT/ep0Y/rH5HP6J1SD+idUg/q9FKP6vRSj/YCkk/MmdJP8gdSj/Ds0o/9yBLP+gnSz/2dEs/EhNLP0WrSj/3fEo/3GtKPyhzSz+rS0s/w7NKP395Sj+aQ0o/fyVKPwNOSj/cTEo/yhtKPz/7ST8Zr0k/U65JP3W3ST93RUo/pWdLP04aTD/vkUw/NgVMP5aNSz9db0s/YXRLP64oSz9iDEs/QORKP7S6Sj9s90o/G2RLPzqvSz+JTEw/Ev9MP2nOTT/MSk4/EsxOP24STz/Ta08/W5lPP1zKTz8QM1A/6IxQP0OiUD8msFA/\",\"dtype\":\"float32\",\"order\":\"little\",\"shape\":[147]}},\"selected\":{\"id\":\"3095\"},\"selection_policy\":{\"id\":\"3107\"}},\"id\":\"3094\",\"type\":\"ColumnDataSource\"},{\"attributes\":{\"axis\":{\"id\":\"3069\"},\"grid_line_color\":null,\"ticker\":null},\"id\":\"3072\",\"type\":\"Grid\"},{\"attributes\":{\"line_alpha\":0.2,\"line_color\":\"#2ba02b\",\"line_width\":2,\"x\":{\"field\":\"index\"},\"y\":{\"field\":\"value\"}},\"id\":\"3136\",\"type\":\"Line\"}],\"root_ids\":[\"3053\"]},\"title\":\"Bokeh Application\",\"version\":\"2.2.3\"}};\n",
       "    var render_items = [{\"docid\":\"d80a05a5-08d7-4727-b046-caaa53073ec1\",\"root_ids\":[\"3053\"],\"roots\":{\"3053\":\"d8ddcdf5-4c1a-413a-bdfb-ac748254e3b0\"}}];\n",
       "    root.Bokeh.embed.embed_items_notebook(docs_json, render_items);\n",
       "  }\n",
       "  if (root.Bokeh !== undefined && root.Bokeh.Panel !== undefined) {\n",
       "    embed_document(root);\n",
       "  } else {\n",
       "    var attempts = 0;\n",
       "    var timer = setInterval(function(root) {\n",
       "      if (root.Bokeh !== undefined && root.Bokeh.Panel !== undefined) {\n",
       "        clearInterval(timer);\n",
       "        embed_document(root);\n",
       "      } else if (document.readyState == \"complete\") {\n",
       "        attempts++;\n",
       "        if (attempts > 100) {\n",
       "          clearInterval(timer);\n",
       "          console.log(\"Bokeh: ERROR: Unable to run BokehJS code because BokehJS library is missing\");\n",
       "        }\n",
       "      }\n",
       "    }, 10, root)\n",
       "  }\n",
       "})(window);</script>"
      ],
      "text/plain": [
       ":NdOverlay   [Variable]\n",
       "   :Curve   [index]   (value)"
      ]
     },
     "execution_count": 449,
     "metadata": {
      "application/vnd.holoviews_exec.v0+json": {
       "id": "3053"
      }
     },
     "output_type": "execute_result"
    }
   ],
   "source": [
    "pred_lr_1fvs2f(pred_dense_lr_1f_df,pred_lstm_lr_2f_df)"
   ]
  },
  {
   "cell_type": "code",
   "execution_count": 450,
   "metadata": {},
   "outputs": [
    {
     "data": {
      "application/vnd.holoviews_exec.v0+json": "",
      "text/html": [
       "<div id='3322'>\n",
       "\n",
       "\n",
       "\n",
       "\n",
       "\n",
       "  <div class=\"bk-root\" id=\"7973693b-762c-4142-a7f0-0634afbbd72c\" data-root-id=\"3322\"></div>\n",
       "</div>\n",
       "<script type=\"application/javascript\">(function(root) {\n",
       "  function embed_document(root) {\n",
       "    var docs_json = {\"89b5da53-3325-48f4-91c9-7f737a31edee\":{\"roots\":{\"references\":[{\"attributes\":{},\"id\":\"3381\",\"type\":\"Selection\"},{\"attributes\":{\"active_drag\":\"auto\",\"active_inspect\":\"auto\",\"active_multi\":null,\"active_scroll\":\"auto\",\"active_tap\":\"auto\",\"tools\":[{\"id\":\"3326\"},{\"id\":\"3345\"},{\"id\":\"3346\"},{\"id\":\"3347\"},{\"id\":\"3348\"},{\"id\":\"3349\"}]},\"id\":\"3351\",\"type\":\"Toolbar\"},{\"attributes\":{\"line_alpha\":0.1,\"line_color\":\"#1f77b3\",\"line_width\":2,\"x\":{\"field\":\"index\"},\"y\":{\"field\":\"value\"}},\"id\":\"3366\",\"type\":\"Line\"},{\"attributes\":{\"line_alpha\":0.2,\"line_color\":\"#1f77b3\",\"line_width\":2,\"x\":{\"field\":\"index\"},\"y\":{\"field\":\"value\"}},\"id\":\"3367\",\"type\":\"Line\"},{\"attributes\":{\"data\":{\"Variable\":[\"loss_1f\",\"loss_1f\",\"loss_1f\",\"loss_1f\",\"loss_1f\",\"loss_1f\",\"loss_1f\",\"loss_1f\",\"loss_1f\",\"loss_1f\",\"loss_1f\",\"loss_1f\",\"loss_1f\",\"loss_1f\",\"loss_1f\",\"loss_1f\",\"loss_1f\",\"loss_1f\",\"loss_1f\",\"loss_1f\",\"loss_1f\",\"loss_1f\",\"loss_1f\",\"loss_1f\"],\"index\":[1,2,3,4,5,6,7,8,9,10,11,12,13,14,15,16,17,18,19,20,21,22,23,24],\"value\":{\"__ndarray__\":\"AAAAgJhPtz8AAADg5/+rPwAAAAC0NqI/AAAAINWinT8AAACg0XCXPwAAAKCiaY0/AAAAINfkfT8AAACgBTN4PwAAAOBMEXM/AAAAoC7Mcz8AAAAggP5yPwAAACB+InQ/AAAAIGEtcj8AAAAg0NFzPwAAAABURW0/AAAAAAnHcD8AAABgiE1yPwAAAIBpTGw/AAAAoBMNaj8AAADAucRtPwAAAOCyim0/AAAAYK7ncD8AAAAAAAD4fwAAAAAAAPh/\",\"dtype\":\"float64\",\"order\":\"little\",\"shape\":[24]}},\"selected\":{\"id\":\"3363\"},\"selection_policy\":{\"id\":\"3375\"}},\"id\":\"3362\",\"type\":\"ColumnDataSource\"},{\"attributes\":{\"below\":[{\"id\":\"3337\"}],\"center\":[{\"id\":\"3340\"},{\"id\":\"3344\"}],\"left\":[{\"id\":\"3341\"}],\"margin\":[5,5,5,5],\"min_border_bottom\":10,\"min_border_left\":10,\"min_border_right\":10,\"min_border_top\":10,\"plot_height\":300,\"plot_width\":700,\"renderers\":[{\"id\":\"3368\"},{\"id\":\"3386\"}],\"right\":[{\"id\":\"3378\"}],\"sizing_mode\":\"fixed\",\"title\":{\"id\":\"3329\"},\"toolbar\":{\"id\":\"3351\"},\"x_range\":{\"id\":\"3324\"},\"x_scale\":{\"id\":\"3333\"},\"y_range\":{\"id\":\"3325\"},\"y_scale\":{\"id\":\"3335\"}},\"id\":\"3328\",\"subtype\":\"Figure\",\"type\":\"Plot\"},{\"attributes\":{\"source\":{\"id\":\"3380\"}},\"id\":\"3387\",\"type\":\"CDSView\"},{\"attributes\":{\"line_color\":\"#1f77b3\",\"line_width\":2,\"x\":{\"field\":\"index\"},\"y\":{\"field\":\"value\"}},\"id\":\"3365\",\"type\":\"Line\"},{\"attributes\":{},\"id\":\"3345\",\"type\":\"SaveTool\"},{\"attributes\":{},\"id\":\"3363\",\"type\":\"Selection\"},{\"attributes\":{\"children\":[{\"id\":\"3323\"},{\"id\":\"3328\"},{\"id\":\"3489\"}],\"margin\":[0,0,0,0],\"name\":\"Row07275\",\"tags\":[\"embedded\"]},\"id\":\"3322\",\"type\":\"Row\"},{\"attributes\":{},\"id\":\"3346\",\"type\":\"PanTool\"},{\"attributes\":{\"data_source\":{\"id\":\"3380\"},\"glyph\":{\"id\":\"3383\"},\"hover_glyph\":null,\"muted_glyph\":{\"id\":\"3385\"},\"nonselection_glyph\":{\"id\":\"3384\"},\"selection_glyph\":null,\"view\":{\"id\":\"3387\"}},\"id\":\"3386\",\"type\":\"GlyphRenderer\"},{\"attributes\":{},\"id\":\"3349\",\"type\":\"ResetTool\"},{\"attributes\":{},\"id\":\"3347\",\"type\":\"WheelZoomTool\"},{\"attributes\":{\"margin\":[5,5,5,5],\"name\":\"HSpacer07279\",\"sizing_mode\":\"stretch_width\"},\"id\":\"3323\",\"type\":\"Spacer\"},{\"attributes\":{\"end\":0.09984610609244556,\"reset_end\":0.09984610609244556,\"reset_start\":-0.005607758485712112,\"start\":-0.005607758485712112,\"tags\":[[[\"value\",\"value\",null]]]},\"id\":\"3325\",\"type\":\"Range1d\"},{\"attributes\":{\"source\":{\"id\":\"3362\"}},\"id\":\"3369\",\"type\":\"CDSView\"},{\"attributes\":{},\"id\":\"3360\",\"type\":\"BasicTickFormatter\"},{\"attributes\":{\"end\":24.0,\"reset_end\":24.0,\"reset_start\":1.0,\"start\":1.0,\"tags\":[[[\"index\",\"index\",null]]]},\"id\":\"3324\",\"type\":\"Range1d\"},{\"attributes\":{\"data_source\":{\"id\":\"3362\"},\"glyph\":{\"id\":\"3365\"},\"hover_glyph\":null,\"muted_glyph\":{\"id\":\"3367\"},\"nonselection_glyph\":{\"id\":\"3366\"},\"selection_glyph\":null,\"view\":{\"id\":\"3369\"}},\"id\":\"3368\",\"type\":\"GlyphRenderer\"},{\"attributes\":{\"overlay\":{\"id\":\"3350\"}},\"id\":\"3348\",\"type\":\"BoxZoomTool\"},{\"attributes\":{\"label\":{\"value\":\"loss_2f\"},\"renderers\":[{\"id\":\"3386\"}]},\"id\":\"3398\",\"type\":\"LegendItem\"},{\"attributes\":{\"line_color\":\"#ff7e0e\",\"line_width\":2,\"x\":{\"field\":\"index\"},\"y\":{\"field\":\"value\"}},\"id\":\"3383\",\"type\":\"Line\"},{\"attributes\":{\"line_alpha\":0.1,\"line_color\":\"#ff7e0e\",\"line_width\":2,\"x\":{\"field\":\"index\"},\"y\":{\"field\":\"value\"}},\"id\":\"3384\",\"type\":\"Line\"},{\"attributes\":{\"bottom_units\":\"screen\",\"fill_alpha\":0.5,\"fill_color\":\"lightgrey\",\"left_units\":\"screen\",\"level\":\"overlay\",\"line_alpha\":1.0,\"line_color\":\"black\",\"line_dash\":[4,4],\"line_width\":2,\"right_units\":\"screen\",\"top_units\":\"screen\"},\"id\":\"3350\",\"type\":\"BoxAnnotation\"},{\"attributes\":{\"text\":\"\",\"text_color\":{\"value\":\"black\"},\"text_font_size\":{\"value\":\"12pt\"}},\"id\":\"3329\",\"type\":\"Title\"},{\"attributes\":{\"data\":{\"Variable\":[\"loss_2f\",\"loss_2f\",\"loss_2f\",\"loss_2f\",\"loss_2f\",\"loss_2f\",\"loss_2f\",\"loss_2f\",\"loss_2f\",\"loss_2f\",\"loss_2f\",\"loss_2f\",\"loss_2f\",\"loss_2f\",\"loss_2f\",\"loss_2f\",\"loss_2f\",\"loss_2f\",\"loss_2f\",\"loss_2f\",\"loss_2f\",\"loss_2f\",\"loss_2f\",\"loss_2f\"],\"index\":[1,2,3,4,5,6,7,8,9,10,11,12,13,14,15,16,17,18,19,20,21,22,23,24],\"value\":{\"__ndarray__\":\"AAAAYE9btD8AAAAgiuOiPwAAAMDwbaA/AAAAgO5CmD8AAABAckyPPwAAAAAtvYA/AAAAAO2SeD8AAAAAddp8PwAAAKARSnc/AAAAoJdkdT8AAAAAGHV4PwAAAID+h3U/AAAAYINCdT8AAAAgqGB0PwAAAGCb7XI/AAAAYDvlcj8AAAAgFdZyPwAAAED4Q3E/AAAAwAuLcD8AAAAgQo5wPwAAAGAAN2w/AAAAgHcXbT8AAACAH+ZvPwAAAEBXMG0/\",\"dtype\":\"float64\",\"order\":\"little\",\"shape\":[24]}},\"selected\":{\"id\":\"3381\"},\"selection_policy\":{\"id\":\"3395\"}},\"id\":\"3380\",\"type\":\"ColumnDataSource\"},{\"attributes\":{\"callback\":null,\"renderers\":[{\"id\":\"3368\"},{\"id\":\"3386\"}],\"tags\":[\"hv_created\"],\"tooltips\":[[\"Variable\",\"@{Variable}\"],[\"index\",\"@{index}\"],[\"value\",\"@{value}\"]]},\"id\":\"3326\",\"type\":\"HoverTool\"},{\"attributes\":{},\"id\":\"3375\",\"type\":\"UnionRenderers\"},{\"attributes\":{},\"id\":\"3395\",\"type\":\"UnionRenderers\"},{\"attributes\":{},\"id\":\"3333\",\"type\":\"LinearScale\"},{\"attributes\":{\"label\":{\"value\":\"loss_1f\"},\"renderers\":[{\"id\":\"3368\"}]},\"id\":\"3379\",\"type\":\"LegendItem\"},{\"attributes\":{\"axis_label\":\"\",\"bounds\":\"auto\",\"formatter\":{\"id\":\"3358\"},\"major_label_orientation\":\"horizontal\",\"ticker\":{\"id\":\"3338\"}},\"id\":\"3337\",\"type\":\"LinearAxis\"},{\"attributes\":{\"click_policy\":\"mute\",\"items\":[{\"id\":\"3379\"},{\"id\":\"3398\"}],\"location\":[0,0],\"title\":\"Variable\"},\"id\":\"3378\",\"type\":\"Legend\"},{\"attributes\":{},\"id\":\"3335\",\"type\":\"LinearScale\"},{\"attributes\":{\"line_alpha\":0.2,\"line_color\":\"#ff7e0e\",\"line_width\":2,\"x\":{\"field\":\"index\"},\"y\":{\"field\":\"value\"}},\"id\":\"3385\",\"type\":\"Line\"},{\"attributes\":{},\"id\":\"3338\",\"type\":\"BasicTicker\"},{\"attributes\":{\"axis\":{\"id\":\"3341\"},\"dimension\":1,\"grid_line_color\":null,\"ticker\":null},\"id\":\"3344\",\"type\":\"Grid\"},{\"attributes\":{\"axis\":{\"id\":\"3337\"},\"grid_line_color\":null,\"ticker\":null},\"id\":\"3340\",\"type\":\"Grid\"},{\"attributes\":{},\"id\":\"3342\",\"type\":\"BasicTicker\"},{\"attributes\":{\"axis_label\":\"\",\"bounds\":\"auto\",\"formatter\":{\"id\":\"3360\"},\"major_label_orientation\":\"horizontal\",\"ticker\":{\"id\":\"3342\"}},\"id\":\"3341\",\"type\":\"LinearAxis\"},{\"attributes\":{},\"id\":\"3358\",\"type\":\"BasicTickFormatter\"},{\"attributes\":{\"margin\":[5,5,5,5],\"name\":\"HSpacer07280\",\"sizing_mode\":\"stretch_width\"},\"id\":\"3489\",\"type\":\"Spacer\"}],\"root_ids\":[\"3322\"]},\"title\":\"Bokeh Application\",\"version\":\"2.2.3\"}};\n",
       "    var render_items = [{\"docid\":\"89b5da53-3325-48f4-91c9-7f737a31edee\",\"root_ids\":[\"3322\"],\"roots\":{\"3322\":\"7973693b-762c-4142-a7f0-0634afbbd72c\"}}];\n",
       "    root.Bokeh.embed.embed_items_notebook(docs_json, render_items);\n",
       "  }\n",
       "  if (root.Bokeh !== undefined && root.Bokeh.Panel !== undefined) {\n",
       "    embed_document(root);\n",
       "  } else {\n",
       "    var attempts = 0;\n",
       "    var timer = setInterval(function(root) {\n",
       "      if (root.Bokeh !== undefined && root.Bokeh.Panel !== undefined) {\n",
       "        clearInterval(timer);\n",
       "        embed_document(root);\n",
       "      } else if (document.readyState == \"complete\") {\n",
       "        attempts++;\n",
       "        if (attempts > 100) {\n",
       "          clearInterval(timer);\n",
       "          console.log(\"Bokeh: ERROR: Unable to run BokehJS code because BokehJS library is missing\");\n",
       "        }\n",
       "      }\n",
       "    }, 10, root)\n",
       "  }\n",
       "})(window);</script>"
      ],
      "text/plain": [
       ":NdOverlay   [Variable]\n",
       "   :Curve   [index]   (value)"
      ]
     },
     "execution_count": 450,
     "metadata": {
      "application/vnd.holoviews_exec.v0+json": {
       "id": "3322"
      }
     },
     "output_type": "execute_result"
    }
   ],
   "source": [
    "score_loss_lr_1fvs2f(score_lstm_lr_1f_df, score_lstm_lr_2f_df)"
   ]
  },
  {
   "cell_type": "code",
   "execution_count": 451,
   "metadata": {},
   "outputs": [
    {
     "data": {
      "application/vnd.holoviews_exec.v0+json": "",
      "text/html": [
       "<div id='3541'>\n",
       "\n",
       "\n",
       "\n",
       "\n",
       "\n",
       "  <div class=\"bk-root\" id=\"979f242d-e07f-467d-8b77-b2cfe2fa7ded\" data-root-id=\"3541\"></div>\n",
       "</div>\n",
       "<script type=\"application/javascript\">(function(root) {\n",
       "  function embed_document(root) {\n",
       "    var docs_json = {\"e2c187ed-ac4d-4eff-9c08-1e248d902840\":{\"roots\":{\"references\":[{\"attributes\":{},\"id\":\"3557\",\"type\":\"BasicTicker\"},{\"attributes\":{\"axis\":{\"id\":\"3560\"},\"dimension\":1,\"grid_line_color\":null,\"ticker\":null},\"id\":\"3563\",\"type\":\"Grid\"},{\"attributes\":{\"source\":{\"id\":\"3581\"}},\"id\":\"3588\",\"type\":\"CDSView\"},{\"attributes\":{\"data\":{\"Variable\":[\"mae_2f\",\"mae_2f\",\"mae_2f\",\"mae_2f\",\"mae_2f\",\"mae_2f\",\"mae_2f\",\"mae_2f\",\"mae_2f\",\"mae_2f\",\"mae_2f\",\"mae_2f\",\"mae_2f\",\"mae_2f\",\"mae_2f\",\"mae_2f\",\"mae_2f\",\"mae_2f\",\"mae_2f\",\"mae_2f\",\"mae_2f\",\"mae_2f\",\"mae_2f\",\"mae_2f\"],\"index\":[1,2,3,4,5,6,7,8,9,10,11,12,13,14,15,16,17,18,19,20,21,22,23,24],\"value\":{\"__ndarray__\":\"AAAAQNQUyz8AAACAcgrEPwAAACAOX8M/AAAA4OB+wD8AAADA5v25PwAAAAA0w7E/AAAAYG78rT8AAAAAH2KuPwAAAMCZYaw/AAAAQMNZqz8AAACAtF6tPwAAACD+u6s/AAAAQNDyqj8AAACgNjiqPwAAAKCV3ak/AAAAoPwEqT8AAABAbaWoPwAAAMB6Vag/AAAAIGklqD8AAACgj1ioPwAAAEDybqY/AAAAwEQYpz8AAADAbRenPwAAAMD1SaY/\",\"dtype\":\"float64\",\"order\":\"little\",\"shape\":[24]}},\"selected\":{\"id\":\"3600\"},\"selection_policy\":{\"id\":\"3614\"}},\"id\":\"3599\",\"type\":\"ColumnDataSource\"},{\"attributes\":{\"axis\":{\"id\":\"3556\"},\"grid_line_color\":null,\"ticker\":null},\"id\":\"3559\",\"type\":\"Grid\"},{\"attributes\":{\"line_alpha\":0.1,\"line_color\":\"#1f77b3\",\"line_width\":2,\"x\":{\"field\":\"index\"},\"y\":{\"field\":\"value\"}},\"id\":\"3585\",\"type\":\"Line\"},{\"attributes\":{\"source\":{\"id\":\"3599\"}},\"id\":\"3606\",\"type\":\"CDSView\"},{\"attributes\":{\"margin\":[5,5,5,5],\"name\":\"HSpacer07725\",\"sizing_mode\":\"stretch_width\"},\"id\":\"3542\",\"type\":\"Spacer\"},{\"attributes\":{},\"id\":\"3561\",\"type\":\"BasicTicker\"},{\"attributes\":{\"data_source\":{\"id\":\"3599\"},\"glyph\":{\"id\":\"3602\"},\"hover_glyph\":null,\"muted_glyph\":{\"id\":\"3604\"},\"nonselection_glyph\":{\"id\":\"3603\"},\"selection_glyph\":null,\"view\":{\"id\":\"3606\"}},\"id\":\"3605\",\"type\":\"GlyphRenderer\"},{\"attributes\":{\"active_drag\":\"auto\",\"active_inspect\":\"auto\",\"active_multi\":null,\"active_scroll\":\"auto\",\"active_tap\":\"auto\",\"tools\":[{\"id\":\"3545\"},{\"id\":\"3564\"},{\"id\":\"3565\"},{\"id\":\"3566\"},{\"id\":\"3567\"},{\"id\":\"3568\"}]},\"id\":\"3570\",\"type\":\"Toolbar\"},{\"attributes\":{\"axis_label\":\"\",\"bounds\":\"auto\",\"formatter\":{\"id\":\"3579\"},\"major_label_orientation\":\"horizontal\",\"ticker\":{\"id\":\"3561\"}},\"id\":\"3560\",\"type\":\"LinearAxis\"},{\"attributes\":{\"margin\":[5,5,5,5],\"name\":\"HSpacer07726\",\"sizing_mode\":\"stretch_width\"},\"id\":\"3708\",\"type\":\"Spacer\"},{\"attributes\":{},\"id\":\"3577\",\"type\":\"BasicTickFormatter\"},{\"attributes\":{\"line_alpha\":0.2,\"line_color\":\"#ff7e0e\",\"line_width\":2,\"x\":{\"field\":\"index\"},\"y\":{\"field\":\"value\"}},\"id\":\"3604\",\"type\":\"Line\"},{\"attributes\":{\"bottom_units\":\"screen\",\"fill_alpha\":0.5,\"fill_color\":\"lightgrey\",\"left_units\":\"screen\",\"level\":\"overlay\",\"line_alpha\":1.0,\"line_color\":\"black\",\"line_dash\":[4,4],\"line_width\":2,\"right_units\":\"screen\",\"top_units\":\"screen\"},\"id\":\"3569\",\"type\":\"BoxAnnotation\"},{\"attributes\":{\"end\":24.0,\"reset_end\":24.0,\"reset_start\":1.0,\"start\":1.0,\"tags\":[[[\"index\",\"index\",null]]]},\"id\":\"3543\",\"type\":\"Range1d\"},{\"attributes\":{\"data\":{\"Variable\":[\"mae_1f\",\"mae_1f\",\"mae_1f\",\"mae_1f\",\"mae_1f\",\"mae_1f\",\"mae_1f\",\"mae_1f\",\"mae_1f\",\"mae_1f\",\"mae_1f\",\"mae_1f\",\"mae_1f\",\"mae_1f\",\"mae_1f\",\"mae_1f\",\"mae_1f\",\"mae_1f\",\"mae_1f\",\"mae_1f\",\"mae_1f\",\"mae_1f\",\"mae_1f\",\"mae_1f\"],\"index\":[1,2,3,4,5,6,7,8,9,10,11,12,13,14,15,16,17,18,19,20,21,22,23,24],\"value\":{\"__ndarray__\":\"AAAAgBxOzT8AAADg71jGPwAAACCeBsQ/AAAAgIVRwj8AAABAg1PAPwAAAGBBebk/AAAAQKaPsT8AAADATHusPwAAAODVK6k/AAAAANt1qD8AAADgqTKoPwAAAGACxKg/AAAA4NR4pz8AAADgr3qnPwAAAIDwXqU/AAAAoFe8pT8AAADgkqemPwAAAIAsN6U/AAAAIJQQpD8AAABgn1OkPwAAACDqNaQ/AAAAAFLgpj8AAAAAAAD4fwAAAAAAAPh/\",\"dtype\":\"float64\",\"order\":\"little\",\"shape\":[24]}},\"selected\":{\"id\":\"3582\"},\"selection_policy\":{\"id\":\"3594\"}},\"id\":\"3581\",\"type\":\"ColumnDataSource\"},{\"attributes\":{\"line_alpha\":0.2,\"line_color\":\"#1f77b3\",\"line_width\":2,\"x\":{\"field\":\"index\"},\"y\":{\"field\":\"value\"}},\"id\":\"3586\",\"type\":\"Line\"},{\"attributes\":{\"label\":{\"value\":\"mae_2f\"},\"renderers\":[{\"id\":\"3605\"}]},\"id\":\"3617\",\"type\":\"LegendItem\"},{\"attributes\":{},\"id\":\"3600\",\"type\":\"Selection\"},{\"attributes\":{\"below\":[{\"id\":\"3556\"}],\"center\":[{\"id\":\"3559\"},{\"id\":\"3563\"}],\"left\":[{\"id\":\"3560\"}],\"margin\":[5,5,5,5],\"min_border_bottom\":10,\"min_border_left\":10,\"min_border_right\":10,\"min_border_top\":10,\"plot_height\":300,\"plot_width\":700,\"renderers\":[{\"id\":\"3587\"},{\"id\":\"3605\"}],\"right\":[{\"id\":\"3597\"}],\"sizing_mode\":\"fixed\",\"title\":{\"id\":\"3548\"},\"toolbar\":{\"id\":\"3570\"},\"x_range\":{\"id\":\"3543\"},\"x_scale\":{\"id\":\"3552\"},\"y_range\":{\"id\":\"3544\"},\"y_scale\":{\"id\":\"3554\"}},\"id\":\"3547\",\"subtype\":\"Figure\",\"type\":\"Plot\"},{\"attributes\":{},\"id\":\"3579\",\"type\":\"BasicTickFormatter\"},{\"attributes\":{},\"id\":\"3594\",\"type\":\"UnionRenderers\"},{\"attributes\":{},\"id\":\"3614\",\"type\":\"UnionRenderers\"},{\"attributes\":{},\"id\":\"3564\",\"type\":\"SaveTool\"},{\"attributes\":{\"end\":0.24792199693620204,\"reset_end\":0.24792199693620204,\"reset_start\":0.020213256403803823,\"start\":0.020213256403803823,\"tags\":[[[\"value\",\"value\",null]]]},\"id\":\"3544\",\"type\":\"Range1d\"},{\"attributes\":{\"label\":{\"value\":\"mae_1f\"},\"renderers\":[{\"id\":\"3587\"}]},\"id\":\"3598\",\"type\":\"LegendItem\"},{\"attributes\":{\"callback\":null,\"renderers\":[{\"id\":\"3587\"},{\"id\":\"3605\"}],\"tags\":[\"hv_created\"],\"tooltips\":[[\"Variable\",\"@{Variable}\"],[\"index\",\"@{index}\"],[\"value\",\"@{value}\"]]},\"id\":\"3545\",\"type\":\"HoverTool\"},{\"attributes\":{},\"id\":\"3565\",\"type\":\"PanTool\"},{\"attributes\":{},\"id\":\"3568\",\"type\":\"ResetTool\"},{\"attributes\":{\"click_policy\":\"mute\",\"items\":[{\"id\":\"3598\"},{\"id\":\"3617\"}],\"location\":[0,0],\"title\":\"Variable\"},\"id\":\"3597\",\"type\":\"Legend\"},{\"attributes\":{},\"id\":\"3566\",\"type\":\"WheelZoomTool\"},{\"attributes\":{\"overlay\":{\"id\":\"3569\"}},\"id\":\"3567\",\"type\":\"BoxZoomTool\"},{\"attributes\":{\"line_color\":\"#1f77b3\",\"line_width\":2,\"x\":{\"field\":\"index\"},\"y\":{\"field\":\"value\"}},\"id\":\"3584\",\"type\":\"Line\"},{\"attributes\":{\"data_source\":{\"id\":\"3581\"},\"glyph\":{\"id\":\"3584\"},\"hover_glyph\":null,\"muted_glyph\":{\"id\":\"3586\"},\"nonselection_glyph\":{\"id\":\"3585\"},\"selection_glyph\":null,\"view\":{\"id\":\"3588\"}},\"id\":\"3587\",\"type\":\"GlyphRenderer\"},{\"attributes\":{\"text\":\"\",\"text_color\":{\"value\":\"black\"},\"text_font_size\":{\"value\":\"12pt\"}},\"id\":\"3548\",\"type\":\"Title\"},{\"attributes\":{\"line_color\":\"#ff7e0e\",\"line_width\":2,\"x\":{\"field\":\"index\"},\"y\":{\"field\":\"value\"}},\"id\":\"3602\",\"type\":\"Line\"},{\"attributes\":{},\"id\":\"3552\",\"type\":\"LinearScale\"},{\"attributes\":{\"children\":[{\"id\":\"3542\"},{\"id\":\"3547\"},{\"id\":\"3708\"}],\"margin\":[0,0,0,0],\"name\":\"Row07721\",\"tags\":[\"embedded\"]},\"id\":\"3541\",\"type\":\"Row\"},{\"attributes\":{\"axis_label\":\"\",\"bounds\":\"auto\",\"formatter\":{\"id\":\"3577\"},\"major_label_orientation\":\"horizontal\",\"ticker\":{\"id\":\"3557\"}},\"id\":\"3556\",\"type\":\"LinearAxis\"},{\"attributes\":{\"line_alpha\":0.1,\"line_color\":\"#ff7e0e\",\"line_width\":2,\"x\":{\"field\":\"index\"},\"y\":{\"field\":\"value\"}},\"id\":\"3603\",\"type\":\"Line\"},{\"attributes\":{},\"id\":\"3554\",\"type\":\"LinearScale\"},{\"attributes\":{},\"id\":\"3582\",\"type\":\"Selection\"}],\"root_ids\":[\"3541\"]},\"title\":\"Bokeh Application\",\"version\":\"2.2.3\"}};\n",
       "    var render_items = [{\"docid\":\"e2c187ed-ac4d-4eff-9c08-1e248d902840\",\"root_ids\":[\"3541\"],\"roots\":{\"3541\":\"979f242d-e07f-467d-8b77-b2cfe2fa7ded\"}}];\n",
       "    root.Bokeh.embed.embed_items_notebook(docs_json, render_items);\n",
       "  }\n",
       "  if (root.Bokeh !== undefined && root.Bokeh.Panel !== undefined) {\n",
       "    embed_document(root);\n",
       "  } else {\n",
       "    var attempts = 0;\n",
       "    var timer = setInterval(function(root) {\n",
       "      if (root.Bokeh !== undefined && root.Bokeh.Panel !== undefined) {\n",
       "        clearInterval(timer);\n",
       "        embed_document(root);\n",
       "      } else if (document.readyState == \"complete\") {\n",
       "        attempts++;\n",
       "        if (attempts > 100) {\n",
       "          clearInterval(timer);\n",
       "          console.log(\"Bokeh: ERROR: Unable to run BokehJS code because BokehJS library is missing\");\n",
       "        }\n",
       "      }\n",
       "    }, 10, root)\n",
       "  }\n",
       "})(window);</script>"
      ],
      "text/plain": [
       ":NdOverlay   [Variable]\n",
       "   :Curve   [index]   (value)"
      ]
     },
     "execution_count": 451,
     "metadata": {
      "application/vnd.holoviews_exec.v0+json": {
       "id": "3541"
      }
     },
     "output_type": "execute_result"
    }
   ],
   "source": [
    "score_mae_lr_1fvs2f(score_lstm_lr_1f_df, score_lstm_lr_2f_df)"
   ]
  },
  {
   "cell_type": "code",
   "execution_count": 452,
   "metadata": {},
   "outputs": [
    {
     "data": {
      "application/vnd.holoviews_exec.v0+json": "",
      "text/html": [
       "<div id='3760'>\n",
       "\n",
       "\n",
       "\n",
       "\n",
       "\n",
       "  <div class=\"bk-root\" id=\"8835ecd5-05f2-4dce-b56e-37afbb95efa6\" data-root-id=\"3760\"></div>\n",
       "</div>\n",
       "<script type=\"application/javascript\">(function(root) {\n",
       "  function embed_document(root) {\n",
       "    var docs_json = {\"46b3f670-f589-4caf-9841-354442e00577\":{\"roots\":{\"references\":[{\"attributes\":{\"active_drag\":\"auto\",\"active_inspect\":\"auto\",\"active_multi\":null,\"active_scroll\":\"auto\",\"active_tap\":\"auto\",\"tools\":[{\"id\":\"3764\"},{\"id\":\"3784\"},{\"id\":\"3785\"},{\"id\":\"3786\"},{\"id\":\"3787\"},{\"id\":\"3788\"}]},\"id\":\"3790\",\"type\":\"Toolbar\"},{\"attributes\":{},\"id\":\"3797\",\"type\":\"BasicTickFormatter\"},{\"attributes\":{\"label\":{\"value\":\"predict_1feature\"},\"renderers\":[{\"id\":\"3807\"}]},\"id\":\"3818\",\"type\":\"LegendItem\"},{\"attributes\":{},\"id\":\"3781\",\"type\":\"BasicTicker\"},{\"attributes\":{},\"id\":\"3834\",\"type\":\"UnionRenderers\"},{\"attributes\":{\"axis\":{\"id\":\"3780\"},\"dimension\":1,\"grid_line_color\":null,\"ticker\":null},\"id\":\"3783\",\"type\":\"Grid\"},{\"attributes\":{\"source\":{\"id\":\"3801\"}},\"id\":\"3808\",\"type\":\"CDSView\"},{\"attributes\":{\"bottom_units\":\"screen\",\"fill_alpha\":0.5,\"fill_color\":\"lightgrey\",\"left_units\":\"screen\",\"level\":\"overlay\",\"line_alpha\":1.0,\"line_color\":\"black\",\"line_dash\":[4,4],\"line_width\":2,\"right_units\":\"screen\",\"top_units\":\"screen\"},\"id\":\"3789\",\"type\":\"BoxAnnotation\"},{\"attributes\":{\"text\":\"\",\"text_color\":{\"value\":\"black\"},\"text_font_size\":{\"value\":\"12pt\"}},\"id\":\"3768\",\"type\":\"Title\"},{\"attributes\":{\"data_source\":{\"id\":\"3801\"},\"glyph\":{\"id\":\"3804\"},\"hover_glyph\":null,\"muted_glyph\":{\"id\":\"3806\"},\"nonselection_glyph\":{\"id\":\"3805\"},\"selection_glyph\":null,\"view\":{\"id\":\"3808\"}},\"id\":\"3807\",\"type\":\"GlyphRenderer\"},{\"attributes\":{\"line_alpha\":0.2,\"line_color\":\"#2ba02b\",\"line_width\":2,\"x\":{\"field\":\"index\"},\"y\":{\"field\":\"value\"}},\"id\":\"3843\",\"type\":\"Line\"},{\"attributes\":{\"margin\":[5,5,5,5],\"name\":\"HSpacer08195\",\"sizing_mode\":\"stretch_width\"},\"id\":\"3761\",\"type\":\"Spacer\"},{\"attributes\":{\"line_alpha\":0.2,\"line_color\":\"#1f77b3\",\"line_width\":2,\"x\":{\"field\":\"index\"},\"y\":{\"field\":\"value\"}},\"id\":\"3806\",\"type\":\"Line\"},{\"attributes\":{},\"id\":\"3799\",\"type\":\"BasicTickFormatter\"},{\"attributes\":{\"below\":[{\"id\":\"3776\"}],\"center\":[{\"id\":\"3779\"},{\"id\":\"3783\"}],\"left\":[{\"id\":\"3780\"}],\"margin\":[5,5,5,5],\"min_border_bottom\":10,\"min_border_left\":10,\"min_border_right\":10,\"min_border_top\":10,\"plot_height\":300,\"plot_width\":700,\"renderers\":[{\"id\":\"3807\"},{\"id\":\"3825\"},{\"id\":\"3844\"}],\"right\":[{\"id\":\"3817\"}],\"sizing_mode\":\"fixed\",\"title\":{\"id\":\"3768\"},\"toolbar\":{\"id\":\"3790\"},\"x_range\":{\"id\":\"3762\"},\"x_scale\":{\"id\":\"3772\"},\"y_range\":{\"id\":\"3763\"},\"y_scale\":{\"id\":\"3774\"}},\"id\":\"3767\",\"subtype\":\"Figure\",\"type\":\"Plot\"},{\"attributes\":{\"click_policy\":\"mute\",\"items\":[{\"id\":\"3818\"},{\"id\":\"3837\"},{\"id\":\"3858\"}],\"location\":[0,0],\"title\":\"Variable\"},\"id\":\"3817\",\"type\":\"Legend\"},{\"attributes\":{\"line_alpha\":0.2,\"line_color\":\"#ff7e0e\",\"line_width\":2,\"x\":{\"field\":\"index\"},\"y\":{\"field\":\"value\"}},\"id\":\"3824\",\"type\":\"Line\"},{\"attributes\":{\"line_alpha\":0.1,\"line_color\":\"#2ba02b\",\"line_width\":2,\"x\":{\"field\":\"index\"},\"y\":{\"field\":\"value\"}},\"id\":\"3842\",\"type\":\"Line\"},{\"attributes\":{\"line_color\":\"#2ba02b\",\"line_width\":2,\"x\":{\"field\":\"index\"},\"y\":{\"field\":\"value\"}},\"id\":\"3841\",\"type\":\"Line\"},{\"attributes\":{},\"id\":\"3784\",\"type\":\"SaveTool\"},{\"attributes\":{},\"id\":\"3785\",\"type\":\"PanTool\"},{\"attributes\":{},\"id\":\"3814\",\"type\":\"UnionRenderers\"},{\"attributes\":{},\"id\":\"3788\",\"type\":\"ResetTool\"},{\"attributes\":{\"label\":{\"value\":\"actual\"},\"renderers\":[{\"id\":\"3825\"}]},\"id\":\"3837\",\"type\":\"LegendItem\"},{\"attributes\":{\"line_alpha\":0.1,\"line_color\":\"#ff7e0e\",\"line_width\":2,\"x\":{\"field\":\"index\"},\"y\":{\"field\":\"value\"}},\"id\":\"3823\",\"type\":\"Line\"},{\"attributes\":{\"source\":{\"id\":\"3838\"}},\"id\":\"3845\",\"type\":\"CDSView\"},{\"attributes\":{},\"id\":\"3786\",\"type\":\"WheelZoomTool\"},{\"attributes\":{\"line_color\":\"#ff7e0e\",\"line_width\":2,\"x\":{\"field\":\"index\"},\"y\":{\"field\":\"value\"}},\"id\":\"3822\",\"type\":\"Line\"},{\"attributes\":{\"margin\":[5,5,5,5],\"name\":\"HSpacer08196\",\"sizing_mode\":\"stretch_width\"},\"id\":\"3967\",\"type\":\"Spacer\"},{\"attributes\":{\"end\":146.0,\"reset_end\":146.0,\"reset_start\":0.0,\"tags\":[[[\"index\",\"index\",null]]]},\"id\":\"3762\",\"type\":\"Range1d\"},{\"attributes\":{\"data_source\":{\"id\":\"3819\"},\"glyph\":{\"id\":\"3822\"},\"hover_glyph\":null,\"muted_glyph\":{\"id\":\"3824\"},\"nonselection_glyph\":{\"id\":\"3823\"},\"selection_glyph\":null,\"view\":{\"id\":\"3826\"}},\"id\":\"3825\",\"type\":\"GlyphRenderer\"},{\"attributes\":{\"overlay\":{\"id\":\"3789\"}},\"id\":\"3787\",\"type\":\"BoxZoomTool\"},{\"attributes\":{\"end\":1.0288888573646549,\"reset_end\":1.0288888573646549,\"reset_start\":0.6822225689888001,\"start\":0.6822225689888001,\"tags\":[[[\"value\",\"value\",null]]]},\"id\":\"3763\",\"type\":\"Range1d\"},{\"attributes\":{},\"id\":\"3772\",\"type\":\"LinearScale\"},{\"attributes\":{\"source\":{\"id\":\"3819\"}},\"id\":\"3826\",\"type\":\"CDSView\"},{\"attributes\":{\"data\":{\"Variable\":[\"predict_1feature\",\"predict_1feature\",\"predict_1feature\",\"predict_1feature\",\"predict_1feature\",\"predict_1feature\",\"predict_1feature\",\"predict_1feature\",\"predict_1feature\",\"predict_1feature\",\"predict_1feature\",\"predict_1feature\",\"predict_1feature\",\"predict_1feature\",\"predict_1feature\",\"predict_1feature\",\"predict_1feature\",\"predict_1feature\",\"predict_1feature\",\"predict_1feature\",\"predict_1feature\",\"predict_1feature\",\"predict_1feature\",\"predict_1feature\",\"predict_1feature\",\"predict_1feature\",\"predict_1feature\",\"predict_1feature\",\"predict_1feature\",\"predict_1feature\",\"predict_1feature\",\"predict_1feature\",\"predict_1feature\",\"predict_1feature\",\"predict_1feature\",\"predict_1feature\",\"predict_1feature\",\"predict_1feature\",\"predict_1feature\",\"predict_1feature\",\"predict_1feature\",\"predict_1feature\",\"predict_1feature\",\"predict_1feature\",\"predict_1feature\",\"predict_1feature\",\"predict_1feature\",\"predict_1feature\",\"predict_1feature\",\"predict_1feature\",\"predict_1feature\",\"predict_1feature\",\"predict_1feature\",\"predict_1feature\",\"predict_1feature\",\"predict_1feature\",\"predict_1feature\",\"predict_1feature\",\"predict_1feature\",\"predict_1feature\",\"predict_1feature\",\"predict_1feature\",\"predict_1feature\",\"predict_1feature\",\"predict_1feature\",\"predict_1feature\",\"predict_1feature\",\"predict_1feature\",\"predict_1feature\",\"predict_1feature\",\"predict_1feature\",\"predict_1feature\",\"predict_1feature\",\"predict_1feature\",\"predict_1feature\",\"predict_1feature\",\"predict_1feature\",\"predict_1feature\",\"predict_1feature\",\"predict_1feature\",\"predict_1feature\",\"predict_1feature\",\"predict_1feature\",\"predict_1feature\",\"predict_1feature\",\"predict_1feature\",\"predict_1feature\",\"predict_1feature\",\"predict_1feature\",\"predict_1feature\",\"predict_1feature\",\"predict_1feature\",\"predict_1feature\",\"predict_1feature\",\"predict_1feature\",\"predict_1feature\",\"predict_1feature\",\"predict_1feature\",\"predict_1feature\",\"predict_1feature\",\"predict_1feature\",\"predict_1feature\",\"predict_1feature\",\"predict_1feature\",\"predict_1feature\",\"predict_1feature\",\"predict_1feature\",\"predict_1feature\",\"predict_1feature\",\"predict_1feature\",\"predict_1feature\",\"predict_1feature\",\"predict_1feature\",\"predict_1feature\",\"predict_1feature\",\"predict_1feature\",\"predict_1feature\",\"predict_1feature\",\"predict_1feature\",\"predict_1feature\",\"predict_1feature\",\"predict_1feature\",\"predict_1feature\",\"predict_1feature\",\"predict_1feature\",\"predict_1feature\",\"predict_1feature\",\"predict_1feature\",\"predict_1feature\",\"predict_1feature\",\"predict_1feature\",\"predict_1feature\",\"predict_1feature\",\"predict_1feature\",\"predict_1feature\",\"predict_1feature\",\"predict_1feature\",\"predict_1feature\",\"predict_1feature\",\"predict_1feature\",\"predict_1feature\",\"predict_1feature\",\"predict_1feature\",\"predict_1feature\",\"predict_1feature\",\"predict_1feature\",\"predict_1feature\"],\"index\":[0,1,2,3,4,5,6,7,8,9,10,11,12,13,14,15,16,17,18,19,20,21,22,23,24,25,26,27,28,29,30,31,32,33,34,35,36,37,38,39,40,41,42,43,44,45,46,47,48,49,50,51,52,53,54,55,56,57,58,59,60,61,62,63,64,65,66,67,68,69,70,71,72,73,74,75,76,77,78,79,80,81,82,83,84,85,86,87,88,89,90,91,92,93,94,95,96,97,98,99,100,101,102,103,104,105,106,107,108,109,110,111,112,113,114,115,116,117,118,119,120,121,122,123,124,125,126,127,128,129,130,131,132,133,134,135,136,137,138,139,140,141,142,143,144,145,146],\"value\":{\"__ndarray__\":\"4IBAP9hqQT/kGEI/TJRDP1w9RD+k30Q/OFdFP4ewRT90uUU/AJFGP16pRz9EK0g/er1IPyosST911kk/PHVLPzbVUT9GxVI/wvRTP/LRVj/clFg/HtVbP+KNXT/ijV0/fst1P37LdT8A4l4/fu9gP8xdYj9q0mM/lKJlP94gZj91+2c/ZLloPwYVaT8eJ2k/0bdpPyj2aT/uAGo/wtxpP0pNaj+Or2o/rLFqPyzXaj/nv2o/jtdqP0B2aj8ajmo/J+tqP+Reaz8IR2s/gntrPwtUaz+sOWw/rDlsP5wffD+cH3w/wBptPwPYbT9R8m4/4jlwPwa0cz+DYXU/kMJ2PxL1dj/MiHY/bh53P7F6dj86NnY/jBt2P8eedT8oHnU/5hB0P4pKcz/7oXE/4ElwP4jhbj+qbm0/6hZsPy/Qaj+2Ymk/qoxoPxVEaD/Zgmg/eWhoP4zNaD8QsGk/6OVqP5zyaz+2JW0/NGZuP1bWbz9W1m8/IllzPyJZcz+TtHA/Dj5xP7ZNcj+yLHM/9M5zP0bZcz+zS3Q/U7pzPxMgcz8+23I/z8FyPwhJdD9kDnQ/sixzPxTWcj/zhXI/MVlyP3CVcj+4k3I/vkpyP1gacj8PqXE/6KdxP3+1cT+5iHI/8Dd0PyhBdT+b8nU/2SF1P0hwdD9mQ3Q/2Ep0P2zacz9isHM/wnRzPwM3cz87kXM/rjJ0PzmidD+si3U/a5R2P5vHdz+4f3g/9j55PwCneT8iK3o/Z256P8y2ej9lUXs//NV7P371ez/6CXw/\",\"dtype\":\"float32\",\"order\":\"little\",\"shape\":[147]}},\"selected\":{\"id\":\"3802\"},\"selection_policy\":{\"id\":\"3814\"}},\"id\":\"3801\",\"type\":\"ColumnDataSource\"},{\"attributes\":{\"axis_label\":\"\",\"bounds\":\"auto\",\"formatter\":{\"id\":\"3797\"},\"major_label_orientation\":\"horizontal\",\"ticker\":{\"id\":\"3777\"}},\"id\":\"3776\",\"type\":\"LinearAxis\"},{\"attributes\":{\"line_color\":\"#1f77b3\",\"line_width\":2,\"x\":{\"field\":\"index\"},\"y\":{\"field\":\"value\"}},\"id\":\"3804\",\"type\":\"Line\"},{\"attributes\":{},\"id\":\"3774\",\"type\":\"LinearScale\"},{\"attributes\":{\"data\":{\"Variable\":[\"predict_2features\",\"predict_2features\",\"predict_2features\",\"predict_2features\",\"predict_2features\",\"predict_2features\",\"predict_2features\",\"predict_2features\",\"predict_2features\",\"predict_2features\",\"predict_2features\",\"predict_2features\",\"predict_2features\",\"predict_2features\",\"predict_2features\",\"predict_2features\",\"predict_2features\",\"predict_2features\",\"predict_2features\",\"predict_2features\",\"predict_2features\",\"predict_2features\",\"predict_2features\",\"predict_2features\",\"predict_2features\",\"predict_2features\",\"predict_2features\",\"predict_2features\",\"predict_2features\",\"predict_2features\",\"predict_2features\",\"predict_2features\",\"predict_2features\",\"predict_2features\",\"predict_2features\",\"predict_2features\",\"predict_2features\",\"predict_2features\",\"predict_2features\",\"predict_2features\",\"predict_2features\",\"predict_2features\",\"predict_2features\",\"predict_2features\",\"predict_2features\",\"predict_2features\",\"predict_2features\",\"predict_2features\",\"predict_2features\",\"predict_2features\",\"predict_2features\",\"predict_2features\",\"predict_2features\",\"predict_2features\",\"predict_2features\",\"predict_2features\",\"predict_2features\",\"predict_2features\",\"predict_2features\",\"predict_2features\",\"predict_2features\",\"predict_2features\",\"predict_2features\",\"predict_2features\",\"predict_2features\",\"predict_2features\",\"predict_2features\",\"predict_2features\",\"predict_2features\",\"predict_2features\",\"predict_2features\",\"predict_2features\",\"predict_2features\",\"predict_2features\",\"predict_2features\",\"predict_2features\",\"predict_2features\",\"predict_2features\",\"predict_2features\",\"predict_2features\",\"predict_2features\",\"predict_2features\",\"predict_2features\",\"predict_2features\",\"predict_2features\",\"predict_2features\",\"predict_2features\",\"predict_2features\",\"predict_2features\",\"predict_2features\",\"predict_2features\",\"predict_2features\",\"predict_2features\",\"predict_2features\",\"predict_2features\",\"predict_2features\",\"predict_2features\",\"predict_2features\",\"predict_2features\",\"predict_2features\",\"predict_2features\",\"predict_2features\",\"predict_2features\",\"predict_2features\",\"predict_2features\",\"predict_2features\",\"predict_2features\",\"predict_2features\",\"predict_2features\",\"predict_2features\",\"predict_2features\",\"predict_2features\",\"predict_2features\",\"predict_2features\",\"predict_2features\",\"predict_2features\",\"predict_2features\",\"predict_2features\",\"predict_2features\",\"predict_2features\",\"predict_2features\",\"predict_2features\",\"predict_2features\",\"predict_2features\",\"predict_2features\",\"predict_2features\",\"predict_2features\",\"predict_2features\",\"predict_2features\",\"predict_2features\",\"predict_2features\",\"predict_2features\",\"predict_2features\",\"predict_2features\",\"predict_2features\",\"predict_2features\",\"predict_2features\",\"predict_2features\",\"predict_2features\",\"predict_2features\",\"predict_2features\",\"predict_2features\",\"predict_2features\",\"predict_2features\",\"predict_2features\",\"predict_2features\",\"predict_2features\"],\"index\":[0,1,2,3,4,5,6,7,8,9,10,11,12,13,14,15,16,17,18,19,20,21,22,23,24,25,26,27,28,29,30,31,32,33,34,35,36,37,38,39,40,41,42,43,44,45,46,47,48,49,50,51,52,53,54,55,56,57,58,59,60,61,62,63,64,65,66,67,68,69,70,71,72,73,74,75,76,77,78,79,80,81,82,83,84,85,86,87,88,89,90,91,92,93,94,95,96,97,98,99,100,101,102,103,104,105,106,107,108,109,110,111,112,113,114,115,116,117,118,119,120,121,122,123,124,125,126,127,128,129,130,131,132,133,134,135,136,137,138,139,140,141,142,143,144,145,146],\"value\":{\"__ndarray__\":\"mEM6PwOfST8mHz4/3203P2YLNj8knDY/vQY3P1BWNz9GXjc/zTNGP/ZoTD+g3k0/IlpOP7riPz+KnE8/dW0/P7QpTD+KOkQ/7H1MP/0nWD9sjFY/XsBZPw24TD92R2k/DbhMP3ZHaT/Jtl0/SupPP5sXUj8a3lk/7rFWP4CJVj9C/lw/RAJjP7FOVj8yIlQ/OMdgP/KSYj/IuVc/BKxeP9R4Xj+4S2I/IVVgP2BbYD8+pWE/CnxnP2grWz/6A14/n/1dPz8CYz/YVVo/CpVaP3eKXj9Oj2U/+G5zP06PZT/4bnM/cdlnP/42az/aVVs/0FNXP1PHZD8s0Wo/hJZyPzwbZD/gtmY/UNdpP9uEZj/64Gk/rcBlPyw0YT+jmGA/mEdmP4z1ZD+GoWE/1BhdP5R1Yj9eSmQ/7RZiP2bLVz9z1Us/BehlP6ZCYj+UIl4/jGNcP+ENXj8oNVw/IC5YP3/jXj9colc/Bt5aP7cYXD8sr2A/txhcPyyvYD+kw2M/fGlsPwTVXD8c8Gc/iHtfP4z3YT/sN2k/MJhmPzkJYT/nLGk/XZZePwgXYz/NWmQ/Jl5nP+QDaT9QzWE/yK1nP7QxZj+UlGI/tOZiP6rCZD8Rp10/FqZdP4lkcD+5ZV4/YktqP6bJaj/EP2w/6otpP2ndZz+WbGY/B4BnPxAaaj+7CW4/NqVuP8hxYz8benE/tJVsP5h7aD9Yi2s/KqVjPyB6bD/ukGU/GLhoP5oPZz+7om0/4HVtP7Jsaz9We24/IWtqPw63bz/xdWY/\",\"dtype\":\"float32\",\"order\":\"little\",\"shape\":[147]}},\"selected\":{\"id\":\"3839\"},\"selection_policy\":{\"id\":\"3855\"}},\"id\":\"3838\",\"type\":\"ColumnDataSource\"},{\"attributes\":{},\"id\":\"3802\",\"type\":\"Selection\"},{\"attributes\":{\"label\":{\"value\":\"predict_2features\"},\"renderers\":[{\"id\":\"3844\"}]},\"id\":\"3858\",\"type\":\"LegendItem\"},{\"attributes\":{},\"id\":\"3820\",\"type\":\"Selection\"},{\"attributes\":{},\"id\":\"3777\",\"type\":\"BasicTicker\"},{\"attributes\":{\"data\":{\"Variable\":[\"actual\",\"actual\",\"actual\",\"actual\",\"actual\",\"actual\",\"actual\",\"actual\",\"actual\",\"actual\",\"actual\",\"actual\",\"actual\",\"actual\",\"actual\",\"actual\",\"actual\",\"actual\",\"actual\",\"actual\",\"actual\",\"actual\",\"actual\",\"actual\",\"actual\",\"actual\",\"actual\",\"actual\",\"actual\",\"actual\",\"actual\",\"actual\",\"actual\",\"actual\",\"actual\",\"actual\",\"actual\",\"actual\",\"actual\",\"actual\",\"actual\",\"actual\",\"actual\",\"actual\",\"actual\",\"actual\",\"actual\",\"actual\",\"actual\",\"actual\",\"actual\",\"actual\",\"actual\",\"actual\",\"actual\",\"actual\",\"actual\",\"actual\",\"actual\",\"actual\",\"actual\",\"actual\",\"actual\",\"actual\",\"actual\",\"actual\",\"actual\",\"actual\",\"actual\",\"actual\",\"actual\",\"actual\",\"actual\",\"actual\",\"actual\",\"actual\",\"actual\",\"actual\",\"actual\",\"actual\",\"actual\",\"actual\",\"actual\",\"actual\",\"actual\",\"actual\",\"actual\",\"actual\",\"actual\",\"actual\",\"actual\",\"actual\",\"actual\",\"actual\",\"actual\",\"actual\",\"actual\",\"actual\",\"actual\",\"actual\",\"actual\",\"actual\",\"actual\",\"actual\",\"actual\",\"actual\",\"actual\",\"actual\",\"actual\",\"actual\",\"actual\",\"actual\",\"actual\",\"actual\",\"actual\",\"actual\",\"actual\",\"actual\",\"actual\",\"actual\",\"actual\",\"actual\",\"actual\",\"actual\",\"actual\",\"actual\",\"actual\",\"actual\",\"actual\",\"actual\",\"actual\",\"actual\",\"actual\",\"actual\",\"actual\",\"actual\",\"actual\",\"actual\",\"actual\",\"actual\",\"actual\",\"actual\",\"actual\",\"actual\",\"actual\",\"actual\",\"actual\"],\"index\":[0,1,2,3,4,5,6,7,8,9,10,11,12,13,14,15,16,17,18,19,20,21,22,23,24,25,26,27,28,29,30,31,32,33,34,35,36,37,38,39,40,41,42,43,44,45,46,47,48,49,50,51,52,53,54,55,56,57,58,59,60,61,62,63,64,65,66,67,68,69,70,71,72,73,74,75,76,77,78,79,80,81,82,83,84,85,86,87,88,89,90,91,92,93,94,95,96,97,98,99,100,101,102,103,104,105,106,107,108,109,110,111,112,113,114,115,116,117,118,119,120,121,122,123,124,125,126,127,128,129,130,131,132,133,134,135,136,137,138,139,140,141,142,143,144,145,146],\"value\":{\"__ndarray__\":\"QzLu9oP05z/LEcLHX/XnP2pvEL+noec/M0YQazSV5z8BMdzEd9nnP++eag1YNeg/hFZQvMxE6D/knpXwVN3nP3PE3gStoOg/aKqLJs8w6j+LTD+CdHToP3m1Wh8nvOg/QK+qXvDk6D8apDEskqnpP7JHIEpTwOk/SAR5pPXj6T/gxUSqxRvqPxoDEazveOo/IE75mplP6z+6Hh6j8sPrP+q1gVxJhOw/nhN6jZfg7D8gLwgukSPtPyAvCC6RI+0/IC8ILpEj7T8gLwgukSPtP6zw/hZeA+0/6Hnybyjq6z+6S1SNiiHsP65zQq/xEuw/3kznaI006z80o5z9oabsP1I6Y93vsew/LgO75fUo6z+aQe/fJfHqP/AVdWGgXus/Tnck0gkE6z8GwSVypGfrPwDVHANYYOs/Dp2WdnF/7T+w15TafPbsPwphB4pQ5ew/gNG5Nkl37T/6nOw8a8/sPyKt2Br3Huw/HGLwK01I6z+slpJCLkjsPwI0/IK1L+w/BiAF8gE37D/0vmKfXHHsP3CzMhU0puw/FP2Je8hZ7D+eOz3MASrtP2jv7ORR6Ow/aO/s5FHo7D9o7+zkUejsP2jv7ORR6Ow/RI96ifEF7T9AOSui2nvtPzZhW/1cRe4/aAKlDQ8u7z+8lSj3Ou3uPwEAAAAAAPA/SMsJdhKg7T8EssxvGyvrP3SayNhSmew/JGLFSFCg6z8E5HUF4ZzrP/ZgXVBKNew/cCyQVmyN6z/EuqCUajjrP3qlwrSnzOo/PsJih60q6z9as4jbLfbrP55Vu43cQes/PDqsQ+wG7D8wj9BP61XsP4AYbuK77Os/kg4yxWZ07D+CfMANR9DsP25P4Omowus/aL1DT4x27D++BbRmEbfrP4JKF3iBXuw/UhcG6rWB7D8iPmEwGmDtPyC7HZiGUO4/6Lnggn2N7j9axkAE6zvuPxDUsrdkBe4/TORIz/YE7j/eMmmnshztP94yaaeyHO0/3jJpp7Ic7T/eMmmnshztP2Irp7RvKu0/Hr72oRg07T/UZD0gdTbtP5xjAAtsc+0/jiIpVhpt7D9eHE6y5u3sP5xQSOKuLes/TqnNZ8916z+oI+cUGijrP7zJJHrwHOs/JM/pRT2h7j/yMhPhuMztPzKeKVJ0kuw/VoDLwG557T8WZk9SgVHtPwy7c16AoO0/LDnDoe+j7T98ve2IkibtP17vF8hOkOw/BHCLb9bJ7D8c7gWWQnXsP/SDreOGauw/wpuvJ2IM7T9UTiIrqQftP0yK3PrGSe0/yLTugEZx7T9Ctz3IW0/tPyoCp2D8He0//rC46iEg7T/uGdSH1GftPxIlTboyo+w/AtJD+cV87D+QWUWXDfPsPwiEVx2NGu0/vLQZZEMZ7T8Qzz8MN/HtP65ZxO0W++0/ZGc2oZDE7T/8Xx7oU4LuPzx/DQJvvu4/QDT6L8g/7j8SOAXj7+juP753Sw8szO4/zgRKGx5c7j+qpNe/vXnuP1iPJMP3te0/qkpr642+7T+khiW7qwDuP5qGUJ6oqO0/utL2S1I67T8YcDWp3HntP7S5t/Jt1ew/\",\"dtype\":\"float64\",\"order\":\"little\",\"shape\":[147]}},\"selected\":{\"id\":\"3820\"},\"selection_policy\":{\"id\":\"3834\"}},\"id\":\"3819\",\"type\":\"ColumnDataSource\"},{\"attributes\":{},\"id\":\"3855\",\"type\":\"UnionRenderers\"},{\"attributes\":{\"axis_label\":\"\",\"bounds\":\"auto\",\"formatter\":{\"id\":\"3799\"},\"major_label_orientation\":\"horizontal\",\"ticker\":{\"id\":\"3781\"}},\"id\":\"3780\",\"type\":\"LinearAxis\"},{\"attributes\":{\"axis\":{\"id\":\"3776\"},\"grid_line_color\":null,\"ticker\":null},\"id\":\"3779\",\"type\":\"Grid\"},{\"attributes\":{},\"id\":\"3839\",\"type\":\"Selection\"},{\"attributes\":{\"data_source\":{\"id\":\"3838\"},\"glyph\":{\"id\":\"3841\"},\"hover_glyph\":null,\"muted_glyph\":{\"id\":\"3843\"},\"nonselection_glyph\":{\"id\":\"3842\"},\"selection_glyph\":null,\"view\":{\"id\":\"3845\"}},\"id\":\"3844\",\"type\":\"GlyphRenderer\"},{\"attributes\":{\"line_alpha\":0.1,\"line_color\":\"#1f77b3\",\"line_width\":2,\"x\":{\"field\":\"index\"},\"y\":{\"field\":\"value\"}},\"id\":\"3805\",\"type\":\"Line\"},{\"attributes\":{\"callback\":null,\"renderers\":[{\"id\":\"3807\"},{\"id\":\"3825\"},{\"id\":\"3844\"}],\"tags\":[\"hv_created\"],\"tooltips\":[[\"Variable\",\"@{Variable}\"],[\"index\",\"@{index}\"],[\"value\",\"@{value}\"]]},\"id\":\"3764\",\"type\":\"HoverTool\"},{\"attributes\":{\"children\":[{\"id\":\"3761\"},{\"id\":\"3767\"},{\"id\":\"3967\"}],\"margin\":[0,0,0,0],\"name\":\"Row08191\",\"tags\":[\"embedded\"]},\"id\":\"3760\",\"type\":\"Row\"}],\"root_ids\":[\"3760\"]},\"title\":\"Bokeh Application\",\"version\":\"2.2.3\"}};\n",
       "    var render_items = [{\"docid\":\"46b3f670-f589-4caf-9841-354442e00577\",\"root_ids\":[\"3760\"],\"roots\":{\"3760\":\"8835ecd5-05f2-4dce-b56e-37afbb95efa6\"}}];\n",
       "    root.Bokeh.embed.embed_items_notebook(docs_json, render_items);\n",
       "  }\n",
       "  if (root.Bokeh !== undefined && root.Bokeh.Panel !== undefined) {\n",
       "    embed_document(root);\n",
       "  } else {\n",
       "    var attempts = 0;\n",
       "    var timer = setInterval(function(root) {\n",
       "      if (root.Bokeh !== undefined && root.Bokeh.Panel !== undefined) {\n",
       "        clearInterval(timer);\n",
       "        embed_document(root);\n",
       "      } else if (document.readyState == \"complete\") {\n",
       "        attempts++;\n",
       "        if (attempts > 100) {\n",
       "          clearInterval(timer);\n",
       "          console.log(\"Bokeh: ERROR: Unable to run BokehJS code because BokehJS library is missing\");\n",
       "        }\n",
       "      }\n",
       "    }, 10, root)\n",
       "  }\n",
       "})(window);</script>"
      ],
      "text/plain": [
       ":NdOverlay   [Variable]\n",
       "   :Curve   [index]   (value)"
      ]
     },
     "execution_count": 452,
     "metadata": {
      "application/vnd.holoviews_exec.v0+json": {
       "id": "3760"
      }
     },
     "output_type": "execute_result"
    }
   ],
   "source": [
    "pred_lr_1fvs2f(pred_lstm_lr_1f_df,pred_lstm_lr_2f_df)"
   ]
  },
  {
   "cell_type": "markdown",
   "metadata": {},
   "source": [
    "### Classification"
   ]
  },
  {
   "cell_type": "markdown",
   "metadata": {},
   "source": [
    "### Dense 1 Feature"
   ]
  },
  {
   "cell_type": "code",
   "execution_count": 524,
   "metadata": {},
   "outputs": [],
   "source": [
    "X, X_train, X_test, y, y_train, y_test = dataset_classification_1f(df_MSFT, \"MSFT\")\n",
    "X, X_train, X_test = scaler_classification_1f(X, X_train, X_test)"
   ]
  },
  {
   "cell_type": "code",
   "execution_count": 470,
   "metadata": {},
   "outputs": [
    {
     "data": {
      "text/plain": [
       "{'Dense 1 Feature': 0.5319148898124695}"
      ]
     },
     "execution_count": 470,
     "metadata": {},
     "output_type": "execute_result"
    }
   ],
   "source": [
    "history, model = dense_cl_1f(X_train, y_train)\n",
    "dic_dense_cl_1f = eva_dense_cl_1f(model, X_test, y_test)"
   ]
  },
  {
   "cell_type": "markdown",
   "metadata": {},
   "source": [
    "### LSTM 1 Feature"
   ]
  },
  {
   "cell_type": "code",
   "execution_count": 477,
   "metadata": {},
   "outputs": [
    {
     "data": {
      "text/plain": [
       "{'LSTM 1 Feature': 0.5319148898124695}"
      ]
     },
     "execution_count": 477,
     "metadata": {},
     "output_type": "execute_result"
    }
   ],
   "source": [
    "history, model = lstm_cl_1f(X_train, y_train)\n",
    "dic_lstm_cl_1f = eva_lstm_cl_1f(model, X_test, y_test)"
   ]
  },
  {
   "cell_type": "markdown",
   "metadata": {},
   "source": [
    "### Logistic Regression, SVC, Decision Tree Classifier, Random Forest Classifier, XGB Classifier"
   ]
  },
  {
   "cell_type": "code",
   "execution_count": 525,
   "metadata": {},
   "outputs": [
    {
     "name": "stdout",
     "output_type": "stream",
     "text": [
      "[04:13:17] WARNING: C:/Users/Administrator/workspace/xgboost-win64_release_1.3.0/src/learner.cc:1061: Starting in XGBoost 1.3.0, the default evaluation metric used with the objective 'binary:logistic' was changed from 'error' to 'logloss'. Explicitly set eval_metric if you'd like to restore the old behavior.\n"
     ]
    },
    {
     "data": {
      "text/plain": [
       "{'LogisticRegression': 0.5319148936170213,\n",
       " 'SVC': 0.5319148936170213,\n",
       " 'DecisionTreeClassifier': 0.5319148936170213,\n",
       " 'RandomForestClassifier': 0.5319148936170213,\n",
       " 'XGBClassifier': 0.46808510638297873}"
      ]
     },
     "execution_count": 525,
     "metadata": {},
     "output_type": "execute_result"
    }
   ],
   "source": [
    "sklearn_cl_models_1f = sklearn_cl_models(X_train, y_train, X_test, y_test)"
   ]
  },
  {
   "cell_type": "code",
   "execution_count": 530,
   "metadata": {},
   "outputs": [
    {
     "name": "stdout",
     "output_type": "stream",
     "text": [
      "[04:31:28] WARNING: C:/Users/Administrator/workspace/xgboost-win64_release_1.3.0/src/learner.cc:1061: Starting in XGBoost 1.3.0, the default evaluation metric used with the objective 'binary:logistic' was changed from 'error' to 'logloss'. Explicitly set eval_metric if you'd like to restore the old behavior.\n",
      "[04:31:28] WARNING: C:/Users/Administrator/workspace/xgboost-win64_release_1.3.0/src/learner.cc:1061: Starting in XGBoost 1.3.0, the default evaluation metric used with the objective 'binary:logistic' was changed from 'error' to 'logloss'. Explicitly set eval_metric if you'd like to restore the old behavior.\n",
      "[04:31:28] WARNING: C:/Users/Administrator/workspace/xgboost-win64_release_1.3.0/src/learner.cc:1061: Starting in XGBoost 1.3.0, the default evaluation metric used with the objective 'binary:logistic' was changed from 'error' to 'logloss'. Explicitly set eval_metric if you'd like to restore the old behavior.\n",
      "[04:31:28] WARNING: C:/Users/Administrator/workspace/xgboost-win64_release_1.3.0/src/learner.cc:1061: Starting in XGBoost 1.3.0, the default evaluation metric used with the objective 'binary:logistic' was changed from 'error' to 'logloss'. Explicitly set eval_metric if you'd like to restore the old behavior.\n",
      "[04:31:28] WARNING: C:/Users/Administrator/workspace/xgboost-win64_release_1.3.0/src/learner.cc:1061: Starting in XGBoost 1.3.0, the default evaluation metric used with the objective 'binary:logistic' was changed from 'error' to 'logloss'. Explicitly set eval_metric if you'd like to restore the old behavior.\n"
     ]
    },
    {
     "data": {
      "text/plain": [
       "{'LogisticRegression': 0.5355825734549138,\n",
       " 'SVC': 0.5157244174265451,\n",
       " 'DecisionTreeClassifier': 0.4032624113475178,\n",
       " 'RandomForestClassifier': 0.4060688956433637,\n",
       " 'XGBClassifier': 0.39896656534954406}"
      ]
     },
     "execution_count": 530,
     "metadata": {},
     "output_type": "execute_result"
    }
   ],
   "source": [
    "sklearn_cl_models_cross_validation_1f = sklearn_cl_models_cross_validation(X, y)"
   ]
  },
  {
   "cell_type": "code",
   "execution_count": 531,
   "metadata": {},
   "outputs": [
    {
     "data": {
      "text/plain": [
       "{'SVC Grid Search': 0.5319148936170213}"
      ]
     },
     "execution_count": 531,
     "metadata": {},
     "output_type": "execute_result"
    }
   ],
   "source": [
    "svc_optimizer_1f = svc_optimizer(X_train, y_train, X_test, y_test)"
   ]
  },
  {
   "cell_type": "markdown",
   "metadata": {},
   "source": [
    "### Dense 2 Features"
   ]
  },
  {
   "cell_type": "code",
   "execution_count": 526,
   "metadata": {},
   "outputs": [],
   "source": [
    "X, X_train, X_test, y, y_train, y_test = dataset_classification_2f(df_MSFT, \"MSFT\")\n",
    "X, X_train, X_test = scaler_classification_2f(X, X_train, X_test)"
   ]
  },
  {
   "cell_type": "code",
   "execution_count": 500,
   "metadata": {},
   "outputs": [
    {
     "data": {
      "text/plain": [
       "{'DENSE 2 Features': 0.5602836608886719}"
      ]
     },
     "execution_count": 500,
     "metadata": {},
     "output_type": "execute_result"
    }
   ],
   "source": [
    "history, model = dense_cl_2f(X_train, y_train)\n",
    "dic_dense_cl_2f = eva_dense_cl_2f(model, X_test, y_test)"
   ]
  },
  {
   "cell_type": "markdown",
   "metadata": {},
   "source": [
    "### LSTM 2 Features"
   ]
  },
  {
   "cell_type": "code",
   "execution_count": 504,
   "metadata": {},
   "outputs": [
    {
     "data": {
      "text/plain": [
       "{'LSTM 2 Features': 0.5319148898124695}"
      ]
     },
     "execution_count": 504,
     "metadata": {},
     "output_type": "execute_result"
    }
   ],
   "source": [
    "history, model = lstm_cl_2f(X_train, y_train)\n",
    "dic_lstm_cl_2f = eva_lstm_cl_2f(model, X_test, y_test)"
   ]
  },
  {
   "cell_type": "markdown",
   "metadata": {},
   "source": [
    "### Logistic Regression, SVC, Decision Tree Classifier, Random Forest Classifier, XGB Classifier"
   ]
  },
  {
   "cell_type": "code",
   "execution_count": 527,
   "metadata": {},
   "outputs": [
    {
     "name": "stdout",
     "output_type": "stream",
     "text": [
      "[04:13:36] WARNING: C:/Users/Administrator/workspace/xgboost-win64_release_1.3.0/src/learner.cc:1061: Starting in XGBoost 1.3.0, the default evaluation metric used with the objective 'binary:logistic' was changed from 'error' to 'logloss'. Explicitly set eval_metric if you'd like to restore the old behavior.\n"
     ]
    },
    {
     "data": {
      "text/plain": [
       "{'LogisticRegression': 0.5319148936170213,\n",
       " 'SVC': 0.5319148936170213,\n",
       " 'DecisionTreeClassifier': 0.48936170212765956,\n",
       " 'RandomForestClassifier': 0.5035460992907801,\n",
       " 'XGBClassifier': 0.46808510638297873}"
      ]
     },
     "execution_count": 527,
     "metadata": {},
     "output_type": "execute_result"
    }
   ],
   "source": [
    "sklearn_cl_models_2f = sklearn_cl_models(X_train, y_train, X_test, y_test)"
   ]
  },
  {
   "cell_type": "code",
   "execution_count": 532,
   "metadata": {},
   "outputs": [
    {
     "name": "stdout",
     "output_type": "stream",
     "text": [
      "[04:33:30] WARNING: C:/Users/Administrator/workspace/xgboost-win64_release_1.3.0/src/learner.cc:1061: Starting in XGBoost 1.3.0, the default evaluation metric used with the objective 'binary:logistic' was changed from 'error' to 'logloss'. Explicitly set eval_metric if you'd like to restore the old behavior.\n",
      "[04:33:30] WARNING: C:/Users/Administrator/workspace/xgboost-win64_release_1.3.0/src/learner.cc:1061: Starting in XGBoost 1.3.0, the default evaluation metric used with the objective 'binary:logistic' was changed from 'error' to 'logloss'. Explicitly set eval_metric if you'd like to restore the old behavior.\n",
      "[04:33:31] WARNING: C:/Users/Administrator/workspace/xgboost-win64_release_1.3.0/src/learner.cc:1061: Starting in XGBoost 1.3.0, the default evaluation metric used with the objective 'binary:logistic' was changed from 'error' to 'logloss'. Explicitly set eval_metric if you'd like to restore the old behavior.\n",
      "[04:33:31] WARNING: C:/Users/Administrator/workspace/xgboost-win64_release_1.3.0/src/learner.cc:1061: Starting in XGBoost 1.3.0, the default evaluation metric used with the objective 'binary:logistic' was changed from 'error' to 'logloss'. Explicitly set eval_metric if you'd like to restore the old behavior.\n",
      "[04:33:31] WARNING: C:/Users/Administrator/workspace/xgboost-win64_release_1.3.0/src/learner.cc:1061: Starting in XGBoost 1.3.0, the default evaluation metric used with the objective 'binary:logistic' was changed from 'error' to 'logloss'. Explicitly set eval_metric if you'd like to restore the old behavior.\n"
     ]
    },
    {
     "data": {
      "text/plain": [
       "{'LogisticRegression': 0.5355825734549138,\n",
       " 'SVC': 0.5157244174265451,\n",
       " 'DecisionTreeClassifier': 0.4032624113475178,\n",
       " 'RandomForestClassifier': 0.4060688956433637,\n",
       " 'XGBClassifier': 0.39896656534954406}"
      ]
     },
     "execution_count": 532,
     "metadata": {},
     "output_type": "execute_result"
    }
   ],
   "source": [
    "sklearn_cl_models_cross_validation_2f = sklearn_cl_models_cross_validation(X, y)"
   ]
  },
  {
   "cell_type": "code",
   "execution_count": 533,
   "metadata": {},
   "outputs": [
    {
     "data": {
      "text/plain": [
       "{'SVC Grid Search': 0.5319148936170213}"
      ]
     },
     "execution_count": 533,
     "metadata": {},
     "output_type": "execute_result"
    }
   ],
   "source": [
    "svc_optimizer_2f = svc_optimizer(X_train, y_train, X_test, y_test)"
   ]
  },
  {
   "cell_type": "markdown",
   "metadata": {},
   "source": [
    "## Scores between 1 Feature and 2 Features"
   ]
  },
  {
   "cell_type": "code",
   "execution_count": 537,
   "metadata": {},
   "outputs": [
    {
     "data": {
      "text/html": [
       "<div>\n",
       "<style scoped>\n",
       "    .dataframe tbody tr th:only-of-type {\n",
       "        vertical-align: middle;\n",
       "    }\n",
       "\n",
       "    .dataframe tbody tr th {\n",
       "        vertical-align: top;\n",
       "    }\n",
       "\n",
       "    .dataframe thead th {\n",
       "        text-align: right;\n",
       "    }\n",
       "</style>\n",
       "<table border=\"1\" class=\"dataframe\">\n",
       "  <thead>\n",
       "    <tr style=\"text-align: right;\">\n",
       "      <th></th>\n",
       "      <th>DecisionTreeClassifier</th>\n",
       "      <th>LSTM 2 Features</th>\n",
       "      <th>LogisticRegression</th>\n",
       "      <th>RandomForestClassifier</th>\n",
       "      <th>SVC</th>\n",
       "      <th>XGBClassifier</th>\n",
       "    </tr>\n",
       "  </thead>\n",
       "  <tbody>\n",
       "    <tr>\n",
       "      <th>0</th>\n",
       "      <td>NaN</td>\n",
       "      <td>0.531915</td>\n",
       "      <td>NaN</td>\n",
       "      <td>NaN</td>\n",
       "      <td>NaN</td>\n",
       "      <td>NaN</td>\n",
       "    </tr>\n",
       "    <tr>\n",
       "      <th>1</th>\n",
       "      <td>0.403262</td>\n",
       "      <td>NaN</td>\n",
       "      <td>0.535583</td>\n",
       "      <td>0.406069</td>\n",
       "      <td>0.515724</td>\n",
       "      <td>0.398967</td>\n",
       "    </tr>\n",
       "  </tbody>\n",
       "</table>\n",
       "</div>"
      ],
      "text/plain": [
       "   DecisionTreeClassifier  LSTM 2 Features  LogisticRegression  \\\n",
       "0                     NaN         0.531915                 NaN   \n",
       "1                0.403262              NaN            0.535583   \n",
       "\n",
       "   RandomForestClassifier       SVC  XGBClassifier  \n",
       "0                     NaN       NaN            NaN  \n",
       "1                0.406069  0.515724       0.398967  "
      ]
     },
     "execution_count": 537,
     "metadata": {},
     "output_type": "execute_result"
    }
   ],
   "source": [
    "score_df = score_df(dic_dense_cl_1f,\n",
    "                    dic_lstm_cl_1f,\n",
    "                    sklearn_cl_models_1f,\n",
    "                    sklearn_cl_models_cross_validation_1f,\n",
    "                    svc_optimizer_1f,\n",
    "                    dic_dense_cl_2f,\n",
    "                    dic_lstm_cl_2f,\n",
    "                    sklearn_cl_models_2f,\n",
    "                    sklearn_cl_models_cross_validation_2f,\n",
    "                    svc_optimizer_2f\n",
    "                   )"
   ]
  },
  {
   "cell_type": "code",
   "execution_count": null,
   "metadata": {},
   "outputs": [],
   "source": []
  }
 ],
 "metadata": {
  "kernelspec": {
   "display_name": "Python [conda env:x] *",
   "language": "python",
   "name": "conda-env-x-py"
  },
  "language_info": {
   "codemirror_mode": {
    "name": "ipython",
    "version": 3
   },
   "file_extension": ".py",
   "mimetype": "text/x-python",
   "name": "python",
   "nbconvert_exporter": "python",
   "pygments_lexer": "ipython3",
   "version": "3.7.9"
  }
 },
 "nbformat": 4,
 "nbformat_minor": 4
}
